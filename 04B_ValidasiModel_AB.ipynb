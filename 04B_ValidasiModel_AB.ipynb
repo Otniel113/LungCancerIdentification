{
  "cells": [
    {
      "cell_type": "markdown",
      "metadata": {
        "id": "ViTfqQr2dURH"
      },
      "source": [
        "<h2><b>Input : </b></h2>\n",
        "\n",
        "*   train_microarray.csv\n",
        "*   test_microarray.csv\n",
        "*   suspect.csv\n",
        "* ab1_features.pkl\n",
        "* ab2_features.pkl\n",
        "* ab3_features.pkl\n",
        "* ab1_model.pkl\n",
        "* ab2_model.pkl\n",
        "* ab3_model.pkl\n",
        "\n",
        "<h2><b>Output : </b></h2>\n",
        "\n",
        "*   test_microarray_prediksi_ab.csv\n",
        "*   suspect_prediksi_ab.csv"
      ]
    },
    {
      "cell_type": "markdown",
      "metadata": {
        "id": "0aI5ojzzdSea"
      },
      "source": [
        "# Run All"
      ]
    },
    {
      "cell_type": "markdown",
      "metadata": {
        "id": "Ozrhr7KzhXXS"
      },
      "source": [
        "## Import dan Load"
      ]
    },
    {
      "cell_type": "markdown",
      "metadata": {
        "id": "A8xYn1Gm6Rmz"
      },
      "source": [
        "Import library yang dibutuhkan"
      ]
    },
    {
      "cell_type": "code",
      "execution_count": 1,
      "metadata": {
        "id": "tWkeIwdadK_t"
      },
      "outputs": [],
      "source": [
        "import pandas as pd\n",
        "import numpy as np\n",
        "import seaborn as sns\n",
        "import matplotlib.pyplot as plt\n",
        "\n",
        "from sklearn.ensemble import RandomForestClassifier, AdaBoostClassifier\n",
        "from sklearn import metrics\n",
        "\n",
        "import joblib"
      ]
    },
    {
      "cell_type": "markdown",
      "metadata": {
        "id": "EA8tVIA56Tme"
      },
      "source": [
        "Load data"
      ]
    },
    {
      "cell_type": "code",
      "execution_count": 2,
      "metadata": {
        "id": "wYdgawQeeiYO"
      },
      "outputs": [],
      "source": [
        "df_train = pd.read_csv('https://drive.google.com/uc?id=1_r9KdY3hz2zVtCD6VZs2nHrnXBGbia8v')\n",
        "df_test = pd.read_csv('https://drive.google.com/uc?id=1MLHK9Ztyc2jgcN9h3jxBshKmyg10AGQj')\n",
        "df_suspect = pd.read_csv('https://drive.google.com/uc?id=1QVbwJZlaSkN0T77OlOucnJzy7MYJjE0R')"
      ]
    },
    {
      "cell_type": "markdown",
      "metadata": {
        "id": "zUwyeaIC6Vc-"
      },
      "source": [
        "Load hasil seleksi fitur"
      ]
    },
    {
      "cell_type": "code",
      "execution_count": 3,
      "metadata": {
        "id": "Wx9nsMB0vWb5"
      },
      "outputs": [],
      "source": [
        "ab1_features = joblib.load('ab1_features.pkl')\n",
        "ab2_features = joblib.load('ab2_features.pkl')\n",
        "ab3_features = joblib.load('ab3_features.pkl')"
      ]
    },
    {
      "cell_type": "markdown",
      "metadata": {
        "id": "vJW7OZag6XNh"
      },
      "source": [
        "Load hyperparameter tuning"
      ]
    },
    {
      "cell_type": "code",
      "execution_count": 4,
      "metadata": {
        "id": "wjb-jzV8vryq"
      },
      "outputs": [],
      "source": [
        "ab1_model = joblib.load('ab1_model.pkl')\n",
        "ab2_model = joblib.load('ab2_model.pkl')\n",
        "ab3_model = joblib.load('ab3_model.pkl')"
      ]
    },
    {
      "cell_type": "markdown",
      "metadata": {
        "id": "nH4n2JGX6ZJA"
      },
      "source": [
        "Mengambil fitur dari df_train awal"
      ]
    },
    {
      "cell_type": "code",
      "execution_count": 5,
      "metadata": {
        "id": "fS2JtuNowoFX"
      },
      "outputs": [],
      "source": [
        "df_train1 = df_train[ab1_features]\n",
        "df_train2 = df_train[ab2_features]\n",
        "df_train3 = df_train[ab3_features]"
      ]
    },
    {
      "cell_type": "markdown",
      "metadata": {
        "id": "d8E0z4ZA6bzz"
      },
      "source": [
        "Mengambil fitur dari df_test awal"
      ]
    },
    {
      "cell_type": "code",
      "execution_count": 6,
      "metadata": {
        "id": "SMZ3RSo9wx23"
      },
      "outputs": [],
      "source": [
        "df_test1 = df_test[ab1_features]\n",
        "df_test2 = df_test[ab2_features]\n",
        "df_test3 = df_test[ab3_features]"
      ]
    },
    {
      "cell_type": "markdown",
      "metadata": {
        "id": "ofP2C1US6fDy"
      },
      "source": [
        "Mengambil fitur dari df_suspect"
      ]
    },
    {
      "cell_type": "code",
      "execution_count": 7,
      "metadata": {
        "id": "DDjLjXb9ynME"
      },
      "outputs": [],
      "source": [
        "df_suspect1 = df_suspect[ab1_features[:-1]]\n",
        "df_suspect2 = df_suspect[ab2_features[:-1]]\n",
        "df_suspect3 = df_suspect[ab3_features[:-1]]"
      ]
    },
    {
      "cell_type": "markdown",
      "metadata": {
        "id": "xxytEywThbGG"
      },
      "source": [
        "### Contoh Data Train"
      ]
    },
    {
      "cell_type": "code",
      "execution_count": 8,
      "metadata": {
        "colab": {
          "base_uri": "https://localhost:8080/",
          "height": 0
        },
        "id": "NvtgkrQbgv25",
        "outputId": "28f488b3-7923-4fd4-e14e-30225119ed39"
      },
      "outputs": [
        {
          "output_type": "execute_result",
          "data": {
            "text/plain": [
              "   219678_x_at  217653_x_at  211996_s_at  214594_x_at  218155_x_at  \\\n",
              "0     2.672850     2.223647     2.894223     2.730180     2.708516   \n",
              "1     2.641439     2.350872     3.042087     2.856150     2.800348   \n",
              "2     2.510368     1.996011     2.624352     2.491994     2.648607   \n",
              "3     2.747069     2.666440     2.893101     2.998907     2.992614   \n",
              "4     2.785209     2.600757     3.116527     2.977250     2.859183   \n",
              "\n",
              "   207730_x_at  216609_at  207953_at  217679_x_at  210168_at  ...  \\\n",
              "0     3.043026   2.318040   2.462324     2.748249   2.698125  ...   \n",
              "1     3.129235   2.306733   2.476773     2.884853   2.293900  ...   \n",
              "2     2.921754   2.231919   2.371051     2.482992   2.399431  ...   \n",
              "3     3.307086   1.966337   2.863540     3.172937   2.521457  ...   \n",
              "4     3.216666   2.424350   2.650209     2.929251   2.155440  ...   \n",
              "\n",
              "   206544_x_at  200598_s_at  212515_s_at  213872_at  202435_s_at  211505_s_at  \\\n",
              "0     2.584677     2.614547     2.459196   2.371555     1.859862     2.449663   \n",
              "1     2.541014     2.464834     2.651054   2.249695     1.991560     2.262768   \n",
              "2     2.408422     2.665663     2.371579   2.046329     2.353558     2.198965   \n",
              "3     2.314931     2.019661     2.192755   2.209179     1.973821     1.916729   \n",
              "4     2.305571     2.192273     2.404168   2.183277     2.610495     1.939796   \n",
              "\n",
              "   40665_at  208654_s_at  202817_s_at  Label  \n",
              "0  2.464299     2.940958     2.116067    1.0  \n",
              "1  2.172416     2.875015     2.354635    0.0  \n",
              "2  2.246445     2.710852     1.743328    1.0  \n",
              "3  1.719003     2.110986     1.904847    1.0  \n",
              "4  1.736053     2.456737     1.935020    0.0  \n",
              "\n",
              "[5 rows x 201 columns]"
            ],
            "text/html": [
              "\n",
              "  <div id=\"df-92df3d40-b578-482c-a142-7a3b4c8deadf\">\n",
              "    <div class=\"colab-df-container\">\n",
              "      <div>\n",
              "<style scoped>\n",
              "    .dataframe tbody tr th:only-of-type {\n",
              "        vertical-align: middle;\n",
              "    }\n",
              "\n",
              "    .dataframe tbody tr th {\n",
              "        vertical-align: top;\n",
              "    }\n",
              "\n",
              "    .dataframe thead th {\n",
              "        text-align: right;\n",
              "    }\n",
              "</style>\n",
              "<table border=\"1\" class=\"dataframe\">\n",
              "  <thead>\n",
              "    <tr style=\"text-align: right;\">\n",
              "      <th></th>\n",
              "      <th>219678_x_at</th>\n",
              "      <th>217653_x_at</th>\n",
              "      <th>211996_s_at</th>\n",
              "      <th>214594_x_at</th>\n",
              "      <th>218155_x_at</th>\n",
              "      <th>207730_x_at</th>\n",
              "      <th>216609_at</th>\n",
              "      <th>207953_at</th>\n",
              "      <th>217679_x_at</th>\n",
              "      <th>210168_at</th>\n",
              "      <th>...</th>\n",
              "      <th>206544_x_at</th>\n",
              "      <th>200598_s_at</th>\n",
              "      <th>212515_s_at</th>\n",
              "      <th>213872_at</th>\n",
              "      <th>202435_s_at</th>\n",
              "      <th>211505_s_at</th>\n",
              "      <th>40665_at</th>\n",
              "      <th>208654_s_at</th>\n",
              "      <th>202817_s_at</th>\n",
              "      <th>Label</th>\n",
              "    </tr>\n",
              "  </thead>\n",
              "  <tbody>\n",
              "    <tr>\n",
              "      <th>0</th>\n",
              "      <td>2.672850</td>\n",
              "      <td>2.223647</td>\n",
              "      <td>2.894223</td>\n",
              "      <td>2.730180</td>\n",
              "      <td>2.708516</td>\n",
              "      <td>3.043026</td>\n",
              "      <td>2.318040</td>\n",
              "      <td>2.462324</td>\n",
              "      <td>2.748249</td>\n",
              "      <td>2.698125</td>\n",
              "      <td>...</td>\n",
              "      <td>2.584677</td>\n",
              "      <td>2.614547</td>\n",
              "      <td>2.459196</td>\n",
              "      <td>2.371555</td>\n",
              "      <td>1.859862</td>\n",
              "      <td>2.449663</td>\n",
              "      <td>2.464299</td>\n",
              "      <td>2.940958</td>\n",
              "      <td>2.116067</td>\n",
              "      <td>1.0</td>\n",
              "    </tr>\n",
              "    <tr>\n",
              "      <th>1</th>\n",
              "      <td>2.641439</td>\n",
              "      <td>2.350872</td>\n",
              "      <td>3.042087</td>\n",
              "      <td>2.856150</td>\n",
              "      <td>2.800348</td>\n",
              "      <td>3.129235</td>\n",
              "      <td>2.306733</td>\n",
              "      <td>2.476773</td>\n",
              "      <td>2.884853</td>\n",
              "      <td>2.293900</td>\n",
              "      <td>...</td>\n",
              "      <td>2.541014</td>\n",
              "      <td>2.464834</td>\n",
              "      <td>2.651054</td>\n",
              "      <td>2.249695</td>\n",
              "      <td>1.991560</td>\n",
              "      <td>2.262768</td>\n",
              "      <td>2.172416</td>\n",
              "      <td>2.875015</td>\n",
              "      <td>2.354635</td>\n",
              "      <td>0.0</td>\n",
              "    </tr>\n",
              "    <tr>\n",
              "      <th>2</th>\n",
              "      <td>2.510368</td>\n",
              "      <td>1.996011</td>\n",
              "      <td>2.624352</td>\n",
              "      <td>2.491994</td>\n",
              "      <td>2.648607</td>\n",
              "      <td>2.921754</td>\n",
              "      <td>2.231919</td>\n",
              "      <td>2.371051</td>\n",
              "      <td>2.482992</td>\n",
              "      <td>2.399431</td>\n",
              "      <td>...</td>\n",
              "      <td>2.408422</td>\n",
              "      <td>2.665663</td>\n",
              "      <td>2.371579</td>\n",
              "      <td>2.046329</td>\n",
              "      <td>2.353558</td>\n",
              "      <td>2.198965</td>\n",
              "      <td>2.246445</td>\n",
              "      <td>2.710852</td>\n",
              "      <td>1.743328</td>\n",
              "      <td>1.0</td>\n",
              "    </tr>\n",
              "    <tr>\n",
              "      <th>3</th>\n",
              "      <td>2.747069</td>\n",
              "      <td>2.666440</td>\n",
              "      <td>2.893101</td>\n",
              "      <td>2.998907</td>\n",
              "      <td>2.992614</td>\n",
              "      <td>3.307086</td>\n",
              "      <td>1.966337</td>\n",
              "      <td>2.863540</td>\n",
              "      <td>3.172937</td>\n",
              "      <td>2.521457</td>\n",
              "      <td>...</td>\n",
              "      <td>2.314931</td>\n",
              "      <td>2.019661</td>\n",
              "      <td>2.192755</td>\n",
              "      <td>2.209179</td>\n",
              "      <td>1.973821</td>\n",
              "      <td>1.916729</td>\n",
              "      <td>1.719003</td>\n",
              "      <td>2.110986</td>\n",
              "      <td>1.904847</td>\n",
              "      <td>1.0</td>\n",
              "    </tr>\n",
              "    <tr>\n",
              "      <th>4</th>\n",
              "      <td>2.785209</td>\n",
              "      <td>2.600757</td>\n",
              "      <td>3.116527</td>\n",
              "      <td>2.977250</td>\n",
              "      <td>2.859183</td>\n",
              "      <td>3.216666</td>\n",
              "      <td>2.424350</td>\n",
              "      <td>2.650209</td>\n",
              "      <td>2.929251</td>\n",
              "      <td>2.155440</td>\n",
              "      <td>...</td>\n",
              "      <td>2.305571</td>\n",
              "      <td>2.192273</td>\n",
              "      <td>2.404168</td>\n",
              "      <td>2.183277</td>\n",
              "      <td>2.610495</td>\n",
              "      <td>1.939796</td>\n",
              "      <td>1.736053</td>\n",
              "      <td>2.456737</td>\n",
              "      <td>1.935020</td>\n",
              "      <td>0.0</td>\n",
              "    </tr>\n",
              "  </tbody>\n",
              "</table>\n",
              "<p>5 rows × 201 columns</p>\n",
              "</div>\n",
              "      <button class=\"colab-df-convert\" onclick=\"convertToInteractive('df-92df3d40-b578-482c-a142-7a3b4c8deadf')\"\n",
              "              title=\"Convert this dataframe to an interactive table.\"\n",
              "              style=\"display:none;\">\n",
              "        \n",
              "  <svg xmlns=\"http://www.w3.org/2000/svg\" height=\"24px\"viewBox=\"0 0 24 24\"\n",
              "       width=\"24px\">\n",
              "    <path d=\"M0 0h24v24H0V0z\" fill=\"none\"/>\n",
              "    <path d=\"M18.56 5.44l.94 2.06.94-2.06 2.06-.94-2.06-.94-.94-2.06-.94 2.06-2.06.94zm-11 1L8.5 8.5l.94-2.06 2.06-.94-2.06-.94L8.5 2.5l-.94 2.06-2.06.94zm10 10l.94 2.06.94-2.06 2.06-.94-2.06-.94-.94-2.06-.94 2.06-2.06.94z\"/><path d=\"M17.41 7.96l-1.37-1.37c-.4-.4-.92-.59-1.43-.59-.52 0-1.04.2-1.43.59L10.3 9.45l-7.72 7.72c-.78.78-.78 2.05 0 2.83L4 21.41c.39.39.9.59 1.41.59.51 0 1.02-.2 1.41-.59l7.78-7.78 2.81-2.81c.8-.78.8-2.07 0-2.86zM5.41 20L4 18.59l7.72-7.72 1.47 1.35L5.41 20z\"/>\n",
              "  </svg>\n",
              "      </button>\n",
              "      \n",
              "  <style>\n",
              "    .colab-df-container {\n",
              "      display:flex;\n",
              "      flex-wrap:wrap;\n",
              "      gap: 12px;\n",
              "    }\n",
              "\n",
              "    .colab-df-convert {\n",
              "      background-color: #E8F0FE;\n",
              "      border: none;\n",
              "      border-radius: 50%;\n",
              "      cursor: pointer;\n",
              "      display: none;\n",
              "      fill: #1967D2;\n",
              "      height: 32px;\n",
              "      padding: 0 0 0 0;\n",
              "      width: 32px;\n",
              "    }\n",
              "\n",
              "    .colab-df-convert:hover {\n",
              "      background-color: #E2EBFA;\n",
              "      box-shadow: 0px 1px 2px rgba(60, 64, 67, 0.3), 0px 1px 3px 1px rgba(60, 64, 67, 0.15);\n",
              "      fill: #174EA6;\n",
              "    }\n",
              "\n",
              "    [theme=dark] .colab-df-convert {\n",
              "      background-color: #3B4455;\n",
              "      fill: #D2E3FC;\n",
              "    }\n",
              "\n",
              "    [theme=dark] .colab-df-convert:hover {\n",
              "      background-color: #434B5C;\n",
              "      box-shadow: 0px 1px 3px 1px rgba(0, 0, 0, 0.15);\n",
              "      filter: drop-shadow(0px 1px 2px rgba(0, 0, 0, 0.3));\n",
              "      fill: #FFFFFF;\n",
              "    }\n",
              "  </style>\n",
              "\n",
              "      <script>\n",
              "        const buttonEl =\n",
              "          document.querySelector('#df-92df3d40-b578-482c-a142-7a3b4c8deadf button.colab-df-convert');\n",
              "        buttonEl.style.display =\n",
              "          google.colab.kernel.accessAllowed ? 'block' : 'none';\n",
              "\n",
              "        async function convertToInteractive(key) {\n",
              "          const element = document.querySelector('#df-92df3d40-b578-482c-a142-7a3b4c8deadf');\n",
              "          const dataTable =\n",
              "            await google.colab.kernel.invokeFunction('convertToInteractive',\n",
              "                                                     [key], {});\n",
              "          if (!dataTable) return;\n",
              "\n",
              "          const docLinkHtml = 'Like what you see? Visit the ' +\n",
              "            '<a target=\"_blank\" href=https://colab.research.google.com/notebooks/data_table.ipynb>data table notebook</a>'\n",
              "            + ' to learn more about interactive tables.';\n",
              "          element.innerHTML = '';\n",
              "          dataTable['output_type'] = 'display_data';\n",
              "          await google.colab.output.renderOutput(dataTable, element);\n",
              "          const docLink = document.createElement('div');\n",
              "          docLink.innerHTML = docLinkHtml;\n",
              "          element.appendChild(docLink);\n",
              "        }\n",
              "      </script>\n",
              "    </div>\n",
              "  </div>\n",
              "  "
            ]
          },
          "metadata": {},
          "execution_count": 8
        }
      ],
      "source": [
        "df_train1.head()"
      ]
    },
    {
      "cell_type": "code",
      "execution_count": 9,
      "metadata": {
        "colab": {
          "base_uri": "https://localhost:8080/"
        },
        "id": "JrlD8rgOg_fB",
        "outputId": "4ce5a9c9-3462-4edf-afc1-b9f2bfc6b57b"
      },
      "outputs": [
        {
          "output_type": "execute_result",
          "data": {
            "text/plain": [
              "(130, 201)"
            ]
          },
          "metadata": {},
          "execution_count": 9
        }
      ],
      "source": [
        "df_train1.shape"
      ]
    },
    {
      "cell_type": "markdown",
      "metadata": {
        "id": "t2bLyadvhddJ"
      },
      "source": [
        "### Contoh Data Test"
      ]
    },
    {
      "cell_type": "code",
      "execution_count": 10,
      "metadata": {
        "colab": {
          "base_uri": "https://localhost:8080/",
          "height": 0
        },
        "id": "ebnH4y9bhBZu",
        "outputId": "5ce19701-2eb5-48fd-a440-75e872b5136d"
      },
      "outputs": [
        {
          "output_type": "execute_result",
          "data": {
            "text/plain": [
              "   219678_x_at  217653_x_at  211996_s_at  214594_x_at  218155_x_at  \\\n",
              "0     2.682649     2.491295     3.053541     2.879382     2.765767   \n",
              "1     2.583703     2.301534     2.982047     2.679233     2.639580   \n",
              "2     2.745488     2.648519     3.132124     3.003124     2.861854   \n",
              "3     2.587567     2.186185     2.970712     2.382092     2.670212   \n",
              "4     2.683211     2.495521     2.992009     2.825098     2.803015   \n",
              "\n",
              "   207730_x_at  216609_at  207953_at  217679_x_at  210168_at  ...  \\\n",
              "0     3.196351   2.173563   2.563004     2.862181   3.043402  ...   \n",
              "1     3.031018   2.115219   2.417601     2.741015   2.322518  ...   \n",
              "2     3.208866   2.351569   2.644738     2.995607   2.213548  ...   \n",
              "3     2.937619   1.981625   2.386174     2.594038   3.005533  ...   \n",
              "4     3.197466   2.487320   2.535420     2.884917   2.327932  ...   \n",
              "\n",
              "   206544_x_at  200598_s_at  212515_s_at  213872_at  202435_s_at  211505_s_at  \\\n",
              "0     2.661946     2.807259     2.593056   2.478071     1.763177     2.544379   \n",
              "1     2.792533     2.718709     2.508773   2.403627     2.687136     2.475043   \n",
              "2     2.587525     2.506791     2.442039   2.203399     2.141496     2.269346   \n",
              "3     2.622708     2.492131     2.523846   2.295058     1.839688     2.339558   \n",
              "4     2.573472     2.520810     2.463126   2.196303     2.911883     2.297262   \n",
              "\n",
              "   40665_at  208654_s_at  202817_s_at  Label  \n",
              "0  2.176878     3.165896     2.381412    1.0  \n",
              "1  2.469361     2.921125     2.171247    1.0  \n",
              "2  2.317460     2.827349     2.254215    0.0  \n",
              "3  2.330069     2.831537     2.027462    1.0  \n",
              "4  1.937477     2.897335     2.047644    1.0  \n",
              "\n",
              "[5 rows x 201 columns]"
            ],
            "text/html": [
              "\n",
              "  <div id=\"df-bc8894c8-50f8-4433-b570-2962ceee9cec\">\n",
              "    <div class=\"colab-df-container\">\n",
              "      <div>\n",
              "<style scoped>\n",
              "    .dataframe tbody tr th:only-of-type {\n",
              "        vertical-align: middle;\n",
              "    }\n",
              "\n",
              "    .dataframe tbody tr th {\n",
              "        vertical-align: top;\n",
              "    }\n",
              "\n",
              "    .dataframe thead th {\n",
              "        text-align: right;\n",
              "    }\n",
              "</style>\n",
              "<table border=\"1\" class=\"dataframe\">\n",
              "  <thead>\n",
              "    <tr style=\"text-align: right;\">\n",
              "      <th></th>\n",
              "      <th>219678_x_at</th>\n",
              "      <th>217653_x_at</th>\n",
              "      <th>211996_s_at</th>\n",
              "      <th>214594_x_at</th>\n",
              "      <th>218155_x_at</th>\n",
              "      <th>207730_x_at</th>\n",
              "      <th>216609_at</th>\n",
              "      <th>207953_at</th>\n",
              "      <th>217679_x_at</th>\n",
              "      <th>210168_at</th>\n",
              "      <th>...</th>\n",
              "      <th>206544_x_at</th>\n",
              "      <th>200598_s_at</th>\n",
              "      <th>212515_s_at</th>\n",
              "      <th>213872_at</th>\n",
              "      <th>202435_s_at</th>\n",
              "      <th>211505_s_at</th>\n",
              "      <th>40665_at</th>\n",
              "      <th>208654_s_at</th>\n",
              "      <th>202817_s_at</th>\n",
              "      <th>Label</th>\n",
              "    </tr>\n",
              "  </thead>\n",
              "  <tbody>\n",
              "    <tr>\n",
              "      <th>0</th>\n",
              "      <td>2.682649</td>\n",
              "      <td>2.491295</td>\n",
              "      <td>3.053541</td>\n",
              "      <td>2.879382</td>\n",
              "      <td>2.765767</td>\n",
              "      <td>3.196351</td>\n",
              "      <td>2.173563</td>\n",
              "      <td>2.563004</td>\n",
              "      <td>2.862181</td>\n",
              "      <td>3.043402</td>\n",
              "      <td>...</td>\n",
              "      <td>2.661946</td>\n",
              "      <td>2.807259</td>\n",
              "      <td>2.593056</td>\n",
              "      <td>2.478071</td>\n",
              "      <td>1.763177</td>\n",
              "      <td>2.544379</td>\n",
              "      <td>2.176878</td>\n",
              "      <td>3.165896</td>\n",
              "      <td>2.381412</td>\n",
              "      <td>1.0</td>\n",
              "    </tr>\n",
              "    <tr>\n",
              "      <th>1</th>\n",
              "      <td>2.583703</td>\n",
              "      <td>2.301534</td>\n",
              "      <td>2.982047</td>\n",
              "      <td>2.679233</td>\n",
              "      <td>2.639580</td>\n",
              "      <td>3.031018</td>\n",
              "      <td>2.115219</td>\n",
              "      <td>2.417601</td>\n",
              "      <td>2.741015</td>\n",
              "      <td>2.322518</td>\n",
              "      <td>...</td>\n",
              "      <td>2.792533</td>\n",
              "      <td>2.718709</td>\n",
              "      <td>2.508773</td>\n",
              "      <td>2.403627</td>\n",
              "      <td>2.687136</td>\n",
              "      <td>2.475043</td>\n",
              "      <td>2.469361</td>\n",
              "      <td>2.921125</td>\n",
              "      <td>2.171247</td>\n",
              "      <td>1.0</td>\n",
              "    </tr>\n",
              "    <tr>\n",
              "      <th>2</th>\n",
              "      <td>2.745488</td>\n",
              "      <td>2.648519</td>\n",
              "      <td>3.132124</td>\n",
              "      <td>3.003124</td>\n",
              "      <td>2.861854</td>\n",
              "      <td>3.208866</td>\n",
              "      <td>2.351569</td>\n",
              "      <td>2.644738</td>\n",
              "      <td>2.995607</td>\n",
              "      <td>2.213548</td>\n",
              "      <td>...</td>\n",
              "      <td>2.587525</td>\n",
              "      <td>2.506791</td>\n",
              "      <td>2.442039</td>\n",
              "      <td>2.203399</td>\n",
              "      <td>2.141496</td>\n",
              "      <td>2.269346</td>\n",
              "      <td>2.317460</td>\n",
              "      <td>2.827349</td>\n",
              "      <td>2.254215</td>\n",
              "      <td>0.0</td>\n",
              "    </tr>\n",
              "    <tr>\n",
              "      <th>3</th>\n",
              "      <td>2.587567</td>\n",
              "      <td>2.186185</td>\n",
              "      <td>2.970712</td>\n",
              "      <td>2.382092</td>\n",
              "      <td>2.670212</td>\n",
              "      <td>2.937619</td>\n",
              "      <td>1.981625</td>\n",
              "      <td>2.386174</td>\n",
              "      <td>2.594038</td>\n",
              "      <td>3.005533</td>\n",
              "      <td>...</td>\n",
              "      <td>2.622708</td>\n",
              "      <td>2.492131</td>\n",
              "      <td>2.523846</td>\n",
              "      <td>2.295058</td>\n",
              "      <td>1.839688</td>\n",
              "      <td>2.339558</td>\n",
              "      <td>2.330069</td>\n",
              "      <td>2.831537</td>\n",
              "      <td>2.027462</td>\n",
              "      <td>1.0</td>\n",
              "    </tr>\n",
              "    <tr>\n",
              "      <th>4</th>\n",
              "      <td>2.683211</td>\n",
              "      <td>2.495521</td>\n",
              "      <td>2.992009</td>\n",
              "      <td>2.825098</td>\n",
              "      <td>2.803015</td>\n",
              "      <td>3.197466</td>\n",
              "      <td>2.487320</td>\n",
              "      <td>2.535420</td>\n",
              "      <td>2.884917</td>\n",
              "      <td>2.327932</td>\n",
              "      <td>...</td>\n",
              "      <td>2.573472</td>\n",
              "      <td>2.520810</td>\n",
              "      <td>2.463126</td>\n",
              "      <td>2.196303</td>\n",
              "      <td>2.911883</td>\n",
              "      <td>2.297262</td>\n",
              "      <td>1.937477</td>\n",
              "      <td>2.897335</td>\n",
              "      <td>2.047644</td>\n",
              "      <td>1.0</td>\n",
              "    </tr>\n",
              "  </tbody>\n",
              "</table>\n",
              "<p>5 rows × 201 columns</p>\n",
              "</div>\n",
              "      <button class=\"colab-df-convert\" onclick=\"convertToInteractive('df-bc8894c8-50f8-4433-b570-2962ceee9cec')\"\n",
              "              title=\"Convert this dataframe to an interactive table.\"\n",
              "              style=\"display:none;\">\n",
              "        \n",
              "  <svg xmlns=\"http://www.w3.org/2000/svg\" height=\"24px\"viewBox=\"0 0 24 24\"\n",
              "       width=\"24px\">\n",
              "    <path d=\"M0 0h24v24H0V0z\" fill=\"none\"/>\n",
              "    <path d=\"M18.56 5.44l.94 2.06.94-2.06 2.06-.94-2.06-.94-.94-2.06-.94 2.06-2.06.94zm-11 1L8.5 8.5l.94-2.06 2.06-.94-2.06-.94L8.5 2.5l-.94 2.06-2.06.94zm10 10l.94 2.06.94-2.06 2.06-.94-2.06-.94-.94-2.06-.94 2.06-2.06.94z\"/><path d=\"M17.41 7.96l-1.37-1.37c-.4-.4-.92-.59-1.43-.59-.52 0-1.04.2-1.43.59L10.3 9.45l-7.72 7.72c-.78.78-.78 2.05 0 2.83L4 21.41c.39.39.9.59 1.41.59.51 0 1.02-.2 1.41-.59l7.78-7.78 2.81-2.81c.8-.78.8-2.07 0-2.86zM5.41 20L4 18.59l7.72-7.72 1.47 1.35L5.41 20z\"/>\n",
              "  </svg>\n",
              "      </button>\n",
              "      \n",
              "  <style>\n",
              "    .colab-df-container {\n",
              "      display:flex;\n",
              "      flex-wrap:wrap;\n",
              "      gap: 12px;\n",
              "    }\n",
              "\n",
              "    .colab-df-convert {\n",
              "      background-color: #E8F0FE;\n",
              "      border: none;\n",
              "      border-radius: 50%;\n",
              "      cursor: pointer;\n",
              "      display: none;\n",
              "      fill: #1967D2;\n",
              "      height: 32px;\n",
              "      padding: 0 0 0 0;\n",
              "      width: 32px;\n",
              "    }\n",
              "\n",
              "    .colab-df-convert:hover {\n",
              "      background-color: #E2EBFA;\n",
              "      box-shadow: 0px 1px 2px rgba(60, 64, 67, 0.3), 0px 1px 3px 1px rgba(60, 64, 67, 0.15);\n",
              "      fill: #174EA6;\n",
              "    }\n",
              "\n",
              "    [theme=dark] .colab-df-convert {\n",
              "      background-color: #3B4455;\n",
              "      fill: #D2E3FC;\n",
              "    }\n",
              "\n",
              "    [theme=dark] .colab-df-convert:hover {\n",
              "      background-color: #434B5C;\n",
              "      box-shadow: 0px 1px 3px 1px rgba(0, 0, 0, 0.15);\n",
              "      filter: drop-shadow(0px 1px 2px rgba(0, 0, 0, 0.3));\n",
              "      fill: #FFFFFF;\n",
              "    }\n",
              "  </style>\n",
              "\n",
              "      <script>\n",
              "        const buttonEl =\n",
              "          document.querySelector('#df-bc8894c8-50f8-4433-b570-2962ceee9cec button.colab-df-convert');\n",
              "        buttonEl.style.display =\n",
              "          google.colab.kernel.accessAllowed ? 'block' : 'none';\n",
              "\n",
              "        async function convertToInteractive(key) {\n",
              "          const element = document.querySelector('#df-bc8894c8-50f8-4433-b570-2962ceee9cec');\n",
              "          const dataTable =\n",
              "            await google.colab.kernel.invokeFunction('convertToInteractive',\n",
              "                                                     [key], {});\n",
              "          if (!dataTable) return;\n",
              "\n",
              "          const docLinkHtml = 'Like what you see? Visit the ' +\n",
              "            '<a target=\"_blank\" href=https://colab.research.google.com/notebooks/data_table.ipynb>data table notebook</a>'\n",
              "            + ' to learn more about interactive tables.';\n",
              "          element.innerHTML = '';\n",
              "          dataTable['output_type'] = 'display_data';\n",
              "          await google.colab.output.renderOutput(dataTable, element);\n",
              "          const docLink = document.createElement('div');\n",
              "          docLink.innerHTML = docLinkHtml;\n",
              "          element.appendChild(docLink);\n",
              "        }\n",
              "      </script>\n",
              "    </div>\n",
              "  </div>\n",
              "  "
            ]
          },
          "metadata": {},
          "execution_count": 10
        }
      ],
      "source": [
        "df_test1.head()"
      ]
    },
    {
      "cell_type": "code",
      "execution_count": 11,
      "metadata": {
        "colab": {
          "base_uri": "https://localhost:8080/"
        },
        "id": "1aFAnyQPhEjO",
        "outputId": "ac7e5abc-5c8a-4855-c04d-5ddf758200a4"
      },
      "outputs": [
        {
          "output_type": "execute_result",
          "data": {
            "text/plain": [
              "(57, 201)"
            ]
          },
          "metadata": {},
          "execution_count": 11
        }
      ],
      "source": [
        "df_test1.shape"
      ]
    },
    {
      "cell_type": "markdown",
      "metadata": {
        "id": "es5TB-Bbhi_i"
      },
      "source": [
        "### Suspect"
      ]
    },
    {
      "cell_type": "code",
      "execution_count": 12,
      "metadata": {
        "colab": {
          "base_uri": "https://localhost:8080/",
          "height": 0
        },
        "id": "ZdB383_thG22",
        "outputId": "224c9979-f126-4378-8a8a-3b6f2adff2d0"
      },
      "outputs": [
        {
          "output_type": "execute_result",
          "data": {
            "text/plain": [
              "   219678_x_at  217653_x_at  211996_s_at  214594_x_at  218155_x_at  \\\n",
              "0     2.770134     2.559232     2.904486     2.924660     2.958922   \n",
              "1     2.564952     2.484916     2.435804     2.751464     2.922157   \n",
              "2     2.872871     2.352785     2.557198     2.925518     3.073885   \n",
              "3     2.813643     2.559049     2.656475     2.763619     2.878468   \n",
              "4     2.756731     2.453675     2.912560     2.780565     2.861779   \n",
              "\n",
              "   207730_x_at  216609_at  207953_at  217679_x_at  210168_at  ...  \\\n",
              "0     3.202525   1.645253   2.650864     2.997475   2.456140  ...   \n",
              "1     3.176072   1.737874   2.718411     2.893192   2.666058  ...   \n",
              "2     3.295611   2.022472   2.774471     3.149213   2.749327  ...   \n",
              "3     3.184148   1.811895   2.649418     2.847074   2.590253  ...   \n",
              "4     3.130010   2.357249   2.690230     2.971505   2.549438  ...   \n",
              "\n",
              "   208750_s_at  206544_x_at  200598_s_at  212515_s_at  213872_at  202435_s_at  \\\n",
              "0     2.094176     2.232805     2.034840     2.205908   2.190136     1.975153   \n",
              "1     2.140845     2.321551     2.117229     2.022668   2.221907     2.147601   \n",
              "2     2.284768     2.505508     2.427358     2.215434   2.443355     2.111180   \n",
              "3     2.220196     2.416417     2.623331     2.167563   2.244117     2.034676   \n",
              "4     2.163216     2.141057     2.238103     1.933977   2.108563     2.101394   \n",
              "\n",
              "   211505_s_at  40665_at  208654_s_at  202817_s_at  \n",
              "0     1.901048  2.095309     2.322724     1.853589  \n",
              "1     1.973030  1.626862     2.192483     1.758057  \n",
              "2     2.088480  2.146680     2.810592     1.972984  \n",
              "3     1.767381  1.739563     2.192905     1.801084  \n",
              "4     1.759157  1.764144     2.334576     1.823045  \n",
              "\n",
              "[5 rows x 200 columns]"
            ],
            "text/html": [
              "\n",
              "  <div id=\"df-689ecba4-1799-41f4-afea-c12315f24427\">\n",
              "    <div class=\"colab-df-container\">\n",
              "      <div>\n",
              "<style scoped>\n",
              "    .dataframe tbody tr th:only-of-type {\n",
              "        vertical-align: middle;\n",
              "    }\n",
              "\n",
              "    .dataframe tbody tr th {\n",
              "        vertical-align: top;\n",
              "    }\n",
              "\n",
              "    .dataframe thead th {\n",
              "        text-align: right;\n",
              "    }\n",
              "</style>\n",
              "<table border=\"1\" class=\"dataframe\">\n",
              "  <thead>\n",
              "    <tr style=\"text-align: right;\">\n",
              "      <th></th>\n",
              "      <th>219678_x_at</th>\n",
              "      <th>217653_x_at</th>\n",
              "      <th>211996_s_at</th>\n",
              "      <th>214594_x_at</th>\n",
              "      <th>218155_x_at</th>\n",
              "      <th>207730_x_at</th>\n",
              "      <th>216609_at</th>\n",
              "      <th>207953_at</th>\n",
              "      <th>217679_x_at</th>\n",
              "      <th>210168_at</th>\n",
              "      <th>...</th>\n",
              "      <th>208750_s_at</th>\n",
              "      <th>206544_x_at</th>\n",
              "      <th>200598_s_at</th>\n",
              "      <th>212515_s_at</th>\n",
              "      <th>213872_at</th>\n",
              "      <th>202435_s_at</th>\n",
              "      <th>211505_s_at</th>\n",
              "      <th>40665_at</th>\n",
              "      <th>208654_s_at</th>\n",
              "      <th>202817_s_at</th>\n",
              "    </tr>\n",
              "  </thead>\n",
              "  <tbody>\n",
              "    <tr>\n",
              "      <th>0</th>\n",
              "      <td>2.770134</td>\n",
              "      <td>2.559232</td>\n",
              "      <td>2.904486</td>\n",
              "      <td>2.924660</td>\n",
              "      <td>2.958922</td>\n",
              "      <td>3.202525</td>\n",
              "      <td>1.645253</td>\n",
              "      <td>2.650864</td>\n",
              "      <td>2.997475</td>\n",
              "      <td>2.456140</td>\n",
              "      <td>...</td>\n",
              "      <td>2.094176</td>\n",
              "      <td>2.232805</td>\n",
              "      <td>2.034840</td>\n",
              "      <td>2.205908</td>\n",
              "      <td>2.190136</td>\n",
              "      <td>1.975153</td>\n",
              "      <td>1.901048</td>\n",
              "      <td>2.095309</td>\n",
              "      <td>2.322724</td>\n",
              "      <td>1.853589</td>\n",
              "    </tr>\n",
              "    <tr>\n",
              "      <th>1</th>\n",
              "      <td>2.564952</td>\n",
              "      <td>2.484916</td>\n",
              "      <td>2.435804</td>\n",
              "      <td>2.751464</td>\n",
              "      <td>2.922157</td>\n",
              "      <td>3.176072</td>\n",
              "      <td>1.737874</td>\n",
              "      <td>2.718411</td>\n",
              "      <td>2.893192</td>\n",
              "      <td>2.666058</td>\n",
              "      <td>...</td>\n",
              "      <td>2.140845</td>\n",
              "      <td>2.321551</td>\n",
              "      <td>2.117229</td>\n",
              "      <td>2.022668</td>\n",
              "      <td>2.221907</td>\n",
              "      <td>2.147601</td>\n",
              "      <td>1.973030</td>\n",
              "      <td>1.626862</td>\n",
              "      <td>2.192483</td>\n",
              "      <td>1.758057</td>\n",
              "    </tr>\n",
              "    <tr>\n",
              "      <th>2</th>\n",
              "      <td>2.872871</td>\n",
              "      <td>2.352785</td>\n",
              "      <td>2.557198</td>\n",
              "      <td>2.925518</td>\n",
              "      <td>3.073885</td>\n",
              "      <td>3.295611</td>\n",
              "      <td>2.022472</td>\n",
              "      <td>2.774471</td>\n",
              "      <td>3.149213</td>\n",
              "      <td>2.749327</td>\n",
              "      <td>...</td>\n",
              "      <td>2.284768</td>\n",
              "      <td>2.505508</td>\n",
              "      <td>2.427358</td>\n",
              "      <td>2.215434</td>\n",
              "      <td>2.443355</td>\n",
              "      <td>2.111180</td>\n",
              "      <td>2.088480</td>\n",
              "      <td>2.146680</td>\n",
              "      <td>2.810592</td>\n",
              "      <td>1.972984</td>\n",
              "    </tr>\n",
              "    <tr>\n",
              "      <th>3</th>\n",
              "      <td>2.813643</td>\n",
              "      <td>2.559049</td>\n",
              "      <td>2.656475</td>\n",
              "      <td>2.763619</td>\n",
              "      <td>2.878468</td>\n",
              "      <td>3.184148</td>\n",
              "      <td>1.811895</td>\n",
              "      <td>2.649418</td>\n",
              "      <td>2.847074</td>\n",
              "      <td>2.590253</td>\n",
              "      <td>...</td>\n",
              "      <td>2.220196</td>\n",
              "      <td>2.416417</td>\n",
              "      <td>2.623331</td>\n",
              "      <td>2.167563</td>\n",
              "      <td>2.244117</td>\n",
              "      <td>2.034676</td>\n",
              "      <td>1.767381</td>\n",
              "      <td>1.739563</td>\n",
              "      <td>2.192905</td>\n",
              "      <td>1.801084</td>\n",
              "    </tr>\n",
              "    <tr>\n",
              "      <th>4</th>\n",
              "      <td>2.756731</td>\n",
              "      <td>2.453675</td>\n",
              "      <td>2.912560</td>\n",
              "      <td>2.780565</td>\n",
              "      <td>2.861779</td>\n",
              "      <td>3.130010</td>\n",
              "      <td>2.357249</td>\n",
              "      <td>2.690230</td>\n",
              "      <td>2.971505</td>\n",
              "      <td>2.549438</td>\n",
              "      <td>...</td>\n",
              "      <td>2.163216</td>\n",
              "      <td>2.141057</td>\n",
              "      <td>2.238103</td>\n",
              "      <td>1.933977</td>\n",
              "      <td>2.108563</td>\n",
              "      <td>2.101394</td>\n",
              "      <td>1.759157</td>\n",
              "      <td>1.764144</td>\n",
              "      <td>2.334576</td>\n",
              "      <td>1.823045</td>\n",
              "    </tr>\n",
              "  </tbody>\n",
              "</table>\n",
              "<p>5 rows × 200 columns</p>\n",
              "</div>\n",
              "      <button class=\"colab-df-convert\" onclick=\"convertToInteractive('df-689ecba4-1799-41f4-afea-c12315f24427')\"\n",
              "              title=\"Convert this dataframe to an interactive table.\"\n",
              "              style=\"display:none;\">\n",
              "        \n",
              "  <svg xmlns=\"http://www.w3.org/2000/svg\" height=\"24px\"viewBox=\"0 0 24 24\"\n",
              "       width=\"24px\">\n",
              "    <path d=\"M0 0h24v24H0V0z\" fill=\"none\"/>\n",
              "    <path d=\"M18.56 5.44l.94 2.06.94-2.06 2.06-.94-2.06-.94-.94-2.06-.94 2.06-2.06.94zm-11 1L8.5 8.5l.94-2.06 2.06-.94-2.06-.94L8.5 2.5l-.94 2.06-2.06.94zm10 10l.94 2.06.94-2.06 2.06-.94-2.06-.94-.94-2.06-.94 2.06-2.06.94z\"/><path d=\"M17.41 7.96l-1.37-1.37c-.4-.4-.92-.59-1.43-.59-.52 0-1.04.2-1.43.59L10.3 9.45l-7.72 7.72c-.78.78-.78 2.05 0 2.83L4 21.41c.39.39.9.59 1.41.59.51 0 1.02-.2 1.41-.59l7.78-7.78 2.81-2.81c.8-.78.8-2.07 0-2.86zM5.41 20L4 18.59l7.72-7.72 1.47 1.35L5.41 20z\"/>\n",
              "  </svg>\n",
              "      </button>\n",
              "      \n",
              "  <style>\n",
              "    .colab-df-container {\n",
              "      display:flex;\n",
              "      flex-wrap:wrap;\n",
              "      gap: 12px;\n",
              "    }\n",
              "\n",
              "    .colab-df-convert {\n",
              "      background-color: #E8F0FE;\n",
              "      border: none;\n",
              "      border-radius: 50%;\n",
              "      cursor: pointer;\n",
              "      display: none;\n",
              "      fill: #1967D2;\n",
              "      height: 32px;\n",
              "      padding: 0 0 0 0;\n",
              "      width: 32px;\n",
              "    }\n",
              "\n",
              "    .colab-df-convert:hover {\n",
              "      background-color: #E2EBFA;\n",
              "      box-shadow: 0px 1px 2px rgba(60, 64, 67, 0.3), 0px 1px 3px 1px rgba(60, 64, 67, 0.15);\n",
              "      fill: #174EA6;\n",
              "    }\n",
              "\n",
              "    [theme=dark] .colab-df-convert {\n",
              "      background-color: #3B4455;\n",
              "      fill: #D2E3FC;\n",
              "    }\n",
              "\n",
              "    [theme=dark] .colab-df-convert:hover {\n",
              "      background-color: #434B5C;\n",
              "      box-shadow: 0px 1px 3px 1px rgba(0, 0, 0, 0.15);\n",
              "      filter: drop-shadow(0px 1px 2px rgba(0, 0, 0, 0.3));\n",
              "      fill: #FFFFFF;\n",
              "    }\n",
              "  </style>\n",
              "\n",
              "      <script>\n",
              "        const buttonEl =\n",
              "          document.querySelector('#df-689ecba4-1799-41f4-afea-c12315f24427 button.colab-df-convert');\n",
              "        buttonEl.style.display =\n",
              "          google.colab.kernel.accessAllowed ? 'block' : 'none';\n",
              "\n",
              "        async function convertToInteractive(key) {\n",
              "          const element = document.querySelector('#df-689ecba4-1799-41f4-afea-c12315f24427');\n",
              "          const dataTable =\n",
              "            await google.colab.kernel.invokeFunction('convertToInteractive',\n",
              "                                                     [key], {});\n",
              "          if (!dataTable) return;\n",
              "\n",
              "          const docLinkHtml = 'Like what you see? Visit the ' +\n",
              "            '<a target=\"_blank\" href=https://colab.research.google.com/notebooks/data_table.ipynb>data table notebook</a>'\n",
              "            + ' to learn more about interactive tables.';\n",
              "          element.innerHTML = '';\n",
              "          dataTable['output_type'] = 'display_data';\n",
              "          await google.colab.output.renderOutput(dataTable, element);\n",
              "          const docLink = document.createElement('div');\n",
              "          docLink.innerHTML = docLinkHtml;\n",
              "          element.appendChild(docLink);\n",
              "        }\n",
              "      </script>\n",
              "    </div>\n",
              "  </div>\n",
              "  "
            ]
          },
          "metadata": {},
          "execution_count": 12
        }
      ],
      "source": [
        "df_suspect1"
      ]
    },
    {
      "cell_type": "code",
      "execution_count": 13,
      "metadata": {
        "colab": {
          "base_uri": "https://localhost:8080/"
        },
        "id": "3AlrqhUChfsB",
        "outputId": "e78d8a6c-c372-4b9e-cd99-ef54322772d8"
      },
      "outputs": [
        {
          "output_type": "execute_result",
          "data": {
            "text/plain": [
              "(5, 200)"
            ]
          },
          "metadata": {},
          "execution_count": 13
        }
      ],
      "source": [
        "df_suspect1.shape"
      ]
    },
    {
      "cell_type": "markdown",
      "metadata": {
        "id": "hNl1GmybhrPl"
      },
      "source": [
        "## X_train, y_train, X_test, y_test"
      ]
    },
    {
      "cell_type": "markdown",
      "metadata": {
        "id": "a93NFIIS6jJ3"
      },
      "source": [
        "X_train"
      ]
    },
    {
      "cell_type": "code",
      "execution_count": 14,
      "metadata": {
        "id": "MqHwQUB5h8OK"
      },
      "outputs": [],
      "source": [
        "X_train1 = df_train1.iloc[:,:-1]\n",
        "X_train2 = df_train2.iloc[:,:-1]\n",
        "X_train3 = df_train3.iloc[:,:-1]"
      ]
    },
    {
      "cell_type": "markdown",
      "metadata": {
        "id": "cOMFovUw6lST"
      },
      "source": [
        "y_train"
      ]
    },
    {
      "cell_type": "code",
      "execution_count": 15,
      "metadata": {
        "id": "fGtq392Lh_j1"
      },
      "outputs": [],
      "source": [
        "y_train1 = df_train1.iloc[:,-1]\n",
        "y_train2 = df_train2.iloc[:,-1]\n",
        "y_train3 = df_train3.iloc[:,-1]"
      ]
    },
    {
      "cell_type": "markdown",
      "metadata": {
        "id": "JKK_3Ogg6m9i"
      },
      "source": [
        "X_test"
      ]
    },
    {
      "cell_type": "code",
      "execution_count": 16,
      "metadata": {
        "id": "VQ4pDhKqiGGo"
      },
      "outputs": [],
      "source": [
        "X_test1 = df_test1.iloc[:,:-1]\n",
        "X_test2 = df_test2.iloc[:,:-1]\n",
        "X_test3 = df_test3.iloc[:,:-1]"
      ]
    },
    {
      "cell_type": "markdown",
      "metadata": {
        "id": "ZQQZ0S096oMZ"
      },
      "source": [
        "y_test"
      ]
    },
    {
      "cell_type": "code",
      "execution_count": 17,
      "metadata": {
        "id": "9Y1Vak6ziNPh"
      },
      "outputs": [],
      "source": [
        "y_test1 = df_test1.iloc[:,-1]\n",
        "y_test2 = df_test2.iloc[:,-1]\n",
        "y_test3 = df_test3.iloc[:,-1]"
      ]
    },
    {
      "cell_type": "markdown",
      "metadata": {
        "id": "BNrBRTxCigEn"
      },
      "source": [
        "## Validasi"
      ]
    },
    {
      "cell_type": "markdown",
      "metadata": {
        "id": "86IxdyHSikhh"
      },
      "source": [
        "### AB1"
      ]
    },
    {
      "cell_type": "markdown",
      "metadata": {
        "id": "9vE333Xs6qw8"
      },
      "source": [
        "Fit model"
      ]
    },
    {
      "cell_type": "code",
      "execution_count": 18,
      "metadata": {
        "colab": {
          "base_uri": "https://localhost:8080/"
        },
        "id": "YzKDV4DGieGx",
        "outputId": "5af57f6e-c345-49a4-8680-256307c9c976"
      },
      "outputs": [
        {
          "output_type": "execute_result",
          "data": {
            "text/plain": [
              "AdaBoostClassifier(learning_rate=1, n_estimators=150)"
            ]
          },
          "metadata": {},
          "execution_count": 18
        }
      ],
      "source": [
        "ab1_model.fit(X_train1, y_train1)"
      ]
    },
    {
      "cell_type": "markdown",
      "metadata": {
        "id": "xY4Yu1BS6s3c"
      },
      "source": [
        "Hasil prediksi dengan data test"
      ]
    },
    {
      "cell_type": "code",
      "execution_count": 19,
      "metadata": {
        "colab": {
          "base_uri": "https://localhost:8080/"
        },
        "id": "uWb8N0yKivbr",
        "outputId": "fa09c837-0235-4cb4-8e4b-4869156162ce"
      },
      "outputs": [
        {
          "output_type": "stream",
          "name": "stdout",
          "text": [
            "Accuracy :  0.7543859649122807\n",
            "Precision:  0.75\n",
            "Recall   :  0.8\n",
            "F1 Score :  0.7741935483870969\n"
          ]
        }
      ],
      "source": [
        "ab1_prediksi = ab1_model.predict(X_test1)\n",
        "print(\"Accuracy : \", metrics.accuracy_score(y_test1, ab1_prediksi))\n",
        "print(\"Precision: \", metrics.precision_score(y_test1, ab1_prediksi))\n",
        "print(\"Recall   : \", metrics.recall_score(y_test1, ab1_prediksi))\n",
        "print(\"F1 Score : \", metrics.f1_score(y_test1, ab1_prediksi))"
      ]
    },
    {
      "cell_type": "markdown",
      "metadata": {
        "id": "NkjfGKJB6vSj"
      },
      "source": [
        "Visualisasi confusion matrix"
      ]
    },
    {
      "cell_type": "code",
      "execution_count": 24,
      "metadata": {
        "colab": {
          "base_uri": "https://localhost:8080/",
          "height": 530
        },
        "id": "vWiqH-LnjPou",
        "outputId": "7511f3e8-7da5-44b5-938d-b7fa486e888e"
      },
      "outputs": [
        {
          "output_type": "execute_result",
          "data": {
            "text/plain": [
              "[Text(0, 0.5, '1'), Text(0, 1.5, '0')]"
            ]
          },
          "metadata": {},
          "execution_count": 24
        },
        {
          "output_type": "display_data",
          "data": {
            "text/plain": [
              "<Figure size 1080x576 with 2 Axes>"
            ],
            "image/png": "[encoded data removed]"
          },
          "metadata": {
            "needs_background": "light"
          }
        }
      ],
      "source": [
        "cf_matrix = metrics.confusion_matrix(y_test1, ab1_prediksi, labels=[1,0]).transpose()\n",
        "\n",
        "plt.figure(figsize=(15,8))\n",
        "ax = plt.subplot()\n",
        "sns.heatmap(cf_matrix, annot=True, fmt='g', cmap='Blues', ax=ax)\n",
        "ax.set_xlabel('Aktual')\n",
        "ax.set_ylabel('Prediksi')\n",
        "ax.set_title('Confusion Matrix AB1') \n",
        "ax.xaxis.set_ticklabels(['1', '0'])\n",
        "ax.yaxis.set_ticklabels(['1', '0'])"
      ]
    },
    {
      "cell_type": "markdown",
      "metadata": {
        "id": "qtuEAI0Z0Hxa"
      },
      "source": [
        "### AB2"
      ]
    },
    {
      "cell_type": "markdown",
      "metadata": {
        "id": "cgtzXkJR6xfI"
      },
      "source": [
        "Fit model"
      ]
    },
    {
      "cell_type": "code",
      "execution_count": 26,
      "metadata": {
        "colab": {
          "base_uri": "https://localhost:8080/"
        },
        "id": "vKPuSRP70Hxo",
        "outputId": "49d5c137-69fd-4e2d-a6d9-a1d4a1332446"
      },
      "outputs": [
        {
          "output_type": "execute_result",
          "data": {
            "text/plain": [
              "AdaBoostClassifier(learning_rate=0.1, n_estimators=150)"
            ]
          },
          "metadata": {},
          "execution_count": 26
        }
      ],
      "source": [
        "ab2_model.fit(X_train2, y_train2)"
      ]
    },
    {
      "cell_type": "markdown",
      "metadata": {
        "id": "sOC1sZwz6z59"
      },
      "source": [
        "Hasil prediksi dengan data test"
      ]
    },
    {
      "cell_type": "code",
      "execution_count": 27,
      "metadata": {
        "colab": {
          "base_uri": "https://localhost:8080/"
        },
        "id": "2UOR3nxz0Hxp",
        "outputId": "8b5964bf-d31d-4b7a-b4cd-47c8a7d68c90"
      },
      "outputs": [
        {
          "output_type": "stream",
          "name": "stdout",
          "text": [
            "Accuracy :  0.6491228070175439\n",
            "Precision:  0.6785714285714286\n",
            "Recall   :  0.6333333333333333\n",
            "F1 Score :  0.6551724137931035\n"
          ]
        }
      ],
      "source": [
        "ab2_prediksi = ab2_model.predict(X_test2)\n",
        "print(\"Accuracy : \", metrics.accuracy_score(y_test2, ab2_prediksi))\n",
        "print(\"Precision: \", metrics.precision_score(y_test2, ab2_prediksi))\n",
        "print(\"Recall   : \", metrics.recall_score(y_test2, ab2_prediksi))\n",
        "print(\"F1 Score : \", metrics.f1_score(y_test2, ab2_prediksi))"
      ]
    },
    {
      "cell_type": "markdown",
      "metadata": {
        "id": "z6Slyrv462bx"
      },
      "source": [
        "Visualisasi Confusion Matrix"
      ]
    },
    {
      "cell_type": "code",
      "execution_count": 28,
      "metadata": {
        "colab": {
          "base_uri": "https://localhost:8080/",
          "height": 530
        },
        "id": "qmKSszt_0Hxq",
        "outputId": "830f8580-27a4-4b1b-8d02-1e5f95fe663d"
      },
      "outputs": [
        {
          "output_type": "execute_result",
          "data": {
            "text/plain": [
              "[Text(0, 0.5, '1'), Text(0, 1.5, '0')]"
            ]
          },
          "metadata": {},
          "execution_count": 28
        },
        {
          "output_type": "display_data",
          "data": {
            "text/plain": [
              "<Figure size 1080x576 with 2 Axes>"
            ],
            "image/png": "[encoded data removed]"
          },
          "metadata": {
            "needs_background": "light"
          }
        }
      ],
      "source": [
        "cf_matrix = metrics.confusion_matrix(y_test2, ab2_prediksi, labels=[1,0]).transpose()\n",
        "\n",
        "plt.figure(figsize=(15,8))\n",
        "ax = plt.subplot()\n",
        "sns.heatmap(cf_matrix, annot=True, fmt='g', cmap='Blues', ax=ax)\n",
        "ax.set_xlabel('Aktual')\n",
        "ax.set_ylabel('Prediksi')\n",
        "ax.set_title('Confusion Matrix AB2') \n",
        "ax.xaxis.set_ticklabels(['1', '0'])\n",
        "ax.yaxis.set_ticklabels(['1', '0'])"
      ]
    },
    {
      "cell_type": "markdown",
      "metadata": {
        "id": "duiJ97s80K-W"
      },
      "source": [
        "### AB3"
      ]
    },
    {
      "cell_type": "markdown",
      "metadata": {
        "id": "W8gnfwZF7Ps3"
      },
      "source": [
        "Fit model"
      ]
    },
    {
      "cell_type": "code",
      "execution_count": 29,
      "metadata": {
        "colab": {
          "base_uri": "https://localhost:8080/"
        },
        "id": "lhUX1wsz0K-X",
        "outputId": "8142eebc-4072-43b2-b277-38a98ff2f1a6"
      },
      "outputs": [
        {
          "output_type": "execute_result",
          "data": {
            "text/plain": [
              "AdaBoostClassifier(learning_rate=1, n_estimators=150)"
            ]
          },
          "metadata": {},
          "execution_count": 29
        }
      ],
      "source": [
        "ab3_model.fit(X_train3, y_train3)"
      ]
    },
    {
      "cell_type": "markdown",
      "metadata": {
        "id": "QmjUI_Gj7RUH"
      },
      "source": [
        "Prediksi dengan data test"
      ]
    },
    {
      "cell_type": "code",
      "execution_count": 30,
      "metadata": {
        "colab": {
          "base_uri": "https://localhost:8080/"
        },
        "id": "PylLDHu-0K-Y",
        "outputId": "4f0c910f-c175-4636-a830-8d16a730ba28"
      },
      "outputs": [
        {
          "output_type": "stream",
          "name": "stdout",
          "text": [
            "Accuracy :  0.6666666666666666\n",
            "Precision:  0.6896551724137931\n",
            "Recall   :  0.6666666666666666\n",
            "F1 Score :  0.6779661016949153\n"
          ]
        }
      ],
      "source": [
        "ab3_prediksi = ab3_model.predict(X_test3)\n",
        "print(\"Accuracy : \", metrics.accuracy_score(y_test3, ab3_prediksi))\n",
        "print(\"Precision: \", metrics.precision_score(y_test3, ab3_prediksi))\n",
        "print(\"Recall   : \", metrics.recall_score(y_test3, ab3_prediksi))\n",
        "print(\"F1 Score : \", metrics.f1_score(y_test3, ab3_prediksi))"
      ]
    },
    {
      "cell_type": "markdown",
      "metadata": {
        "id": "8SrREwd57TTF"
      },
      "source": [
        "Visualisasi Confusion Matrix"
      ]
    },
    {
      "cell_type": "code",
      "execution_count": 31,
      "metadata": {
        "colab": {
          "base_uri": "https://localhost:8080/",
          "height": 530
        },
        "id": "CBFQ7IVC0K-Y",
        "outputId": "05899c59-ca94-4d78-874c-c04040615952"
      },
      "outputs": [
        {
          "output_type": "execute_result",
          "data": {
            "text/plain": [
              "[Text(0, 0.5, '1'), Text(0, 1.5, '0')]"
            ]
          },
          "metadata": {},
          "execution_count": 31
        },
        {
          "output_type": "display_data",
          "data": {
            "text/plain": [
              "<Figure size 1080x576 with 2 Axes>"
            ],
            "image/png": "[encoded data removed]"
          },
          "metadata": {
            "needs_background": "light"
          }
        }
      ],
      "source": [
        "cf_matrix = metrics.confusion_matrix(y_test3, ab3_prediksi, labels=[1,0]).transpose()\n",
        "\n",
        "plt.figure(figsize=(15,8))\n",
        "ax = plt.subplot()\n",
        "sns.heatmap(cf_matrix, annot=True, fmt='g', cmap='Blues', ax=ax)\n",
        "ax.set_xlabel('Aktual')\n",
        "ax.set_ylabel('Prediksi')\n",
        "ax.set_title('Confusion Matrix AB3') \n",
        "ax.xaxis.set_ticklabels(['1', '0'])\n",
        "ax.yaxis.set_ticklabels(['1', '0'])"
      ]
    },
    {
      "cell_type": "markdown",
      "metadata": {
        "id": "1Dt_0h18nH6f"
      },
      "source": [
        "## Export"
      ]
    },
    {
      "cell_type": "markdown",
      "metadata": {
        "id": "h7xXzWP5nxM-"
      },
      "source": [
        "### Data Test"
      ]
    },
    {
      "cell_type": "markdown",
      "metadata": {
        "id": "NHcUK-Np7amh"
      },
      "source": [
        "Label data test dengan hasil prediksi pada masing-masing model"
      ]
    },
    {
      "cell_type": "code",
      "execution_count": 33,
      "metadata": {
        "colab": {
          "base_uri": "https://localhost:8080/",
          "height": 1000
        },
        "id": "VML7QD3j1bw_",
        "outputId": "6b9a83d5-a17d-4c8f-9b43-4130f4772462"
      },
      "outputs": [
        {
          "output_type": "execute_result",
          "data": {
            "text/plain": [
              "    Label  AB1  AB2  AB3\n",
              "0     1.0  1.0  1.0  1.0\n",
              "1     1.0  1.0  1.0  0.0\n",
              "2     0.0  0.0  0.0  0.0\n",
              "3     1.0  1.0  1.0  1.0\n",
              "4     1.0  0.0  0.0  0.0\n",
              "5     0.0  0.0  0.0  1.0\n",
              "6     1.0  1.0  1.0  1.0\n",
              "7     0.0  1.0  1.0  1.0\n",
              "8     1.0  1.0  1.0  1.0\n",
              "9     1.0  1.0  1.0  1.0\n",
              "10    0.0  1.0  1.0  0.0\n",
              "11    0.0  0.0  0.0  0.0\n",
              "12    0.0  0.0  0.0  0.0\n",
              "13    0.0  1.0  1.0  1.0\n",
              "14    0.0  0.0  0.0  0.0\n",
              "15    1.0  0.0  0.0  0.0\n",
              "16    1.0  1.0  1.0  1.0\n",
              "17    0.0  0.0  1.0  0.0\n",
              "18    1.0  1.0  1.0  1.0\n",
              "19    1.0  1.0  1.0  1.0\n",
              "20    0.0  0.0  0.0  0.0\n",
              "21    0.0  0.0  0.0  0.0\n",
              "22    1.0  1.0  1.0  1.0\n",
              "23    0.0  0.0  0.0  0.0\n",
              "24    1.0  1.0  0.0  1.0\n",
              "25    0.0  1.0  1.0  1.0\n",
              "26    1.0  1.0  0.0  0.0\n",
              "27    1.0  1.0  1.0  1.0\n",
              "28    0.0  1.0  1.0  1.0\n",
              "29    1.0  1.0  1.0  1.0\n",
              "30    1.0  0.0  0.0  0.0\n",
              "31    0.0  0.0  0.0  0.0\n",
              "32    0.0  0.0  0.0  0.0\n",
              "33    0.0  0.0  0.0  0.0\n",
              "34    0.0  0.0  0.0  1.0\n",
              "35    0.0  0.0  0.0  0.0\n",
              "36    1.0  1.0  0.0  1.0\n",
              "37    0.0  0.0  0.0  1.0\n",
              "38    0.0  1.0  1.0  1.0\n",
              "39    1.0  0.0  1.0  1.0\n",
              "40    1.0  1.0  0.0  0.0\n",
              "41    1.0  0.0  0.0  0.0\n",
              "42    1.0  1.0  1.0  0.0\n",
              "43    0.0  1.0  1.0  1.0\n",
              "44    0.0  1.0  1.0  0.0\n",
              "45    0.0  0.0  0.0  0.0\n",
              "46    1.0  1.0  1.0  1.0\n",
              "47    0.0  0.0  0.0  0.0\n",
              "48    0.0  0.0  0.0  0.0\n",
              "49    1.0  1.0  0.0  1.0\n",
              "50    1.0  1.0  1.0  1.0\n",
              "51    1.0  0.0  0.0  0.0\n",
              "52    0.0  0.0  0.0  0.0\n",
              "53    1.0  1.0  0.0  1.0\n",
              "54    1.0  1.0  1.0  1.0\n",
              "55    1.0  1.0  1.0  1.0\n",
              "56    1.0  1.0  1.0  0.0"
            ],
            "text/html": [
              "\n",
              "  <div id=\"df-f180e595-66a4-4eab-be97-5c20c3182bdc\">\n",
              "    <div class=\"colab-df-container\">\n",
              "      <div>\n",
              "<style scoped>\n",
              "    .dataframe tbody tr th:only-of-type {\n",
              "        vertical-align: middle;\n",
              "    }\n",
              "\n",
              "    .dataframe tbody tr th {\n",
              "        vertical-align: top;\n",
              "    }\n",
              "\n",
              "    .dataframe thead th {\n",
              "        text-align: right;\n",
              "    }\n",
              "</style>\n",
              "<table border=\"1\" class=\"dataframe\">\n",
              "  <thead>\n",
              "    <tr style=\"text-align: right;\">\n",
              "      <th></th>\n",
              "      <th>Label</th>\n",
              "      <th>AB1</th>\n",
              "      <th>AB2</th>\n",
              "      <th>AB3</th>\n",
              "    </tr>\n",
              "  </thead>\n",
              "  <tbody>\n",
              "    <tr>\n",
              "      <th>0</th>\n",
              "      <td>1.0</td>\n",
              "      <td>1.0</td>\n",
              "      <td>1.0</td>\n",
              "      <td>1.0</td>\n",
              "    </tr>\n",
              "    <tr>\n",
              "      <th>1</th>\n",
              "      <td>1.0</td>\n",
              "      <td>1.0</td>\n",
              "      <td>1.0</td>\n",
              "      <td>0.0</td>\n",
              "    </tr>\n",
              "    <tr>\n",
              "      <th>2</th>\n",
              "      <td>0.0</td>\n",
              "      <td>0.0</td>\n",
              "      <td>0.0</td>\n",
              "      <td>0.0</td>\n",
              "    </tr>\n",
              "    <tr>\n",
              "      <th>3</th>\n",
              "      <td>1.0</td>\n",
              "      <td>1.0</td>\n",
              "      <td>1.0</td>\n",
              "      <td>1.0</td>\n",
              "    </tr>\n",
              "    <tr>\n",
              "      <th>4</th>\n",
              "      <td>1.0</td>\n",
              "      <td>0.0</td>\n",
              "      <td>0.0</td>\n",
              "      <td>0.0</td>\n",
              "    </tr>\n",
              "    <tr>\n",
              "      <th>5</th>\n",
              "      <td>0.0</td>\n",
              "      <td>0.0</td>\n",
              "      <td>0.0</td>\n",
              "      <td>1.0</td>\n",
              "    </tr>\n",
              "    <tr>\n",
              "      <th>6</th>\n",
              "      <td>1.0</td>\n",
              "      <td>1.0</td>\n",
              "      <td>1.0</td>\n",
              "      <td>1.0</td>\n",
              "    </tr>\n",
              "    <tr>\n",
              "      <th>7</th>\n",
              "      <td>0.0</td>\n",
              "      <td>1.0</td>\n",
              "      <td>1.0</td>\n",
              "      <td>1.0</td>\n",
              "    </tr>\n",
              "    <tr>\n",
              "      <th>8</th>\n",
              "      <td>1.0</td>\n",
              "      <td>1.0</td>\n",
              "      <td>1.0</td>\n",
              "      <td>1.0</td>\n",
              "    </tr>\n",
              "    <tr>\n",
              "      <th>9</th>\n",
              "      <td>1.0</td>\n",
              "      <td>1.0</td>\n",
              "      <td>1.0</td>\n",
              "      <td>1.0</td>\n",
              "    </tr>\n",
              "    <tr>\n",
              "      <th>10</th>\n",
              "      <td>0.0</td>\n",
              "      <td>1.0</td>\n",
              "      <td>1.0</td>\n",
              "      <td>0.0</td>\n",
              "    </tr>\n",
              "    <tr>\n",
              "      <th>11</th>\n",
              "      <td>0.0</td>\n",
              "      <td>0.0</td>\n",
              "      <td>0.0</td>\n",
              "      <td>0.0</td>\n",
              "    </tr>\n",
              "    <tr>\n",
              "      <th>12</th>\n",
              "      <td>0.0</td>\n",
              "      <td>0.0</td>\n",
              "      <td>0.0</td>\n",
              "      <td>0.0</td>\n",
              "    </tr>\n",
              "    <tr>\n",
              "      <th>13</th>\n",
              "      <td>0.0</td>\n",
              "      <td>1.0</td>\n",
              "      <td>1.0</td>\n",
              "      <td>1.0</td>\n",
              "    </tr>\n",
              "    <tr>\n",
              "      <th>14</th>\n",
              "      <td>0.0</td>\n",
              "      <td>0.0</td>\n",
              "      <td>0.0</td>\n",
              "      <td>0.0</td>\n",
              "    </tr>\n",
              "    <tr>\n",
              "      <th>15</th>\n",
              "      <td>1.0</td>\n",
              "      <td>0.0</td>\n",
              "      <td>0.0</td>\n",
              "      <td>0.0</td>\n",
              "    </tr>\n",
              "    <tr>\n",
              "      <th>16</th>\n",
              "      <td>1.0</td>\n",
              "      <td>1.0</td>\n",
              "      <td>1.0</td>\n",
              "      <td>1.0</td>\n",
              "    </tr>\n",
              "    <tr>\n",
              "      <th>17</th>\n",
              "      <td>0.0</td>\n",
              "      <td>0.0</td>\n",
              "      <td>1.0</td>\n",
              "      <td>0.0</td>\n",
              "    </tr>\n",
              "    <tr>\n",
              "      <th>18</th>\n",
              "      <td>1.0</td>\n",
              "      <td>1.0</td>\n",
              "      <td>1.0</td>\n",
              "      <td>1.0</td>\n",
              "    </tr>\n",
              "    <tr>\n",
              "      <th>19</th>\n",
              "      <td>1.0</td>\n",
              "      <td>1.0</td>\n",
              "      <td>1.0</td>\n",
              "      <td>1.0</td>\n",
              "    </tr>\n",
              "    <tr>\n",
              "      <th>20</th>\n",
              "      <td>0.0</td>\n",
              "      <td>0.0</td>\n",
              "      <td>0.0</td>\n",
              "      <td>0.0</td>\n",
              "    </tr>\n",
              "    <tr>\n",
              "      <th>21</th>\n",
              "      <td>0.0</td>\n",
              "      <td>0.0</td>\n",
              "      <td>0.0</td>\n",
              "      <td>0.0</td>\n",
              "    </tr>\n",
              "    <tr>\n",
              "      <th>22</th>\n",
              "      <td>1.0</td>\n",
              "      <td>1.0</td>\n",
              "      <td>1.0</td>\n",
              "      <td>1.0</td>\n",
              "    </tr>\n",
              "    <tr>\n",
              "      <th>23</th>\n",
              "      <td>0.0</td>\n",
              "      <td>0.0</td>\n",
              "      <td>0.0</td>\n",
              "      <td>0.0</td>\n",
              "    </tr>\n",
              "    <tr>\n",
              "      <th>24</th>\n",
              "      <td>1.0</td>\n",
              "      <td>1.0</td>\n",
              "      <td>0.0</td>\n",
              "      <td>1.0</td>\n",
              "    </tr>\n",
              "    <tr>\n",
              "      <th>25</th>\n",
              "      <td>0.0</td>\n",
              "      <td>1.0</td>\n",
              "      <td>1.0</td>\n",
              "      <td>1.0</td>\n",
              "    </tr>\n",
              "    <tr>\n",
              "      <th>26</th>\n",
              "      <td>1.0</td>\n",
              "      <td>1.0</td>\n",
              "      <td>0.0</td>\n",
              "      <td>0.0</td>\n",
              "    </tr>\n",
              "    <tr>\n",
              "      <th>27</th>\n",
              "      <td>1.0</td>\n",
              "      <td>1.0</td>\n",
              "      <td>1.0</td>\n",
              "      <td>1.0</td>\n",
              "    </tr>\n",
              "    <tr>\n",
              "      <th>28</th>\n",
              "      <td>0.0</td>\n",
              "      <td>1.0</td>\n",
              "      <td>1.0</td>\n",
              "      <td>1.0</td>\n",
              "    </tr>\n",
              "    <tr>\n",
              "      <th>29</th>\n",
              "      <td>1.0</td>\n",
              "      <td>1.0</td>\n",
              "      <td>1.0</td>\n",
              "      <td>1.0</td>\n",
              "    </tr>\n",
              "    <tr>\n",
              "      <th>30</th>\n",
              "      <td>1.0</td>\n",
              "      <td>0.0</td>\n",
              "      <td>0.0</td>\n",
              "      <td>0.0</td>\n",
              "    </tr>\n",
              "    <tr>\n",
              "      <th>31</th>\n",
              "      <td>0.0</td>\n",
              "      <td>0.0</td>\n",
              "      <td>0.0</td>\n",
              "      <td>0.0</td>\n",
              "    </tr>\n",
              "    <tr>\n",
              "      <th>32</th>\n",
              "      <td>0.0</td>\n",
              "      <td>0.0</td>\n",
              "      <td>0.0</td>\n",
              "      <td>0.0</td>\n",
              "    </tr>\n",
              "    <tr>\n",
              "      <th>33</th>\n",
              "      <td>0.0</td>\n",
              "      <td>0.0</td>\n",
              "      <td>0.0</td>\n",
              "      <td>0.0</td>\n",
              "    </tr>\n",
              "    <tr>\n",
              "      <th>34</th>\n",
              "      <td>0.0</td>\n",
              "      <td>0.0</td>\n",
              "      <td>0.0</td>\n",
              "      <td>1.0</td>\n",
              "    </tr>\n",
              "    <tr>\n",
              "      <th>35</th>\n",
              "      <td>0.0</td>\n",
              "      <td>0.0</td>\n",
              "      <td>0.0</td>\n",
              "      <td>0.0</td>\n",
              "    </tr>\n",
              "    <tr>\n",
              "      <th>36</th>\n",
              "      <td>1.0</td>\n",
              "      <td>1.0</td>\n",
              "      <td>0.0</td>\n",
              "      <td>1.0</td>\n",
              "    </tr>\n",
              "    <tr>\n",
              "      <th>37</th>\n",
              "      <td>0.0</td>\n",
              "      <td>0.0</td>\n",
              "      <td>0.0</td>\n",
              "      <td>1.0</td>\n",
              "    </tr>\n",
              "    <tr>\n",
              "      <th>38</th>\n",
              "      <td>0.0</td>\n",
              "      <td>1.0</td>\n",
              "      <td>1.0</td>\n",
              "      <td>1.0</td>\n",
              "    </tr>\n",
              "    <tr>\n",
              "      <th>39</th>\n",
              "      <td>1.0</td>\n",
              "      <td>0.0</td>\n",
              "      <td>1.0</td>\n",
              "      <td>1.0</td>\n",
              "    </tr>\n",
              "    <tr>\n",
              "      <th>40</th>\n",
              "      <td>1.0</td>\n",
              "      <td>1.0</td>\n",
              "      <td>0.0</td>\n",
              "      <td>0.0</td>\n",
              "    </tr>\n",
              "    <tr>\n",
              "      <th>41</th>\n",
              "      <td>1.0</td>\n",
              "      <td>0.0</td>\n",
              "      <td>0.0</td>\n",
              "      <td>0.0</td>\n",
              "    </tr>\n",
              "    <tr>\n",
              "      <th>42</th>\n",
              "      <td>1.0</td>\n",
              "      <td>1.0</td>\n",
              "      <td>1.0</td>\n",
              "      <td>0.0</td>\n",
              "    </tr>\n",
              "    <tr>\n",
              "      <th>43</th>\n",
              "      <td>0.0</td>\n",
              "      <td>1.0</td>\n",
              "      <td>1.0</td>\n",
              "      <td>1.0</td>\n",
              "    </tr>\n",
              "    <tr>\n",
              "      <th>44</th>\n",
              "      <td>0.0</td>\n",
              "      <td>1.0</td>\n",
              "      <td>1.0</td>\n",
              "      <td>0.0</td>\n",
              "    </tr>\n",
              "    <tr>\n",
              "      <th>45</th>\n",
              "      <td>0.0</td>\n",
              "      <td>0.0</td>\n",
              "      <td>0.0</td>\n",
              "      <td>0.0</td>\n",
              "    </tr>\n",
              "    <tr>\n",
              "      <th>46</th>\n",
              "      <td>1.0</td>\n",
              "      <td>1.0</td>\n",
              "      <td>1.0</td>\n",
              "      <td>1.0</td>\n",
              "    </tr>\n",
              "    <tr>\n",
              "      <th>47</th>\n",
              "      <td>0.0</td>\n",
              "      <td>0.0</td>\n",
              "      <td>0.0</td>\n",
              "      <td>0.0</td>\n",
              "    </tr>\n",
              "    <tr>\n",
              "      <th>48</th>\n",
              "      <td>0.0</td>\n",
              "      <td>0.0</td>\n",
              "      <td>0.0</td>\n",
              "      <td>0.0</td>\n",
              "    </tr>\n",
              "    <tr>\n",
              "      <th>49</th>\n",
              "      <td>1.0</td>\n",
              "      <td>1.0</td>\n",
              "      <td>0.0</td>\n",
              "      <td>1.0</td>\n",
              "    </tr>\n",
              "    <tr>\n",
              "      <th>50</th>\n",
              "      <td>1.0</td>\n",
              "      <td>1.0</td>\n",
              "      <td>1.0</td>\n",
              "      <td>1.0</td>\n",
              "    </tr>\n",
              "    <tr>\n",
              "      <th>51</th>\n",
              "      <td>1.0</td>\n",
              "      <td>0.0</td>\n",
              "      <td>0.0</td>\n",
              "      <td>0.0</td>\n",
              "    </tr>\n",
              "    <tr>\n",
              "      <th>52</th>\n",
              "      <td>0.0</td>\n",
              "      <td>0.0</td>\n",
              "      <td>0.0</td>\n",
              "      <td>0.0</td>\n",
              "    </tr>\n",
              "    <tr>\n",
              "      <th>53</th>\n",
              "      <td>1.0</td>\n",
              "      <td>1.0</td>\n",
              "      <td>0.0</td>\n",
              "      <td>1.0</td>\n",
              "    </tr>\n",
              "    <tr>\n",
              "      <th>54</th>\n",
              "      <td>1.0</td>\n",
              "      <td>1.0</td>\n",
              "      <td>1.0</td>\n",
              "      <td>1.0</td>\n",
              "    </tr>\n",
              "    <tr>\n",
              "      <th>55</th>\n",
              "      <td>1.0</td>\n",
              "      <td>1.0</td>\n",
              "      <td>1.0</td>\n",
              "      <td>1.0</td>\n",
              "    </tr>\n",
              "    <tr>\n",
              "      <th>56</th>\n",
              "      <td>1.0</td>\n",
              "      <td>1.0</td>\n",
              "      <td>1.0</td>\n",
              "      <td>0.0</td>\n",
              "    </tr>\n",
              "  </tbody>\n",
              "</table>\n",
              "</div>\n",
              "      <button class=\"colab-df-convert\" onclick=\"convertToInteractive('df-f180e595-66a4-4eab-be97-5c20c3182bdc')\"\n",
              "              title=\"Convert this dataframe to an interactive table.\"\n",
              "              style=\"display:none;\">\n",
              "        \n",
              "  <svg xmlns=\"http://www.w3.org/2000/svg\" height=\"24px\"viewBox=\"0 0 24 24\"\n",
              "       width=\"24px\">\n",
              "    <path d=\"M0 0h24v24H0V0z\" fill=\"none\"/>\n",
              "    <path d=\"M18.56 5.44l.94 2.06.94-2.06 2.06-.94-2.06-.94-.94-2.06-.94 2.06-2.06.94zm-11 1L8.5 8.5l.94-2.06 2.06-.94-2.06-.94L8.5 2.5l-.94 2.06-2.06.94zm10 10l.94 2.06.94-2.06 2.06-.94-2.06-.94-.94-2.06-.94 2.06-2.06.94z\"/><path d=\"M17.41 7.96l-1.37-1.37c-.4-.4-.92-.59-1.43-.59-.52 0-1.04.2-1.43.59L10.3 9.45l-7.72 7.72c-.78.78-.78 2.05 0 2.83L4 21.41c.39.39.9.59 1.41.59.51 0 1.02-.2 1.41-.59l7.78-7.78 2.81-2.81c.8-.78.8-2.07 0-2.86zM5.41 20L4 18.59l7.72-7.72 1.47 1.35L5.41 20z\"/>\n",
              "  </svg>\n",
              "      </button>\n",
              "      \n",
              "  <style>\n",
              "    .colab-df-container {\n",
              "      display:flex;\n",
              "      flex-wrap:wrap;\n",
              "      gap: 12px;\n",
              "    }\n",
              "\n",
              "    .colab-df-convert {\n",
              "      background-color: #E8F0FE;\n",
              "      border: none;\n",
              "      border-radius: 50%;\n",
              "      cursor: pointer;\n",
              "      display: none;\n",
              "      fill: #1967D2;\n",
              "      height: 32px;\n",
              "      padding: 0 0 0 0;\n",
              "      width: 32px;\n",
              "    }\n",
              "\n",
              "    .colab-df-convert:hover {\n",
              "      background-color: #E2EBFA;\n",
              "      box-shadow: 0px 1px 2px rgba(60, 64, 67, 0.3), 0px 1px 3px 1px rgba(60, 64, 67, 0.15);\n",
              "      fill: #174EA6;\n",
              "    }\n",
              "\n",
              "    [theme=dark] .colab-df-convert {\n",
              "      background-color: #3B4455;\n",
              "      fill: #D2E3FC;\n",
              "    }\n",
              "\n",
              "    [theme=dark] .colab-df-convert:hover {\n",
              "      background-color: #434B5C;\n",
              "      box-shadow: 0px 1px 3px 1px rgba(0, 0, 0, 0.15);\n",
              "      filter: drop-shadow(0px 1px 2px rgba(0, 0, 0, 0.3));\n",
              "      fill: #FFFFFF;\n",
              "    }\n",
              "  </style>\n",
              "\n",
              "      <script>\n",
              "        const buttonEl =\n",
              "          document.querySelector('#df-f180e595-66a4-4eab-be97-5c20c3182bdc button.colab-df-convert');\n",
              "        buttonEl.style.display =\n",
              "          google.colab.kernel.accessAllowed ? 'block' : 'none';\n",
              "\n",
              "        async function convertToInteractive(key) {\n",
              "          const element = document.querySelector('#df-f180e595-66a4-4eab-be97-5c20c3182bdc');\n",
              "          const dataTable =\n",
              "            await google.colab.kernel.invokeFunction('convertToInteractive',\n",
              "                                                     [key], {});\n",
              "          if (!dataTable) return;\n",
              "\n",
              "          const docLinkHtml = 'Like what you see? Visit the ' +\n",
              "            '<a target=\"_blank\" href=https://colab.research.google.com/notebooks/data_table.ipynb>data table notebook</a>'\n",
              "            + ' to learn more about interactive tables.';\n",
              "          element.innerHTML = '';\n",
              "          dataTable['output_type'] = 'display_data';\n",
              "          await google.colab.output.renderOutput(dataTable, element);\n",
              "          const docLink = document.createElement('div');\n",
              "          docLink.innerHTML = docLinkHtml;\n",
              "          element.appendChild(docLink);\n",
              "        }\n",
              "      </script>\n",
              "    </div>\n",
              "  </div>\n",
              "  "
            ]
          },
          "metadata": {},
          "execution_count": 33
        }
      ],
      "source": [
        "test_microarray_prediksi = y_test1.to_frame()\n",
        "test_microarray_prediksi['AB1'] = ab1_prediksi\n",
        "test_microarray_prediksi['AB2'] = ab2_prediksi\n",
        "test_microarray_prediksi['AB3'] = ab3_prediksi\n",
        "test_microarray_prediksi"
      ]
    },
    {
      "cell_type": "markdown",
      "metadata": {
        "id": "k001VpPw7eEW"
      },
      "source": [
        "Export ke CSV"
      ]
    },
    {
      "cell_type": "code",
      "execution_count": 34,
      "metadata": {
        "id": "N7oJ6hS8ng4Q"
      },
      "outputs": [],
      "source": [
        "test_microarray_prediksi.to_csv(r'test_microarray_prediksi_ab.csv', index=False, header=True)"
      ]
    },
    {
      "cell_type": "markdown",
      "metadata": {
        "id": "b26CrNofoZ0a"
      },
      "source": [
        "### Suspect"
      ]
    },
    {
      "cell_type": "markdown",
      "metadata": {
        "id": "KAmK8V9n7iXM"
      },
      "source": [
        "Fit model"
      ]
    },
    {
      "cell_type": "code",
      "execution_count": 35,
      "metadata": {
        "colab": {
          "base_uri": "https://localhost:8080/"
        },
        "id": "lsrv4n2cpB4e",
        "outputId": "791f06af-5bbc-4af5-90a0-b171a85b993e"
      },
      "outputs": [
        {
          "output_type": "execute_result",
          "data": {
            "text/plain": [
              "AdaBoostClassifier(learning_rate=1, n_estimators=150)"
            ]
          },
          "metadata": {},
          "execution_count": 35
        }
      ],
      "source": [
        "ab1_model.fit(X_train1, y_train1)\n",
        "ab2_model.fit(X_train2, y_train2)\n",
        "ab3_model.fit(X_train3, y_train3)"
      ]
    },
    {
      "cell_type": "markdown",
      "metadata": {
        "id": "TEjJDtp17j14"
      },
      "source": [
        "Prediksi dengan Suspect"
      ]
    },
    {
      "cell_type": "code",
      "execution_count": 36,
      "metadata": {
        "id": "FQ-5K7jCo3wE"
      },
      "outputs": [],
      "source": [
        "ab1_prediksi_suspect = ab1_model.predict(df_suspect1)\n",
        "ab2_prediksi_suspect = ab2_model.predict(df_suspect2)\n",
        "ab3_prediksi_suspect = ab3_model.predict(df_suspect3)"
      ]
    },
    {
      "cell_type": "markdown",
      "metadata": {
        "id": "i_qJGwFv7lv6"
      },
      "source": [
        "Melihat hasil prediksi masing-masing model"
      ]
    },
    {
      "cell_type": "code",
      "execution_count": 37,
      "metadata": {
        "colab": {
          "base_uri": "https://localhost:8080/",
          "height": 206
        },
        "id": "hdkYKajapY6u",
        "outputId": "e68810b7-b904-43ad-c340-d9c1dfdb19b4"
      },
      "outputs": [
        {
          "output_type": "execute_result",
          "data": {
            "text/plain": [
              "   AB1  AB2  AB3\n",
              "0  1.0  1.0  0.0\n",
              "1  1.0  1.0  1.0\n",
              "2  0.0  0.0  1.0\n",
              "3  1.0  1.0  1.0\n",
              "4  0.0  1.0  0.0"
            ],
            "text/html": [
              "\n",
              "  <div id=\"df-d0bd2f87-69e0-479e-b392-527ab3a06780\">\n",
              "    <div class=\"colab-df-container\">\n",
              "      <div>\n",
              "<style scoped>\n",
              "    .dataframe tbody tr th:only-of-type {\n",
              "        vertical-align: middle;\n",
              "    }\n",
              "\n",
              "    .dataframe tbody tr th {\n",
              "        vertical-align: top;\n",
              "    }\n",
              "\n",
              "    .dataframe thead th {\n",
              "        text-align: right;\n",
              "    }\n",
              "</style>\n",
              "<table border=\"1\" class=\"dataframe\">\n",
              "  <thead>\n",
              "    <tr style=\"text-align: right;\">\n",
              "      <th></th>\n",
              "      <th>AB1</th>\n",
              "      <th>AB2</th>\n",
              "      <th>AB3</th>\n",
              "    </tr>\n",
              "  </thead>\n",
              "  <tbody>\n",
              "    <tr>\n",
              "      <th>0</th>\n",
              "      <td>1.0</td>\n",
              "      <td>1.0</td>\n",
              "      <td>0.0</td>\n",
              "    </tr>\n",
              "    <tr>\n",
              "      <th>1</th>\n",
              "      <td>1.0</td>\n",
              "      <td>1.0</td>\n",
              "      <td>1.0</td>\n",
              "    </tr>\n",
              "    <tr>\n",
              "      <th>2</th>\n",
              "      <td>0.0</td>\n",
              "      <td>0.0</td>\n",
              "      <td>1.0</td>\n",
              "    </tr>\n",
              "    <tr>\n",
              "      <th>3</th>\n",
              "      <td>1.0</td>\n",
              "      <td>1.0</td>\n",
              "      <td>1.0</td>\n",
              "    </tr>\n",
              "    <tr>\n",
              "      <th>4</th>\n",
              "      <td>0.0</td>\n",
              "      <td>1.0</td>\n",
              "      <td>0.0</td>\n",
              "    </tr>\n",
              "  </tbody>\n",
              "</table>\n",
              "</div>\n",
              "      <button class=\"colab-df-convert\" onclick=\"convertToInteractive('df-d0bd2f87-69e0-479e-b392-527ab3a06780')\"\n",
              "              title=\"Convert this dataframe to an interactive table.\"\n",
              "              style=\"display:none;\">\n",
              "        \n",
              "  <svg xmlns=\"http://www.w3.org/2000/svg\" height=\"24px\"viewBox=\"0 0 24 24\"\n",
              "       width=\"24px\">\n",
              "    <path d=\"M0 0h24v24H0V0z\" fill=\"none\"/>\n",
              "    <path d=\"M18.56 5.44l.94 2.06.94-2.06 2.06-.94-2.06-.94-.94-2.06-.94 2.06-2.06.94zm-11 1L8.5 8.5l.94-2.06 2.06-.94-2.06-.94L8.5 2.5l-.94 2.06-2.06.94zm10 10l.94 2.06.94-2.06 2.06-.94-2.06-.94-.94-2.06-.94 2.06-2.06.94z\"/><path d=\"M17.41 7.96l-1.37-1.37c-.4-.4-.92-.59-1.43-.59-.52 0-1.04.2-1.43.59L10.3 9.45l-7.72 7.72c-.78.78-.78 2.05 0 2.83L4 21.41c.39.39.9.59 1.41.59.51 0 1.02-.2 1.41-.59l7.78-7.78 2.81-2.81c.8-.78.8-2.07 0-2.86zM5.41 20L4 18.59l7.72-7.72 1.47 1.35L5.41 20z\"/>\n",
              "  </svg>\n",
              "      </button>\n",
              "      \n",
              "  <style>\n",
              "    .colab-df-container {\n",
              "      display:flex;\n",
              "      flex-wrap:wrap;\n",
              "      gap: 12px;\n",
              "    }\n",
              "\n",
              "    .colab-df-convert {\n",
              "      background-color: #E8F0FE;\n",
              "      border: none;\n",
              "      border-radius: 50%;\n",
              "      cursor: pointer;\n",
              "      display: none;\n",
              "      fill: #1967D2;\n",
              "      height: 32px;\n",
              "      padding: 0 0 0 0;\n",
              "      width: 32px;\n",
              "    }\n",
              "\n",
              "    .colab-df-convert:hover {\n",
              "      background-color: #E2EBFA;\n",
              "      box-shadow: 0px 1px 2px rgba(60, 64, 67, 0.3), 0px 1px 3px 1px rgba(60, 64, 67, 0.15);\n",
              "      fill: #174EA6;\n",
              "    }\n",
              "\n",
              "    [theme=dark] .colab-df-convert {\n",
              "      background-color: #3B4455;\n",
              "      fill: #D2E3FC;\n",
              "    }\n",
              "\n",
              "    [theme=dark] .colab-df-convert:hover {\n",
              "      background-color: #434B5C;\n",
              "      box-shadow: 0px 1px 3px 1px rgba(0, 0, 0, 0.15);\n",
              "      filter: drop-shadow(0px 1px 2px rgba(0, 0, 0, 0.3));\n",
              "      fill: #FFFFFF;\n",
              "    }\n",
              "  </style>\n",
              "\n",
              "      <script>\n",
              "        const buttonEl =\n",
              "          document.querySelector('#df-d0bd2f87-69e0-479e-b392-527ab3a06780 button.colab-df-convert');\n",
              "        buttonEl.style.display =\n",
              "          google.colab.kernel.accessAllowed ? 'block' : 'none';\n",
              "\n",
              "        async function convertToInteractive(key) {\n",
              "          const element = document.querySelector('#df-d0bd2f87-69e0-479e-b392-527ab3a06780');\n",
              "          const dataTable =\n",
              "            await google.colab.kernel.invokeFunction('convertToInteractive',\n",
              "                                                     [key], {});\n",
              "          if (!dataTable) return;\n",
              "\n",
              "          const docLinkHtml = 'Like what you see? Visit the ' +\n",
              "            '<a target=\"_blank\" href=https://colab.research.google.com/notebooks/data_table.ipynb>data table notebook</a>'\n",
              "            + ' to learn more about interactive tables.';\n",
              "          element.innerHTML = '';\n",
              "          dataTable['output_type'] = 'display_data';\n",
              "          await google.colab.output.renderOutput(dataTable, element);\n",
              "          const docLink = document.createElement('div');\n",
              "          docLink.innerHTML = docLinkHtml;\n",
              "          element.appendChild(docLink);\n",
              "        }\n",
              "      </script>\n",
              "    </div>\n",
              "  </div>\n",
              "  "
            ]
          },
          "metadata": {},
          "execution_count": 37
        }
      ],
      "source": [
        "calon_dataframe = {'AB1' : ab1_prediksi_suspect,\n",
        "                   'AB2' : ab2_prediksi_suspect,\n",
        "                   'AB3' : ab3_prediksi_suspect}\n",
        "suspect_prediksi = pd.DataFrame(calon_dataframe)\n",
        "suspect_prediksi"
      ]
    },
    {
      "cell_type": "markdown",
      "metadata": {
        "id": "hZn3KE5w7pQ_"
      },
      "source": [
        "Export ke CSV"
      ]
    },
    {
      "cell_type": "code",
      "execution_count": 38,
      "metadata": {
        "id": "f6_LOhm7pq9g"
      },
      "outputs": [],
      "source": [
        "suspect_prediksi.to_csv(r'suspect_prediksi_ab.csv', index=False, header=True)"
      ]
    }
  ],
  "metadata": {
    "colab": {
      "name": "04B_ValidasiModel_AB.ipynb",
      "provenance": []
    },
    "kernelspec": {
      "display_name": "Python 3",
      "name": "python3"
    },
    "language_info": {
      "name": "python"
    }
  },
  "nbformat": 4,
  "nbformat_minor": 0
}