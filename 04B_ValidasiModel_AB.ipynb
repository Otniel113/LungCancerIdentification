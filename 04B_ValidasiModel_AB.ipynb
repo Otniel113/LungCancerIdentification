{
  "cells": [
    {
      "cell_type": "markdown",
      "metadata": {
        "id": "ViTfqQr2dURH"
      },
      "source": [
        "<h2><b>Input : </b></h2>\n",
        "\n",
        "*   train_microarray.csv\n",
        "*   test_microarray.csv\n",
        "*   suspect.csv\n",
        "* ab1_features.pkl\n",
        "* ab2_features.pkl\n",
        "* ab3_features.pkl\n",
        "* ab1_model.pkl\n",
        "* ab2_model.pkl\n",
        "* ab3_model.pkl\n",
        "\n",
        "<h2><b>Output : </b></h2>\n",
        "\n",
        "*   test_microarray_prediksi_ab.csv\n",
        "*   suspect_prediksi_ab.csv"
      ]
    },
    {
      "cell_type": "markdown",
      "metadata": {
        "id": "0aI5ojzzdSea"
      },
      "source": [
        "# Run All"
      ]
    },
    {
      "cell_type": "markdown",
      "metadata": {
        "id": "Ozrhr7KzhXXS"
      },
      "source": [
        "## Import dan Load"
      ]
    },
    {
      "cell_type": "markdown",
      "metadata": {
        "id": "A8xYn1Gm6Rmz"
      },
      "source": [
        "Import library yang dibutuhkan"
      ]
    },
    {
      "cell_type": "code",
      "execution_count": null,
      "metadata": {
        "id": "tWkeIwdadK_t"
      },
      "outputs": [],
      "source": [
        "import pandas as pd\n",
        "import numpy as np\n",
        "import seaborn as sns\n",
        "import matplotlib.pyplot as plt\n",
        "\n",
        "from sklearn.ensemble import AdaBoostClassifier\n",
        "from sklearn import metrics\n",
        "\n",
        "import joblib"
      ]
    },
    {
      "cell_type": "markdown",
      "metadata": {
        "id": "EA8tVIA56Tme"
      },
      "source": [
        "Load data"
      ]
    },
    {
      "cell_type": "code",
      "execution_count": null,
      "metadata": {
        "id": "wYdgawQeeiYO"
      },
      "outputs": [],
      "source": [
        "df_train = pd.read_csv('https://drive.google.com/uc?id=1MiU_0V6-LvZ_CyCuWf2HoW-WXNKSIFJQ')\n",
        "df_test = pd.read_csv('https://drive.google.com/uc?id=1G-TSwysKHqTcXl0GERkf3cXKUtBrJ1Yc')\n",
        "df_suspect = pd.read_csv('https://drive.google.com/uc?id=1r8oGfgJ3RTxRZSlU7pcYkBbq2ATOoRVP')"
      ]
    },
    {
      "cell_type": "markdown",
      "metadata": {
        "id": "zUwyeaIC6Vc-"
      },
      "source": [
        "Load hasil seleksi fitur"
      ]
    },
    {
      "cell_type": "code",
      "execution_count": null,
      "metadata": {
        "id": "Wx9nsMB0vWb5"
      },
      "outputs": [],
      "source": [
        "ab1_features = joblib.load('ab1_features.pkl')\n",
        "ab2_features = joblib.load('ab2_features.pkl')\n",
        "ab3_features = joblib.load('ab3_features.pkl')"
      ]
    },
    {
      "cell_type": "markdown",
      "metadata": {
        "id": "vJW7OZag6XNh"
      },
      "source": [
        "Load hyperparameter tuning"
      ]
    },
    {
      "cell_type": "code",
      "execution_count": null,
      "metadata": {
        "id": "wjb-jzV8vryq"
      },
      "outputs": [],
      "source": [
        "ab1_model = joblib.load('ab1_model.pkl')\n",
        "ab2_model = joblib.load('ab2_model.pkl')\n",
        "ab3_model = joblib.load('ab3_model.pkl')"
      ]
    },
    {
      "cell_type": "markdown",
      "metadata": {
        "id": "nH4n2JGX6ZJA"
      },
      "source": [
        "Mengambil fitur dari df_train awal"
      ]
    },
    {
      "cell_type": "code",
      "execution_count": null,
      "metadata": {
        "id": "fS2JtuNowoFX"
      },
      "outputs": [],
      "source": [
        "df_train1 = df_train[ab1_features]\n",
        "df_train2 = df_train[ab2_features]\n",
        "df_train3 = df_train[ab3_features]"
      ]
    },
    {
      "cell_type": "markdown",
      "metadata": {
        "id": "d8E0z4ZA6bzz"
      },
      "source": [
        "Mengambil fitur dari df_test awal"
      ]
    },
    {
      "cell_type": "code",
      "execution_count": null,
      "metadata": {
        "id": "SMZ3RSo9wx23"
      },
      "outputs": [],
      "source": [
        "df_test1 = df_test[ab1_features]\n",
        "df_test2 = df_test[ab2_features]\n",
        "df_test3 = df_test[ab3_features]"
      ]
    },
    {
      "cell_type": "markdown",
      "metadata": {
        "id": "ofP2C1US6fDy"
      },
      "source": [
        "Mengambil fitur dari df_suspect"
      ]
    },
    {
      "cell_type": "code",
      "execution_count": null,
      "metadata": {
        "id": "DDjLjXb9ynME"
      },
      "outputs": [],
      "source": [
        "df_suspect1 = df_suspect[ab1_features[:-1]]\n",
        "df_suspect2 = df_suspect[ab2_features[:-1]]\n",
        "df_suspect3 = df_suspect[ab3_features[:-1]]"
      ]
    },
    {
      "cell_type": "markdown",
      "metadata": {
        "id": "xxytEywThbGG"
      },
      "source": [
        "### Contoh Data Train"
      ]
    },
    {
      "cell_type": "code",
      "execution_count": null,
      "metadata": {
        "colab": {
          "base_uri": "https://localhost:8080/"
        },
        "id": "NvtgkrQbgv25",
        "outputId": "dea3be0b-fadf-4810-c936-881008ffdc0d"
      },
      "outputs": [
        {
          "output_type": "execute_result",
          "data": {
            "text/plain": [
              "   211612_s_at  217653_x_at  211996_s_at  214594_x_at  218155_x_at  \\\n",
              "0     2.535743     2.052387     2.873506     2.285882     2.518572   \n",
              "1     2.587822     1.957657     2.779933     2.248177     2.508590   \n",
              "2     2.529666     2.059190     2.805088     2.255567     2.658405   \n",
              "3     2.274739     2.273920     2.952965     2.554384     2.736684   \n",
              "4     2.551101     2.321532     2.887101     2.752609     2.752873   \n",
              "\n",
              "   202936_s_at  216609_at  207953_at  217679_x_at  210168_at  ...  204919_at  \\\n",
              "0     2.656989   1.982433   2.324655     2.431334   2.458624  ...   2.723190   \n",
              "1     2.366057   2.139794   2.280555     2.374257   2.461287  ...   2.761961   \n",
              "2     2.542071   2.113104   2.323435     2.513285   2.488348  ...   2.794787   \n",
              "3     2.465318   2.204011   2.573738     2.646684   2.458046  ...   2.436898   \n",
              "4     2.608392   2.483343   2.565807     2.924184   2.526407  ...   2.601354   \n",
              "\n",
              "   202436_s_at  202437_s_at  209457_at  206584_at  217022_s_at  206835_at  \\\n",
              "0     2.481315     1.911761   2.790067   2.594274     3.326183   2.172511   \n",
              "1     3.235303     3.104195   2.511882   2.270037     2.215997   2.492978   \n",
              "2     3.018061     2.694711   2.600055   2.286755     2.428886   2.180694   \n",
              "3     2.478467     1.743530   2.305844   1.810791     3.321267   2.043120   \n",
              "4     2.681277     2.099440   2.453478   2.682590     3.044343   2.009510   \n",
              "\n",
              "   202435_s_at  205749_at  Label  \n",
              "0     1.817986   2.344495      1  \n",
              "1     2.619466   2.850630      1  \n",
              "2     2.300764   2.624524      0  \n",
              "3     1.905358   2.407280      0  \n",
              "4     1.929459   2.500476      0  \n",
              "\n",
              "[5 rows x 101 columns]"
            ],
            "text/html": [
              "\n",
              "  <div id=\"df-5b119c5e-1e5f-4d75-bbea-18bfec47df5a\">\n",
              "    <div class=\"colab-df-container\">\n",
              "      <div>\n",
              "<style scoped>\n",
              "    .dataframe tbody tr th:only-of-type {\n",
              "        vertical-align: middle;\n",
              "    }\n",
              "\n",
              "    .dataframe tbody tr th {\n",
              "        vertical-align: top;\n",
              "    }\n",
              "\n",
              "    .dataframe thead th {\n",
              "        text-align: right;\n",
              "    }\n",
              "</style>\n",
              "<table border=\"1\" class=\"dataframe\">\n",
              "  <thead>\n",
              "    <tr style=\"text-align: right;\">\n",
              "      <th></th>\n",
              "      <th>211612_s_at</th>\n",
              "      <th>217653_x_at</th>\n",
              "      <th>211996_s_at</th>\n",
              "      <th>214594_x_at</th>\n",
              "      <th>218155_x_at</th>\n",
              "      <th>202936_s_at</th>\n",
              "      <th>216609_at</th>\n",
              "      <th>207953_at</th>\n",
              "      <th>217679_x_at</th>\n",
              "      <th>210168_at</th>\n",
              "      <th>...</th>\n",
              "      <th>204919_at</th>\n",
              "      <th>202436_s_at</th>\n",
              "      <th>202437_s_at</th>\n",
              "      <th>209457_at</th>\n",
              "      <th>206584_at</th>\n",
              "      <th>217022_s_at</th>\n",
              "      <th>206835_at</th>\n",
              "      <th>202435_s_at</th>\n",
              "      <th>205749_at</th>\n",
              "      <th>Label</th>\n",
              "    </tr>\n",
              "  </thead>\n",
              "  <tbody>\n",
              "    <tr>\n",
              "      <th>0</th>\n",
              "      <td>2.535743</td>\n",
              "      <td>2.052387</td>\n",
              "      <td>2.873506</td>\n",
              "      <td>2.285882</td>\n",
              "      <td>2.518572</td>\n",
              "      <td>2.656989</td>\n",
              "      <td>1.982433</td>\n",
              "      <td>2.324655</td>\n",
              "      <td>2.431334</td>\n",
              "      <td>2.458624</td>\n",
              "      <td>...</td>\n",
              "      <td>2.723190</td>\n",
              "      <td>2.481315</td>\n",
              "      <td>1.911761</td>\n",
              "      <td>2.790067</td>\n",
              "      <td>2.594274</td>\n",
              "      <td>3.326183</td>\n",
              "      <td>2.172511</td>\n",
              "      <td>1.817986</td>\n",
              "      <td>2.344495</td>\n",
              "      <td>1</td>\n",
              "    </tr>\n",
              "    <tr>\n",
              "      <th>1</th>\n",
              "      <td>2.587822</td>\n",
              "      <td>1.957657</td>\n",
              "      <td>2.779933</td>\n",
              "      <td>2.248177</td>\n",
              "      <td>2.508590</td>\n",
              "      <td>2.366057</td>\n",
              "      <td>2.139794</td>\n",
              "      <td>2.280555</td>\n",
              "      <td>2.374257</td>\n",
              "      <td>2.461287</td>\n",
              "      <td>...</td>\n",
              "      <td>2.761961</td>\n",
              "      <td>3.235303</td>\n",
              "      <td>3.104195</td>\n",
              "      <td>2.511882</td>\n",
              "      <td>2.270037</td>\n",
              "      <td>2.215997</td>\n",
              "      <td>2.492978</td>\n",
              "      <td>2.619466</td>\n",
              "      <td>2.850630</td>\n",
              "      <td>1</td>\n",
              "    </tr>\n",
              "    <tr>\n",
              "      <th>2</th>\n",
              "      <td>2.529666</td>\n",
              "      <td>2.059190</td>\n",
              "      <td>2.805088</td>\n",
              "      <td>2.255567</td>\n",
              "      <td>2.658405</td>\n",
              "      <td>2.542071</td>\n",
              "      <td>2.113104</td>\n",
              "      <td>2.323435</td>\n",
              "      <td>2.513285</td>\n",
              "      <td>2.488348</td>\n",
              "      <td>...</td>\n",
              "      <td>2.794787</td>\n",
              "      <td>3.018061</td>\n",
              "      <td>2.694711</td>\n",
              "      <td>2.600055</td>\n",
              "      <td>2.286755</td>\n",
              "      <td>2.428886</td>\n",
              "      <td>2.180694</td>\n",
              "      <td>2.300764</td>\n",
              "      <td>2.624524</td>\n",
              "      <td>0</td>\n",
              "    </tr>\n",
              "    <tr>\n",
              "      <th>3</th>\n",
              "      <td>2.274739</td>\n",
              "      <td>2.273920</td>\n",
              "      <td>2.952965</td>\n",
              "      <td>2.554384</td>\n",
              "      <td>2.736684</td>\n",
              "      <td>2.465318</td>\n",
              "      <td>2.204011</td>\n",
              "      <td>2.573738</td>\n",
              "      <td>2.646684</td>\n",
              "      <td>2.458046</td>\n",
              "      <td>...</td>\n",
              "      <td>2.436898</td>\n",
              "      <td>2.478467</td>\n",
              "      <td>1.743530</td>\n",
              "      <td>2.305844</td>\n",
              "      <td>1.810791</td>\n",
              "      <td>3.321267</td>\n",
              "      <td>2.043120</td>\n",
              "      <td>1.905358</td>\n",
              "      <td>2.407280</td>\n",
              "      <td>0</td>\n",
              "    </tr>\n",
              "    <tr>\n",
              "      <th>4</th>\n",
              "      <td>2.551101</td>\n",
              "      <td>2.321532</td>\n",
              "      <td>2.887101</td>\n",
              "      <td>2.752609</td>\n",
              "      <td>2.752873</td>\n",
              "      <td>2.608392</td>\n",
              "      <td>2.483343</td>\n",
              "      <td>2.565807</td>\n",
              "      <td>2.924184</td>\n",
              "      <td>2.526407</td>\n",
              "      <td>...</td>\n",
              "      <td>2.601354</td>\n",
              "      <td>2.681277</td>\n",
              "      <td>2.099440</td>\n",
              "      <td>2.453478</td>\n",
              "      <td>2.682590</td>\n",
              "      <td>3.044343</td>\n",
              "      <td>2.009510</td>\n",
              "      <td>1.929459</td>\n",
              "      <td>2.500476</td>\n",
              "      <td>0</td>\n",
              "    </tr>\n",
              "  </tbody>\n",
              "</table>\n",
              "<p>5 rows × 101 columns</p>\n",
              "</div>\n",
              "      <button class=\"colab-df-convert\" onclick=\"convertToInteractive('df-5b119c5e-1e5f-4d75-bbea-18bfec47df5a')\"\n",
              "              title=\"Convert this dataframe to an interactive table.\"\n",
              "              style=\"display:none;\">\n",
              "        \n",
              "  <svg xmlns=\"http://www.w3.org/2000/svg\" height=\"24px\"viewBox=\"0 0 24 24\"\n",
              "       width=\"24px\">\n",
              "    <path d=\"M0 0h24v24H0V0z\" fill=\"none\"/>\n",
              "    <path d=\"M18.56 5.44l.94 2.06.94-2.06 2.06-.94-2.06-.94-.94-2.06-.94 2.06-2.06.94zm-11 1L8.5 8.5l.94-2.06 2.06-.94-2.06-.94L8.5 2.5l-.94 2.06-2.06.94zm10 10l.94 2.06.94-2.06 2.06-.94-2.06-.94-.94-2.06-.94 2.06-2.06.94z\"/><path d=\"M17.41 7.96l-1.37-1.37c-.4-.4-.92-.59-1.43-.59-.52 0-1.04.2-1.43.59L10.3 9.45l-7.72 7.72c-.78.78-.78 2.05 0 2.83L4 21.41c.39.39.9.59 1.41.59.51 0 1.02-.2 1.41-.59l7.78-7.78 2.81-2.81c.8-.78.8-2.07 0-2.86zM5.41 20L4 18.59l7.72-7.72 1.47 1.35L5.41 20z\"/>\n",
              "  </svg>\n",
              "      </button>\n",
              "      \n",
              "  <style>\n",
              "    .colab-df-container {\n",
              "      display:flex;\n",
              "      flex-wrap:wrap;\n",
              "      gap: 12px;\n",
              "    }\n",
              "\n",
              "    .colab-df-convert {\n",
              "      background-color: #E8F0FE;\n",
              "      border: none;\n",
              "      border-radius: 50%;\n",
              "      cursor: pointer;\n",
              "      display: none;\n",
              "      fill: #1967D2;\n",
              "      height: 32px;\n",
              "      padding: 0 0 0 0;\n",
              "      width: 32px;\n",
              "    }\n",
              "\n",
              "    .colab-df-convert:hover {\n",
              "      background-color: #E2EBFA;\n",
              "      box-shadow: 0px 1px 2px rgba(60, 64, 67, 0.3), 0px 1px 3px 1px rgba(60, 64, 67, 0.15);\n",
              "      fill: #174EA6;\n",
              "    }\n",
              "\n",
              "    [theme=dark] .colab-df-convert {\n",
              "      background-color: #3B4455;\n",
              "      fill: #D2E3FC;\n",
              "    }\n",
              "\n",
              "    [theme=dark] .colab-df-convert:hover {\n",
              "      background-color: #434B5C;\n",
              "      box-shadow: 0px 1px 3px 1px rgba(0, 0, 0, 0.15);\n",
              "      filter: drop-shadow(0px 1px 2px rgba(0, 0, 0, 0.3));\n",
              "      fill: #FFFFFF;\n",
              "    }\n",
              "  </style>\n",
              "\n",
              "      <script>\n",
              "        const buttonEl =\n",
              "          document.querySelector('#df-5b119c5e-1e5f-4d75-bbea-18bfec47df5a button.colab-df-convert');\n",
              "        buttonEl.style.display =\n",
              "          google.colab.kernel.accessAllowed ? 'block' : 'none';\n",
              "\n",
              "        async function convertToInteractive(key) {\n",
              "          const element = document.querySelector('#df-5b119c5e-1e5f-4d75-bbea-18bfec47df5a');\n",
              "          const dataTable =\n",
              "            await google.colab.kernel.invokeFunction('convertToInteractive',\n",
              "                                                     [key], {});\n",
              "          if (!dataTable) return;\n",
              "\n",
              "          const docLinkHtml = 'Like what you see? Visit the ' +\n",
              "            '<a target=\"_blank\" href=https://colab.research.google.com/notebooks/data_table.ipynb>data table notebook</a>'\n",
              "            + ' to learn more about interactive tables.';\n",
              "          element.innerHTML = '';\n",
              "          dataTable['output_type'] = 'display_data';\n",
              "          await google.colab.output.renderOutput(dataTable, element);\n",
              "          const docLink = document.createElement('div');\n",
              "          docLink.innerHTML = docLinkHtml;\n",
              "          element.appendChild(docLink);\n",
              "        }\n",
              "      </script>\n",
              "    </div>\n",
              "  </div>\n",
              "  "
            ]
          },
          "metadata": {},
          "execution_count": 8
        }
      ],
      "source": [
        "df_train1.head()"
      ]
    },
    {
      "cell_type": "code",
      "execution_count": null,
      "metadata": {
        "colab": {
          "base_uri": "https://localhost:8080/"
        },
        "id": "JrlD8rgOg_fB",
        "outputId": "3780e14b-f54f-4835-fab4-a23231a325f7"
      },
      "outputs": [
        {
          "output_type": "execute_result",
          "data": {
            "text/plain": [
              "(130, 101)"
            ]
          },
          "metadata": {},
          "execution_count": 9
        }
      ],
      "source": [
        "df_train1.shape"
      ]
    },
    {
      "cell_type": "markdown",
      "metadata": {
        "id": "t2bLyadvhddJ"
      },
      "source": [
        "### Contoh Data Test"
      ]
    },
    {
      "cell_type": "code",
      "execution_count": null,
      "metadata": {
        "colab": {
          "base_uri": "https://localhost:8080/"
        },
        "id": "ebnH4y9bhBZu",
        "outputId": "0851f223-a073-4971-e3d0-0f762c8c44e7"
      },
      "outputs": [
        {
          "output_type": "execute_result",
          "data": {
            "text/plain": [
              "   211612_s_at  217653_x_at  211996_s_at  214594_x_at  218155_x_at  \\\n",
              "0     2.522052     2.503071     2.833083     2.905310     2.861828   \n",
              "1     2.529361     2.043689     2.729539     2.276008     2.508054   \n",
              "2     2.383285     2.557625     2.992440     2.949728     2.925960   \n",
              "3     2.642286     2.047078     2.834506     2.434371     2.548282   \n",
              "4     2.406230     2.275517     3.065341     2.827774     2.847275   \n",
              "\n",
              "   202936_s_at  216609_at  207953_at  217679_x_at  210168_at  ...  204919_at  \\\n",
              "0     2.513210   1.864313   2.747823     2.956634   2.404330  ...   2.546919   \n",
              "1     2.776756   1.974100   2.348572     2.367388   2.955563  ...   2.612417   \n",
              "2     2.637554   2.126646   2.739890     3.010178   2.614746  ...   2.518581   \n",
              "3     2.529123   2.054124   2.260270     2.516614   2.458760  ...   2.588969   \n",
              "4     2.353981   2.104720   2.664395     2.946265   2.519038  ...   2.548820   \n",
              "\n",
              "   202436_s_at  202437_s_at  209457_at  206584_at  217022_s_at  206835_at  \\\n",
              "0     2.607032     1.901940   2.742895   1.850130     2.711916   2.090198   \n",
              "1     2.438313     1.672712   3.012799   2.023244     3.094587   1.931578   \n",
              "2     2.493968     1.826291   2.621983   1.706684     2.565371   1.880459   \n",
              "3     2.456515     1.862865   2.623923   1.939054     2.570787   2.055436   \n",
              "4     2.876919     2.713711   2.736259   2.197337     2.706017   1.962940   \n",
              "\n",
              "   202435_s_at  205749_at  Label  \n",
              "0     2.100430   2.481651      0  \n",
              "1     1.795092   2.285975      1  \n",
              "2     1.853020   2.467939      1  \n",
              "3     1.730806   2.274817      1  \n",
              "4     2.250387   2.292197      0  \n",
              "\n",
              "[5 rows x 101 columns]"
            ],
            "text/html": [
              "\n",
              "  <div id=\"df-7238caa6-77cb-4ee2-b5cc-b983f38b0e63\">\n",
              "    <div class=\"colab-df-container\">\n",
              "      <div>\n",
              "<style scoped>\n",
              "    .dataframe tbody tr th:only-of-type {\n",
              "        vertical-align: middle;\n",
              "    }\n",
              "\n",
              "    .dataframe tbody tr th {\n",
              "        vertical-align: top;\n",
              "    }\n",
              "\n",
              "    .dataframe thead th {\n",
              "        text-align: right;\n",
              "    }\n",
              "</style>\n",
              "<table border=\"1\" class=\"dataframe\">\n",
              "  <thead>\n",
              "    <tr style=\"text-align: right;\">\n",
              "      <th></th>\n",
              "      <th>211612_s_at</th>\n",
              "      <th>217653_x_at</th>\n",
              "      <th>211996_s_at</th>\n",
              "      <th>214594_x_at</th>\n",
              "      <th>218155_x_at</th>\n",
              "      <th>202936_s_at</th>\n",
              "      <th>216609_at</th>\n",
              "      <th>207953_at</th>\n",
              "      <th>217679_x_at</th>\n",
              "      <th>210168_at</th>\n",
              "      <th>...</th>\n",
              "      <th>204919_at</th>\n",
              "      <th>202436_s_at</th>\n",
              "      <th>202437_s_at</th>\n",
              "      <th>209457_at</th>\n",
              "      <th>206584_at</th>\n",
              "      <th>217022_s_at</th>\n",
              "      <th>206835_at</th>\n",
              "      <th>202435_s_at</th>\n",
              "      <th>205749_at</th>\n",
              "      <th>Label</th>\n",
              "    </tr>\n",
              "  </thead>\n",
              "  <tbody>\n",
              "    <tr>\n",
              "      <th>0</th>\n",
              "      <td>2.522052</td>\n",
              "      <td>2.503071</td>\n",
              "      <td>2.833083</td>\n",
              "      <td>2.905310</td>\n",
              "      <td>2.861828</td>\n",
              "      <td>2.513210</td>\n",
              "      <td>1.864313</td>\n",
              "      <td>2.747823</td>\n",
              "      <td>2.956634</td>\n",
              "      <td>2.404330</td>\n",
              "      <td>...</td>\n",
              "      <td>2.546919</td>\n",
              "      <td>2.607032</td>\n",
              "      <td>1.901940</td>\n",
              "      <td>2.742895</td>\n",
              "      <td>1.850130</td>\n",
              "      <td>2.711916</td>\n",
              "      <td>2.090198</td>\n",
              "      <td>2.100430</td>\n",
              "      <td>2.481651</td>\n",
              "      <td>0</td>\n",
              "    </tr>\n",
              "    <tr>\n",
              "      <th>1</th>\n",
              "      <td>2.529361</td>\n",
              "      <td>2.043689</td>\n",
              "      <td>2.729539</td>\n",
              "      <td>2.276008</td>\n",
              "      <td>2.508054</td>\n",
              "      <td>2.776756</td>\n",
              "      <td>1.974100</td>\n",
              "      <td>2.348572</td>\n",
              "      <td>2.367388</td>\n",
              "      <td>2.955563</td>\n",
              "      <td>...</td>\n",
              "      <td>2.612417</td>\n",
              "      <td>2.438313</td>\n",
              "      <td>1.672712</td>\n",
              "      <td>3.012799</td>\n",
              "      <td>2.023244</td>\n",
              "      <td>3.094587</td>\n",
              "      <td>1.931578</td>\n",
              "      <td>1.795092</td>\n",
              "      <td>2.285975</td>\n",
              "      <td>1</td>\n",
              "    </tr>\n",
              "    <tr>\n",
              "      <th>2</th>\n",
              "      <td>2.383285</td>\n",
              "      <td>2.557625</td>\n",
              "      <td>2.992440</td>\n",
              "      <td>2.949728</td>\n",
              "      <td>2.925960</td>\n",
              "      <td>2.637554</td>\n",
              "      <td>2.126646</td>\n",
              "      <td>2.739890</td>\n",
              "      <td>3.010178</td>\n",
              "      <td>2.614746</td>\n",
              "      <td>...</td>\n",
              "      <td>2.518581</td>\n",
              "      <td>2.493968</td>\n",
              "      <td>1.826291</td>\n",
              "      <td>2.621983</td>\n",
              "      <td>1.706684</td>\n",
              "      <td>2.565371</td>\n",
              "      <td>1.880459</td>\n",
              "      <td>1.853020</td>\n",
              "      <td>2.467939</td>\n",
              "      <td>1</td>\n",
              "    </tr>\n",
              "    <tr>\n",
              "      <th>3</th>\n",
              "      <td>2.642286</td>\n",
              "      <td>2.047078</td>\n",
              "      <td>2.834506</td>\n",
              "      <td>2.434371</td>\n",
              "      <td>2.548282</td>\n",
              "      <td>2.529123</td>\n",
              "      <td>2.054124</td>\n",
              "      <td>2.260270</td>\n",
              "      <td>2.516614</td>\n",
              "      <td>2.458760</td>\n",
              "      <td>...</td>\n",
              "      <td>2.588969</td>\n",
              "      <td>2.456515</td>\n",
              "      <td>1.862865</td>\n",
              "      <td>2.623923</td>\n",
              "      <td>1.939054</td>\n",
              "      <td>2.570787</td>\n",
              "      <td>2.055436</td>\n",
              "      <td>1.730806</td>\n",
              "      <td>2.274817</td>\n",
              "      <td>1</td>\n",
              "    </tr>\n",
              "    <tr>\n",
              "      <th>4</th>\n",
              "      <td>2.406230</td>\n",
              "      <td>2.275517</td>\n",
              "      <td>3.065341</td>\n",
              "      <td>2.827774</td>\n",
              "      <td>2.847275</td>\n",
              "      <td>2.353981</td>\n",
              "      <td>2.104720</td>\n",
              "      <td>2.664395</td>\n",
              "      <td>2.946265</td>\n",
              "      <td>2.519038</td>\n",
              "      <td>...</td>\n",
              "      <td>2.548820</td>\n",
              "      <td>2.876919</td>\n",
              "      <td>2.713711</td>\n",
              "      <td>2.736259</td>\n",
              "      <td>2.197337</td>\n",
              "      <td>2.706017</td>\n",
              "      <td>1.962940</td>\n",
              "      <td>2.250387</td>\n",
              "      <td>2.292197</td>\n",
              "      <td>0</td>\n",
              "    </tr>\n",
              "  </tbody>\n",
              "</table>\n",
              "<p>5 rows × 101 columns</p>\n",
              "</div>\n",
              "      <button class=\"colab-df-convert\" onclick=\"convertToInteractive('df-7238caa6-77cb-4ee2-b5cc-b983f38b0e63')\"\n",
              "              title=\"Convert this dataframe to an interactive table.\"\n",
              "              style=\"display:none;\">\n",
              "        \n",
              "  <svg xmlns=\"http://www.w3.org/2000/svg\" height=\"24px\"viewBox=\"0 0 24 24\"\n",
              "       width=\"24px\">\n",
              "    <path d=\"M0 0h24v24H0V0z\" fill=\"none\"/>\n",
              "    <path d=\"M18.56 5.44l.94 2.06.94-2.06 2.06-.94-2.06-.94-.94-2.06-.94 2.06-2.06.94zm-11 1L8.5 8.5l.94-2.06 2.06-.94-2.06-.94L8.5 2.5l-.94 2.06-2.06.94zm10 10l.94 2.06.94-2.06 2.06-.94-2.06-.94-.94-2.06-.94 2.06-2.06.94z\"/><path d=\"M17.41 7.96l-1.37-1.37c-.4-.4-.92-.59-1.43-.59-.52 0-1.04.2-1.43.59L10.3 9.45l-7.72 7.72c-.78.78-.78 2.05 0 2.83L4 21.41c.39.39.9.59 1.41.59.51 0 1.02-.2 1.41-.59l7.78-7.78 2.81-2.81c.8-.78.8-2.07 0-2.86zM5.41 20L4 18.59l7.72-7.72 1.47 1.35L5.41 20z\"/>\n",
              "  </svg>\n",
              "      </button>\n",
              "      \n",
              "  <style>\n",
              "    .colab-df-container {\n",
              "      display:flex;\n",
              "      flex-wrap:wrap;\n",
              "      gap: 12px;\n",
              "    }\n",
              "\n",
              "    .colab-df-convert {\n",
              "      background-color: #E8F0FE;\n",
              "      border: none;\n",
              "      border-radius: 50%;\n",
              "      cursor: pointer;\n",
              "      display: none;\n",
              "      fill: #1967D2;\n",
              "      height: 32px;\n",
              "      padding: 0 0 0 0;\n",
              "      width: 32px;\n",
              "    }\n",
              "\n",
              "    .colab-df-convert:hover {\n",
              "      background-color: #E2EBFA;\n",
              "      box-shadow: 0px 1px 2px rgba(60, 64, 67, 0.3), 0px 1px 3px 1px rgba(60, 64, 67, 0.15);\n",
              "      fill: #174EA6;\n",
              "    }\n",
              "\n",
              "    [theme=dark] .colab-df-convert {\n",
              "      background-color: #3B4455;\n",
              "      fill: #D2E3FC;\n",
              "    }\n",
              "\n",
              "    [theme=dark] .colab-df-convert:hover {\n",
              "      background-color: #434B5C;\n",
              "      box-shadow: 0px 1px 3px 1px rgba(0, 0, 0, 0.15);\n",
              "      filter: drop-shadow(0px 1px 2px rgba(0, 0, 0, 0.3));\n",
              "      fill: #FFFFFF;\n",
              "    }\n",
              "  </style>\n",
              "\n",
              "      <script>\n",
              "        const buttonEl =\n",
              "          document.querySelector('#df-7238caa6-77cb-4ee2-b5cc-b983f38b0e63 button.colab-df-convert');\n",
              "        buttonEl.style.display =\n",
              "          google.colab.kernel.accessAllowed ? 'block' : 'none';\n",
              "\n",
              "        async function convertToInteractive(key) {\n",
              "          const element = document.querySelector('#df-7238caa6-77cb-4ee2-b5cc-b983f38b0e63');\n",
              "          const dataTable =\n",
              "            await google.colab.kernel.invokeFunction('convertToInteractive',\n",
              "                                                     [key], {});\n",
              "          if (!dataTable) return;\n",
              "\n",
              "          const docLinkHtml = 'Like what you see? Visit the ' +\n",
              "            '<a target=\"_blank\" href=https://colab.research.google.com/notebooks/data_table.ipynb>data table notebook</a>'\n",
              "            + ' to learn more about interactive tables.';\n",
              "          element.innerHTML = '';\n",
              "          dataTable['output_type'] = 'display_data';\n",
              "          await google.colab.output.renderOutput(dataTable, element);\n",
              "          const docLink = document.createElement('div');\n",
              "          docLink.innerHTML = docLinkHtml;\n",
              "          element.appendChild(docLink);\n",
              "        }\n",
              "      </script>\n",
              "    </div>\n",
              "  </div>\n",
              "  "
            ]
          },
          "metadata": {},
          "execution_count": 10
        }
      ],
      "source": [
        "df_test1.head()"
      ]
    },
    {
      "cell_type": "code",
      "execution_count": null,
      "metadata": {
        "colab": {
          "base_uri": "https://localhost:8080/"
        },
        "id": "1aFAnyQPhEjO",
        "outputId": "6ef7ede3-819e-49f9-babc-9b5e9826f85e"
      },
      "outputs": [
        {
          "output_type": "execute_result",
          "data": {
            "text/plain": [
              "(57, 101)"
            ]
          },
          "metadata": {},
          "execution_count": 11
        }
      ],
      "source": [
        "df_test1.shape"
      ]
    },
    {
      "cell_type": "markdown",
      "metadata": {
        "id": "es5TB-Bbhi_i"
      },
      "source": [
        "### Suspect"
      ]
    },
    {
      "cell_type": "code",
      "execution_count": null,
      "metadata": {
        "colab": {
          "base_uri": "https://localhost:8080/"
        },
        "id": "ZdB383_thG22",
        "outputId": "8fbba07b-d05b-4a55-faf0-56ac44ea8c8e"
      },
      "outputs": [
        {
          "output_type": "execute_result",
          "data": {
            "text/plain": [
              "   211612_s_at  217653_x_at  211996_s_at  214594_x_at  218155_x_at  \\\n",
              "0     2.256059     2.559232     2.904486     2.924660     2.958922   \n",
              "1     2.476502     2.484916     2.435804     2.751464     2.922157   \n",
              "2     2.516803     2.352785     2.557198     2.925518     3.073885   \n",
              "3     2.499117     2.559049     2.656475     2.763619     2.878468   \n",
              "4     2.411571     2.453675     2.912560     2.780565     2.861779   \n",
              "\n",
              "   202936_s_at  216609_at  207953_at  217679_x_at  210168_at  ...  \\\n",
              "0     2.558358   1.645253   2.650864     2.997475   2.456140  ...   \n",
              "1     2.513460   1.737874   2.718411     2.893192   2.666058  ...   \n",
              "2     2.543978   2.022472   2.774471     3.149213   2.749327  ...   \n",
              "3     2.592949   1.811895   2.649418     2.847074   2.590253  ...   \n",
              "4     2.491120   2.357249   2.690230     2.971505   2.549438  ...   \n",
              "\n",
              "   211506_s_at  204919_at  202436_s_at  202437_s_at  209457_at  206584_at  \\\n",
              "0     1.975129   2.552534     2.601120     2.001077   2.579224   2.032561   \n",
              "1     2.067233   2.606267     2.631799     2.074114   2.592667   1.902926   \n",
              "2     2.121054   2.605409     2.584824     1.936278   2.568440   1.958284   \n",
              "3     1.927978   2.618020     2.512463     1.829970   2.625267   1.971494   \n",
              "4     2.031565   2.739638     2.956099     2.816007   2.442840   1.979739   \n",
              "\n",
              "   217022_s_at  206835_at  202435_s_at  205749_at  \n",
              "0     3.042804   2.210259     1.975153   2.530297  \n",
              "1     2.446501   2.350769     2.147601   2.639203  \n",
              "2     2.244948   2.293260     2.111180   2.626987  \n",
              "3     2.902077   2.311065     2.034676   2.572015  \n",
              "4     2.802077   2.326602     2.101394   2.770397  \n",
              "\n",
              "[5 rows x 100 columns]"
            ],
            "text/html": [
              "\n",
              "  <div id=\"df-4b865b51-90a6-44ab-837f-5a9aadea9cc9\">\n",
              "    <div class=\"colab-df-container\">\n",
              "      <div>\n",
              "<style scoped>\n",
              "    .dataframe tbody tr th:only-of-type {\n",
              "        vertical-align: middle;\n",
              "    }\n",
              "\n",
              "    .dataframe tbody tr th {\n",
              "        vertical-align: top;\n",
              "    }\n",
              "\n",
              "    .dataframe thead th {\n",
              "        text-align: right;\n",
              "    }\n",
              "</style>\n",
              "<table border=\"1\" class=\"dataframe\">\n",
              "  <thead>\n",
              "    <tr style=\"text-align: right;\">\n",
              "      <th></th>\n",
              "      <th>211612_s_at</th>\n",
              "      <th>217653_x_at</th>\n",
              "      <th>211996_s_at</th>\n",
              "      <th>214594_x_at</th>\n",
              "      <th>218155_x_at</th>\n",
              "      <th>202936_s_at</th>\n",
              "      <th>216609_at</th>\n",
              "      <th>207953_at</th>\n",
              "      <th>217679_x_at</th>\n",
              "      <th>210168_at</th>\n",
              "      <th>...</th>\n",
              "      <th>211506_s_at</th>\n",
              "      <th>204919_at</th>\n",
              "      <th>202436_s_at</th>\n",
              "      <th>202437_s_at</th>\n",
              "      <th>209457_at</th>\n",
              "      <th>206584_at</th>\n",
              "      <th>217022_s_at</th>\n",
              "      <th>206835_at</th>\n",
              "      <th>202435_s_at</th>\n",
              "      <th>205749_at</th>\n",
              "    </tr>\n",
              "  </thead>\n",
              "  <tbody>\n",
              "    <tr>\n",
              "      <th>0</th>\n",
              "      <td>2.256059</td>\n",
              "      <td>2.559232</td>\n",
              "      <td>2.904486</td>\n",
              "      <td>2.924660</td>\n",
              "      <td>2.958922</td>\n",
              "      <td>2.558358</td>\n",
              "      <td>1.645253</td>\n",
              "      <td>2.650864</td>\n",
              "      <td>2.997475</td>\n",
              "      <td>2.456140</td>\n",
              "      <td>...</td>\n",
              "      <td>1.975129</td>\n",
              "      <td>2.552534</td>\n",
              "      <td>2.601120</td>\n",
              "      <td>2.001077</td>\n",
              "      <td>2.579224</td>\n",
              "      <td>2.032561</td>\n",
              "      <td>3.042804</td>\n",
              "      <td>2.210259</td>\n",
              "      <td>1.975153</td>\n",
              "      <td>2.530297</td>\n",
              "    </tr>\n",
              "    <tr>\n",
              "      <th>1</th>\n",
              "      <td>2.476502</td>\n",
              "      <td>2.484916</td>\n",
              "      <td>2.435804</td>\n",
              "      <td>2.751464</td>\n",
              "      <td>2.922157</td>\n",
              "      <td>2.513460</td>\n",
              "      <td>1.737874</td>\n",
              "      <td>2.718411</td>\n",
              "      <td>2.893192</td>\n",
              "      <td>2.666058</td>\n",
              "      <td>...</td>\n",
              "      <td>2.067233</td>\n",
              "      <td>2.606267</td>\n",
              "      <td>2.631799</td>\n",
              "      <td>2.074114</td>\n",
              "      <td>2.592667</td>\n",
              "      <td>1.902926</td>\n",
              "      <td>2.446501</td>\n",
              "      <td>2.350769</td>\n",
              "      <td>2.147601</td>\n",
              "      <td>2.639203</td>\n",
              "    </tr>\n",
              "    <tr>\n",
              "      <th>2</th>\n",
              "      <td>2.516803</td>\n",
              "      <td>2.352785</td>\n",
              "      <td>2.557198</td>\n",
              "      <td>2.925518</td>\n",
              "      <td>3.073885</td>\n",
              "      <td>2.543978</td>\n",
              "      <td>2.022472</td>\n",
              "      <td>2.774471</td>\n",
              "      <td>3.149213</td>\n",
              "      <td>2.749327</td>\n",
              "      <td>...</td>\n",
              "      <td>2.121054</td>\n",
              "      <td>2.605409</td>\n",
              "      <td>2.584824</td>\n",
              "      <td>1.936278</td>\n",
              "      <td>2.568440</td>\n",
              "      <td>1.958284</td>\n",
              "      <td>2.244948</td>\n",
              "      <td>2.293260</td>\n",
              "      <td>2.111180</td>\n",
              "      <td>2.626987</td>\n",
              "    </tr>\n",
              "    <tr>\n",
              "      <th>3</th>\n",
              "      <td>2.499117</td>\n",
              "      <td>2.559049</td>\n",
              "      <td>2.656475</td>\n",
              "      <td>2.763619</td>\n",
              "      <td>2.878468</td>\n",
              "      <td>2.592949</td>\n",
              "      <td>1.811895</td>\n",
              "      <td>2.649418</td>\n",
              "      <td>2.847074</td>\n",
              "      <td>2.590253</td>\n",
              "      <td>...</td>\n",
              "      <td>1.927978</td>\n",
              "      <td>2.618020</td>\n",
              "      <td>2.512463</td>\n",
              "      <td>1.829970</td>\n",
              "      <td>2.625267</td>\n",
              "      <td>1.971494</td>\n",
              "      <td>2.902077</td>\n",
              "      <td>2.311065</td>\n",
              "      <td>2.034676</td>\n",
              "      <td>2.572015</td>\n",
              "    </tr>\n",
              "    <tr>\n",
              "      <th>4</th>\n",
              "      <td>2.411571</td>\n",
              "      <td>2.453675</td>\n",
              "      <td>2.912560</td>\n",
              "      <td>2.780565</td>\n",
              "      <td>2.861779</td>\n",
              "      <td>2.491120</td>\n",
              "      <td>2.357249</td>\n",
              "      <td>2.690230</td>\n",
              "      <td>2.971505</td>\n",
              "      <td>2.549438</td>\n",
              "      <td>...</td>\n",
              "      <td>2.031565</td>\n",
              "      <td>2.739638</td>\n",
              "      <td>2.956099</td>\n",
              "      <td>2.816007</td>\n",
              "      <td>2.442840</td>\n",
              "      <td>1.979739</td>\n",
              "      <td>2.802077</td>\n",
              "      <td>2.326602</td>\n",
              "      <td>2.101394</td>\n",
              "      <td>2.770397</td>\n",
              "    </tr>\n",
              "  </tbody>\n",
              "</table>\n",
              "<p>5 rows × 100 columns</p>\n",
              "</div>\n",
              "      <button class=\"colab-df-convert\" onclick=\"convertToInteractive('df-4b865b51-90a6-44ab-837f-5a9aadea9cc9')\"\n",
              "              title=\"Convert this dataframe to an interactive table.\"\n",
              "              style=\"display:none;\">\n",
              "        \n",
              "  <svg xmlns=\"http://www.w3.org/2000/svg\" height=\"24px\"viewBox=\"0 0 24 24\"\n",
              "       width=\"24px\">\n",
              "    <path d=\"M0 0h24v24H0V0z\" fill=\"none\"/>\n",
              "    <path d=\"M18.56 5.44l.94 2.06.94-2.06 2.06-.94-2.06-.94-.94-2.06-.94 2.06-2.06.94zm-11 1L8.5 8.5l.94-2.06 2.06-.94-2.06-.94L8.5 2.5l-.94 2.06-2.06.94zm10 10l.94 2.06.94-2.06 2.06-.94-2.06-.94-.94-2.06-.94 2.06-2.06.94z\"/><path d=\"M17.41 7.96l-1.37-1.37c-.4-.4-.92-.59-1.43-.59-.52 0-1.04.2-1.43.59L10.3 9.45l-7.72 7.72c-.78.78-.78 2.05 0 2.83L4 21.41c.39.39.9.59 1.41.59.51 0 1.02-.2 1.41-.59l7.78-7.78 2.81-2.81c.8-.78.8-2.07 0-2.86zM5.41 20L4 18.59l7.72-7.72 1.47 1.35L5.41 20z\"/>\n",
              "  </svg>\n",
              "      </button>\n",
              "      \n",
              "  <style>\n",
              "    .colab-df-container {\n",
              "      display:flex;\n",
              "      flex-wrap:wrap;\n",
              "      gap: 12px;\n",
              "    }\n",
              "\n",
              "    .colab-df-convert {\n",
              "      background-color: #E8F0FE;\n",
              "      border: none;\n",
              "      border-radius: 50%;\n",
              "      cursor: pointer;\n",
              "      display: none;\n",
              "      fill: #1967D2;\n",
              "      height: 32px;\n",
              "      padding: 0 0 0 0;\n",
              "      width: 32px;\n",
              "    }\n",
              "\n",
              "    .colab-df-convert:hover {\n",
              "      background-color: #E2EBFA;\n",
              "      box-shadow: 0px 1px 2px rgba(60, 64, 67, 0.3), 0px 1px 3px 1px rgba(60, 64, 67, 0.15);\n",
              "      fill: #174EA6;\n",
              "    }\n",
              "\n",
              "    [theme=dark] .colab-df-convert {\n",
              "      background-color: #3B4455;\n",
              "      fill: #D2E3FC;\n",
              "    }\n",
              "\n",
              "    [theme=dark] .colab-df-convert:hover {\n",
              "      background-color: #434B5C;\n",
              "      box-shadow: 0px 1px 3px 1px rgba(0, 0, 0, 0.15);\n",
              "      filter: drop-shadow(0px 1px 2px rgba(0, 0, 0, 0.3));\n",
              "      fill: #FFFFFF;\n",
              "    }\n",
              "  </style>\n",
              "\n",
              "      <script>\n",
              "        const buttonEl =\n",
              "          document.querySelector('#df-4b865b51-90a6-44ab-837f-5a9aadea9cc9 button.colab-df-convert');\n",
              "        buttonEl.style.display =\n",
              "          google.colab.kernel.accessAllowed ? 'block' : 'none';\n",
              "\n",
              "        async function convertToInteractive(key) {\n",
              "          const element = document.querySelector('#df-4b865b51-90a6-44ab-837f-5a9aadea9cc9');\n",
              "          const dataTable =\n",
              "            await google.colab.kernel.invokeFunction('convertToInteractive',\n",
              "                                                     [key], {});\n",
              "          if (!dataTable) return;\n",
              "\n",
              "          const docLinkHtml = 'Like what you see? Visit the ' +\n",
              "            '<a target=\"_blank\" href=https://colab.research.google.com/notebooks/data_table.ipynb>data table notebook</a>'\n",
              "            + ' to learn more about interactive tables.';\n",
              "          element.innerHTML = '';\n",
              "          dataTable['output_type'] = 'display_data';\n",
              "          await google.colab.output.renderOutput(dataTable, element);\n",
              "          const docLink = document.createElement('div');\n",
              "          docLink.innerHTML = docLinkHtml;\n",
              "          element.appendChild(docLink);\n",
              "        }\n",
              "      </script>\n",
              "    </div>\n",
              "  </div>\n",
              "  "
            ]
          },
          "metadata": {},
          "execution_count": 12
        }
      ],
      "source": [
        "df_suspect1"
      ]
    },
    {
      "cell_type": "code",
      "execution_count": null,
      "metadata": {
        "colab": {
          "base_uri": "https://localhost:8080/"
        },
        "id": "3AlrqhUChfsB",
        "outputId": "4647c276-1839-4c49-f6a7-6845c3aab714"
      },
      "outputs": [
        {
          "output_type": "execute_result",
          "data": {
            "text/plain": [
              "(5, 100)"
            ]
          },
          "metadata": {},
          "execution_count": 13
        }
      ],
      "source": [
        "df_suspect1.shape"
      ]
    },
    {
      "cell_type": "markdown",
      "metadata": {
        "id": "hNl1GmybhrPl"
      },
      "source": [
        "## X_train, y_train, X_test, y_test"
      ]
    },
    {
      "cell_type": "markdown",
      "metadata": {
        "id": "a93NFIIS6jJ3"
      },
      "source": [
        "X_train"
      ]
    },
    {
      "cell_type": "code",
      "execution_count": null,
      "metadata": {
        "id": "MqHwQUB5h8OK"
      },
      "outputs": [],
      "source": [
        "X_train1 = df_train1.iloc[:,:-1]\n",
        "X_train2 = df_train2.iloc[:,:-1]\n",
        "X_train3 = df_train3.iloc[:,:-1]"
      ]
    },
    {
      "cell_type": "markdown",
      "metadata": {
        "id": "cOMFovUw6lST"
      },
      "source": [
        "y_train"
      ]
    },
    {
      "cell_type": "code",
      "execution_count": null,
      "metadata": {
        "id": "fGtq392Lh_j1"
      },
      "outputs": [],
      "source": [
        "y_train1 = df_train1.iloc[:,-1]\n",
        "y_train2 = df_train2.iloc[:,-1]\n",
        "y_train3 = df_train3.iloc[:,-1]"
      ]
    },
    {
      "cell_type": "markdown",
      "metadata": {
        "id": "JKK_3Ogg6m9i"
      },
      "source": [
        "X_test"
      ]
    },
    {
      "cell_type": "code",
      "execution_count": null,
      "metadata": {
        "id": "VQ4pDhKqiGGo"
      },
      "outputs": [],
      "source": [
        "X_test1 = df_test1.iloc[:,:-1]\n",
        "X_test2 = df_test2.iloc[:,:-1]\n",
        "X_test3 = df_test3.iloc[:,:-1]"
      ]
    },
    {
      "cell_type": "markdown",
      "metadata": {
        "id": "ZQQZ0S096oMZ"
      },
      "source": [
        "y_test"
      ]
    },
    {
      "cell_type": "code",
      "execution_count": null,
      "metadata": {
        "id": "9Y1Vak6ziNPh"
      },
      "outputs": [],
      "source": [
        "y_test1 = df_test1.iloc[:,-1]\n",
        "y_test2 = df_test2.iloc[:,-1]\n",
        "y_test3 = df_test3.iloc[:,-1]"
      ]
    },
    {
      "cell_type": "markdown",
      "metadata": {
        "id": "BNrBRTxCigEn"
      },
      "source": [
        "## Validasi"
      ]
    },
    {
      "cell_type": "markdown",
      "metadata": {
        "id": "86IxdyHSikhh"
      },
      "source": [
        "### AB1"
      ]
    },
    {
      "cell_type": "markdown",
      "metadata": {
        "id": "9vE333Xs6qw8"
      },
      "source": [
        "Fit model"
      ]
    },
    {
      "cell_type": "code",
      "execution_count": null,
      "metadata": {
        "colab": {
          "base_uri": "https://localhost:8080/"
        },
        "id": "YzKDV4DGieGx",
        "outputId": "15de892d-40b3-4537-a1a8-3c16a7f21312"
      },
      "outputs": [
        {
          "output_type": "execute_result",
          "data": {
            "text/plain": [
              "AdaBoostClassifier(learning_rate=1, n_estimators=150)"
            ]
          },
          "metadata": {},
          "execution_count": 18
        }
      ],
      "source": [
        "ab1_model.fit(X_train1, y_train1)"
      ]
    },
    {
      "cell_type": "markdown",
      "metadata": {
        "id": "QW_wACRiLHUh"
      },
      "source": [
        "Hasil prediksi dengan data train"
      ]
    },
    {
      "cell_type": "code",
      "execution_count": null,
      "metadata": {
        "colab": {
          "base_uri": "https://localhost:8080/"
        },
        "outputId": "4d6c3d4c-85d2-48ae-a125-7f7b0e5ca622",
        "id": "Ccs6EZOkLHUn"
      },
      "outputs": [
        {
          "output_type": "stream",
          "name": "stdout",
          "text": [
            "Accuracy :  1.0\n",
            "Precision:  1.0\n",
            "Recall   :  1.0\n",
            "F1 Score :  1.0\n"
          ]
        }
      ],
      "source": [
        "ab1_val = ab1_model.predict(X_train1)\n",
        "print(\"Accuracy : \", metrics.accuracy_score(y_train1, ab1_val))\n",
        "print(\"Precision: \", metrics.precision_score(y_train1, ab1_val))\n",
        "print(\"Recall   : \", metrics.recall_score(y_train1, ab1_val))\n",
        "print(\"F1 Score : \", metrics.f1_score(y_train1, ab1_val))"
      ]
    },
    {
      "cell_type": "markdown",
      "metadata": {
        "id": "AvSFrwmuLHUo"
      },
      "source": [
        "Visualisasi confusion matrix"
      ]
    },
    {
      "cell_type": "code",
      "execution_count": null,
      "metadata": {
        "colab": {
          "base_uri": "https://localhost:8080/",
          "height": 530
        },
        "outputId": "92e399df-c18e-4b39-ef5d-ca65c2d46019",
        "id": "kroX2dnPLHUp"
      },
      "outputs": [
        {
          "output_type": "execute_result",
          "data": {
            "text/plain": [
              "[Text(0, 0.5, '1'), Text(0, 1.5, '0')]"
            ]
          },
          "metadata": {},
          "execution_count": 20
        },
        {
          "output_type": "display_data",
          "data": {
            "text/plain": [
              "<Figure size 1080x576 with 2 Axes>"
            ],
            "image/png": "[encoded data removed]"
          },
          "metadata": {
            "needs_background": "light"
          }
        }
      ],
      "source": [
        "cf_matrix = metrics.confusion_matrix(y_train1, ab1_val, labels=[1,0]).transpose()\n",
        "\n",
        "plt.figure(figsize=(15,8))\n",
        "ax = plt.subplot()\n",
        "sns.heatmap(cf_matrix, annot=True, fmt='g', cmap='Blues', ax=ax)\n",
        "ax.set_xlabel('Aktual')\n",
        "ax.set_ylabel('Prediksi')\n",
        "ax.set_title('Confusion Matrix AB1') \n",
        "ax.xaxis.set_ticklabels(['1', '0'])\n",
        "ax.yaxis.set_ticklabels(['1', '0'])"
      ]
    },
    {
      "cell_type": "markdown",
      "metadata": {
        "id": "xY4Yu1BS6s3c"
      },
      "source": [
        "Hasil prediksi dengan data test"
      ]
    },
    {
      "cell_type": "code",
      "execution_count": null,
      "metadata": {
        "colab": {
          "base_uri": "https://localhost:8080/"
        },
        "id": "uWb8N0yKivbr",
        "outputId": "86574992-8888-4905-f124-f77f8b13255c"
      },
      "outputs": [
        {
          "output_type": "stream",
          "name": "stdout",
          "text": [
            "Accuracy :  0.7368421052631579\n",
            "Precision:  0.7272727272727273\n",
            "Recall   :  0.8\n",
            "F1 Score :  0.761904761904762\n"
          ]
        }
      ],
      "source": [
        "ab1_prediksi = ab1_model.predict(X_test1)\n",
        "print(\"Accuracy : \", metrics.accuracy_score(y_test1, ab1_prediksi))\n",
        "print(\"Precision: \", metrics.precision_score(y_test1, ab1_prediksi))\n",
        "print(\"Recall   : \", metrics.recall_score(y_test1, ab1_prediksi))\n",
        "print(\"F1 Score : \", metrics.f1_score(y_test1, ab1_prediksi))"
      ]
    },
    {
      "cell_type": "markdown",
      "metadata": {
        "id": "NkjfGKJB6vSj"
      },
      "source": [
        "Visualisasi confusion matrix"
      ]
    },
    {
      "cell_type": "code",
      "execution_count": null,
      "metadata": {
        "colab": {
          "base_uri": "https://localhost:8080/",
          "height": 530
        },
        "id": "vWiqH-LnjPou",
        "outputId": "90e4d760-cfcd-465d-940a-bc9d00c12453"
      },
      "outputs": [
        {
          "output_type": "execute_result",
          "data": {
            "text/plain": [
              "[Text(0, 0.5, '1'), Text(0, 1.5, '0')]"
            ]
          },
          "metadata": {},
          "execution_count": 22
        },
        {
          "output_type": "display_data",
          "data": {
            "text/plain": [
              "<Figure size 1080x576 with 2 Axes>"
            ],
            "image/png": "[encoded data removed]"
          },
          "metadata": {
            "needs_background": "light"
          }
        }
      ],
      "source": [
        "cf_matrix = metrics.confusion_matrix(y_test1, ab1_prediksi, labels=[1,0]).transpose()\n",
        "\n",
        "plt.figure(figsize=(15,8))\n",
        "ax = plt.subplot()\n",
        "sns.heatmap(cf_matrix, annot=True, fmt='g', cmap='Blues', ax=ax)\n",
        "ax.set_xlabel('Aktual')\n",
        "ax.set_ylabel('Prediksi')\n",
        "ax.set_title('Confusion Matrix AB1') \n",
        "ax.xaxis.set_ticklabels(['1', '0'])\n",
        "ax.yaxis.set_ticklabels(['1', '0'])"
      ]
    },
    {
      "cell_type": "markdown",
      "metadata": {
        "id": "qtuEAI0Z0Hxa"
      },
      "source": [
        "### AB2"
      ]
    },
    {
      "cell_type": "markdown",
      "metadata": {
        "id": "cgtzXkJR6xfI"
      },
      "source": [
        "Fit model"
      ]
    },
    {
      "cell_type": "code",
      "execution_count": null,
      "metadata": {
        "colab": {
          "base_uri": "https://localhost:8080/"
        },
        "id": "vKPuSRP70Hxo",
        "outputId": "9c1b25b4-c3e1-4d5c-832a-0c2eaced7704"
      },
      "outputs": [
        {
          "output_type": "execute_result",
          "data": {
            "text/plain": [
              "AdaBoostClassifier(learning_rate=0.1, n_estimators=200)"
            ]
          },
          "metadata": {},
          "execution_count": 23
        }
      ],
      "source": [
        "ab2_model.fit(X_train2, y_train2)"
      ]
    },
    {
      "cell_type": "markdown",
      "metadata": {
        "id": "VlROPh_WLlPY"
      },
      "source": [
        "Hasil prediksi dengan data train"
      ]
    },
    {
      "cell_type": "code",
      "execution_count": null,
      "metadata": {
        "colab": {
          "base_uri": "https://localhost:8080/"
        },
        "outputId": "99b32c95-0083-4e94-d329-09e0d0ed7c82",
        "id": "g5hQRzOcLlPc"
      },
      "outputs": [
        {
          "output_type": "stream",
          "name": "stdout",
          "text": [
            "Accuracy :  1.0\n",
            "Precision:  1.0\n",
            "Recall   :  1.0\n",
            "F1 Score :  1.0\n"
          ]
        }
      ],
      "source": [
        "ab2_val = ab2_model.predict(X_train2)\n",
        "print(\"Accuracy : \", metrics.accuracy_score(y_train2, ab2_val))\n",
        "print(\"Precision: \", metrics.precision_score(y_train2, ab2_val))\n",
        "print(\"Recall   : \", metrics.recall_score(y_train2, ab2_val))\n",
        "print(\"F1 Score : \", metrics.f1_score(y_train2, ab2_val))"
      ]
    },
    {
      "cell_type": "markdown",
      "metadata": {
        "id": "aDby3AGELlPd"
      },
      "source": [
        "Visualisasi confusion matrix"
      ]
    },
    {
      "cell_type": "code",
      "execution_count": null,
      "metadata": {
        "colab": {
          "base_uri": "https://localhost:8080/",
          "height": 530
        },
        "outputId": "ff95351a-3b03-4b85-ecd5-961e664815a0",
        "id": "lvsW85iPLlPe"
      },
      "outputs": [
        {
          "output_type": "execute_result",
          "data": {
            "text/plain": [
              "[Text(0, 0.5, '1'), Text(0, 1.5, '0')]"
            ]
          },
          "metadata": {},
          "execution_count": 27
        },
        {
          "output_type": "display_data",
          "data": {
            "text/plain": [
              "<Figure size 1080x576 with 2 Axes>"
            ],
            "image/png": "[encoded data removed]"
          },
          "metadata": {
            "needs_background": "light"
          }
        }
      ],
      "source": [
        "cf_matrix = metrics.confusion_matrix(y_train2, ab2_val, labels=[1,0]).transpose()\n",
        "\n",
        "plt.figure(figsize=(15,8))\n",
        "ax = plt.subplot()\n",
        "sns.heatmap(cf_matrix, annot=True, fmt='g', cmap='Blues', ax=ax)\n",
        "ax.set_xlabel('Aktual')\n",
        "ax.set_ylabel('Prediksi')\n",
        "ax.set_title('Confusion Matrix AB1') \n",
        "ax.xaxis.set_ticklabels(['1', '0'])\n",
        "ax.yaxis.set_ticklabels(['1', '0'])"
      ]
    },
    {
      "cell_type": "markdown",
      "metadata": {
        "id": "sOC1sZwz6z59"
      },
      "source": [
        "Hasil prediksi dengan data test"
      ]
    },
    {
      "cell_type": "code",
      "execution_count": null,
      "metadata": {
        "colab": {
          "base_uri": "https://localhost:8080/"
        },
        "id": "2UOR3nxz0Hxp",
        "outputId": "a9f8b38e-7f00-4f4b-9e36-82ae0433a8fb"
      },
      "outputs": [
        {
          "output_type": "stream",
          "name": "stdout",
          "text": [
            "Accuracy :  0.7368421052631579\n",
            "Precision:  0.7419354838709677\n",
            "Recall   :  0.7666666666666667\n",
            "F1 Score :  0.7540983606557377\n"
          ]
        }
      ],
      "source": [
        "ab2_prediksi = ab2_model.predict(X_test2)\n",
        "print(\"Accuracy : \", metrics.accuracy_score(y_test2, ab2_prediksi))\n",
        "print(\"Precision: \", metrics.precision_score(y_test2, ab2_prediksi))\n",
        "print(\"Recall   : \", metrics.recall_score(y_test2, ab2_prediksi))\n",
        "print(\"F1 Score : \", metrics.f1_score(y_test2, ab2_prediksi))"
      ]
    },
    {
      "cell_type": "markdown",
      "metadata": {
        "id": "z6Slyrv462bx"
      },
      "source": [
        "Visualisasi Confusion Matrix"
      ]
    },
    {
      "cell_type": "code",
      "execution_count": null,
      "metadata": {
        "colab": {
          "base_uri": "https://localhost:8080/",
          "height": 530
        },
        "id": "qmKSszt_0Hxq",
        "outputId": "4b9b5680-a175-40e2-d720-2c634583d052"
      },
      "outputs": [
        {
          "output_type": "execute_result",
          "data": {
            "text/plain": [
              "[Text(0, 0.5, '1'), Text(0, 1.5, '0')]"
            ]
          },
          "metadata": {},
          "execution_count": 29
        },
        {
          "output_type": "display_data",
          "data": {
            "text/plain": [
              "<Figure size 1080x576 with 2 Axes>"
            ],
            "image/png": "[encoded data removed]"
          },
          "metadata": {
            "needs_background": "light"
          }
        }
      ],
      "source": [
        "cf_matrix = metrics.confusion_matrix(y_test2, ab2_prediksi, labels=[1,0]).transpose()\n",
        "\n",
        "plt.figure(figsize=(15,8))\n",
        "ax = plt.subplot()\n",
        "sns.heatmap(cf_matrix, annot=True, fmt='g', cmap='Blues', ax=ax)\n",
        "ax.set_xlabel('Aktual')\n",
        "ax.set_ylabel('Prediksi')\n",
        "ax.set_title('Confusion Matrix AB2') \n",
        "ax.xaxis.set_ticklabels(['1', '0'])\n",
        "ax.yaxis.set_ticklabels(['1', '0'])"
      ]
    },
    {
      "cell_type": "markdown",
      "metadata": {
        "id": "duiJ97s80K-W"
      },
      "source": [
        "### AB3"
      ]
    },
    {
      "cell_type": "markdown",
      "metadata": {
        "id": "W8gnfwZF7Ps3"
      },
      "source": [
        "Fit model"
      ]
    },
    {
      "cell_type": "code",
      "execution_count": null,
      "metadata": {
        "colab": {
          "base_uri": "https://localhost:8080/"
        },
        "id": "lhUX1wsz0K-X",
        "outputId": "6d383488-d605-4a9b-b419-d12dceacf529"
      },
      "outputs": [
        {
          "output_type": "execute_result",
          "data": {
            "text/plain": [
              "AdaBoostClassifier(learning_rate=0.01)"
            ]
          },
          "metadata": {},
          "execution_count": 32
        }
      ],
      "source": [
        "ab3_model.fit(X_train3, y_train3)"
      ]
    },
    {
      "cell_type": "markdown",
      "metadata": {
        "id": "SBQr_FYUMDt1"
      },
      "source": [
        "Hasil prediksi dengan data train"
      ]
    },
    {
      "cell_type": "code",
      "execution_count": null,
      "metadata": {
        "colab": {
          "base_uri": "https://localhost:8080/"
        },
        "outputId": "897f4ecb-f342-45d7-87d3-5e82e642c002",
        "id": "45CuV0XlMDuD"
      },
      "outputs": [
        {
          "output_type": "stream",
          "name": "stdout",
          "text": [
            "Accuracy :  0.7923076923076923\n",
            "Precision:  0.7564102564102564\n",
            "Recall   :  0.8805970149253731\n",
            "F1 Score :  0.8137931034482757\n"
          ]
        }
      ],
      "source": [
        "ab3_val = ab3_model.predict(X_train3)\n",
        "print(\"Accuracy : \", metrics.accuracy_score(y_train3, ab3_val))\n",
        "print(\"Precision: \", metrics.precision_score(y_train3, ab3_val))\n",
        "print(\"Recall   : \", metrics.recall_score(y_train3, ab3_val))\n",
        "print(\"F1 Score : \", metrics.f1_score(y_train3, ab3_val))"
      ]
    },
    {
      "cell_type": "markdown",
      "metadata": {
        "id": "lD1eSmzlMDuE"
      },
      "source": [
        "Visualisasi confusion matrix"
      ]
    },
    {
      "cell_type": "code",
      "execution_count": null,
      "metadata": {
        "colab": {
          "base_uri": "https://localhost:8080/",
          "height": 530
        },
        "outputId": "8b24fc18-29f2-426b-9d27-96906f090c59",
        "id": "GHIK7MPsMDuE"
      },
      "outputs": [
        {
          "output_type": "execute_result",
          "data": {
            "text/plain": [
              "[Text(0, 0.5, '1'), Text(0, 1.5, '0')]"
            ]
          },
          "metadata": {},
          "execution_count": 35
        },
        {
          "output_type": "display_data",
          "data": {
            "text/plain": [
              "<Figure size 1080x576 with 2 Axes>"
            ],
            "image/png": "[encoded data removed]"
          },
          "metadata": {
            "needs_background": "light"
          }
        }
      ],
      "source": [
        "cf_matrix = metrics.confusion_matrix(y_train3, ab3_val, labels=[1,0]).transpose()\n",
        "\n",
        "plt.figure(figsize=(15,8))\n",
        "ax = plt.subplot()\n",
        "sns.heatmap(cf_matrix, annot=True, fmt='g', cmap='Blues', ax=ax)\n",
        "ax.set_xlabel('Aktual')\n",
        "ax.set_ylabel('Prediksi')\n",
        "ax.set_title('Confusion Matrix AB1') \n",
        "ax.xaxis.set_ticklabels(['1', '0'])\n",
        "ax.yaxis.set_ticklabels(['1', '0'])"
      ]
    },
    {
      "cell_type": "markdown",
      "metadata": {
        "id": "QmjUI_Gj7RUH"
      },
      "source": [
        "Prediksi dengan data test"
      ]
    },
    {
      "cell_type": "code",
      "execution_count": null,
      "metadata": {
        "colab": {
          "base_uri": "https://localhost:8080/"
        },
        "id": "PylLDHu-0K-Y",
        "outputId": "bb3b9970-980c-406b-a66c-8807d18b869e"
      },
      "outputs": [
        {
          "output_type": "stream",
          "name": "stdout",
          "text": [
            "Accuracy :  0.7368421052631579\n",
            "Precision:  0.7272727272727273\n",
            "Recall   :  0.8\n",
            "F1 Score :  0.761904761904762\n"
          ]
        }
      ],
      "source": [
        "ab3_prediksi = ab3_model.predict(X_test3)\n",
        "print(\"Accuracy : \", metrics.accuracy_score(y_test3, ab3_prediksi))\n",
        "print(\"Precision: \", metrics.precision_score(y_test3, ab3_prediksi))\n",
        "print(\"Recall   : \", metrics.recall_score(y_test3, ab3_prediksi))\n",
        "print(\"F1 Score : \", metrics.f1_score(y_test3, ab3_prediksi))"
      ]
    },
    {
      "cell_type": "markdown",
      "metadata": {
        "id": "8SrREwd57TTF"
      },
      "source": [
        "Visualisasi Confusion Matrix"
      ]
    },
    {
      "cell_type": "code",
      "execution_count": null,
      "metadata": {
        "colab": {
          "base_uri": "https://localhost:8080/",
          "height": 530
        },
        "id": "CBFQ7IVC0K-Y",
        "outputId": "b9cb0fe8-12fb-4906-f592-07e579da036b"
      },
      "outputs": [
        {
          "output_type": "execute_result",
          "data": {
            "text/plain": [
              "[Text(0, 0.5, '1'), Text(0, 1.5, '0')]"
            ]
          },
          "metadata": {},
          "execution_count": 37
        },
        {
          "output_type": "display_data",
          "data": {
            "text/plain": [
              "<Figure size 1080x576 with 2 Axes>"
            ],
            "image/png": "[encoded data removed]"
          },
          "metadata": {
            "needs_background": "light"
          }
        }
      ],
      "source": [
        "cf_matrix = metrics.confusion_matrix(y_test3, ab3_prediksi, labels=[1,0]).transpose()\n",
        "\n",
        "plt.figure(figsize=(15,8))\n",
        "ax = plt.subplot()\n",
        "sns.heatmap(cf_matrix, annot=True, fmt='g', cmap='Blues', ax=ax)\n",
        "ax.set_xlabel('Aktual')\n",
        "ax.set_ylabel('Prediksi')\n",
        "ax.set_title('Confusion Matrix AB3') \n",
        "ax.xaxis.set_ticklabels(['1', '0'])\n",
        "ax.yaxis.set_ticklabels(['1', '0'])"
      ]
    },
    {
      "cell_type": "markdown",
      "metadata": {
        "id": "1Dt_0h18nH6f"
      },
      "source": [
        "## Export"
      ]
    },
    {
      "cell_type": "markdown",
      "metadata": {
        "id": "h7xXzWP5nxM-"
      },
      "source": [
        "### Data Test"
      ]
    },
    {
      "cell_type": "markdown",
      "metadata": {
        "id": "NHcUK-Np7amh"
      },
      "source": [
        "Label data test dengan hasil prediksi pada masing-masing model"
      ]
    },
    {
      "cell_type": "code",
      "execution_count": null,
      "metadata": {
        "colab": {
          "base_uri": "https://localhost:8080/",
          "height": 1000
        },
        "id": "VML7QD3j1bw_",
        "outputId": "7f6eee4b-a60d-4859-89e1-bfe87a70c642"
      },
      "outputs": [
        {
          "output_type": "execute_result",
          "data": {
            "text/plain": [
              "    Label  AB1  AB2  AB3\n",
              "0       0    1    1    1\n",
              "1       1    1    1    1\n",
              "2       1    1    0    1\n",
              "3       1    1    1    1\n",
              "4       0    1    0    1\n",
              "5       0    0    0    0\n",
              "6       1    1    1    1\n",
              "7       1    1    1    1\n",
              "8       1    1    1    1\n",
              "9       1    1    1    0\n",
              "10      1    1    1    1\n",
              "11      1    1    0    0\n",
              "12      0    0    0    1\n",
              "13      0    0    0    0\n",
              "14      0    0    0    0\n",
              "15      1    1    1    1\n",
              "16      1    1    1    1\n",
              "17      0    1    1    1\n",
              "18      0    0    1    0\n",
              "19      0    0    0    1\n",
              "20      1    1    1    1\n",
              "21      1    0    0    0\n",
              "22      1    1    1    1\n",
              "23      0    0    0    0\n",
              "24      0    0    0    0\n",
              "25      1    1    1    1\n",
              "26      1    1    1    1\n",
              "27      0    0    0    0\n",
              "28      1    0    0    1\n",
              "29      1    1    1    1\n",
              "30      1    1    1    1\n",
              "31      0    1    1    0\n",
              "32      1    1    1    1\n",
              "33      0    1    1    0\n",
              "34      0    0    0    0\n",
              "35      1    1    1    1\n",
              "36      0    0    0    0\n",
              "37      1    0    0    1\n",
              "38      0    0    0    0\n",
              "39      1    0    1    1\n",
              "40      0    0    0    0\n",
              "41      1    0    0    1\n",
              "42      1    1    1    1\n",
              "43      1    0    1    1\n",
              "44      1    1    1    0\n",
              "45      0    0    0    0\n",
              "46      0    0    0    0\n",
              "47      1    1    1    0\n",
              "48      1    1    0    1\n",
              "49      0    0    0    1\n",
              "50      0    0    0    0\n",
              "51      1    1    1    0\n",
              "52      0    1    0    0\n",
              "53      0    1    1    1\n",
              "54      0    1    1    1\n",
              "55      0    1    1    1\n",
              "56      0    0    0    0"
            ],
            "text/html": [
              "\n",
              "  <div id=\"df-efa6a682-c7cd-47e5-af35-dd3a58929f8d\">\n",
              "    <div class=\"colab-df-container\">\n",
              "      <div>\n",
              "<style scoped>\n",
              "    .dataframe tbody tr th:only-of-type {\n",
              "        vertical-align: middle;\n",
              "    }\n",
              "\n",
              "    .dataframe tbody tr th {\n",
              "        vertical-align: top;\n",
              "    }\n",
              "\n",
              "    .dataframe thead th {\n",
              "        text-align: right;\n",
              "    }\n",
              "</style>\n",
              "<table border=\"1\" class=\"dataframe\">\n",
              "  <thead>\n",
              "    <tr style=\"text-align: right;\">\n",
              "      <th></th>\n",
              "      <th>Label</th>\n",
              "      <th>AB1</th>\n",
              "      <th>AB2</th>\n",
              "      <th>AB3</th>\n",
              "    </tr>\n",
              "  </thead>\n",
              "  <tbody>\n",
              "    <tr>\n",
              "      <th>0</th>\n",
              "      <td>0</td>\n",
              "      <td>1</td>\n",
              "      <td>1</td>\n",
              "      <td>1</td>\n",
              "    </tr>\n",
              "    <tr>\n",
              "      <th>1</th>\n",
              "      <td>1</td>\n",
              "      <td>1</td>\n",
              "      <td>1</td>\n",
              "      <td>1</td>\n",
              "    </tr>\n",
              "    <tr>\n",
              "      <th>2</th>\n",
              "      <td>1</td>\n",
              "      <td>1</td>\n",
              "      <td>0</td>\n",
              "      <td>1</td>\n",
              "    </tr>\n",
              "    <tr>\n",
              "      <th>3</th>\n",
              "      <td>1</td>\n",
              "      <td>1</td>\n",
              "      <td>1</td>\n",
              "      <td>1</td>\n",
              "    </tr>\n",
              "    <tr>\n",
              "      <th>4</th>\n",
              "      <td>0</td>\n",
              "      <td>1</td>\n",
              "      <td>0</td>\n",
              "      <td>1</td>\n",
              "    </tr>\n",
              "    <tr>\n",
              "      <th>5</th>\n",
              "      <td>0</td>\n",
              "      <td>0</td>\n",
              "      <td>0</td>\n",
              "      <td>0</td>\n",
              "    </tr>\n",
              "    <tr>\n",
              "      <th>6</th>\n",
              "      <td>1</td>\n",
              "      <td>1</td>\n",
              "      <td>1</td>\n",
              "      <td>1</td>\n",
              "    </tr>\n",
              "    <tr>\n",
              "      <th>7</th>\n",
              "      <td>1</td>\n",
              "      <td>1</td>\n",
              "      <td>1</td>\n",
              "      <td>1</td>\n",
              "    </tr>\n",
              "    <tr>\n",
              "      <th>8</th>\n",
              "      <td>1</td>\n",
              "      <td>1</td>\n",
              "      <td>1</td>\n",
              "      <td>1</td>\n",
              "    </tr>\n",
              "    <tr>\n",
              "      <th>9</th>\n",
              "      <td>1</td>\n",
              "      <td>1</td>\n",
              "      <td>1</td>\n",
              "      <td>0</td>\n",
              "    </tr>\n",
              "    <tr>\n",
              "      <th>10</th>\n",
              "      <td>1</td>\n",
              "      <td>1</td>\n",
              "      <td>1</td>\n",
              "      <td>1</td>\n",
              "    </tr>\n",
              "    <tr>\n",
              "      <th>11</th>\n",
              "      <td>1</td>\n",
              "      <td>1</td>\n",
              "      <td>0</td>\n",
              "      <td>0</td>\n",
              "    </tr>\n",
              "    <tr>\n",
              "      <th>12</th>\n",
              "      <td>0</td>\n",
              "      <td>0</td>\n",
              "      <td>0</td>\n",
              "      <td>1</td>\n",
              "    </tr>\n",
              "    <tr>\n",
              "      <th>13</th>\n",
              "      <td>0</td>\n",
              "      <td>0</td>\n",
              "      <td>0</td>\n",
              "      <td>0</td>\n",
              "    </tr>\n",
              "    <tr>\n",
              "      <th>14</th>\n",
              "      <td>0</td>\n",
              "      <td>0</td>\n",
              "      <td>0</td>\n",
              "      <td>0</td>\n",
              "    </tr>\n",
              "    <tr>\n",
              "      <th>15</th>\n",
              "      <td>1</td>\n",
              "      <td>1</td>\n",
              "      <td>1</td>\n",
              "      <td>1</td>\n",
              "    </tr>\n",
              "    <tr>\n",
              "      <th>16</th>\n",
              "      <td>1</td>\n",
              "      <td>1</td>\n",
              "      <td>1</td>\n",
              "      <td>1</td>\n",
              "    </tr>\n",
              "    <tr>\n",
              "      <th>17</th>\n",
              "      <td>0</td>\n",
              "      <td>1</td>\n",
              "      <td>1</td>\n",
              "      <td>1</td>\n",
              "    </tr>\n",
              "    <tr>\n",
              "      <th>18</th>\n",
              "      <td>0</td>\n",
              "      <td>0</td>\n",
              "      <td>1</td>\n",
              "      <td>0</td>\n",
              "    </tr>\n",
              "    <tr>\n",
              "      <th>19</th>\n",
              "      <td>0</td>\n",
              "      <td>0</td>\n",
              "      <td>0</td>\n",
              "      <td>1</td>\n",
              "    </tr>\n",
              "    <tr>\n",
              "      <th>20</th>\n",
              "      <td>1</td>\n",
              "      <td>1</td>\n",
              "      <td>1</td>\n",
              "      <td>1</td>\n",
              "    </tr>\n",
              "    <tr>\n",
              "      <th>21</th>\n",
              "      <td>1</td>\n",
              "      <td>0</td>\n",
              "      <td>0</td>\n",
              "      <td>0</td>\n",
              "    </tr>\n",
              "    <tr>\n",
              "      <th>22</th>\n",
              "      <td>1</td>\n",
              "      <td>1</td>\n",
              "      <td>1</td>\n",
              "      <td>1</td>\n",
              "    </tr>\n",
              "    <tr>\n",
              "      <th>23</th>\n",
              "      <td>0</td>\n",
              "      <td>0</td>\n",
              "      <td>0</td>\n",
              "      <td>0</td>\n",
              "    </tr>\n",
              "    <tr>\n",
              "      <th>24</th>\n",
              "      <td>0</td>\n",
              "      <td>0</td>\n",
              "      <td>0</td>\n",
              "      <td>0</td>\n",
              "    </tr>\n",
              "    <tr>\n",
              "      <th>25</th>\n",
              "      <td>1</td>\n",
              "      <td>1</td>\n",
              "      <td>1</td>\n",
              "      <td>1</td>\n",
              "    </tr>\n",
              "    <tr>\n",
              "      <th>26</th>\n",
              "      <td>1</td>\n",
              "      <td>1</td>\n",
              "      <td>1</td>\n",
              "      <td>1</td>\n",
              "    </tr>\n",
              "    <tr>\n",
              "      <th>27</th>\n",
              "      <td>0</td>\n",
              "      <td>0</td>\n",
              "      <td>0</td>\n",
              "      <td>0</td>\n",
              "    </tr>\n",
              "    <tr>\n",
              "      <th>28</th>\n",
              "      <td>1</td>\n",
              "      <td>0</td>\n",
              "      <td>0</td>\n",
              "      <td>1</td>\n",
              "    </tr>\n",
              "    <tr>\n",
              "      <th>29</th>\n",
              "      <td>1</td>\n",
              "      <td>1</td>\n",
              "      <td>1</td>\n",
              "      <td>1</td>\n",
              "    </tr>\n",
              "    <tr>\n",
              "      <th>30</th>\n",
              "      <td>1</td>\n",
              "      <td>1</td>\n",
              "      <td>1</td>\n",
              "      <td>1</td>\n",
              "    </tr>\n",
              "    <tr>\n",
              "      <th>31</th>\n",
              "      <td>0</td>\n",
              "      <td>1</td>\n",
              "      <td>1</td>\n",
              "      <td>0</td>\n",
              "    </tr>\n",
              "    <tr>\n",
              "      <th>32</th>\n",
              "      <td>1</td>\n",
              "      <td>1</td>\n",
              "      <td>1</td>\n",
              "      <td>1</td>\n",
              "    </tr>\n",
              "    <tr>\n",
              "      <th>33</th>\n",
              "      <td>0</td>\n",
              "      <td>1</td>\n",
              "      <td>1</td>\n",
              "      <td>0</td>\n",
              "    </tr>\n",
              "    <tr>\n",
              "      <th>34</th>\n",
              "      <td>0</td>\n",
              "      <td>0</td>\n",
              "      <td>0</td>\n",
              "      <td>0</td>\n",
              "    </tr>\n",
              "    <tr>\n",
              "      <th>35</th>\n",
              "      <td>1</td>\n",
              "      <td>1</td>\n",
              "      <td>1</td>\n",
              "      <td>1</td>\n",
              "    </tr>\n",
              "    <tr>\n",
              "      <th>36</th>\n",
              "      <td>0</td>\n",
              "      <td>0</td>\n",
              "      <td>0</td>\n",
              "      <td>0</td>\n",
              "    </tr>\n",
              "    <tr>\n",
              "      <th>37</th>\n",
              "      <td>1</td>\n",
              "      <td>0</td>\n",
              "      <td>0</td>\n",
              "      <td>1</td>\n",
              "    </tr>\n",
              "    <tr>\n",
              "      <th>38</th>\n",
              "      <td>0</td>\n",
              "      <td>0</td>\n",
              "      <td>0</td>\n",
              "      <td>0</td>\n",
              "    </tr>\n",
              "    <tr>\n",
              "      <th>39</th>\n",
              "      <td>1</td>\n",
              "      <td>0</td>\n",
              "      <td>1</td>\n",
              "      <td>1</td>\n",
              "    </tr>\n",
              "    <tr>\n",
              "      <th>40</th>\n",
              "      <td>0</td>\n",
              "      <td>0</td>\n",
              "      <td>0</td>\n",
              "      <td>0</td>\n",
              "    </tr>\n",
              "    <tr>\n",
              "      <th>41</th>\n",
              "      <td>1</td>\n",
              "      <td>0</td>\n",
              "      <td>0</td>\n",
              "      <td>1</td>\n",
              "    </tr>\n",
              "    <tr>\n",
              "      <th>42</th>\n",
              "      <td>1</td>\n",
              "      <td>1</td>\n",
              "      <td>1</td>\n",
              "      <td>1</td>\n",
              "    </tr>\n",
              "    <tr>\n",
              "      <th>43</th>\n",
              "      <td>1</td>\n",
              "      <td>0</td>\n",
              "      <td>1</td>\n",
              "      <td>1</td>\n",
              "    </tr>\n",
              "    <tr>\n",
              "      <th>44</th>\n",
              "      <td>1</td>\n",
              "      <td>1</td>\n",
              "      <td>1</td>\n",
              "      <td>0</td>\n",
              "    </tr>\n",
              "    <tr>\n",
              "      <th>45</th>\n",
              "      <td>0</td>\n",
              "      <td>0</td>\n",
              "      <td>0</td>\n",
              "      <td>0</td>\n",
              "    </tr>\n",
              "    <tr>\n",
              "      <th>46</th>\n",
              "      <td>0</td>\n",
              "      <td>0</td>\n",
              "      <td>0</td>\n",
              "      <td>0</td>\n",
              "    </tr>\n",
              "    <tr>\n",
              "      <th>47</th>\n",
              "      <td>1</td>\n",
              "      <td>1</td>\n",
              "      <td>1</td>\n",
              "      <td>0</td>\n",
              "    </tr>\n",
              "    <tr>\n",
              "      <th>48</th>\n",
              "      <td>1</td>\n",
              "      <td>1</td>\n",
              "      <td>0</td>\n",
              "      <td>1</td>\n",
              "    </tr>\n",
              "    <tr>\n",
              "      <th>49</th>\n",
              "      <td>0</td>\n",
              "      <td>0</td>\n",
              "      <td>0</td>\n",
              "      <td>1</td>\n",
              "    </tr>\n",
              "    <tr>\n",
              "      <th>50</th>\n",
              "      <td>0</td>\n",
              "      <td>0</td>\n",
              "      <td>0</td>\n",
              "      <td>0</td>\n",
              "    </tr>\n",
              "    <tr>\n",
              "      <th>51</th>\n",
              "      <td>1</td>\n",
              "      <td>1</td>\n",
              "      <td>1</td>\n",
              "      <td>0</td>\n",
              "    </tr>\n",
              "    <tr>\n",
              "      <th>52</th>\n",
              "      <td>0</td>\n",
              "      <td>1</td>\n",
              "      <td>0</td>\n",
              "      <td>0</td>\n",
              "    </tr>\n",
              "    <tr>\n",
              "      <th>53</th>\n",
              "      <td>0</td>\n",
              "      <td>1</td>\n",
              "      <td>1</td>\n",
              "      <td>1</td>\n",
              "    </tr>\n",
              "    <tr>\n",
              "      <th>54</th>\n",
              "      <td>0</td>\n",
              "      <td>1</td>\n",
              "      <td>1</td>\n",
              "      <td>1</td>\n",
              "    </tr>\n",
              "    <tr>\n",
              "      <th>55</th>\n",
              "      <td>0</td>\n",
              "      <td>1</td>\n",
              "      <td>1</td>\n",
              "      <td>1</td>\n",
              "    </tr>\n",
              "    <tr>\n",
              "      <th>56</th>\n",
              "      <td>0</td>\n",
              "      <td>0</td>\n",
              "      <td>0</td>\n",
              "      <td>0</td>\n",
              "    </tr>\n",
              "  </tbody>\n",
              "</table>\n",
              "</div>\n",
              "      <button class=\"colab-df-convert\" onclick=\"convertToInteractive('df-efa6a682-c7cd-47e5-af35-dd3a58929f8d')\"\n",
              "              title=\"Convert this dataframe to an interactive table.\"\n",
              "              style=\"display:none;\">\n",
              "        \n",
              "  <svg xmlns=\"http://www.w3.org/2000/svg\" height=\"24px\"viewBox=\"0 0 24 24\"\n",
              "       width=\"24px\">\n",
              "    <path d=\"M0 0h24v24H0V0z\" fill=\"none\"/>\n",
              "    <path d=\"M18.56 5.44l.94 2.06.94-2.06 2.06-.94-2.06-.94-.94-2.06-.94 2.06-2.06.94zm-11 1L8.5 8.5l.94-2.06 2.06-.94-2.06-.94L8.5 2.5l-.94 2.06-2.06.94zm10 10l.94 2.06.94-2.06 2.06-.94-2.06-.94-.94-2.06-.94 2.06-2.06.94z\"/><path d=\"M17.41 7.96l-1.37-1.37c-.4-.4-.92-.59-1.43-.59-.52 0-1.04.2-1.43.59L10.3 9.45l-7.72 7.72c-.78.78-.78 2.05 0 2.83L4 21.41c.39.39.9.59 1.41.59.51 0 1.02-.2 1.41-.59l7.78-7.78 2.81-2.81c.8-.78.8-2.07 0-2.86zM5.41 20L4 18.59l7.72-7.72 1.47 1.35L5.41 20z\"/>\n",
              "  </svg>\n",
              "      </button>\n",
              "      \n",
              "  <style>\n",
              "    .colab-df-container {\n",
              "      display:flex;\n",
              "      flex-wrap:wrap;\n",
              "      gap: 12px;\n",
              "    }\n",
              "\n",
              "    .colab-df-convert {\n",
              "      background-color: #E8F0FE;\n",
              "      border: none;\n",
              "      border-radius: 50%;\n",
              "      cursor: pointer;\n",
              "      display: none;\n",
              "      fill: #1967D2;\n",
              "      height: 32px;\n",
              "      padding: 0 0 0 0;\n",
              "      width: 32px;\n",
              "    }\n",
              "\n",
              "    .colab-df-convert:hover {\n",
              "      background-color: #E2EBFA;\n",
              "      box-shadow: 0px 1px 2px rgba(60, 64, 67, 0.3), 0px 1px 3px 1px rgba(60, 64, 67, 0.15);\n",
              "      fill: #174EA6;\n",
              "    }\n",
              "\n",
              "    [theme=dark] .colab-df-convert {\n",
              "      background-color: #3B4455;\n",
              "      fill: #D2E3FC;\n",
              "    }\n",
              "\n",
              "    [theme=dark] .colab-df-convert:hover {\n",
              "      background-color: #434B5C;\n",
              "      box-shadow: 0px 1px 3px 1px rgba(0, 0, 0, 0.15);\n",
              "      filter: drop-shadow(0px 1px 2px rgba(0, 0, 0, 0.3));\n",
              "      fill: #FFFFFF;\n",
              "    }\n",
              "  </style>\n",
              "\n",
              "      <script>\n",
              "        const buttonEl =\n",
              "          document.querySelector('#df-efa6a682-c7cd-47e5-af35-dd3a58929f8d button.colab-df-convert');\n",
              "        buttonEl.style.display =\n",
              "          google.colab.kernel.accessAllowed ? 'block' : 'none';\n",
              "\n",
              "        async function convertToInteractive(key) {\n",
              "          const element = document.querySelector('#df-efa6a682-c7cd-47e5-af35-dd3a58929f8d');\n",
              "          const dataTable =\n",
              "            await google.colab.kernel.invokeFunction('convertToInteractive',\n",
              "                                                     [key], {});\n",
              "          if (!dataTable) return;\n",
              "\n",
              "          const docLinkHtml = 'Like what you see? Visit the ' +\n",
              "            '<a target=\"_blank\" href=https://colab.research.google.com/notebooks/data_table.ipynb>data table notebook</a>'\n",
              "            + ' to learn more about interactive tables.';\n",
              "          element.innerHTML = '';\n",
              "          dataTable['output_type'] = 'display_data';\n",
              "          await google.colab.output.renderOutput(dataTable, element);\n",
              "          const docLink = document.createElement('div');\n",
              "          docLink.innerHTML = docLinkHtml;\n",
              "          element.appendChild(docLink);\n",
              "        }\n",
              "      </script>\n",
              "    </div>\n",
              "  </div>\n",
              "  "
            ]
          },
          "metadata": {},
          "execution_count": 38
        }
      ],
      "source": [
        "test_microarray_prediksi = y_test1.to_frame()\n",
        "test_microarray_prediksi['AB1'] = ab1_prediksi.astype('int')\n",
        "test_microarray_prediksi['AB2'] = ab2_prediksi.astype('int')\n",
        "test_microarray_prediksi['AB3'] = ab3_prediksi.astype('int')\n",
        "test_microarray_prediksi"
      ]
    },
    {
      "cell_type": "markdown",
      "metadata": {
        "id": "k001VpPw7eEW"
      },
      "source": [
        "Export ke CSV"
      ]
    },
    {
      "cell_type": "code",
      "execution_count": null,
      "metadata": {
        "id": "N7oJ6hS8ng4Q"
      },
      "outputs": [],
      "source": [
        "test_microarray_prediksi.to_csv(r'test_microarray_prediksi_ab.csv', index=False, header=True)"
      ]
    },
    {
      "cell_type": "markdown",
      "metadata": {
        "id": "b26CrNofoZ0a"
      },
      "source": [
        "### Suspect"
      ]
    },
    {
      "cell_type": "markdown",
      "metadata": {
        "id": "KAmK8V9n7iXM"
      },
      "source": [
        "Fit model"
      ]
    },
    {
      "cell_type": "code",
      "execution_count": null,
      "metadata": {
        "colab": {
          "base_uri": "https://localhost:8080/"
        },
        "id": "lsrv4n2cpB4e",
        "outputId": "2b06e71d-8357-4cb7-fc41-68a05624d27f"
      },
      "outputs": [
        {
          "output_type": "execute_result",
          "data": {
            "text/plain": [
              "AdaBoostClassifier(learning_rate=0.01)"
            ]
          },
          "metadata": {},
          "execution_count": 40
        }
      ],
      "source": [
        "ab1_model.fit(X_train1, y_train1)\n",
        "ab2_model.fit(X_train2, y_train2)\n",
        "ab3_model.fit(X_train3, y_train3)"
      ]
    },
    {
      "cell_type": "markdown",
      "metadata": {
        "id": "TEjJDtp17j14"
      },
      "source": [
        "Prediksi dengan Suspect"
      ]
    },
    {
      "cell_type": "code",
      "execution_count": null,
      "metadata": {
        "id": "FQ-5K7jCo3wE"
      },
      "outputs": [],
      "source": [
        "ab1_prediksi_suspect = ab1_model.predict(df_suspect1).astype('int')\n",
        "ab2_prediksi_suspect = ab2_model.predict(df_suspect2).astype('int')\n",
        "ab3_prediksi_suspect = ab3_model.predict(df_suspect3).astype('int')"
      ]
    },
    {
      "cell_type": "markdown",
      "metadata": {
        "id": "i_qJGwFv7lv6"
      },
      "source": [
        "Melihat hasil prediksi masing-masing model"
      ]
    },
    {
      "cell_type": "code",
      "execution_count": null,
      "metadata": {
        "colab": {
          "base_uri": "https://localhost:8080/",
          "height": 206
        },
        "id": "hdkYKajapY6u",
        "outputId": "5608af0e-7003-427d-f1d2-af5d600c07c6"
      },
      "outputs": [
        {
          "output_type": "execute_result",
          "data": {
            "text/plain": [
              "   AB1  AB2  AB3\n",
              "0    0    0    0\n",
              "1    1    1    1\n",
              "2    1    0    0\n",
              "3    1    1    1\n",
              "4    0    0    0"
            ],
            "text/html": [
              "\n",
              "  <div id=\"df-be39e9e6-39ec-418d-99ea-9d55a663cf90\">\n",
              "    <div class=\"colab-df-container\">\n",
              "      <div>\n",
              "<style scoped>\n",
              "    .dataframe tbody tr th:only-of-type {\n",
              "        vertical-align: middle;\n",
              "    }\n",
              "\n",
              "    .dataframe tbody tr th {\n",
              "        vertical-align: top;\n",
              "    }\n",
              "\n",
              "    .dataframe thead th {\n",
              "        text-align: right;\n",
              "    }\n",
              "</style>\n",
              "<table border=\"1\" class=\"dataframe\">\n",
              "  <thead>\n",
              "    <tr style=\"text-align: right;\">\n",
              "      <th></th>\n",
              "      <th>AB1</th>\n",
              "      <th>AB2</th>\n",
              "      <th>AB3</th>\n",
              "    </tr>\n",
              "  </thead>\n",
              "  <tbody>\n",
              "    <tr>\n",
              "      <th>0</th>\n",
              "      <td>0</td>\n",
              "      <td>0</td>\n",
              "      <td>0</td>\n",
              "    </tr>\n",
              "    <tr>\n",
              "      <th>1</th>\n",
              "      <td>1</td>\n",
              "      <td>1</td>\n",
              "      <td>1</td>\n",
              "    </tr>\n",
              "    <tr>\n",
              "      <th>2</th>\n",
              "      <td>1</td>\n",
              "      <td>0</td>\n",
              "      <td>0</td>\n",
              "    </tr>\n",
              "    <tr>\n",
              "      <th>3</th>\n",
              "      <td>1</td>\n",
              "      <td>1</td>\n",
              "      <td>1</td>\n",
              "    </tr>\n",
              "    <tr>\n",
              "      <th>4</th>\n",
              "      <td>0</td>\n",
              "      <td>0</td>\n",
              "      <td>0</td>\n",
              "    </tr>\n",
              "  </tbody>\n",
              "</table>\n",
              "</div>\n",
              "      <button class=\"colab-df-convert\" onclick=\"convertToInteractive('df-be39e9e6-39ec-418d-99ea-9d55a663cf90')\"\n",
              "              title=\"Convert this dataframe to an interactive table.\"\n",
              "              style=\"display:none;\">\n",
              "        \n",
              "  <svg xmlns=\"http://www.w3.org/2000/svg\" height=\"24px\"viewBox=\"0 0 24 24\"\n",
              "       width=\"24px\">\n",
              "    <path d=\"M0 0h24v24H0V0z\" fill=\"none\"/>\n",
              "    <path d=\"M18.56 5.44l.94 2.06.94-2.06 2.06-.94-2.06-.94-.94-2.06-.94 2.06-2.06.94zm-11 1L8.5 8.5l.94-2.06 2.06-.94-2.06-.94L8.5 2.5l-.94 2.06-2.06.94zm10 10l.94 2.06.94-2.06 2.06-.94-2.06-.94-.94-2.06-.94 2.06-2.06.94z\"/><path d=\"M17.41 7.96l-1.37-1.37c-.4-.4-.92-.59-1.43-.59-.52 0-1.04.2-1.43.59L10.3 9.45l-7.72 7.72c-.78.78-.78 2.05 0 2.83L4 21.41c.39.39.9.59 1.41.59.51 0 1.02-.2 1.41-.59l7.78-7.78 2.81-2.81c.8-.78.8-2.07 0-2.86zM5.41 20L4 18.59l7.72-7.72 1.47 1.35L5.41 20z\"/>\n",
              "  </svg>\n",
              "      </button>\n",
              "      \n",
              "  <style>\n",
              "    .colab-df-container {\n",
              "      display:flex;\n",
              "      flex-wrap:wrap;\n",
              "      gap: 12px;\n",
              "    }\n",
              "\n",
              "    .colab-df-convert {\n",
              "      background-color: #E8F0FE;\n",
              "      border: none;\n",
              "      border-radius: 50%;\n",
              "      cursor: pointer;\n",
              "      display: none;\n",
              "      fill: #1967D2;\n",
              "      height: 32px;\n",
              "      padding: 0 0 0 0;\n",
              "      width: 32px;\n",
              "    }\n",
              "\n",
              "    .colab-df-convert:hover {\n",
              "      background-color: #E2EBFA;\n",
              "      box-shadow: 0px 1px 2px rgba(60, 64, 67, 0.3), 0px 1px 3px 1px rgba(60, 64, 67, 0.15);\n",
              "      fill: #174EA6;\n",
              "    }\n",
              "\n",
              "    [theme=dark] .colab-df-convert {\n",
              "      background-color: #3B4455;\n",
              "      fill: #D2E3FC;\n",
              "    }\n",
              "\n",
              "    [theme=dark] .colab-df-convert:hover {\n",
              "      background-color: #434B5C;\n",
              "      box-shadow: 0px 1px 3px 1px rgba(0, 0, 0, 0.15);\n",
              "      filter: drop-shadow(0px 1px 2px rgba(0, 0, 0, 0.3));\n",
              "      fill: #FFFFFF;\n",
              "    }\n",
              "  </style>\n",
              "\n",
              "      <script>\n",
              "        const buttonEl =\n",
              "          document.querySelector('#df-be39e9e6-39ec-418d-99ea-9d55a663cf90 button.colab-df-convert');\n",
              "        buttonEl.style.display =\n",
              "          google.colab.kernel.accessAllowed ? 'block' : 'none';\n",
              "\n",
              "        async function convertToInteractive(key) {\n",
              "          const element = document.querySelector('#df-be39e9e6-39ec-418d-99ea-9d55a663cf90');\n",
              "          const dataTable =\n",
              "            await google.colab.kernel.invokeFunction('convertToInteractive',\n",
              "                                                     [key], {});\n",
              "          if (!dataTable) return;\n",
              "\n",
              "          const docLinkHtml = 'Like what you see? Visit the ' +\n",
              "            '<a target=\"_blank\" href=https://colab.research.google.com/notebooks/data_table.ipynb>data table notebook</a>'\n",
              "            + ' to learn more about interactive tables.';\n",
              "          element.innerHTML = '';\n",
              "          dataTable['output_type'] = 'display_data';\n",
              "          await google.colab.output.renderOutput(dataTable, element);\n",
              "          const docLink = document.createElement('div');\n",
              "          docLink.innerHTML = docLinkHtml;\n",
              "          element.appendChild(docLink);\n",
              "        }\n",
              "      </script>\n",
              "    </div>\n",
              "  </div>\n",
              "  "
            ]
          },
          "metadata": {},
          "execution_count": 43
        }
      ],
      "source": [
        "calon_dataframe = {'AB1' : ab1_prediksi_suspect,\n",
        "                   'AB2' : ab2_prediksi_suspect,\n",
        "                   'AB3' : ab3_prediksi_suspect}\n",
        "suspect_prediksi = pd.DataFrame(calon_dataframe)\n",
        "suspect_prediksi"
      ]
    },
    {
      "cell_type": "markdown",
      "metadata": {
        "id": "hZn3KE5w7pQ_"
      },
      "source": [
        "Export ke CSV"
      ]
    },
    {
      "cell_type": "code",
      "execution_count": null,
      "metadata": {
        "id": "f6_LOhm7pq9g"
      },
      "outputs": [],
      "source": [
        "suspect_prediksi.to_csv(r'suspect_prediksi_ab.csv', index=False, header=True)"
      ]
    }
  ],
  "metadata": {
    "colab": {
      "name": "04B_ValidasiModel_AB.ipynb",
      "provenance": [],
      "collapsed_sections": [
        "xxytEywThbGG",
        "t2bLyadvhddJ",
        "es5TB-Bbhi_i"
      ]
    },
    "kernelspec": {
      "display_name": "Python 3",
      "name": "python3"
    },
    "language_info": {
      "name": "python"
    }
  },
  "nbformat": 4,
  "nbformat_minor": 0
}