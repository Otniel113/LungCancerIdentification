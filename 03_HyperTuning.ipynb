{
  "nbformat": 4,
  "nbformat_minor": 0,
  "metadata": {
    "colab": {
      "name": "03.HyperTuning.ipynb",
      "provenance": []
    },
    "kernelspec": {
      "name": "python3",
      "display_name": "Python 3"
    },
    "language_info": {
      "name": "python"
    }
  },
  "cells": [
    {
      "cell_type": "markdown",
      "source": [
        "<h2><b>Input : </b></h2>\n",
        "\n",
        "*   train_microarray.csv\n",
        "*   best_feature.pkl\n",
        "\n",
        "<h2><b>Output : </b></h2>\n",
        "\n",
        "*   rf_klasifikasi.pkl\n",
        "*   ab_klasifikasi.pkl"
      ],
      "metadata": {
        "id": "eeijAryBPe-L"
      }
    },
    {
      "cell_type": "markdown",
      "source": [
        "# Run All"
      ],
      "metadata": {
        "id": "Q2nVT3qquJVX"
      }
    },
    {
      "cell_type": "markdown",
      "source": [
        "## Import dan Load"
      ],
      "metadata": {
        "id": "VPPsV-sQuLvC"
      }
    },
    {
      "cell_type": "code",
      "execution_count": 1,
      "metadata": {
        "id": "s3Tq4Rn-tAih"
      },
      "outputs": [],
      "source": [
        "import pandas as pd\n",
        "import numpy as np\n",
        "\n",
        "from sklearn.ensemble import RandomForestClassifier, AdaBoostClassifier\n",
        "from sklearn.model_selection import GridSearchCV, cross_val_score\n",
        "import joblib"
      ]
    },
    {
      "cell_type": "code",
      "source": [
        "df_train = pd.read_csv('https://drive.google.com/uc?id=1_r9KdY3hz2zVtCD6VZs2nHrnXBGbia8v')"
      ],
      "metadata": {
        "id": "EnX3N48tub-k"
      },
      "execution_count": 2,
      "outputs": []
    },
    {
      "cell_type": "code",
      "source": [
        "best_feature = joblib.load('best_feature.pkl')"
      ],
      "metadata": {
        "id": "H9AW_8vdmKM3"
      },
      "execution_count": 3,
      "outputs": []
    },
    {
      "cell_type": "code",
      "source": [
        "df_train_clean = df_train[best_feature]\n",
        "df_train_clean.head()"
      ],
      "metadata": {
        "colab": {
          "base_uri": "https://localhost:8080/",
          "height": 300
        },
        "id": "iei5Qvs3ut0G",
        "outputId": "64b3cf16-7ba9-4002-c413-4dad924551a9"
      },
      "execution_count": 4,
      "outputs": [
        {
          "output_type": "execute_result",
          "data": {
            "text/plain": [
              "   210168_at  203413_at  214261_s_at  220389_at  210764_s_at  219957_at  \\\n",
              "0   2.698125   3.107873     2.834662   2.747929     2.817337   2.451694   \n",
              "1   2.293900   2.672588     2.611291   3.009061     2.488425   2.398550   \n",
              "2   2.399431   2.889090     2.605791   2.725291     2.502083   2.261000   \n",
              "3   2.521457   2.645042     2.810516   2.631073     2.548259   2.265628   \n",
              "4   2.155440   2.668677     2.699370   2.921175     2.480769   2.531731   \n",
              "\n",
              "   215268_at  206683_at  202733_at  205543_at  ...  205033_s_at  220791_x_at  \\\n",
              "0   1.827054   2.040676   2.949281   2.232630  ...     2.368650     1.647203   \n",
              "1   1.770540   1.879630   2.828378   2.199190  ...     2.405635     1.699744   \n",
              "2   1.637672   2.140230   2.841831   2.183796  ...     2.391431     1.655388   \n",
              "3   1.747258   1.896786   2.686695   1.774922  ...     2.473243     1.864080   \n",
              "4   1.778198   2.009543   2.823255   2.113964  ...     2.294168     1.755021   \n",
              "\n",
              "   218503_at  218273_s_at  206932_at  210064_s_at  204186_s_at  218668_s_at  \\\n",
              "0   3.025496     2.299563   2.810588     3.133350     2.548400     1.826488   \n",
              "1   2.865492     2.174772   2.880740     3.232288     2.554832     1.746584   \n",
              "2   2.870142     2.840631   2.677821     3.201589     2.309634     1.790644   \n",
              "3   2.799175     2.199311   2.470905     2.653567     2.130495     1.829052   \n",
              "4   2.925871     2.149401   2.630203     3.000877     2.437506     1.727929   \n",
              "\n",
              "   208974_x_at  Label  \n",
              "0     2.972731    1.0  \n",
              "1     2.977777    0.0  \n",
              "2     3.105394    1.0  \n",
              "3     2.540820    1.0  \n",
              "4     2.850195    0.0  \n",
              "\n",
              "[5 rows x 25 columns]"
            ],
            "text/html": [
              "\n",
              "  <div id=\"df-1f8a20a1-05f7-4556-942e-ef1025e66038\">\n",
              "    <div class=\"colab-df-container\">\n",
              "      <div>\n",
              "<style scoped>\n",
              "    .dataframe tbody tr th:only-of-type {\n",
              "        vertical-align: middle;\n",
              "    }\n",
              "\n",
              "    .dataframe tbody tr th {\n",
              "        vertical-align: top;\n",
              "    }\n",
              "\n",
              "    .dataframe thead th {\n",
              "        text-align: right;\n",
              "    }\n",
              "</style>\n",
              "<table border=\"1\" class=\"dataframe\">\n",
              "  <thead>\n",
              "    <tr style=\"text-align: right;\">\n",
              "      <th></th>\n",
              "      <th>210168_at</th>\n",
              "      <th>203413_at</th>\n",
              "      <th>214261_s_at</th>\n",
              "      <th>220389_at</th>\n",
              "      <th>210764_s_at</th>\n",
              "      <th>219957_at</th>\n",
              "      <th>215268_at</th>\n",
              "      <th>206683_at</th>\n",
              "      <th>202733_at</th>\n",
              "      <th>205543_at</th>\n",
              "      <th>...</th>\n",
              "      <th>205033_s_at</th>\n",
              "      <th>220791_x_at</th>\n",
              "      <th>218503_at</th>\n",
              "      <th>218273_s_at</th>\n",
              "      <th>206932_at</th>\n",
              "      <th>210064_s_at</th>\n",
              "      <th>204186_s_at</th>\n",
              "      <th>218668_s_at</th>\n",
              "      <th>208974_x_at</th>\n",
              "      <th>Label</th>\n",
              "    </tr>\n",
              "  </thead>\n",
              "  <tbody>\n",
              "    <tr>\n",
              "      <th>0</th>\n",
              "      <td>2.698125</td>\n",
              "      <td>3.107873</td>\n",
              "      <td>2.834662</td>\n",
              "      <td>2.747929</td>\n",
              "      <td>2.817337</td>\n",
              "      <td>2.451694</td>\n",
              "      <td>1.827054</td>\n",
              "      <td>2.040676</td>\n",
              "      <td>2.949281</td>\n",
              "      <td>2.232630</td>\n",
              "      <td>...</td>\n",
              "      <td>2.368650</td>\n",
              "      <td>1.647203</td>\n",
              "      <td>3.025496</td>\n",
              "      <td>2.299563</td>\n",
              "      <td>2.810588</td>\n",
              "      <td>3.133350</td>\n",
              "      <td>2.548400</td>\n",
              "      <td>1.826488</td>\n",
              "      <td>2.972731</td>\n",
              "      <td>1.0</td>\n",
              "    </tr>\n",
              "    <tr>\n",
              "      <th>1</th>\n",
              "      <td>2.293900</td>\n",
              "      <td>2.672588</td>\n",
              "      <td>2.611291</td>\n",
              "      <td>3.009061</td>\n",
              "      <td>2.488425</td>\n",
              "      <td>2.398550</td>\n",
              "      <td>1.770540</td>\n",
              "      <td>1.879630</td>\n",
              "      <td>2.828378</td>\n",
              "      <td>2.199190</td>\n",
              "      <td>...</td>\n",
              "      <td>2.405635</td>\n",
              "      <td>1.699744</td>\n",
              "      <td>2.865492</td>\n",
              "      <td>2.174772</td>\n",
              "      <td>2.880740</td>\n",
              "      <td>3.232288</td>\n",
              "      <td>2.554832</td>\n",
              "      <td>1.746584</td>\n",
              "      <td>2.977777</td>\n",
              "      <td>0.0</td>\n",
              "    </tr>\n",
              "    <tr>\n",
              "      <th>2</th>\n",
              "      <td>2.399431</td>\n",
              "      <td>2.889090</td>\n",
              "      <td>2.605791</td>\n",
              "      <td>2.725291</td>\n",
              "      <td>2.502083</td>\n",
              "      <td>2.261000</td>\n",
              "      <td>1.637672</td>\n",
              "      <td>2.140230</td>\n",
              "      <td>2.841831</td>\n",
              "      <td>2.183796</td>\n",
              "      <td>...</td>\n",
              "      <td>2.391431</td>\n",
              "      <td>1.655388</td>\n",
              "      <td>2.870142</td>\n",
              "      <td>2.840631</td>\n",
              "      <td>2.677821</td>\n",
              "      <td>3.201589</td>\n",
              "      <td>2.309634</td>\n",
              "      <td>1.790644</td>\n",
              "      <td>3.105394</td>\n",
              "      <td>1.0</td>\n",
              "    </tr>\n",
              "    <tr>\n",
              "      <th>3</th>\n",
              "      <td>2.521457</td>\n",
              "      <td>2.645042</td>\n",
              "      <td>2.810516</td>\n",
              "      <td>2.631073</td>\n",
              "      <td>2.548259</td>\n",
              "      <td>2.265628</td>\n",
              "      <td>1.747258</td>\n",
              "      <td>1.896786</td>\n",
              "      <td>2.686695</td>\n",
              "      <td>1.774922</td>\n",
              "      <td>...</td>\n",
              "      <td>2.473243</td>\n",
              "      <td>1.864080</td>\n",
              "      <td>2.799175</td>\n",
              "      <td>2.199311</td>\n",
              "      <td>2.470905</td>\n",
              "      <td>2.653567</td>\n",
              "      <td>2.130495</td>\n",
              "      <td>1.829052</td>\n",
              "      <td>2.540820</td>\n",
              "      <td>1.0</td>\n",
              "    </tr>\n",
              "    <tr>\n",
              "      <th>4</th>\n",
              "      <td>2.155440</td>\n",
              "      <td>2.668677</td>\n",
              "      <td>2.699370</td>\n",
              "      <td>2.921175</td>\n",
              "      <td>2.480769</td>\n",
              "      <td>2.531731</td>\n",
              "      <td>1.778198</td>\n",
              "      <td>2.009543</td>\n",
              "      <td>2.823255</td>\n",
              "      <td>2.113964</td>\n",
              "      <td>...</td>\n",
              "      <td>2.294168</td>\n",
              "      <td>1.755021</td>\n",
              "      <td>2.925871</td>\n",
              "      <td>2.149401</td>\n",
              "      <td>2.630203</td>\n",
              "      <td>3.000877</td>\n",
              "      <td>2.437506</td>\n",
              "      <td>1.727929</td>\n",
              "      <td>2.850195</td>\n",
              "      <td>0.0</td>\n",
              "    </tr>\n",
              "  </tbody>\n",
              "</table>\n",
              "<p>5 rows × 25 columns</p>\n",
              "</div>\n",
              "      <button class=\"colab-df-convert\" onclick=\"convertToInteractive('df-1f8a20a1-05f7-4556-942e-ef1025e66038')\"\n",
              "              title=\"Convert this dataframe to an interactive table.\"\n",
              "              style=\"display:none;\">\n",
              "        \n",
              "  <svg xmlns=\"http://www.w3.org/2000/svg\" height=\"24px\"viewBox=\"0 0 24 24\"\n",
              "       width=\"24px\">\n",
              "    <path d=\"M0 0h24v24H0V0z\" fill=\"none\"/>\n",
              "    <path d=\"M18.56 5.44l.94 2.06.94-2.06 2.06-.94-2.06-.94-.94-2.06-.94 2.06-2.06.94zm-11 1L8.5 8.5l.94-2.06 2.06-.94-2.06-.94L8.5 2.5l-.94 2.06-2.06.94zm10 10l.94 2.06.94-2.06 2.06-.94-2.06-.94-.94-2.06-.94 2.06-2.06.94z\"/><path d=\"M17.41 7.96l-1.37-1.37c-.4-.4-.92-.59-1.43-.59-.52 0-1.04.2-1.43.59L10.3 9.45l-7.72 7.72c-.78.78-.78 2.05 0 2.83L4 21.41c.39.39.9.59 1.41.59.51 0 1.02-.2 1.41-.59l7.78-7.78 2.81-2.81c.8-.78.8-2.07 0-2.86zM5.41 20L4 18.59l7.72-7.72 1.47 1.35L5.41 20z\"/>\n",
              "  </svg>\n",
              "      </button>\n",
              "      \n",
              "  <style>\n",
              "    .colab-df-container {\n",
              "      display:flex;\n",
              "      flex-wrap:wrap;\n",
              "      gap: 12px;\n",
              "    }\n",
              "\n",
              "    .colab-df-convert {\n",
              "      background-color: #E8F0FE;\n",
              "      border: none;\n",
              "      border-radius: 50%;\n",
              "      cursor: pointer;\n",
              "      display: none;\n",
              "      fill: #1967D2;\n",
              "      height: 32px;\n",
              "      padding: 0 0 0 0;\n",
              "      width: 32px;\n",
              "    }\n",
              "\n",
              "    .colab-df-convert:hover {\n",
              "      background-color: #E2EBFA;\n",
              "      box-shadow: 0px 1px 2px rgba(60, 64, 67, 0.3), 0px 1px 3px 1px rgba(60, 64, 67, 0.15);\n",
              "      fill: #174EA6;\n",
              "    }\n",
              "\n",
              "    [theme=dark] .colab-df-convert {\n",
              "      background-color: #3B4455;\n",
              "      fill: #D2E3FC;\n",
              "    }\n",
              "\n",
              "    [theme=dark] .colab-df-convert:hover {\n",
              "      background-color: #434B5C;\n",
              "      box-shadow: 0px 1px 3px 1px rgba(0, 0, 0, 0.15);\n",
              "      filter: drop-shadow(0px 1px 2px rgba(0, 0, 0, 0.3));\n",
              "      fill: #FFFFFF;\n",
              "    }\n",
              "  </style>\n",
              "\n",
              "      <script>\n",
              "        const buttonEl =\n",
              "          document.querySelector('#df-1f8a20a1-05f7-4556-942e-ef1025e66038 button.colab-df-convert');\n",
              "        buttonEl.style.display =\n",
              "          google.colab.kernel.accessAllowed ? 'block' : 'none';\n",
              "\n",
              "        async function convertToInteractive(key) {\n",
              "          const element = document.querySelector('#df-1f8a20a1-05f7-4556-942e-ef1025e66038');\n",
              "          const dataTable =\n",
              "            await google.colab.kernel.invokeFunction('convertToInteractive',\n",
              "                                                     [key], {});\n",
              "          if (!dataTable) return;\n",
              "\n",
              "          const docLinkHtml = 'Like what you see? Visit the ' +\n",
              "            '<a target=\"_blank\" href=https://colab.research.google.com/notebooks/data_table.ipynb>data table notebook</a>'\n",
              "            + ' to learn more about interactive tables.';\n",
              "          element.innerHTML = '';\n",
              "          dataTable['output_type'] = 'display_data';\n",
              "          await google.colab.output.renderOutput(dataTable, element);\n",
              "          const docLink = document.createElement('div');\n",
              "          docLink.innerHTML = docLinkHtml;\n",
              "          element.appendChild(docLink);\n",
              "        }\n",
              "      </script>\n",
              "    </div>\n",
              "  </div>\n",
              "  "
            ]
          },
          "metadata": {},
          "execution_count": 4
        }
      ]
    },
    {
      "cell_type": "markdown",
      "source": [
        "## Model tanpa Tuning dan Validation"
      ],
      "metadata": {
        "id": "XqLtVb_Zu1Io"
      }
    },
    {
      "cell_type": "markdown",
      "source": [
        "### X_train dan y_train"
      ],
      "metadata": {
        "id": "nhuiaiHXTAdw"
      }
    },
    {
      "cell_type": "code",
      "source": [
        "X_train = df_train_clean.iloc[:,:-1]\n",
        "X_train.head()"
      ],
      "metadata": {
        "colab": {
          "base_uri": "https://localhost:8080/",
          "height": 300
        },
        "id": "s6r31lIXuzKA",
        "outputId": "e56e8baa-37da-4fde-f6f3-c4f5e12ebc1a"
      },
      "execution_count": 5,
      "outputs": [
        {
          "output_type": "execute_result",
          "data": {
            "text/plain": [
              "   210168_at  203413_at  214261_s_at  220389_at  210764_s_at  219957_at  \\\n",
              "0   2.698125   3.107873     2.834662   2.747929     2.817337   2.451694   \n",
              "1   2.293900   2.672588     2.611291   3.009061     2.488425   2.398550   \n",
              "2   2.399431   2.889090     2.605791   2.725291     2.502083   2.261000   \n",
              "3   2.521457   2.645042     2.810516   2.631073     2.548259   2.265628   \n",
              "4   2.155440   2.668677     2.699370   2.921175     2.480769   2.531731   \n",
              "\n",
              "   215268_at  206683_at  202733_at  205543_at  ...  203932_at  205033_s_at  \\\n",
              "0   1.827054   2.040676   2.949281   2.232630  ...   3.040835     2.368650   \n",
              "1   1.770540   1.879630   2.828378   2.199190  ...   2.935364     2.405635   \n",
              "2   1.637672   2.140230   2.841831   2.183796  ...   2.823873     2.391431   \n",
              "3   1.747258   1.896786   2.686695   1.774922  ...   2.970504     2.473243   \n",
              "4   1.778198   2.009543   2.823255   2.113964  ...   3.061268     2.294168   \n",
              "\n",
              "   220791_x_at  218503_at  218273_s_at  206932_at  210064_s_at  204186_s_at  \\\n",
              "0     1.647203   3.025496     2.299563   2.810588     3.133350     2.548400   \n",
              "1     1.699744   2.865492     2.174772   2.880740     3.232288     2.554832   \n",
              "2     1.655388   2.870142     2.840631   2.677821     3.201589     2.309634   \n",
              "3     1.864080   2.799175     2.199311   2.470905     2.653567     2.130495   \n",
              "4     1.755021   2.925871     2.149401   2.630203     3.000877     2.437506   \n",
              "\n",
              "   218668_s_at  208974_x_at  \n",
              "0     1.826488     2.972731  \n",
              "1     1.746584     2.977777  \n",
              "2     1.790644     3.105394  \n",
              "3     1.829052     2.540820  \n",
              "4     1.727929     2.850195  \n",
              "\n",
              "[5 rows x 24 columns]"
            ],
            "text/html": [
              "\n",
              "  <div id=\"df-0b3458c8-fbf9-4363-be27-f4c4b29b3e8d\">\n",
              "    <div class=\"colab-df-container\">\n",
              "      <div>\n",
              "<style scoped>\n",
              "    .dataframe tbody tr th:only-of-type {\n",
              "        vertical-align: middle;\n",
              "    }\n",
              "\n",
              "    .dataframe tbody tr th {\n",
              "        vertical-align: top;\n",
              "    }\n",
              "\n",
              "    .dataframe thead th {\n",
              "        text-align: right;\n",
              "    }\n",
              "</style>\n",
              "<table border=\"1\" class=\"dataframe\">\n",
              "  <thead>\n",
              "    <tr style=\"text-align: right;\">\n",
              "      <th></th>\n",
              "      <th>210168_at</th>\n",
              "      <th>203413_at</th>\n",
              "      <th>214261_s_at</th>\n",
              "      <th>220389_at</th>\n",
              "      <th>210764_s_at</th>\n",
              "      <th>219957_at</th>\n",
              "      <th>215268_at</th>\n",
              "      <th>206683_at</th>\n",
              "      <th>202733_at</th>\n",
              "      <th>205543_at</th>\n",
              "      <th>...</th>\n",
              "      <th>203932_at</th>\n",
              "      <th>205033_s_at</th>\n",
              "      <th>220791_x_at</th>\n",
              "      <th>218503_at</th>\n",
              "      <th>218273_s_at</th>\n",
              "      <th>206932_at</th>\n",
              "      <th>210064_s_at</th>\n",
              "      <th>204186_s_at</th>\n",
              "      <th>218668_s_at</th>\n",
              "      <th>208974_x_at</th>\n",
              "    </tr>\n",
              "  </thead>\n",
              "  <tbody>\n",
              "    <tr>\n",
              "      <th>0</th>\n",
              "      <td>2.698125</td>\n",
              "      <td>3.107873</td>\n",
              "      <td>2.834662</td>\n",
              "      <td>2.747929</td>\n",
              "      <td>2.817337</td>\n",
              "      <td>2.451694</td>\n",
              "      <td>1.827054</td>\n",
              "      <td>2.040676</td>\n",
              "      <td>2.949281</td>\n",
              "      <td>2.232630</td>\n",
              "      <td>...</td>\n",
              "      <td>3.040835</td>\n",
              "      <td>2.368650</td>\n",
              "      <td>1.647203</td>\n",
              "      <td>3.025496</td>\n",
              "      <td>2.299563</td>\n",
              "      <td>2.810588</td>\n",
              "      <td>3.133350</td>\n",
              "      <td>2.548400</td>\n",
              "      <td>1.826488</td>\n",
              "      <td>2.972731</td>\n",
              "    </tr>\n",
              "    <tr>\n",
              "      <th>1</th>\n",
              "      <td>2.293900</td>\n",
              "      <td>2.672588</td>\n",
              "      <td>2.611291</td>\n",
              "      <td>3.009061</td>\n",
              "      <td>2.488425</td>\n",
              "      <td>2.398550</td>\n",
              "      <td>1.770540</td>\n",
              "      <td>1.879630</td>\n",
              "      <td>2.828378</td>\n",
              "      <td>2.199190</td>\n",
              "      <td>...</td>\n",
              "      <td>2.935364</td>\n",
              "      <td>2.405635</td>\n",
              "      <td>1.699744</td>\n",
              "      <td>2.865492</td>\n",
              "      <td>2.174772</td>\n",
              "      <td>2.880740</td>\n",
              "      <td>3.232288</td>\n",
              "      <td>2.554832</td>\n",
              "      <td>1.746584</td>\n",
              "      <td>2.977777</td>\n",
              "    </tr>\n",
              "    <tr>\n",
              "      <th>2</th>\n",
              "      <td>2.399431</td>\n",
              "      <td>2.889090</td>\n",
              "      <td>2.605791</td>\n",
              "      <td>2.725291</td>\n",
              "      <td>2.502083</td>\n",
              "      <td>2.261000</td>\n",
              "      <td>1.637672</td>\n",
              "      <td>2.140230</td>\n",
              "      <td>2.841831</td>\n",
              "      <td>2.183796</td>\n",
              "      <td>...</td>\n",
              "      <td>2.823873</td>\n",
              "      <td>2.391431</td>\n",
              "      <td>1.655388</td>\n",
              "      <td>2.870142</td>\n",
              "      <td>2.840631</td>\n",
              "      <td>2.677821</td>\n",
              "      <td>3.201589</td>\n",
              "      <td>2.309634</td>\n",
              "      <td>1.790644</td>\n",
              "      <td>3.105394</td>\n",
              "    </tr>\n",
              "    <tr>\n",
              "      <th>3</th>\n",
              "      <td>2.521457</td>\n",
              "      <td>2.645042</td>\n",
              "      <td>2.810516</td>\n",
              "      <td>2.631073</td>\n",
              "      <td>2.548259</td>\n",
              "      <td>2.265628</td>\n",
              "      <td>1.747258</td>\n",
              "      <td>1.896786</td>\n",
              "      <td>2.686695</td>\n",
              "      <td>1.774922</td>\n",
              "      <td>...</td>\n",
              "      <td>2.970504</td>\n",
              "      <td>2.473243</td>\n",
              "      <td>1.864080</td>\n",
              "      <td>2.799175</td>\n",
              "      <td>2.199311</td>\n",
              "      <td>2.470905</td>\n",
              "      <td>2.653567</td>\n",
              "      <td>2.130495</td>\n",
              "      <td>1.829052</td>\n",
              "      <td>2.540820</td>\n",
              "    </tr>\n",
              "    <tr>\n",
              "      <th>4</th>\n",
              "      <td>2.155440</td>\n",
              "      <td>2.668677</td>\n",
              "      <td>2.699370</td>\n",
              "      <td>2.921175</td>\n",
              "      <td>2.480769</td>\n",
              "      <td>2.531731</td>\n",
              "      <td>1.778198</td>\n",
              "      <td>2.009543</td>\n",
              "      <td>2.823255</td>\n",
              "      <td>2.113964</td>\n",
              "      <td>...</td>\n",
              "      <td>3.061268</td>\n",
              "      <td>2.294168</td>\n",
              "      <td>1.755021</td>\n",
              "      <td>2.925871</td>\n",
              "      <td>2.149401</td>\n",
              "      <td>2.630203</td>\n",
              "      <td>3.000877</td>\n",
              "      <td>2.437506</td>\n",
              "      <td>1.727929</td>\n",
              "      <td>2.850195</td>\n",
              "    </tr>\n",
              "  </tbody>\n",
              "</table>\n",
              "<p>5 rows × 24 columns</p>\n",
              "</div>\n",
              "      <button class=\"colab-df-convert\" onclick=\"convertToInteractive('df-0b3458c8-fbf9-4363-be27-f4c4b29b3e8d')\"\n",
              "              title=\"Convert this dataframe to an interactive table.\"\n",
              "              style=\"display:none;\">\n",
              "        \n",
              "  <svg xmlns=\"http://www.w3.org/2000/svg\" height=\"24px\"viewBox=\"0 0 24 24\"\n",
              "       width=\"24px\">\n",
              "    <path d=\"M0 0h24v24H0V0z\" fill=\"none\"/>\n",
              "    <path d=\"M18.56 5.44l.94 2.06.94-2.06 2.06-.94-2.06-.94-.94-2.06-.94 2.06-2.06.94zm-11 1L8.5 8.5l.94-2.06 2.06-.94-2.06-.94L8.5 2.5l-.94 2.06-2.06.94zm10 10l.94 2.06.94-2.06 2.06-.94-2.06-.94-.94-2.06-.94 2.06-2.06.94z\"/><path d=\"M17.41 7.96l-1.37-1.37c-.4-.4-.92-.59-1.43-.59-.52 0-1.04.2-1.43.59L10.3 9.45l-7.72 7.72c-.78.78-.78 2.05 0 2.83L4 21.41c.39.39.9.59 1.41.59.51 0 1.02-.2 1.41-.59l7.78-7.78 2.81-2.81c.8-.78.8-2.07 0-2.86zM5.41 20L4 18.59l7.72-7.72 1.47 1.35L5.41 20z\"/>\n",
              "  </svg>\n",
              "      </button>\n",
              "      \n",
              "  <style>\n",
              "    .colab-df-container {\n",
              "      display:flex;\n",
              "      flex-wrap:wrap;\n",
              "      gap: 12px;\n",
              "    }\n",
              "\n",
              "    .colab-df-convert {\n",
              "      background-color: #E8F0FE;\n",
              "      border: none;\n",
              "      border-radius: 50%;\n",
              "      cursor: pointer;\n",
              "      display: none;\n",
              "      fill: #1967D2;\n",
              "      height: 32px;\n",
              "      padding: 0 0 0 0;\n",
              "      width: 32px;\n",
              "    }\n",
              "\n",
              "    .colab-df-convert:hover {\n",
              "      background-color: #E2EBFA;\n",
              "      box-shadow: 0px 1px 2px rgba(60, 64, 67, 0.3), 0px 1px 3px 1px rgba(60, 64, 67, 0.15);\n",
              "      fill: #174EA6;\n",
              "    }\n",
              "\n",
              "    [theme=dark] .colab-df-convert {\n",
              "      background-color: #3B4455;\n",
              "      fill: #D2E3FC;\n",
              "    }\n",
              "\n",
              "    [theme=dark] .colab-df-convert:hover {\n",
              "      background-color: #434B5C;\n",
              "      box-shadow: 0px 1px 3px 1px rgba(0, 0, 0, 0.15);\n",
              "      filter: drop-shadow(0px 1px 2px rgba(0, 0, 0, 0.3));\n",
              "      fill: #FFFFFF;\n",
              "    }\n",
              "  </style>\n",
              "\n",
              "      <script>\n",
              "        const buttonEl =\n",
              "          document.querySelector('#df-0b3458c8-fbf9-4363-be27-f4c4b29b3e8d button.colab-df-convert');\n",
              "        buttonEl.style.display =\n",
              "          google.colab.kernel.accessAllowed ? 'block' : 'none';\n",
              "\n",
              "        async function convertToInteractive(key) {\n",
              "          const element = document.querySelector('#df-0b3458c8-fbf9-4363-be27-f4c4b29b3e8d');\n",
              "          const dataTable =\n",
              "            await google.colab.kernel.invokeFunction('convertToInteractive',\n",
              "                                                     [key], {});\n",
              "          if (!dataTable) return;\n",
              "\n",
              "          const docLinkHtml = 'Like what you see? Visit the ' +\n",
              "            '<a target=\"_blank\" href=https://colab.research.google.com/notebooks/data_table.ipynb>data table notebook</a>'\n",
              "            + ' to learn more about interactive tables.';\n",
              "          element.innerHTML = '';\n",
              "          dataTable['output_type'] = 'display_data';\n",
              "          await google.colab.output.renderOutput(dataTable, element);\n",
              "          const docLink = document.createElement('div');\n",
              "          docLink.innerHTML = docLinkHtml;\n",
              "          element.appendChild(docLink);\n",
              "        }\n",
              "      </script>\n",
              "    </div>\n",
              "  </div>\n",
              "  "
            ]
          },
          "metadata": {},
          "execution_count": 5
        }
      ]
    },
    {
      "cell_type": "code",
      "source": [
        "y_train = df_train_clean.iloc[:,-1]\n",
        "y_train.head()"
      ],
      "metadata": {
        "colab": {
          "base_uri": "https://localhost:8080/"
        },
        "id": "137hMO2TvTum",
        "outputId": "9a3bddcb-096c-4cf2-fd0e-4c5d9fcf5695"
      },
      "execution_count": 6,
      "outputs": [
        {
          "output_type": "execute_result",
          "data": {
            "text/plain": [
              "0    1.0\n",
              "1    0.0\n",
              "2    1.0\n",
              "3    1.0\n",
              "4    0.0\n",
              "Name: Label, dtype: float64"
            ]
          },
          "metadata": {},
          "execution_count": 6
        }
      ]
    },
    {
      "cell_type": "markdown",
      "source": [
        "### Model dan Akurasi"
      ],
      "metadata": {
        "id": "9t0AjQ1OTEPO"
      }
    },
    {
      "cell_type": "markdown",
      "source": [
        "Random Forest"
      ],
      "metadata": {
        "id": "2SgleqWJTzpJ"
      }
    },
    {
      "cell_type": "code",
      "source": [
        "model_rf = RandomForestClassifier()\n",
        "score = cross_val_score(model_rf, X_train, y_train, scoring=\"accuracy\", cv=5)\n",
        "print(\"Akurasi masing-masign = \", score)\n",
        "print(\"Rata-rata = \", score.mean())"
      ],
      "metadata": {
        "colab": {
          "base_uri": "https://localhost:8080/"
        },
        "id": "eQGu2RBYSqkk",
        "outputId": "8f3deabe-9985-4074-ef38-e3142584862c"
      },
      "execution_count": 7,
      "outputs": [
        {
          "output_type": "stream",
          "name": "stdout",
          "text": [
            "Akurasi masing-masign =  [0.84615385 0.80769231 0.73076923 0.84615385 0.84615385]\n",
            "Rata-rata =  0.8153846153846154\n"
          ]
        }
      ]
    },
    {
      "cell_type": "markdown",
      "source": [
        "AdaBoost"
      ],
      "metadata": {
        "id": "B-poMd2bT1Bg"
      }
    },
    {
      "cell_type": "code",
      "source": [
        "model_ab = AdaBoostClassifier()\n",
        "score = cross_val_score(model_ab, X_train, y_train, scoring=\"accuracy\", cv=5)\n",
        "print(\"Akurasi masing-masign = \", score)\n",
        "print(\"Rata-rata = \", score.mean())"
      ],
      "metadata": {
        "colab": {
          "base_uri": "https://localhost:8080/"
        },
        "id": "1x_w3IggT3Fx",
        "outputId": "d0d06cdd-97d8-4b4b-a402-f40ea536ec8c"
      },
      "execution_count": 8,
      "outputs": [
        {
          "output_type": "stream",
          "name": "stdout",
          "text": [
            "Akurasi masing-masign =  [0.80769231 0.80769231 0.76923077 0.80769231 0.92307692]\n",
            "Rata-rata =  0.8230769230769232\n"
          ]
        }
      ]
    },
    {
      "cell_type": "markdown",
      "source": [
        "## Hyperparameter Tuning"
      ],
      "metadata": {
        "id": "amnNy2SywM6u"
      }
    },
    {
      "cell_type": "markdown",
      "source": [
        "### Random Forest"
      ],
      "metadata": {
        "id": "_bgMkX0UyGX6"
      }
    },
    {
      "cell_type": "code",
      "source": [
        "rf_klasifikasi = RandomForestClassifier()\n",
        "parameters_rf = {\n",
        "        'n_estimators' : [50, 100, 150, 200],\n",
        "        'max_depth' : [3, 5, 7, 9],\n",
        "        'min_samples_split' : [2, 3, 4, 5]      \n",
        "        }"
      ],
      "metadata": {
        "id": "NJUjikkrwWzA"
      },
      "execution_count": 9,
      "outputs": []
    },
    {
      "cell_type": "code",
      "source": [
        "search_rf = GridSearchCV(rf_klasifikasi,\n",
        "                        parameters_rf,\n",
        "                        scoring='accuracy',\n",
        "                        cv = 5,\n",
        "                        verbose=3)\n",
        "search_rf.fit(X_train, y_train)"
      ],
      "metadata": {
        "colab": {
          "base_uri": "https://localhost:8080/"
        },
        "id": "TzXuSNLcyvBT",
        "outputId": "e5b18c56-39b9-4ee6-a9f0-124571250d64"
      },
      "execution_count": 10,
      "outputs": [
        {
          "output_type": "stream",
          "name": "stdout",
          "text": [
            "Fitting 5 folds for each of 64 candidates, totalling 320 fits\n",
            "[CV 1/5] END max_depth=3, min_samples_split=2, n_estimators=50;, score=0.923 total time=   0.1s\n",
            "[CV 2/5] END max_depth=3, min_samples_split=2, n_estimators=50;, score=0.923 total time=   0.1s\n",
            "[CV 3/5] END max_depth=3, min_samples_split=2, n_estimators=50;, score=0.731 total time=   0.1s\n",
            "[CV 4/5] END max_depth=3, min_samples_split=2, n_estimators=50;, score=0.769 total time=   0.1s\n",
            "[CV 5/5] END max_depth=3, min_samples_split=2, n_estimators=50;, score=0.769 total time=   0.1s\n",
            "[CV 1/5] END max_depth=3, min_samples_split=2, n_estimators=100;, score=0.769 total time=   0.2s\n",
            "[CV 2/5] END max_depth=3, min_samples_split=2, n_estimators=100;, score=0.846 total time=   0.2s\n",
            "[CV 3/5] END max_depth=3, min_samples_split=2, n_estimators=100;, score=0.731 total time=   0.1s\n",
            "[CV 4/5] END max_depth=3, min_samples_split=2, n_estimators=100;, score=0.846 total time=   0.2s\n",
            "[CV 5/5] END max_depth=3, min_samples_split=2, n_estimators=100;, score=0.885 total time=   0.2s\n",
            "[CV 1/5] END max_depth=3, min_samples_split=2, n_estimators=150;, score=0.846 total time=   0.2s\n",
            "[CV 2/5] END max_depth=3, min_samples_split=2, n_estimators=150;, score=0.846 total time=   0.2s\n",
            "[CV 3/5] END max_depth=3, min_samples_split=2, n_estimators=150;, score=0.731 total time=   0.2s\n",
            "[CV 4/5] END max_depth=3, min_samples_split=2, n_estimators=150;, score=0.885 total time=   0.2s\n",
            "[CV 5/5] END max_depth=3, min_samples_split=2, n_estimators=150;, score=0.846 total time=   0.2s\n",
            "[CV 1/5] END max_depth=3, min_samples_split=2, n_estimators=200;, score=0.808 total time=   0.3s\n",
            "[CV 2/5] END max_depth=3, min_samples_split=2, n_estimators=200;, score=0.885 total time=   0.3s\n",
            "[CV 3/5] END max_depth=3, min_samples_split=2, n_estimators=200;, score=0.731 total time=   0.3s\n",
            "[CV 4/5] END max_depth=3, min_samples_split=2, n_estimators=200;, score=0.923 total time=   0.3s\n",
            "[CV 5/5] END max_depth=3, min_samples_split=2, n_estimators=200;, score=0.885 total time=   0.3s\n",
            "[CV 1/5] END max_depth=3, min_samples_split=3, n_estimators=50;, score=0.769 total time=   0.1s\n",
            "[CV 2/5] END max_depth=3, min_samples_split=3, n_estimators=50;, score=0.846 total time=   0.1s\n",
            "[CV 3/5] END max_depth=3, min_samples_split=3, n_estimators=50;, score=0.731 total time=   0.1s\n",
            "[CV 4/5] END max_depth=3, min_samples_split=3, n_estimators=50;, score=0.885 total time=   0.1s\n",
            "[CV 5/5] END max_depth=3, min_samples_split=3, n_estimators=50;, score=0.885 total time=   0.1s\n",
            "[CV 1/5] END max_depth=3, min_samples_split=3, n_estimators=100;, score=0.769 total time=   0.1s\n",
            "[CV 2/5] END max_depth=3, min_samples_split=3, n_estimators=100;, score=0.846 total time=   0.2s\n",
            "[CV 3/5] END max_depth=3, min_samples_split=3, n_estimators=100;, score=0.769 total time=   0.2s\n",
            "[CV 4/5] END max_depth=3, min_samples_split=3, n_estimators=100;, score=0.885 total time=   0.1s\n",
            "[CV 5/5] END max_depth=3, min_samples_split=3, n_estimators=100;, score=0.808 total time=   0.1s\n",
            "[CV 1/5] END max_depth=3, min_samples_split=3, n_estimators=150;, score=0.769 total time=   0.2s\n",
            "[CV 2/5] END max_depth=3, min_samples_split=3, n_estimators=150;, score=0.846 total time=   0.2s\n",
            "[CV 3/5] END max_depth=3, min_samples_split=3, n_estimators=150;, score=0.731 total time=   0.2s\n",
            "[CV 4/5] END max_depth=3, min_samples_split=3, n_estimators=150;, score=0.846 total time=   0.2s\n",
            "[CV 5/5] END max_depth=3, min_samples_split=3, n_estimators=150;, score=0.846 total time=   0.2s\n",
            "[CV 1/5] END max_depth=3, min_samples_split=3, n_estimators=200;, score=0.846 total time=   0.3s\n",
            "[CV 2/5] END max_depth=3, min_samples_split=3, n_estimators=200;, score=0.923 total time=   0.3s\n",
            "[CV 3/5] END max_depth=3, min_samples_split=3, n_estimators=200;, score=0.769 total time=   0.3s\n",
            "[CV 4/5] END max_depth=3, min_samples_split=3, n_estimators=200;, score=0.885 total time=   0.3s\n",
            "[CV 5/5] END max_depth=3, min_samples_split=3, n_estimators=200;, score=0.769 total time=   0.3s\n",
            "[CV 1/5] END max_depth=3, min_samples_split=4, n_estimators=50;, score=0.769 total time=   0.1s\n",
            "[CV 2/5] END max_depth=3, min_samples_split=4, n_estimators=50;, score=0.808 total time=   0.1s\n",
            "[CV 3/5] END max_depth=3, min_samples_split=4, n_estimators=50;, score=0.731 total time=   0.1s\n",
            "[CV 4/5] END max_depth=3, min_samples_split=4, n_estimators=50;, score=0.846 total time=   0.1s\n",
            "[CV 5/5] END max_depth=3, min_samples_split=4, n_estimators=50;, score=0.846 total time=   0.1s\n",
            "[CV 1/5] END max_depth=3, min_samples_split=4, n_estimators=100;, score=0.808 total time=   0.1s\n",
            "[CV 2/5] END max_depth=3, min_samples_split=4, n_estimators=100;, score=0.808 total time=   0.2s\n",
            "[CV 3/5] END max_depth=3, min_samples_split=4, n_estimators=100;, score=0.731 total time=   0.2s\n",
            "[CV 4/5] END max_depth=3, min_samples_split=4, n_estimators=100;, score=0.923 total time=   0.2s\n",
            "[CV 5/5] END max_depth=3, min_samples_split=4, n_estimators=100;, score=0.846 total time=   0.2s\n",
            "[CV 1/5] END max_depth=3, min_samples_split=4, n_estimators=150;, score=0.808 total time=   0.2s\n",
            "[CV 2/5] END max_depth=3, min_samples_split=4, n_estimators=150;, score=0.923 total time=   0.2s\n",
            "[CV 3/5] END max_depth=3, min_samples_split=4, n_estimators=150;, score=0.731 total time=   0.2s\n",
            "[CV 4/5] END max_depth=3, min_samples_split=4, n_estimators=150;, score=0.885 total time=   0.2s\n",
            "[CV 5/5] END max_depth=3, min_samples_split=4, n_estimators=150;, score=0.885 total time=   0.2s\n",
            "[CV 1/5] END max_depth=3, min_samples_split=4, n_estimators=200;, score=0.769 total time=   0.3s\n",
            "[CV 2/5] END max_depth=3, min_samples_split=4, n_estimators=200;, score=0.885 total time=   0.3s\n",
            "[CV 3/5] END max_depth=3, min_samples_split=4, n_estimators=200;, score=0.731 total time=   0.3s\n",
            "[CV 4/5] END max_depth=3, min_samples_split=4, n_estimators=200;, score=0.923 total time=   0.3s\n",
            "[CV 5/5] END max_depth=3, min_samples_split=4, n_estimators=200;, score=0.846 total time=   0.3s\n",
            "[CV 1/5] END max_depth=3, min_samples_split=5, n_estimators=50;, score=0.769 total time=   0.1s\n",
            "[CV 2/5] END max_depth=3, min_samples_split=5, n_estimators=50;, score=0.731 total time=   0.1s\n",
            "[CV 3/5] END max_depth=3, min_samples_split=5, n_estimators=50;, score=0.692 total time=   0.1s\n",
            "[CV 4/5] END max_depth=3, min_samples_split=5, n_estimators=50;, score=0.846 total time=   0.1s\n",
            "[CV 5/5] END max_depth=3, min_samples_split=5, n_estimators=50;, score=0.846 total time=   0.1s\n",
            "[CV 1/5] END max_depth=3, min_samples_split=5, n_estimators=100;, score=0.808 total time=   0.1s\n",
            "[CV 2/5] END max_depth=3, min_samples_split=5, n_estimators=100;, score=0.846 total time=   0.1s\n",
            "[CV 3/5] END max_depth=3, min_samples_split=5, n_estimators=100;, score=0.731 total time=   0.2s\n",
            "[CV 4/5] END max_depth=3, min_samples_split=5, n_estimators=100;, score=0.846 total time=   0.1s\n",
            "[CV 5/5] END max_depth=3, min_samples_split=5, n_estimators=100;, score=0.885 total time=   0.1s\n",
            "[CV 1/5] END max_depth=3, min_samples_split=5, n_estimators=150;, score=0.769 total time=   0.2s\n",
            "[CV 2/5] END max_depth=3, min_samples_split=5, n_estimators=150;, score=0.885 total time=   0.2s\n",
            "[CV 3/5] END max_depth=3, min_samples_split=5, n_estimators=150;, score=0.731 total time=   0.2s\n",
            "[CV 4/5] END max_depth=3, min_samples_split=5, n_estimators=150;, score=0.885 total time=   0.2s\n",
            "[CV 5/5] END max_depth=3, min_samples_split=5, n_estimators=150;, score=0.885 total time=   0.2s\n",
            "[CV 1/5] END max_depth=3, min_samples_split=5, n_estimators=200;, score=0.846 total time=   0.3s\n",
            "[CV 2/5] END max_depth=3, min_samples_split=5, n_estimators=200;, score=0.846 total time=   0.3s\n",
            "[CV 3/5] END max_depth=3, min_samples_split=5, n_estimators=200;, score=0.731 total time=   0.3s\n",
            "[CV 4/5] END max_depth=3, min_samples_split=5, n_estimators=200;, score=0.885 total time=   0.3s\n",
            "[CV 5/5] END max_depth=3, min_samples_split=5, n_estimators=200;, score=0.846 total time=   0.3s\n",
            "[CV 1/5] END max_depth=5, min_samples_split=2, n_estimators=50;, score=0.769 total time=   0.1s\n",
            "[CV 2/5] END max_depth=5, min_samples_split=2, n_estimators=50;, score=0.962 total time=   0.1s\n",
            "[CV 3/5] END max_depth=5, min_samples_split=2, n_estimators=50;, score=0.769 total time=   0.1s\n",
            "[CV 4/5] END max_depth=5, min_samples_split=2, n_estimators=50;, score=0.885 total time=   0.1s\n",
            "[CV 5/5] END max_depth=5, min_samples_split=2, n_estimators=50;, score=0.885 total time=   0.1s\n",
            "[CV 1/5] END max_depth=5, min_samples_split=2, n_estimators=100;, score=0.846 total time=   0.2s\n",
            "[CV 2/5] END max_depth=5, min_samples_split=2, n_estimators=100;, score=0.885 total time=   0.2s\n",
            "[CV 3/5] END max_depth=5, min_samples_split=2, n_estimators=100;, score=0.731 total time=   0.2s\n",
            "[CV 4/5] END max_depth=5, min_samples_split=2, n_estimators=100;, score=0.885 total time=   0.2s\n",
            "[CV 5/5] END max_depth=5, min_samples_split=2, n_estimators=100;, score=0.962 total time=   0.2s\n",
            "[CV 1/5] END max_depth=5, min_samples_split=2, n_estimators=150;, score=0.731 total time=   0.2s\n",
            "[CV 2/5] END max_depth=5, min_samples_split=2, n_estimators=150;, score=0.885 total time=   0.2s\n",
            "[CV 3/5] END max_depth=5, min_samples_split=2, n_estimators=150;, score=0.731 total time=   0.2s\n",
            "[CV 4/5] END max_depth=5, min_samples_split=2, n_estimators=150;, score=0.846 total time=   0.2s\n",
            "[CV 5/5] END max_depth=5, min_samples_split=2, n_estimators=150;, score=0.846 total time=   0.2s\n",
            "[CV 1/5] END max_depth=5, min_samples_split=2, n_estimators=200;, score=0.769 total time=   0.3s\n",
            "[CV 2/5] END max_depth=5, min_samples_split=2, n_estimators=200;, score=0.923 total time=   0.3s\n",
            "[CV 3/5] END max_depth=5, min_samples_split=2, n_estimators=200;, score=0.731 total time=   0.3s\n",
            "[CV 4/5] END max_depth=5, min_samples_split=2, n_estimators=200;, score=0.885 total time=   0.3s\n",
            "[CV 5/5] END max_depth=5, min_samples_split=2, n_estimators=200;, score=0.769 total time=   0.3s\n",
            "[CV 1/5] END max_depth=5, min_samples_split=3, n_estimators=50;, score=0.846 total time=   0.1s\n",
            "[CV 2/5] END max_depth=5, min_samples_split=3, n_estimators=50;, score=0.923 total time=   0.1s\n",
            "[CV 3/5] END max_depth=5, min_samples_split=3, n_estimators=50;, score=0.769 total time=   0.1s\n",
            "[CV 4/5] END max_depth=5, min_samples_split=3, n_estimators=50;, score=0.846 total time=   0.1s\n",
            "[CV 5/5] END max_depth=5, min_samples_split=3, n_estimators=50;, score=0.846 total time=   0.1s\n",
            "[CV 1/5] END max_depth=5, min_samples_split=3, n_estimators=100;, score=0.846 total time=   0.2s\n",
            "[CV 2/5] END max_depth=5, min_samples_split=3, n_estimators=100;, score=0.885 total time=   0.2s\n",
            "[CV 3/5] END max_depth=5, min_samples_split=3, n_estimators=100;, score=0.731 total time=   0.2s\n",
            "[CV 4/5] END max_depth=5, min_samples_split=3, n_estimators=100;, score=0.885 total time=   0.1s\n",
            "[CV 5/5] END max_depth=5, min_samples_split=3, n_estimators=100;, score=0.846 total time=   0.2s\n",
            "[CV 1/5] END max_depth=5, min_samples_split=3, n_estimators=150;, score=0.808 total time=   0.2s\n",
            "[CV 2/5] END max_depth=5, min_samples_split=3, n_estimators=150;, score=0.885 total time=   0.2s\n",
            "[CV 3/5] END max_depth=5, min_samples_split=3, n_estimators=150;, score=0.731 total time=   0.2s\n",
            "[CV 4/5] END max_depth=5, min_samples_split=3, n_estimators=150;, score=0.923 total time=   0.2s\n",
            "[CV 5/5] END max_depth=5, min_samples_split=3, n_estimators=150;, score=0.846 total time=   0.2s\n",
            "[CV 1/5] END max_depth=5, min_samples_split=3, n_estimators=200;, score=0.808 total time=   0.3s\n",
            "[CV 2/5] END max_depth=5, min_samples_split=3, n_estimators=200;, score=0.885 total time=   0.3s\n",
            "[CV 3/5] END max_depth=5, min_samples_split=3, n_estimators=200;, score=0.731 total time=   0.3s\n",
            "[CV 4/5] END max_depth=5, min_samples_split=3, n_estimators=200;, score=0.885 total time=   0.3s\n",
            "[CV 5/5] END max_depth=5, min_samples_split=3, n_estimators=200;, score=0.885 total time=   0.3s\n",
            "[CV 1/5] END max_depth=5, min_samples_split=4, n_estimators=50;, score=0.846 total time=   0.1s\n",
            "[CV 2/5] END max_depth=5, min_samples_split=4, n_estimators=50;, score=0.923 total time=   0.1s\n",
            "[CV 3/5] END max_depth=5, min_samples_split=4, n_estimators=50;, score=0.731 total time=   0.1s\n",
            "[CV 4/5] END max_depth=5, min_samples_split=4, n_estimators=50;, score=0.962 total time=   0.1s\n",
            "[CV 5/5] END max_depth=5, min_samples_split=4, n_estimators=50;, score=0.846 total time=   0.1s\n",
            "[CV 1/5] END max_depth=5, min_samples_split=4, n_estimators=100;, score=0.846 total time=   0.2s\n",
            "[CV 2/5] END max_depth=5, min_samples_split=4, n_estimators=100;, score=0.885 total time=   0.2s\n",
            "[CV 3/5] END max_depth=5, min_samples_split=4, n_estimators=100;, score=0.731 total time=   0.2s\n",
            "[CV 4/5] END max_depth=5, min_samples_split=4, n_estimators=100;, score=0.846 total time=   0.2s\n",
            "[CV 5/5] END max_depth=5, min_samples_split=4, n_estimators=100;, score=0.846 total time=   0.2s\n",
            "[CV 1/5] END max_depth=5, min_samples_split=4, n_estimators=150;, score=0.846 total time=   0.2s\n",
            "[CV 2/5] END max_depth=5, min_samples_split=4, n_estimators=150;, score=0.846 total time=   0.2s\n",
            "[CV 3/5] END max_depth=5, min_samples_split=4, n_estimators=150;, score=0.731 total time=   0.2s\n",
            "[CV 4/5] END max_depth=5, min_samples_split=4, n_estimators=150;, score=0.885 total time=   0.2s\n",
            "[CV 5/5] END max_depth=5, min_samples_split=4, n_estimators=150;, score=0.846 total time=   0.2s\n",
            "[CV 1/5] END max_depth=5, min_samples_split=4, n_estimators=200;, score=0.769 total time=   0.3s\n",
            "[CV 2/5] END max_depth=5, min_samples_split=4, n_estimators=200;, score=0.885 total time=   0.3s\n",
            "[CV 3/5] END max_depth=5, min_samples_split=4, n_estimators=200;, score=0.731 total time=   0.3s\n",
            "[CV 4/5] END max_depth=5, min_samples_split=4, n_estimators=200;, score=0.923 total time=   0.3s\n",
            "[CV 5/5] END max_depth=5, min_samples_split=4, n_estimators=200;, score=0.808 total time=   0.3s\n",
            "[CV 1/5] END max_depth=5, min_samples_split=5, n_estimators=50;, score=0.808 total time=   0.1s\n",
            "[CV 2/5] END max_depth=5, min_samples_split=5, n_estimators=50;, score=0.885 total time=   0.1s\n",
            "[CV 3/5] END max_depth=5, min_samples_split=5, n_estimators=50;, score=0.731 total time=   0.1s\n",
            "[CV 4/5] END max_depth=5, min_samples_split=5, n_estimators=50;, score=0.885 total time=   0.1s\n",
            "[CV 5/5] END max_depth=5, min_samples_split=5, n_estimators=50;, score=0.846 total time=   0.1s\n",
            "[CV 1/5] END max_depth=5, min_samples_split=5, n_estimators=100;, score=0.808 total time=   0.2s\n",
            "[CV 2/5] END max_depth=5, min_samples_split=5, n_estimators=100;, score=0.923 total time=   0.1s\n",
            "[CV 3/5] END max_depth=5, min_samples_split=5, n_estimators=100;, score=0.731 total time=   0.2s\n",
            "[CV 4/5] END max_depth=5, min_samples_split=5, n_estimators=100;, score=0.923 total time=   0.1s\n",
            "[CV 5/5] END max_depth=5, min_samples_split=5, n_estimators=100;, score=0.885 total time=   0.2s\n",
            "[CV 1/5] END max_depth=5, min_samples_split=5, n_estimators=150;, score=0.769 total time=   0.2s\n",
            "[CV 2/5] END max_depth=5, min_samples_split=5, n_estimators=150;, score=0.846 total time=   0.2s\n",
            "[CV 3/5] END max_depth=5, min_samples_split=5, n_estimators=150;, score=0.731 total time=   0.2s\n",
            "[CV 4/5] END max_depth=5, min_samples_split=5, n_estimators=150;, score=0.885 total time=   0.2s\n",
            "[CV 5/5] END max_depth=5, min_samples_split=5, n_estimators=150;, score=0.885 total time=   0.2s\n",
            "[CV 1/5] END max_depth=5, min_samples_split=5, n_estimators=200;, score=0.846 total time=   0.3s\n",
            "[CV 2/5] END max_depth=5, min_samples_split=5, n_estimators=200;, score=0.846 total time=   0.3s\n",
            "[CV 3/5] END max_depth=5, min_samples_split=5, n_estimators=200;, score=0.731 total time=   0.3s\n",
            "[CV 4/5] END max_depth=5, min_samples_split=5, n_estimators=200;, score=0.808 total time=   0.3s\n",
            "[CV 5/5] END max_depth=5, min_samples_split=5, n_estimators=200;, score=0.885 total time=   0.3s\n",
            "[CV 1/5] END max_depth=7, min_samples_split=2, n_estimators=50;, score=0.769 total time=   0.1s\n",
            "[CV 2/5] END max_depth=7, min_samples_split=2, n_estimators=50;, score=0.846 total time=   0.1s\n",
            "[CV 3/5] END max_depth=7, min_samples_split=2, n_estimators=50;, score=0.769 total time=   0.1s\n",
            "[CV 4/5] END max_depth=7, min_samples_split=2, n_estimators=50;, score=0.808 total time=   0.1s\n",
            "[CV 5/5] END max_depth=7, min_samples_split=2, n_estimators=50;, score=0.808 total time=   0.1s\n",
            "[CV 1/5] END max_depth=7, min_samples_split=2, n_estimators=100;, score=0.846 total time=   0.2s\n",
            "[CV 2/5] END max_depth=7, min_samples_split=2, n_estimators=100;, score=0.923 total time=   0.2s\n",
            "[CV 3/5] END max_depth=7, min_samples_split=2, n_estimators=100;, score=0.769 total time=   0.2s\n",
            "[CV 4/5] END max_depth=7, min_samples_split=2, n_estimators=100;, score=0.885 total time=   0.2s\n",
            "[CV 5/5] END max_depth=7, min_samples_split=2, n_estimators=100;, score=0.885 total time=   0.2s\n",
            "[CV 1/5] END max_depth=7, min_samples_split=2, n_estimators=150;, score=0.846 total time=   0.2s\n",
            "[CV 2/5] END max_depth=7, min_samples_split=2, n_estimators=150;, score=0.923 total time=   0.2s\n",
            "[CV 3/5] END max_depth=7, min_samples_split=2, n_estimators=150;, score=0.731 total time=   0.2s\n",
            "[CV 4/5] END max_depth=7, min_samples_split=2, n_estimators=150;, score=0.923 total time=   0.2s\n",
            "[CV 5/5] END max_depth=7, min_samples_split=2, n_estimators=150;, score=0.885 total time=   0.2s\n",
            "[CV 1/5] END max_depth=7, min_samples_split=2, n_estimators=200;, score=0.808 total time=   0.3s\n",
            "[CV 2/5] END max_depth=7, min_samples_split=2, n_estimators=200;, score=0.846 total time=   0.3s\n",
            "[CV 3/5] END max_depth=7, min_samples_split=2, n_estimators=200;, score=0.731 total time=   0.3s\n",
            "[CV 4/5] END max_depth=7, min_samples_split=2, n_estimators=200;, score=0.923 total time=   0.3s\n",
            "[CV 5/5] END max_depth=7, min_samples_split=2, n_estimators=200;, score=0.923 total time=   0.3s\n",
            "[CV 1/5] END max_depth=7, min_samples_split=3, n_estimators=50;, score=0.769 total time=   0.1s\n",
            "[CV 2/5] END max_depth=7, min_samples_split=3, n_estimators=50;, score=0.923 total time=   0.1s\n",
            "[CV 3/5] END max_depth=7, min_samples_split=3, n_estimators=50;, score=0.769 total time=   0.1s\n",
            "[CV 4/5] END max_depth=7, min_samples_split=3, n_estimators=50;, score=0.923 total time=   0.1s\n",
            "[CV 5/5] END max_depth=7, min_samples_split=3, n_estimators=50;, score=0.885 total time=   0.1s\n",
            "[CV 1/5] END max_depth=7, min_samples_split=3, n_estimators=100;, score=0.846 total time=   0.2s\n",
            "[CV 2/5] END max_depth=7, min_samples_split=3, n_estimators=100;, score=0.808 total time=   0.2s\n",
            "[CV 3/5] END max_depth=7, min_samples_split=3, n_estimators=100;, score=0.731 total time=   0.2s\n",
            "[CV 4/5] END max_depth=7, min_samples_split=3, n_estimators=100;, score=0.923 total time=   0.1s\n",
            "[CV 5/5] END max_depth=7, min_samples_split=3, n_estimators=100;, score=0.885 total time=   0.2s\n",
            "[CV 1/5] END max_depth=7, min_samples_split=3, n_estimators=150;, score=0.808 total time=   0.2s\n",
            "[CV 2/5] END max_depth=7, min_samples_split=3, n_estimators=150;, score=0.846 total time=   0.2s\n",
            "[CV 3/5] END max_depth=7, min_samples_split=3, n_estimators=150;, score=0.731 total time=   0.2s\n",
            "[CV 4/5] END max_depth=7, min_samples_split=3, n_estimators=150;, score=0.885 total time=   0.2s\n",
            "[CV 5/5] END max_depth=7, min_samples_split=3, n_estimators=150;, score=0.846 total time=   0.2s\n",
            "[CV 1/5] END max_depth=7, min_samples_split=3, n_estimators=200;, score=0.846 total time=   0.3s\n",
            "[CV 2/5] END max_depth=7, min_samples_split=3, n_estimators=200;, score=0.885 total time=   0.3s\n",
            "[CV 3/5] END max_depth=7, min_samples_split=3, n_estimators=200;, score=0.731 total time=   0.3s\n",
            "[CV 4/5] END max_depth=7, min_samples_split=3, n_estimators=200;, score=0.923 total time=   0.3s\n",
            "[CV 5/5] END max_depth=7, min_samples_split=3, n_estimators=200;, score=0.923 total time=   0.3s\n",
            "[CV 1/5] END max_depth=7, min_samples_split=4, n_estimators=50;, score=0.846 total time=   0.1s\n",
            "[CV 2/5] END max_depth=7, min_samples_split=4, n_estimators=50;, score=0.962 total time=   0.1s\n",
            "[CV 3/5] END max_depth=7, min_samples_split=4, n_estimators=50;, score=0.808 total time=   0.1s\n",
            "[CV 4/5] END max_depth=7, min_samples_split=4, n_estimators=50;, score=0.808 total time=   0.1s\n",
            "[CV 5/5] END max_depth=7, min_samples_split=4, n_estimators=50;, score=0.962 total time=   0.1s\n",
            "[CV 1/5] END max_depth=7, min_samples_split=4, n_estimators=100;, score=0.808 total time=   0.2s\n",
            "[CV 2/5] END max_depth=7, min_samples_split=4, n_estimators=100;, score=0.846 total time=   0.1s\n",
            "[CV 3/5] END max_depth=7, min_samples_split=4, n_estimators=100;, score=0.769 total time=   0.2s\n",
            "[CV 4/5] END max_depth=7, min_samples_split=4, n_estimators=100;, score=0.885 total time=   0.1s\n",
            "[CV 5/5] END max_depth=7, min_samples_split=4, n_estimators=100;, score=0.808 total time=   0.2s\n",
            "[CV 1/5] END max_depth=7, min_samples_split=4, n_estimators=150;, score=0.731 total time=   0.2s\n",
            "[CV 2/5] END max_depth=7, min_samples_split=4, n_estimators=150;, score=0.923 total time=   0.2s\n",
            "[CV 3/5] END max_depth=7, min_samples_split=4, n_estimators=150;, score=0.731 total time=   0.2s\n",
            "[CV 4/5] END max_depth=7, min_samples_split=4, n_estimators=150;, score=0.923 total time=   0.2s\n",
            "[CV 5/5] END max_depth=7, min_samples_split=4, n_estimators=150;, score=0.923 total time=   0.2s\n",
            "[CV 1/5] END max_depth=7, min_samples_split=4, n_estimators=200;, score=0.846 total time=   0.3s\n",
            "[CV 2/5] END max_depth=7, min_samples_split=4, n_estimators=200;, score=0.885 total time=   0.3s\n",
            "[CV 3/5] END max_depth=7, min_samples_split=4, n_estimators=200;, score=0.731 total time=   0.3s\n",
            "[CV 4/5] END max_depth=7, min_samples_split=4, n_estimators=200;, score=0.885 total time=   0.3s\n",
            "[CV 5/5] END max_depth=7, min_samples_split=4, n_estimators=200;, score=0.808 total time=   0.3s\n",
            "[CV 1/5] END max_depth=7, min_samples_split=5, n_estimators=50;, score=0.923 total time=   0.1s\n",
            "[CV 2/5] END max_depth=7, min_samples_split=5, n_estimators=50;, score=0.885 total time=   0.1s\n",
            "[CV 3/5] END max_depth=7, min_samples_split=5, n_estimators=50;, score=0.769 total time=   0.1s\n",
            "[CV 4/5] END max_depth=7, min_samples_split=5, n_estimators=50;, score=0.885 total time=   0.1s\n",
            "[CV 5/5] END max_depth=7, min_samples_split=5, n_estimators=50;, score=0.846 total time=   0.1s\n",
            "[CV 1/5] END max_depth=7, min_samples_split=5, n_estimators=100;, score=0.769 total time=   0.2s\n",
            "[CV 2/5] END max_depth=7, min_samples_split=5, n_estimators=100;, score=0.923 total time=   0.1s\n",
            "[CV 3/5] END max_depth=7, min_samples_split=5, n_estimators=100;, score=0.731 total time=   0.1s\n",
            "[CV 4/5] END max_depth=7, min_samples_split=5, n_estimators=100;, score=0.885 total time=   0.2s\n",
            "[CV 5/5] END max_depth=7, min_samples_split=5, n_estimators=100;, score=0.808 total time=   0.2s\n",
            "[CV 1/5] END max_depth=7, min_samples_split=5, n_estimators=150;, score=0.808 total time=   0.2s\n",
            "[CV 2/5] END max_depth=7, min_samples_split=5, n_estimators=150;, score=0.846 total time=   0.2s\n",
            "[CV 3/5] END max_depth=7, min_samples_split=5, n_estimators=150;, score=0.731 total time=   0.2s\n",
            "[CV 4/5] END max_depth=7, min_samples_split=5, n_estimators=150;, score=0.885 total time=   0.2s\n",
            "[CV 5/5] END max_depth=7, min_samples_split=5, n_estimators=150;, score=0.846 total time=   0.2s\n",
            "[CV 1/5] END max_depth=7, min_samples_split=5, n_estimators=200;, score=0.769 total time=   0.3s\n",
            "[CV 2/5] END max_depth=7, min_samples_split=5, n_estimators=200;, score=0.885 total time=   0.3s\n",
            "[CV 3/5] END max_depth=7, min_samples_split=5, n_estimators=200;, score=0.731 total time=   0.3s\n",
            "[CV 4/5] END max_depth=7, min_samples_split=5, n_estimators=200;, score=0.885 total time=   0.3s\n",
            "[CV 5/5] END max_depth=7, min_samples_split=5, n_estimators=200;, score=0.885 total time=   0.3s\n",
            "[CV 1/5] END max_depth=9, min_samples_split=2, n_estimators=50;, score=0.808 total time=   0.1s\n",
            "[CV 2/5] END max_depth=9, min_samples_split=2, n_estimators=50;, score=0.846 total time=   0.1s\n",
            "[CV 3/5] END max_depth=9, min_samples_split=2, n_estimators=50;, score=0.654 total time=   0.1s\n",
            "[CV 4/5] END max_depth=9, min_samples_split=2, n_estimators=50;, score=0.885 total time=   0.1s\n",
            "[CV 5/5] END max_depth=9, min_samples_split=2, n_estimators=50;, score=0.846 total time=   0.1s\n",
            "[CV 1/5] END max_depth=9, min_samples_split=2, n_estimators=100;, score=0.846 total time=   0.2s\n",
            "[CV 2/5] END max_depth=9, min_samples_split=2, n_estimators=100;, score=0.923 total time=   0.2s\n",
            "[CV 3/5] END max_depth=9, min_samples_split=2, n_estimators=100;, score=0.731 total time=   0.2s\n",
            "[CV 4/5] END max_depth=9, min_samples_split=2, n_estimators=100;, score=0.885 total time=   0.2s\n",
            "[CV 5/5] END max_depth=9, min_samples_split=2, n_estimators=100;, score=0.846 total time=   0.2s\n",
            "[CV 1/5] END max_depth=9, min_samples_split=2, n_estimators=150;, score=0.846 total time=   0.2s\n",
            "[CV 2/5] END max_depth=9, min_samples_split=2, n_estimators=150;, score=0.923 total time=   0.2s\n",
            "[CV 3/5] END max_depth=9, min_samples_split=2, n_estimators=150;, score=0.731 total time=   0.2s\n",
            "[CV 4/5] END max_depth=9, min_samples_split=2, n_estimators=150;, score=0.923 total time=   0.2s\n",
            "[CV 5/5] END max_depth=9, min_samples_split=2, n_estimators=150;, score=0.846 total time=   0.2s\n",
            "[CV 1/5] END max_depth=9, min_samples_split=2, n_estimators=200;, score=0.769 total time=   0.3s\n",
            "[CV 2/5] END max_depth=9, min_samples_split=2, n_estimators=200;, score=0.885 total time=   0.3s\n",
            "[CV 3/5] END max_depth=9, min_samples_split=2, n_estimators=200;, score=0.731 total time=   0.3s\n",
            "[CV 4/5] END max_depth=9, min_samples_split=2, n_estimators=200;, score=0.885 total time=   0.3s\n",
            "[CV 5/5] END max_depth=9, min_samples_split=2, n_estimators=200;, score=0.885 total time=   0.3s\n",
            "[CV 1/5] END max_depth=9, min_samples_split=3, n_estimators=50;, score=0.769 total time=   0.1s\n",
            "[CV 2/5] END max_depth=9, min_samples_split=3, n_estimators=50;, score=0.808 total time=   0.1s\n",
            "[CV 3/5] END max_depth=9, min_samples_split=3, n_estimators=50;, score=0.731 total time=   0.1s\n",
            "[CV 4/5] END max_depth=9, min_samples_split=3, n_estimators=50;, score=0.846 total time=   0.1s\n",
            "[CV 5/5] END max_depth=9, min_samples_split=3, n_estimators=50;, score=0.885 total time=   0.1s\n",
            "[CV 1/5] END max_depth=9, min_samples_split=3, n_estimators=100;, score=0.846 total time=   0.2s\n",
            "[CV 2/5] END max_depth=9, min_samples_split=3, n_estimators=100;, score=0.923 total time=   0.2s\n",
            "[CV 3/5] END max_depth=9, min_samples_split=3, n_estimators=100;, score=0.731 total time=   0.2s\n",
            "[CV 4/5] END max_depth=9, min_samples_split=3, n_estimators=100;, score=0.846 total time=   0.1s\n",
            "[CV 5/5] END max_depth=9, min_samples_split=3, n_estimators=100;, score=0.846 total time=   0.2s\n",
            "[CV 1/5] END max_depth=9, min_samples_split=3, n_estimators=150;, score=0.808 total time=   0.2s\n",
            "[CV 2/5] END max_depth=9, min_samples_split=3, n_estimators=150;, score=0.923 total time=   0.2s\n",
            "[CV 3/5] END max_depth=9, min_samples_split=3, n_estimators=150;, score=0.731 total time=   0.2s\n",
            "[CV 4/5] END max_depth=9, min_samples_split=3, n_estimators=150;, score=0.846 total time=   0.2s\n",
            "[CV 5/5] END max_depth=9, min_samples_split=3, n_estimators=150;, score=0.769 total time=   0.2s\n",
            "[CV 1/5] END max_depth=9, min_samples_split=3, n_estimators=200;, score=0.808 total time=   0.3s\n",
            "[CV 2/5] END max_depth=9, min_samples_split=3, n_estimators=200;, score=0.846 total time=   0.3s\n",
            "[CV 3/5] END max_depth=9, min_samples_split=3, n_estimators=200;, score=0.731 total time=   0.3s\n",
            "[CV 4/5] END max_depth=9, min_samples_split=3, n_estimators=200;, score=0.885 total time=   0.3s\n",
            "[CV 5/5] END max_depth=9, min_samples_split=3, n_estimators=200;, score=0.846 total time=   0.3s\n",
            "[CV 1/5] END max_depth=9, min_samples_split=4, n_estimators=50;, score=0.769 total time=   0.1s\n",
            "[CV 2/5] END max_depth=9, min_samples_split=4, n_estimators=50;, score=0.885 total time=   0.1s\n",
            "[CV 3/5] END max_depth=9, min_samples_split=4, n_estimators=50;, score=0.808 total time=   0.1s\n",
            "[CV 4/5] END max_depth=9, min_samples_split=4, n_estimators=50;, score=0.808 total time=   0.1s\n",
            "[CV 5/5] END max_depth=9, min_samples_split=4, n_estimators=50;, score=0.808 total time=   0.1s\n",
            "[CV 1/5] END max_depth=9, min_samples_split=4, n_estimators=100;, score=0.808 total time=   0.2s\n",
            "[CV 2/5] END max_depth=9, min_samples_split=4, n_estimators=100;, score=0.885 total time=   0.2s\n",
            "[CV 3/5] END max_depth=9, min_samples_split=4, n_estimators=100;, score=0.731 total time=   0.2s\n",
            "[CV 4/5] END max_depth=9, min_samples_split=4, n_estimators=100;, score=0.923 total time=   0.2s\n",
            "[CV 5/5] END max_depth=9, min_samples_split=4, n_estimators=100;, score=0.846 total time=   0.2s\n",
            "[CV 1/5] END max_depth=9, min_samples_split=4, n_estimators=150;, score=0.808 total time=   0.2s\n",
            "[CV 2/5] END max_depth=9, min_samples_split=4, n_estimators=150;, score=0.923 total time=   0.2s\n",
            "[CV 3/5] END max_depth=9, min_samples_split=4, n_estimators=150;, score=0.731 total time=   0.2s\n",
            "[CV 4/5] END max_depth=9, min_samples_split=4, n_estimators=150;, score=0.923 total time=   0.2s\n",
            "[CV 5/5] END max_depth=9, min_samples_split=4, n_estimators=150;, score=0.846 total time=   0.2s\n",
            "[CV 1/5] END max_depth=9, min_samples_split=4, n_estimators=200;, score=0.808 total time=   0.3s\n",
            "[CV 2/5] END max_depth=9, min_samples_split=4, n_estimators=200;, score=0.923 total time=   0.3s\n",
            "[CV 3/5] END max_depth=9, min_samples_split=4, n_estimators=200;, score=0.731 total time=   0.3s\n",
            "[CV 4/5] END max_depth=9, min_samples_split=4, n_estimators=200;, score=0.885 total time=   0.6s\n",
            "[CV 5/5] END max_depth=9, min_samples_split=4, n_estimators=200;, score=0.846 total time=   0.3s\n",
            "[CV 1/5] END max_depth=9, min_samples_split=5, n_estimators=50;, score=0.808 total time=   0.1s\n",
            "[CV 2/5] END max_depth=9, min_samples_split=5, n_estimators=50;, score=0.923 total time=   0.1s\n",
            "[CV 3/5] END max_depth=9, min_samples_split=5, n_estimators=50;, score=0.731 total time=   0.1s\n",
            "[CV 4/5] END max_depth=9, min_samples_split=5, n_estimators=50;, score=0.846 total time=   0.1s\n",
            "[CV 5/5] END max_depth=9, min_samples_split=5, n_estimators=50;, score=0.885 total time=   0.1s\n",
            "[CV 1/5] END max_depth=9, min_samples_split=5, n_estimators=100;, score=0.846 total time=   0.2s\n",
            "[CV 2/5] END max_depth=9, min_samples_split=5, n_estimators=100;, score=0.923 total time=   0.2s\n",
            "[CV 3/5] END max_depth=9, min_samples_split=5, n_estimators=100;, score=0.731 total time=   0.2s\n",
            "[CV 4/5] END max_depth=9, min_samples_split=5, n_estimators=100;, score=0.885 total time=   0.2s\n",
            "[CV 5/5] END max_depth=9, min_samples_split=5, n_estimators=100;, score=0.808 total time=   0.2s\n",
            "[CV 1/5] END max_depth=9, min_samples_split=5, n_estimators=150;, score=0.769 total time=   0.2s\n",
            "[CV 2/5] END max_depth=9, min_samples_split=5, n_estimators=150;, score=0.885 total time=   0.2s\n",
            "[CV 3/5] END max_depth=9, min_samples_split=5, n_estimators=150;, score=0.731 total time=   0.2s\n",
            "[CV 4/5] END max_depth=9, min_samples_split=5, n_estimators=150;, score=0.923 total time=   0.2s\n",
            "[CV 5/5] END max_depth=9, min_samples_split=5, n_estimators=150;, score=0.846 total time=   0.2s\n",
            "[CV 1/5] END max_depth=9, min_samples_split=5, n_estimators=200;, score=0.808 total time=   0.3s\n",
            "[CV 2/5] END max_depth=9, min_samples_split=5, n_estimators=200;, score=0.885 total time=   0.3s\n",
            "[CV 3/5] END max_depth=9, min_samples_split=5, n_estimators=200;, score=0.731 total time=   0.3s\n",
            "[CV 4/5] END max_depth=9, min_samples_split=5, n_estimators=200;, score=0.885 total time=   0.3s\n",
            "[CV 5/5] END max_depth=9, min_samples_split=5, n_estimators=200;, score=0.885 total time=   0.3s\n"
          ]
        },
        {
          "output_type": "execute_result",
          "data": {
            "text/plain": [
              "GridSearchCV(cv=5, estimator=RandomForestClassifier(),\n",
              "             param_grid={'max_depth': [3, 5, 7, 9],\n",
              "                         'min_samples_split': [2, 3, 4, 5],\n",
              "                         'n_estimators': [50, 100, 150, 200]},\n",
              "             scoring='accuracy', verbose=3)"
            ]
          },
          "metadata": {},
          "execution_count": 10
        }
      ]
    },
    {
      "cell_type": "code",
      "source": [
        "rf_best_acc_score = search_rf.best_score_\n",
        "rf_best_parameter = search_rf.best_params_\n",
        "print(\"Akurasi terbaik = \", rf_best_acc_score)\n",
        "print(\"Parameter terbaik = \", rf_best_parameter)"
      ],
      "metadata": {
        "colab": {
          "base_uri": "https://localhost:8080/"
        },
        "id": "970IBo6giwoz",
        "outputId": "a4f555d0-4e96-49ba-9b8e-865afba37ef3"
      },
      "execution_count": 11,
      "outputs": [
        {
          "output_type": "stream",
          "name": "stdout",
          "text": [
            "Akurasi terbaik =  0.876923076923077\n",
            "Parameter terbaik =  {'max_depth': 7, 'min_samples_split': 4, 'n_estimators': 50}\n"
          ]
        }
      ]
    },
    {
      "cell_type": "code",
      "source": [
        "max_depth= rf_best_parameter['max_depth']\n",
        "min_samples_split = rf_best_parameter['min_samples_split']\n",
        "n_estimators = rf_best_parameter['n_estimators']\n",
        "rf_klasifikasi = RandomForestClassifier(max_depth=max_depth, min_samples_split=min_samples_split, n_estimators=n_estimators)"
      ],
      "metadata": {
        "id": "yIrA_80EzSIS"
      },
      "execution_count": 12,
      "outputs": []
    },
    {
      "cell_type": "markdown",
      "source": [
        "### AdaBoost"
      ],
      "metadata": {
        "id": "EIq2jbKU15dq"
      }
    },
    {
      "cell_type": "code",
      "source": [
        "ab_klasifikasi = AdaBoostClassifier()\n",
        "parameters_ab = {\n",
        "        'n_estimators' : [50, 100, 150, 200],\n",
        "        'learning_rate' : [0.01, 0.1, 1]  \n",
        "        }"
      ],
      "metadata": {
        "id": "yZhcHpZ015d9"
      },
      "execution_count": 13,
      "outputs": []
    },
    {
      "cell_type": "code",
      "source": [
        "search_ab = GridSearchCV(ab_klasifikasi,\n",
        "                        parameters_ab,\n",
        "                        scoring='accuracy',\n",
        "                        cv = 5,\n",
        "                        verbose=3)\n",
        "search_ab.fit(X_train, y_train)"
      ],
      "metadata": {
        "colab": {
          "base_uri": "https://localhost:8080/"
        },
        "outputId": "27fd38d6-2aa7-4c98-ac57-0f4008739080",
        "id": "fJWyoSCK15d-"
      },
      "execution_count": 14,
      "outputs": [
        {
          "output_type": "stream",
          "name": "stdout",
          "text": [
            "Fitting 5 folds for each of 12 candidates, totalling 60 fits\n",
            "[CV 1/5] END learning_rate=0.01, n_estimators=50;, score=0.654 total time=   0.1s\n",
            "[CV 2/5] END learning_rate=0.01, n_estimators=50;, score=0.692 total time=   0.1s\n",
            "[CV 3/5] END learning_rate=0.01, n_estimators=50;, score=0.577 total time=   0.1s\n",
            "[CV 4/5] END learning_rate=0.01, n_estimators=50;, score=0.808 total time=   0.1s\n",
            "[CV 5/5] END learning_rate=0.01, n_estimators=50;, score=0.731 total time=   0.1s\n",
            "[CV 1/5] END learning_rate=0.01, n_estimators=100;, score=0.769 total time=   0.2s\n",
            "[CV 2/5] END learning_rate=0.01, n_estimators=100;, score=0.769 total time=   0.2s\n",
            "[CV 3/5] END learning_rate=0.01, n_estimators=100;, score=0.615 total time=   0.2s\n",
            "[CV 4/5] END learning_rate=0.01, n_estimators=100;, score=0.769 total time=   0.2s\n",
            "[CV 5/5] END learning_rate=0.01, n_estimators=100;, score=0.769 total time=   0.2s\n",
            "[CV 1/5] END learning_rate=0.01, n_estimators=150;, score=0.769 total time=   0.3s\n",
            "[CV 2/5] END learning_rate=0.01, n_estimators=150;, score=0.769 total time=   0.3s\n",
            "[CV 3/5] END learning_rate=0.01, n_estimators=150;, score=0.615 total time=   0.3s\n",
            "[CV 4/5] END learning_rate=0.01, n_estimators=150;, score=0.769 total time=   0.3s\n",
            "[CV 5/5] END learning_rate=0.01, n_estimators=150;, score=0.769 total time=   0.3s\n",
            "[CV 1/5] END learning_rate=0.01, n_estimators=200;, score=0.808 total time=   0.4s\n",
            "[CV 2/5] END learning_rate=0.01, n_estimators=200;, score=0.808 total time=   0.4s\n",
            "[CV 3/5] END learning_rate=0.01, n_estimators=200;, score=0.615 total time=   0.4s\n",
            "[CV 4/5] END learning_rate=0.01, n_estimators=200;, score=0.769 total time=   0.4s\n",
            "[CV 5/5] END learning_rate=0.01, n_estimators=200;, score=0.846 total time=   0.4s\n",
            "[CV 1/5] END learning_rate=0.1, n_estimators=50;, score=0.808 total time=   0.1s\n",
            "[CV 2/5] END learning_rate=0.1, n_estimators=50;, score=0.808 total time=   0.1s\n",
            "[CV 3/5] END learning_rate=0.1, n_estimators=50;, score=0.692 total time=   0.1s\n",
            "[CV 4/5] END learning_rate=0.1, n_estimators=50;, score=0.885 total time=   0.1s\n",
            "[CV 5/5] END learning_rate=0.1, n_estimators=50;, score=0.731 total time=   0.1s\n",
            "[CV 1/5] END learning_rate=0.1, n_estimators=100;, score=0.846 total time=   0.2s\n",
            "[CV 2/5] END learning_rate=0.1, n_estimators=100;, score=0.885 total time=   0.2s\n",
            "[CV 3/5] END learning_rate=0.1, n_estimators=100;, score=0.731 total time=   0.2s\n",
            "[CV 4/5] END learning_rate=0.1, n_estimators=100;, score=0.846 total time=   0.2s\n",
            "[CV 5/5] END learning_rate=0.1, n_estimators=100;, score=0.769 total time=   0.2s\n",
            "[CV 1/5] END learning_rate=0.1, n_estimators=150;, score=0.846 total time=   0.3s\n",
            "[CV 2/5] END learning_rate=0.1, n_estimators=150;, score=0.885 total time=   0.3s\n",
            "[CV 3/5] END learning_rate=0.1, n_estimators=150;, score=0.731 total time=   0.3s\n",
            "[CV 4/5] END learning_rate=0.1, n_estimators=150;, score=0.885 total time=   0.3s\n",
            "[CV 5/5] END learning_rate=0.1, n_estimators=150;, score=0.808 total time=   0.3s\n",
            "[CV 1/5] END learning_rate=0.1, n_estimators=200;, score=0.846 total time=   0.4s\n",
            "[CV 2/5] END learning_rate=0.1, n_estimators=200;, score=0.846 total time=   0.4s\n",
            "[CV 3/5] END learning_rate=0.1, n_estimators=200;, score=0.769 total time=   0.4s\n",
            "[CV 4/5] END learning_rate=0.1, n_estimators=200;, score=0.846 total time=   0.4s\n",
            "[CV 5/5] END learning_rate=0.1, n_estimators=200;, score=0.846 total time=   0.4s\n",
            "[CV 1/5] END ..learning_rate=1, n_estimators=50;, score=0.808 total time=   0.1s\n",
            "[CV 2/5] END ..learning_rate=1, n_estimators=50;, score=0.808 total time=   0.1s\n",
            "[CV 3/5] END ..learning_rate=1, n_estimators=50;, score=0.769 total time=   0.1s\n",
            "[CV 4/5] END ..learning_rate=1, n_estimators=50;, score=0.808 total time=   0.1s\n",
            "[CV 5/5] END ..learning_rate=1, n_estimators=50;, score=0.923 total time=   0.1s\n",
            "[CV 1/5] END .learning_rate=1, n_estimators=100;, score=0.885 total time=   0.2s\n",
            "[CV 2/5] END .learning_rate=1, n_estimators=100;, score=0.846 total time=   0.2s\n",
            "[CV 3/5] END .learning_rate=1, n_estimators=100;, score=0.769 total time=   0.2s\n",
            "[CV 4/5] END .learning_rate=1, n_estimators=100;, score=0.808 total time=   0.2s\n",
            "[CV 5/5] END .learning_rate=1, n_estimators=100;, score=0.846 total time=   0.2s\n",
            "[CV 1/5] END .learning_rate=1, n_estimators=150;, score=0.885 total time=   0.3s\n",
            "[CV 2/5] END .learning_rate=1, n_estimators=150;, score=0.885 total time=   0.3s\n",
            "[CV 3/5] END .learning_rate=1, n_estimators=150;, score=0.846 total time=   0.3s\n",
            "[CV 4/5] END .learning_rate=1, n_estimators=150;, score=0.885 total time=   0.3s\n",
            "[CV 5/5] END .learning_rate=1, n_estimators=150;, score=0.846 total time=   0.3s\n",
            "[CV 1/5] END .learning_rate=1, n_estimators=200;, score=0.885 total time=   0.4s\n",
            "[CV 2/5] END .learning_rate=1, n_estimators=200;, score=0.885 total time=   0.4s\n",
            "[CV 3/5] END .learning_rate=1, n_estimators=200;, score=0.808 total time=   0.4s\n",
            "[CV 4/5] END .learning_rate=1, n_estimators=200;, score=0.885 total time=   0.4s\n",
            "[CV 5/5] END .learning_rate=1, n_estimators=200;, score=0.885 total time=   0.4s\n"
          ]
        },
        {
          "output_type": "execute_result",
          "data": {
            "text/plain": [
              "GridSearchCV(cv=5, estimator=AdaBoostClassifier(),\n",
              "             param_grid={'learning_rate': [0.01, 0.1, 1],\n",
              "                         'n_estimators': [50, 100, 150, 200]},\n",
              "             scoring='accuracy', verbose=3)"
            ]
          },
          "metadata": {},
          "execution_count": 14
        }
      ]
    },
    {
      "cell_type": "code",
      "source": [
        "ab_best_acc_score = search_ab.best_score_\n",
        "ab_best_parameter = search_ab.best_params_\n",
        "print(\"Akurasi terbaik = \", ab_best_acc_score)\n",
        "print(\"Parameter terbaik = \", ab_best_parameter)"
      ],
      "metadata": {
        "colab": {
          "base_uri": "https://localhost:8080/"
        },
        "id": "IhlysKHaj-SO",
        "outputId": "f2c9d551-15c6-4623-cf97-45b4fe33ad3f"
      },
      "execution_count": 15,
      "outputs": [
        {
          "output_type": "stream",
          "name": "stdout",
          "text": [
            "Akurasi terbaik =  0.8692307692307691\n",
            "Parameter terbaik =  {'learning_rate': 1, 'n_estimators': 150}\n"
          ]
        }
      ]
    },
    {
      "cell_type": "code",
      "source": [
        "learning_rate = ab_best_parameter[\"learning_rate\"]\n",
        "n_estimators = ab_best_parameter[\"n_estimators\"]\n",
        "\n",
        "ab_klasifikasi = AdaBoostClassifier(learning_rate=learning_rate, n_estimators=n_estimators)"
      ],
      "metadata": {
        "id": "50KgfwZt15eB"
      },
      "execution_count": 16,
      "outputs": []
    },
    {
      "cell_type": "markdown",
      "source": [
        "## Export"
      ],
      "metadata": {
        "id": "pDHT8dd3V_gI"
      }
    },
    {
      "cell_type": "markdown",
      "source": [
        "Export model"
      ],
      "metadata": {
        "id": "ZmTKnykxWRPT"
      }
    },
    {
      "cell_type": "code",
      "source": [
        "joblib.dump(rf_klasifikasi, 'rf_klasifikasi.pkl')\n",
        "joblib.dump(ab_klasifikasi, 'ab_klasifikasi.pkl')"
      ],
      "metadata": {
        "colab": {
          "base_uri": "https://localhost:8080/"
        },
        "id": "G0JH6m0UWBN6",
        "outputId": "6f391851-24ab-45a0-823a-373e0aea2985"
      },
      "execution_count": 17,
      "outputs": [
        {
          "output_type": "execute_result",
          "data": {
            "text/plain": [
              "['ab_klasifikasi.pkl']"
            ]
          },
          "metadata": {},
          "execution_count": 17
        }
      ]
    }
  ]
}