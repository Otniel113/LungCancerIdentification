{
  "nbformat": 4,
  "nbformat_minor": 0,
  "metadata": {
    "colab": {
      "name": "03B.HyperTuning-AB.ipynb",
      "provenance": [],
      "collapsed_sections": [
        "nhuiaiHXTAdw"
      ]
    },
    "kernelspec": {
      "name": "python3",
      "display_name": "Python 3"
    },
    "language_info": {
      "name": "python"
    }
  },
  "cells": [
    {
      "cell_type": "markdown",
      "source": [
        "<h2><b>Input : </b></h2>\n",
        "\n",
        "*   train_microarray.csv\n",
        "*   ab1_features.pkl\n",
        "*   ab2_features.pkl\n",
        "*   ab3_features.pkl\n",
        "\n",
        "<h2><b>Output : </b></h2>\n",
        "\n",
        "*   ab1_model.pkl\n",
        "*   ab2_model.pkl\n",
        "*   ab3_model.pkl"
      ],
      "metadata": {
        "id": "eeijAryBPe-L"
      }
    },
    {
      "cell_type": "markdown",
      "source": [
        "# Run All"
      ],
      "metadata": {
        "id": "Q2nVT3qquJVX"
      }
    },
    {
      "cell_type": "markdown",
      "source": [
        "## Import dan Load"
      ],
      "metadata": {
        "id": "VPPsV-sQuLvC"
      }
    },
    {
      "cell_type": "markdown",
      "source": [
        "Import library yang diperlukan"
      ],
      "metadata": {
        "id": "mRxAAnfBUWcu"
      }
    },
    {
      "cell_type": "code",
      "execution_count": null,
      "metadata": {
        "id": "s3Tq4Rn-tAih"
      },
      "outputs": [],
      "source": [
        "import pandas as pd\n",
        "import numpy as np\n",
        "\n",
        "from sklearn.ensemble import AdaBoostClassifier\n",
        "from sklearn.model_selection import GridSearchCV, cross_val_score\n",
        "\n",
        "import matplotlib as mpl\n",
        "import matplotlib.pyplot as plt\n",
        "%matplotlib inline\n",
        "from matplotlib import rcParams\n",
        "\n",
        "import joblib"
      ]
    },
    {
      "cell_type": "markdown",
      "source": [
        "Mengatur Style"
      ],
      "metadata": {
        "id": "0ukTTQg6j0lA"
      }
    },
    {
      "cell_type": "code",
      "source": [
        "rcParams['figure.figsize'] = 15, 10\n",
        "mpl.style.use(['ggplot'])"
      ],
      "metadata": {
        "id": "In2laP_Cjz4E"
      },
      "execution_count": null,
      "outputs": []
    },
    {
      "cell_type": "markdown",
      "source": [
        "Load data train"
      ],
      "metadata": {
        "id": "pcKdyCcpUZQq"
      }
    },
    {
      "cell_type": "code",
      "source": [
        "df_train = pd.read_csv('https://drive.google.com/uc?id=1MiU_0V6-LvZ_CyCuWf2HoW-WXNKSIFJQ')"
      ],
      "metadata": {
        "id": "EnX3N48tub-k"
      },
      "execution_count": null,
      "outputs": []
    },
    {
      "cell_type": "markdown",
      "source": [
        "Load hasil seleksi fitur"
      ],
      "metadata": {
        "id": "mgu-uM6KUfKP"
      }
    },
    {
      "cell_type": "code",
      "source": [
        "ab1_features = joblib.load('ab1_features.pkl')\n",
        "ab2_features = joblib.load('ab2_features.pkl')\n",
        "ab3_features = joblib.load('ab3_features.pkl')"
      ],
      "metadata": {
        "id": "H9AW_8vdmKM3"
      },
      "execution_count": null,
      "outputs": []
    },
    {
      "cell_type": "markdown",
      "source": [
        "Df_train dengan fitur 1"
      ],
      "metadata": {
        "id": "k_H4f1LuUl-C"
      }
    },
    {
      "cell_type": "code",
      "source": [
        "df_train1 = df_train[ab1_features]\n",
        "df_train1.head()"
      ],
      "metadata": {
        "colab": {
          "base_uri": "https://localhost:8080/",
          "height": 300
        },
        "id": "iei5Qvs3ut0G",
        "outputId": "f9bffe2a-50b2-4bda-a033-5084201d7b9b"
      },
      "execution_count": null,
      "outputs": [
        {
          "output_type": "execute_result",
          "data": {
            "text/plain": [
              "   211612_s_at  217653_x_at  211996_s_at  214594_x_at  218155_x_at  \\\n",
              "0     2.535743     2.052387     2.873506     2.285882     2.518572   \n",
              "1     2.587822     1.957657     2.779933     2.248177     2.508590   \n",
              "2     2.529666     2.059190     2.805088     2.255567     2.658405   \n",
              "3     2.274739     2.273920     2.952965     2.554384     2.736684   \n",
              "4     2.551101     2.321532     2.887101     2.752609     2.752873   \n",
              "\n",
              "   202936_s_at  216609_at  207953_at  217679_x_at  210168_at  ...  204919_at  \\\n",
              "0     2.656989   1.982433   2.324655     2.431334   2.458624  ...   2.723190   \n",
              "1     2.366057   2.139794   2.280555     2.374257   2.461287  ...   2.761961   \n",
              "2     2.542071   2.113104   2.323435     2.513285   2.488348  ...   2.794787   \n",
              "3     2.465318   2.204011   2.573738     2.646684   2.458046  ...   2.436898   \n",
              "4     2.608392   2.483343   2.565807     2.924184   2.526407  ...   2.601354   \n",
              "\n",
              "   202436_s_at  202437_s_at  209457_at  206584_at  217022_s_at  206835_at  \\\n",
              "0     2.481315     1.911761   2.790067   2.594274     3.326183   2.172511   \n",
              "1     3.235303     3.104195   2.511882   2.270037     2.215997   2.492978   \n",
              "2     3.018061     2.694711   2.600055   2.286755     2.428886   2.180694   \n",
              "3     2.478467     1.743530   2.305844   1.810791     3.321267   2.043120   \n",
              "4     2.681277     2.099440   2.453478   2.682590     3.044343   2.009510   \n",
              "\n",
              "   202435_s_at  205749_at  Label  \n",
              "0     1.817986   2.344495      1  \n",
              "1     2.619466   2.850630      1  \n",
              "2     2.300764   2.624524      0  \n",
              "3     1.905358   2.407280      0  \n",
              "4     1.929459   2.500476      0  \n",
              "\n",
              "[5 rows x 101 columns]"
            ],
            "text/html": [
              "\n",
              "  <div id=\"df-4478bc22-7c31-43eb-9288-8efa12070fb1\">\n",
              "    <div class=\"colab-df-container\">\n",
              "      <div>\n",
              "<style scoped>\n",
              "    .dataframe tbody tr th:only-of-type {\n",
              "        vertical-align: middle;\n",
              "    }\n",
              "\n",
              "    .dataframe tbody tr th {\n",
              "        vertical-align: top;\n",
              "    }\n",
              "\n",
              "    .dataframe thead th {\n",
              "        text-align: right;\n",
              "    }\n",
              "</style>\n",
              "<table border=\"1\" class=\"dataframe\">\n",
              "  <thead>\n",
              "    <tr style=\"text-align: right;\">\n",
              "      <th></th>\n",
              "      <th>211612_s_at</th>\n",
              "      <th>217653_x_at</th>\n",
              "      <th>211996_s_at</th>\n",
              "      <th>214594_x_at</th>\n",
              "      <th>218155_x_at</th>\n",
              "      <th>202936_s_at</th>\n",
              "      <th>216609_at</th>\n",
              "      <th>207953_at</th>\n",
              "      <th>217679_x_at</th>\n",
              "      <th>210168_at</th>\n",
              "      <th>...</th>\n",
              "      <th>204919_at</th>\n",
              "      <th>202436_s_at</th>\n",
              "      <th>202437_s_at</th>\n",
              "      <th>209457_at</th>\n",
              "      <th>206584_at</th>\n",
              "      <th>217022_s_at</th>\n",
              "      <th>206835_at</th>\n",
              "      <th>202435_s_at</th>\n",
              "      <th>205749_at</th>\n",
              "      <th>Label</th>\n",
              "    </tr>\n",
              "  </thead>\n",
              "  <tbody>\n",
              "    <tr>\n",
              "      <th>0</th>\n",
              "      <td>2.535743</td>\n",
              "      <td>2.052387</td>\n",
              "      <td>2.873506</td>\n",
              "      <td>2.285882</td>\n",
              "      <td>2.518572</td>\n",
              "      <td>2.656989</td>\n",
              "      <td>1.982433</td>\n",
              "      <td>2.324655</td>\n",
              "      <td>2.431334</td>\n",
              "      <td>2.458624</td>\n",
              "      <td>...</td>\n",
              "      <td>2.723190</td>\n",
              "      <td>2.481315</td>\n",
              "      <td>1.911761</td>\n",
              "      <td>2.790067</td>\n",
              "      <td>2.594274</td>\n",
              "      <td>3.326183</td>\n",
              "      <td>2.172511</td>\n",
              "      <td>1.817986</td>\n",
              "      <td>2.344495</td>\n",
              "      <td>1</td>\n",
              "    </tr>\n",
              "    <tr>\n",
              "      <th>1</th>\n",
              "      <td>2.587822</td>\n",
              "      <td>1.957657</td>\n",
              "      <td>2.779933</td>\n",
              "      <td>2.248177</td>\n",
              "      <td>2.508590</td>\n",
              "      <td>2.366057</td>\n",
              "      <td>2.139794</td>\n",
              "      <td>2.280555</td>\n",
              "      <td>2.374257</td>\n",
              "      <td>2.461287</td>\n",
              "      <td>...</td>\n",
              "      <td>2.761961</td>\n",
              "      <td>3.235303</td>\n",
              "      <td>3.104195</td>\n",
              "      <td>2.511882</td>\n",
              "      <td>2.270037</td>\n",
              "      <td>2.215997</td>\n",
              "      <td>2.492978</td>\n",
              "      <td>2.619466</td>\n",
              "      <td>2.850630</td>\n",
              "      <td>1</td>\n",
              "    </tr>\n",
              "    <tr>\n",
              "      <th>2</th>\n",
              "      <td>2.529666</td>\n",
              "      <td>2.059190</td>\n",
              "      <td>2.805088</td>\n",
              "      <td>2.255567</td>\n",
              "      <td>2.658405</td>\n",
              "      <td>2.542071</td>\n",
              "      <td>2.113104</td>\n",
              "      <td>2.323435</td>\n",
              "      <td>2.513285</td>\n",
              "      <td>2.488348</td>\n",
              "      <td>...</td>\n",
              "      <td>2.794787</td>\n",
              "      <td>3.018061</td>\n",
              "      <td>2.694711</td>\n",
              "      <td>2.600055</td>\n",
              "      <td>2.286755</td>\n",
              "      <td>2.428886</td>\n",
              "      <td>2.180694</td>\n",
              "      <td>2.300764</td>\n",
              "      <td>2.624524</td>\n",
              "      <td>0</td>\n",
              "    </tr>\n",
              "    <tr>\n",
              "      <th>3</th>\n",
              "      <td>2.274739</td>\n",
              "      <td>2.273920</td>\n",
              "      <td>2.952965</td>\n",
              "      <td>2.554384</td>\n",
              "      <td>2.736684</td>\n",
              "      <td>2.465318</td>\n",
              "      <td>2.204011</td>\n",
              "      <td>2.573738</td>\n",
              "      <td>2.646684</td>\n",
              "      <td>2.458046</td>\n",
              "      <td>...</td>\n",
              "      <td>2.436898</td>\n",
              "      <td>2.478467</td>\n",
              "      <td>1.743530</td>\n",
              "      <td>2.305844</td>\n",
              "      <td>1.810791</td>\n",
              "      <td>3.321267</td>\n",
              "      <td>2.043120</td>\n",
              "      <td>1.905358</td>\n",
              "      <td>2.407280</td>\n",
              "      <td>0</td>\n",
              "    </tr>\n",
              "    <tr>\n",
              "      <th>4</th>\n",
              "      <td>2.551101</td>\n",
              "      <td>2.321532</td>\n",
              "      <td>2.887101</td>\n",
              "      <td>2.752609</td>\n",
              "      <td>2.752873</td>\n",
              "      <td>2.608392</td>\n",
              "      <td>2.483343</td>\n",
              "      <td>2.565807</td>\n",
              "      <td>2.924184</td>\n",
              "      <td>2.526407</td>\n",
              "      <td>...</td>\n",
              "      <td>2.601354</td>\n",
              "      <td>2.681277</td>\n",
              "      <td>2.099440</td>\n",
              "      <td>2.453478</td>\n",
              "      <td>2.682590</td>\n",
              "      <td>3.044343</td>\n",
              "      <td>2.009510</td>\n",
              "      <td>1.929459</td>\n",
              "      <td>2.500476</td>\n",
              "      <td>0</td>\n",
              "    </tr>\n",
              "  </tbody>\n",
              "</table>\n",
              "<p>5 rows × 101 columns</p>\n",
              "</div>\n",
              "      <button class=\"colab-df-convert\" onclick=\"convertToInteractive('df-4478bc22-7c31-43eb-9288-8efa12070fb1')\"\n",
              "              title=\"Convert this dataframe to an interactive table.\"\n",
              "              style=\"display:none;\">\n",
              "        \n",
              "  <svg xmlns=\"http://www.w3.org/2000/svg\" height=\"24px\"viewBox=\"0 0 24 24\"\n",
              "       width=\"24px\">\n",
              "    <path d=\"M0 0h24v24H0V0z\" fill=\"none\"/>\n",
              "    <path d=\"M18.56 5.44l.94 2.06.94-2.06 2.06-.94-2.06-.94-.94-2.06-.94 2.06-2.06.94zm-11 1L8.5 8.5l.94-2.06 2.06-.94-2.06-.94L8.5 2.5l-.94 2.06-2.06.94zm10 10l.94 2.06.94-2.06 2.06-.94-2.06-.94-.94-2.06-.94 2.06-2.06.94z\"/><path d=\"M17.41 7.96l-1.37-1.37c-.4-.4-.92-.59-1.43-.59-.52 0-1.04.2-1.43.59L10.3 9.45l-7.72 7.72c-.78.78-.78 2.05 0 2.83L4 21.41c.39.39.9.59 1.41.59.51 0 1.02-.2 1.41-.59l7.78-7.78 2.81-2.81c.8-.78.8-2.07 0-2.86zM5.41 20L4 18.59l7.72-7.72 1.47 1.35L5.41 20z\"/>\n",
              "  </svg>\n",
              "      </button>\n",
              "      \n",
              "  <style>\n",
              "    .colab-df-container {\n",
              "      display:flex;\n",
              "      flex-wrap:wrap;\n",
              "      gap: 12px;\n",
              "    }\n",
              "\n",
              "    .colab-df-convert {\n",
              "      background-color: #E8F0FE;\n",
              "      border: none;\n",
              "      border-radius: 50%;\n",
              "      cursor: pointer;\n",
              "      display: none;\n",
              "      fill: #1967D2;\n",
              "      height: 32px;\n",
              "      padding: 0 0 0 0;\n",
              "      width: 32px;\n",
              "    }\n",
              "\n",
              "    .colab-df-convert:hover {\n",
              "      background-color: #E2EBFA;\n",
              "      box-shadow: 0px 1px 2px rgba(60, 64, 67, 0.3), 0px 1px 3px 1px rgba(60, 64, 67, 0.15);\n",
              "      fill: #174EA6;\n",
              "    }\n",
              "\n",
              "    [theme=dark] .colab-df-convert {\n",
              "      background-color: #3B4455;\n",
              "      fill: #D2E3FC;\n",
              "    }\n",
              "\n",
              "    [theme=dark] .colab-df-convert:hover {\n",
              "      background-color: #434B5C;\n",
              "      box-shadow: 0px 1px 3px 1px rgba(0, 0, 0, 0.15);\n",
              "      filter: drop-shadow(0px 1px 2px rgba(0, 0, 0, 0.3));\n",
              "      fill: #FFFFFF;\n",
              "    }\n",
              "  </style>\n",
              "\n",
              "      <script>\n",
              "        const buttonEl =\n",
              "          document.querySelector('#df-4478bc22-7c31-43eb-9288-8efa12070fb1 button.colab-df-convert');\n",
              "        buttonEl.style.display =\n",
              "          google.colab.kernel.accessAllowed ? 'block' : 'none';\n",
              "\n",
              "        async function convertToInteractive(key) {\n",
              "          const element = document.querySelector('#df-4478bc22-7c31-43eb-9288-8efa12070fb1');\n",
              "          const dataTable =\n",
              "            await google.colab.kernel.invokeFunction('convertToInteractive',\n",
              "                                                     [key], {});\n",
              "          if (!dataTable) return;\n",
              "\n",
              "          const docLinkHtml = 'Like what you see? Visit the ' +\n",
              "            '<a target=\"_blank\" href=https://colab.research.google.com/notebooks/data_table.ipynb>data table notebook</a>'\n",
              "            + ' to learn more about interactive tables.';\n",
              "          element.innerHTML = '';\n",
              "          dataTable['output_type'] = 'display_data';\n",
              "          await google.colab.output.renderOutput(dataTable, element);\n",
              "          const docLink = document.createElement('div');\n",
              "          docLink.innerHTML = docLinkHtml;\n",
              "          element.appendChild(docLink);\n",
              "        }\n",
              "      </script>\n",
              "    </div>\n",
              "  </div>\n",
              "  "
            ]
          },
          "metadata": {},
          "execution_count": 5
        }
      ]
    },
    {
      "cell_type": "markdown",
      "source": [
        "Df_train dengan fitur 2"
      ],
      "metadata": {
        "id": "isfgGz66WG5P"
      }
    },
    {
      "cell_type": "code",
      "source": [
        "df_train2 = df_train[ab2_features]\n",
        "df_train2.head()"
      ],
      "metadata": {
        "colab": {
          "base_uri": "https://localhost:8080/",
          "height": 300
        },
        "id": "836DjPzPUNTi",
        "outputId": "afa48ca0-22ba-481d-8fba-51ebea4ec795"
      },
      "execution_count": null,
      "outputs": [
        {
          "output_type": "execute_result",
          "data": {
            "text/plain": [
              "   211612_s_at  219678_x_at  217653_x_at  211996_s_at  214594_x_at  \\\n",
              "0     2.535743     2.457776     2.052387     2.873506     2.285882   \n",
              "1     2.587822     2.408562     1.957657     2.779933     2.248177   \n",
              "2     2.529666     2.447706     2.059190     2.805088     2.255567   \n",
              "3     2.274739     2.537130     2.273920     2.952965     2.554384   \n",
              "4     2.551101     2.692597     2.321532     2.887101     2.752609   \n",
              "\n",
              "   218155_x_at  202936_s_at  207730_x_at  209703_x_at  216609_at  ...  \\\n",
              "0     2.518572     2.656989     2.833421     2.448979   1.982433  ...   \n",
              "1     2.508590     2.366057     2.871436     2.460372   2.139794  ...   \n",
              "2     2.658405     2.542071     2.871085     2.435954   2.113104  ...   \n",
              "3     2.736684     2.465318     2.988069     2.551221   2.204011  ...   \n",
              "4     2.752873     2.608392     3.098642     2.643402   2.483343  ...   \n",
              "\n",
              "   209457_at  201925_s_at  206584_at  217022_s_at  206835_at  202435_s_at  \\\n",
              "0   2.790067     3.088773   2.594274     3.326183   2.172511     1.817986   \n",
              "1   2.511882     2.883510   2.270037     2.215997   2.492978     2.619466   \n",
              "2   2.600055     2.859327   2.286755     2.428886   2.180694     2.300764   \n",
              "3   2.305844     2.200789   1.810791     3.321267   2.043120     1.905358   \n",
              "4   2.453478     2.780409   2.682590     3.044343   2.009510     1.929459   \n",
              "\n",
              "   205749_at  218541_s_at  217028_at  Label  \n",
              "0   2.344495     2.008092   2.582746      1  \n",
              "1   2.850630     1.712133   2.461546      1  \n",
              "2   2.624524     1.660744   2.621770      0  \n",
              "3   2.407280     1.582201   2.206625      0  \n",
              "4   2.500476     1.830177   2.974692      0  \n",
              "\n",
              "[5 rows x 201 columns]"
            ],
            "text/html": [
              "\n",
              "  <div id=\"df-febac261-674e-424e-b12e-7afd3c9ed6f4\">\n",
              "    <div class=\"colab-df-container\">\n",
              "      <div>\n",
              "<style scoped>\n",
              "    .dataframe tbody tr th:only-of-type {\n",
              "        vertical-align: middle;\n",
              "    }\n",
              "\n",
              "    .dataframe tbody tr th {\n",
              "        vertical-align: top;\n",
              "    }\n",
              "\n",
              "    .dataframe thead th {\n",
              "        text-align: right;\n",
              "    }\n",
              "</style>\n",
              "<table border=\"1\" class=\"dataframe\">\n",
              "  <thead>\n",
              "    <tr style=\"text-align: right;\">\n",
              "      <th></th>\n",
              "      <th>211612_s_at</th>\n",
              "      <th>219678_x_at</th>\n",
              "      <th>217653_x_at</th>\n",
              "      <th>211996_s_at</th>\n",
              "      <th>214594_x_at</th>\n",
              "      <th>218155_x_at</th>\n",
              "      <th>202936_s_at</th>\n",
              "      <th>207730_x_at</th>\n",
              "      <th>209703_x_at</th>\n",
              "      <th>216609_at</th>\n",
              "      <th>...</th>\n",
              "      <th>209457_at</th>\n",
              "      <th>201925_s_at</th>\n",
              "      <th>206584_at</th>\n",
              "      <th>217022_s_at</th>\n",
              "      <th>206835_at</th>\n",
              "      <th>202435_s_at</th>\n",
              "      <th>205749_at</th>\n",
              "      <th>218541_s_at</th>\n",
              "      <th>217028_at</th>\n",
              "      <th>Label</th>\n",
              "    </tr>\n",
              "  </thead>\n",
              "  <tbody>\n",
              "    <tr>\n",
              "      <th>0</th>\n",
              "      <td>2.535743</td>\n",
              "      <td>2.457776</td>\n",
              "      <td>2.052387</td>\n",
              "      <td>2.873506</td>\n",
              "      <td>2.285882</td>\n",
              "      <td>2.518572</td>\n",
              "      <td>2.656989</td>\n",
              "      <td>2.833421</td>\n",
              "      <td>2.448979</td>\n",
              "      <td>1.982433</td>\n",
              "      <td>...</td>\n",
              "      <td>2.790067</td>\n",
              "      <td>3.088773</td>\n",
              "      <td>2.594274</td>\n",
              "      <td>3.326183</td>\n",
              "      <td>2.172511</td>\n",
              "      <td>1.817986</td>\n",
              "      <td>2.344495</td>\n",
              "      <td>2.008092</td>\n",
              "      <td>2.582746</td>\n",
              "      <td>1</td>\n",
              "    </tr>\n",
              "    <tr>\n",
              "      <th>1</th>\n",
              "      <td>2.587822</td>\n",
              "      <td>2.408562</td>\n",
              "      <td>1.957657</td>\n",
              "      <td>2.779933</td>\n",
              "      <td>2.248177</td>\n",
              "      <td>2.508590</td>\n",
              "      <td>2.366057</td>\n",
              "      <td>2.871436</td>\n",
              "      <td>2.460372</td>\n",
              "      <td>2.139794</td>\n",
              "      <td>...</td>\n",
              "      <td>2.511882</td>\n",
              "      <td>2.883510</td>\n",
              "      <td>2.270037</td>\n",
              "      <td>2.215997</td>\n",
              "      <td>2.492978</td>\n",
              "      <td>2.619466</td>\n",
              "      <td>2.850630</td>\n",
              "      <td>1.712133</td>\n",
              "      <td>2.461546</td>\n",
              "      <td>1</td>\n",
              "    </tr>\n",
              "    <tr>\n",
              "      <th>2</th>\n",
              "      <td>2.529666</td>\n",
              "      <td>2.447706</td>\n",
              "      <td>2.059190</td>\n",
              "      <td>2.805088</td>\n",
              "      <td>2.255567</td>\n",
              "      <td>2.658405</td>\n",
              "      <td>2.542071</td>\n",
              "      <td>2.871085</td>\n",
              "      <td>2.435954</td>\n",
              "      <td>2.113104</td>\n",
              "      <td>...</td>\n",
              "      <td>2.600055</td>\n",
              "      <td>2.859327</td>\n",
              "      <td>2.286755</td>\n",
              "      <td>2.428886</td>\n",
              "      <td>2.180694</td>\n",
              "      <td>2.300764</td>\n",
              "      <td>2.624524</td>\n",
              "      <td>1.660744</td>\n",
              "      <td>2.621770</td>\n",
              "      <td>0</td>\n",
              "    </tr>\n",
              "    <tr>\n",
              "      <th>3</th>\n",
              "      <td>2.274739</td>\n",
              "      <td>2.537130</td>\n",
              "      <td>2.273920</td>\n",
              "      <td>2.952965</td>\n",
              "      <td>2.554384</td>\n",
              "      <td>2.736684</td>\n",
              "      <td>2.465318</td>\n",
              "      <td>2.988069</td>\n",
              "      <td>2.551221</td>\n",
              "      <td>2.204011</td>\n",
              "      <td>...</td>\n",
              "      <td>2.305844</td>\n",
              "      <td>2.200789</td>\n",
              "      <td>1.810791</td>\n",
              "      <td>3.321267</td>\n",
              "      <td>2.043120</td>\n",
              "      <td>1.905358</td>\n",
              "      <td>2.407280</td>\n",
              "      <td>1.582201</td>\n",
              "      <td>2.206625</td>\n",
              "      <td>0</td>\n",
              "    </tr>\n",
              "    <tr>\n",
              "      <th>4</th>\n",
              "      <td>2.551101</td>\n",
              "      <td>2.692597</td>\n",
              "      <td>2.321532</td>\n",
              "      <td>2.887101</td>\n",
              "      <td>2.752609</td>\n",
              "      <td>2.752873</td>\n",
              "      <td>2.608392</td>\n",
              "      <td>3.098642</td>\n",
              "      <td>2.643402</td>\n",
              "      <td>2.483343</td>\n",
              "      <td>...</td>\n",
              "      <td>2.453478</td>\n",
              "      <td>2.780409</td>\n",
              "      <td>2.682590</td>\n",
              "      <td>3.044343</td>\n",
              "      <td>2.009510</td>\n",
              "      <td>1.929459</td>\n",
              "      <td>2.500476</td>\n",
              "      <td>1.830177</td>\n",
              "      <td>2.974692</td>\n",
              "      <td>0</td>\n",
              "    </tr>\n",
              "  </tbody>\n",
              "</table>\n",
              "<p>5 rows × 201 columns</p>\n",
              "</div>\n",
              "      <button class=\"colab-df-convert\" onclick=\"convertToInteractive('df-febac261-674e-424e-b12e-7afd3c9ed6f4')\"\n",
              "              title=\"Convert this dataframe to an interactive table.\"\n",
              "              style=\"display:none;\">\n",
              "        \n",
              "  <svg xmlns=\"http://www.w3.org/2000/svg\" height=\"24px\"viewBox=\"0 0 24 24\"\n",
              "       width=\"24px\">\n",
              "    <path d=\"M0 0h24v24H0V0z\" fill=\"none\"/>\n",
              "    <path d=\"M18.56 5.44l.94 2.06.94-2.06 2.06-.94-2.06-.94-.94-2.06-.94 2.06-2.06.94zm-11 1L8.5 8.5l.94-2.06 2.06-.94-2.06-.94L8.5 2.5l-.94 2.06-2.06.94zm10 10l.94 2.06.94-2.06 2.06-.94-2.06-.94-.94-2.06-.94 2.06-2.06.94z\"/><path d=\"M17.41 7.96l-1.37-1.37c-.4-.4-.92-.59-1.43-.59-.52 0-1.04.2-1.43.59L10.3 9.45l-7.72 7.72c-.78.78-.78 2.05 0 2.83L4 21.41c.39.39.9.59 1.41.59.51 0 1.02-.2 1.41-.59l7.78-7.78 2.81-2.81c.8-.78.8-2.07 0-2.86zM5.41 20L4 18.59l7.72-7.72 1.47 1.35L5.41 20z\"/>\n",
              "  </svg>\n",
              "      </button>\n",
              "      \n",
              "  <style>\n",
              "    .colab-df-container {\n",
              "      display:flex;\n",
              "      flex-wrap:wrap;\n",
              "      gap: 12px;\n",
              "    }\n",
              "\n",
              "    .colab-df-convert {\n",
              "      background-color: #E8F0FE;\n",
              "      border: none;\n",
              "      border-radius: 50%;\n",
              "      cursor: pointer;\n",
              "      display: none;\n",
              "      fill: #1967D2;\n",
              "      height: 32px;\n",
              "      padding: 0 0 0 0;\n",
              "      width: 32px;\n",
              "    }\n",
              "\n",
              "    .colab-df-convert:hover {\n",
              "      background-color: #E2EBFA;\n",
              "      box-shadow: 0px 1px 2px rgba(60, 64, 67, 0.3), 0px 1px 3px 1px rgba(60, 64, 67, 0.15);\n",
              "      fill: #174EA6;\n",
              "    }\n",
              "\n",
              "    [theme=dark] .colab-df-convert {\n",
              "      background-color: #3B4455;\n",
              "      fill: #D2E3FC;\n",
              "    }\n",
              "\n",
              "    [theme=dark] .colab-df-convert:hover {\n",
              "      background-color: #434B5C;\n",
              "      box-shadow: 0px 1px 3px 1px rgba(0, 0, 0, 0.15);\n",
              "      filter: drop-shadow(0px 1px 2px rgba(0, 0, 0, 0.3));\n",
              "      fill: #FFFFFF;\n",
              "    }\n",
              "  </style>\n",
              "\n",
              "      <script>\n",
              "        const buttonEl =\n",
              "          document.querySelector('#df-febac261-674e-424e-b12e-7afd3c9ed6f4 button.colab-df-convert');\n",
              "        buttonEl.style.display =\n",
              "          google.colab.kernel.accessAllowed ? 'block' : 'none';\n",
              "\n",
              "        async function convertToInteractive(key) {\n",
              "          const element = document.querySelector('#df-febac261-674e-424e-b12e-7afd3c9ed6f4');\n",
              "          const dataTable =\n",
              "            await google.colab.kernel.invokeFunction('convertToInteractive',\n",
              "                                                     [key], {});\n",
              "          if (!dataTable) return;\n",
              "\n",
              "          const docLinkHtml = 'Like what you see? Visit the ' +\n",
              "            '<a target=\"_blank\" href=https://colab.research.google.com/notebooks/data_table.ipynb>data table notebook</a>'\n",
              "            + ' to learn more about interactive tables.';\n",
              "          element.innerHTML = '';\n",
              "          dataTable['output_type'] = 'display_data';\n",
              "          await google.colab.output.renderOutput(dataTable, element);\n",
              "          const docLink = document.createElement('div');\n",
              "          docLink.innerHTML = docLinkHtml;\n",
              "          element.appendChild(docLink);\n",
              "        }\n",
              "      </script>\n",
              "    </div>\n",
              "  </div>\n",
              "  "
            ]
          },
          "metadata": {},
          "execution_count": 6
        }
      ]
    },
    {
      "cell_type": "markdown",
      "source": [
        "Df_train dengan fitur 3"
      ],
      "metadata": {
        "id": "mCRkFEFdWIft"
      }
    },
    {
      "cell_type": "code",
      "source": [
        "df_train3 = df_train[ab3_features]\n",
        "df_train3.head()"
      ],
      "metadata": {
        "colab": {
          "base_uri": "https://localhost:8080/",
          "height": 300
        },
        "id": "EgXqkGfMUOMZ",
        "outputId": "5027d179-2caa-43a3-edf7-6b3e84f847cf"
      },
      "execution_count": null,
      "outputs": [
        {
          "output_type": "execute_result",
          "data": {
            "text/plain": [
              "   211612_s_at  219678_x_at  217653_x_at  211996_s_at  214594_x_at  \\\n",
              "0     2.535743     2.457776     2.052387     2.873506     2.285882   \n",
              "1     2.587822     2.408562     1.957657     2.779933     2.248177   \n",
              "2     2.529666     2.447706     2.059190     2.805088     2.255567   \n",
              "3     2.274739     2.537130     2.273920     2.952965     2.554384   \n",
              "4     2.551101     2.692597     2.321532     2.887101     2.752609   \n",
              "\n",
              "   218155_x_at  202936_s_at  207730_x_at  209703_x_at  216609_at  ...  \\\n",
              "0     2.518572     2.656989     2.833421     2.448979   1.982433  ...   \n",
              "1     2.508590     2.366057     2.871436     2.460372   2.139794  ...   \n",
              "2     2.658405     2.542071     2.871085     2.435954   2.113104  ...   \n",
              "3     2.736684     2.465318     2.988069     2.551221   2.204011  ...   \n",
              "4     2.752873     2.608392     3.098642     2.643402   2.483343  ...   \n",
              "\n",
              "   201123_s_at  219607_s_at  217028_at  220798_x_at  203290_at  202173_s_at  \\\n",
              "0     2.825503     2.081309   2.582746     2.102570   2.234970     2.154980   \n",
              "1     2.900031     1.708599   2.461546     2.342672   2.157700     2.231532   \n",
              "2     2.127788     1.750120   2.621770     2.311563   2.291107     2.242538   \n",
              "3     2.404252     1.644098   2.206625     2.560912   2.367685     2.062988   \n",
              "4     2.519814     2.204075   2.974692     2.712793   2.486182     2.249837   \n",
              "\n",
              "   216841_s_at  206149_at  205681_at  Label  \n",
              "0     2.341958   3.059717   2.352974      1  \n",
              "1     2.303909   2.702865   2.804416      1  \n",
              "2     2.400200   2.927471   2.320344      0  \n",
              "3     1.886354   2.842158   1.897309      0  \n",
              "4     2.190492   2.959261   2.686662      0  \n",
              "\n",
              "[5 rows x 701 columns]"
            ],
            "text/html": [
              "\n",
              "  <div id=\"df-e6454799-7eba-48f5-b72b-824514d79061\">\n",
              "    <div class=\"colab-df-container\">\n",
              "      <div>\n",
              "<style scoped>\n",
              "    .dataframe tbody tr th:only-of-type {\n",
              "        vertical-align: middle;\n",
              "    }\n",
              "\n",
              "    .dataframe tbody tr th {\n",
              "        vertical-align: top;\n",
              "    }\n",
              "\n",
              "    .dataframe thead th {\n",
              "        text-align: right;\n",
              "    }\n",
              "</style>\n",
              "<table border=\"1\" class=\"dataframe\">\n",
              "  <thead>\n",
              "    <tr style=\"text-align: right;\">\n",
              "      <th></th>\n",
              "      <th>211612_s_at</th>\n",
              "      <th>219678_x_at</th>\n",
              "      <th>217653_x_at</th>\n",
              "      <th>211996_s_at</th>\n",
              "      <th>214594_x_at</th>\n",
              "      <th>218155_x_at</th>\n",
              "      <th>202936_s_at</th>\n",
              "      <th>207730_x_at</th>\n",
              "      <th>209703_x_at</th>\n",
              "      <th>216609_at</th>\n",
              "      <th>...</th>\n",
              "      <th>201123_s_at</th>\n",
              "      <th>219607_s_at</th>\n",
              "      <th>217028_at</th>\n",
              "      <th>220798_x_at</th>\n",
              "      <th>203290_at</th>\n",
              "      <th>202173_s_at</th>\n",
              "      <th>216841_s_at</th>\n",
              "      <th>206149_at</th>\n",
              "      <th>205681_at</th>\n",
              "      <th>Label</th>\n",
              "    </tr>\n",
              "  </thead>\n",
              "  <tbody>\n",
              "    <tr>\n",
              "      <th>0</th>\n",
              "      <td>2.535743</td>\n",
              "      <td>2.457776</td>\n",
              "      <td>2.052387</td>\n",
              "      <td>2.873506</td>\n",
              "      <td>2.285882</td>\n",
              "      <td>2.518572</td>\n",
              "      <td>2.656989</td>\n",
              "      <td>2.833421</td>\n",
              "      <td>2.448979</td>\n",
              "      <td>1.982433</td>\n",
              "      <td>...</td>\n",
              "      <td>2.825503</td>\n",
              "      <td>2.081309</td>\n",
              "      <td>2.582746</td>\n",
              "      <td>2.102570</td>\n",
              "      <td>2.234970</td>\n",
              "      <td>2.154980</td>\n",
              "      <td>2.341958</td>\n",
              "      <td>3.059717</td>\n",
              "      <td>2.352974</td>\n",
              "      <td>1</td>\n",
              "    </tr>\n",
              "    <tr>\n",
              "      <th>1</th>\n",
              "      <td>2.587822</td>\n",
              "      <td>2.408562</td>\n",
              "      <td>1.957657</td>\n",
              "      <td>2.779933</td>\n",
              "      <td>2.248177</td>\n",
              "      <td>2.508590</td>\n",
              "      <td>2.366057</td>\n",
              "      <td>2.871436</td>\n",
              "      <td>2.460372</td>\n",
              "      <td>2.139794</td>\n",
              "      <td>...</td>\n",
              "      <td>2.900031</td>\n",
              "      <td>1.708599</td>\n",
              "      <td>2.461546</td>\n",
              "      <td>2.342672</td>\n",
              "      <td>2.157700</td>\n",
              "      <td>2.231532</td>\n",
              "      <td>2.303909</td>\n",
              "      <td>2.702865</td>\n",
              "      <td>2.804416</td>\n",
              "      <td>1</td>\n",
              "    </tr>\n",
              "    <tr>\n",
              "      <th>2</th>\n",
              "      <td>2.529666</td>\n",
              "      <td>2.447706</td>\n",
              "      <td>2.059190</td>\n",
              "      <td>2.805088</td>\n",
              "      <td>2.255567</td>\n",
              "      <td>2.658405</td>\n",
              "      <td>2.542071</td>\n",
              "      <td>2.871085</td>\n",
              "      <td>2.435954</td>\n",
              "      <td>2.113104</td>\n",
              "      <td>...</td>\n",
              "      <td>2.127788</td>\n",
              "      <td>1.750120</td>\n",
              "      <td>2.621770</td>\n",
              "      <td>2.311563</td>\n",
              "      <td>2.291107</td>\n",
              "      <td>2.242538</td>\n",
              "      <td>2.400200</td>\n",
              "      <td>2.927471</td>\n",
              "      <td>2.320344</td>\n",
              "      <td>0</td>\n",
              "    </tr>\n",
              "    <tr>\n",
              "      <th>3</th>\n",
              "      <td>2.274739</td>\n",
              "      <td>2.537130</td>\n",
              "      <td>2.273920</td>\n",
              "      <td>2.952965</td>\n",
              "      <td>2.554384</td>\n",
              "      <td>2.736684</td>\n",
              "      <td>2.465318</td>\n",
              "      <td>2.988069</td>\n",
              "      <td>2.551221</td>\n",
              "      <td>2.204011</td>\n",
              "      <td>...</td>\n",
              "      <td>2.404252</td>\n",
              "      <td>1.644098</td>\n",
              "      <td>2.206625</td>\n",
              "      <td>2.560912</td>\n",
              "      <td>2.367685</td>\n",
              "      <td>2.062988</td>\n",
              "      <td>1.886354</td>\n",
              "      <td>2.842158</td>\n",
              "      <td>1.897309</td>\n",
              "      <td>0</td>\n",
              "    </tr>\n",
              "    <tr>\n",
              "      <th>4</th>\n",
              "      <td>2.551101</td>\n",
              "      <td>2.692597</td>\n",
              "      <td>2.321532</td>\n",
              "      <td>2.887101</td>\n",
              "      <td>2.752609</td>\n",
              "      <td>2.752873</td>\n",
              "      <td>2.608392</td>\n",
              "      <td>3.098642</td>\n",
              "      <td>2.643402</td>\n",
              "      <td>2.483343</td>\n",
              "      <td>...</td>\n",
              "      <td>2.519814</td>\n",
              "      <td>2.204075</td>\n",
              "      <td>2.974692</td>\n",
              "      <td>2.712793</td>\n",
              "      <td>2.486182</td>\n",
              "      <td>2.249837</td>\n",
              "      <td>2.190492</td>\n",
              "      <td>2.959261</td>\n",
              "      <td>2.686662</td>\n",
              "      <td>0</td>\n",
              "    </tr>\n",
              "  </tbody>\n",
              "</table>\n",
              "<p>5 rows × 701 columns</p>\n",
              "</div>\n",
              "      <button class=\"colab-df-convert\" onclick=\"convertToInteractive('df-e6454799-7eba-48f5-b72b-824514d79061')\"\n",
              "              title=\"Convert this dataframe to an interactive table.\"\n",
              "              style=\"display:none;\">\n",
              "        \n",
              "  <svg xmlns=\"http://www.w3.org/2000/svg\" height=\"24px\"viewBox=\"0 0 24 24\"\n",
              "       width=\"24px\">\n",
              "    <path d=\"M0 0h24v24H0V0z\" fill=\"none\"/>\n",
              "    <path d=\"M18.56 5.44l.94 2.06.94-2.06 2.06-.94-2.06-.94-.94-2.06-.94 2.06-2.06.94zm-11 1L8.5 8.5l.94-2.06 2.06-.94-2.06-.94L8.5 2.5l-.94 2.06-2.06.94zm10 10l.94 2.06.94-2.06 2.06-.94-2.06-.94-.94-2.06-.94 2.06-2.06.94z\"/><path d=\"M17.41 7.96l-1.37-1.37c-.4-.4-.92-.59-1.43-.59-.52 0-1.04.2-1.43.59L10.3 9.45l-7.72 7.72c-.78.78-.78 2.05 0 2.83L4 21.41c.39.39.9.59 1.41.59.51 0 1.02-.2 1.41-.59l7.78-7.78 2.81-2.81c.8-.78.8-2.07 0-2.86zM5.41 20L4 18.59l7.72-7.72 1.47 1.35L5.41 20z\"/>\n",
              "  </svg>\n",
              "      </button>\n",
              "      \n",
              "  <style>\n",
              "    .colab-df-container {\n",
              "      display:flex;\n",
              "      flex-wrap:wrap;\n",
              "      gap: 12px;\n",
              "    }\n",
              "\n",
              "    .colab-df-convert {\n",
              "      background-color: #E8F0FE;\n",
              "      border: none;\n",
              "      border-radius: 50%;\n",
              "      cursor: pointer;\n",
              "      display: none;\n",
              "      fill: #1967D2;\n",
              "      height: 32px;\n",
              "      padding: 0 0 0 0;\n",
              "      width: 32px;\n",
              "    }\n",
              "\n",
              "    .colab-df-convert:hover {\n",
              "      background-color: #E2EBFA;\n",
              "      box-shadow: 0px 1px 2px rgba(60, 64, 67, 0.3), 0px 1px 3px 1px rgba(60, 64, 67, 0.15);\n",
              "      fill: #174EA6;\n",
              "    }\n",
              "\n",
              "    [theme=dark] .colab-df-convert {\n",
              "      background-color: #3B4455;\n",
              "      fill: #D2E3FC;\n",
              "    }\n",
              "\n",
              "    [theme=dark] .colab-df-convert:hover {\n",
              "      background-color: #434B5C;\n",
              "      box-shadow: 0px 1px 3px 1px rgba(0, 0, 0, 0.15);\n",
              "      filter: drop-shadow(0px 1px 2px rgba(0, 0, 0, 0.3));\n",
              "      fill: #FFFFFF;\n",
              "    }\n",
              "  </style>\n",
              "\n",
              "      <script>\n",
              "        const buttonEl =\n",
              "          document.querySelector('#df-e6454799-7eba-48f5-b72b-824514d79061 button.colab-df-convert');\n",
              "        buttonEl.style.display =\n",
              "          google.colab.kernel.accessAllowed ? 'block' : 'none';\n",
              "\n",
              "        async function convertToInteractive(key) {\n",
              "          const element = document.querySelector('#df-e6454799-7eba-48f5-b72b-824514d79061');\n",
              "          const dataTable =\n",
              "            await google.colab.kernel.invokeFunction('convertToInteractive',\n",
              "                                                     [key], {});\n",
              "          if (!dataTable) return;\n",
              "\n",
              "          const docLinkHtml = 'Like what you see? Visit the ' +\n",
              "            '<a target=\"_blank\" href=https://colab.research.google.com/notebooks/data_table.ipynb>data table notebook</a>'\n",
              "            + ' to learn more about interactive tables.';\n",
              "          element.innerHTML = '';\n",
              "          dataTable['output_type'] = 'display_data';\n",
              "          await google.colab.output.renderOutput(dataTable, element);\n",
              "          const docLink = document.createElement('div');\n",
              "          docLink.innerHTML = docLinkHtml;\n",
              "          element.appendChild(docLink);\n",
              "        }\n",
              "      </script>\n",
              "    </div>\n",
              "  </div>\n",
              "  "
            ]
          },
          "metadata": {},
          "execution_count": 7
        }
      ]
    },
    {
      "cell_type": "markdown",
      "source": [
        "## X_train dan y_train"
      ],
      "metadata": {
        "id": "nhuiaiHXTAdw"
      }
    },
    {
      "cell_type": "code",
      "source": [
        "X1_train = df_train1.iloc[:,:-1]\n",
        "X1_train.head()"
      ],
      "metadata": {
        "colab": {
          "base_uri": "https://localhost:8080/"
        },
        "id": "s6r31lIXuzKA",
        "outputId": "62d2acfe-3451-45ed-dca4-f995f0063639"
      },
      "execution_count": null,
      "outputs": [
        {
          "output_type": "execute_result",
          "data": {
            "text/plain": [
              "   211612_s_at  217653_x_at  211996_s_at  214594_x_at  218155_x_at  \\\n",
              "0     2.535743     2.052387     2.873506     2.285882     2.518572   \n",
              "1     2.587822     1.957657     2.779933     2.248177     2.508590   \n",
              "2     2.529666     2.059190     2.805088     2.255567     2.658405   \n",
              "3     2.274739     2.273920     2.952965     2.554384     2.736684   \n",
              "4     2.551101     2.321532     2.887101     2.752609     2.752873   \n",
              "\n",
              "   202936_s_at  216609_at  207953_at  217679_x_at  210168_at  ...  \\\n",
              "0     2.656989   1.982433   2.324655     2.431334   2.458624  ...   \n",
              "1     2.366057   2.139794   2.280555     2.374257   2.461287  ...   \n",
              "2     2.542071   2.113104   2.323435     2.513285   2.488348  ...   \n",
              "3     2.465318   2.204011   2.573738     2.646684   2.458046  ...   \n",
              "4     2.608392   2.483343   2.565807     2.924184   2.526407  ...   \n",
              "\n",
              "   211506_s_at  204919_at  202436_s_at  202437_s_at  209457_at  206584_at  \\\n",
              "0     2.755095   2.723190     2.481315     1.911761   2.790067   2.594274   \n",
              "1     2.673444   2.761961     3.235303     3.104195   2.511882   2.270037   \n",
              "2     2.203789   2.794787     3.018061     2.694711   2.600055   2.286755   \n",
              "3     1.935497   2.436898     2.478467     1.743530   2.305844   1.810791   \n",
              "4     2.599627   2.601354     2.681277     2.099440   2.453478   2.682590   \n",
              "\n",
              "   217022_s_at  206835_at  202435_s_at  205749_at  \n",
              "0     3.326183   2.172511     1.817986   2.344495  \n",
              "1     2.215997   2.492978     2.619466   2.850630  \n",
              "2     2.428886   2.180694     2.300764   2.624524  \n",
              "3     3.321267   2.043120     1.905358   2.407280  \n",
              "4     3.044343   2.009510     1.929459   2.500476  \n",
              "\n",
              "[5 rows x 100 columns]"
            ],
            "text/html": [
              "\n",
              "  <div id=\"df-815730aa-0296-4330-8aab-9f5e7e4723d0\">\n",
              "    <div class=\"colab-df-container\">\n",
              "      <div>\n",
              "<style scoped>\n",
              "    .dataframe tbody tr th:only-of-type {\n",
              "        vertical-align: middle;\n",
              "    }\n",
              "\n",
              "    .dataframe tbody tr th {\n",
              "        vertical-align: top;\n",
              "    }\n",
              "\n",
              "    .dataframe thead th {\n",
              "        text-align: right;\n",
              "    }\n",
              "</style>\n",
              "<table border=\"1\" class=\"dataframe\">\n",
              "  <thead>\n",
              "    <tr style=\"text-align: right;\">\n",
              "      <th></th>\n",
              "      <th>211612_s_at</th>\n",
              "      <th>217653_x_at</th>\n",
              "      <th>211996_s_at</th>\n",
              "      <th>214594_x_at</th>\n",
              "      <th>218155_x_at</th>\n",
              "      <th>202936_s_at</th>\n",
              "      <th>216609_at</th>\n",
              "      <th>207953_at</th>\n",
              "      <th>217679_x_at</th>\n",
              "      <th>210168_at</th>\n",
              "      <th>...</th>\n",
              "      <th>211506_s_at</th>\n",
              "      <th>204919_at</th>\n",
              "      <th>202436_s_at</th>\n",
              "      <th>202437_s_at</th>\n",
              "      <th>209457_at</th>\n",
              "      <th>206584_at</th>\n",
              "      <th>217022_s_at</th>\n",
              "      <th>206835_at</th>\n",
              "      <th>202435_s_at</th>\n",
              "      <th>205749_at</th>\n",
              "    </tr>\n",
              "  </thead>\n",
              "  <tbody>\n",
              "    <tr>\n",
              "      <th>0</th>\n",
              "      <td>2.535743</td>\n",
              "      <td>2.052387</td>\n",
              "      <td>2.873506</td>\n",
              "      <td>2.285882</td>\n",
              "      <td>2.518572</td>\n",
              "      <td>2.656989</td>\n",
              "      <td>1.982433</td>\n",
              "      <td>2.324655</td>\n",
              "      <td>2.431334</td>\n",
              "      <td>2.458624</td>\n",
              "      <td>...</td>\n",
              "      <td>2.755095</td>\n",
              "      <td>2.723190</td>\n",
              "      <td>2.481315</td>\n",
              "      <td>1.911761</td>\n",
              "      <td>2.790067</td>\n",
              "      <td>2.594274</td>\n",
              "      <td>3.326183</td>\n",
              "      <td>2.172511</td>\n",
              "      <td>1.817986</td>\n",
              "      <td>2.344495</td>\n",
              "    </tr>\n",
              "    <tr>\n",
              "      <th>1</th>\n",
              "      <td>2.587822</td>\n",
              "      <td>1.957657</td>\n",
              "      <td>2.779933</td>\n",
              "      <td>2.248177</td>\n",
              "      <td>2.508590</td>\n",
              "      <td>2.366057</td>\n",
              "      <td>2.139794</td>\n",
              "      <td>2.280555</td>\n",
              "      <td>2.374257</td>\n",
              "      <td>2.461287</td>\n",
              "      <td>...</td>\n",
              "      <td>2.673444</td>\n",
              "      <td>2.761961</td>\n",
              "      <td>3.235303</td>\n",
              "      <td>3.104195</td>\n",
              "      <td>2.511882</td>\n",
              "      <td>2.270037</td>\n",
              "      <td>2.215997</td>\n",
              "      <td>2.492978</td>\n",
              "      <td>2.619466</td>\n",
              "      <td>2.850630</td>\n",
              "    </tr>\n",
              "    <tr>\n",
              "      <th>2</th>\n",
              "      <td>2.529666</td>\n",
              "      <td>2.059190</td>\n",
              "      <td>2.805088</td>\n",
              "      <td>2.255567</td>\n",
              "      <td>2.658405</td>\n",
              "      <td>2.542071</td>\n",
              "      <td>2.113104</td>\n",
              "      <td>2.323435</td>\n",
              "      <td>2.513285</td>\n",
              "      <td>2.488348</td>\n",
              "      <td>...</td>\n",
              "      <td>2.203789</td>\n",
              "      <td>2.794787</td>\n",
              "      <td>3.018061</td>\n",
              "      <td>2.694711</td>\n",
              "      <td>2.600055</td>\n",
              "      <td>2.286755</td>\n",
              "      <td>2.428886</td>\n",
              "      <td>2.180694</td>\n",
              "      <td>2.300764</td>\n",
              "      <td>2.624524</td>\n",
              "    </tr>\n",
              "    <tr>\n",
              "      <th>3</th>\n",
              "      <td>2.274739</td>\n",
              "      <td>2.273920</td>\n",
              "      <td>2.952965</td>\n",
              "      <td>2.554384</td>\n",
              "      <td>2.736684</td>\n",
              "      <td>2.465318</td>\n",
              "      <td>2.204011</td>\n",
              "      <td>2.573738</td>\n",
              "      <td>2.646684</td>\n",
              "      <td>2.458046</td>\n",
              "      <td>...</td>\n",
              "      <td>1.935497</td>\n",
              "      <td>2.436898</td>\n",
              "      <td>2.478467</td>\n",
              "      <td>1.743530</td>\n",
              "      <td>2.305844</td>\n",
              "      <td>1.810791</td>\n",
              "      <td>3.321267</td>\n",
              "      <td>2.043120</td>\n",
              "      <td>1.905358</td>\n",
              "      <td>2.407280</td>\n",
              "    </tr>\n",
              "    <tr>\n",
              "      <th>4</th>\n",
              "      <td>2.551101</td>\n",
              "      <td>2.321532</td>\n",
              "      <td>2.887101</td>\n",
              "      <td>2.752609</td>\n",
              "      <td>2.752873</td>\n",
              "      <td>2.608392</td>\n",
              "      <td>2.483343</td>\n",
              "      <td>2.565807</td>\n",
              "      <td>2.924184</td>\n",
              "      <td>2.526407</td>\n",
              "      <td>...</td>\n",
              "      <td>2.599627</td>\n",
              "      <td>2.601354</td>\n",
              "      <td>2.681277</td>\n",
              "      <td>2.099440</td>\n",
              "      <td>2.453478</td>\n",
              "      <td>2.682590</td>\n",
              "      <td>3.044343</td>\n",
              "      <td>2.009510</td>\n",
              "      <td>1.929459</td>\n",
              "      <td>2.500476</td>\n",
              "    </tr>\n",
              "  </tbody>\n",
              "</table>\n",
              "<p>5 rows × 100 columns</p>\n",
              "</div>\n",
              "      <button class=\"colab-df-convert\" onclick=\"convertToInteractive('df-815730aa-0296-4330-8aab-9f5e7e4723d0')\"\n",
              "              title=\"Convert this dataframe to an interactive table.\"\n",
              "              style=\"display:none;\">\n",
              "        \n",
              "  <svg xmlns=\"http://www.w3.org/2000/svg\" height=\"24px\"viewBox=\"0 0 24 24\"\n",
              "       width=\"24px\">\n",
              "    <path d=\"M0 0h24v24H0V0z\" fill=\"none\"/>\n",
              "    <path d=\"M18.56 5.44l.94 2.06.94-2.06 2.06-.94-2.06-.94-.94-2.06-.94 2.06-2.06.94zm-11 1L8.5 8.5l.94-2.06 2.06-.94-2.06-.94L8.5 2.5l-.94 2.06-2.06.94zm10 10l.94 2.06.94-2.06 2.06-.94-2.06-.94-.94-2.06-.94 2.06-2.06.94z\"/><path d=\"M17.41 7.96l-1.37-1.37c-.4-.4-.92-.59-1.43-.59-.52 0-1.04.2-1.43.59L10.3 9.45l-7.72 7.72c-.78.78-.78 2.05 0 2.83L4 21.41c.39.39.9.59 1.41.59.51 0 1.02-.2 1.41-.59l7.78-7.78 2.81-2.81c.8-.78.8-2.07 0-2.86zM5.41 20L4 18.59l7.72-7.72 1.47 1.35L5.41 20z\"/>\n",
              "  </svg>\n",
              "      </button>\n",
              "      \n",
              "  <style>\n",
              "    .colab-df-container {\n",
              "      display:flex;\n",
              "      flex-wrap:wrap;\n",
              "      gap: 12px;\n",
              "    }\n",
              "\n",
              "    .colab-df-convert {\n",
              "      background-color: #E8F0FE;\n",
              "      border: none;\n",
              "      border-radius: 50%;\n",
              "      cursor: pointer;\n",
              "      display: none;\n",
              "      fill: #1967D2;\n",
              "      height: 32px;\n",
              "      padding: 0 0 0 0;\n",
              "      width: 32px;\n",
              "    }\n",
              "\n",
              "    .colab-df-convert:hover {\n",
              "      background-color: #E2EBFA;\n",
              "      box-shadow: 0px 1px 2px rgba(60, 64, 67, 0.3), 0px 1px 3px 1px rgba(60, 64, 67, 0.15);\n",
              "      fill: #174EA6;\n",
              "    }\n",
              "\n",
              "    [theme=dark] .colab-df-convert {\n",
              "      background-color: #3B4455;\n",
              "      fill: #D2E3FC;\n",
              "    }\n",
              "\n",
              "    [theme=dark] .colab-df-convert:hover {\n",
              "      background-color: #434B5C;\n",
              "      box-shadow: 0px 1px 3px 1px rgba(0, 0, 0, 0.15);\n",
              "      filter: drop-shadow(0px 1px 2px rgba(0, 0, 0, 0.3));\n",
              "      fill: #FFFFFF;\n",
              "    }\n",
              "  </style>\n",
              "\n",
              "      <script>\n",
              "        const buttonEl =\n",
              "          document.querySelector('#df-815730aa-0296-4330-8aab-9f5e7e4723d0 button.colab-df-convert');\n",
              "        buttonEl.style.display =\n",
              "          google.colab.kernel.accessAllowed ? 'block' : 'none';\n",
              "\n",
              "        async function convertToInteractive(key) {\n",
              "          const element = document.querySelector('#df-815730aa-0296-4330-8aab-9f5e7e4723d0');\n",
              "          const dataTable =\n",
              "            await google.colab.kernel.invokeFunction('convertToInteractive',\n",
              "                                                     [key], {});\n",
              "          if (!dataTable) return;\n",
              "\n",
              "          const docLinkHtml = 'Like what you see? Visit the ' +\n",
              "            '<a target=\"_blank\" href=https://colab.research.google.com/notebooks/data_table.ipynb>data table notebook</a>'\n",
              "            + ' to learn more about interactive tables.';\n",
              "          element.innerHTML = '';\n",
              "          dataTable['output_type'] = 'display_data';\n",
              "          await google.colab.output.renderOutput(dataTable, element);\n",
              "          const docLink = document.createElement('div');\n",
              "          docLink.innerHTML = docLinkHtml;\n",
              "          element.appendChild(docLink);\n",
              "        }\n",
              "      </script>\n",
              "    </div>\n",
              "  </div>\n",
              "  "
            ]
          },
          "metadata": {},
          "execution_count": 8
        }
      ]
    },
    {
      "cell_type": "code",
      "source": [
        "y1_train = df_train1.iloc[:,-1]\n",
        "y1_train.head()"
      ],
      "metadata": {
        "colab": {
          "base_uri": "https://localhost:8080/"
        },
        "id": "137hMO2TvTum",
        "outputId": "dcb1a7ae-9de8-49f4-c555-7a488ae7d409"
      },
      "execution_count": null,
      "outputs": [
        {
          "output_type": "execute_result",
          "data": {
            "text/plain": [
              "0    1\n",
              "1    1\n",
              "2    0\n",
              "3    0\n",
              "4    0\n",
              "Name: Label, dtype: int64"
            ]
          },
          "metadata": {},
          "execution_count": 9
        }
      ]
    },
    {
      "cell_type": "code",
      "source": [
        "X2_train = df_train2.iloc[:,:-1]\n",
        "X2_train.head()"
      ],
      "metadata": {
        "colab": {
          "base_uri": "https://localhost:8080/"
        },
        "outputId": "629d4869-d408-4703-95c6-1e1c477a5743",
        "id": "0RdvwhWFWUgr"
      },
      "execution_count": null,
      "outputs": [
        {
          "output_type": "execute_result",
          "data": {
            "text/plain": [
              "   211612_s_at  219678_x_at  217653_x_at  211996_s_at  214594_x_at  \\\n",
              "0     2.535743     2.457776     2.052387     2.873506     2.285882   \n",
              "1     2.587822     2.408562     1.957657     2.779933     2.248177   \n",
              "2     2.529666     2.447706     2.059190     2.805088     2.255567   \n",
              "3     2.274739     2.537130     2.273920     2.952965     2.554384   \n",
              "4     2.551101     2.692597     2.321532     2.887101     2.752609   \n",
              "\n",
              "   218155_x_at  202936_s_at  207730_x_at  209703_x_at  216609_at  ...  \\\n",
              "0     2.518572     2.656989     2.833421     2.448979   1.982433  ...   \n",
              "1     2.508590     2.366057     2.871436     2.460372   2.139794  ...   \n",
              "2     2.658405     2.542071     2.871085     2.435954   2.113104  ...   \n",
              "3     2.736684     2.465318     2.988069     2.551221   2.204011  ...   \n",
              "4     2.752873     2.608392     3.098642     2.643402   2.483343  ...   \n",
              "\n",
              "   213432_at  209457_at  201925_s_at  206584_at  217022_s_at  206835_at  \\\n",
              "0   3.470163   2.790067     3.088773   2.594274     3.326183   2.172511   \n",
              "1   3.298993   2.511882     2.883510   2.270037     2.215997   2.492978   \n",
              "2   3.123434   2.600055     2.859327   2.286755     2.428886   2.180694   \n",
              "3   3.262826   2.305844     2.200789   1.810791     3.321267   2.043120   \n",
              "4   2.906855   2.453478     2.780409   2.682590     3.044343   2.009510   \n",
              "\n",
              "   202435_s_at  205749_at  218541_s_at  217028_at  \n",
              "0     1.817986   2.344495     2.008092   2.582746  \n",
              "1     2.619466   2.850630     1.712133   2.461546  \n",
              "2     2.300764   2.624524     1.660744   2.621770  \n",
              "3     1.905358   2.407280     1.582201   2.206625  \n",
              "4     1.929459   2.500476     1.830177   2.974692  \n",
              "\n",
              "[5 rows x 200 columns]"
            ],
            "text/html": [
              "\n",
              "  <div id=\"df-5def60b0-903a-447c-b963-5f07c31232ba\">\n",
              "    <div class=\"colab-df-container\">\n",
              "      <div>\n",
              "<style scoped>\n",
              "    .dataframe tbody tr th:only-of-type {\n",
              "        vertical-align: middle;\n",
              "    }\n",
              "\n",
              "    .dataframe tbody tr th {\n",
              "        vertical-align: top;\n",
              "    }\n",
              "\n",
              "    .dataframe thead th {\n",
              "        text-align: right;\n",
              "    }\n",
              "</style>\n",
              "<table border=\"1\" class=\"dataframe\">\n",
              "  <thead>\n",
              "    <tr style=\"text-align: right;\">\n",
              "      <th></th>\n",
              "      <th>211612_s_at</th>\n",
              "      <th>219678_x_at</th>\n",
              "      <th>217653_x_at</th>\n",
              "      <th>211996_s_at</th>\n",
              "      <th>214594_x_at</th>\n",
              "      <th>218155_x_at</th>\n",
              "      <th>202936_s_at</th>\n",
              "      <th>207730_x_at</th>\n",
              "      <th>209703_x_at</th>\n",
              "      <th>216609_at</th>\n",
              "      <th>...</th>\n",
              "      <th>213432_at</th>\n",
              "      <th>209457_at</th>\n",
              "      <th>201925_s_at</th>\n",
              "      <th>206584_at</th>\n",
              "      <th>217022_s_at</th>\n",
              "      <th>206835_at</th>\n",
              "      <th>202435_s_at</th>\n",
              "      <th>205749_at</th>\n",
              "      <th>218541_s_at</th>\n",
              "      <th>217028_at</th>\n",
              "    </tr>\n",
              "  </thead>\n",
              "  <tbody>\n",
              "    <tr>\n",
              "      <th>0</th>\n",
              "      <td>2.535743</td>\n",
              "      <td>2.457776</td>\n",
              "      <td>2.052387</td>\n",
              "      <td>2.873506</td>\n",
              "      <td>2.285882</td>\n",
              "      <td>2.518572</td>\n",
              "      <td>2.656989</td>\n",
              "      <td>2.833421</td>\n",
              "      <td>2.448979</td>\n",
              "      <td>1.982433</td>\n",
              "      <td>...</td>\n",
              "      <td>3.470163</td>\n",
              "      <td>2.790067</td>\n",
              "      <td>3.088773</td>\n",
              "      <td>2.594274</td>\n",
              "      <td>3.326183</td>\n",
              "      <td>2.172511</td>\n",
              "      <td>1.817986</td>\n",
              "      <td>2.344495</td>\n",
              "      <td>2.008092</td>\n",
              "      <td>2.582746</td>\n",
              "    </tr>\n",
              "    <tr>\n",
              "      <th>1</th>\n",
              "      <td>2.587822</td>\n",
              "      <td>2.408562</td>\n",
              "      <td>1.957657</td>\n",
              "      <td>2.779933</td>\n",
              "      <td>2.248177</td>\n",
              "      <td>2.508590</td>\n",
              "      <td>2.366057</td>\n",
              "      <td>2.871436</td>\n",
              "      <td>2.460372</td>\n",
              "      <td>2.139794</td>\n",
              "      <td>...</td>\n",
              "      <td>3.298993</td>\n",
              "      <td>2.511882</td>\n",
              "      <td>2.883510</td>\n",
              "      <td>2.270037</td>\n",
              "      <td>2.215997</td>\n",
              "      <td>2.492978</td>\n",
              "      <td>2.619466</td>\n",
              "      <td>2.850630</td>\n",
              "      <td>1.712133</td>\n",
              "      <td>2.461546</td>\n",
              "    </tr>\n",
              "    <tr>\n",
              "      <th>2</th>\n",
              "      <td>2.529666</td>\n",
              "      <td>2.447706</td>\n",
              "      <td>2.059190</td>\n",
              "      <td>2.805088</td>\n",
              "      <td>2.255567</td>\n",
              "      <td>2.658405</td>\n",
              "      <td>2.542071</td>\n",
              "      <td>2.871085</td>\n",
              "      <td>2.435954</td>\n",
              "      <td>2.113104</td>\n",
              "      <td>...</td>\n",
              "      <td>3.123434</td>\n",
              "      <td>2.600055</td>\n",
              "      <td>2.859327</td>\n",
              "      <td>2.286755</td>\n",
              "      <td>2.428886</td>\n",
              "      <td>2.180694</td>\n",
              "      <td>2.300764</td>\n",
              "      <td>2.624524</td>\n",
              "      <td>1.660744</td>\n",
              "      <td>2.621770</td>\n",
              "    </tr>\n",
              "    <tr>\n",
              "      <th>3</th>\n",
              "      <td>2.274739</td>\n",
              "      <td>2.537130</td>\n",
              "      <td>2.273920</td>\n",
              "      <td>2.952965</td>\n",
              "      <td>2.554384</td>\n",
              "      <td>2.736684</td>\n",
              "      <td>2.465318</td>\n",
              "      <td>2.988069</td>\n",
              "      <td>2.551221</td>\n",
              "      <td>2.204011</td>\n",
              "      <td>...</td>\n",
              "      <td>3.262826</td>\n",
              "      <td>2.305844</td>\n",
              "      <td>2.200789</td>\n",
              "      <td>1.810791</td>\n",
              "      <td>3.321267</td>\n",
              "      <td>2.043120</td>\n",
              "      <td>1.905358</td>\n",
              "      <td>2.407280</td>\n",
              "      <td>1.582201</td>\n",
              "      <td>2.206625</td>\n",
              "    </tr>\n",
              "    <tr>\n",
              "      <th>4</th>\n",
              "      <td>2.551101</td>\n",
              "      <td>2.692597</td>\n",
              "      <td>2.321532</td>\n",
              "      <td>2.887101</td>\n",
              "      <td>2.752609</td>\n",
              "      <td>2.752873</td>\n",
              "      <td>2.608392</td>\n",
              "      <td>3.098642</td>\n",
              "      <td>2.643402</td>\n",
              "      <td>2.483343</td>\n",
              "      <td>...</td>\n",
              "      <td>2.906855</td>\n",
              "      <td>2.453478</td>\n",
              "      <td>2.780409</td>\n",
              "      <td>2.682590</td>\n",
              "      <td>3.044343</td>\n",
              "      <td>2.009510</td>\n",
              "      <td>1.929459</td>\n",
              "      <td>2.500476</td>\n",
              "      <td>1.830177</td>\n",
              "      <td>2.974692</td>\n",
              "    </tr>\n",
              "  </tbody>\n",
              "</table>\n",
              "<p>5 rows × 200 columns</p>\n",
              "</div>\n",
              "      <button class=\"colab-df-convert\" onclick=\"convertToInteractive('df-5def60b0-903a-447c-b963-5f07c31232ba')\"\n",
              "              title=\"Convert this dataframe to an interactive table.\"\n",
              "              style=\"display:none;\">\n",
              "        \n",
              "  <svg xmlns=\"http://www.w3.org/2000/svg\" height=\"24px\"viewBox=\"0 0 24 24\"\n",
              "       width=\"24px\">\n",
              "    <path d=\"M0 0h24v24H0V0z\" fill=\"none\"/>\n",
              "    <path d=\"M18.56 5.44l.94 2.06.94-2.06 2.06-.94-2.06-.94-.94-2.06-.94 2.06-2.06.94zm-11 1L8.5 8.5l.94-2.06 2.06-.94-2.06-.94L8.5 2.5l-.94 2.06-2.06.94zm10 10l.94 2.06.94-2.06 2.06-.94-2.06-.94-.94-2.06-.94 2.06-2.06.94z\"/><path d=\"M17.41 7.96l-1.37-1.37c-.4-.4-.92-.59-1.43-.59-.52 0-1.04.2-1.43.59L10.3 9.45l-7.72 7.72c-.78.78-.78 2.05 0 2.83L4 21.41c.39.39.9.59 1.41.59.51 0 1.02-.2 1.41-.59l7.78-7.78 2.81-2.81c.8-.78.8-2.07 0-2.86zM5.41 20L4 18.59l7.72-7.72 1.47 1.35L5.41 20z\"/>\n",
              "  </svg>\n",
              "      </button>\n",
              "      \n",
              "  <style>\n",
              "    .colab-df-container {\n",
              "      display:flex;\n",
              "      flex-wrap:wrap;\n",
              "      gap: 12px;\n",
              "    }\n",
              "\n",
              "    .colab-df-convert {\n",
              "      background-color: #E8F0FE;\n",
              "      border: none;\n",
              "      border-radius: 50%;\n",
              "      cursor: pointer;\n",
              "      display: none;\n",
              "      fill: #1967D2;\n",
              "      height: 32px;\n",
              "      padding: 0 0 0 0;\n",
              "      width: 32px;\n",
              "    }\n",
              "\n",
              "    .colab-df-convert:hover {\n",
              "      background-color: #E2EBFA;\n",
              "      box-shadow: 0px 1px 2px rgba(60, 64, 67, 0.3), 0px 1px 3px 1px rgba(60, 64, 67, 0.15);\n",
              "      fill: #174EA6;\n",
              "    }\n",
              "\n",
              "    [theme=dark] .colab-df-convert {\n",
              "      background-color: #3B4455;\n",
              "      fill: #D2E3FC;\n",
              "    }\n",
              "\n",
              "    [theme=dark] .colab-df-convert:hover {\n",
              "      background-color: #434B5C;\n",
              "      box-shadow: 0px 1px 3px 1px rgba(0, 0, 0, 0.15);\n",
              "      filter: drop-shadow(0px 1px 2px rgba(0, 0, 0, 0.3));\n",
              "      fill: #FFFFFF;\n",
              "    }\n",
              "  </style>\n",
              "\n",
              "      <script>\n",
              "        const buttonEl =\n",
              "          document.querySelector('#df-5def60b0-903a-447c-b963-5f07c31232ba button.colab-df-convert');\n",
              "        buttonEl.style.display =\n",
              "          google.colab.kernel.accessAllowed ? 'block' : 'none';\n",
              "\n",
              "        async function convertToInteractive(key) {\n",
              "          const element = document.querySelector('#df-5def60b0-903a-447c-b963-5f07c31232ba');\n",
              "          const dataTable =\n",
              "            await google.colab.kernel.invokeFunction('convertToInteractive',\n",
              "                                                     [key], {});\n",
              "          if (!dataTable) return;\n",
              "\n",
              "          const docLinkHtml = 'Like what you see? Visit the ' +\n",
              "            '<a target=\"_blank\" href=https://colab.research.google.com/notebooks/data_table.ipynb>data table notebook</a>'\n",
              "            + ' to learn more about interactive tables.';\n",
              "          element.innerHTML = '';\n",
              "          dataTable['output_type'] = 'display_data';\n",
              "          await google.colab.output.renderOutput(dataTable, element);\n",
              "          const docLink = document.createElement('div');\n",
              "          docLink.innerHTML = docLinkHtml;\n",
              "          element.appendChild(docLink);\n",
              "        }\n",
              "      </script>\n",
              "    </div>\n",
              "  </div>\n",
              "  "
            ]
          },
          "metadata": {},
          "execution_count": 10
        }
      ]
    },
    {
      "cell_type": "code",
      "source": [
        "y2_train = df_train2.iloc[:,-1]\n",
        "y2_train.head()"
      ],
      "metadata": {
        "colab": {
          "base_uri": "https://localhost:8080/"
        },
        "outputId": "00a08674-0a10-4dd4-d958-3059cd49bc4e",
        "id": "b6jWoPq3WUgt"
      },
      "execution_count": null,
      "outputs": [
        {
          "output_type": "execute_result",
          "data": {
            "text/plain": [
              "0    1\n",
              "1    1\n",
              "2    0\n",
              "3    0\n",
              "4    0\n",
              "Name: Label, dtype: int64"
            ]
          },
          "metadata": {},
          "execution_count": 11
        }
      ]
    },
    {
      "cell_type": "code",
      "source": [
        "X3_train = df_train3.iloc[:,:-1]\n",
        "X3_train.head()"
      ],
      "metadata": {
        "colab": {
          "base_uri": "https://localhost:8080/"
        },
        "outputId": "ba46d530-4ad4-432c-e9da-66f5eafb0f40",
        "id": "QyMhT8npWU8D"
      },
      "execution_count": null,
      "outputs": [
        {
          "output_type": "execute_result",
          "data": {
            "text/plain": [
              "   211612_s_at  219678_x_at  217653_x_at  211996_s_at  214594_x_at  \\\n",
              "0     2.535743     2.457776     2.052387     2.873506     2.285882   \n",
              "1     2.587822     2.408562     1.957657     2.779933     2.248177   \n",
              "2     2.529666     2.447706     2.059190     2.805088     2.255567   \n",
              "3     2.274739     2.537130     2.273920     2.952965     2.554384   \n",
              "4     2.551101     2.692597     2.321532     2.887101     2.752609   \n",
              "\n",
              "   218155_x_at  202936_s_at  207730_x_at  209703_x_at  216609_at  ...  \\\n",
              "0     2.518572     2.656989     2.833421     2.448979   1.982433  ...   \n",
              "1     2.508590     2.366057     2.871436     2.460372   2.139794  ...   \n",
              "2     2.658405     2.542071     2.871085     2.435954   2.113104  ...   \n",
              "3     2.736684     2.465318     2.988069     2.551221   2.204011  ...   \n",
              "4     2.752873     2.608392     3.098642     2.643402   2.483343  ...   \n",
              "\n",
              "   207300_s_at  201123_s_at  219607_s_at  217028_at  220798_x_at  203290_at  \\\n",
              "0     1.892513     2.825503     2.081309   2.582746     2.102570   2.234970   \n",
              "1     1.835913     2.900031     1.708599   2.461546     2.342672   2.157700   \n",
              "2     2.043599     2.127788     1.750120   2.621770     2.311563   2.291107   \n",
              "3     2.047637     2.404252     1.644098   2.206625     2.560912   2.367685   \n",
              "4     2.051628     2.519814     2.204075   2.974692     2.712793   2.486182   \n",
              "\n",
              "   202173_s_at  216841_s_at  206149_at  205681_at  \n",
              "0     2.154980     2.341958   3.059717   2.352974  \n",
              "1     2.231532     2.303909   2.702865   2.804416  \n",
              "2     2.242538     2.400200   2.927471   2.320344  \n",
              "3     2.062988     1.886354   2.842158   1.897309  \n",
              "4     2.249837     2.190492   2.959261   2.686662  \n",
              "\n",
              "[5 rows x 700 columns]"
            ],
            "text/html": [
              "\n",
              "  <div id=\"df-8fbe572b-c728-4eea-9ea4-94f87b2c3f24\">\n",
              "    <div class=\"colab-df-container\">\n",
              "      <div>\n",
              "<style scoped>\n",
              "    .dataframe tbody tr th:only-of-type {\n",
              "        vertical-align: middle;\n",
              "    }\n",
              "\n",
              "    .dataframe tbody tr th {\n",
              "        vertical-align: top;\n",
              "    }\n",
              "\n",
              "    .dataframe thead th {\n",
              "        text-align: right;\n",
              "    }\n",
              "</style>\n",
              "<table border=\"1\" class=\"dataframe\">\n",
              "  <thead>\n",
              "    <tr style=\"text-align: right;\">\n",
              "      <th></th>\n",
              "      <th>211612_s_at</th>\n",
              "      <th>219678_x_at</th>\n",
              "      <th>217653_x_at</th>\n",
              "      <th>211996_s_at</th>\n",
              "      <th>214594_x_at</th>\n",
              "      <th>218155_x_at</th>\n",
              "      <th>202936_s_at</th>\n",
              "      <th>207730_x_at</th>\n",
              "      <th>209703_x_at</th>\n",
              "      <th>216609_at</th>\n",
              "      <th>...</th>\n",
              "      <th>207300_s_at</th>\n",
              "      <th>201123_s_at</th>\n",
              "      <th>219607_s_at</th>\n",
              "      <th>217028_at</th>\n",
              "      <th>220798_x_at</th>\n",
              "      <th>203290_at</th>\n",
              "      <th>202173_s_at</th>\n",
              "      <th>216841_s_at</th>\n",
              "      <th>206149_at</th>\n",
              "      <th>205681_at</th>\n",
              "    </tr>\n",
              "  </thead>\n",
              "  <tbody>\n",
              "    <tr>\n",
              "      <th>0</th>\n",
              "      <td>2.535743</td>\n",
              "      <td>2.457776</td>\n",
              "      <td>2.052387</td>\n",
              "      <td>2.873506</td>\n",
              "      <td>2.285882</td>\n",
              "      <td>2.518572</td>\n",
              "      <td>2.656989</td>\n",
              "      <td>2.833421</td>\n",
              "      <td>2.448979</td>\n",
              "      <td>1.982433</td>\n",
              "      <td>...</td>\n",
              "      <td>1.892513</td>\n",
              "      <td>2.825503</td>\n",
              "      <td>2.081309</td>\n",
              "      <td>2.582746</td>\n",
              "      <td>2.102570</td>\n",
              "      <td>2.234970</td>\n",
              "      <td>2.154980</td>\n",
              "      <td>2.341958</td>\n",
              "      <td>3.059717</td>\n",
              "      <td>2.352974</td>\n",
              "    </tr>\n",
              "    <tr>\n",
              "      <th>1</th>\n",
              "      <td>2.587822</td>\n",
              "      <td>2.408562</td>\n",
              "      <td>1.957657</td>\n",
              "      <td>2.779933</td>\n",
              "      <td>2.248177</td>\n",
              "      <td>2.508590</td>\n",
              "      <td>2.366057</td>\n",
              "      <td>2.871436</td>\n",
              "      <td>2.460372</td>\n",
              "      <td>2.139794</td>\n",
              "      <td>...</td>\n",
              "      <td>1.835913</td>\n",
              "      <td>2.900031</td>\n",
              "      <td>1.708599</td>\n",
              "      <td>2.461546</td>\n",
              "      <td>2.342672</td>\n",
              "      <td>2.157700</td>\n",
              "      <td>2.231532</td>\n",
              "      <td>2.303909</td>\n",
              "      <td>2.702865</td>\n",
              "      <td>2.804416</td>\n",
              "    </tr>\n",
              "    <tr>\n",
              "      <th>2</th>\n",
              "      <td>2.529666</td>\n",
              "      <td>2.447706</td>\n",
              "      <td>2.059190</td>\n",
              "      <td>2.805088</td>\n",
              "      <td>2.255567</td>\n",
              "      <td>2.658405</td>\n",
              "      <td>2.542071</td>\n",
              "      <td>2.871085</td>\n",
              "      <td>2.435954</td>\n",
              "      <td>2.113104</td>\n",
              "      <td>...</td>\n",
              "      <td>2.043599</td>\n",
              "      <td>2.127788</td>\n",
              "      <td>1.750120</td>\n",
              "      <td>2.621770</td>\n",
              "      <td>2.311563</td>\n",
              "      <td>2.291107</td>\n",
              "      <td>2.242538</td>\n",
              "      <td>2.400200</td>\n",
              "      <td>2.927471</td>\n",
              "      <td>2.320344</td>\n",
              "    </tr>\n",
              "    <tr>\n",
              "      <th>3</th>\n",
              "      <td>2.274739</td>\n",
              "      <td>2.537130</td>\n",
              "      <td>2.273920</td>\n",
              "      <td>2.952965</td>\n",
              "      <td>2.554384</td>\n",
              "      <td>2.736684</td>\n",
              "      <td>2.465318</td>\n",
              "      <td>2.988069</td>\n",
              "      <td>2.551221</td>\n",
              "      <td>2.204011</td>\n",
              "      <td>...</td>\n",
              "      <td>2.047637</td>\n",
              "      <td>2.404252</td>\n",
              "      <td>1.644098</td>\n",
              "      <td>2.206625</td>\n",
              "      <td>2.560912</td>\n",
              "      <td>2.367685</td>\n",
              "      <td>2.062988</td>\n",
              "      <td>1.886354</td>\n",
              "      <td>2.842158</td>\n",
              "      <td>1.897309</td>\n",
              "    </tr>\n",
              "    <tr>\n",
              "      <th>4</th>\n",
              "      <td>2.551101</td>\n",
              "      <td>2.692597</td>\n",
              "      <td>2.321532</td>\n",
              "      <td>2.887101</td>\n",
              "      <td>2.752609</td>\n",
              "      <td>2.752873</td>\n",
              "      <td>2.608392</td>\n",
              "      <td>3.098642</td>\n",
              "      <td>2.643402</td>\n",
              "      <td>2.483343</td>\n",
              "      <td>...</td>\n",
              "      <td>2.051628</td>\n",
              "      <td>2.519814</td>\n",
              "      <td>2.204075</td>\n",
              "      <td>2.974692</td>\n",
              "      <td>2.712793</td>\n",
              "      <td>2.486182</td>\n",
              "      <td>2.249837</td>\n",
              "      <td>2.190492</td>\n",
              "      <td>2.959261</td>\n",
              "      <td>2.686662</td>\n",
              "    </tr>\n",
              "  </tbody>\n",
              "</table>\n",
              "<p>5 rows × 700 columns</p>\n",
              "</div>\n",
              "      <button class=\"colab-df-convert\" onclick=\"convertToInteractive('df-8fbe572b-c728-4eea-9ea4-94f87b2c3f24')\"\n",
              "              title=\"Convert this dataframe to an interactive table.\"\n",
              "              style=\"display:none;\">\n",
              "        \n",
              "  <svg xmlns=\"http://www.w3.org/2000/svg\" height=\"24px\"viewBox=\"0 0 24 24\"\n",
              "       width=\"24px\">\n",
              "    <path d=\"M0 0h24v24H0V0z\" fill=\"none\"/>\n",
              "    <path d=\"M18.56 5.44l.94 2.06.94-2.06 2.06-.94-2.06-.94-.94-2.06-.94 2.06-2.06.94zm-11 1L8.5 8.5l.94-2.06 2.06-.94-2.06-.94L8.5 2.5l-.94 2.06-2.06.94zm10 10l.94 2.06.94-2.06 2.06-.94-2.06-.94-.94-2.06-.94 2.06-2.06.94z\"/><path d=\"M17.41 7.96l-1.37-1.37c-.4-.4-.92-.59-1.43-.59-.52 0-1.04.2-1.43.59L10.3 9.45l-7.72 7.72c-.78.78-.78 2.05 0 2.83L4 21.41c.39.39.9.59 1.41.59.51 0 1.02-.2 1.41-.59l7.78-7.78 2.81-2.81c.8-.78.8-2.07 0-2.86zM5.41 20L4 18.59l7.72-7.72 1.47 1.35L5.41 20z\"/>\n",
              "  </svg>\n",
              "      </button>\n",
              "      \n",
              "  <style>\n",
              "    .colab-df-container {\n",
              "      display:flex;\n",
              "      flex-wrap:wrap;\n",
              "      gap: 12px;\n",
              "    }\n",
              "\n",
              "    .colab-df-convert {\n",
              "      background-color: #E8F0FE;\n",
              "      border: none;\n",
              "      border-radius: 50%;\n",
              "      cursor: pointer;\n",
              "      display: none;\n",
              "      fill: #1967D2;\n",
              "      height: 32px;\n",
              "      padding: 0 0 0 0;\n",
              "      width: 32px;\n",
              "    }\n",
              "\n",
              "    .colab-df-convert:hover {\n",
              "      background-color: #E2EBFA;\n",
              "      box-shadow: 0px 1px 2px rgba(60, 64, 67, 0.3), 0px 1px 3px 1px rgba(60, 64, 67, 0.15);\n",
              "      fill: #174EA6;\n",
              "    }\n",
              "\n",
              "    [theme=dark] .colab-df-convert {\n",
              "      background-color: #3B4455;\n",
              "      fill: #D2E3FC;\n",
              "    }\n",
              "\n",
              "    [theme=dark] .colab-df-convert:hover {\n",
              "      background-color: #434B5C;\n",
              "      box-shadow: 0px 1px 3px 1px rgba(0, 0, 0, 0.15);\n",
              "      filter: drop-shadow(0px 1px 2px rgba(0, 0, 0, 0.3));\n",
              "      fill: #FFFFFF;\n",
              "    }\n",
              "  </style>\n",
              "\n",
              "      <script>\n",
              "        const buttonEl =\n",
              "          document.querySelector('#df-8fbe572b-c728-4eea-9ea4-94f87b2c3f24 button.colab-df-convert');\n",
              "        buttonEl.style.display =\n",
              "          google.colab.kernel.accessAllowed ? 'block' : 'none';\n",
              "\n",
              "        async function convertToInteractive(key) {\n",
              "          const element = document.querySelector('#df-8fbe572b-c728-4eea-9ea4-94f87b2c3f24');\n",
              "          const dataTable =\n",
              "            await google.colab.kernel.invokeFunction('convertToInteractive',\n",
              "                                                     [key], {});\n",
              "          if (!dataTable) return;\n",
              "\n",
              "          const docLinkHtml = 'Like what you see? Visit the ' +\n",
              "            '<a target=\"_blank\" href=https://colab.research.google.com/notebooks/data_table.ipynb>data table notebook</a>'\n",
              "            + ' to learn more about interactive tables.';\n",
              "          element.innerHTML = '';\n",
              "          dataTable['output_type'] = 'display_data';\n",
              "          await google.colab.output.renderOutput(dataTable, element);\n",
              "          const docLink = document.createElement('div');\n",
              "          docLink.innerHTML = docLinkHtml;\n",
              "          element.appendChild(docLink);\n",
              "        }\n",
              "      </script>\n",
              "    </div>\n",
              "  </div>\n",
              "  "
            ]
          },
          "metadata": {},
          "execution_count": 12
        }
      ]
    },
    {
      "cell_type": "code",
      "source": [
        "y3_train = df_train3.iloc[:,-1]\n",
        "y3_train.head()"
      ],
      "metadata": {
        "colab": {
          "base_uri": "https://localhost:8080/"
        },
        "outputId": "d74acd1e-6976-4bb6-c514-5a24cc976ab0",
        "id": "qRlqj7hCWU8G"
      },
      "execution_count": null,
      "outputs": [
        {
          "output_type": "execute_result",
          "data": {
            "text/plain": [
              "0    1\n",
              "1    1\n",
              "2    0\n",
              "3    0\n",
              "4    0\n",
              "Name: Label, dtype: int64"
            ]
          },
          "metadata": {},
          "execution_count": 13
        }
      ]
    },
    {
      "cell_type": "markdown",
      "source": [
        "## Model tanpa Tuning"
      ],
      "metadata": {
        "id": "9t0AjQ1OTEPO"
      }
    },
    {
      "cell_type": "markdown",
      "source": [
        "AB1"
      ],
      "metadata": {
        "id": "2SgleqWJTzpJ"
      }
    },
    {
      "cell_type": "code",
      "source": [
        "ab1_non_tuning = AdaBoostClassifier()\n",
        "ab1_non_tuning_acc = cross_val_score(ab1_non_tuning, X1_train, y1_train, scoring=\"accuracy\", cv=10)\n",
        "print(\"Akurasi masing-masing = \", ab1_non_tuning_acc)\n",
        "print(\"Rata-rata = \", ab1_non_tuning_acc.mean())"
      ],
      "metadata": {
        "colab": {
          "base_uri": "https://localhost:8080/"
        },
        "id": "eQGu2RBYSqkk",
        "outputId": "683f2b23-d3fb-4f87-f8be-5c504eed1010"
      },
      "execution_count": null,
      "outputs": [
        {
          "output_type": "stream",
          "name": "stdout",
          "text": [
            "Akurasi masing-masing =  [0.69230769 0.76923077 0.69230769 0.61538462 0.30769231 0.76923077\n",
            " 0.76923077 0.92307692 0.84615385 0.61538462]\n",
            "Rata-rata =  0.7\n"
          ]
        }
      ]
    },
    {
      "cell_type": "markdown",
      "source": [
        "AB2"
      ],
      "metadata": {
        "id": "D_kUApnTWyHK"
      }
    },
    {
      "cell_type": "code",
      "source": [
        "ab2_non_tuning = AdaBoostClassifier()\n",
        "ab2_non_tuning_acc = cross_val_score(ab2_non_tuning, X2_train, y2_train, scoring=\"accuracy\", cv=10)\n",
        "print(\"Akurasi masing-masing = \", ab2_non_tuning_acc)\n",
        "print(\"Rata-rata = \", ab2_non_tuning_acc.mean())"
      ],
      "metadata": {
        "colab": {
          "base_uri": "https://localhost:8080/"
        },
        "outputId": "237f8e81-651f-4585-cb9a-8d06940ebfb9",
        "id": "flv6B01AWyHX"
      },
      "execution_count": null,
      "outputs": [
        {
          "output_type": "stream",
          "name": "stdout",
          "text": [
            "Akurasi masing-masing =  [0.84615385 0.76923077 0.53846154 0.46153846 0.61538462 0.69230769\n",
            " 0.92307692 0.84615385 0.84615385 0.69230769]\n",
            "Rata-rata =  0.723076923076923\n"
          ]
        }
      ]
    },
    {
      "cell_type": "markdown",
      "source": [
        "AB3"
      ],
      "metadata": {
        "id": "cMbfyBjXWyVz"
      }
    },
    {
      "cell_type": "code",
      "source": [
        "ab3_non_tuning = AdaBoostClassifier()\n",
        "ab3_non_tuning_acc = cross_val_score(ab3_non_tuning, X3_train, y3_train, scoring=\"accuracy\", cv=10)\n",
        "print(\"Akurasi masing-masing = \", ab3_non_tuning_acc)\n",
        "print(\"Rata-rata = \", ab3_non_tuning_acc.mean())"
      ],
      "metadata": {
        "colab": {
          "base_uri": "https://localhost:8080/"
        },
        "outputId": "17c19c92-10d8-484c-9783-e910fb625c10",
        "id": "jeZjyWZ_WyV0"
      },
      "execution_count": null,
      "outputs": [
        {
          "output_type": "stream",
          "name": "stdout",
          "text": [
            "Akurasi masing-masing =  [0.61538462 0.69230769 0.61538462 0.38461538 0.53846154 0.61538462\n",
            " 0.76923077 0.92307692 0.84615385 0.61538462]\n",
            "Rata-rata =  0.6615384615384615\n"
          ]
        }
      ]
    },
    {
      "cell_type": "markdown",
      "source": [
        "## Hyperparameter Tuning"
      ],
      "metadata": {
        "id": "amnNy2SywM6u"
      }
    },
    {
      "cell_type": "markdown",
      "source": [
        "### Parameter yang akan dituning"
      ],
      "metadata": {
        "id": "5lxRbubebJys"
      }
    },
    {
      "cell_type": "markdown",
      "source": [
        "Definisi Parameter"
      ],
      "metadata": {
        "id": "bslIe0zJB5vx"
      }
    },
    {
      "cell_type": "code",
      "source": [
        "parameters_ab = {\n",
        "        'n_estimators' : [50, 100, 150, 200],\n",
        "        'learning_rate' : [0.01, 0.1, 1]  \n",
        "        }"
      ],
      "metadata": {
        "id": "_ZNmqByNbIBi"
      },
      "execution_count": null,
      "outputs": []
    },
    {
      "cell_type": "markdown",
      "source": [
        "### AB1"
      ],
      "metadata": {
        "id": "_bgMkX0UyGX6"
      }
    },
    {
      "cell_type": "code",
      "source": [
        "ab1_tuning = AdaBoostClassifier()"
      ],
      "metadata": {
        "id": "NJUjikkrwWzA"
      },
      "execution_count": null,
      "outputs": []
    },
    {
      "cell_type": "markdown",
      "source": [
        "Gridsearch (sekitar 3 menit running)"
      ],
      "metadata": {
        "id": "naCkGh7mXwmC"
      }
    },
    {
      "cell_type": "code",
      "source": [
        "search_ab1 = GridSearchCV(ab1_tuning,\n",
        "                        parameters_ab,\n",
        "                        scoring='accuracy',\n",
        "                        cv = 10,\n",
        "                        verbose=3)\n",
        "search_ab1.fit(X1_train, y1_train)"
      ],
      "metadata": {
        "colab": {
          "base_uri": "https://localhost:8080/"
        },
        "id": "TzXuSNLcyvBT",
        "outputId": "67689d27-edda-4b1c-8f74-c0552c7f18a8"
      },
      "execution_count": null,
      "outputs": [
        {
          "output_type": "stream",
          "name": "stdout",
          "text": [
            "Fitting 10 folds for each of 12 candidates, totalling 120 fits\n",
            "[CV 1/10] END learning_rate=0.01, n_estimators=50;, score=0.769 total time=   0.2s\n",
            "[CV 2/10] END learning_rate=0.01, n_estimators=50;, score=0.846 total time=   0.2s\n",
            "[CV 3/10] END learning_rate=0.01, n_estimators=50;, score=0.692 total time=   0.1s\n",
            "[CV 4/10] END learning_rate=0.01, n_estimators=50;, score=0.538 total time=   0.1s\n",
            "[CV 5/10] END learning_rate=0.01, n_estimators=50;, score=0.538 total time=   0.1s\n",
            "[CV 6/10] END learning_rate=0.01, n_estimators=50;, score=0.692 total time=   0.1s\n",
            "[CV 7/10] END learning_rate=0.01, n_estimators=50;, score=0.769 total time=   0.1s\n",
            "[CV 8/10] END learning_rate=0.01, n_estimators=50;, score=0.846 total time=   0.1s\n",
            "[CV 9/10] END learning_rate=0.01, n_estimators=50;, score=0.615 total time=   0.1s\n",
            "[CV 10/10] END learning_rate=0.01, n_estimators=50;, score=0.769 total time=   0.1s\n",
            "[CV 1/10] END learning_rate=0.01, n_estimators=100;, score=0.769 total time=   0.3s\n",
            "[CV 2/10] END learning_rate=0.01, n_estimators=100;, score=0.692 total time=   0.3s\n",
            "[CV 3/10] END learning_rate=0.01, n_estimators=100;, score=0.692 total time=   0.3s\n",
            "[CV 4/10] END learning_rate=0.01, n_estimators=100;, score=0.538 total time=   0.3s\n",
            "[CV 5/10] END learning_rate=0.01, n_estimators=100;, score=0.615 total time=   0.3s\n",
            "[CV 6/10] END learning_rate=0.01, n_estimators=100;, score=0.615 total time=   0.3s\n",
            "[CV 7/10] END learning_rate=0.01, n_estimators=100;, score=0.769 total time=   0.3s\n",
            "[CV 8/10] END learning_rate=0.01, n_estimators=100;, score=0.769 total time=   0.3s\n",
            "[CV 9/10] END learning_rate=0.01, n_estimators=100;, score=0.692 total time=   0.3s\n",
            "[CV 10/10] END learning_rate=0.01, n_estimators=100;, score=0.692 total time=   0.3s\n",
            "[CV 1/10] END learning_rate=0.01, n_estimators=150;, score=0.769 total time=   0.4s\n",
            "[CV 2/10] END learning_rate=0.01, n_estimators=150;, score=0.769 total time=   0.4s\n",
            "[CV 3/10] END learning_rate=0.01, n_estimators=150;, score=0.692 total time=   0.4s\n",
            "[CV 4/10] END learning_rate=0.01, n_estimators=150;, score=0.538 total time=   0.4s\n",
            "[CV 5/10] END learning_rate=0.01, n_estimators=150;, score=0.538 total time=   0.4s\n",
            "[CV 6/10] END learning_rate=0.01, n_estimators=150;, score=0.615 total time=   0.4s\n",
            "[CV 7/10] END learning_rate=0.01, n_estimators=150;, score=0.769 total time=   0.4s\n",
            "[CV 8/10] END learning_rate=0.01, n_estimators=150;, score=0.846 total time=   0.4s\n",
            "[CV 9/10] END learning_rate=0.01, n_estimators=150;, score=0.769 total time=   0.4s\n",
            "[CV 10/10] END learning_rate=0.01, n_estimators=150;, score=0.692 total time=   0.4s\n",
            "[CV 1/10] END learning_rate=0.01, n_estimators=200;, score=0.769 total time=   0.6s\n",
            "[CV 2/10] END learning_rate=0.01, n_estimators=200;, score=0.846 total time=   0.5s\n",
            "[CV 3/10] END learning_rate=0.01, n_estimators=200;, score=0.769 total time=   0.5s\n",
            "[CV 4/10] END learning_rate=0.01, n_estimators=200;, score=0.538 total time=   0.5s\n",
            "[CV 5/10] END learning_rate=0.01, n_estimators=200;, score=0.615 total time=   0.5s\n",
            "[CV 6/10] END learning_rate=0.01, n_estimators=200;, score=0.615 total time=   0.5s\n",
            "[CV 7/10] END learning_rate=0.01, n_estimators=200;, score=0.769 total time=   0.5s\n",
            "[CV 8/10] END learning_rate=0.01, n_estimators=200;, score=0.846 total time=   0.5s\n",
            "[CV 9/10] END learning_rate=0.01, n_estimators=200;, score=0.846 total time=   0.6s\n",
            "[CV 10/10] END learning_rate=0.01, n_estimators=200;, score=0.615 total time=   0.5s\n",
            "[CV 1/10] END learning_rate=0.1, n_estimators=50;, score=0.692 total time=   0.1s\n",
            "[CV 2/10] END learning_rate=0.1, n_estimators=50;, score=0.846 total time=   0.1s\n",
            "[CV 3/10] END learning_rate=0.1, n_estimators=50;, score=0.846 total time=   0.1s\n",
            "[CV 4/10] END learning_rate=0.1, n_estimators=50;, score=0.538 total time=   0.1s\n",
            "[CV 5/10] END learning_rate=0.1, n_estimators=50;, score=0.538 total time=   0.1s\n",
            "[CV 6/10] END learning_rate=0.1, n_estimators=50;, score=0.692 total time=   0.1s\n",
            "[CV 7/10] END learning_rate=0.1, n_estimators=50;, score=0.923 total time=   0.1s\n",
            "[CV 8/10] END learning_rate=0.1, n_estimators=50;, score=0.769 total time=   0.1s\n",
            "[CV 9/10] END learning_rate=0.1, n_estimators=50;, score=0.846 total time=   0.1s\n",
            "[CV 10/10] END learning_rate=0.1, n_estimators=50;, score=0.462 total time=   0.1s\n",
            "[CV 1/10] END learning_rate=0.1, n_estimators=100;, score=0.692 total time=   0.3s\n",
            "[CV 2/10] END learning_rate=0.1, n_estimators=100;, score=0.846 total time=   0.3s\n",
            "[CV 3/10] END learning_rate=0.1, n_estimators=100;, score=0.846 total time=   0.3s\n",
            "[CV 4/10] END learning_rate=0.1, n_estimators=100;, score=0.538 total time=   0.3s\n",
            "[CV 5/10] END learning_rate=0.1, n_estimators=100;, score=0.462 total time=   0.3s\n",
            "[CV 6/10] END learning_rate=0.1, n_estimators=100;, score=0.769 total time=   0.3s\n",
            "[CV 7/10] END learning_rate=0.1, n_estimators=100;, score=0.846 total time=   0.3s\n",
            "[CV 8/10] END learning_rate=0.1, n_estimators=100;, score=0.923 total time=   0.3s\n",
            "[CV 9/10] END learning_rate=0.1, n_estimators=100;, score=0.846 total time=   0.3s\n",
            "[CV 10/10] END learning_rate=0.1, n_estimators=100;, score=0.462 total time=   0.3s\n",
            "[CV 1/10] END learning_rate=0.1, n_estimators=150;, score=0.692 total time=   0.4s\n",
            "[CV 2/10] END learning_rate=0.1, n_estimators=150;, score=0.769 total time=   0.4s\n",
            "[CV 3/10] END learning_rate=0.1, n_estimators=150;, score=0.923 total time=   0.4s\n",
            "[CV 4/10] END learning_rate=0.1, n_estimators=150;, score=0.462 total time=   0.4s\n",
            "[CV 5/10] END learning_rate=0.1, n_estimators=150;, score=0.308 total time=   0.4s\n",
            "[CV 6/10] END learning_rate=0.1, n_estimators=150;, score=0.692 total time=   0.4s\n",
            "[CV 7/10] END learning_rate=0.1, n_estimators=150;, score=0.846 total time=   0.4s\n",
            "[CV 8/10] END learning_rate=0.1, n_estimators=150;, score=0.923 total time=   0.4s\n",
            "[CV 9/10] END learning_rate=0.1, n_estimators=150;, score=0.769 total time=   0.4s\n",
            "[CV 10/10] END learning_rate=0.1, n_estimators=150;, score=0.538 total time=   0.4s\n",
            "[CV 1/10] END learning_rate=0.1, n_estimators=200;, score=0.692 total time=   0.5s\n",
            "[CV 2/10] END learning_rate=0.1, n_estimators=200;, score=0.769 total time=   0.5s\n",
            "[CV 3/10] END learning_rate=0.1, n_estimators=200;, score=0.846 total time=   0.5s\n",
            "[CV 4/10] END learning_rate=0.1, n_estimators=200;, score=0.462 total time=   0.6s\n",
            "[CV 5/10] END learning_rate=0.1, n_estimators=200;, score=0.692 total time=   0.5s\n",
            "[CV 6/10] END learning_rate=0.1, n_estimators=200;, score=0.769 total time=   0.5s\n",
            "[CV 7/10] END learning_rate=0.1, n_estimators=200;, score=0.846 total time=   0.6s\n",
            "[CV 8/10] END learning_rate=0.1, n_estimators=200;, score=0.923 total time=   0.5s\n",
            "[CV 9/10] END learning_rate=0.1, n_estimators=200;, score=0.769 total time=   0.5s\n",
            "[CV 10/10] END learning_rate=0.1, n_estimators=200;, score=0.538 total time=   0.5s\n",
            "[CV 1/10] END .learning_rate=1, n_estimators=50;, score=0.692 total time=   0.1s\n",
            "[CV 2/10] END .learning_rate=1, n_estimators=50;, score=0.769 total time=   0.2s\n",
            "[CV 3/10] END .learning_rate=1, n_estimators=50;, score=0.692 total time=   0.1s\n",
            "[CV 4/10] END .learning_rate=1, n_estimators=50;, score=0.615 total time=   0.2s\n",
            "[CV 5/10] END .learning_rate=1, n_estimators=50;, score=0.308 total time=   0.1s\n",
            "[CV 6/10] END .learning_rate=1, n_estimators=50;, score=0.769 total time=   0.1s\n",
            "[CV 7/10] END .learning_rate=1, n_estimators=50;, score=0.769 total time=   0.1s\n",
            "[CV 8/10] END .learning_rate=1, n_estimators=50;, score=0.923 total time=   0.1s\n",
            "[CV 9/10] END .learning_rate=1, n_estimators=50;, score=0.846 total time=   0.1s\n",
            "[CV 10/10] END learning_rate=1, n_estimators=50;, score=0.615 total time=   0.1s\n",
            "[CV 1/10] END learning_rate=1, n_estimators=100;, score=0.692 total time=   0.3s\n",
            "[CV 2/10] END learning_rate=1, n_estimators=100;, score=0.923 total time=   0.3s\n",
            "[CV 3/10] END learning_rate=1, n_estimators=100;, score=0.769 total time=   0.3s\n",
            "[CV 4/10] END learning_rate=1, n_estimators=100;, score=0.615 total time=   0.3s\n",
            "[CV 5/10] END learning_rate=1, n_estimators=100;, score=0.462 total time=   0.3s\n",
            "[CV 6/10] END learning_rate=1, n_estimators=100;, score=0.769 total time=   0.3s\n",
            "[CV 7/10] END learning_rate=1, n_estimators=100;, score=0.846 total time=   0.3s\n",
            "[CV 8/10] END learning_rate=1, n_estimators=100;, score=0.846 total time=   0.3s\n",
            "[CV 9/10] END learning_rate=1, n_estimators=100;, score=0.846 total time=   0.3s\n",
            "[CV 10/10] END learning_rate=1, n_estimators=100;, score=0.615 total time=   0.3s\n",
            "[CV 1/10] END learning_rate=1, n_estimators=150;, score=0.615 total time=   0.4s\n",
            "[CV 2/10] END learning_rate=1, n_estimators=150;, score=0.846 total time=   0.4s\n",
            "[CV 3/10] END learning_rate=1, n_estimators=150;, score=0.846 total time=   0.4s\n",
            "[CV 4/10] END learning_rate=1, n_estimators=150;, score=0.538 total time=   0.4s\n",
            "[CV 5/10] END learning_rate=1, n_estimators=150;, score=0.615 total time=   0.4s\n",
            "[CV 6/10] END learning_rate=1, n_estimators=150;, score=0.692 total time=   0.4s\n",
            "[CV 7/10] END learning_rate=1, n_estimators=150;, score=0.923 total time=   0.4s\n",
            "[CV 8/10] END learning_rate=1, n_estimators=150;, score=0.923 total time=   0.4s\n",
            "[CV 9/10] END learning_rate=1, n_estimators=150;, score=0.846 total time=   0.4s\n",
            "[CV 10/10] END learning_rate=1, n_estimators=150;, score=0.769 total time=   0.4s\n",
            "[CV 1/10] END learning_rate=1, n_estimators=200;, score=0.615 total time=   0.6s\n",
            "[CV 2/10] END learning_rate=1, n_estimators=200;, score=0.615 total time=   0.5s\n",
            "[CV 3/10] END learning_rate=1, n_estimators=200;, score=0.769 total time=   0.5s\n",
            "[CV 4/10] END learning_rate=1, n_estimators=200;, score=0.462 total time=   0.5s\n",
            "[CV 5/10] END learning_rate=1, n_estimators=200;, score=0.615 total time=   0.5s\n",
            "[CV 6/10] END learning_rate=1, n_estimators=200;, score=0.692 total time=   0.5s\n",
            "[CV 7/10] END learning_rate=1, n_estimators=200;, score=1.000 total time=   0.5s\n",
            "[CV 8/10] END learning_rate=1, n_estimators=200;, score=1.000 total time=   0.6s\n",
            "[CV 9/10] END learning_rate=1, n_estimators=200;, score=0.846 total time=   0.5s\n",
            "[CV 10/10] END learning_rate=1, n_estimators=200;, score=0.769 total time=   0.5s\n"
          ]
        },
        {
          "output_type": "execute_result",
          "data": {
            "text/plain": [
              "GridSearchCV(cv=10, estimator=AdaBoostClassifier(),\n",
              "             param_grid={'learning_rate': [0.01, 0.1, 1],\n",
              "                         'n_estimators': [50, 100, 150, 200]},\n",
              "             scoring='accuracy', verbose=3)"
            ]
          },
          "metadata": {},
          "execution_count": 20
        }
      ]
    },
    {
      "cell_type": "markdown",
      "source": [
        "Akurasi dan parameter terbaik pada Gridsearch"
      ],
      "metadata": {
        "id": "McQVtTyKC1Hr"
      }
    },
    {
      "cell_type": "code",
      "source": [
        "ab1_best_acc_score = search_ab1.best_score_\n",
        "ab1_best_parameter = search_ab1.best_params_\n",
        "print(\"Akurasi terbaik = \", ab1_best_acc_score)\n",
        "print(\"Parameter terbaik = \", ab1_best_parameter)"
      ],
      "metadata": {
        "colab": {
          "base_uri": "https://localhost:8080/"
        },
        "id": "970IBo6giwoz",
        "outputId": "3edfc20b-5c31-4f69-c891-298303ba2da7"
      },
      "execution_count": null,
      "outputs": [
        {
          "output_type": "stream",
          "name": "stdout",
          "text": [
            "Akurasi terbaik =  0.7615384615384615\n",
            "Parameter terbaik =  {'learning_rate': 1, 'n_estimators': 150}\n"
          ]
        }
      ]
    },
    {
      "cell_type": "markdown",
      "source": [
        "Membuat model dengan parameter terbaik"
      ],
      "metadata": {
        "id": "Uzv1rPp6C4ZK"
      }
    },
    {
      "cell_type": "code",
      "source": [
        "learning_rate = ab1_best_parameter[\"learning_rate\"]\n",
        "n_estimators = ab1_best_parameter[\"n_estimators\"]\n",
        "\n",
        "ab1_tuning = AdaBoostClassifier(learning_rate=learning_rate, n_estimators=n_estimators)"
      ],
      "metadata": {
        "id": "TgQ8UW5g92Eo"
      },
      "execution_count": null,
      "outputs": []
    },
    {
      "cell_type": "markdown",
      "source": [
        "Cross val akhir"
      ],
      "metadata": {
        "id": "Xvp6w71VC6iM"
      }
    },
    {
      "cell_type": "code",
      "source": [
        "ab1_tuning_acc = cross_val_score(ab1_tuning, X1_train, y1_train, scoring=\"accuracy\", cv=10)\n",
        "print(\"Akurasi masing-masing = \", ab1_tuning_acc)\n",
        "print(\"Rata-rata = \", ab1_tuning_acc.mean())"
      ],
      "metadata": {
        "colab": {
          "base_uri": "https://localhost:8080/"
        },
        "id": "lxZksZFeYPNl",
        "outputId": "d0066c7b-eb39-4ca8-ead7-28d23c84dcf4"
      },
      "execution_count": null,
      "outputs": [
        {
          "output_type": "stream",
          "name": "stdout",
          "text": [
            "Akurasi masing-masing =  [0.61538462 0.84615385 0.84615385 0.53846154 0.61538462 0.69230769\n",
            " 0.92307692 0.92307692 0.84615385 0.76923077]\n",
            "Rata-rata =  0.7615384615384615\n"
          ]
        }
      ]
    },
    {
      "cell_type": "markdown",
      "source": [
        "### AB2"
      ],
      "metadata": {
        "id": "lxz4DN8ga1Va"
      }
    },
    {
      "cell_type": "code",
      "source": [
        "ab2_tuning = AdaBoostClassifier()"
      ],
      "metadata": {
        "id": "Bdqn4f1Xa1Vb"
      },
      "execution_count": null,
      "outputs": []
    },
    {
      "cell_type": "markdown",
      "source": [
        "Gridsearch (sekitar 3 menit running)"
      ],
      "metadata": {
        "id": "yZzOoZpOa1Vb"
      }
    },
    {
      "cell_type": "code",
      "source": [
        "search_ab2 = GridSearchCV(ab2_tuning,\n",
        "                        parameters_ab,\n",
        "                        scoring='accuracy',\n",
        "                        cv = 10,\n",
        "                        verbose=3)\n",
        "search_ab2.fit(X2_train, y2_train)"
      ],
      "metadata": {
        "colab": {
          "base_uri": "https://localhost:8080/"
        },
        "outputId": "a8b8cf43-db39-46d5-b33e-6e8a03350a0f",
        "id": "uFBsIwRna1Vc"
      },
      "execution_count": null,
      "outputs": [
        {
          "output_type": "stream",
          "name": "stdout",
          "text": [
            "Fitting 10 folds for each of 12 candidates, totalling 120 fits\n",
            "[CV 1/10] END learning_rate=0.01, n_estimators=50;, score=0.769 total time=   0.2s\n",
            "[CV 2/10] END learning_rate=0.01, n_estimators=50;, score=0.615 total time=   0.2s\n",
            "[CV 3/10] END learning_rate=0.01, n_estimators=50;, score=0.692 total time=   0.2s\n",
            "[CV 4/10] END learning_rate=0.01, n_estimators=50;, score=0.615 total time=   0.2s\n",
            "[CV 5/10] END learning_rate=0.01, n_estimators=50;, score=0.462 total time=   0.2s\n",
            "[CV 6/10] END learning_rate=0.01, n_estimators=50;, score=0.692 total time=   0.2s\n",
            "[CV 7/10] END learning_rate=0.01, n_estimators=50;, score=0.692 total time=   0.2s\n",
            "[CV 8/10] END learning_rate=0.01, n_estimators=50;, score=0.846 total time=   0.2s\n",
            "[CV 9/10] END learning_rate=0.01, n_estimators=50;, score=0.615 total time=   0.2s\n",
            "[CV 10/10] END learning_rate=0.01, n_estimators=50;, score=0.615 total time=   0.2s\n",
            "[CV 1/10] END learning_rate=0.01, n_estimators=100;, score=0.692 total time=   0.4s\n",
            "[CV 2/10] END learning_rate=0.01, n_estimators=100;, score=0.615 total time=   0.4s\n",
            "[CV 3/10] END learning_rate=0.01, n_estimators=100;, score=0.692 total time=   0.4s\n",
            "[CV 4/10] END learning_rate=0.01, n_estimators=100;, score=0.615 total time=   0.4s\n",
            "[CV 5/10] END learning_rate=0.01, n_estimators=100;, score=0.462 total time=   0.4s\n",
            "[CV 6/10] END learning_rate=0.01, n_estimators=100;, score=0.615 total time=   0.4s\n",
            "[CV 7/10] END learning_rate=0.01, n_estimators=100;, score=0.769 total time=   0.4s\n",
            "[CV 8/10] END learning_rate=0.01, n_estimators=100;, score=0.846 total time=   0.4s\n",
            "[CV 9/10] END learning_rate=0.01, n_estimators=100;, score=0.846 total time=   0.4s\n",
            "[CV 10/10] END learning_rate=0.01, n_estimators=100;, score=0.692 total time=   0.4s\n",
            "[CV 1/10] END learning_rate=0.01, n_estimators=150;, score=0.692 total time=   0.6s\n",
            "[CV 2/10] END learning_rate=0.01, n_estimators=150;, score=0.615 total time=   0.6s\n",
            "[CV 3/10] END learning_rate=0.01, n_estimators=150;, score=0.692 total time=   0.6s\n",
            "[CV 4/10] END learning_rate=0.01, n_estimators=150;, score=0.462 total time=   0.6s\n",
            "[CV 5/10] END learning_rate=0.01, n_estimators=150;, score=0.538 total time=   0.6s\n",
            "[CV 6/10] END learning_rate=0.01, n_estimators=150;, score=0.692 total time=   0.6s\n",
            "[CV 7/10] END learning_rate=0.01, n_estimators=150;, score=0.769 total time=   0.6s\n",
            "[CV 8/10] END learning_rate=0.01, n_estimators=150;, score=0.846 total time=   0.6s\n",
            "[CV 9/10] END learning_rate=0.01, n_estimators=150;, score=0.769 total time=   0.6s\n",
            "[CV 10/10] END learning_rate=0.01, n_estimators=150;, score=0.769 total time=   0.6s\n",
            "[CV 1/10] END learning_rate=0.01, n_estimators=200;, score=0.615 total time=   0.8s\n",
            "[CV 2/10] END learning_rate=0.01, n_estimators=200;, score=0.692 total time=   0.8s\n",
            "[CV 3/10] END learning_rate=0.01, n_estimators=200;, score=0.769 total time=   0.8s\n",
            "[CV 4/10] END learning_rate=0.01, n_estimators=200;, score=0.385 total time=   0.8s\n",
            "[CV 5/10] END learning_rate=0.01, n_estimators=200;, score=0.538 total time=   0.8s\n",
            "[CV 6/10] END learning_rate=0.01, n_estimators=200;, score=0.692 total time=   0.8s\n",
            "[CV 7/10] END learning_rate=0.01, n_estimators=200;, score=0.769 total time=   0.8s\n",
            "[CV 8/10] END learning_rate=0.01, n_estimators=200;, score=0.846 total time=   0.8s\n",
            "[CV 9/10] END learning_rate=0.01, n_estimators=200;, score=0.846 total time=   0.8s\n",
            "[CV 10/10] END learning_rate=0.01, n_estimators=200;, score=0.615 total time=   0.8s\n",
            "[CV 1/10] END learning_rate=0.1, n_estimators=50;, score=0.769 total time=   0.2s\n",
            "[CV 2/10] END learning_rate=0.1, n_estimators=50;, score=0.769 total time=   0.2s\n",
            "[CV 3/10] END learning_rate=0.1, n_estimators=50;, score=0.692 total time=   0.2s\n",
            "[CV 4/10] END learning_rate=0.1, n_estimators=50;, score=0.615 total time=   0.2s\n",
            "[CV 5/10] END learning_rate=0.1, n_estimators=50;, score=0.462 total time=   0.2s\n",
            "[CV 6/10] END learning_rate=0.1, n_estimators=50;, score=0.769 total time=   0.2s\n",
            "[CV 7/10] END learning_rate=0.1, n_estimators=50;, score=0.846 total time=   0.2s\n",
            "[CV 8/10] END learning_rate=0.1, n_estimators=50;, score=0.846 total time=   0.2s\n",
            "[CV 9/10] END learning_rate=0.1, n_estimators=50;, score=0.846 total time=   0.2s\n",
            "[CV 10/10] END learning_rate=0.1, n_estimators=50;, score=0.538 total time=   0.2s\n",
            "[CV 1/10] END learning_rate=0.1, n_estimators=100;, score=0.692 total time=   0.4s\n",
            "[CV 2/10] END learning_rate=0.1, n_estimators=100;, score=0.769 total time=   0.4s\n",
            "[CV 3/10] END learning_rate=0.1, n_estimators=100;, score=0.769 total time=   0.4s\n",
            "[CV 4/10] END learning_rate=0.1, n_estimators=100;, score=0.538 total time=   0.4s\n",
            "[CV 5/10] END learning_rate=0.1, n_estimators=100;, score=0.462 total time=   0.4s\n",
            "[CV 6/10] END learning_rate=0.1, n_estimators=100;, score=0.846 total time=   0.4s\n",
            "[CV 7/10] END learning_rate=0.1, n_estimators=100;, score=0.923 total time=   0.4s\n",
            "[CV 8/10] END learning_rate=0.1, n_estimators=100;, score=0.923 total time=   0.4s\n",
            "[CV 9/10] END learning_rate=0.1, n_estimators=100;, score=0.923 total time=   0.4s\n",
            "[CV 10/10] END learning_rate=0.1, n_estimators=100;, score=0.462 total time=   0.4s\n",
            "[CV 1/10] END learning_rate=0.1, n_estimators=150;, score=0.769 total time=   0.6s\n",
            "[CV 2/10] END learning_rate=0.1, n_estimators=150;, score=0.846 total time=   0.6s\n",
            "[CV 3/10] END learning_rate=0.1, n_estimators=150;, score=0.769 total time=   0.6s\n",
            "[CV 4/10] END learning_rate=0.1, n_estimators=150;, score=0.538 total time=   0.6s\n",
            "[CV 5/10] END learning_rate=0.1, n_estimators=150;, score=0.538 total time=   0.6s\n",
            "[CV 6/10] END learning_rate=0.1, n_estimators=150;, score=0.769 total time=   0.6s\n",
            "[CV 7/10] END learning_rate=0.1, n_estimators=150;, score=0.923 total time=   0.6s\n",
            "[CV 8/10] END learning_rate=0.1, n_estimators=150;, score=1.000 total time=   0.6s\n",
            "[CV 9/10] END learning_rate=0.1, n_estimators=150;, score=0.769 total time=   0.6s\n",
            "[CV 10/10] END learning_rate=0.1, n_estimators=150;, score=0.615 total time=   0.6s\n",
            "[CV 1/10] END learning_rate=0.1, n_estimators=200;, score=0.769 total time=   0.8s\n",
            "[CV 2/10] END learning_rate=0.1, n_estimators=200;, score=0.846 total time=   0.8s\n",
            "[CV 3/10] END learning_rate=0.1, n_estimators=200;, score=0.769 total time=   0.8s\n",
            "[CV 4/10] END learning_rate=0.1, n_estimators=200;, score=0.538 total time=   0.8s\n",
            "[CV 5/10] END learning_rate=0.1, n_estimators=200;, score=0.769 total time=   0.8s\n",
            "[CV 6/10] END learning_rate=0.1, n_estimators=200;, score=0.692 total time=   0.8s\n",
            "[CV 7/10] END learning_rate=0.1, n_estimators=200;, score=0.923 total time=   0.8s\n",
            "[CV 8/10] END learning_rate=0.1, n_estimators=200;, score=0.923 total time=   0.8s\n",
            "[CV 9/10] END learning_rate=0.1, n_estimators=200;, score=0.769 total time=   0.8s\n",
            "[CV 10/10] END learning_rate=0.1, n_estimators=200;, score=0.692 total time=   0.8s\n",
            "[CV 1/10] END .learning_rate=1, n_estimators=50;, score=0.846 total time=   0.2s\n",
            "[CV 2/10] END .learning_rate=1, n_estimators=50;, score=0.769 total time=   0.2s\n",
            "[CV 3/10] END .learning_rate=1, n_estimators=50;, score=0.538 total time=   0.2s\n",
            "[CV 4/10] END .learning_rate=1, n_estimators=50;, score=0.462 total time=   0.3s\n",
            "[CV 5/10] END .learning_rate=1, n_estimators=50;, score=0.615 total time=   0.5s\n",
            "[CV 6/10] END .learning_rate=1, n_estimators=50;, score=0.692 total time=   0.2s\n",
            "[CV 7/10] END .learning_rate=1, n_estimators=50;, score=0.923 total time=   0.2s\n",
            "[CV 8/10] END .learning_rate=1, n_estimators=50;, score=0.846 total time=   0.6s\n",
            "[CV 9/10] END .learning_rate=1, n_estimators=50;, score=0.846 total time=   0.2s\n",
            "[CV 10/10] END learning_rate=1, n_estimators=50;, score=0.692 total time=   0.2s\n",
            "[CV 1/10] END learning_rate=1, n_estimators=100;, score=0.769 total time=   0.4s\n",
            "[CV 2/10] END learning_rate=1, n_estimators=100;, score=0.846 total time=   0.4s\n",
            "[CV 3/10] END learning_rate=1, n_estimators=100;, score=0.692 total time=   0.4s\n",
            "[CV 4/10] END learning_rate=1, n_estimators=100;, score=0.538 total time=   0.4s\n",
            "[CV 5/10] END learning_rate=1, n_estimators=100;, score=0.538 total time=   0.4s\n",
            "[CV 6/10] END learning_rate=1, n_estimators=100;, score=0.769 total time=   0.4s\n",
            "[CV 7/10] END learning_rate=1, n_estimators=100;, score=0.923 total time=   0.4s\n",
            "[CV 8/10] END learning_rate=1, n_estimators=100;, score=0.846 total time=   0.4s\n",
            "[CV 9/10] END learning_rate=1, n_estimators=100;, score=0.769 total time=   0.4s\n",
            "[CV 10/10] END learning_rate=1, n_estimators=100;, score=0.615 total time=   0.4s\n",
            "[CV 1/10] END learning_rate=1, n_estimators=150;, score=0.846 total time=   0.6s\n",
            "[CV 2/10] END learning_rate=1, n_estimators=150;, score=0.769 total time=   0.6s\n",
            "[CV 3/10] END learning_rate=1, n_estimators=150;, score=0.692 total time=   0.6s\n",
            "[CV 4/10] END learning_rate=1, n_estimators=150;, score=0.462 total time=   0.6s\n",
            "[CV 5/10] END learning_rate=1, n_estimators=150;, score=0.692 total time=   0.6s\n",
            "[CV 6/10] END learning_rate=1, n_estimators=150;, score=0.615 total time=   0.6s\n",
            "[CV 7/10] END learning_rate=1, n_estimators=150;, score=0.923 total time=   0.6s\n",
            "[CV 8/10] END learning_rate=1, n_estimators=150;, score=0.923 total time=   0.6s\n",
            "[CV 9/10] END learning_rate=1, n_estimators=150;, score=0.769 total time=   0.6s\n",
            "[CV 10/10] END learning_rate=1, n_estimators=150;, score=0.769 total time=   0.6s\n",
            "[CV 1/10] END learning_rate=1, n_estimators=200;, score=0.846 total time=   0.8s\n",
            "[CV 2/10] END learning_rate=1, n_estimators=200;, score=0.692 total time=   0.8s\n",
            "[CV 3/10] END learning_rate=1, n_estimators=200;, score=0.692 total time=   0.8s\n",
            "[CV 4/10] END learning_rate=1, n_estimators=200;, score=0.462 total time=   0.8s\n",
            "[CV 5/10] END learning_rate=1, n_estimators=200;, score=0.462 total time=   0.8s\n",
            "[CV 6/10] END learning_rate=1, n_estimators=200;, score=0.692 total time=   0.8s\n",
            "[CV 7/10] END learning_rate=1, n_estimators=200;, score=0.923 total time=   0.8s\n",
            "[CV 8/10] END learning_rate=1, n_estimators=200;, score=0.846 total time=   0.8s\n",
            "[CV 9/10] END learning_rate=1, n_estimators=200;, score=0.769 total time=   0.8s\n",
            "[CV 10/10] END learning_rate=1, n_estimators=200;, score=0.769 total time=   0.8s\n"
          ]
        },
        {
          "output_type": "execute_result",
          "data": {
            "text/plain": [
              "GridSearchCV(cv=10, estimator=AdaBoostClassifier(),\n",
              "             param_grid={'learning_rate': [0.01, 0.1, 1],\n",
              "                         'n_estimators': [50, 100, 150, 200]},\n",
              "             scoring='accuracy', verbose=3)"
            ]
          },
          "metadata": {},
          "execution_count": 25
        }
      ]
    },
    {
      "cell_type": "markdown",
      "source": [
        "Akurasi dan parameter terbaik pada Gridsearh"
      ],
      "metadata": {
        "id": "nxTAzAU6C8xj"
      }
    },
    {
      "cell_type": "code",
      "source": [
        "ab2_best_acc_score = search_ab2.best_score_\n",
        "ab2_best_parameter = search_ab2.best_params_\n",
        "print(\"Akurasi terbaik = \", ab2_best_acc_score)\n",
        "print(\"Parameter terbaik = \", ab2_best_parameter)"
      ],
      "metadata": {
        "colab": {
          "base_uri": "https://localhost:8080/"
        },
        "outputId": "a0d9c969-8d67-493b-b278-0b27d7286679",
        "id": "-gQObjwXa1Vc"
      },
      "execution_count": null,
      "outputs": [
        {
          "output_type": "stream",
          "name": "stdout",
          "text": [
            "Akurasi terbaik =  0.7692307692307694\n",
            "Parameter terbaik =  {'learning_rate': 0.1, 'n_estimators': 200}\n"
          ]
        }
      ]
    },
    {
      "cell_type": "markdown",
      "source": [
        "Membuat model dengan parameter terbaik"
      ],
      "metadata": {
        "id": "QsKLIUJMC_NQ"
      }
    },
    {
      "cell_type": "code",
      "source": [
        "learning_rate = ab2_best_parameter[\"learning_rate\"]\n",
        "n_estimators = ab2_best_parameter[\"n_estimators\"]\n",
        "\n",
        "ab2_tuning = AdaBoostClassifier(learning_rate=learning_rate, n_estimators=n_estimators)"
      ],
      "metadata": {
        "id": "iMwqfnbAa1Vd"
      },
      "execution_count": null,
      "outputs": []
    },
    {
      "cell_type": "markdown",
      "source": [
        "Cross val akhir"
      ],
      "metadata": {
        "id": "Csez553vDCn0"
      }
    },
    {
      "cell_type": "code",
      "source": [
        "ab2_tuning_acc = cross_val_score(ab2_tuning, X2_train, y2_train, scoring=\"accuracy\", cv=10)\n",
        "print(\"Akurasi masing-masing = \", ab2_tuning_acc)\n",
        "print(\"Rata-rata = \", ab2_tuning_acc.mean())"
      ],
      "metadata": {
        "colab": {
          "base_uri": "https://localhost:8080/"
        },
        "outputId": "e2017cf8-e814-4c79-aa95-eed7914c6b95",
        "id": "TDfjtyJva1Vd"
      },
      "execution_count": null,
      "outputs": [
        {
          "output_type": "stream",
          "name": "stdout",
          "text": [
            "Akurasi masing-masing =  [0.76923077 0.84615385 0.76923077 0.53846154 0.76923077 0.69230769\n",
            " 0.92307692 0.92307692 0.76923077 0.69230769]\n",
            "Rata-rata =  0.7692307692307694\n"
          ]
        }
      ]
    },
    {
      "cell_type": "markdown",
      "source": [
        "### AB3"
      ],
      "metadata": {
        "id": "I-fsz3a0a37S"
      }
    },
    {
      "cell_type": "code",
      "source": [
        "ab3_tuning = AdaBoostClassifier()"
      ],
      "metadata": {
        "id": "h7Zvck61a37U"
      },
      "execution_count": null,
      "outputs": []
    },
    {
      "cell_type": "markdown",
      "source": [
        "Gridsearch (sekitar 3 menit running)"
      ],
      "metadata": {
        "id": "Vitep8Sra37V"
      }
    },
    {
      "cell_type": "code",
      "source": [
        "search_ab3 = GridSearchCV(ab3_tuning,\n",
        "                        parameters_ab,\n",
        "                        scoring='accuracy',\n",
        "                        cv = 10,\n",
        "                        verbose=3)\n",
        "search_ab3.fit(X3_train, y3_train)"
      ],
      "metadata": {
        "colab": {
          "base_uri": "https://localhost:8080/"
        },
        "outputId": "67ae147e-555d-4931-95b9-cdd23fc38718",
        "id": "f6sroNTfa37W"
      },
      "execution_count": null,
      "outputs": [
        {
          "output_type": "stream",
          "name": "stdout",
          "text": [
            "Fitting 10 folds for each of 12 candidates, totalling 120 fits\n",
            "[CV 1/10] END learning_rate=0.01, n_estimators=50;, score=0.615 total time=   0.5s\n",
            "[CV 2/10] END learning_rate=0.01, n_estimators=50;, score=0.692 total time=   0.5s\n",
            "[CV 3/10] END learning_rate=0.01, n_estimators=50;, score=0.692 total time=   0.5s\n",
            "[CV 4/10] END learning_rate=0.01, n_estimators=50;, score=0.615 total time=   0.5s\n",
            "[CV 5/10] END learning_rate=0.01, n_estimators=50;, score=0.538 total time=   0.5s\n",
            "[CV 6/10] END learning_rate=0.01, n_estimators=50;, score=0.769 total time=   0.5s\n",
            "[CV 7/10] END learning_rate=0.01, n_estimators=50;, score=0.923 total time=   0.5s\n",
            "[CV 8/10] END learning_rate=0.01, n_estimators=50;, score=0.846 total time=   0.5s\n",
            "[CV 9/10] END learning_rate=0.01, n_estimators=50;, score=0.769 total time=   0.7s\n",
            "[CV 10/10] END learning_rate=0.01, n_estimators=50;, score=0.615 total time=   0.7s\n",
            "[CV 1/10] END learning_rate=0.01, n_estimators=100;, score=0.692 total time=   1.0s\n",
            "[CV 2/10] END learning_rate=0.01, n_estimators=100;, score=0.615 total time=   1.0s\n",
            "[CV 3/10] END learning_rate=0.01, n_estimators=100;, score=0.615 total time=   1.0s\n",
            "[CV 4/10] END learning_rate=0.01, n_estimators=100;, score=0.615 total time=   1.0s\n",
            "[CV 5/10] END learning_rate=0.01, n_estimators=100;, score=0.538 total time=   1.0s\n",
            "[CV 6/10] END learning_rate=0.01, n_estimators=100;, score=0.769 total time=   1.1s\n",
            "[CV 7/10] END learning_rate=0.01, n_estimators=100;, score=0.769 total time=   1.1s\n",
            "[CV 8/10] END learning_rate=0.01, n_estimators=100;, score=0.923 total time=   1.0s\n",
            "[CV 9/10] END learning_rate=0.01, n_estimators=100;, score=0.769 total time=   1.2s\n",
            "[CV 10/10] END learning_rate=0.01, n_estimators=100;, score=0.615 total time=   1.0s\n",
            "[CV 1/10] END learning_rate=0.01, n_estimators=150;, score=0.692 total time=   1.5s\n",
            "[CV 2/10] END learning_rate=0.01, n_estimators=150;, score=0.615 total time=   1.5s\n",
            "[CV 3/10] END learning_rate=0.01, n_estimators=150;, score=0.615 total time=   1.5s\n",
            "[CV 4/10] END learning_rate=0.01, n_estimators=150;, score=0.615 total time=   1.6s\n",
            "[CV 5/10] END learning_rate=0.01, n_estimators=150;, score=0.538 total time=   1.6s\n",
            "[CV 6/10] END learning_rate=0.01, n_estimators=150;, score=0.692 total time=   1.6s\n",
            "[CV 7/10] END learning_rate=0.01, n_estimators=150;, score=0.769 total time=   1.6s\n",
            "[CV 8/10] END learning_rate=0.01, n_estimators=150;, score=0.923 total time=   1.5s\n",
            "[CV 9/10] END learning_rate=0.01, n_estimators=150;, score=0.769 total time=   1.5s\n",
            "[CV 10/10] END learning_rate=0.01, n_estimators=150;, score=0.692 total time=   1.6s\n",
            "[CV 1/10] END learning_rate=0.01, n_estimators=200;, score=0.615 total time=   2.1s\n",
            "[CV 2/10] END learning_rate=0.01, n_estimators=200;, score=0.692 total time=   2.1s\n",
            "[CV 3/10] END learning_rate=0.01, n_estimators=200;, score=0.615 total time=   2.0s\n",
            "[CV 4/10] END learning_rate=0.01, n_estimators=200;, score=0.538 total time=   2.1s\n",
            "[CV 5/10] END learning_rate=0.01, n_estimators=200;, score=0.385 total time=   2.1s\n",
            "[CV 6/10] END learning_rate=0.01, n_estimators=200;, score=0.692 total time=   2.0s\n",
            "[CV 7/10] END learning_rate=0.01, n_estimators=200;, score=0.846 total time=   2.1s\n",
            "[CV 8/10] END learning_rate=0.01, n_estimators=200;, score=0.923 total time=   2.1s\n",
            "[CV 9/10] END learning_rate=0.01, n_estimators=200;, score=0.769 total time=   2.1s\n",
            "[CV 10/10] END learning_rate=0.01, n_estimators=200;, score=0.692 total time=   2.1s\n",
            "[CV 1/10] END learning_rate=0.1, n_estimators=50;, score=0.615 total time=   0.5s\n",
            "[CV 2/10] END learning_rate=0.1, n_estimators=50;, score=0.769 total time=   0.5s\n",
            "[CV 3/10] END learning_rate=0.1, n_estimators=50;, score=0.615 total time=   0.5s\n",
            "[CV 4/10] END learning_rate=0.1, n_estimators=50;, score=0.385 total time=   0.5s\n",
            "[CV 5/10] END learning_rate=0.1, n_estimators=50;, score=0.462 total time=   0.5s\n",
            "[CV 6/10] END learning_rate=0.1, n_estimators=50;, score=0.615 total time=   0.5s\n",
            "[CV 7/10] END learning_rate=0.1, n_estimators=50;, score=0.846 total time=   0.5s\n",
            "[CV 8/10] END learning_rate=0.1, n_estimators=50;, score=0.923 total time=   0.5s\n",
            "[CV 9/10] END learning_rate=0.1, n_estimators=50;, score=0.846 total time=   0.5s\n",
            "[CV 10/10] END learning_rate=0.1, n_estimators=50;, score=0.462 total time=   0.5s\n",
            "[CV 1/10] END learning_rate=0.1, n_estimators=100;, score=0.692 total time=   1.0s\n",
            "[CV 2/10] END learning_rate=0.1, n_estimators=100;, score=0.769 total time=   1.0s\n",
            "[CV 3/10] END learning_rate=0.1, n_estimators=100;, score=0.692 total time=   1.0s\n",
            "[CV 4/10] END learning_rate=0.1, n_estimators=100;, score=0.385 total time=   1.0s\n",
            "[CV 5/10] END learning_rate=0.1, n_estimators=100;, score=0.538 total time=   1.1s\n",
            "[CV 6/10] END learning_rate=0.1, n_estimators=100;, score=0.692 total time=   1.1s\n",
            "[CV 7/10] END learning_rate=0.1, n_estimators=100;, score=0.846 total time=   1.1s\n",
            "[CV 8/10] END learning_rate=0.1, n_estimators=100;, score=0.923 total time=   1.1s\n",
            "[CV 9/10] END learning_rate=0.1, n_estimators=100;, score=0.769 total time=   1.1s\n",
            "[CV 10/10] END learning_rate=0.1, n_estimators=100;, score=0.462 total time=   1.4s\n",
            "[CV 1/10] END learning_rate=0.1, n_estimators=150;, score=0.692 total time=   1.8s\n",
            "[CV 2/10] END learning_rate=0.1, n_estimators=150;, score=0.692 total time=   1.6s\n",
            "[CV 3/10] END learning_rate=0.1, n_estimators=150;, score=0.769 total time=   1.6s\n",
            "[CV 4/10] END learning_rate=0.1, n_estimators=150;, score=0.385 total time=   1.6s\n",
            "[CV 5/10] END learning_rate=0.1, n_estimators=150;, score=0.615 total time=   1.5s\n",
            "[CV 6/10] END learning_rate=0.1, n_estimators=150;, score=0.769 total time=   1.5s\n",
            "[CV 7/10] END learning_rate=0.1, n_estimators=150;, score=0.769 total time=   1.6s\n",
            "[CV 8/10] END learning_rate=0.1, n_estimators=150;, score=0.846 total time=   1.5s\n",
            "[CV 9/10] END learning_rate=0.1, n_estimators=150;, score=0.769 total time=   1.6s\n",
            "[CV 10/10] END learning_rate=0.1, n_estimators=150;, score=0.462 total time=   1.6s\n",
            "[CV 1/10] END learning_rate=0.1, n_estimators=200;, score=0.615 total time=   2.1s\n",
            "[CV 2/10] END learning_rate=0.1, n_estimators=200;, score=0.692 total time=   2.1s\n",
            "[CV 3/10] END learning_rate=0.1, n_estimators=200;, score=0.769 total time=   2.1s\n",
            "[CV 4/10] END learning_rate=0.1, n_estimators=200;, score=0.385 total time=   2.1s\n",
            "[CV 5/10] END learning_rate=0.1, n_estimators=200;, score=0.538 total time=   2.1s\n",
            "[CV 6/10] END learning_rate=0.1, n_estimators=200;, score=0.692 total time=   2.1s\n",
            "[CV 7/10] END learning_rate=0.1, n_estimators=200;, score=0.769 total time=   2.1s\n",
            "[CV 8/10] END learning_rate=0.1, n_estimators=200;, score=0.846 total time=   2.1s\n",
            "[CV 9/10] END learning_rate=0.1, n_estimators=200;, score=0.769 total time=   2.1s\n",
            "[CV 10/10] END learning_rate=0.1, n_estimators=200;, score=0.538 total time=   2.0s\n",
            "[CV 1/10] END .learning_rate=1, n_estimators=50;, score=0.769 total time=   0.5s\n",
            "[CV 2/10] END .learning_rate=1, n_estimators=50;, score=0.692 total time=   0.5s\n",
            "[CV 3/10] END .learning_rate=1, n_estimators=50;, score=0.615 total time=   0.5s\n",
            "[CV 4/10] END .learning_rate=1, n_estimators=50;, score=0.385 total time=   0.5s\n",
            "[CV 5/10] END .learning_rate=1, n_estimators=50;, score=0.538 total time=   0.5s\n",
            "[CV 6/10] END .learning_rate=1, n_estimators=50;, score=0.615 total time=   0.5s\n",
            "[CV 7/10] END .learning_rate=1, n_estimators=50;, score=0.769 total time=   0.5s\n",
            "[CV 8/10] END .learning_rate=1, n_estimators=50;, score=0.923 total time=   0.5s\n",
            "[CV 9/10] END .learning_rate=1, n_estimators=50;, score=0.846 total time=   0.5s\n",
            "[CV 10/10] END learning_rate=1, n_estimators=50;, score=0.615 total time=   0.5s\n",
            "[CV 1/10] END learning_rate=1, n_estimators=100;, score=0.692 total time=   1.1s\n",
            "[CV 2/10] END learning_rate=1, n_estimators=100;, score=0.769 total time=   1.0s\n",
            "[CV 3/10] END learning_rate=1, n_estimators=100;, score=0.615 total time=   1.1s\n",
            "[CV 4/10] END learning_rate=1, n_estimators=100;, score=0.385 total time=   1.1s\n",
            "[CV 5/10] END learning_rate=1, n_estimators=100;, score=0.538 total time=   1.0s\n",
            "[CV 6/10] END learning_rate=1, n_estimators=100;, score=0.615 total time=   1.1s\n",
            "[CV 7/10] END learning_rate=1, n_estimators=100;, score=0.769 total time=   1.0s\n",
            "[CV 8/10] END learning_rate=1, n_estimators=100;, score=0.846 total time=   1.0s\n",
            "[CV 9/10] END learning_rate=1, n_estimators=100;, score=0.846 total time=   1.0s\n",
            "[CV 10/10] END learning_rate=1, n_estimators=100;, score=0.769 total time=   1.0s\n",
            "[CV 1/10] END learning_rate=1, n_estimators=150;, score=0.769 total time=   1.5s\n",
            "[CV 2/10] END learning_rate=1, n_estimators=150;, score=0.615 total time=   1.5s\n",
            "[CV 3/10] END learning_rate=1, n_estimators=150;, score=0.692 total time=   1.5s\n",
            "[CV 4/10] END learning_rate=1, n_estimators=150;, score=0.385 total time=   1.6s\n",
            "[CV 5/10] END learning_rate=1, n_estimators=150;, score=0.538 total time=   1.6s\n",
            "[CV 6/10] END learning_rate=1, n_estimators=150;, score=0.538 total time=   1.6s\n",
            "[CV 7/10] END learning_rate=1, n_estimators=150;, score=0.846 total time=   1.6s\n",
            "[CV 8/10] END learning_rate=1, n_estimators=150;, score=0.846 total time=   1.5s\n",
            "[CV 9/10] END learning_rate=1, n_estimators=150;, score=0.923 total time=   1.6s\n",
            "[CV 10/10] END learning_rate=1, n_estimators=150;, score=0.692 total time=   1.5s\n",
            "[CV 1/10] END learning_rate=1, n_estimators=200;, score=0.538 total time=   2.1s\n",
            "[CV 2/10] END learning_rate=1, n_estimators=200;, score=0.769 total time=   2.1s\n",
            "[CV 3/10] END learning_rate=1, n_estimators=200;, score=0.692 total time=   2.1s\n",
            "[CV 4/10] END learning_rate=1, n_estimators=200;, score=0.538 total time=   2.1s\n",
            "[CV 5/10] END learning_rate=1, n_estimators=200;, score=0.462 total time=   2.1s\n",
            "[CV 6/10] END learning_rate=1, n_estimators=200;, score=0.538 total time=   2.0s\n",
            "[CV 7/10] END learning_rate=1, n_estimators=200;, score=0.769 total time=   2.1s\n",
            "[CV 8/10] END learning_rate=1, n_estimators=200;, score=0.846 total time=   2.0s\n",
            "[CV 9/10] END learning_rate=1, n_estimators=200;, score=0.923 total time=   2.1s\n",
            "[CV 10/10] END learning_rate=1, n_estimators=200;, score=0.615 total time=   2.0s\n"
          ]
        },
        {
          "output_type": "execute_result",
          "data": {
            "text/plain": [
              "GridSearchCV(cv=10, estimator=AdaBoostClassifier(),\n",
              "             param_grid={'learning_rate': [0.01, 0.1, 1],\n",
              "                         'n_estimators': [50, 100, 150, 200]},\n",
              "             scoring='accuracy', verbose=3)"
            ]
          },
          "metadata": {},
          "execution_count": 30
        }
      ]
    },
    {
      "cell_type": "markdown",
      "source": [
        "Akurasi dan parameter terbaik pada Gridsearch"
      ],
      "metadata": {
        "id": "19W6A1lyDFaj"
      }
    },
    {
      "cell_type": "code",
      "source": [
        "ab3_best_acc_score = search_ab3.best_score_\n",
        "ab3_best_parameter = search_ab3.best_params_\n",
        "print(\"Akurasi terbaik = \", ab3_best_acc_score)\n",
        "print(\"Parameter terbaik = \", ab3_best_parameter)"
      ],
      "metadata": {
        "colab": {
          "base_uri": "https://localhost:8080/"
        },
        "outputId": "d638eee1-f062-48f1-de67-e64ef053964f",
        "id": "O4kknkvUa37X"
      },
      "execution_count": null,
      "outputs": [
        {
          "output_type": "stream",
          "name": "stdout",
          "text": [
            "Akurasi terbaik =  0.7076923076923076\n",
            "Parameter terbaik =  {'learning_rate': 0.01, 'n_estimators': 50}\n"
          ]
        }
      ]
    },
    {
      "cell_type": "markdown",
      "source": [
        "Membuat model dengan parameter terbaik"
      ],
      "metadata": {
        "id": "kia9yVYwDJM8"
      }
    },
    {
      "cell_type": "code",
      "source": [
        "learning_rate = ab3_best_parameter[\"learning_rate\"]\n",
        "n_estimators = ab3_best_parameter[\"n_estimators\"]\n",
        "\n",
        "ab3_tuning = AdaBoostClassifier(learning_rate=learning_rate, n_estimators=n_estimators)"
      ],
      "metadata": {
        "id": "mseUNeiaa37Y"
      },
      "execution_count": null,
      "outputs": []
    },
    {
      "cell_type": "markdown",
      "source": [
        "Cross val score"
      ],
      "metadata": {
        "id": "R86Wo7VqDLFl"
      }
    },
    {
      "cell_type": "code",
      "source": [
        "ab3_tuning_acc = cross_val_score(ab3_tuning, X3_train, y3_train, scoring=\"accuracy\", cv=10)\n",
        "print(\"Akurasi masing-masing = \", ab3_tuning_acc)\n",
        "print(\"Rata-rata = \", ab3_tuning_acc.mean())"
      ],
      "metadata": {
        "colab": {
          "base_uri": "https://localhost:8080/"
        },
        "outputId": "d62542d6-c9d1-4527-ce6d-b3b1a1d4fca7",
        "id": "zfevSad1a37Z"
      },
      "execution_count": null,
      "outputs": [
        {
          "output_type": "stream",
          "name": "stdout",
          "text": [
            "Akurasi masing-masing =  [0.61538462 0.69230769 0.69230769 0.61538462 0.53846154 0.76923077\n",
            " 0.92307692 0.84615385 0.76923077 0.61538462]\n",
            "Rata-rata =  0.7076923076923076\n"
          ]
        }
      ]
    },
    {
      "cell_type": "markdown",
      "source": [
        "## Non Tuning vs Tuning"
      ],
      "metadata": {
        "id": "odbNyQ6TfsgY"
      }
    },
    {
      "cell_type": "markdown",
      "source": [
        "Melihat model yang dipilih"
      ],
      "metadata": {
        "id": "Gu296BjoDOId"
      }
    },
    {
      "cell_type": "code",
      "source": [
        "model_yang_dipilih = \"\"\n",
        "\n",
        "if (ab1_tuning_acc.mean() > ab1_non_tuning_acc.mean()):\n",
        "  ab1_model = ab1_tuning\n",
        "  model_yang_dipilih += \"AB1 Tuning, \"\n",
        "else:\n",
        "  ab1_model = ab1_non_tuning\n",
        "  model_yang_dipilih += \"AB1 Non Tuning, \"\n",
        "\n",
        "if (ab2_tuning_acc.mean() > ab2_non_tuning_acc.mean()):\n",
        "  ab2_model = ab2_tuning\n",
        "  model_yang_dipilih += \"AB2 Tuning, \"\n",
        "else:\n",
        "  ab2_model = ab2_non_tuning\n",
        "  model_yang_dipilih += \"AB2 Non Tuning, \"\n",
        "\n",
        "if (ab3_tuning_acc.mean() > ab3_non_tuning_acc.mean()):\n",
        "  ab3_model = ab3_tuning\n",
        "  model_yang_dipilih += \"AB3 Tuning\"\n",
        "else:\n",
        "  ab3_model = ab3_non_tuning\n",
        "  model_yang_dipilih += \"AB3 Non Tuning\"\n",
        "\n",
        "print(\"Model yang dipilih = \", model_yang_dipilih)"
      ],
      "metadata": {
        "colab": {
          "base_uri": "https://localhost:8080/"
        },
        "id": "dS_D5TKWfvXA",
        "outputId": "b56cbc76-6b31-487b-fb22-16682d1c3b0f"
      },
      "execution_count": null,
      "outputs": [
        {
          "output_type": "stream",
          "name": "stdout",
          "text": [
            "Model yang dipilih =  AB1 Tuning, AB2 Tuning, AB3 Tuning\n"
          ]
        }
      ]
    },
    {
      "cell_type": "markdown",
      "source": [
        "Visualisasi perbandingan tuning vs non-tuning"
      ],
      "metadata": {
        "id": "GRPF1kBGDQ3o"
      }
    },
    {
      "cell_type": "code",
      "source": [
        "def addlabels(x,y,z):\n",
        "    for i in range(len(x)):\n",
        "      plt.text(i, x[i]+0.02, format(x[i], \".3f\"), ha = 'center')\n",
        "      plt.text(i+0.25, y[i]+0.02, format(y[i], \".3f\"), ha = 'center')\n",
        "      plt.text(i+0.5, z[i]+0.02, format(z[i], \".3f\"), ha = 'center')"
      ],
      "metadata": {
        "id": "6Y1-HLG5nMbG"
      },
      "execution_count": null,
      "outputs": []
    },
    {
      "cell_type": "code",
      "source": [
        "N = 3\n",
        "ind = np.arange(N) \n",
        "width = 0.25\n",
        "\n",
        "plt.figure(figsize=(8,9))\n",
        "non_tuning_acc = [ab1_non_tuning_acc.mean(),  ab2_non_tuning_acc.mean(),  ab3_non_tuning_acc.mean()]\n",
        "bar1 = plt.bar(ind, non_tuning_acc, width, color='goldenrod')\n",
        "  \n",
        "tuning_acc = [ab1_tuning_acc.mean(),  ab2_tuning_acc.mean(),  ab3_tuning_acc.mean()]\n",
        "bar2 = plt.bar(ind+width, tuning_acc, width, color='forestgreen')\n",
        "\n",
        "selisih = []\n",
        "for i in range(0, len(non_tuning_acc)):\n",
        "  selisih.append(np.abs(non_tuning_acc[i]-tuning_acc[i]))\n",
        "\n",
        "bar3 = plt.bar(ind+width*2, selisih, width, color = 'firebrick')\n",
        "\n",
        "addlabels(non_tuning_acc, tuning_acc, selisih)\n",
        "plt.xlabel(\"Model\")\n",
        "plt.ylabel('Accuracy')\n",
        "plt.ylim([0,0.9])\n",
        "\n",
        "plt.xticks(ind+width,['AB1', 'AB2', 'AB3'])\n",
        "plt.legend( (bar1, bar2, bar3), ('Non Tuned', 'Tuned', 'Difference') )\n",
        "plt.show()"
      ],
      "metadata": {
        "colab": {
          "base_uri": "https://localhost:8080/",
          "height": 558
        },
        "id": "yvHZaVK-jgMu",
        "outputId": "9735578d-bcdd-4d62-a298-96524dbddf28"
      },
      "execution_count": null,
      "outputs": [
        {
          "output_type": "display_data",
          "data": {
            "text/plain": [
              "<Figure size 576x648 with 1 Axes>"
            ],
            "image/png": "[encoded data removed]"
          },
          "metadata": {}
        }
      ]
    },
    {
      "cell_type": "markdown",
      "source": [
        "## Export"
      ],
      "metadata": {
        "id": "pDHT8dd3V_gI"
      }
    },
    {
      "cell_type": "markdown",
      "source": [
        "Export model"
      ],
      "metadata": {
        "id": "ZmTKnykxWRPT"
      }
    },
    {
      "cell_type": "code",
      "source": [
        "joblib.dump(ab1_model, 'ab1_model.pkl')\n",
        "joblib.dump(ab2_model, 'ab2_model.pkl')\n",
        "joblib.dump(ab3_model, 'ab3_model.pkl')"
      ],
      "metadata": {
        "colab": {
          "base_uri": "https://localhost:8080/"
        },
        "id": "G0JH6m0UWBN6",
        "outputId": "76c29b88-332b-432b-b500-5f1e88b6ef01"
      },
      "execution_count": null,
      "outputs": [
        {
          "output_type": "execute_result",
          "data": {
            "text/plain": [
              "['ab3_model.pkl']"
            ]
          },
          "metadata": {},
          "execution_count": 38
        }
      ]
    }
  ]
}