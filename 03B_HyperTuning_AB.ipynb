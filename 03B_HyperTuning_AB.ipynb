{
  "nbformat": 4,
  "nbformat_minor": 0,
  "metadata": {
    "colab": {
      "name": "03B.HyperTuning-AB.ipynb",
      "provenance": [],
      "collapsed_sections": [
        "EIq2jbKU15dq"
      ]
    },
    "kernelspec": {
      "name": "python3",
      "display_name": "Python 3"
    },
    "language_info": {
      "name": "python"
    }
  },
  "cells": [
    {
      "cell_type": "markdown",
      "source": [
        "<h2><b>Input : </b></h2>\n",
        "\n",
        "*   train_microarray.csv\n",
        "*   ab1_features.pkl\n",
        "*   ab2_features.pkl\n",
        "*   ab3_features.pkl\n",
        "\n",
        "<h2><b>Output : </b></h2>\n",
        "\n",
        "*   ab1_model.pkl\n",
        "*   ab2_model.pkl\n",
        "*   ab3_model.pkl"
      ],
      "metadata": {
        "id": "eeijAryBPe-L"
      }
    },
    {
      "cell_type": "markdown",
      "source": [
        "# Run All"
      ],
      "metadata": {
        "id": "Q2nVT3qquJVX"
      }
    },
    {
      "cell_type": "markdown",
      "source": [
        "## Import dan Load"
      ],
      "metadata": {
        "id": "VPPsV-sQuLvC"
      }
    },
    {
      "cell_type": "markdown",
      "source": [
        "Import library yang diperlukan"
      ],
      "metadata": {
        "id": "mRxAAnfBUWcu"
      }
    },
    {
      "cell_type": "code",
      "execution_count": null,
      "metadata": {
        "id": "s3Tq4Rn-tAih"
      },
      "outputs": [],
      "source": [
        "import pandas as pd\n",
        "import numpy as np\n",
        "\n",
        "from sklearn.ensemble import AdaBoostClassifier\n",
        "from sklearn.model_selection import GridSearchCV, cross_val_score\n",
        "\n",
        "import matplotlib as mpl\n",
        "import matplotlib.pyplot as plt\n",
        "%matplotlib inline\n",
        "from matplotlib import rcParams\n",
        "\n",
        "import joblib"
      ]
    },
    {
      "cell_type": "markdown",
      "source": [
        "Mengatur Style"
      ],
      "metadata": {
        "id": "0ukTTQg6j0lA"
      }
    },
    {
      "cell_type": "code",
      "source": [
        "rcParams['figure.figsize'] = 15, 8\n",
        "mpl.style.use(['ggplot'])"
      ],
      "metadata": {
        "id": "In2laP_Cjz4E"
      },
      "execution_count": null,
      "outputs": []
    },
    {
      "cell_type": "markdown",
      "source": [
        "Load data train"
      ],
      "metadata": {
        "id": "pcKdyCcpUZQq"
      }
    },
    {
      "cell_type": "code",
      "source": [
        "df_train = pd.read_csv('https://drive.google.com/uc?id=1_r9KdY3hz2zVtCD6VZs2nHrnXBGbia8v')"
      ],
      "metadata": {
        "id": "EnX3N48tub-k"
      },
      "execution_count": null,
      "outputs": []
    },
    {
      "cell_type": "markdown",
      "source": [
        "Load hasil seleksi fitur"
      ],
      "metadata": {
        "id": "mgu-uM6KUfKP"
      }
    },
    {
      "cell_type": "code",
      "source": [
        "ab1_features = joblib.load('ab1_features.pkl')\n",
        "ab2_features = joblib.load('ab2_features.pkl')\n",
        "ab3_features = joblib.load('ab3_features.pkl')"
      ],
      "metadata": {
        "id": "H9AW_8vdmKM3"
      },
      "execution_count": null,
      "outputs": []
    },
    {
      "cell_type": "markdown",
      "source": [
        "Df_train dengan fitur 1"
      ],
      "metadata": {
        "id": "k_H4f1LuUl-C"
      }
    },
    {
      "cell_type": "code",
      "source": [
        "df_train1 = df_train[ab1_features]\n",
        "df_train1.head()"
      ],
      "metadata": {
        "colab": {
          "base_uri": "https://localhost:8080/",
          "height": 300
        },
        "id": "iei5Qvs3ut0G",
        "outputId": "cd7c1bd9-cc7c-41fd-b8a6-455b3e60d914"
      },
      "execution_count": null,
      "outputs": [
        {
          "output_type": "execute_result",
          "data": {
            "text/plain": [
              "   219678_x_at  217653_x_at  211996_s_at  214594_x_at  218155_x_at  \\\n",
              "0     2.672850     2.223647     2.894223     2.730180     2.708516   \n",
              "1     2.641439     2.350872     3.042087     2.856150     2.800348   \n",
              "2     2.510368     1.996011     2.624352     2.491994     2.648607   \n",
              "3     2.747069     2.666440     2.893101     2.998907     2.992614   \n",
              "4     2.785209     2.600757     3.116527     2.977250     2.859183   \n",
              "\n",
              "   207730_x_at  216609_at  207953_at  217679_x_at  210168_at  ...  \\\n",
              "0     3.043026   2.318040   2.462324     2.748249   2.698125  ...   \n",
              "1     3.129235   2.306733   2.476773     2.884853   2.293900  ...   \n",
              "2     2.921754   2.231919   2.371051     2.482992   2.399431  ...   \n",
              "3     3.307086   1.966337   2.863540     3.172937   2.521457  ...   \n",
              "4     3.216666   2.424350   2.650209     2.929251   2.155440  ...   \n",
              "\n",
              "   206544_x_at  200598_s_at  212515_s_at  213872_at  202435_s_at  211505_s_at  \\\n",
              "0     2.584677     2.614547     2.459196   2.371555     1.859862     2.449663   \n",
              "1     2.541014     2.464834     2.651054   2.249695     1.991560     2.262768   \n",
              "2     2.408422     2.665663     2.371579   2.046329     2.353558     2.198965   \n",
              "3     2.314931     2.019661     2.192755   2.209179     1.973821     1.916729   \n",
              "4     2.305571     2.192273     2.404168   2.183277     2.610495     1.939796   \n",
              "\n",
              "   40665_at  208654_s_at  202817_s_at  Label  \n",
              "0  2.464299     2.940958     2.116067    1.0  \n",
              "1  2.172416     2.875015     2.354635    0.0  \n",
              "2  2.246445     2.710852     1.743328    1.0  \n",
              "3  1.719003     2.110986     1.904847    1.0  \n",
              "4  1.736053     2.456737     1.935020    0.0  \n",
              "\n",
              "[5 rows x 201 columns]"
            ],
            "text/html": [
              "\n",
              "  <div id=\"df-260afbde-b242-482b-a9e7-41153f4f6639\">\n",
              "    <div class=\"colab-df-container\">\n",
              "      <div>\n",
              "<style scoped>\n",
              "    .dataframe tbody tr th:only-of-type {\n",
              "        vertical-align: middle;\n",
              "    }\n",
              "\n",
              "    .dataframe tbody tr th {\n",
              "        vertical-align: top;\n",
              "    }\n",
              "\n",
              "    .dataframe thead th {\n",
              "        text-align: right;\n",
              "    }\n",
              "</style>\n",
              "<table border=\"1\" class=\"dataframe\">\n",
              "  <thead>\n",
              "    <tr style=\"text-align: right;\">\n",
              "      <th></th>\n",
              "      <th>219678_x_at</th>\n",
              "      <th>217653_x_at</th>\n",
              "      <th>211996_s_at</th>\n",
              "      <th>214594_x_at</th>\n",
              "      <th>218155_x_at</th>\n",
              "      <th>207730_x_at</th>\n",
              "      <th>216609_at</th>\n",
              "      <th>207953_at</th>\n",
              "      <th>217679_x_at</th>\n",
              "      <th>210168_at</th>\n",
              "      <th>...</th>\n",
              "      <th>206544_x_at</th>\n",
              "      <th>200598_s_at</th>\n",
              "      <th>212515_s_at</th>\n",
              "      <th>213872_at</th>\n",
              "      <th>202435_s_at</th>\n",
              "      <th>211505_s_at</th>\n",
              "      <th>40665_at</th>\n",
              "      <th>208654_s_at</th>\n",
              "      <th>202817_s_at</th>\n",
              "      <th>Label</th>\n",
              "    </tr>\n",
              "  </thead>\n",
              "  <tbody>\n",
              "    <tr>\n",
              "      <th>0</th>\n",
              "      <td>2.672850</td>\n",
              "      <td>2.223647</td>\n",
              "      <td>2.894223</td>\n",
              "      <td>2.730180</td>\n",
              "      <td>2.708516</td>\n",
              "      <td>3.043026</td>\n",
              "      <td>2.318040</td>\n",
              "      <td>2.462324</td>\n",
              "      <td>2.748249</td>\n",
              "      <td>2.698125</td>\n",
              "      <td>...</td>\n",
              "      <td>2.584677</td>\n",
              "      <td>2.614547</td>\n",
              "      <td>2.459196</td>\n",
              "      <td>2.371555</td>\n",
              "      <td>1.859862</td>\n",
              "      <td>2.449663</td>\n",
              "      <td>2.464299</td>\n",
              "      <td>2.940958</td>\n",
              "      <td>2.116067</td>\n",
              "      <td>1.0</td>\n",
              "    </tr>\n",
              "    <tr>\n",
              "      <th>1</th>\n",
              "      <td>2.641439</td>\n",
              "      <td>2.350872</td>\n",
              "      <td>3.042087</td>\n",
              "      <td>2.856150</td>\n",
              "      <td>2.800348</td>\n",
              "      <td>3.129235</td>\n",
              "      <td>2.306733</td>\n",
              "      <td>2.476773</td>\n",
              "      <td>2.884853</td>\n",
              "      <td>2.293900</td>\n",
              "      <td>...</td>\n",
              "      <td>2.541014</td>\n",
              "      <td>2.464834</td>\n",
              "      <td>2.651054</td>\n",
              "      <td>2.249695</td>\n",
              "      <td>1.991560</td>\n",
              "      <td>2.262768</td>\n",
              "      <td>2.172416</td>\n",
              "      <td>2.875015</td>\n",
              "      <td>2.354635</td>\n",
              "      <td>0.0</td>\n",
              "    </tr>\n",
              "    <tr>\n",
              "      <th>2</th>\n",
              "      <td>2.510368</td>\n",
              "      <td>1.996011</td>\n",
              "      <td>2.624352</td>\n",
              "      <td>2.491994</td>\n",
              "      <td>2.648607</td>\n",
              "      <td>2.921754</td>\n",
              "      <td>2.231919</td>\n",
              "      <td>2.371051</td>\n",
              "      <td>2.482992</td>\n",
              "      <td>2.399431</td>\n",
              "      <td>...</td>\n",
              "      <td>2.408422</td>\n",
              "      <td>2.665663</td>\n",
              "      <td>2.371579</td>\n",
              "      <td>2.046329</td>\n",
              "      <td>2.353558</td>\n",
              "      <td>2.198965</td>\n",
              "      <td>2.246445</td>\n",
              "      <td>2.710852</td>\n",
              "      <td>1.743328</td>\n",
              "      <td>1.0</td>\n",
              "    </tr>\n",
              "    <tr>\n",
              "      <th>3</th>\n",
              "      <td>2.747069</td>\n",
              "      <td>2.666440</td>\n",
              "      <td>2.893101</td>\n",
              "      <td>2.998907</td>\n",
              "      <td>2.992614</td>\n",
              "      <td>3.307086</td>\n",
              "      <td>1.966337</td>\n",
              "      <td>2.863540</td>\n",
              "      <td>3.172937</td>\n",
              "      <td>2.521457</td>\n",
              "      <td>...</td>\n",
              "      <td>2.314931</td>\n",
              "      <td>2.019661</td>\n",
              "      <td>2.192755</td>\n",
              "      <td>2.209179</td>\n",
              "      <td>1.973821</td>\n",
              "      <td>1.916729</td>\n",
              "      <td>1.719003</td>\n",
              "      <td>2.110986</td>\n",
              "      <td>1.904847</td>\n",
              "      <td>1.0</td>\n",
              "    </tr>\n",
              "    <tr>\n",
              "      <th>4</th>\n",
              "      <td>2.785209</td>\n",
              "      <td>2.600757</td>\n",
              "      <td>3.116527</td>\n",
              "      <td>2.977250</td>\n",
              "      <td>2.859183</td>\n",
              "      <td>3.216666</td>\n",
              "      <td>2.424350</td>\n",
              "      <td>2.650209</td>\n",
              "      <td>2.929251</td>\n",
              "      <td>2.155440</td>\n",
              "      <td>...</td>\n",
              "      <td>2.305571</td>\n",
              "      <td>2.192273</td>\n",
              "      <td>2.404168</td>\n",
              "      <td>2.183277</td>\n",
              "      <td>2.610495</td>\n",
              "      <td>1.939796</td>\n",
              "      <td>1.736053</td>\n",
              "      <td>2.456737</td>\n",
              "      <td>1.935020</td>\n",
              "      <td>0.0</td>\n",
              "    </tr>\n",
              "  </tbody>\n",
              "</table>\n",
              "<p>5 rows × 201 columns</p>\n",
              "</div>\n",
              "      <button class=\"colab-df-convert\" onclick=\"convertToInteractive('df-260afbde-b242-482b-a9e7-41153f4f6639')\"\n",
              "              title=\"Convert this dataframe to an interactive table.\"\n",
              "              style=\"display:none;\">\n",
              "        \n",
              "  <svg xmlns=\"http://www.w3.org/2000/svg\" height=\"24px\"viewBox=\"0 0 24 24\"\n",
              "       width=\"24px\">\n",
              "    <path d=\"M0 0h24v24H0V0z\" fill=\"none\"/>\n",
              "    <path d=\"M18.56 5.44l.94 2.06.94-2.06 2.06-.94-2.06-.94-.94-2.06-.94 2.06-2.06.94zm-11 1L8.5 8.5l.94-2.06 2.06-.94-2.06-.94L8.5 2.5l-.94 2.06-2.06.94zm10 10l.94 2.06.94-2.06 2.06-.94-2.06-.94-.94-2.06-.94 2.06-2.06.94z\"/><path d=\"M17.41 7.96l-1.37-1.37c-.4-.4-.92-.59-1.43-.59-.52 0-1.04.2-1.43.59L10.3 9.45l-7.72 7.72c-.78.78-.78 2.05 0 2.83L4 21.41c.39.39.9.59 1.41.59.51 0 1.02-.2 1.41-.59l7.78-7.78 2.81-2.81c.8-.78.8-2.07 0-2.86zM5.41 20L4 18.59l7.72-7.72 1.47 1.35L5.41 20z\"/>\n",
              "  </svg>\n",
              "      </button>\n",
              "      \n",
              "  <style>\n",
              "    .colab-df-container {\n",
              "      display:flex;\n",
              "      flex-wrap:wrap;\n",
              "      gap: 12px;\n",
              "    }\n",
              "\n",
              "    .colab-df-convert {\n",
              "      background-color: #E8F0FE;\n",
              "      border: none;\n",
              "      border-radius: 50%;\n",
              "      cursor: pointer;\n",
              "      display: none;\n",
              "      fill: #1967D2;\n",
              "      height: 32px;\n",
              "      padding: 0 0 0 0;\n",
              "      width: 32px;\n",
              "    }\n",
              "\n",
              "    .colab-df-convert:hover {\n",
              "      background-color: #E2EBFA;\n",
              "      box-shadow: 0px 1px 2px rgba(60, 64, 67, 0.3), 0px 1px 3px 1px rgba(60, 64, 67, 0.15);\n",
              "      fill: #174EA6;\n",
              "    }\n",
              "\n",
              "    [theme=dark] .colab-df-convert {\n",
              "      background-color: #3B4455;\n",
              "      fill: #D2E3FC;\n",
              "    }\n",
              "\n",
              "    [theme=dark] .colab-df-convert:hover {\n",
              "      background-color: #434B5C;\n",
              "      box-shadow: 0px 1px 3px 1px rgba(0, 0, 0, 0.15);\n",
              "      filter: drop-shadow(0px 1px 2px rgba(0, 0, 0, 0.3));\n",
              "      fill: #FFFFFF;\n",
              "    }\n",
              "  </style>\n",
              "\n",
              "      <script>\n",
              "        const buttonEl =\n",
              "          document.querySelector('#df-260afbde-b242-482b-a9e7-41153f4f6639 button.colab-df-convert');\n",
              "        buttonEl.style.display =\n",
              "          google.colab.kernel.accessAllowed ? 'block' : 'none';\n",
              "\n",
              "        async function convertToInteractive(key) {\n",
              "          const element = document.querySelector('#df-260afbde-b242-482b-a9e7-41153f4f6639');\n",
              "          const dataTable =\n",
              "            await google.colab.kernel.invokeFunction('convertToInteractive',\n",
              "                                                     [key], {});\n",
              "          if (!dataTable) return;\n",
              "\n",
              "          const docLinkHtml = 'Like what you see? Visit the ' +\n",
              "            '<a target=\"_blank\" href=https://colab.research.google.com/notebooks/data_table.ipynb>data table notebook</a>'\n",
              "            + ' to learn more about interactive tables.';\n",
              "          element.innerHTML = '';\n",
              "          dataTable['output_type'] = 'display_data';\n",
              "          await google.colab.output.renderOutput(dataTable, element);\n",
              "          const docLink = document.createElement('div');\n",
              "          docLink.innerHTML = docLinkHtml;\n",
              "          element.appendChild(docLink);\n",
              "        }\n",
              "      </script>\n",
              "    </div>\n",
              "  </div>\n",
              "  "
            ]
          },
          "metadata": {},
          "execution_count": 5
        }
      ]
    },
    {
      "cell_type": "markdown",
      "source": [
        "Df_train dengan fitur 2"
      ],
      "metadata": {
        "id": "isfgGz66WG5P"
      }
    },
    {
      "cell_type": "code",
      "source": [
        "df_train2 = df_train[ab2_features]\n",
        "df_train2.head()"
      ],
      "metadata": {
        "colab": {
          "base_uri": "https://localhost:8080/",
          "height": 300
        },
        "id": "836DjPzPUNTi",
        "outputId": "31f19d38-9c86-4164-a1cb-b35b6547c8da"
      },
      "execution_count": null,
      "outputs": [
        {
          "output_type": "execute_result",
          "data": {
            "text/plain": [
              "   211612_s_at  219678_x_at  217653_x_at  211996_s_at  214594_x_at  \\\n",
              "0     2.433180     2.672850     2.223647     2.894223     2.730180   \n",
              "1     2.261091     2.641439     2.350872     3.042087     2.856150   \n",
              "2     2.385914     2.510368     1.996011     2.624352     2.491994   \n",
              "3     2.262845     2.747069     2.666440     2.893101     2.998907   \n",
              "4     2.239799     2.785209     2.600757     3.116527     2.977250   \n",
              "\n",
              "   218155_x_at  202936_s_at  207730_x_at  205401_at  216609_at  ...  \\\n",
              "0     2.708516     2.677585     3.043026   2.277064   2.318040  ...   \n",
              "1     2.800348     2.392170     3.129235   2.249331   2.306733  ...   \n",
              "2     2.648607     2.355828     2.921754   2.316953   2.231919  ...   \n",
              "3     2.992614     2.352489     3.307086   2.165011   1.966337  ...   \n",
              "4     2.859183     2.296027     3.216666   2.221606   2.424350  ...   \n",
              "\n",
              "   208671_at  211505_s_at  40665_at  214830_at  208654_s_at  202131_s_at  \\\n",
              "0   2.547195     2.449663  2.464299   2.316326     2.940958     2.170559   \n",
              "1   2.535646     2.262768  2.172416   2.248017     2.875015     2.089126   \n",
              "2   2.634353     2.198965  2.246445   2.327131     2.710852     1.971494   \n",
              "3   1.876583     1.916729  1.719003   1.774782     2.110986     1.840146   \n",
              "4   2.242884     1.939796  1.736053   2.100648     2.456737     2.037821   \n",
              "\n",
              "   202817_s_at  34031_i_at  201339_s_at  Label  \n",
              "0     2.116067    2.136241     2.794302    1.0  \n",
              "1     2.354635    2.106757     2.788661    0.0  \n",
              "2     1.743328    2.098736     2.921265    1.0  \n",
              "3     1.904847    1.471070     1.703865    1.0  \n",
              "4     1.935020    1.968626     2.395988    0.0  \n",
              "\n",
              "[5 rows x 401 columns]"
            ],
            "text/html": [
              "\n",
              "  <div id=\"df-03e1a229-d5d7-4fe1-beb6-eec56dd3292b\">\n",
              "    <div class=\"colab-df-container\">\n",
              "      <div>\n",
              "<style scoped>\n",
              "    .dataframe tbody tr th:only-of-type {\n",
              "        vertical-align: middle;\n",
              "    }\n",
              "\n",
              "    .dataframe tbody tr th {\n",
              "        vertical-align: top;\n",
              "    }\n",
              "\n",
              "    .dataframe thead th {\n",
              "        text-align: right;\n",
              "    }\n",
              "</style>\n",
              "<table border=\"1\" class=\"dataframe\">\n",
              "  <thead>\n",
              "    <tr style=\"text-align: right;\">\n",
              "      <th></th>\n",
              "      <th>211612_s_at</th>\n",
              "      <th>219678_x_at</th>\n",
              "      <th>217653_x_at</th>\n",
              "      <th>211996_s_at</th>\n",
              "      <th>214594_x_at</th>\n",
              "      <th>218155_x_at</th>\n",
              "      <th>202936_s_at</th>\n",
              "      <th>207730_x_at</th>\n",
              "      <th>205401_at</th>\n",
              "      <th>216609_at</th>\n",
              "      <th>...</th>\n",
              "      <th>208671_at</th>\n",
              "      <th>211505_s_at</th>\n",
              "      <th>40665_at</th>\n",
              "      <th>214830_at</th>\n",
              "      <th>208654_s_at</th>\n",
              "      <th>202131_s_at</th>\n",
              "      <th>202817_s_at</th>\n",
              "      <th>34031_i_at</th>\n",
              "      <th>201339_s_at</th>\n",
              "      <th>Label</th>\n",
              "    </tr>\n",
              "  </thead>\n",
              "  <tbody>\n",
              "    <tr>\n",
              "      <th>0</th>\n",
              "      <td>2.433180</td>\n",
              "      <td>2.672850</td>\n",
              "      <td>2.223647</td>\n",
              "      <td>2.894223</td>\n",
              "      <td>2.730180</td>\n",
              "      <td>2.708516</td>\n",
              "      <td>2.677585</td>\n",
              "      <td>3.043026</td>\n",
              "      <td>2.277064</td>\n",
              "      <td>2.318040</td>\n",
              "      <td>...</td>\n",
              "      <td>2.547195</td>\n",
              "      <td>2.449663</td>\n",
              "      <td>2.464299</td>\n",
              "      <td>2.316326</td>\n",
              "      <td>2.940958</td>\n",
              "      <td>2.170559</td>\n",
              "      <td>2.116067</td>\n",
              "      <td>2.136241</td>\n",
              "      <td>2.794302</td>\n",
              "      <td>1.0</td>\n",
              "    </tr>\n",
              "    <tr>\n",
              "      <th>1</th>\n",
              "      <td>2.261091</td>\n",
              "      <td>2.641439</td>\n",
              "      <td>2.350872</td>\n",
              "      <td>3.042087</td>\n",
              "      <td>2.856150</td>\n",
              "      <td>2.800348</td>\n",
              "      <td>2.392170</td>\n",
              "      <td>3.129235</td>\n",
              "      <td>2.249331</td>\n",
              "      <td>2.306733</td>\n",
              "      <td>...</td>\n",
              "      <td>2.535646</td>\n",
              "      <td>2.262768</td>\n",
              "      <td>2.172416</td>\n",
              "      <td>2.248017</td>\n",
              "      <td>2.875015</td>\n",
              "      <td>2.089126</td>\n",
              "      <td>2.354635</td>\n",
              "      <td>2.106757</td>\n",
              "      <td>2.788661</td>\n",
              "      <td>0.0</td>\n",
              "    </tr>\n",
              "    <tr>\n",
              "      <th>2</th>\n",
              "      <td>2.385914</td>\n",
              "      <td>2.510368</td>\n",
              "      <td>1.996011</td>\n",
              "      <td>2.624352</td>\n",
              "      <td>2.491994</td>\n",
              "      <td>2.648607</td>\n",
              "      <td>2.355828</td>\n",
              "      <td>2.921754</td>\n",
              "      <td>2.316953</td>\n",
              "      <td>2.231919</td>\n",
              "      <td>...</td>\n",
              "      <td>2.634353</td>\n",
              "      <td>2.198965</td>\n",
              "      <td>2.246445</td>\n",
              "      <td>2.327131</td>\n",
              "      <td>2.710852</td>\n",
              "      <td>1.971494</td>\n",
              "      <td>1.743328</td>\n",
              "      <td>2.098736</td>\n",
              "      <td>2.921265</td>\n",
              "      <td>1.0</td>\n",
              "    </tr>\n",
              "    <tr>\n",
              "      <th>3</th>\n",
              "      <td>2.262845</td>\n",
              "      <td>2.747069</td>\n",
              "      <td>2.666440</td>\n",
              "      <td>2.893101</td>\n",
              "      <td>2.998907</td>\n",
              "      <td>2.992614</td>\n",
              "      <td>2.352489</td>\n",
              "      <td>3.307086</td>\n",
              "      <td>2.165011</td>\n",
              "      <td>1.966337</td>\n",
              "      <td>...</td>\n",
              "      <td>1.876583</td>\n",
              "      <td>1.916729</td>\n",
              "      <td>1.719003</td>\n",
              "      <td>1.774782</td>\n",
              "      <td>2.110986</td>\n",
              "      <td>1.840146</td>\n",
              "      <td>1.904847</td>\n",
              "      <td>1.471070</td>\n",
              "      <td>1.703865</td>\n",
              "      <td>1.0</td>\n",
              "    </tr>\n",
              "    <tr>\n",
              "      <th>4</th>\n",
              "      <td>2.239799</td>\n",
              "      <td>2.785209</td>\n",
              "      <td>2.600757</td>\n",
              "      <td>3.116527</td>\n",
              "      <td>2.977250</td>\n",
              "      <td>2.859183</td>\n",
              "      <td>2.296027</td>\n",
              "      <td>3.216666</td>\n",
              "      <td>2.221606</td>\n",
              "      <td>2.424350</td>\n",
              "      <td>...</td>\n",
              "      <td>2.242884</td>\n",
              "      <td>1.939796</td>\n",
              "      <td>1.736053</td>\n",
              "      <td>2.100648</td>\n",
              "      <td>2.456737</td>\n",
              "      <td>2.037821</td>\n",
              "      <td>1.935020</td>\n",
              "      <td>1.968626</td>\n",
              "      <td>2.395988</td>\n",
              "      <td>0.0</td>\n",
              "    </tr>\n",
              "  </tbody>\n",
              "</table>\n",
              "<p>5 rows × 401 columns</p>\n",
              "</div>\n",
              "      <button class=\"colab-df-convert\" onclick=\"convertToInteractive('df-03e1a229-d5d7-4fe1-beb6-eec56dd3292b')\"\n",
              "              title=\"Convert this dataframe to an interactive table.\"\n",
              "              style=\"display:none;\">\n",
              "        \n",
              "  <svg xmlns=\"http://www.w3.org/2000/svg\" height=\"24px\"viewBox=\"0 0 24 24\"\n",
              "       width=\"24px\">\n",
              "    <path d=\"M0 0h24v24H0V0z\" fill=\"none\"/>\n",
              "    <path d=\"M18.56 5.44l.94 2.06.94-2.06 2.06-.94-2.06-.94-.94-2.06-.94 2.06-2.06.94zm-11 1L8.5 8.5l.94-2.06 2.06-.94-2.06-.94L8.5 2.5l-.94 2.06-2.06.94zm10 10l.94 2.06.94-2.06 2.06-.94-2.06-.94-.94-2.06-.94 2.06-2.06.94z\"/><path d=\"M17.41 7.96l-1.37-1.37c-.4-.4-.92-.59-1.43-.59-.52 0-1.04.2-1.43.59L10.3 9.45l-7.72 7.72c-.78.78-.78 2.05 0 2.83L4 21.41c.39.39.9.59 1.41.59.51 0 1.02-.2 1.41-.59l7.78-7.78 2.81-2.81c.8-.78.8-2.07 0-2.86zM5.41 20L4 18.59l7.72-7.72 1.47 1.35L5.41 20z\"/>\n",
              "  </svg>\n",
              "      </button>\n",
              "      \n",
              "  <style>\n",
              "    .colab-df-container {\n",
              "      display:flex;\n",
              "      flex-wrap:wrap;\n",
              "      gap: 12px;\n",
              "    }\n",
              "\n",
              "    .colab-df-convert {\n",
              "      background-color: #E8F0FE;\n",
              "      border: none;\n",
              "      border-radius: 50%;\n",
              "      cursor: pointer;\n",
              "      display: none;\n",
              "      fill: #1967D2;\n",
              "      height: 32px;\n",
              "      padding: 0 0 0 0;\n",
              "      width: 32px;\n",
              "    }\n",
              "\n",
              "    .colab-df-convert:hover {\n",
              "      background-color: #E2EBFA;\n",
              "      box-shadow: 0px 1px 2px rgba(60, 64, 67, 0.3), 0px 1px 3px 1px rgba(60, 64, 67, 0.15);\n",
              "      fill: #174EA6;\n",
              "    }\n",
              "\n",
              "    [theme=dark] .colab-df-convert {\n",
              "      background-color: #3B4455;\n",
              "      fill: #D2E3FC;\n",
              "    }\n",
              "\n",
              "    [theme=dark] .colab-df-convert:hover {\n",
              "      background-color: #434B5C;\n",
              "      box-shadow: 0px 1px 3px 1px rgba(0, 0, 0, 0.15);\n",
              "      filter: drop-shadow(0px 1px 2px rgba(0, 0, 0, 0.3));\n",
              "      fill: #FFFFFF;\n",
              "    }\n",
              "  </style>\n",
              "\n",
              "      <script>\n",
              "        const buttonEl =\n",
              "          document.querySelector('#df-03e1a229-d5d7-4fe1-beb6-eec56dd3292b button.colab-df-convert');\n",
              "        buttonEl.style.display =\n",
              "          google.colab.kernel.accessAllowed ? 'block' : 'none';\n",
              "\n",
              "        async function convertToInteractive(key) {\n",
              "          const element = document.querySelector('#df-03e1a229-d5d7-4fe1-beb6-eec56dd3292b');\n",
              "          const dataTable =\n",
              "            await google.colab.kernel.invokeFunction('convertToInteractive',\n",
              "                                                     [key], {});\n",
              "          if (!dataTable) return;\n",
              "\n",
              "          const docLinkHtml = 'Like what you see? Visit the ' +\n",
              "            '<a target=\"_blank\" href=https://colab.research.google.com/notebooks/data_table.ipynb>data table notebook</a>'\n",
              "            + ' to learn more about interactive tables.';\n",
              "          element.innerHTML = '';\n",
              "          dataTable['output_type'] = 'display_data';\n",
              "          await google.colab.output.renderOutput(dataTable, element);\n",
              "          const docLink = document.createElement('div');\n",
              "          docLink.innerHTML = docLinkHtml;\n",
              "          element.appendChild(docLink);\n",
              "        }\n",
              "      </script>\n",
              "    </div>\n",
              "  </div>\n",
              "  "
            ]
          },
          "metadata": {},
          "execution_count": 6
        }
      ]
    },
    {
      "cell_type": "markdown",
      "source": [
        "Df_train dengan fitur 3"
      ],
      "metadata": {
        "id": "mCRkFEFdWIft"
      }
    },
    {
      "cell_type": "code",
      "source": [
        "df_train3 = df_train[ab3_features]\n",
        "df_train3.head()"
      ],
      "metadata": {
        "colab": {
          "base_uri": "https://localhost:8080/",
          "height": 300
        },
        "id": "EgXqkGfMUOMZ",
        "outputId": "deddefed-f03d-407f-faa5-90f1f348a9b5"
      },
      "execution_count": null,
      "outputs": [
        {
          "output_type": "execute_result",
          "data": {
            "text/plain": [
              "   211612_s_at  219678_x_at  217653_x_at  211996_s_at  214594_x_at  \\\n",
              "0     2.433180     2.672850     2.223647     2.894223     2.730180   \n",
              "1     2.261091     2.641439     2.350872     3.042087     2.856150   \n",
              "2     2.385914     2.510368     1.996011     2.624352     2.491994   \n",
              "3     2.262845     2.747069     2.666440     2.893101     2.998907   \n",
              "4     2.239799     2.785209     2.600757     3.116527     2.977250   \n",
              "\n",
              "   218155_x_at  202936_s_at  207730_x_at  205401_at  216609_at  ...  \\\n",
              "0     2.708516     2.677585     3.043026   2.277064   2.318040  ...   \n",
              "1     2.800348     2.392170     3.129235   2.249331   2.306733  ...   \n",
              "2     2.648607     2.355828     2.921754   2.316953   2.231919  ...   \n",
              "3     2.992614     2.352489     3.307086   2.165011   1.966337  ...   \n",
              "4     2.859183     2.296027     3.216666   2.221606   2.424350  ...   \n",
              "\n",
              "   208654_s_at  202131_s_at  202817_s_at  201123_s_at  218002_s_at  \\\n",
              "0     2.940958     2.170559     2.116067     2.485884     2.414447   \n",
              "1     2.875015     2.089126     2.354635     2.642448     2.533421   \n",
              "2     2.710852     1.971494     1.743328     2.171087     2.153860   \n",
              "3     2.110986     1.840146     1.904847     2.203658     2.326658   \n",
              "4     2.456737     2.037821     1.935020     2.410492     3.039731   \n",
              "\n",
              "   211985_s_at  200751_s_at  34031_i_at  201339_s_at  Label  \n",
              "0     3.069618     2.456802    2.136241     2.794302    1.0  \n",
              "1     2.999199     2.582642    2.106757     2.788661    0.0  \n",
              "2     2.891588     2.406262    2.098736     2.921265    1.0  \n",
              "3     1.982301     1.346213    1.471070     1.703865    1.0  \n",
              "4     2.723537     2.164480    1.968626     2.395988    0.0  \n",
              "\n",
              "[5 rows x 501 columns]"
            ],
            "text/html": [
              "\n",
              "  <div id=\"df-b64c68a0-a517-4200-8db0-a4d60c6d164b\">\n",
              "    <div class=\"colab-df-container\">\n",
              "      <div>\n",
              "<style scoped>\n",
              "    .dataframe tbody tr th:only-of-type {\n",
              "        vertical-align: middle;\n",
              "    }\n",
              "\n",
              "    .dataframe tbody tr th {\n",
              "        vertical-align: top;\n",
              "    }\n",
              "\n",
              "    .dataframe thead th {\n",
              "        text-align: right;\n",
              "    }\n",
              "</style>\n",
              "<table border=\"1\" class=\"dataframe\">\n",
              "  <thead>\n",
              "    <tr style=\"text-align: right;\">\n",
              "      <th></th>\n",
              "      <th>211612_s_at</th>\n",
              "      <th>219678_x_at</th>\n",
              "      <th>217653_x_at</th>\n",
              "      <th>211996_s_at</th>\n",
              "      <th>214594_x_at</th>\n",
              "      <th>218155_x_at</th>\n",
              "      <th>202936_s_at</th>\n",
              "      <th>207730_x_at</th>\n",
              "      <th>205401_at</th>\n",
              "      <th>216609_at</th>\n",
              "      <th>...</th>\n",
              "      <th>208654_s_at</th>\n",
              "      <th>202131_s_at</th>\n",
              "      <th>202817_s_at</th>\n",
              "      <th>201123_s_at</th>\n",
              "      <th>218002_s_at</th>\n",
              "      <th>211985_s_at</th>\n",
              "      <th>200751_s_at</th>\n",
              "      <th>34031_i_at</th>\n",
              "      <th>201339_s_at</th>\n",
              "      <th>Label</th>\n",
              "    </tr>\n",
              "  </thead>\n",
              "  <tbody>\n",
              "    <tr>\n",
              "      <th>0</th>\n",
              "      <td>2.433180</td>\n",
              "      <td>2.672850</td>\n",
              "      <td>2.223647</td>\n",
              "      <td>2.894223</td>\n",
              "      <td>2.730180</td>\n",
              "      <td>2.708516</td>\n",
              "      <td>2.677585</td>\n",
              "      <td>3.043026</td>\n",
              "      <td>2.277064</td>\n",
              "      <td>2.318040</td>\n",
              "      <td>...</td>\n",
              "      <td>2.940958</td>\n",
              "      <td>2.170559</td>\n",
              "      <td>2.116067</td>\n",
              "      <td>2.485884</td>\n",
              "      <td>2.414447</td>\n",
              "      <td>3.069618</td>\n",
              "      <td>2.456802</td>\n",
              "      <td>2.136241</td>\n",
              "      <td>2.794302</td>\n",
              "      <td>1.0</td>\n",
              "    </tr>\n",
              "    <tr>\n",
              "      <th>1</th>\n",
              "      <td>2.261091</td>\n",
              "      <td>2.641439</td>\n",
              "      <td>2.350872</td>\n",
              "      <td>3.042087</td>\n",
              "      <td>2.856150</td>\n",
              "      <td>2.800348</td>\n",
              "      <td>2.392170</td>\n",
              "      <td>3.129235</td>\n",
              "      <td>2.249331</td>\n",
              "      <td>2.306733</td>\n",
              "      <td>...</td>\n",
              "      <td>2.875015</td>\n",
              "      <td>2.089126</td>\n",
              "      <td>2.354635</td>\n",
              "      <td>2.642448</td>\n",
              "      <td>2.533421</td>\n",
              "      <td>2.999199</td>\n",
              "      <td>2.582642</td>\n",
              "      <td>2.106757</td>\n",
              "      <td>2.788661</td>\n",
              "      <td>0.0</td>\n",
              "    </tr>\n",
              "    <tr>\n",
              "      <th>2</th>\n",
              "      <td>2.385914</td>\n",
              "      <td>2.510368</td>\n",
              "      <td>1.996011</td>\n",
              "      <td>2.624352</td>\n",
              "      <td>2.491994</td>\n",
              "      <td>2.648607</td>\n",
              "      <td>2.355828</td>\n",
              "      <td>2.921754</td>\n",
              "      <td>2.316953</td>\n",
              "      <td>2.231919</td>\n",
              "      <td>...</td>\n",
              "      <td>2.710852</td>\n",
              "      <td>1.971494</td>\n",
              "      <td>1.743328</td>\n",
              "      <td>2.171087</td>\n",
              "      <td>2.153860</td>\n",
              "      <td>2.891588</td>\n",
              "      <td>2.406262</td>\n",
              "      <td>2.098736</td>\n",
              "      <td>2.921265</td>\n",
              "      <td>1.0</td>\n",
              "    </tr>\n",
              "    <tr>\n",
              "      <th>3</th>\n",
              "      <td>2.262845</td>\n",
              "      <td>2.747069</td>\n",
              "      <td>2.666440</td>\n",
              "      <td>2.893101</td>\n",
              "      <td>2.998907</td>\n",
              "      <td>2.992614</td>\n",
              "      <td>2.352489</td>\n",
              "      <td>3.307086</td>\n",
              "      <td>2.165011</td>\n",
              "      <td>1.966337</td>\n",
              "      <td>...</td>\n",
              "      <td>2.110986</td>\n",
              "      <td>1.840146</td>\n",
              "      <td>1.904847</td>\n",
              "      <td>2.203658</td>\n",
              "      <td>2.326658</td>\n",
              "      <td>1.982301</td>\n",
              "      <td>1.346213</td>\n",
              "      <td>1.471070</td>\n",
              "      <td>1.703865</td>\n",
              "      <td>1.0</td>\n",
              "    </tr>\n",
              "    <tr>\n",
              "      <th>4</th>\n",
              "      <td>2.239799</td>\n",
              "      <td>2.785209</td>\n",
              "      <td>2.600757</td>\n",
              "      <td>3.116527</td>\n",
              "      <td>2.977250</td>\n",
              "      <td>2.859183</td>\n",
              "      <td>2.296027</td>\n",
              "      <td>3.216666</td>\n",
              "      <td>2.221606</td>\n",
              "      <td>2.424350</td>\n",
              "      <td>...</td>\n",
              "      <td>2.456737</td>\n",
              "      <td>2.037821</td>\n",
              "      <td>1.935020</td>\n",
              "      <td>2.410492</td>\n",
              "      <td>3.039731</td>\n",
              "      <td>2.723537</td>\n",
              "      <td>2.164480</td>\n",
              "      <td>1.968626</td>\n",
              "      <td>2.395988</td>\n",
              "      <td>0.0</td>\n",
              "    </tr>\n",
              "  </tbody>\n",
              "</table>\n",
              "<p>5 rows × 501 columns</p>\n",
              "</div>\n",
              "      <button class=\"colab-df-convert\" onclick=\"convertToInteractive('df-b64c68a0-a517-4200-8db0-a4d60c6d164b')\"\n",
              "              title=\"Convert this dataframe to an interactive table.\"\n",
              "              style=\"display:none;\">\n",
              "        \n",
              "  <svg xmlns=\"http://www.w3.org/2000/svg\" height=\"24px\"viewBox=\"0 0 24 24\"\n",
              "       width=\"24px\">\n",
              "    <path d=\"M0 0h24v24H0V0z\" fill=\"none\"/>\n",
              "    <path d=\"M18.56 5.44l.94 2.06.94-2.06 2.06-.94-2.06-.94-.94-2.06-.94 2.06-2.06.94zm-11 1L8.5 8.5l.94-2.06 2.06-.94-2.06-.94L8.5 2.5l-.94 2.06-2.06.94zm10 10l.94 2.06.94-2.06 2.06-.94-2.06-.94-.94-2.06-.94 2.06-2.06.94z\"/><path d=\"M17.41 7.96l-1.37-1.37c-.4-.4-.92-.59-1.43-.59-.52 0-1.04.2-1.43.59L10.3 9.45l-7.72 7.72c-.78.78-.78 2.05 0 2.83L4 21.41c.39.39.9.59 1.41.59.51 0 1.02-.2 1.41-.59l7.78-7.78 2.81-2.81c.8-.78.8-2.07 0-2.86zM5.41 20L4 18.59l7.72-7.72 1.47 1.35L5.41 20z\"/>\n",
              "  </svg>\n",
              "      </button>\n",
              "      \n",
              "  <style>\n",
              "    .colab-df-container {\n",
              "      display:flex;\n",
              "      flex-wrap:wrap;\n",
              "      gap: 12px;\n",
              "    }\n",
              "\n",
              "    .colab-df-convert {\n",
              "      background-color: #E8F0FE;\n",
              "      border: none;\n",
              "      border-radius: 50%;\n",
              "      cursor: pointer;\n",
              "      display: none;\n",
              "      fill: #1967D2;\n",
              "      height: 32px;\n",
              "      padding: 0 0 0 0;\n",
              "      width: 32px;\n",
              "    }\n",
              "\n",
              "    .colab-df-convert:hover {\n",
              "      background-color: #E2EBFA;\n",
              "      box-shadow: 0px 1px 2px rgba(60, 64, 67, 0.3), 0px 1px 3px 1px rgba(60, 64, 67, 0.15);\n",
              "      fill: #174EA6;\n",
              "    }\n",
              "\n",
              "    [theme=dark] .colab-df-convert {\n",
              "      background-color: #3B4455;\n",
              "      fill: #D2E3FC;\n",
              "    }\n",
              "\n",
              "    [theme=dark] .colab-df-convert:hover {\n",
              "      background-color: #434B5C;\n",
              "      box-shadow: 0px 1px 3px 1px rgba(0, 0, 0, 0.15);\n",
              "      filter: drop-shadow(0px 1px 2px rgba(0, 0, 0, 0.3));\n",
              "      fill: #FFFFFF;\n",
              "    }\n",
              "  </style>\n",
              "\n",
              "      <script>\n",
              "        const buttonEl =\n",
              "          document.querySelector('#df-b64c68a0-a517-4200-8db0-a4d60c6d164b button.colab-df-convert');\n",
              "        buttonEl.style.display =\n",
              "          google.colab.kernel.accessAllowed ? 'block' : 'none';\n",
              "\n",
              "        async function convertToInteractive(key) {\n",
              "          const element = document.querySelector('#df-b64c68a0-a517-4200-8db0-a4d60c6d164b');\n",
              "          const dataTable =\n",
              "            await google.colab.kernel.invokeFunction('convertToInteractive',\n",
              "                                                     [key], {});\n",
              "          if (!dataTable) return;\n",
              "\n",
              "          const docLinkHtml = 'Like what you see? Visit the ' +\n",
              "            '<a target=\"_blank\" href=https://colab.research.google.com/notebooks/data_table.ipynb>data table notebook</a>'\n",
              "            + ' to learn more about interactive tables.';\n",
              "          element.innerHTML = '';\n",
              "          dataTable['output_type'] = 'display_data';\n",
              "          await google.colab.output.renderOutput(dataTable, element);\n",
              "          const docLink = document.createElement('div');\n",
              "          docLink.innerHTML = docLinkHtml;\n",
              "          element.appendChild(docLink);\n",
              "        }\n",
              "      </script>\n",
              "    </div>\n",
              "  </div>\n",
              "  "
            ]
          },
          "metadata": {},
          "execution_count": 7
        }
      ]
    },
    {
      "cell_type": "markdown",
      "source": [
        "## X_train dan y_train"
      ],
      "metadata": {
        "id": "nhuiaiHXTAdw"
      }
    },
    {
      "cell_type": "code",
      "source": [
        "X1_train = df_train1.iloc[:,:-1]\n",
        "X1_train.head()"
      ],
      "metadata": {
        "colab": {
          "base_uri": "https://localhost:8080/",
          "height": 300
        },
        "id": "s6r31lIXuzKA",
        "outputId": "872b79d2-377d-4885-ec8a-7a53c5d5f2b3"
      },
      "execution_count": null,
      "outputs": [
        {
          "output_type": "execute_result",
          "data": {
            "text/plain": [
              "   219678_x_at  217653_x_at  211996_s_at  214594_x_at  218155_x_at  \\\n",
              "0     2.672850     2.223647     2.894223     2.730180     2.708516   \n",
              "1     2.641439     2.350872     3.042087     2.856150     2.800348   \n",
              "2     2.510368     1.996011     2.624352     2.491994     2.648607   \n",
              "3     2.747069     2.666440     2.893101     2.998907     2.992614   \n",
              "4     2.785209     2.600757     3.116527     2.977250     2.859183   \n",
              "\n",
              "   207730_x_at  216609_at  207953_at  217679_x_at  210168_at  ...  \\\n",
              "0     3.043026   2.318040   2.462324     2.748249   2.698125  ...   \n",
              "1     3.129235   2.306733   2.476773     2.884853   2.293900  ...   \n",
              "2     2.921754   2.231919   2.371051     2.482992   2.399431  ...   \n",
              "3     3.307086   1.966337   2.863540     3.172937   2.521457  ...   \n",
              "4     3.216666   2.424350   2.650209     2.929251   2.155440  ...   \n",
              "\n",
              "   208750_s_at  206544_x_at  200598_s_at  212515_s_at  213872_at  202435_s_at  \\\n",
              "0     2.621121     2.584677     2.614547     2.459196   2.371555     1.859862   \n",
              "1     2.720216     2.541014     2.464834     2.651054   2.249695     1.991560   \n",
              "2     2.426039     2.408422     2.665663     2.371579   2.046329     2.353558   \n",
              "3     2.179337     2.314931     2.019661     2.192755   2.209179     1.973821   \n",
              "4     2.357678     2.305571     2.192273     2.404168   2.183277     2.610495   \n",
              "\n",
              "   211505_s_at  40665_at  208654_s_at  202817_s_at  \n",
              "0     2.449663  2.464299     2.940958     2.116067  \n",
              "1     2.262768  2.172416     2.875015     2.354635  \n",
              "2     2.198965  2.246445     2.710852     1.743328  \n",
              "3     1.916729  1.719003     2.110986     1.904847  \n",
              "4     1.939796  1.736053     2.456737     1.935020  \n",
              "\n",
              "[5 rows x 200 columns]"
            ],
            "text/html": [
              "\n",
              "  <div id=\"df-424df8e2-61f4-48c6-9463-c0bd20158618\">\n",
              "    <div class=\"colab-df-container\">\n",
              "      <div>\n",
              "<style scoped>\n",
              "    .dataframe tbody tr th:only-of-type {\n",
              "        vertical-align: middle;\n",
              "    }\n",
              "\n",
              "    .dataframe tbody tr th {\n",
              "        vertical-align: top;\n",
              "    }\n",
              "\n",
              "    .dataframe thead th {\n",
              "        text-align: right;\n",
              "    }\n",
              "</style>\n",
              "<table border=\"1\" class=\"dataframe\">\n",
              "  <thead>\n",
              "    <tr style=\"text-align: right;\">\n",
              "      <th></th>\n",
              "      <th>219678_x_at</th>\n",
              "      <th>217653_x_at</th>\n",
              "      <th>211996_s_at</th>\n",
              "      <th>214594_x_at</th>\n",
              "      <th>218155_x_at</th>\n",
              "      <th>207730_x_at</th>\n",
              "      <th>216609_at</th>\n",
              "      <th>207953_at</th>\n",
              "      <th>217679_x_at</th>\n",
              "      <th>210168_at</th>\n",
              "      <th>...</th>\n",
              "      <th>208750_s_at</th>\n",
              "      <th>206544_x_at</th>\n",
              "      <th>200598_s_at</th>\n",
              "      <th>212515_s_at</th>\n",
              "      <th>213872_at</th>\n",
              "      <th>202435_s_at</th>\n",
              "      <th>211505_s_at</th>\n",
              "      <th>40665_at</th>\n",
              "      <th>208654_s_at</th>\n",
              "      <th>202817_s_at</th>\n",
              "    </tr>\n",
              "  </thead>\n",
              "  <tbody>\n",
              "    <tr>\n",
              "      <th>0</th>\n",
              "      <td>2.672850</td>\n",
              "      <td>2.223647</td>\n",
              "      <td>2.894223</td>\n",
              "      <td>2.730180</td>\n",
              "      <td>2.708516</td>\n",
              "      <td>3.043026</td>\n",
              "      <td>2.318040</td>\n",
              "      <td>2.462324</td>\n",
              "      <td>2.748249</td>\n",
              "      <td>2.698125</td>\n",
              "      <td>...</td>\n",
              "      <td>2.621121</td>\n",
              "      <td>2.584677</td>\n",
              "      <td>2.614547</td>\n",
              "      <td>2.459196</td>\n",
              "      <td>2.371555</td>\n",
              "      <td>1.859862</td>\n",
              "      <td>2.449663</td>\n",
              "      <td>2.464299</td>\n",
              "      <td>2.940958</td>\n",
              "      <td>2.116067</td>\n",
              "    </tr>\n",
              "    <tr>\n",
              "      <th>1</th>\n",
              "      <td>2.641439</td>\n",
              "      <td>2.350872</td>\n",
              "      <td>3.042087</td>\n",
              "      <td>2.856150</td>\n",
              "      <td>2.800348</td>\n",
              "      <td>3.129235</td>\n",
              "      <td>2.306733</td>\n",
              "      <td>2.476773</td>\n",
              "      <td>2.884853</td>\n",
              "      <td>2.293900</td>\n",
              "      <td>...</td>\n",
              "      <td>2.720216</td>\n",
              "      <td>2.541014</td>\n",
              "      <td>2.464834</td>\n",
              "      <td>2.651054</td>\n",
              "      <td>2.249695</td>\n",
              "      <td>1.991560</td>\n",
              "      <td>2.262768</td>\n",
              "      <td>2.172416</td>\n",
              "      <td>2.875015</td>\n",
              "      <td>2.354635</td>\n",
              "    </tr>\n",
              "    <tr>\n",
              "      <th>2</th>\n",
              "      <td>2.510368</td>\n",
              "      <td>1.996011</td>\n",
              "      <td>2.624352</td>\n",
              "      <td>2.491994</td>\n",
              "      <td>2.648607</td>\n",
              "      <td>2.921754</td>\n",
              "      <td>2.231919</td>\n",
              "      <td>2.371051</td>\n",
              "      <td>2.482992</td>\n",
              "      <td>2.399431</td>\n",
              "      <td>...</td>\n",
              "      <td>2.426039</td>\n",
              "      <td>2.408422</td>\n",
              "      <td>2.665663</td>\n",
              "      <td>2.371579</td>\n",
              "      <td>2.046329</td>\n",
              "      <td>2.353558</td>\n",
              "      <td>2.198965</td>\n",
              "      <td>2.246445</td>\n",
              "      <td>2.710852</td>\n",
              "      <td>1.743328</td>\n",
              "    </tr>\n",
              "    <tr>\n",
              "      <th>3</th>\n",
              "      <td>2.747069</td>\n",
              "      <td>2.666440</td>\n",
              "      <td>2.893101</td>\n",
              "      <td>2.998907</td>\n",
              "      <td>2.992614</td>\n",
              "      <td>3.307086</td>\n",
              "      <td>1.966337</td>\n",
              "      <td>2.863540</td>\n",
              "      <td>3.172937</td>\n",
              "      <td>2.521457</td>\n",
              "      <td>...</td>\n",
              "      <td>2.179337</td>\n",
              "      <td>2.314931</td>\n",
              "      <td>2.019661</td>\n",
              "      <td>2.192755</td>\n",
              "      <td>2.209179</td>\n",
              "      <td>1.973821</td>\n",
              "      <td>1.916729</td>\n",
              "      <td>1.719003</td>\n",
              "      <td>2.110986</td>\n",
              "      <td>1.904847</td>\n",
              "    </tr>\n",
              "    <tr>\n",
              "      <th>4</th>\n",
              "      <td>2.785209</td>\n",
              "      <td>2.600757</td>\n",
              "      <td>3.116527</td>\n",
              "      <td>2.977250</td>\n",
              "      <td>2.859183</td>\n",
              "      <td>3.216666</td>\n",
              "      <td>2.424350</td>\n",
              "      <td>2.650209</td>\n",
              "      <td>2.929251</td>\n",
              "      <td>2.155440</td>\n",
              "      <td>...</td>\n",
              "      <td>2.357678</td>\n",
              "      <td>2.305571</td>\n",
              "      <td>2.192273</td>\n",
              "      <td>2.404168</td>\n",
              "      <td>2.183277</td>\n",
              "      <td>2.610495</td>\n",
              "      <td>1.939796</td>\n",
              "      <td>1.736053</td>\n",
              "      <td>2.456737</td>\n",
              "      <td>1.935020</td>\n",
              "    </tr>\n",
              "  </tbody>\n",
              "</table>\n",
              "<p>5 rows × 200 columns</p>\n",
              "</div>\n",
              "      <button class=\"colab-df-convert\" onclick=\"convertToInteractive('df-424df8e2-61f4-48c6-9463-c0bd20158618')\"\n",
              "              title=\"Convert this dataframe to an interactive table.\"\n",
              "              style=\"display:none;\">\n",
              "        \n",
              "  <svg xmlns=\"http://www.w3.org/2000/svg\" height=\"24px\"viewBox=\"0 0 24 24\"\n",
              "       width=\"24px\">\n",
              "    <path d=\"M0 0h24v24H0V0z\" fill=\"none\"/>\n",
              "    <path d=\"M18.56 5.44l.94 2.06.94-2.06 2.06-.94-2.06-.94-.94-2.06-.94 2.06-2.06.94zm-11 1L8.5 8.5l.94-2.06 2.06-.94-2.06-.94L8.5 2.5l-.94 2.06-2.06.94zm10 10l.94 2.06.94-2.06 2.06-.94-2.06-.94-.94-2.06-.94 2.06-2.06.94z\"/><path d=\"M17.41 7.96l-1.37-1.37c-.4-.4-.92-.59-1.43-.59-.52 0-1.04.2-1.43.59L10.3 9.45l-7.72 7.72c-.78.78-.78 2.05 0 2.83L4 21.41c.39.39.9.59 1.41.59.51 0 1.02-.2 1.41-.59l7.78-7.78 2.81-2.81c.8-.78.8-2.07 0-2.86zM5.41 20L4 18.59l7.72-7.72 1.47 1.35L5.41 20z\"/>\n",
              "  </svg>\n",
              "      </button>\n",
              "      \n",
              "  <style>\n",
              "    .colab-df-container {\n",
              "      display:flex;\n",
              "      flex-wrap:wrap;\n",
              "      gap: 12px;\n",
              "    }\n",
              "\n",
              "    .colab-df-convert {\n",
              "      background-color: #E8F0FE;\n",
              "      border: none;\n",
              "      border-radius: 50%;\n",
              "      cursor: pointer;\n",
              "      display: none;\n",
              "      fill: #1967D2;\n",
              "      height: 32px;\n",
              "      padding: 0 0 0 0;\n",
              "      width: 32px;\n",
              "    }\n",
              "\n",
              "    .colab-df-convert:hover {\n",
              "      background-color: #E2EBFA;\n",
              "      box-shadow: 0px 1px 2px rgba(60, 64, 67, 0.3), 0px 1px 3px 1px rgba(60, 64, 67, 0.15);\n",
              "      fill: #174EA6;\n",
              "    }\n",
              "\n",
              "    [theme=dark] .colab-df-convert {\n",
              "      background-color: #3B4455;\n",
              "      fill: #D2E3FC;\n",
              "    }\n",
              "\n",
              "    [theme=dark] .colab-df-convert:hover {\n",
              "      background-color: #434B5C;\n",
              "      box-shadow: 0px 1px 3px 1px rgba(0, 0, 0, 0.15);\n",
              "      filter: drop-shadow(0px 1px 2px rgba(0, 0, 0, 0.3));\n",
              "      fill: #FFFFFF;\n",
              "    }\n",
              "  </style>\n",
              "\n",
              "      <script>\n",
              "        const buttonEl =\n",
              "          document.querySelector('#df-424df8e2-61f4-48c6-9463-c0bd20158618 button.colab-df-convert');\n",
              "        buttonEl.style.display =\n",
              "          google.colab.kernel.accessAllowed ? 'block' : 'none';\n",
              "\n",
              "        async function convertToInteractive(key) {\n",
              "          const element = document.querySelector('#df-424df8e2-61f4-48c6-9463-c0bd20158618');\n",
              "          const dataTable =\n",
              "            await google.colab.kernel.invokeFunction('convertToInteractive',\n",
              "                                                     [key], {});\n",
              "          if (!dataTable) return;\n",
              "\n",
              "          const docLinkHtml = 'Like what you see? Visit the ' +\n",
              "            '<a target=\"_blank\" href=https://colab.research.google.com/notebooks/data_table.ipynb>data table notebook</a>'\n",
              "            + ' to learn more about interactive tables.';\n",
              "          element.innerHTML = '';\n",
              "          dataTable['output_type'] = 'display_data';\n",
              "          await google.colab.output.renderOutput(dataTable, element);\n",
              "          const docLink = document.createElement('div');\n",
              "          docLink.innerHTML = docLinkHtml;\n",
              "          element.appendChild(docLink);\n",
              "        }\n",
              "      </script>\n",
              "    </div>\n",
              "  </div>\n",
              "  "
            ]
          },
          "metadata": {},
          "execution_count": 8
        }
      ]
    },
    {
      "cell_type": "code",
      "source": [
        "y1_train = df_train1.iloc[:,-1]\n",
        "y1_train.head()"
      ],
      "metadata": {
        "colab": {
          "base_uri": "https://localhost:8080/"
        },
        "id": "137hMO2TvTum",
        "outputId": "edbeab07-51fd-4034-dff9-8eb165da5613"
      },
      "execution_count": null,
      "outputs": [
        {
          "output_type": "execute_result",
          "data": {
            "text/plain": [
              "0    1.0\n",
              "1    0.0\n",
              "2    1.0\n",
              "3    1.0\n",
              "4    0.0\n",
              "Name: Label, dtype: float64"
            ]
          },
          "metadata": {},
          "execution_count": 9
        }
      ]
    },
    {
      "cell_type": "code",
      "source": [
        "X2_train = df_train2.iloc[:,:-1]\n",
        "X2_train.head()"
      ],
      "metadata": {
        "colab": {
          "base_uri": "https://localhost:8080/",
          "height": 300
        },
        "outputId": "f0350bb3-5f93-4b0b-9521-58d964287b68",
        "id": "0RdvwhWFWUgr"
      },
      "execution_count": null,
      "outputs": [
        {
          "output_type": "execute_result",
          "data": {
            "text/plain": [
              "   211612_s_at  219678_x_at  217653_x_at  211996_s_at  214594_x_at  \\\n",
              "0     2.433180     2.672850     2.223647     2.894223     2.730180   \n",
              "1     2.261091     2.641439     2.350872     3.042087     2.856150   \n",
              "2     2.385914     2.510368     1.996011     2.624352     2.491994   \n",
              "3     2.262845     2.747069     2.666440     2.893101     2.998907   \n",
              "4     2.239799     2.785209     2.600757     3.116527     2.977250   \n",
              "\n",
              "   218155_x_at  202936_s_at  207730_x_at  205401_at  216609_at  ...  \\\n",
              "0     2.708516     2.677585     3.043026   2.277064   2.318040  ...   \n",
              "1     2.800348     2.392170     3.129235   2.249331   2.306733  ...   \n",
              "2     2.648607     2.355828     2.921754   2.316953   2.231919  ...   \n",
              "3     2.992614     2.352489     3.307086   2.165011   1.966337  ...   \n",
              "4     2.859183     2.296027     3.216666   2.221606   2.424350  ...   \n",
              "\n",
              "   205749_at  208671_at  211505_s_at  40665_at  214830_at  208654_s_at  \\\n",
              "0   2.383935   2.547195     2.449663  2.464299   2.316326     2.940958   \n",
              "1   2.435408   2.535646     2.262768  2.172416   2.248017     2.875015   \n",
              "2   2.524147   2.634353     2.198965  2.246445   2.327131     2.710852   \n",
              "3   2.558272   1.876583     1.916729  1.719003   1.774782     2.110986   \n",
              "4   3.102548   2.242884     1.939796  1.736053   2.100648     2.456737   \n",
              "\n",
              "   202131_s_at  202817_s_at  34031_i_at  201339_s_at  \n",
              "0     2.170559     2.116067    2.136241     2.794302  \n",
              "1     2.089126     2.354635    2.106757     2.788661  \n",
              "2     1.971494     1.743328    2.098736     2.921265  \n",
              "3     1.840146     1.904847    1.471070     1.703865  \n",
              "4     2.037821     1.935020    1.968626     2.395988  \n",
              "\n",
              "[5 rows x 400 columns]"
            ],
            "text/html": [
              "\n",
              "  <div id=\"df-d85229ba-1f8c-415f-aae7-b7854db4f20a\">\n",
              "    <div class=\"colab-df-container\">\n",
              "      <div>\n",
              "<style scoped>\n",
              "    .dataframe tbody tr th:only-of-type {\n",
              "        vertical-align: middle;\n",
              "    }\n",
              "\n",
              "    .dataframe tbody tr th {\n",
              "        vertical-align: top;\n",
              "    }\n",
              "\n",
              "    .dataframe thead th {\n",
              "        text-align: right;\n",
              "    }\n",
              "</style>\n",
              "<table border=\"1\" class=\"dataframe\">\n",
              "  <thead>\n",
              "    <tr style=\"text-align: right;\">\n",
              "      <th></th>\n",
              "      <th>211612_s_at</th>\n",
              "      <th>219678_x_at</th>\n",
              "      <th>217653_x_at</th>\n",
              "      <th>211996_s_at</th>\n",
              "      <th>214594_x_at</th>\n",
              "      <th>218155_x_at</th>\n",
              "      <th>202936_s_at</th>\n",
              "      <th>207730_x_at</th>\n",
              "      <th>205401_at</th>\n",
              "      <th>216609_at</th>\n",
              "      <th>...</th>\n",
              "      <th>205749_at</th>\n",
              "      <th>208671_at</th>\n",
              "      <th>211505_s_at</th>\n",
              "      <th>40665_at</th>\n",
              "      <th>214830_at</th>\n",
              "      <th>208654_s_at</th>\n",
              "      <th>202131_s_at</th>\n",
              "      <th>202817_s_at</th>\n",
              "      <th>34031_i_at</th>\n",
              "      <th>201339_s_at</th>\n",
              "    </tr>\n",
              "  </thead>\n",
              "  <tbody>\n",
              "    <tr>\n",
              "      <th>0</th>\n",
              "      <td>2.433180</td>\n",
              "      <td>2.672850</td>\n",
              "      <td>2.223647</td>\n",
              "      <td>2.894223</td>\n",
              "      <td>2.730180</td>\n",
              "      <td>2.708516</td>\n",
              "      <td>2.677585</td>\n",
              "      <td>3.043026</td>\n",
              "      <td>2.277064</td>\n",
              "      <td>2.318040</td>\n",
              "      <td>...</td>\n",
              "      <td>2.383935</td>\n",
              "      <td>2.547195</td>\n",
              "      <td>2.449663</td>\n",
              "      <td>2.464299</td>\n",
              "      <td>2.316326</td>\n",
              "      <td>2.940958</td>\n",
              "      <td>2.170559</td>\n",
              "      <td>2.116067</td>\n",
              "      <td>2.136241</td>\n",
              "      <td>2.794302</td>\n",
              "    </tr>\n",
              "    <tr>\n",
              "      <th>1</th>\n",
              "      <td>2.261091</td>\n",
              "      <td>2.641439</td>\n",
              "      <td>2.350872</td>\n",
              "      <td>3.042087</td>\n",
              "      <td>2.856150</td>\n",
              "      <td>2.800348</td>\n",
              "      <td>2.392170</td>\n",
              "      <td>3.129235</td>\n",
              "      <td>2.249331</td>\n",
              "      <td>2.306733</td>\n",
              "      <td>...</td>\n",
              "      <td>2.435408</td>\n",
              "      <td>2.535646</td>\n",
              "      <td>2.262768</td>\n",
              "      <td>2.172416</td>\n",
              "      <td>2.248017</td>\n",
              "      <td>2.875015</td>\n",
              "      <td>2.089126</td>\n",
              "      <td>2.354635</td>\n",
              "      <td>2.106757</td>\n",
              "      <td>2.788661</td>\n",
              "    </tr>\n",
              "    <tr>\n",
              "      <th>2</th>\n",
              "      <td>2.385914</td>\n",
              "      <td>2.510368</td>\n",
              "      <td>1.996011</td>\n",
              "      <td>2.624352</td>\n",
              "      <td>2.491994</td>\n",
              "      <td>2.648607</td>\n",
              "      <td>2.355828</td>\n",
              "      <td>2.921754</td>\n",
              "      <td>2.316953</td>\n",
              "      <td>2.231919</td>\n",
              "      <td>...</td>\n",
              "      <td>2.524147</td>\n",
              "      <td>2.634353</td>\n",
              "      <td>2.198965</td>\n",
              "      <td>2.246445</td>\n",
              "      <td>2.327131</td>\n",
              "      <td>2.710852</td>\n",
              "      <td>1.971494</td>\n",
              "      <td>1.743328</td>\n",
              "      <td>2.098736</td>\n",
              "      <td>2.921265</td>\n",
              "    </tr>\n",
              "    <tr>\n",
              "      <th>3</th>\n",
              "      <td>2.262845</td>\n",
              "      <td>2.747069</td>\n",
              "      <td>2.666440</td>\n",
              "      <td>2.893101</td>\n",
              "      <td>2.998907</td>\n",
              "      <td>2.992614</td>\n",
              "      <td>2.352489</td>\n",
              "      <td>3.307086</td>\n",
              "      <td>2.165011</td>\n",
              "      <td>1.966337</td>\n",
              "      <td>...</td>\n",
              "      <td>2.558272</td>\n",
              "      <td>1.876583</td>\n",
              "      <td>1.916729</td>\n",
              "      <td>1.719003</td>\n",
              "      <td>1.774782</td>\n",
              "      <td>2.110986</td>\n",
              "      <td>1.840146</td>\n",
              "      <td>1.904847</td>\n",
              "      <td>1.471070</td>\n",
              "      <td>1.703865</td>\n",
              "    </tr>\n",
              "    <tr>\n",
              "      <th>4</th>\n",
              "      <td>2.239799</td>\n",
              "      <td>2.785209</td>\n",
              "      <td>2.600757</td>\n",
              "      <td>3.116527</td>\n",
              "      <td>2.977250</td>\n",
              "      <td>2.859183</td>\n",
              "      <td>2.296027</td>\n",
              "      <td>3.216666</td>\n",
              "      <td>2.221606</td>\n",
              "      <td>2.424350</td>\n",
              "      <td>...</td>\n",
              "      <td>3.102548</td>\n",
              "      <td>2.242884</td>\n",
              "      <td>1.939796</td>\n",
              "      <td>1.736053</td>\n",
              "      <td>2.100648</td>\n",
              "      <td>2.456737</td>\n",
              "      <td>2.037821</td>\n",
              "      <td>1.935020</td>\n",
              "      <td>1.968626</td>\n",
              "      <td>2.395988</td>\n",
              "    </tr>\n",
              "  </tbody>\n",
              "</table>\n",
              "<p>5 rows × 400 columns</p>\n",
              "</div>\n",
              "      <button class=\"colab-df-convert\" onclick=\"convertToInteractive('df-d85229ba-1f8c-415f-aae7-b7854db4f20a')\"\n",
              "              title=\"Convert this dataframe to an interactive table.\"\n",
              "              style=\"display:none;\">\n",
              "        \n",
              "  <svg xmlns=\"http://www.w3.org/2000/svg\" height=\"24px\"viewBox=\"0 0 24 24\"\n",
              "       width=\"24px\">\n",
              "    <path d=\"M0 0h24v24H0V0z\" fill=\"none\"/>\n",
              "    <path d=\"M18.56 5.44l.94 2.06.94-2.06 2.06-.94-2.06-.94-.94-2.06-.94 2.06-2.06.94zm-11 1L8.5 8.5l.94-2.06 2.06-.94-2.06-.94L8.5 2.5l-.94 2.06-2.06.94zm10 10l.94 2.06.94-2.06 2.06-.94-2.06-.94-.94-2.06-.94 2.06-2.06.94z\"/><path d=\"M17.41 7.96l-1.37-1.37c-.4-.4-.92-.59-1.43-.59-.52 0-1.04.2-1.43.59L10.3 9.45l-7.72 7.72c-.78.78-.78 2.05 0 2.83L4 21.41c.39.39.9.59 1.41.59.51 0 1.02-.2 1.41-.59l7.78-7.78 2.81-2.81c.8-.78.8-2.07 0-2.86zM5.41 20L4 18.59l7.72-7.72 1.47 1.35L5.41 20z\"/>\n",
              "  </svg>\n",
              "      </button>\n",
              "      \n",
              "  <style>\n",
              "    .colab-df-container {\n",
              "      display:flex;\n",
              "      flex-wrap:wrap;\n",
              "      gap: 12px;\n",
              "    }\n",
              "\n",
              "    .colab-df-convert {\n",
              "      background-color: #E8F0FE;\n",
              "      border: none;\n",
              "      border-radius: 50%;\n",
              "      cursor: pointer;\n",
              "      display: none;\n",
              "      fill: #1967D2;\n",
              "      height: 32px;\n",
              "      padding: 0 0 0 0;\n",
              "      width: 32px;\n",
              "    }\n",
              "\n",
              "    .colab-df-convert:hover {\n",
              "      background-color: #E2EBFA;\n",
              "      box-shadow: 0px 1px 2px rgba(60, 64, 67, 0.3), 0px 1px 3px 1px rgba(60, 64, 67, 0.15);\n",
              "      fill: #174EA6;\n",
              "    }\n",
              "\n",
              "    [theme=dark] .colab-df-convert {\n",
              "      background-color: #3B4455;\n",
              "      fill: #D2E3FC;\n",
              "    }\n",
              "\n",
              "    [theme=dark] .colab-df-convert:hover {\n",
              "      background-color: #434B5C;\n",
              "      box-shadow: 0px 1px 3px 1px rgba(0, 0, 0, 0.15);\n",
              "      filter: drop-shadow(0px 1px 2px rgba(0, 0, 0, 0.3));\n",
              "      fill: #FFFFFF;\n",
              "    }\n",
              "  </style>\n",
              "\n",
              "      <script>\n",
              "        const buttonEl =\n",
              "          document.querySelector('#df-d85229ba-1f8c-415f-aae7-b7854db4f20a button.colab-df-convert');\n",
              "        buttonEl.style.display =\n",
              "          google.colab.kernel.accessAllowed ? 'block' : 'none';\n",
              "\n",
              "        async function convertToInteractive(key) {\n",
              "          const element = document.querySelector('#df-d85229ba-1f8c-415f-aae7-b7854db4f20a');\n",
              "          const dataTable =\n",
              "            await google.colab.kernel.invokeFunction('convertToInteractive',\n",
              "                                                     [key], {});\n",
              "          if (!dataTable) return;\n",
              "\n",
              "          const docLinkHtml = 'Like what you see? Visit the ' +\n",
              "            '<a target=\"_blank\" href=https://colab.research.google.com/notebooks/data_table.ipynb>data table notebook</a>'\n",
              "            + ' to learn more about interactive tables.';\n",
              "          element.innerHTML = '';\n",
              "          dataTable['output_type'] = 'display_data';\n",
              "          await google.colab.output.renderOutput(dataTable, element);\n",
              "          const docLink = document.createElement('div');\n",
              "          docLink.innerHTML = docLinkHtml;\n",
              "          element.appendChild(docLink);\n",
              "        }\n",
              "      </script>\n",
              "    </div>\n",
              "  </div>\n",
              "  "
            ]
          },
          "metadata": {},
          "execution_count": 10
        }
      ]
    },
    {
      "cell_type": "code",
      "source": [
        "y2_train = df_train2.iloc[:,-1]\n",
        "y2_train.head()"
      ],
      "metadata": {
        "colab": {
          "base_uri": "https://localhost:8080/"
        },
        "outputId": "5cdf3a36-9601-433f-ee46-f2b7aa659db5",
        "id": "b6jWoPq3WUgt"
      },
      "execution_count": null,
      "outputs": [
        {
          "output_type": "execute_result",
          "data": {
            "text/plain": [
              "0    1.0\n",
              "1    0.0\n",
              "2    1.0\n",
              "3    1.0\n",
              "4    0.0\n",
              "Name: Label, dtype: float64"
            ]
          },
          "metadata": {},
          "execution_count": 11
        }
      ]
    },
    {
      "cell_type": "code",
      "source": [
        "X3_train = df_train3.iloc[:,:-1]\n",
        "X3_train.head()"
      ],
      "metadata": {
        "colab": {
          "base_uri": "https://localhost:8080/",
          "height": 300
        },
        "outputId": "2dfd8188-9323-416a-cb78-585a2ce51eb4",
        "id": "QyMhT8npWU8D"
      },
      "execution_count": null,
      "outputs": [
        {
          "output_type": "execute_result",
          "data": {
            "text/plain": [
              "   211612_s_at  219678_x_at  217653_x_at  211996_s_at  214594_x_at  \\\n",
              "0     2.433180     2.672850     2.223647     2.894223     2.730180   \n",
              "1     2.261091     2.641439     2.350872     3.042087     2.856150   \n",
              "2     2.385914     2.510368     1.996011     2.624352     2.491994   \n",
              "3     2.262845     2.747069     2.666440     2.893101     2.998907   \n",
              "4     2.239799     2.785209     2.600757     3.116527     2.977250   \n",
              "\n",
              "   218155_x_at  202936_s_at  207730_x_at  205401_at  216609_at  ...  \\\n",
              "0     2.708516     2.677585     3.043026   2.277064   2.318040  ...   \n",
              "1     2.800348     2.392170     3.129235   2.249331   2.306733  ...   \n",
              "2     2.648607     2.355828     2.921754   2.316953   2.231919  ...   \n",
              "3     2.992614     2.352489     3.307086   2.165011   1.966337  ...   \n",
              "4     2.859183     2.296027     3.216666   2.221606   2.424350  ...   \n",
              "\n",
              "   214830_at  208654_s_at  202131_s_at  202817_s_at  201123_s_at  218002_s_at  \\\n",
              "0   2.316326     2.940958     2.170559     2.116067     2.485884     2.414447   \n",
              "1   2.248017     2.875015     2.089126     2.354635     2.642448     2.533421   \n",
              "2   2.327131     2.710852     1.971494     1.743328     2.171087     2.153860   \n",
              "3   1.774782     2.110986     1.840146     1.904847     2.203658     2.326658   \n",
              "4   2.100648     2.456737     2.037821     1.935020     2.410492     3.039731   \n",
              "\n",
              "   211985_s_at  200751_s_at  34031_i_at  201339_s_at  \n",
              "0     3.069618     2.456802    2.136241     2.794302  \n",
              "1     2.999199     2.582642    2.106757     2.788661  \n",
              "2     2.891588     2.406262    2.098736     2.921265  \n",
              "3     1.982301     1.346213    1.471070     1.703865  \n",
              "4     2.723537     2.164480    1.968626     2.395988  \n",
              "\n",
              "[5 rows x 500 columns]"
            ],
            "text/html": [
              "\n",
              "  <div id=\"df-38115d94-3802-4d7a-97e8-4f88517ccc21\">\n",
              "    <div class=\"colab-df-container\">\n",
              "      <div>\n",
              "<style scoped>\n",
              "    .dataframe tbody tr th:only-of-type {\n",
              "        vertical-align: middle;\n",
              "    }\n",
              "\n",
              "    .dataframe tbody tr th {\n",
              "        vertical-align: top;\n",
              "    }\n",
              "\n",
              "    .dataframe thead th {\n",
              "        text-align: right;\n",
              "    }\n",
              "</style>\n",
              "<table border=\"1\" class=\"dataframe\">\n",
              "  <thead>\n",
              "    <tr style=\"text-align: right;\">\n",
              "      <th></th>\n",
              "      <th>211612_s_at</th>\n",
              "      <th>219678_x_at</th>\n",
              "      <th>217653_x_at</th>\n",
              "      <th>211996_s_at</th>\n",
              "      <th>214594_x_at</th>\n",
              "      <th>218155_x_at</th>\n",
              "      <th>202936_s_at</th>\n",
              "      <th>207730_x_at</th>\n",
              "      <th>205401_at</th>\n",
              "      <th>216609_at</th>\n",
              "      <th>...</th>\n",
              "      <th>214830_at</th>\n",
              "      <th>208654_s_at</th>\n",
              "      <th>202131_s_at</th>\n",
              "      <th>202817_s_at</th>\n",
              "      <th>201123_s_at</th>\n",
              "      <th>218002_s_at</th>\n",
              "      <th>211985_s_at</th>\n",
              "      <th>200751_s_at</th>\n",
              "      <th>34031_i_at</th>\n",
              "      <th>201339_s_at</th>\n",
              "    </tr>\n",
              "  </thead>\n",
              "  <tbody>\n",
              "    <tr>\n",
              "      <th>0</th>\n",
              "      <td>2.433180</td>\n",
              "      <td>2.672850</td>\n",
              "      <td>2.223647</td>\n",
              "      <td>2.894223</td>\n",
              "      <td>2.730180</td>\n",
              "      <td>2.708516</td>\n",
              "      <td>2.677585</td>\n",
              "      <td>3.043026</td>\n",
              "      <td>2.277064</td>\n",
              "      <td>2.318040</td>\n",
              "      <td>...</td>\n",
              "      <td>2.316326</td>\n",
              "      <td>2.940958</td>\n",
              "      <td>2.170559</td>\n",
              "      <td>2.116067</td>\n",
              "      <td>2.485884</td>\n",
              "      <td>2.414447</td>\n",
              "      <td>3.069618</td>\n",
              "      <td>2.456802</td>\n",
              "      <td>2.136241</td>\n",
              "      <td>2.794302</td>\n",
              "    </tr>\n",
              "    <tr>\n",
              "      <th>1</th>\n",
              "      <td>2.261091</td>\n",
              "      <td>2.641439</td>\n",
              "      <td>2.350872</td>\n",
              "      <td>3.042087</td>\n",
              "      <td>2.856150</td>\n",
              "      <td>2.800348</td>\n",
              "      <td>2.392170</td>\n",
              "      <td>3.129235</td>\n",
              "      <td>2.249331</td>\n",
              "      <td>2.306733</td>\n",
              "      <td>...</td>\n",
              "      <td>2.248017</td>\n",
              "      <td>2.875015</td>\n",
              "      <td>2.089126</td>\n",
              "      <td>2.354635</td>\n",
              "      <td>2.642448</td>\n",
              "      <td>2.533421</td>\n",
              "      <td>2.999199</td>\n",
              "      <td>2.582642</td>\n",
              "      <td>2.106757</td>\n",
              "      <td>2.788661</td>\n",
              "    </tr>\n",
              "    <tr>\n",
              "      <th>2</th>\n",
              "      <td>2.385914</td>\n",
              "      <td>2.510368</td>\n",
              "      <td>1.996011</td>\n",
              "      <td>2.624352</td>\n",
              "      <td>2.491994</td>\n",
              "      <td>2.648607</td>\n",
              "      <td>2.355828</td>\n",
              "      <td>2.921754</td>\n",
              "      <td>2.316953</td>\n",
              "      <td>2.231919</td>\n",
              "      <td>...</td>\n",
              "      <td>2.327131</td>\n",
              "      <td>2.710852</td>\n",
              "      <td>1.971494</td>\n",
              "      <td>1.743328</td>\n",
              "      <td>2.171087</td>\n",
              "      <td>2.153860</td>\n",
              "      <td>2.891588</td>\n",
              "      <td>2.406262</td>\n",
              "      <td>2.098736</td>\n",
              "      <td>2.921265</td>\n",
              "    </tr>\n",
              "    <tr>\n",
              "      <th>3</th>\n",
              "      <td>2.262845</td>\n",
              "      <td>2.747069</td>\n",
              "      <td>2.666440</td>\n",
              "      <td>2.893101</td>\n",
              "      <td>2.998907</td>\n",
              "      <td>2.992614</td>\n",
              "      <td>2.352489</td>\n",
              "      <td>3.307086</td>\n",
              "      <td>2.165011</td>\n",
              "      <td>1.966337</td>\n",
              "      <td>...</td>\n",
              "      <td>1.774782</td>\n",
              "      <td>2.110986</td>\n",
              "      <td>1.840146</td>\n",
              "      <td>1.904847</td>\n",
              "      <td>2.203658</td>\n",
              "      <td>2.326658</td>\n",
              "      <td>1.982301</td>\n",
              "      <td>1.346213</td>\n",
              "      <td>1.471070</td>\n",
              "      <td>1.703865</td>\n",
              "    </tr>\n",
              "    <tr>\n",
              "      <th>4</th>\n",
              "      <td>2.239799</td>\n",
              "      <td>2.785209</td>\n",
              "      <td>2.600757</td>\n",
              "      <td>3.116527</td>\n",
              "      <td>2.977250</td>\n",
              "      <td>2.859183</td>\n",
              "      <td>2.296027</td>\n",
              "      <td>3.216666</td>\n",
              "      <td>2.221606</td>\n",
              "      <td>2.424350</td>\n",
              "      <td>...</td>\n",
              "      <td>2.100648</td>\n",
              "      <td>2.456737</td>\n",
              "      <td>2.037821</td>\n",
              "      <td>1.935020</td>\n",
              "      <td>2.410492</td>\n",
              "      <td>3.039731</td>\n",
              "      <td>2.723537</td>\n",
              "      <td>2.164480</td>\n",
              "      <td>1.968626</td>\n",
              "      <td>2.395988</td>\n",
              "    </tr>\n",
              "  </tbody>\n",
              "</table>\n",
              "<p>5 rows × 500 columns</p>\n",
              "</div>\n",
              "      <button class=\"colab-df-convert\" onclick=\"convertToInteractive('df-38115d94-3802-4d7a-97e8-4f88517ccc21')\"\n",
              "              title=\"Convert this dataframe to an interactive table.\"\n",
              "              style=\"display:none;\">\n",
              "        \n",
              "  <svg xmlns=\"http://www.w3.org/2000/svg\" height=\"24px\"viewBox=\"0 0 24 24\"\n",
              "       width=\"24px\">\n",
              "    <path d=\"M0 0h24v24H0V0z\" fill=\"none\"/>\n",
              "    <path d=\"M18.56 5.44l.94 2.06.94-2.06 2.06-.94-2.06-.94-.94-2.06-.94 2.06-2.06.94zm-11 1L8.5 8.5l.94-2.06 2.06-.94-2.06-.94L8.5 2.5l-.94 2.06-2.06.94zm10 10l.94 2.06.94-2.06 2.06-.94-2.06-.94-.94-2.06-.94 2.06-2.06.94z\"/><path d=\"M17.41 7.96l-1.37-1.37c-.4-.4-.92-.59-1.43-.59-.52 0-1.04.2-1.43.59L10.3 9.45l-7.72 7.72c-.78.78-.78 2.05 0 2.83L4 21.41c.39.39.9.59 1.41.59.51 0 1.02-.2 1.41-.59l7.78-7.78 2.81-2.81c.8-.78.8-2.07 0-2.86zM5.41 20L4 18.59l7.72-7.72 1.47 1.35L5.41 20z\"/>\n",
              "  </svg>\n",
              "      </button>\n",
              "      \n",
              "  <style>\n",
              "    .colab-df-container {\n",
              "      display:flex;\n",
              "      flex-wrap:wrap;\n",
              "      gap: 12px;\n",
              "    }\n",
              "\n",
              "    .colab-df-convert {\n",
              "      background-color: #E8F0FE;\n",
              "      border: none;\n",
              "      border-radius: 50%;\n",
              "      cursor: pointer;\n",
              "      display: none;\n",
              "      fill: #1967D2;\n",
              "      height: 32px;\n",
              "      padding: 0 0 0 0;\n",
              "      width: 32px;\n",
              "    }\n",
              "\n",
              "    .colab-df-convert:hover {\n",
              "      background-color: #E2EBFA;\n",
              "      box-shadow: 0px 1px 2px rgba(60, 64, 67, 0.3), 0px 1px 3px 1px rgba(60, 64, 67, 0.15);\n",
              "      fill: #174EA6;\n",
              "    }\n",
              "\n",
              "    [theme=dark] .colab-df-convert {\n",
              "      background-color: #3B4455;\n",
              "      fill: #D2E3FC;\n",
              "    }\n",
              "\n",
              "    [theme=dark] .colab-df-convert:hover {\n",
              "      background-color: #434B5C;\n",
              "      box-shadow: 0px 1px 3px 1px rgba(0, 0, 0, 0.15);\n",
              "      filter: drop-shadow(0px 1px 2px rgba(0, 0, 0, 0.3));\n",
              "      fill: #FFFFFF;\n",
              "    }\n",
              "  </style>\n",
              "\n",
              "      <script>\n",
              "        const buttonEl =\n",
              "          document.querySelector('#df-38115d94-3802-4d7a-97e8-4f88517ccc21 button.colab-df-convert');\n",
              "        buttonEl.style.display =\n",
              "          google.colab.kernel.accessAllowed ? 'block' : 'none';\n",
              "\n",
              "        async function convertToInteractive(key) {\n",
              "          const element = document.querySelector('#df-38115d94-3802-4d7a-97e8-4f88517ccc21');\n",
              "          const dataTable =\n",
              "            await google.colab.kernel.invokeFunction('convertToInteractive',\n",
              "                                                     [key], {});\n",
              "          if (!dataTable) return;\n",
              "\n",
              "          const docLinkHtml = 'Like what you see? Visit the ' +\n",
              "            '<a target=\"_blank\" href=https://colab.research.google.com/notebooks/data_table.ipynb>data table notebook</a>'\n",
              "            + ' to learn more about interactive tables.';\n",
              "          element.innerHTML = '';\n",
              "          dataTable['output_type'] = 'display_data';\n",
              "          await google.colab.output.renderOutput(dataTable, element);\n",
              "          const docLink = document.createElement('div');\n",
              "          docLink.innerHTML = docLinkHtml;\n",
              "          element.appendChild(docLink);\n",
              "        }\n",
              "      </script>\n",
              "    </div>\n",
              "  </div>\n",
              "  "
            ]
          },
          "metadata": {},
          "execution_count": 12
        }
      ]
    },
    {
      "cell_type": "code",
      "source": [
        "y3_train = df_train3.iloc[:,-1]\n",
        "y3_train.head()"
      ],
      "metadata": {
        "colab": {
          "base_uri": "https://localhost:8080/"
        },
        "outputId": "f4ac2aa6-8f29-4501-886f-c1548b40d639",
        "id": "qRlqj7hCWU8G"
      },
      "execution_count": null,
      "outputs": [
        {
          "output_type": "execute_result",
          "data": {
            "text/plain": [
              "0    1.0\n",
              "1    0.0\n",
              "2    1.0\n",
              "3    1.0\n",
              "4    0.0\n",
              "Name: Label, dtype: float64"
            ]
          },
          "metadata": {},
          "execution_count": 13
        }
      ]
    },
    {
      "cell_type": "markdown",
      "source": [
        "## Model tanpa Tuning"
      ],
      "metadata": {
        "id": "9t0AjQ1OTEPO"
      }
    },
    {
      "cell_type": "markdown",
      "source": [
        "AB1"
      ],
      "metadata": {
        "id": "2SgleqWJTzpJ"
      }
    },
    {
      "cell_type": "code",
      "source": [
        "ab1_non_tuning = AdaBoostClassifier()\n",
        "ab1_non_tuning_acc = cross_val_score(ab1_non_tuning, X1_train, y1_train, scoring=\"accuracy\", cv=10)\n",
        "print(\"Akurasi masing-masing = \", ab1_non_tuning_acc)\n",
        "print(\"Rata-rata = \", ab1_non_tuning_acc.mean())"
      ],
      "metadata": {
        "colab": {
          "base_uri": "https://localhost:8080/"
        },
        "id": "eQGu2RBYSqkk",
        "outputId": "200789ea-950c-4638-da8a-d728a0bfb6bf"
      },
      "execution_count": null,
      "outputs": [
        {
          "output_type": "stream",
          "name": "stdout",
          "text": [
            "Akurasi masing-masing =  [0.61538462 0.61538462 0.76923077 0.84615385 0.76923077 0.76923077\n",
            " 0.84615385 0.76923077 0.61538462 0.76923077]\n",
            "Rata-rata =  0.7384615384615384\n"
          ]
        }
      ]
    },
    {
      "cell_type": "markdown",
      "source": [
        "AB2"
      ],
      "metadata": {
        "id": "D_kUApnTWyHK"
      }
    },
    {
      "cell_type": "code",
      "source": [
        "ab2_non_tuning = AdaBoostClassifier()\n",
        "ab2_non_tuning_acc = cross_val_score(ab2_non_tuning, X2_train, y2_train, scoring=\"accuracy\", cv=10)\n",
        "print(\"Akurasi masing-masing = \", ab2_non_tuning_acc)\n",
        "print(\"Rata-rata = \", ab2_non_tuning_acc.mean())"
      ],
      "metadata": {
        "colab": {
          "base_uri": "https://localhost:8080/"
        },
        "outputId": "40c9e0a3-8765-4acb-ac3e-b6af52564773",
        "id": "flv6B01AWyHX"
      },
      "execution_count": null,
      "outputs": [
        {
          "output_type": "stream",
          "name": "stdout",
          "text": [
            "Akurasi masing-masing =  [0.84615385 0.69230769 0.61538462 0.84615385 0.76923077 0.69230769\n",
            " 0.84615385 0.84615385 0.69230769 0.76923077]\n",
            "Rata-rata =  0.7615384615384616\n"
          ]
        }
      ]
    },
    {
      "cell_type": "markdown",
      "source": [
        "AB3"
      ],
      "metadata": {
        "id": "cMbfyBjXWyVz"
      }
    },
    {
      "cell_type": "code",
      "source": [
        "ab3_non_tuning = AdaBoostClassifier()\n",
        "ab3_non_tuning_acc = cross_val_score(ab3_non_tuning, X3_train, y3_train, scoring=\"accuracy\", cv=10)\n",
        "print(\"Akurasi masing-masing = \", ab3_non_tuning_acc)\n",
        "print(\"Rata-rata = \", ab3_non_tuning_acc.mean())"
      ],
      "metadata": {
        "colab": {
          "base_uri": "https://localhost:8080/"
        },
        "outputId": "3d1c5ba7-e2f3-4a1e-e3eb-3b8fd63d9401",
        "id": "jeZjyWZ_WyV0"
      },
      "execution_count": null,
      "outputs": [
        {
          "output_type": "stream",
          "name": "stdout",
          "text": [
            "Akurasi masing-masing =  [0.61538462 0.76923077 0.92307692 0.92307692 0.84615385 0.61538462\n",
            " 0.76923077 0.84615385 0.61538462 0.76923077]\n",
            "Rata-rata =  0.7692307692307693\n"
          ]
        }
      ]
    },
    {
      "cell_type": "markdown",
      "source": [
        "## Hyperparameter Tuning"
      ],
      "metadata": {
        "id": "amnNy2SywM6u"
      }
    },
    {
      "cell_type": "markdown",
      "source": [
        "### Parameter yang akan dituning"
      ],
      "metadata": {
        "id": "5lxRbubebJys"
      }
    },
    {
      "cell_type": "markdown",
      "source": [
        "Definisi Parameter"
      ],
      "metadata": {
        "id": "bslIe0zJB5vx"
      }
    },
    {
      "cell_type": "code",
      "source": [
        "parameters_ab = {\n",
        "        'n_estimators' : [50, 100, 150, 200],\n",
        "        'learning_rate' : [0.01, 0.1, 1]  \n",
        "        }"
      ],
      "metadata": {
        "id": "_ZNmqByNbIBi"
      },
      "execution_count": null,
      "outputs": []
    },
    {
      "cell_type": "markdown",
      "source": [
        "### AB1"
      ],
      "metadata": {
        "id": "_bgMkX0UyGX6"
      }
    },
    {
      "cell_type": "code",
      "source": [
        "ab1_tuning = AdaBoostClassifier()"
      ],
      "metadata": {
        "id": "NJUjikkrwWzA"
      },
      "execution_count": null,
      "outputs": []
    },
    {
      "cell_type": "markdown",
      "source": [
        "Gridsearch (sekitar 3 menit running)"
      ],
      "metadata": {
        "id": "naCkGh7mXwmC"
      }
    },
    {
      "cell_type": "code",
      "source": [
        "search_ab1 = GridSearchCV(ab1_tuning,\n",
        "                        parameters_ab,\n",
        "                        scoring='accuracy',\n",
        "                        cv = 10,\n",
        "                        verbose=3)\n",
        "search_ab1.fit(X1_train, y1_train)"
      ],
      "metadata": {
        "colab": {
          "base_uri": "https://localhost:8080/"
        },
        "id": "TzXuSNLcyvBT",
        "outputId": "1f7a886e-2ab6-4139-ed8b-02afb273f747"
      },
      "execution_count": null,
      "outputs": [
        {
          "output_type": "stream",
          "name": "stdout",
          "text": [
            "Fitting 10 folds for each of 12 candidates, totalling 120 fits\n",
            "[CV 1/10] END learning_rate=0.01, n_estimators=50;, score=0.538 total time=   0.2s\n",
            "[CV 2/10] END learning_rate=0.01, n_estimators=50;, score=0.692 total time=   0.2s\n",
            "[CV 3/10] END learning_rate=0.01, n_estimators=50;, score=0.615 total time=   0.2s\n",
            "[CV 4/10] END learning_rate=0.01, n_estimators=50;, score=0.846 total time=   0.2s\n",
            "[CV 5/10] END learning_rate=0.01, n_estimators=50;, score=0.615 total time=   0.2s\n",
            "[CV 6/10] END learning_rate=0.01, n_estimators=50;, score=0.538 total time=   0.2s\n",
            "[CV 7/10] END learning_rate=0.01, n_estimators=50;, score=0.462 total time=   0.2s\n",
            "[CV 8/10] END learning_rate=0.01, n_estimators=50;, score=0.846 total time=   0.2s\n",
            "[CV 9/10] END learning_rate=0.01, n_estimators=50;, score=0.538 total time=   0.2s\n",
            "[CV 10/10] END learning_rate=0.01, n_estimators=50;, score=0.692 total time=   0.2s\n",
            "[CV 1/10] END learning_rate=0.01, n_estimators=100;, score=0.538 total time=   0.5s\n",
            "[CV 2/10] END learning_rate=0.01, n_estimators=100;, score=0.615 total time=   0.5s\n",
            "[CV 3/10] END learning_rate=0.01, n_estimators=100;, score=0.538 total time=   0.5s\n",
            "[CV 4/10] END learning_rate=0.01, n_estimators=100;, score=0.846 total time=   0.4s\n",
            "[CV 5/10] END learning_rate=0.01, n_estimators=100;, score=0.615 total time=   0.4s\n",
            "[CV 6/10] END learning_rate=0.01, n_estimators=100;, score=0.538 total time=   0.5s\n",
            "[CV 7/10] END learning_rate=0.01, n_estimators=100;, score=0.615 total time=   0.5s\n",
            "[CV 8/10] END learning_rate=0.01, n_estimators=100;, score=0.846 total time=   0.5s\n",
            "[CV 9/10] END learning_rate=0.01, n_estimators=100;, score=0.538 total time=   0.5s\n",
            "[CV 10/10] END learning_rate=0.01, n_estimators=100;, score=0.846 total time=   0.5s\n",
            "[CV 1/10] END learning_rate=0.01, n_estimators=150;, score=0.615 total time=   0.7s\n",
            "[CV 2/10] END learning_rate=0.01, n_estimators=150;, score=0.692 total time=   0.7s\n",
            "[CV 3/10] END learning_rate=0.01, n_estimators=150;, score=0.615 total time=   0.7s\n",
            "[CV 4/10] END learning_rate=0.01, n_estimators=150;, score=0.846 total time=   0.7s\n",
            "[CV 5/10] END learning_rate=0.01, n_estimators=150;, score=0.692 total time=   0.7s\n",
            "[CV 6/10] END learning_rate=0.01, n_estimators=150;, score=0.538 total time=   0.6s\n",
            "[CV 7/10] END learning_rate=0.01, n_estimators=150;, score=0.769 total time=   0.6s\n",
            "[CV 8/10] END learning_rate=0.01, n_estimators=150;, score=0.846 total time=   0.7s\n",
            "[CV 9/10] END learning_rate=0.01, n_estimators=150;, score=0.692 total time=   0.7s\n",
            "[CV 10/10] END learning_rate=0.01, n_estimators=150;, score=0.846 total time=   0.7s\n",
            "[CV 1/10] END learning_rate=0.01, n_estimators=200;, score=0.538 total time=   0.9s\n",
            "[CV 2/10] END learning_rate=0.01, n_estimators=200;, score=0.692 total time=   0.9s\n",
            "[CV 3/10] END learning_rate=0.01, n_estimators=200;, score=0.615 total time=   0.9s\n",
            "[CV 4/10] END learning_rate=0.01, n_estimators=200;, score=0.846 total time=   0.9s\n",
            "[CV 5/10] END learning_rate=0.01, n_estimators=200;, score=0.692 total time=   1.0s\n",
            "[CV 6/10] END learning_rate=0.01, n_estimators=200;, score=0.538 total time=   0.9s\n",
            "[CV 7/10] END learning_rate=0.01, n_estimators=200;, score=0.769 total time=   0.9s\n",
            "[CV 8/10] END learning_rate=0.01, n_estimators=200;, score=0.846 total time=   0.9s\n",
            "[CV 9/10] END learning_rate=0.01, n_estimators=200;, score=0.692 total time=   0.8s\n",
            "[CV 10/10] END learning_rate=0.01, n_estimators=200;, score=0.769 total time=   0.8s\n",
            "[CV 1/10] END learning_rate=0.1, n_estimators=50;, score=0.692 total time=   0.2s\n",
            "[CV 2/10] END learning_rate=0.1, n_estimators=50;, score=0.692 total time=   0.2s\n",
            "[CV 3/10] END learning_rate=0.1, n_estimators=50;, score=0.538 total time=   0.2s\n",
            "[CV 4/10] END learning_rate=0.1, n_estimators=50;, score=0.846 total time=   0.2s\n",
            "[CV 5/10] END learning_rate=0.1, n_estimators=50;, score=0.769 total time=   0.2s\n",
            "[CV 6/10] END learning_rate=0.1, n_estimators=50;, score=0.692 total time=   0.2s\n",
            "[CV 7/10] END learning_rate=0.1, n_estimators=50;, score=0.846 total time=   0.2s\n",
            "[CV 8/10] END learning_rate=0.1, n_estimators=50;, score=0.923 total time=   0.2s\n",
            "[CV 9/10] END learning_rate=0.1, n_estimators=50;, score=0.692 total time=   0.2s\n",
            "[CV 10/10] END learning_rate=0.1, n_estimators=50;, score=0.923 total time=   0.2s\n",
            "[CV 1/10] END learning_rate=0.1, n_estimators=100;, score=0.692 total time=   0.4s\n",
            "[CV 2/10] END learning_rate=0.1, n_estimators=100;, score=0.769 total time=   0.4s\n",
            "[CV 3/10] END learning_rate=0.1, n_estimators=100;, score=0.615 total time=   0.4s\n",
            "[CV 4/10] END learning_rate=0.1, n_estimators=100;, score=0.846 total time=   0.4s\n",
            "[CV 5/10] END learning_rate=0.1, n_estimators=100;, score=0.769 total time=   0.4s\n",
            "[CV 6/10] END learning_rate=0.1, n_estimators=100;, score=0.846 total time=   0.4s\n",
            "[CV 7/10] END learning_rate=0.1, n_estimators=100;, score=0.692 total time=   0.4s\n",
            "[CV 8/10] END learning_rate=0.1, n_estimators=100;, score=0.923 total time=   0.5s\n",
            "[CV 9/10] END learning_rate=0.1, n_estimators=100;, score=0.615 total time=   0.5s\n",
            "[CV 10/10] END learning_rate=0.1, n_estimators=100;, score=0.923 total time=   0.4s\n",
            "[CV 1/10] END learning_rate=0.1, n_estimators=150;, score=0.692 total time=   0.6s\n",
            "[CV 2/10] END learning_rate=0.1, n_estimators=150;, score=0.769 total time=   0.6s\n",
            "[CV 3/10] END learning_rate=0.1, n_estimators=150;, score=0.692 total time=   0.6s\n",
            "[CV 4/10] END learning_rate=0.1, n_estimators=150;, score=0.923 total time=   0.6s\n",
            "[CV 5/10] END learning_rate=0.1, n_estimators=150;, score=0.769 total time=   0.7s\n",
            "[CV 6/10] END learning_rate=0.1, n_estimators=150;, score=0.769 total time=   0.6s\n",
            "[CV 7/10] END learning_rate=0.1, n_estimators=150;, score=0.692 total time=   0.6s\n",
            "[CV 8/10] END learning_rate=0.1, n_estimators=150;, score=0.846 total time=   0.6s\n",
            "[CV 9/10] END learning_rate=0.1, n_estimators=150;, score=0.615 total time=   0.7s\n",
            "[CV 10/10] END learning_rate=0.1, n_estimators=150;, score=0.846 total time=   0.7s\n",
            "[CV 1/10] END learning_rate=0.1, n_estimators=200;, score=0.769 total time=   0.9s\n",
            "[CV 2/10] END learning_rate=0.1, n_estimators=200;, score=0.769 total time=   0.9s\n",
            "[CV 3/10] END learning_rate=0.1, n_estimators=200;, score=0.615 total time=   0.9s\n",
            "[CV 4/10] END learning_rate=0.1, n_estimators=200;, score=0.923 total time=   0.9s\n",
            "[CV 5/10] END learning_rate=0.1, n_estimators=200;, score=0.769 total time=   0.9s\n",
            "[CV 6/10] END learning_rate=0.1, n_estimators=200;, score=0.692 total time=   0.9s\n",
            "[CV 7/10] END learning_rate=0.1, n_estimators=200;, score=0.692 total time=   0.8s\n",
            "[CV 8/10] END learning_rate=0.1, n_estimators=200;, score=0.846 total time=   0.8s\n",
            "[CV 9/10] END learning_rate=0.1, n_estimators=200;, score=0.615 total time=   0.8s\n",
            "[CV 10/10] END learning_rate=0.1, n_estimators=200;, score=0.846 total time=   0.8s\n",
            "[CV 1/10] END .learning_rate=1, n_estimators=50;, score=0.615 total time=   0.2s\n",
            "[CV 2/10] END .learning_rate=1, n_estimators=50;, score=0.615 total time=   0.2s\n",
            "[CV 3/10] END .learning_rate=1, n_estimators=50;, score=0.769 total time=   0.2s\n",
            "[CV 4/10] END .learning_rate=1, n_estimators=50;, score=0.846 total time=   0.2s\n",
            "[CV 5/10] END .learning_rate=1, n_estimators=50;, score=0.769 total time=   0.2s\n",
            "[CV 6/10] END .learning_rate=1, n_estimators=50;, score=0.769 total time=   0.2s\n",
            "[CV 7/10] END .learning_rate=1, n_estimators=50;, score=0.846 total time=   0.2s\n",
            "[CV 8/10] END .learning_rate=1, n_estimators=50;, score=0.769 total time=   0.2s\n",
            "[CV 9/10] END .learning_rate=1, n_estimators=50;, score=0.615 total time=   0.2s\n",
            "[CV 10/10] END learning_rate=1, n_estimators=50;, score=0.769 total time=   0.2s\n",
            "[CV 1/10] END learning_rate=1, n_estimators=100;, score=0.692 total time=   0.4s\n",
            "[CV 2/10] END learning_rate=1, n_estimators=100;, score=0.769 total time=   0.4s\n",
            "[CV 3/10] END learning_rate=1, n_estimators=100;, score=0.769 total time=   0.5s\n",
            "[CV 4/10] END learning_rate=1, n_estimators=100;, score=0.923 total time=   0.4s\n",
            "[CV 5/10] END learning_rate=1, n_estimators=100;, score=0.769 total time=   0.4s\n",
            "[CV 6/10] END learning_rate=1, n_estimators=100;, score=0.769 total time=   0.5s\n",
            "[CV 7/10] END learning_rate=1, n_estimators=100;, score=0.769 total time=   0.5s\n",
            "[CV 8/10] END learning_rate=1, n_estimators=100;, score=0.846 total time=   0.5s\n",
            "[CV 9/10] END learning_rate=1, n_estimators=100;, score=0.615 total time=   0.4s\n",
            "[CV 10/10] END learning_rate=1, n_estimators=100;, score=0.769 total time=   0.4s\n",
            "[CV 1/10] END learning_rate=1, n_estimators=150;, score=0.692 total time=   0.7s\n",
            "[CV 2/10] END learning_rate=1, n_estimators=150;, score=0.769 total time=   0.7s\n",
            "[CV 3/10] END learning_rate=1, n_estimators=150;, score=0.846 total time=   0.6s\n",
            "[CV 4/10] END learning_rate=1, n_estimators=150;, score=0.846 total time=   0.7s\n",
            "[CV 5/10] END learning_rate=1, n_estimators=150;, score=0.846 total time=   0.7s\n",
            "[CV 6/10] END learning_rate=1, n_estimators=150;, score=0.769 total time=   0.7s\n",
            "[CV 7/10] END learning_rate=1, n_estimators=150;, score=0.769 total time=   0.6s\n",
            "[CV 8/10] END learning_rate=1, n_estimators=150;, score=0.923 total time=   1.3s\n",
            "[CV 9/10] END learning_rate=1, n_estimators=150;, score=0.692 total time=   1.3s\n",
            "[CV 10/10] END learning_rate=1, n_estimators=150;, score=0.769 total time=   1.3s\n",
            "[CV 1/10] END learning_rate=1, n_estimators=200;, score=0.692 total time=   0.8s\n",
            "[CV 2/10] END learning_rate=1, n_estimators=200;, score=0.769 total time=   0.9s\n",
            "[CV 3/10] END learning_rate=1, n_estimators=200;, score=0.692 total time=   0.9s\n",
            "[CV 4/10] END learning_rate=1, n_estimators=200;, score=0.769 total time=   0.9s\n",
            "[CV 5/10] END learning_rate=1, n_estimators=200;, score=0.846 total time=   0.9s\n",
            "[CV 6/10] END learning_rate=1, n_estimators=200;, score=0.692 total time=   0.9s\n",
            "[CV 7/10] END learning_rate=1, n_estimators=200;, score=0.769 total time=   0.9s\n",
            "[CV 8/10] END learning_rate=1, n_estimators=200;, score=0.923 total time=   0.8s\n",
            "[CV 9/10] END learning_rate=1, n_estimators=200;, score=0.692 total time=   0.9s\n",
            "[CV 10/10] END learning_rate=1, n_estimators=200;, score=0.692 total time=   0.9s\n"
          ]
        },
        {
          "output_type": "execute_result",
          "data": {
            "text/plain": [
              "GridSearchCV(cv=10, estimator=AdaBoostClassifier(),\n",
              "             param_grid={'learning_rate': [0.01, 0.1, 1],\n",
              "                         'n_estimators': [50, 100, 150, 200]},\n",
              "             scoring='accuracy', verbose=3)"
            ]
          },
          "metadata": {},
          "execution_count": 19
        }
      ]
    },
    {
      "cell_type": "markdown",
      "source": [
        "Akurasi dan parameter terbaik pada Gridsearch"
      ],
      "metadata": {
        "id": "McQVtTyKC1Hr"
      }
    },
    {
      "cell_type": "code",
      "source": [
        "ab1_best_acc_score = search_ab1.best_score_\n",
        "ab1_best_parameter = search_ab1.best_params_\n",
        "print(\"Akurasi terbaik = \", ab1_best_acc_score)\n",
        "print(\"Parameter terbaik = \", ab1_best_parameter)"
      ],
      "metadata": {
        "colab": {
          "base_uri": "https://localhost:8080/"
        },
        "id": "970IBo6giwoz",
        "outputId": "bd6c1033-e109-4af9-a9cd-728a1a1796c7"
      },
      "execution_count": null,
      "outputs": [
        {
          "output_type": "stream",
          "name": "stdout",
          "text": [
            "Akurasi terbaik =  0.7923076923076924\n",
            "Parameter terbaik =  {'learning_rate': 1, 'n_estimators': 150}\n"
          ]
        }
      ]
    },
    {
      "cell_type": "markdown",
      "source": [
        "Membuat model dengan parameter terbaik"
      ],
      "metadata": {
        "id": "Uzv1rPp6C4ZK"
      }
    },
    {
      "cell_type": "code",
      "source": [
        "learning_rate = ab1_best_parameter[\"learning_rate\"]\n",
        "n_estimators = ab1_best_parameter[\"n_estimators\"]\n",
        "\n",
        "ab1_tuning = AdaBoostClassifier(learning_rate=learning_rate, n_estimators=n_estimators)"
      ],
      "metadata": {
        "id": "TgQ8UW5g92Eo"
      },
      "execution_count": null,
      "outputs": []
    },
    {
      "cell_type": "markdown",
      "source": [
        "Cross val akhir"
      ],
      "metadata": {
        "id": "Xvp6w71VC6iM"
      }
    },
    {
      "cell_type": "code",
      "source": [
        "ab1_tuning_acc = cross_val_score(ab1_tuning, X1_train, y1_train, scoring=\"accuracy\", cv=10)\n",
        "print(\"Akurasi masing-masing = \", ab1_tuning_acc)\n",
        "print(\"Rata-rata = \", ab1_tuning_acc.mean())"
      ],
      "metadata": {
        "colab": {
          "base_uri": "https://localhost:8080/"
        },
        "id": "lxZksZFeYPNl",
        "outputId": "19078e37-8d84-41f0-8505-9234cef2e8df"
      },
      "execution_count": null,
      "outputs": [
        {
          "output_type": "stream",
          "name": "stdout",
          "text": [
            "Akurasi masing-masing =  [0.69230769 0.76923077 0.84615385 0.84615385 0.84615385 0.76923077\n",
            " 0.76923077 0.92307692 0.69230769 0.76923077]\n",
            "Rata-rata =  0.7923076923076924\n"
          ]
        }
      ]
    },
    {
      "cell_type": "markdown",
      "source": [
        "### AB2"
      ],
      "metadata": {
        "id": "lxz4DN8ga1Va"
      }
    },
    {
      "cell_type": "code",
      "source": [
        "ab2_tuning = AdaBoostClassifier()"
      ],
      "metadata": {
        "id": "Bdqn4f1Xa1Vb"
      },
      "execution_count": null,
      "outputs": []
    },
    {
      "cell_type": "markdown",
      "source": [
        "Gridsearch (sekitar 3 menit running)"
      ],
      "metadata": {
        "id": "yZzOoZpOa1Vb"
      }
    },
    {
      "cell_type": "code",
      "source": [
        "search_ab2 = GridSearchCV(ab2_tuning,\n",
        "                        parameters_ab,\n",
        "                        scoring='accuracy',\n",
        "                        cv = 10,\n",
        "                        verbose=3)\n",
        "search_ab2.fit(X2_train, y2_train)"
      ],
      "metadata": {
        "colab": {
          "base_uri": "https://localhost:8080/"
        },
        "outputId": "80d86e15-8f6d-4f0d-9d93-9fcafc940183",
        "id": "uFBsIwRna1Vc"
      },
      "execution_count": null,
      "outputs": [
        {
          "output_type": "stream",
          "name": "stdout",
          "text": [
            "Fitting 10 folds for each of 12 candidates, totalling 120 fits\n",
            "[CV 1/10] END learning_rate=0.01, n_estimators=50;, score=0.615 total time=   0.4s\n",
            "[CV 2/10] END learning_rate=0.01, n_estimators=50;, score=0.769 total time=   0.4s\n",
            "[CV 3/10] END learning_rate=0.01, n_estimators=50;, score=0.462 total time=   0.4s\n",
            "[CV 4/10] END learning_rate=0.01, n_estimators=50;, score=0.769 total time=   0.4s\n",
            "[CV 5/10] END learning_rate=0.01, n_estimators=50;, score=0.692 total time=   0.4s\n",
            "[CV 6/10] END learning_rate=0.01, n_estimators=50;, score=0.538 total time=   0.4s\n",
            "[CV 7/10] END learning_rate=0.01, n_estimators=50;, score=0.769 total time=   0.4s\n",
            "[CV 8/10] END learning_rate=0.01, n_estimators=50;, score=0.769 total time=   0.4s\n",
            "[CV 9/10] END learning_rate=0.01, n_estimators=50;, score=0.538 total time=   0.4s\n",
            "[CV 10/10] END learning_rate=0.01, n_estimators=50;, score=1.000 total time=   0.4s\n",
            "[CV 1/10] END learning_rate=0.01, n_estimators=100;, score=0.615 total time=   0.7s\n",
            "[CV 2/10] END learning_rate=0.01, n_estimators=100;, score=0.846 total time=   0.7s\n",
            "[CV 3/10] END learning_rate=0.01, n_estimators=100;, score=0.538 total time=   0.7s\n",
            "[CV 4/10] END learning_rate=0.01, n_estimators=100;, score=0.846 total time=   0.7s\n",
            "[CV 5/10] END learning_rate=0.01, n_estimators=100;, score=0.692 total time=   0.7s\n",
            "[CV 6/10] END learning_rate=0.01, n_estimators=100;, score=0.538 total time=   0.7s\n",
            "[CV 7/10] END learning_rate=0.01, n_estimators=100;, score=0.769 total time=   0.7s\n",
            "[CV 8/10] END learning_rate=0.01, n_estimators=100;, score=0.769 total time=   0.7s\n",
            "[CV 9/10] END learning_rate=0.01, n_estimators=100;, score=0.615 total time=   0.7s\n",
            "[CV 10/10] END learning_rate=0.01, n_estimators=100;, score=1.000 total time=   0.7s\n",
            "[CV 1/10] END learning_rate=0.01, n_estimators=150;, score=0.615 total time=   1.0s\n",
            "[CV 2/10] END learning_rate=0.01, n_estimators=150;, score=0.846 total time=   1.0s\n",
            "[CV 3/10] END learning_rate=0.01, n_estimators=150;, score=0.538 total time=   1.0s\n",
            "[CV 4/10] END learning_rate=0.01, n_estimators=150;, score=0.846 total time=   1.0s\n",
            "[CV 5/10] END learning_rate=0.01, n_estimators=150;, score=0.769 total time=   1.0s\n",
            "[CV 6/10] END learning_rate=0.01, n_estimators=150;, score=0.615 total time=   1.0s\n",
            "[CV 7/10] END learning_rate=0.01, n_estimators=150;, score=0.692 total time=   1.0s\n",
            "[CV 8/10] END learning_rate=0.01, n_estimators=150;, score=0.769 total time=   1.0s\n",
            "[CV 9/10] END learning_rate=0.01, n_estimators=150;, score=0.615 total time=   1.0s\n",
            "[CV 10/10] END learning_rate=0.01, n_estimators=150;, score=1.000 total time=   1.0s\n",
            "[CV 1/10] END learning_rate=0.01, n_estimators=200;, score=0.615 total time=   1.4s\n",
            "[CV 2/10] END learning_rate=0.01, n_estimators=200;, score=0.846 total time=   1.4s\n",
            "[CV 3/10] END learning_rate=0.01, n_estimators=200;, score=0.538 total time=   1.4s\n",
            "[CV 4/10] END learning_rate=0.01, n_estimators=200;, score=0.769 total time=   1.4s\n",
            "[CV 5/10] END learning_rate=0.01, n_estimators=200;, score=0.769 total time=   1.4s\n",
            "[CV 6/10] END learning_rate=0.01, n_estimators=200;, score=0.615 total time=   1.4s\n",
            "[CV 7/10] END learning_rate=0.01, n_estimators=200;, score=0.692 total time=   1.4s\n",
            "[CV 8/10] END learning_rate=0.01, n_estimators=200;, score=0.769 total time=   1.4s\n",
            "[CV 9/10] END learning_rate=0.01, n_estimators=200;, score=0.692 total time=   1.4s\n",
            "[CV 10/10] END learning_rate=0.01, n_estimators=200;, score=0.923 total time=   1.4s\n",
            "[CV 1/10] END learning_rate=0.1, n_estimators=50;, score=0.846 total time=   0.4s\n",
            "[CV 2/10] END learning_rate=0.1, n_estimators=50;, score=0.692 total time=   0.4s\n",
            "[CV 3/10] END learning_rate=0.1, n_estimators=50;, score=0.615 total time=   0.4s\n",
            "[CV 4/10] END learning_rate=0.1, n_estimators=50;, score=0.769 total time=   0.4s\n",
            "[CV 5/10] END learning_rate=0.1, n_estimators=50;, score=0.846 total time=   0.4s\n",
            "[CV 6/10] END learning_rate=0.1, n_estimators=50;, score=0.615 total time=   0.4s\n",
            "[CV 7/10] END learning_rate=0.1, n_estimators=50;, score=0.769 total time=   0.4s\n",
            "[CV 8/10] END learning_rate=0.1, n_estimators=50;, score=0.846 total time=   0.4s\n",
            "[CV 9/10] END learning_rate=0.1, n_estimators=50;, score=0.769 total time=   0.4s\n",
            "[CV 10/10] END learning_rate=0.1, n_estimators=50;, score=0.769 total time=   0.4s\n",
            "[CV 1/10] END learning_rate=0.1, n_estimators=100;, score=0.692 total time=   0.7s\n",
            "[CV 2/10] END learning_rate=0.1, n_estimators=100;, score=0.769 total time=   0.7s\n",
            "[CV 3/10] END learning_rate=0.1, n_estimators=100;, score=0.615 total time=   0.7s\n",
            "[CV 4/10] END learning_rate=0.1, n_estimators=100;, score=0.846 total time=   0.7s\n",
            "[CV 5/10] END learning_rate=0.1, n_estimators=100;, score=0.846 total time=   0.7s\n",
            "[CV 6/10] END learning_rate=0.1, n_estimators=100;, score=0.769 total time=   0.7s\n",
            "[CV 7/10] END learning_rate=0.1, n_estimators=100;, score=0.769 total time=   0.7s\n",
            "[CV 8/10] END learning_rate=0.1, n_estimators=100;, score=0.846 total time=   0.7s\n",
            "[CV 9/10] END learning_rate=0.1, n_estimators=100;, score=0.692 total time=   0.7s\n",
            "[CV 10/10] END learning_rate=0.1, n_estimators=100;, score=0.769 total time=   0.7s\n",
            "[CV 1/10] END learning_rate=0.1, n_estimators=150;, score=0.692 total time=   1.1s\n",
            "[CV 2/10] END learning_rate=0.1, n_estimators=150;, score=0.692 total time=   1.0s\n",
            "[CV 3/10] END learning_rate=0.1, n_estimators=150;, score=0.615 total time=   1.1s\n",
            "[CV 4/10] END learning_rate=0.1, n_estimators=150;, score=0.846 total time=   1.1s\n",
            "[CV 5/10] END learning_rate=0.1, n_estimators=150;, score=0.846 total time=   1.0s\n",
            "[CV 6/10] END learning_rate=0.1, n_estimators=150;, score=0.769 total time=   1.0s\n",
            "[CV 7/10] END learning_rate=0.1, n_estimators=150;, score=0.846 total time=   1.0s\n",
            "[CV 8/10] END learning_rate=0.1, n_estimators=150;, score=0.923 total time=   1.0s\n",
            "[CV 9/10] END learning_rate=0.1, n_estimators=150;, score=0.692 total time=   1.0s\n",
            "[CV 10/10] END learning_rate=0.1, n_estimators=150;, score=0.846 total time=   1.0s\n",
            "[CV 1/10] END learning_rate=0.1, n_estimators=200;, score=0.692 total time=   1.4s\n",
            "[CV 2/10] END learning_rate=0.1, n_estimators=200;, score=0.692 total time=   1.4s\n",
            "[CV 3/10] END learning_rate=0.1, n_estimators=200;, score=0.615 total time=   1.6s\n",
            "[CV 4/10] END learning_rate=0.1, n_estimators=200;, score=0.846 total time=   1.3s\n",
            "[CV 5/10] END learning_rate=0.1, n_estimators=200;, score=0.846 total time=   1.4s\n",
            "[CV 6/10] END learning_rate=0.1, n_estimators=200;, score=0.769 total time=   1.4s\n",
            "[CV 7/10] END learning_rate=0.1, n_estimators=200;, score=0.769 total time=   1.3s\n",
            "[CV 8/10] END learning_rate=0.1, n_estimators=200;, score=0.769 total time=   1.4s\n",
            "[CV 9/10] END learning_rate=0.1, n_estimators=200;, score=0.615 total time=   1.4s\n",
            "[CV 10/10] END learning_rate=0.1, n_estimators=200;, score=0.769 total time=   1.4s\n",
            "[CV 1/10] END .learning_rate=1, n_estimators=50;, score=0.846 total time=   0.4s\n",
            "[CV 2/10] END .learning_rate=1, n_estimators=50;, score=0.692 total time=   0.4s\n",
            "[CV 3/10] END .learning_rate=1, n_estimators=50;, score=0.615 total time=   0.3s\n",
            "[CV 4/10] END .learning_rate=1, n_estimators=50;, score=0.846 total time=   0.3s\n",
            "[CV 5/10] END .learning_rate=1, n_estimators=50;, score=0.769 total time=   0.4s\n",
            "[CV 6/10] END .learning_rate=1, n_estimators=50;, score=0.692 total time=   0.4s\n",
            "[CV 7/10] END .learning_rate=1, n_estimators=50;, score=0.846 total time=   0.4s\n",
            "[CV 8/10] END .learning_rate=1, n_estimators=50;, score=0.846 total time=   0.4s\n",
            "[CV 9/10] END .learning_rate=1, n_estimators=50;, score=0.692 total time=   0.4s\n",
            "[CV 10/10] END learning_rate=1, n_estimators=50;, score=0.769 total time=   0.4s\n",
            "[CV 1/10] END learning_rate=1, n_estimators=100;, score=0.769 total time=   0.7s\n",
            "[CV 2/10] END learning_rate=1, n_estimators=100;, score=0.769 total time=   0.7s\n",
            "[CV 3/10] END learning_rate=1, n_estimators=100;, score=0.769 total time=   0.7s\n",
            "[CV 4/10] END learning_rate=1, n_estimators=100;, score=0.846 total time=   0.7s\n",
            "[CV 5/10] END learning_rate=1, n_estimators=100;, score=0.769 total time=   0.7s\n",
            "[CV 6/10] END learning_rate=1, n_estimators=100;, score=0.615 total time=   0.7s\n",
            "[CV 7/10] END learning_rate=1, n_estimators=100;, score=0.846 total time=   0.7s\n",
            "[CV 8/10] END learning_rate=1, n_estimators=100;, score=0.769 total time=   0.7s\n",
            "[CV 9/10] END learning_rate=1, n_estimators=100;, score=0.769 total time=   0.7s\n",
            "[CV 10/10] END learning_rate=1, n_estimators=100;, score=0.692 total time=   0.7s\n",
            "[CV 1/10] END learning_rate=1, n_estimators=150;, score=0.692 total time=   1.0s\n",
            "[CV 2/10] END learning_rate=1, n_estimators=150;, score=0.692 total time=   1.0s\n",
            "[CV 3/10] END learning_rate=1, n_estimators=150;, score=0.769 total time=   1.2s\n",
            "[CV 4/10] END learning_rate=1, n_estimators=150;, score=0.769 total time=   1.9s\n",
            "[CV 5/10] END learning_rate=1, n_estimators=150;, score=0.769 total time=   2.1s\n",
            "[CV 6/10] END learning_rate=1, n_estimators=150;, score=0.692 total time=   1.6s\n",
            "[CV 7/10] END learning_rate=1, n_estimators=150;, score=0.769 total time=   1.0s\n",
            "[CV 8/10] END learning_rate=1, n_estimators=150;, score=0.769 total time=   1.1s\n",
            "[CV 9/10] END learning_rate=1, n_estimators=150;, score=0.692 total time=   1.0s\n",
            "[CV 10/10] END learning_rate=1, n_estimators=150;, score=0.769 total time=   1.1s\n",
            "[CV 1/10] END learning_rate=1, n_estimators=200;, score=0.769 total time=   1.5s\n",
            "[CV 2/10] END learning_rate=1, n_estimators=200;, score=0.769 total time=   1.4s\n",
            "[CV 3/10] END learning_rate=1, n_estimators=200;, score=0.769 total time=   1.4s\n",
            "[CV 4/10] END learning_rate=1, n_estimators=200;, score=0.846 total time=   1.4s\n",
            "[CV 5/10] END learning_rate=1, n_estimators=200;, score=0.769 total time=   1.3s\n",
            "[CV 6/10] END learning_rate=1, n_estimators=200;, score=0.615 total time=   1.4s\n",
            "[CV 7/10] END learning_rate=1, n_estimators=200;, score=0.769 total time=   1.4s\n",
            "[CV 8/10] END learning_rate=1, n_estimators=200;, score=0.769 total time=   1.4s\n",
            "[CV 9/10] END learning_rate=1, n_estimators=200;, score=0.615 total time=   1.4s\n",
            "[CV 10/10] END learning_rate=1, n_estimators=200;, score=0.769 total time=   1.5s\n"
          ]
        },
        {
          "output_type": "execute_result",
          "data": {
            "text/plain": [
              "GridSearchCV(cv=10, estimator=AdaBoostClassifier(),\n",
              "             param_grid={'learning_rate': [0.01, 0.1, 1],\n",
              "                         'n_estimators': [50, 100, 150, 200]},\n",
              "             scoring='accuracy', verbose=3)"
            ]
          },
          "metadata": {},
          "execution_count": 24
        }
      ]
    },
    {
      "cell_type": "markdown",
      "source": [
        "Akurasi dan parameter terbaik pada Gridsearh"
      ],
      "metadata": {
        "id": "nxTAzAU6C8xj"
      }
    },
    {
      "cell_type": "code",
      "source": [
        "ab2_best_acc_score = search_ab2.best_score_\n",
        "ab2_best_parameter = search_ab2.best_params_\n",
        "print(\"Akurasi terbaik = \", ab2_best_acc_score)\n",
        "print(\"Parameter terbaik = \", ab2_best_parameter)"
      ],
      "metadata": {
        "colab": {
          "base_uri": "https://localhost:8080/"
        },
        "outputId": "f3286f2e-ee04-496e-831f-dcd11ed8edc7",
        "id": "-gQObjwXa1Vc"
      },
      "execution_count": null,
      "outputs": [
        {
          "output_type": "stream",
          "name": "stdout",
          "text": [
            "Akurasi terbaik =  0.7769230769230769\n",
            "Parameter terbaik =  {'learning_rate': 0.1, 'n_estimators': 150}\n"
          ]
        }
      ]
    },
    {
      "cell_type": "markdown",
      "source": [
        "Membuat model dengan parameter terbaik"
      ],
      "metadata": {
        "id": "QsKLIUJMC_NQ"
      }
    },
    {
      "cell_type": "code",
      "source": [
        "learning_rate = ab2_best_parameter[\"learning_rate\"]\n",
        "n_estimators = ab2_best_parameter[\"n_estimators\"]\n",
        "\n",
        "ab2_tuning = AdaBoostClassifier(learning_rate=learning_rate, n_estimators=n_estimators)"
      ],
      "metadata": {
        "id": "iMwqfnbAa1Vd"
      },
      "execution_count": null,
      "outputs": []
    },
    {
      "cell_type": "markdown",
      "source": [
        "Cross val akhir"
      ],
      "metadata": {
        "id": "Csez553vDCn0"
      }
    },
    {
      "cell_type": "code",
      "source": [
        "ab2_tuning_acc = cross_val_score(ab2_tuning, X2_train, y2_train, scoring=\"accuracy\", cv=10)\n",
        "print(\"Akurasi masing-masing = \", ab2_tuning_acc)\n",
        "print(\"Rata-rata = \", ab2_tuning_acc.mean())"
      ],
      "metadata": {
        "colab": {
          "base_uri": "https://localhost:8080/"
        },
        "outputId": "cab4139a-2c3b-4226-af2a-40475cb67c9b",
        "id": "TDfjtyJva1Vd"
      },
      "execution_count": null,
      "outputs": [
        {
          "output_type": "stream",
          "name": "stdout",
          "text": [
            "Akurasi masing-masing =  [0.69230769 0.69230769 0.61538462 0.84615385 0.84615385 0.76923077\n",
            " 0.84615385 0.92307692 0.69230769 0.84615385]\n",
            "Rata-rata =  0.7769230769230769\n"
          ]
        }
      ]
    },
    {
      "cell_type": "markdown",
      "source": [
        "### AB3"
      ],
      "metadata": {
        "id": "I-fsz3a0a37S"
      }
    },
    {
      "cell_type": "code",
      "source": [
        "ab3_tuning = AdaBoostClassifier()"
      ],
      "metadata": {
        "id": "h7Zvck61a37U"
      },
      "execution_count": null,
      "outputs": []
    },
    {
      "cell_type": "markdown",
      "source": [
        "Gridsearch (sekitar 3 menit running)"
      ],
      "metadata": {
        "id": "Vitep8Sra37V"
      }
    },
    {
      "cell_type": "code",
      "source": [
        "search_ab3 = GridSearchCV(ab3_tuning,\n",
        "                        parameters_ab,\n",
        "                        scoring='accuracy',\n",
        "                        cv = 10,\n",
        "                        verbose=3)\n",
        "search_ab3.fit(X3_train, y3_train)"
      ],
      "metadata": {
        "colab": {
          "base_uri": "https://localhost:8080/"
        },
        "outputId": "19024e87-5289-4e71-9900-741c8aaecc73",
        "id": "f6sroNTfa37W"
      },
      "execution_count": null,
      "outputs": [
        {
          "output_type": "stream",
          "name": "stdout",
          "text": [
            "Fitting 10 folds for each of 12 candidates, totalling 120 fits\n",
            "[CV 1/10] END learning_rate=0.01, n_estimators=50;, score=0.615 total time=   0.4s\n",
            "[CV 2/10] END learning_rate=0.01, n_estimators=50;, score=0.769 total time=   0.4s\n",
            "[CV 3/10] END learning_rate=0.01, n_estimators=50;, score=0.462 total time=   0.4s\n",
            "[CV 4/10] END learning_rate=0.01, n_estimators=50;, score=0.769 total time=   0.4s\n",
            "[CV 5/10] END learning_rate=0.01, n_estimators=50;, score=0.692 total time=   0.4s\n",
            "[CV 6/10] END learning_rate=0.01, n_estimators=50;, score=0.538 total time=   0.4s\n",
            "[CV 7/10] END learning_rate=0.01, n_estimators=50;, score=0.538 total time=   0.4s\n",
            "[CV 8/10] END learning_rate=0.01, n_estimators=50;, score=0.769 total time=   0.4s\n",
            "[CV 9/10] END learning_rate=0.01, n_estimators=50;, score=0.538 total time=   0.4s\n",
            "[CV 10/10] END learning_rate=0.01, n_estimators=50;, score=1.000 total time=   0.4s\n",
            "[CV 1/10] END learning_rate=0.01, n_estimators=100;, score=0.538 total time=   0.8s\n",
            "[CV 2/10] END learning_rate=0.01, n_estimators=100;, score=0.846 total time=   0.8s\n",
            "[CV 3/10] END learning_rate=0.01, n_estimators=100;, score=0.538 total time=   0.8s\n",
            "[CV 4/10] END learning_rate=0.01, n_estimators=100;, score=0.846 total time=   0.8s\n",
            "[CV 5/10] END learning_rate=0.01, n_estimators=100;, score=0.769 total time=   0.8s\n",
            "[CV 6/10] END learning_rate=0.01, n_estimators=100;, score=0.538 total time=   0.8s\n",
            "[CV 7/10] END learning_rate=0.01, n_estimators=100;, score=0.692 total time=   0.8s\n",
            "[CV 8/10] END learning_rate=0.01, n_estimators=100;, score=0.769 total time=   0.8s\n",
            "[CV 9/10] END learning_rate=0.01, n_estimators=100;, score=0.615 total time=   0.8s\n",
            "[CV 10/10] END learning_rate=0.01, n_estimators=100;, score=1.000 total time=   0.8s\n",
            "[CV 1/10] END learning_rate=0.01, n_estimators=150;, score=0.615 total time=   1.2s\n",
            "[CV 2/10] END learning_rate=0.01, n_estimators=150;, score=0.846 total time=   1.3s\n",
            "[CV 3/10] END learning_rate=0.01, n_estimators=150;, score=0.615 total time=   1.2s\n",
            "[CV 4/10] END learning_rate=0.01, n_estimators=150;, score=0.846 total time=   1.2s\n",
            "[CV 5/10] END learning_rate=0.01, n_estimators=150;, score=0.769 total time=   1.2s\n",
            "[CV 6/10] END learning_rate=0.01, n_estimators=150;, score=0.615 total time=   1.2s\n",
            "[CV 7/10] END learning_rate=0.01, n_estimators=150;, score=0.692 total time=   1.3s\n",
            "[CV 8/10] END learning_rate=0.01, n_estimators=150;, score=0.769 total time=   1.2s\n",
            "[CV 9/10] END learning_rate=0.01, n_estimators=150;, score=0.692 total time=   1.3s\n",
            "[CV 10/10] END learning_rate=0.01, n_estimators=150;, score=0.923 total time=   1.2s\n",
            "[CV 1/10] END learning_rate=0.01, n_estimators=200;, score=0.615 total time=   1.7s\n",
            "[CV 2/10] END learning_rate=0.01, n_estimators=200;, score=0.846 total time=   1.6s\n",
            "[CV 3/10] END learning_rate=0.01, n_estimators=200;, score=0.692 total time=   1.6s\n",
            "[CV 4/10] END learning_rate=0.01, n_estimators=200;, score=0.769 total time=   1.6s\n",
            "[CV 5/10] END learning_rate=0.01, n_estimators=200;, score=0.769 total time=   1.6s\n",
            "[CV 6/10] END learning_rate=0.01, n_estimators=200;, score=0.615 total time=   1.6s\n",
            "[CV 7/10] END learning_rate=0.01, n_estimators=200;, score=0.692 total time=   1.6s\n",
            "[CV 8/10] END learning_rate=0.01, n_estimators=200;, score=0.769 total time=   1.7s\n",
            "[CV 9/10] END learning_rate=0.01, n_estimators=200;, score=0.846 total time=   1.6s\n",
            "[CV 10/10] END learning_rate=0.01, n_estimators=200;, score=0.923 total time=   1.7s\n",
            "[CV 1/10] END learning_rate=0.1, n_estimators=50;, score=0.846 total time=   0.4s\n",
            "[CV 2/10] END learning_rate=0.1, n_estimators=50;, score=0.846 total time=   0.4s\n",
            "[CV 3/10] END learning_rate=0.1, n_estimators=50;, score=0.692 total time=   0.4s\n",
            "[CV 4/10] END learning_rate=0.1, n_estimators=50;, score=0.846 total time=   0.4s\n",
            "[CV 5/10] END learning_rate=0.1, n_estimators=50;, score=0.769 total time=   0.4s\n",
            "[CV 6/10] END learning_rate=0.1, n_estimators=50;, score=0.615 total time=   0.4s\n",
            "[CV 7/10] END learning_rate=0.1, n_estimators=50;, score=0.769 total time=   0.4s\n",
            "[CV 8/10] END learning_rate=0.1, n_estimators=50;, score=0.846 total time=   0.4s\n",
            "[CV 9/10] END learning_rate=0.1, n_estimators=50;, score=0.692 total time=   0.4s\n",
            "[CV 10/10] END learning_rate=0.1, n_estimators=50;, score=0.846 total time=   0.4s\n",
            "[CV 1/10] END learning_rate=0.1, n_estimators=100;, score=0.692 total time=   0.8s\n",
            "[CV 2/10] END learning_rate=0.1, n_estimators=100;, score=0.846 total time=   0.8s\n",
            "[CV 3/10] END learning_rate=0.1, n_estimators=100;, score=0.692 total time=   0.8s\n",
            "[CV 4/10] END learning_rate=0.1, n_estimators=100;, score=0.923 total time=   0.8s\n",
            "[CV 5/10] END learning_rate=0.1, n_estimators=100;, score=0.846 total time=   0.8s\n",
            "[CV 6/10] END learning_rate=0.1, n_estimators=100;, score=0.692 total time=   0.8s\n",
            "[CV 7/10] END learning_rate=0.1, n_estimators=100;, score=0.769 total time=   1.0s\n",
            "[CV 8/10] END learning_rate=0.1, n_estimators=100;, score=0.846 total time=   1.0s\n",
            "[CV 9/10] END learning_rate=0.1, n_estimators=100;, score=0.692 total time=   1.0s\n",
            "[CV 10/10] END learning_rate=0.1, n_estimators=100;, score=0.692 total time=   0.8s\n",
            "[CV 1/10] END learning_rate=0.1, n_estimators=150;, score=0.692 total time=   1.2s\n",
            "[CV 2/10] END learning_rate=0.1, n_estimators=150;, score=0.846 total time=   1.3s\n",
            "[CV 3/10] END learning_rate=0.1, n_estimators=150;, score=0.923 total time=   1.3s\n",
            "[CV 4/10] END learning_rate=0.1, n_estimators=150;, score=0.846 total time=   1.3s\n",
            "[CV 5/10] END learning_rate=0.1, n_estimators=150;, score=0.769 total time=   1.3s\n",
            "[CV 6/10] END learning_rate=0.1, n_estimators=150;, score=0.692 total time=   1.3s\n",
            "[CV 7/10] END learning_rate=0.1, n_estimators=150;, score=0.846 total time=   1.3s\n",
            "[CV 8/10] END learning_rate=0.1, n_estimators=150;, score=0.846 total time=   1.3s\n",
            "[CV 9/10] END learning_rate=0.1, n_estimators=150;, score=0.615 total time=   1.3s\n",
            "[CV 10/10] END learning_rate=0.1, n_estimators=150;, score=0.769 total time=   1.3s\n",
            "[CV 1/10] END learning_rate=0.1, n_estimators=200;, score=0.769 total time=   1.7s\n",
            "[CV 2/10] END learning_rate=0.1, n_estimators=200;, score=0.846 total time=   1.7s\n",
            "[CV 3/10] END learning_rate=0.1, n_estimators=200;, score=0.846 total time=   1.7s\n",
            "[CV 4/10] END learning_rate=0.1, n_estimators=200;, score=0.769 total time=   1.7s\n",
            "[CV 5/10] END learning_rate=0.1, n_estimators=200;, score=0.769 total time=   1.6s\n",
            "[CV 6/10] END learning_rate=0.1, n_estimators=200;, score=0.692 total time=   1.7s\n",
            "[CV 7/10] END learning_rate=0.1, n_estimators=200;, score=0.769 total time=   1.7s\n",
            "[CV 8/10] END learning_rate=0.1, n_estimators=200;, score=0.846 total time=   1.7s\n",
            "[CV 9/10] END learning_rate=0.1, n_estimators=200;, score=0.615 total time=   1.7s\n",
            "[CV 10/10] END learning_rate=0.1, n_estimators=200;, score=0.846 total time=   1.7s\n",
            "[CV 1/10] END .learning_rate=1, n_estimators=50;, score=0.615 total time=   0.4s\n",
            "[CV 2/10] END .learning_rate=1, n_estimators=50;, score=0.769 total time=   0.4s\n",
            "[CV 3/10] END .learning_rate=1, n_estimators=50;, score=0.923 total time=   0.4s\n",
            "[CV 4/10] END .learning_rate=1, n_estimators=50;, score=0.923 total time=   0.5s\n",
            "[CV 5/10] END .learning_rate=1, n_estimators=50;, score=0.846 total time=   0.5s\n",
            "[CV 6/10] END .learning_rate=1, n_estimators=50;, score=0.615 total time=   0.4s\n",
            "[CV 7/10] END .learning_rate=1, n_estimators=50;, score=0.769 total time=   0.5s\n",
            "[CV 8/10] END .learning_rate=1, n_estimators=50;, score=0.846 total time=   0.4s\n",
            "[CV 9/10] END .learning_rate=1, n_estimators=50;, score=0.615 total time=   0.4s\n",
            "[CV 10/10] END learning_rate=1, n_estimators=50;, score=0.769 total time=   0.4s\n",
            "[CV 1/10] END learning_rate=1, n_estimators=100;, score=0.769 total time=   0.9s\n",
            "[CV 2/10] END learning_rate=1, n_estimators=100;, score=0.692 total time=   0.9s\n",
            "[CV 3/10] END learning_rate=1, n_estimators=100;, score=0.846 total time=   0.9s\n",
            "[CV 4/10] END learning_rate=1, n_estimators=100;, score=0.923 total time=   0.9s\n",
            "[CV 5/10] END learning_rate=1, n_estimators=100;, score=0.846 total time=   0.8s\n",
            "[CV 6/10] END learning_rate=1, n_estimators=100;, score=0.538 total time=   0.9s\n",
            "[CV 7/10] END learning_rate=1, n_estimators=100;, score=0.846 total time=   0.9s\n",
            "[CV 8/10] END learning_rate=1, n_estimators=100;, score=0.769 total time=   0.9s\n",
            "[CV 9/10] END learning_rate=1, n_estimators=100;, score=0.692 total time=   0.9s\n",
            "[CV 10/10] END learning_rate=1, n_estimators=100;, score=0.846 total time=   0.9s\n",
            "[CV 1/10] END learning_rate=1, n_estimators=150;, score=0.769 total time=   1.3s\n",
            "[CV 2/10] END learning_rate=1, n_estimators=150;, score=0.692 total time=   1.3s\n",
            "[CV 3/10] END learning_rate=1, n_estimators=150;, score=0.846 total time=   1.3s\n",
            "[CV 4/10] END learning_rate=1, n_estimators=150;, score=0.846 total time=   1.3s\n",
            "[CV 5/10] END learning_rate=1, n_estimators=150;, score=0.846 total time=   1.2s\n",
            "[CV 6/10] END learning_rate=1, n_estimators=150;, score=0.615 total time=   1.3s\n",
            "[CV 7/10] END learning_rate=1, n_estimators=150;, score=0.846 total time=   1.3s\n",
            "[CV 8/10] END learning_rate=1, n_estimators=150;, score=0.846 total time=   1.2s\n",
            "[CV 9/10] END learning_rate=1, n_estimators=150;, score=0.769 total time=   1.3s\n",
            "[CV 10/10] END learning_rate=1, n_estimators=150;, score=0.846 total time=   1.3s\n",
            "[CV 1/10] END learning_rate=1, n_estimators=200;, score=0.692 total time=   1.7s\n",
            "[CV 2/10] END learning_rate=1, n_estimators=200;, score=0.769 total time=   1.7s\n",
            "[CV 3/10] END learning_rate=1, n_estimators=200;, score=0.846 total time=   1.7s\n",
            "[CV 4/10] END learning_rate=1, n_estimators=200;, score=0.769 total time=   1.6s\n",
            "[CV 5/10] END learning_rate=1, n_estimators=200;, score=0.846 total time=   1.6s\n",
            "[CV 6/10] END learning_rate=1, n_estimators=200;, score=0.538 total time=   1.7s\n",
            "[CV 7/10] END learning_rate=1, n_estimators=200;, score=0.769 total time=   1.7s\n",
            "[CV 8/10] END learning_rate=1, n_estimators=200;, score=0.846 total time=   1.7s\n",
            "[CV 9/10] END learning_rate=1, n_estimators=200;, score=0.769 total time=   1.7s\n",
            "[CV 10/10] END learning_rate=1, n_estimators=200;, score=0.846 total time=   1.7s\n"
          ]
        },
        {
          "output_type": "execute_result",
          "data": {
            "text/plain": [
              "GridSearchCV(cv=10, estimator=AdaBoostClassifier(),\n",
              "             param_grid={'learning_rate': [0.01, 0.1, 1],\n",
              "                         'n_estimators': [50, 100, 150, 200]},\n",
              "             scoring='accuracy', verbose=3)"
            ]
          },
          "metadata": {},
          "execution_count": 29
        }
      ]
    },
    {
      "cell_type": "markdown",
      "source": [
        "Akurasi dan parameter terbaik pada Gridsearch"
      ],
      "metadata": {
        "id": "19W6A1lyDFaj"
      }
    },
    {
      "cell_type": "code",
      "source": [
        "ab3_best_acc_score = search_ab3.best_score_\n",
        "ab3_best_parameter = search_ab3.best_params_\n",
        "print(\"Akurasi terbaik = \", ab3_best_acc_score)\n",
        "print(\"Parameter terbaik = \", ab3_best_parameter)"
      ],
      "metadata": {
        "colab": {
          "base_uri": "https://localhost:8080/"
        },
        "outputId": "cae53f89-2bac-4a74-87a1-0cee8991a076",
        "id": "O4kknkvUa37X"
      },
      "execution_count": null,
      "outputs": [
        {
          "output_type": "stream",
          "name": "stdout",
          "text": [
            "Akurasi terbaik =  0.7923076923076924\n",
            "Parameter terbaik =  {'learning_rate': 1, 'n_estimators': 150}\n"
          ]
        }
      ]
    },
    {
      "cell_type": "markdown",
      "source": [
        "Membuat model dengan parameter terbaik"
      ],
      "metadata": {
        "id": "kia9yVYwDJM8"
      }
    },
    {
      "cell_type": "code",
      "source": [
        "learning_rate = ab3_best_parameter[\"learning_rate\"]\n",
        "n_estimators = ab3_best_parameter[\"n_estimators\"]\n",
        "\n",
        "ab3_tuning = AdaBoostClassifier(learning_rate=learning_rate, n_estimators=n_estimators)"
      ],
      "metadata": {
        "id": "mseUNeiaa37Y"
      },
      "execution_count": null,
      "outputs": []
    },
    {
      "cell_type": "markdown",
      "source": [
        "Cross val score"
      ],
      "metadata": {
        "id": "R86Wo7VqDLFl"
      }
    },
    {
      "cell_type": "code",
      "source": [
        "ab3_tuning_acc = cross_val_score(ab3_tuning, X3_train, y3_train, scoring=\"accuracy\", cv=10)\n",
        "print(\"Akurasi masing-masing = \", ab3_tuning_acc)\n",
        "print(\"Rata-rata = \", ab3_tuning_acc.mean())"
      ],
      "metadata": {
        "colab": {
          "base_uri": "https://localhost:8080/"
        },
        "outputId": "f06dded8-e5bc-4bdb-d82b-0804dddde911",
        "id": "zfevSad1a37Z"
      },
      "execution_count": null,
      "outputs": [
        {
          "output_type": "stream",
          "name": "stdout",
          "text": [
            "Akurasi masing-masing =  [0.76923077 0.69230769 0.84615385 0.84615385 0.84615385 0.61538462\n",
            " 0.84615385 0.84615385 0.76923077 0.84615385]\n",
            "Rata-rata =  0.7923076923076924\n"
          ]
        }
      ]
    },
    {
      "cell_type": "markdown",
      "source": [
        "## Non Tuning vs Tuning"
      ],
      "metadata": {
        "id": "odbNyQ6TfsgY"
      }
    },
    {
      "cell_type": "markdown",
      "source": [
        "Melihat model yang dipilih"
      ],
      "metadata": {
        "id": "Gu296BjoDOId"
      }
    },
    {
      "cell_type": "code",
      "source": [
        "model_yang_dipilih = \"\"\n",
        "\n",
        "if (ab1_tuning_acc.mean() > ab1_non_tuning_acc.mean()):\n",
        "  ab1_model = ab1_tuning\n",
        "  model_yang_dipilih += \"AB1 Tuning, \"\n",
        "else:\n",
        "  ab1_model = ab1_non_tuning\n",
        "  model_yang_dipilih += \"AB1 Non Tuning, \"\n",
        "\n",
        "if (ab2_tuning_acc.mean() > ab2_non_tuning_acc.mean()):\n",
        "  ab2_model = ab2_tuning\n",
        "  model_yang_dipilih += \"AB2 Tuning, \"\n",
        "else:\n",
        "  ab2_model = ab2_non_tuning\n",
        "  model_yang_dipilih += \"AB2 Non Tuning, \"\n",
        "\n",
        "if (ab3_tuning_acc.mean() > ab3_non_tuning_acc.mean()):\n",
        "  ab3_model = ab3_tuning\n",
        "  model_yang_dipilih += \"AB3 Tuning\"\n",
        "else:\n",
        "  ab3_model = ab3_non_tuning\n",
        "  model_yang_dipilih += \"AB3 Non Tuning\"\n",
        "\n",
        "print(\"Model yang dipilih = \", model_yang_dipilih)"
      ],
      "metadata": {
        "colab": {
          "base_uri": "https://localhost:8080/"
        },
        "id": "dS_D5TKWfvXA",
        "outputId": "1da99e3b-61be-41cb-884f-fb4204ae4888"
      },
      "execution_count": null,
      "outputs": [
        {
          "output_type": "stream",
          "name": "stdout",
          "text": [
            "Model yang dipilih =  AB1 Tuning, AB2 Tuning, AB3 Tuning\n"
          ]
        }
      ]
    },
    {
      "cell_type": "markdown",
      "source": [
        "Visualisasi perbandingan tuning vs non-tuning"
      ],
      "metadata": {
        "id": "GRPF1kBGDQ3o"
      }
    },
    {
      "cell_type": "code",
      "source": [
        "def addlabels(x,y,z):\n",
        "    for i in range(len(x)):\n",
        "      plt.text(i, x[i]+0.02, format(x[i], \".3f\"), ha = 'center')\n",
        "      plt.text(i+0.25, y[i]+0.02, format(y[i], \".3f\"), ha = 'center')\n",
        "      plt.text(i+0.5, z[i]+0.02, format(z[i], \".3f\"), ha = 'center')"
      ],
      "metadata": {
        "id": "6Y1-HLG5nMbG"
      },
      "execution_count": null,
      "outputs": []
    },
    {
      "cell_type": "code",
      "source": [
        "N = 3\n",
        "ind = np.arange(N) \n",
        "width = 0.25\n",
        "  \n",
        "non_tuning_acc = [ab1_non_tuning_acc.mean(),  ab2_non_tuning_acc.mean(),  ab3_non_tuning_acc.mean()]\n",
        "bar1 = plt.bar(ind, non_tuning_acc, width, color='goldenrod')\n",
        "  \n",
        "tuning_acc = [ab1_tuning_acc.mean(),  ab2_tuning_acc.mean(),  ab3_tuning_acc.mean()]\n",
        "bar2 = plt.bar(ind+width, tuning_acc, width, color='forestgreen')\n",
        "\n",
        "selisih = []\n",
        "for i in range(0, len(non_tuning_acc)):\n",
        "  selisih.append(np.abs(non_tuning_acc[i]-tuning_acc[i]))\n",
        "\n",
        "bar3 = plt.bar(ind+width*2, selisih, width, color = 'firebrick')\n",
        "\n",
        "addlabels(non_tuning_acc, tuning_acc, selisih)\n",
        "plt.xlabel(\"Model\")\n",
        "plt.ylabel('Akurasi')\n",
        "plt.title(\"Perbandingan AdaBoost dengan Akurasi\")\n",
        "  \n",
        "plt.xticks(ind+width,['AB1', 'AB2', 'AB3'])\n",
        "plt.legend( (bar1, bar2, bar3), ('Non Tuning', 'Tuning', 'Selisih') )\n",
        "plt.show()"
      ],
      "metadata": {
        "colab": {
          "base_uri": "https://localhost:8080/",
          "height": 517
        },
        "id": "yvHZaVK-jgMu",
        "outputId": "438e269e-807c-4167-8736-97d00489fd4e"
      },
      "execution_count": null,
      "outputs": [
        {
          "output_type": "display_data",
          "data": {
            "text/plain": [
              "<Figure size 1080x576 with 1 Axes>"
            ],
            "image/png": "[encoded data removed]"
          },
          "metadata": {}
        }
      ]
    },
    {
      "cell_type": "markdown",
      "source": [
        "## Export"
      ],
      "metadata": {
        "id": "pDHT8dd3V_gI"
      }
    },
    {
      "cell_type": "markdown",
      "source": [
        "Export model"
      ],
      "metadata": {
        "id": "ZmTKnykxWRPT"
      }
    },
    {
      "cell_type": "code",
      "source": [
        "joblib.dump(ab1_model, 'ab1_model.pkl')\n",
        "joblib.dump(ab2_model, 'ab2_model.pkl')\n",
        "joblib.dump(ab3_model, 'ab3_model.pkl')"
      ],
      "metadata": {
        "colab": {
          "base_uri": "https://localhost:8080/"
        },
        "id": "G0JH6m0UWBN6",
        "outputId": "44ce10f4-97c9-42c9-d739-9b40607d6113"
      },
      "execution_count": null,
      "outputs": [
        {
          "output_type": "execute_result",
          "data": {
            "text/plain": [
              "['ab3_model.pkl']"
            ]
          },
          "metadata": {},
          "execution_count": 37
        }
      ]
    }
  ]
}