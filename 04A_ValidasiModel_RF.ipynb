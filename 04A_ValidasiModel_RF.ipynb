{
  "nbformat": 4,
  "nbformat_minor": 0,
  "metadata": {
    "colab": {
      "name": "04A.ValidasiModel_RF.ipynb",
      "provenance": []
    },
    "kernelspec": {
      "name": "python3",
      "display_name": "Python 3"
    },
    "language_info": {
      "name": "python"
    }
  },
  "cells": [
    {
      "cell_type": "markdown",
      "source": [
        "<h2><b>Input : </b></h2>\n",
        "\n",
        "*   train_microarray.csv\n",
        "*   test_microarray.csv\n",
        "*   suspect.csv\n",
        "* rf1_features.pkl\n",
        "* rf2_features.pkl\n",
        "* rf3_features.pkl\n",
        "* rf1_model.pkl\n",
        "* rf2_model.pkl\n",
        "* rf3_model.pkl\n",
        "\n",
        "<h2><b>Output : </b></h2>\n",
        "\n",
        "*   test_microarray_prediksi_rf.csv\n",
        "*   suspect_prediksi_rf.csv"
      ],
      "metadata": {
        "id": "ViTfqQr2dURH"
      }
    },
    {
      "cell_type": "markdown",
      "source": [
        "# Run All"
      ],
      "metadata": {
        "id": "0aI5ojzzdSea"
      }
    },
    {
      "cell_type": "markdown",
      "source": [
        "## Import dan Load"
      ],
      "metadata": {
        "id": "Ozrhr7KzhXXS"
      }
    },
    {
      "cell_type": "markdown",
      "source": [
        "Import library yang dibutuhkan"
      ],
      "metadata": {
        "id": "A8xYn1Gm6Rmz"
      }
    },
    {
      "cell_type": "code",
      "execution_count": null,
      "metadata": {
        "id": "tWkeIwdadK_t"
      },
      "outputs": [],
      "source": [
        "import pandas as pd\n",
        "import numpy as np\n",
        "import seaborn as sns\n",
        "import matplotlib.pyplot as plt\n",
        "\n",
        "from sklearn.ensemble import RandomForestClassifier, AdaBoostClassifier\n",
        "from sklearn import metrics\n",
        "\n",
        "import joblib"
      ]
    },
    {
      "cell_type": "markdown",
      "source": [
        "Load data"
      ],
      "metadata": {
        "id": "EA8tVIA56Tme"
      }
    },
    {
      "cell_type": "code",
      "source": [
        "df_train = pd.read_csv('https://drive.google.com/uc?id=1_r9KdY3hz2zVtCD6VZs2nHrnXBGbia8v')\n",
        "df_test = pd.read_csv('https://drive.google.com/uc?id=1MLHK9Ztyc2jgcN9h3jxBshKmyg10AGQj')\n",
        "df_suspect = pd.read_csv('https://drive.google.com/uc?id=1QVbwJZlaSkN0T77OlOucnJzy7MYJjE0R')"
      ],
      "metadata": {
        "id": "wYdgawQeeiYO"
      },
      "execution_count": null,
      "outputs": []
    },
    {
      "cell_type": "markdown",
      "source": [
        "Load hasil seleksi fitur"
      ],
      "metadata": {
        "id": "zUwyeaIC6Vc-"
      }
    },
    {
      "cell_type": "code",
      "source": [
        "rf1_features = joblib.load('rf1_features.pkl')\n",
        "rf2_features = joblib.load('rf2_features.pkl')\n",
        "rf3_features = joblib.load('rf3_features.pkl')"
      ],
      "metadata": {
        "id": "Wx9nsMB0vWb5"
      },
      "execution_count": null,
      "outputs": []
    },
    {
      "cell_type": "markdown",
      "source": [
        "Load hyperparameter tuning"
      ],
      "metadata": {
        "id": "vJW7OZag6XNh"
      }
    },
    {
      "cell_type": "code",
      "source": [
        "rf1_model = joblib.load('rf1_model.pkl')\n",
        "rf2_model = joblib.load('rf2_model.pkl')\n",
        "rf3_model = joblib.load('rf3_model.pkl')"
      ],
      "metadata": {
        "id": "wjb-jzV8vryq"
      },
      "execution_count": null,
      "outputs": []
    },
    {
      "cell_type": "markdown",
      "source": [
        "Mengambil fitur dari df_train awal"
      ],
      "metadata": {
        "id": "nH4n2JGX6ZJA"
      }
    },
    {
      "cell_type": "code",
      "source": [
        "df_train1 = df_train[rf1_features]\n",
        "df_train2 = df_train[rf2_features]\n",
        "df_train3 = df_train[rf3_features]"
      ],
      "metadata": {
        "id": "fS2JtuNowoFX"
      },
      "execution_count": null,
      "outputs": []
    },
    {
      "cell_type": "markdown",
      "source": [
        "Mengambil fitur dari df_test awal"
      ],
      "metadata": {
        "id": "d8E0z4ZA6bzz"
      }
    },
    {
      "cell_type": "code",
      "source": [
        "df_test1 = df_test[rf1_features]\n",
        "df_test2 = df_test[rf2_features]\n",
        "df_test3 = df_test[rf3_features]"
      ],
      "metadata": {
        "id": "SMZ3RSo9wx23"
      },
      "execution_count": null,
      "outputs": []
    },
    {
      "cell_type": "markdown",
      "source": [
        "Mengambil fitur dari df_suspect"
      ],
      "metadata": {
        "id": "ofP2C1US6fDy"
      }
    },
    {
      "cell_type": "code",
      "source": [
        "df_suspect1 = df_suspect[rf1_features[:-1]]\n",
        "df_suspect2 = df_suspect[rf2_features[:-1]]\n",
        "df_suspect3 = df_suspect[rf3_features[:-1]]"
      ],
      "metadata": {
        "id": "DDjLjXb9ynME"
      },
      "execution_count": null,
      "outputs": []
    },
    {
      "cell_type": "markdown",
      "source": [
        "### Contoh Data Train"
      ],
      "metadata": {
        "id": "xxytEywThbGG"
      }
    },
    {
      "cell_type": "code",
      "source": [
        "df_train1.head()"
      ],
      "metadata": {
        "colab": {
          "base_uri": "https://localhost:8080/",
          "height": 300
        },
        "id": "NvtgkrQbgv25",
        "outputId": "25a7ae5c-3390-45eb-db9d-4f6fce5b555a"
      },
      "execution_count": null,
      "outputs": [
        {
          "output_type": "execute_result",
          "data": {
            "text/plain": [
              "   211612_s_at  219678_x_at  217653_x_at  211996_s_at  214594_x_at  \\\n",
              "0     2.433180     2.672850     2.223647     2.894223     2.730180   \n",
              "1     2.261091     2.641439     2.350872     3.042087     2.856150   \n",
              "2     2.385914     2.510368     1.996011     2.624352     2.491994   \n",
              "3     2.262845     2.747069     2.666440     2.893101     2.998907   \n",
              "4     2.239799     2.785209     2.600757     3.116527     2.977250   \n",
              "\n",
              "   218155_x_at  202936_s_at  207730_x_at  205401_at  209703_x_at  ...  \\\n",
              "0     2.708516     2.677585     3.043026   2.277064     2.636799  ...   \n",
              "1     2.800348     2.392170     3.129235   2.249331     2.782383  ...   \n",
              "2     2.648607     2.355828     2.921754   2.316953     2.422551  ...   \n",
              "3     2.992614     2.352489     3.307086   2.165011     2.685958  ...   \n",
              "4     2.859183     2.296027     3.216666   2.221606     2.700011  ...   \n",
              "\n",
              "   203290_at  211985_s_at  201858_s_at  200751_s_at  209369_at  34031_i_at  \\\n",
              "0   2.142346     3.069618     2.710089     2.456802   2.511083    2.136241   \n",
              "1   2.171406     2.999199     2.437380     2.582642   2.447488    2.106757   \n",
              "2   2.476529     2.891588     2.742819     2.406262   2.684172    2.098736   \n",
              "3   2.324947     1.982301     2.514046     1.346213   1.835251    1.471070   \n",
              "4   2.157323     2.723537     2.446101     2.164480   2.281980    1.968626   \n",
              "\n",
              "   206306_at  201339_s_at  211122_s_at  Label  \n",
              "0   2.484063     2.794302     1.640793    1.0  \n",
              "1   2.420429     2.788661     1.631703    0.0  \n",
              "2   2.345234     2.921265     1.743189    1.0  \n",
              "3   2.158047     1.703865     1.641713    1.0  \n",
              "4   2.398079     2.395988     1.529461    0.0  \n",
              "\n",
              "[5 rows x 601 columns]"
            ],
            "text/html": [
              "\n",
              "  <div id=\"df-cd03c9ea-f672-4b95-82d4-7fecd3bd88c3\">\n",
              "    <div class=\"colab-df-container\">\n",
              "      <div>\n",
              "<style scoped>\n",
              "    .dataframe tbody tr th:only-of-type {\n",
              "        vertical-align: middle;\n",
              "    }\n",
              "\n",
              "    .dataframe tbody tr th {\n",
              "        vertical-align: top;\n",
              "    }\n",
              "\n",
              "    .dataframe thead th {\n",
              "        text-align: right;\n",
              "    }\n",
              "</style>\n",
              "<table border=\"1\" class=\"dataframe\">\n",
              "  <thead>\n",
              "    <tr style=\"text-align: right;\">\n",
              "      <th></th>\n",
              "      <th>211612_s_at</th>\n",
              "      <th>219678_x_at</th>\n",
              "      <th>217653_x_at</th>\n",
              "      <th>211996_s_at</th>\n",
              "      <th>214594_x_at</th>\n",
              "      <th>218155_x_at</th>\n",
              "      <th>202936_s_at</th>\n",
              "      <th>207730_x_at</th>\n",
              "      <th>205401_at</th>\n",
              "      <th>209703_x_at</th>\n",
              "      <th>...</th>\n",
              "      <th>203290_at</th>\n",
              "      <th>211985_s_at</th>\n",
              "      <th>201858_s_at</th>\n",
              "      <th>200751_s_at</th>\n",
              "      <th>209369_at</th>\n",
              "      <th>34031_i_at</th>\n",
              "      <th>206306_at</th>\n",
              "      <th>201339_s_at</th>\n",
              "      <th>211122_s_at</th>\n",
              "      <th>Label</th>\n",
              "    </tr>\n",
              "  </thead>\n",
              "  <tbody>\n",
              "    <tr>\n",
              "      <th>0</th>\n",
              "      <td>2.433180</td>\n",
              "      <td>2.672850</td>\n",
              "      <td>2.223647</td>\n",
              "      <td>2.894223</td>\n",
              "      <td>2.730180</td>\n",
              "      <td>2.708516</td>\n",
              "      <td>2.677585</td>\n",
              "      <td>3.043026</td>\n",
              "      <td>2.277064</td>\n",
              "      <td>2.636799</td>\n",
              "      <td>...</td>\n",
              "      <td>2.142346</td>\n",
              "      <td>3.069618</td>\n",
              "      <td>2.710089</td>\n",
              "      <td>2.456802</td>\n",
              "      <td>2.511083</td>\n",
              "      <td>2.136241</td>\n",
              "      <td>2.484063</td>\n",
              "      <td>2.794302</td>\n",
              "      <td>1.640793</td>\n",
              "      <td>1.0</td>\n",
              "    </tr>\n",
              "    <tr>\n",
              "      <th>1</th>\n",
              "      <td>2.261091</td>\n",
              "      <td>2.641439</td>\n",
              "      <td>2.350872</td>\n",
              "      <td>3.042087</td>\n",
              "      <td>2.856150</td>\n",
              "      <td>2.800348</td>\n",
              "      <td>2.392170</td>\n",
              "      <td>3.129235</td>\n",
              "      <td>2.249331</td>\n",
              "      <td>2.782383</td>\n",
              "      <td>...</td>\n",
              "      <td>2.171406</td>\n",
              "      <td>2.999199</td>\n",
              "      <td>2.437380</td>\n",
              "      <td>2.582642</td>\n",
              "      <td>2.447488</td>\n",
              "      <td>2.106757</td>\n",
              "      <td>2.420429</td>\n",
              "      <td>2.788661</td>\n",
              "      <td>1.631703</td>\n",
              "      <td>0.0</td>\n",
              "    </tr>\n",
              "    <tr>\n",
              "      <th>2</th>\n",
              "      <td>2.385914</td>\n",
              "      <td>2.510368</td>\n",
              "      <td>1.996011</td>\n",
              "      <td>2.624352</td>\n",
              "      <td>2.491994</td>\n",
              "      <td>2.648607</td>\n",
              "      <td>2.355828</td>\n",
              "      <td>2.921754</td>\n",
              "      <td>2.316953</td>\n",
              "      <td>2.422551</td>\n",
              "      <td>...</td>\n",
              "      <td>2.476529</td>\n",
              "      <td>2.891588</td>\n",
              "      <td>2.742819</td>\n",
              "      <td>2.406262</td>\n",
              "      <td>2.684172</td>\n",
              "      <td>2.098736</td>\n",
              "      <td>2.345234</td>\n",
              "      <td>2.921265</td>\n",
              "      <td>1.743189</td>\n",
              "      <td>1.0</td>\n",
              "    </tr>\n",
              "    <tr>\n",
              "      <th>3</th>\n",
              "      <td>2.262845</td>\n",
              "      <td>2.747069</td>\n",
              "      <td>2.666440</td>\n",
              "      <td>2.893101</td>\n",
              "      <td>2.998907</td>\n",
              "      <td>2.992614</td>\n",
              "      <td>2.352489</td>\n",
              "      <td>3.307086</td>\n",
              "      <td>2.165011</td>\n",
              "      <td>2.685958</td>\n",
              "      <td>...</td>\n",
              "      <td>2.324947</td>\n",
              "      <td>1.982301</td>\n",
              "      <td>2.514046</td>\n",
              "      <td>1.346213</td>\n",
              "      <td>1.835251</td>\n",
              "      <td>1.471070</td>\n",
              "      <td>2.158047</td>\n",
              "      <td>1.703865</td>\n",
              "      <td>1.641713</td>\n",
              "      <td>1.0</td>\n",
              "    </tr>\n",
              "    <tr>\n",
              "      <th>4</th>\n",
              "      <td>2.239799</td>\n",
              "      <td>2.785209</td>\n",
              "      <td>2.600757</td>\n",
              "      <td>3.116527</td>\n",
              "      <td>2.977250</td>\n",
              "      <td>2.859183</td>\n",
              "      <td>2.296027</td>\n",
              "      <td>3.216666</td>\n",
              "      <td>2.221606</td>\n",
              "      <td>2.700011</td>\n",
              "      <td>...</td>\n",
              "      <td>2.157323</td>\n",
              "      <td>2.723537</td>\n",
              "      <td>2.446101</td>\n",
              "      <td>2.164480</td>\n",
              "      <td>2.281980</td>\n",
              "      <td>1.968626</td>\n",
              "      <td>2.398079</td>\n",
              "      <td>2.395988</td>\n",
              "      <td>1.529461</td>\n",
              "      <td>0.0</td>\n",
              "    </tr>\n",
              "  </tbody>\n",
              "</table>\n",
              "<p>5 rows × 601 columns</p>\n",
              "</div>\n",
              "      <button class=\"colab-df-convert\" onclick=\"convertToInteractive('df-cd03c9ea-f672-4b95-82d4-7fecd3bd88c3')\"\n",
              "              title=\"Convert this dataframe to an interactive table.\"\n",
              "              style=\"display:none;\">\n",
              "        \n",
              "  <svg xmlns=\"http://www.w3.org/2000/svg\" height=\"24px\"viewBox=\"0 0 24 24\"\n",
              "       width=\"24px\">\n",
              "    <path d=\"M0 0h24v24H0V0z\" fill=\"none\"/>\n",
              "    <path d=\"M18.56 5.44l.94 2.06.94-2.06 2.06-.94-2.06-.94-.94-2.06-.94 2.06-2.06.94zm-11 1L8.5 8.5l.94-2.06 2.06-.94-2.06-.94L8.5 2.5l-.94 2.06-2.06.94zm10 10l.94 2.06.94-2.06 2.06-.94-2.06-.94-.94-2.06-.94 2.06-2.06.94z\"/><path d=\"M17.41 7.96l-1.37-1.37c-.4-.4-.92-.59-1.43-.59-.52 0-1.04.2-1.43.59L10.3 9.45l-7.72 7.72c-.78.78-.78 2.05 0 2.83L4 21.41c.39.39.9.59 1.41.59.51 0 1.02-.2 1.41-.59l7.78-7.78 2.81-2.81c.8-.78.8-2.07 0-2.86zM5.41 20L4 18.59l7.72-7.72 1.47 1.35L5.41 20z\"/>\n",
              "  </svg>\n",
              "      </button>\n",
              "      \n",
              "  <style>\n",
              "    .colab-df-container {\n",
              "      display:flex;\n",
              "      flex-wrap:wrap;\n",
              "      gap: 12px;\n",
              "    }\n",
              "\n",
              "    .colab-df-convert {\n",
              "      background-color: #E8F0FE;\n",
              "      border: none;\n",
              "      border-radius: 50%;\n",
              "      cursor: pointer;\n",
              "      display: none;\n",
              "      fill: #1967D2;\n",
              "      height: 32px;\n",
              "      padding: 0 0 0 0;\n",
              "      width: 32px;\n",
              "    }\n",
              "\n",
              "    .colab-df-convert:hover {\n",
              "      background-color: #E2EBFA;\n",
              "      box-shadow: 0px 1px 2px rgba(60, 64, 67, 0.3), 0px 1px 3px 1px rgba(60, 64, 67, 0.15);\n",
              "      fill: #174EA6;\n",
              "    }\n",
              "\n",
              "    [theme=dark] .colab-df-convert {\n",
              "      background-color: #3B4455;\n",
              "      fill: #D2E3FC;\n",
              "    }\n",
              "\n",
              "    [theme=dark] .colab-df-convert:hover {\n",
              "      background-color: #434B5C;\n",
              "      box-shadow: 0px 1px 3px 1px rgba(0, 0, 0, 0.15);\n",
              "      filter: drop-shadow(0px 1px 2px rgba(0, 0, 0, 0.3));\n",
              "      fill: #FFFFFF;\n",
              "    }\n",
              "  </style>\n",
              "\n",
              "      <script>\n",
              "        const buttonEl =\n",
              "          document.querySelector('#df-cd03c9ea-f672-4b95-82d4-7fecd3bd88c3 button.colab-df-convert');\n",
              "        buttonEl.style.display =\n",
              "          google.colab.kernel.accessAllowed ? 'block' : 'none';\n",
              "\n",
              "        async function convertToInteractive(key) {\n",
              "          const element = document.querySelector('#df-cd03c9ea-f672-4b95-82d4-7fecd3bd88c3');\n",
              "          const dataTable =\n",
              "            await google.colab.kernel.invokeFunction('convertToInteractive',\n",
              "                                                     [key], {});\n",
              "          if (!dataTable) return;\n",
              "\n",
              "          const docLinkHtml = 'Like what you see? Visit the ' +\n",
              "            '<a target=\"_blank\" href=https://colab.research.google.com/notebooks/data_table.ipynb>data table notebook</a>'\n",
              "            + ' to learn more about interactive tables.';\n",
              "          element.innerHTML = '';\n",
              "          dataTable['output_type'] = 'display_data';\n",
              "          await google.colab.output.renderOutput(dataTable, element);\n",
              "          const docLink = document.createElement('div');\n",
              "          docLink.innerHTML = docLinkHtml;\n",
              "          element.appendChild(docLink);\n",
              "        }\n",
              "      </script>\n",
              "    </div>\n",
              "  </div>\n",
              "  "
            ]
          },
          "metadata": {},
          "execution_count": 8
        }
      ]
    },
    {
      "cell_type": "code",
      "source": [
        "df_train1.shape"
      ],
      "metadata": {
        "colab": {
          "base_uri": "https://localhost:8080/"
        },
        "id": "JrlD8rgOg_fB",
        "outputId": "5c6a8a91-f2e8-4553-df62-17792f87c53c"
      },
      "execution_count": null,
      "outputs": [
        {
          "output_type": "execute_result",
          "data": {
            "text/plain": [
              "(130, 601)"
            ]
          },
          "metadata": {},
          "execution_count": 9
        }
      ]
    },
    {
      "cell_type": "markdown",
      "source": [
        "### Contoh Data Test"
      ],
      "metadata": {
        "id": "t2bLyadvhddJ"
      }
    },
    {
      "cell_type": "code",
      "source": [
        "df_test1.head()"
      ],
      "metadata": {
        "colab": {
          "base_uri": "https://localhost:8080/",
          "height": 300
        },
        "id": "ebnH4y9bhBZu",
        "outputId": "df0b0288-c9b3-4f67-cf96-9524ebefa7de"
      },
      "execution_count": null,
      "outputs": [
        {
          "output_type": "execute_result",
          "data": {
            "text/plain": [
              "   211612_s_at  219678_x_at  217653_x_at  211996_s_at  214594_x_at  \\\n",
              "0     2.494831     2.682649     2.491295     3.053541     2.879382   \n",
              "1     2.537077     2.583703     2.301534     2.982047     2.679233   \n",
              "2     2.233887     2.745488     2.648519     3.132124     3.003124   \n",
              "3     2.504877     2.587567     2.186185     2.970712     2.382092   \n",
              "4     2.325971     2.683211     2.495521     2.992009     2.825098   \n",
              "\n",
              "   218155_x_at  202936_s_at  207730_x_at  205401_at  209703_x_at  ...  \\\n",
              "0     2.765767     2.746768     3.196351   2.284696     2.786534  ...   \n",
              "1     2.639580     2.583031     3.031018   2.341448     2.610036  ...   \n",
              "2     2.861854     2.412618     3.208866   2.168074     2.811853  ...   \n",
              "3     2.670212     2.726826     2.937619   2.295058     2.558285  ...   \n",
              "4     2.803015     2.279495     3.197466   2.303418     2.706206  ...   \n",
              "\n",
              "   203290_at  211985_s_at  201858_s_at  200751_s_at  209369_at  34031_i_at  \\\n",
              "0   2.137915     3.188373     2.889487     2.688867   2.435507    2.370484   \n",
              "1   2.607048     3.155572     2.798447     2.654067   2.821037    2.480767   \n",
              "2   2.386528     2.951494     2.383330     2.397277   2.529915    2.067878   \n",
              "3   2.266965     3.037536     2.750290     2.345101   2.303631    1.907508   \n",
              "4   2.362688     3.017132     2.376851     2.416167   2.391159    2.093546   \n",
              "\n",
              "   206306_at  201339_s_at  211122_s_at  Label  \n",
              "0   2.530446     2.946997     1.524845    1.0  \n",
              "1   2.517741     3.008317     1.482843    1.0  \n",
              "2   2.657720     2.764817     1.452367    0.0  \n",
              "3   2.616799     2.736628     1.584978    1.0  \n",
              "4   2.452097     2.749654     1.588343    1.0  \n",
              "\n",
              "[5 rows x 601 columns]"
            ],
            "text/html": [
              "\n",
              "  <div id=\"df-1b209f67-7582-4199-a5ca-60c25f28522b\">\n",
              "    <div class=\"colab-df-container\">\n",
              "      <div>\n",
              "<style scoped>\n",
              "    .dataframe tbody tr th:only-of-type {\n",
              "        vertical-align: middle;\n",
              "    }\n",
              "\n",
              "    .dataframe tbody tr th {\n",
              "        vertical-align: top;\n",
              "    }\n",
              "\n",
              "    .dataframe thead th {\n",
              "        text-align: right;\n",
              "    }\n",
              "</style>\n",
              "<table border=\"1\" class=\"dataframe\">\n",
              "  <thead>\n",
              "    <tr style=\"text-align: right;\">\n",
              "      <th></th>\n",
              "      <th>211612_s_at</th>\n",
              "      <th>219678_x_at</th>\n",
              "      <th>217653_x_at</th>\n",
              "      <th>211996_s_at</th>\n",
              "      <th>214594_x_at</th>\n",
              "      <th>218155_x_at</th>\n",
              "      <th>202936_s_at</th>\n",
              "      <th>207730_x_at</th>\n",
              "      <th>205401_at</th>\n",
              "      <th>209703_x_at</th>\n",
              "      <th>...</th>\n",
              "      <th>203290_at</th>\n",
              "      <th>211985_s_at</th>\n",
              "      <th>201858_s_at</th>\n",
              "      <th>200751_s_at</th>\n",
              "      <th>209369_at</th>\n",
              "      <th>34031_i_at</th>\n",
              "      <th>206306_at</th>\n",
              "      <th>201339_s_at</th>\n",
              "      <th>211122_s_at</th>\n",
              "      <th>Label</th>\n",
              "    </tr>\n",
              "  </thead>\n",
              "  <tbody>\n",
              "    <tr>\n",
              "      <th>0</th>\n",
              "      <td>2.494831</td>\n",
              "      <td>2.682649</td>\n",
              "      <td>2.491295</td>\n",
              "      <td>3.053541</td>\n",
              "      <td>2.879382</td>\n",
              "      <td>2.765767</td>\n",
              "      <td>2.746768</td>\n",
              "      <td>3.196351</td>\n",
              "      <td>2.284696</td>\n",
              "      <td>2.786534</td>\n",
              "      <td>...</td>\n",
              "      <td>2.137915</td>\n",
              "      <td>3.188373</td>\n",
              "      <td>2.889487</td>\n",
              "      <td>2.688867</td>\n",
              "      <td>2.435507</td>\n",
              "      <td>2.370484</td>\n",
              "      <td>2.530446</td>\n",
              "      <td>2.946997</td>\n",
              "      <td>1.524845</td>\n",
              "      <td>1.0</td>\n",
              "    </tr>\n",
              "    <tr>\n",
              "      <th>1</th>\n",
              "      <td>2.537077</td>\n",
              "      <td>2.583703</td>\n",
              "      <td>2.301534</td>\n",
              "      <td>2.982047</td>\n",
              "      <td>2.679233</td>\n",
              "      <td>2.639580</td>\n",
              "      <td>2.583031</td>\n",
              "      <td>3.031018</td>\n",
              "      <td>2.341448</td>\n",
              "      <td>2.610036</td>\n",
              "      <td>...</td>\n",
              "      <td>2.607048</td>\n",
              "      <td>3.155572</td>\n",
              "      <td>2.798447</td>\n",
              "      <td>2.654067</td>\n",
              "      <td>2.821037</td>\n",
              "      <td>2.480767</td>\n",
              "      <td>2.517741</td>\n",
              "      <td>3.008317</td>\n",
              "      <td>1.482843</td>\n",
              "      <td>1.0</td>\n",
              "    </tr>\n",
              "    <tr>\n",
              "      <th>2</th>\n",
              "      <td>2.233887</td>\n",
              "      <td>2.745488</td>\n",
              "      <td>2.648519</td>\n",
              "      <td>3.132124</td>\n",
              "      <td>3.003124</td>\n",
              "      <td>2.861854</td>\n",
              "      <td>2.412618</td>\n",
              "      <td>3.208866</td>\n",
              "      <td>2.168074</td>\n",
              "      <td>2.811853</td>\n",
              "      <td>...</td>\n",
              "      <td>2.386528</td>\n",
              "      <td>2.951494</td>\n",
              "      <td>2.383330</td>\n",
              "      <td>2.397277</td>\n",
              "      <td>2.529915</td>\n",
              "      <td>2.067878</td>\n",
              "      <td>2.657720</td>\n",
              "      <td>2.764817</td>\n",
              "      <td>1.452367</td>\n",
              "      <td>0.0</td>\n",
              "    </tr>\n",
              "    <tr>\n",
              "      <th>3</th>\n",
              "      <td>2.504877</td>\n",
              "      <td>2.587567</td>\n",
              "      <td>2.186185</td>\n",
              "      <td>2.970712</td>\n",
              "      <td>2.382092</td>\n",
              "      <td>2.670212</td>\n",
              "      <td>2.726826</td>\n",
              "      <td>2.937619</td>\n",
              "      <td>2.295058</td>\n",
              "      <td>2.558285</td>\n",
              "      <td>...</td>\n",
              "      <td>2.266965</td>\n",
              "      <td>3.037536</td>\n",
              "      <td>2.750290</td>\n",
              "      <td>2.345101</td>\n",
              "      <td>2.303631</td>\n",
              "      <td>1.907508</td>\n",
              "      <td>2.616799</td>\n",
              "      <td>2.736628</td>\n",
              "      <td>1.584978</td>\n",
              "      <td>1.0</td>\n",
              "    </tr>\n",
              "    <tr>\n",
              "      <th>4</th>\n",
              "      <td>2.325971</td>\n",
              "      <td>2.683211</td>\n",
              "      <td>2.495521</td>\n",
              "      <td>2.992009</td>\n",
              "      <td>2.825098</td>\n",
              "      <td>2.803015</td>\n",
              "      <td>2.279495</td>\n",
              "      <td>3.197466</td>\n",
              "      <td>2.303418</td>\n",
              "      <td>2.706206</td>\n",
              "      <td>...</td>\n",
              "      <td>2.362688</td>\n",
              "      <td>3.017132</td>\n",
              "      <td>2.376851</td>\n",
              "      <td>2.416167</td>\n",
              "      <td>2.391159</td>\n",
              "      <td>2.093546</td>\n",
              "      <td>2.452097</td>\n",
              "      <td>2.749654</td>\n",
              "      <td>1.588343</td>\n",
              "      <td>1.0</td>\n",
              "    </tr>\n",
              "  </tbody>\n",
              "</table>\n",
              "<p>5 rows × 601 columns</p>\n",
              "</div>\n",
              "      <button class=\"colab-df-convert\" onclick=\"convertToInteractive('df-1b209f67-7582-4199-a5ca-60c25f28522b')\"\n",
              "              title=\"Convert this dataframe to an interactive table.\"\n",
              "              style=\"display:none;\">\n",
              "        \n",
              "  <svg xmlns=\"http://www.w3.org/2000/svg\" height=\"24px\"viewBox=\"0 0 24 24\"\n",
              "       width=\"24px\">\n",
              "    <path d=\"M0 0h24v24H0V0z\" fill=\"none\"/>\n",
              "    <path d=\"M18.56 5.44l.94 2.06.94-2.06 2.06-.94-2.06-.94-.94-2.06-.94 2.06-2.06.94zm-11 1L8.5 8.5l.94-2.06 2.06-.94-2.06-.94L8.5 2.5l-.94 2.06-2.06.94zm10 10l.94 2.06.94-2.06 2.06-.94-2.06-.94-.94-2.06-.94 2.06-2.06.94z\"/><path d=\"M17.41 7.96l-1.37-1.37c-.4-.4-.92-.59-1.43-.59-.52 0-1.04.2-1.43.59L10.3 9.45l-7.72 7.72c-.78.78-.78 2.05 0 2.83L4 21.41c.39.39.9.59 1.41.59.51 0 1.02-.2 1.41-.59l7.78-7.78 2.81-2.81c.8-.78.8-2.07 0-2.86zM5.41 20L4 18.59l7.72-7.72 1.47 1.35L5.41 20z\"/>\n",
              "  </svg>\n",
              "      </button>\n",
              "      \n",
              "  <style>\n",
              "    .colab-df-container {\n",
              "      display:flex;\n",
              "      flex-wrap:wrap;\n",
              "      gap: 12px;\n",
              "    }\n",
              "\n",
              "    .colab-df-convert {\n",
              "      background-color: #E8F0FE;\n",
              "      border: none;\n",
              "      border-radius: 50%;\n",
              "      cursor: pointer;\n",
              "      display: none;\n",
              "      fill: #1967D2;\n",
              "      height: 32px;\n",
              "      padding: 0 0 0 0;\n",
              "      width: 32px;\n",
              "    }\n",
              "\n",
              "    .colab-df-convert:hover {\n",
              "      background-color: #E2EBFA;\n",
              "      box-shadow: 0px 1px 2px rgba(60, 64, 67, 0.3), 0px 1px 3px 1px rgba(60, 64, 67, 0.15);\n",
              "      fill: #174EA6;\n",
              "    }\n",
              "\n",
              "    [theme=dark] .colab-df-convert {\n",
              "      background-color: #3B4455;\n",
              "      fill: #D2E3FC;\n",
              "    }\n",
              "\n",
              "    [theme=dark] .colab-df-convert:hover {\n",
              "      background-color: #434B5C;\n",
              "      box-shadow: 0px 1px 3px 1px rgba(0, 0, 0, 0.15);\n",
              "      filter: drop-shadow(0px 1px 2px rgba(0, 0, 0, 0.3));\n",
              "      fill: #FFFFFF;\n",
              "    }\n",
              "  </style>\n",
              "\n",
              "      <script>\n",
              "        const buttonEl =\n",
              "          document.querySelector('#df-1b209f67-7582-4199-a5ca-60c25f28522b button.colab-df-convert');\n",
              "        buttonEl.style.display =\n",
              "          google.colab.kernel.accessAllowed ? 'block' : 'none';\n",
              "\n",
              "        async function convertToInteractive(key) {\n",
              "          const element = document.querySelector('#df-1b209f67-7582-4199-a5ca-60c25f28522b');\n",
              "          const dataTable =\n",
              "            await google.colab.kernel.invokeFunction('convertToInteractive',\n",
              "                                                     [key], {});\n",
              "          if (!dataTable) return;\n",
              "\n",
              "          const docLinkHtml = 'Like what you see? Visit the ' +\n",
              "            '<a target=\"_blank\" href=https://colab.research.google.com/notebooks/data_table.ipynb>data table notebook</a>'\n",
              "            + ' to learn more about interactive tables.';\n",
              "          element.innerHTML = '';\n",
              "          dataTable['output_type'] = 'display_data';\n",
              "          await google.colab.output.renderOutput(dataTable, element);\n",
              "          const docLink = document.createElement('div');\n",
              "          docLink.innerHTML = docLinkHtml;\n",
              "          element.appendChild(docLink);\n",
              "        }\n",
              "      </script>\n",
              "    </div>\n",
              "  </div>\n",
              "  "
            ]
          },
          "metadata": {},
          "execution_count": 10
        }
      ]
    },
    {
      "cell_type": "code",
      "source": [
        "df_test1.shape"
      ],
      "metadata": {
        "colab": {
          "base_uri": "https://localhost:8080/"
        },
        "id": "1aFAnyQPhEjO",
        "outputId": "19a4efd0-a6d4-4a7d-b4df-517b54f7e124"
      },
      "execution_count": null,
      "outputs": [
        {
          "output_type": "execute_result",
          "data": {
            "text/plain": [
              "(57, 601)"
            ]
          },
          "metadata": {},
          "execution_count": 11
        }
      ]
    },
    {
      "cell_type": "markdown",
      "source": [
        "### Suspect"
      ],
      "metadata": {
        "id": "es5TB-Bbhi_i"
      }
    },
    {
      "cell_type": "code",
      "source": [
        "df_suspect1"
      ],
      "metadata": {
        "colab": {
          "base_uri": "https://localhost:8080/",
          "height": 300
        },
        "id": "ZdB383_thG22",
        "outputId": "1f1c8f42-bf95-4fb8-f105-90bab18940bb"
      },
      "execution_count": null,
      "outputs": [
        {
          "output_type": "execute_result",
          "data": {
            "text/plain": [
              "   211612_s_at  219678_x_at  217653_x_at  211996_s_at  214594_x_at  \\\n",
              "0     2.256059     2.770134     2.559232     2.904486     2.924660   \n",
              "1     2.476502     2.564952     2.484916     2.435804     2.751464   \n",
              "2     2.516803     2.872871     2.352785     2.557198     2.925518   \n",
              "3     2.499117     2.813643     2.559049     2.656475     2.763619   \n",
              "4     2.411571     2.756731     2.453675     2.912560     2.780565   \n",
              "\n",
              "   218155_x_at  202936_s_at  207730_x_at  205401_at  209703_x_at  ...  \\\n",
              "0     2.958922     2.558358     3.202525   2.304682     2.741908  ...   \n",
              "1     2.922157     2.513460     3.176072   2.416121     2.665992  ...   \n",
              "2     3.073885     2.543978     3.295611   2.408007     2.643493  ...   \n",
              "3     2.878468     2.592949     3.184148   2.178021     2.670018  ...   \n",
              "4     2.861779     2.491120     3.130010   2.399155     2.666348  ...   \n",
              "\n",
              "   202033_s_at  203290_at  211985_s_at  201858_s_at  200751_s_at  209369_at  \\\n",
              "0     2.419989   2.408056     1.918115     2.555102     1.609157   1.932234   \n",
              "1     2.168771   2.427169     1.978785     2.520911     1.471787   2.248789   \n",
              "2     2.511325   2.413781     2.785270     2.679524     2.069910   2.079583   \n",
              "3     2.407314   2.302202     1.919156     2.456503     1.874863   1.742102   \n",
              "4     2.301970   2.280241     1.929420     2.510397     1.792990   2.023107   \n",
              "\n",
              "   34031_i_at  206306_at  201339_s_at  211122_s_at  \n",
              "0    1.758512   2.466283     1.887837     1.893945  \n",
              "1    1.687341   2.431879     1.878912     1.812620  \n",
              "2    1.712671   2.519041     2.627307     1.605993  \n",
              "3    1.627428   2.410671     2.060907     1.752608  \n",
              "4    1.681092   2.391773     1.952135     1.734382  \n",
              "\n",
              "[5 rows x 600 columns]"
            ],
            "text/html": [
              "\n",
              "  <div id=\"df-fd6caa37-6f72-4a81-ad74-0f80ffa16d12\">\n",
              "    <div class=\"colab-df-container\">\n",
              "      <div>\n",
              "<style scoped>\n",
              "    .dataframe tbody tr th:only-of-type {\n",
              "        vertical-align: middle;\n",
              "    }\n",
              "\n",
              "    .dataframe tbody tr th {\n",
              "        vertical-align: top;\n",
              "    }\n",
              "\n",
              "    .dataframe thead th {\n",
              "        text-align: right;\n",
              "    }\n",
              "</style>\n",
              "<table border=\"1\" class=\"dataframe\">\n",
              "  <thead>\n",
              "    <tr style=\"text-align: right;\">\n",
              "      <th></th>\n",
              "      <th>211612_s_at</th>\n",
              "      <th>219678_x_at</th>\n",
              "      <th>217653_x_at</th>\n",
              "      <th>211996_s_at</th>\n",
              "      <th>214594_x_at</th>\n",
              "      <th>218155_x_at</th>\n",
              "      <th>202936_s_at</th>\n",
              "      <th>207730_x_at</th>\n",
              "      <th>205401_at</th>\n",
              "      <th>209703_x_at</th>\n",
              "      <th>...</th>\n",
              "      <th>202033_s_at</th>\n",
              "      <th>203290_at</th>\n",
              "      <th>211985_s_at</th>\n",
              "      <th>201858_s_at</th>\n",
              "      <th>200751_s_at</th>\n",
              "      <th>209369_at</th>\n",
              "      <th>34031_i_at</th>\n",
              "      <th>206306_at</th>\n",
              "      <th>201339_s_at</th>\n",
              "      <th>211122_s_at</th>\n",
              "    </tr>\n",
              "  </thead>\n",
              "  <tbody>\n",
              "    <tr>\n",
              "      <th>0</th>\n",
              "      <td>2.256059</td>\n",
              "      <td>2.770134</td>\n",
              "      <td>2.559232</td>\n",
              "      <td>2.904486</td>\n",
              "      <td>2.924660</td>\n",
              "      <td>2.958922</td>\n",
              "      <td>2.558358</td>\n",
              "      <td>3.202525</td>\n",
              "      <td>2.304682</td>\n",
              "      <td>2.741908</td>\n",
              "      <td>...</td>\n",
              "      <td>2.419989</td>\n",
              "      <td>2.408056</td>\n",
              "      <td>1.918115</td>\n",
              "      <td>2.555102</td>\n",
              "      <td>1.609157</td>\n",
              "      <td>1.932234</td>\n",
              "      <td>1.758512</td>\n",
              "      <td>2.466283</td>\n",
              "      <td>1.887837</td>\n",
              "      <td>1.893945</td>\n",
              "    </tr>\n",
              "    <tr>\n",
              "      <th>1</th>\n",
              "      <td>2.476502</td>\n",
              "      <td>2.564952</td>\n",
              "      <td>2.484916</td>\n",
              "      <td>2.435804</td>\n",
              "      <td>2.751464</td>\n",
              "      <td>2.922157</td>\n",
              "      <td>2.513460</td>\n",
              "      <td>3.176072</td>\n",
              "      <td>2.416121</td>\n",
              "      <td>2.665992</td>\n",
              "      <td>...</td>\n",
              "      <td>2.168771</td>\n",
              "      <td>2.427169</td>\n",
              "      <td>1.978785</td>\n",
              "      <td>2.520911</td>\n",
              "      <td>1.471787</td>\n",
              "      <td>2.248789</td>\n",
              "      <td>1.687341</td>\n",
              "      <td>2.431879</td>\n",
              "      <td>1.878912</td>\n",
              "      <td>1.812620</td>\n",
              "    </tr>\n",
              "    <tr>\n",
              "      <th>2</th>\n",
              "      <td>2.516803</td>\n",
              "      <td>2.872871</td>\n",
              "      <td>2.352785</td>\n",
              "      <td>2.557198</td>\n",
              "      <td>2.925518</td>\n",
              "      <td>3.073885</td>\n",
              "      <td>2.543978</td>\n",
              "      <td>3.295611</td>\n",
              "      <td>2.408007</td>\n",
              "      <td>2.643493</td>\n",
              "      <td>...</td>\n",
              "      <td>2.511325</td>\n",
              "      <td>2.413781</td>\n",
              "      <td>2.785270</td>\n",
              "      <td>2.679524</td>\n",
              "      <td>2.069910</td>\n",
              "      <td>2.079583</td>\n",
              "      <td>1.712671</td>\n",
              "      <td>2.519041</td>\n",
              "      <td>2.627307</td>\n",
              "      <td>1.605993</td>\n",
              "    </tr>\n",
              "    <tr>\n",
              "      <th>3</th>\n",
              "      <td>2.499117</td>\n",
              "      <td>2.813643</td>\n",
              "      <td>2.559049</td>\n",
              "      <td>2.656475</td>\n",
              "      <td>2.763619</td>\n",
              "      <td>2.878468</td>\n",
              "      <td>2.592949</td>\n",
              "      <td>3.184148</td>\n",
              "      <td>2.178021</td>\n",
              "      <td>2.670018</td>\n",
              "      <td>...</td>\n",
              "      <td>2.407314</td>\n",
              "      <td>2.302202</td>\n",
              "      <td>1.919156</td>\n",
              "      <td>2.456503</td>\n",
              "      <td>1.874863</td>\n",
              "      <td>1.742102</td>\n",
              "      <td>1.627428</td>\n",
              "      <td>2.410671</td>\n",
              "      <td>2.060907</td>\n",
              "      <td>1.752608</td>\n",
              "    </tr>\n",
              "    <tr>\n",
              "      <th>4</th>\n",
              "      <td>2.411571</td>\n",
              "      <td>2.756731</td>\n",
              "      <td>2.453675</td>\n",
              "      <td>2.912560</td>\n",
              "      <td>2.780565</td>\n",
              "      <td>2.861779</td>\n",
              "      <td>2.491120</td>\n",
              "      <td>3.130010</td>\n",
              "      <td>2.399155</td>\n",
              "      <td>2.666348</td>\n",
              "      <td>...</td>\n",
              "      <td>2.301970</td>\n",
              "      <td>2.280241</td>\n",
              "      <td>1.929420</td>\n",
              "      <td>2.510397</td>\n",
              "      <td>1.792990</td>\n",
              "      <td>2.023107</td>\n",
              "      <td>1.681092</td>\n",
              "      <td>2.391773</td>\n",
              "      <td>1.952135</td>\n",
              "      <td>1.734382</td>\n",
              "    </tr>\n",
              "  </tbody>\n",
              "</table>\n",
              "<p>5 rows × 600 columns</p>\n",
              "</div>\n",
              "      <button class=\"colab-df-convert\" onclick=\"convertToInteractive('df-fd6caa37-6f72-4a81-ad74-0f80ffa16d12')\"\n",
              "              title=\"Convert this dataframe to an interactive table.\"\n",
              "              style=\"display:none;\">\n",
              "        \n",
              "  <svg xmlns=\"http://www.w3.org/2000/svg\" height=\"24px\"viewBox=\"0 0 24 24\"\n",
              "       width=\"24px\">\n",
              "    <path d=\"M0 0h24v24H0V0z\" fill=\"none\"/>\n",
              "    <path d=\"M18.56 5.44l.94 2.06.94-2.06 2.06-.94-2.06-.94-.94-2.06-.94 2.06-2.06.94zm-11 1L8.5 8.5l.94-2.06 2.06-.94-2.06-.94L8.5 2.5l-.94 2.06-2.06.94zm10 10l.94 2.06.94-2.06 2.06-.94-2.06-.94-.94-2.06-.94 2.06-2.06.94z\"/><path d=\"M17.41 7.96l-1.37-1.37c-.4-.4-.92-.59-1.43-.59-.52 0-1.04.2-1.43.59L10.3 9.45l-7.72 7.72c-.78.78-.78 2.05 0 2.83L4 21.41c.39.39.9.59 1.41.59.51 0 1.02-.2 1.41-.59l7.78-7.78 2.81-2.81c.8-.78.8-2.07 0-2.86zM5.41 20L4 18.59l7.72-7.72 1.47 1.35L5.41 20z\"/>\n",
              "  </svg>\n",
              "      </button>\n",
              "      \n",
              "  <style>\n",
              "    .colab-df-container {\n",
              "      display:flex;\n",
              "      flex-wrap:wrap;\n",
              "      gap: 12px;\n",
              "    }\n",
              "\n",
              "    .colab-df-convert {\n",
              "      background-color: #E8F0FE;\n",
              "      border: none;\n",
              "      border-radius: 50%;\n",
              "      cursor: pointer;\n",
              "      display: none;\n",
              "      fill: #1967D2;\n",
              "      height: 32px;\n",
              "      padding: 0 0 0 0;\n",
              "      width: 32px;\n",
              "    }\n",
              "\n",
              "    .colab-df-convert:hover {\n",
              "      background-color: #E2EBFA;\n",
              "      box-shadow: 0px 1px 2px rgba(60, 64, 67, 0.3), 0px 1px 3px 1px rgba(60, 64, 67, 0.15);\n",
              "      fill: #174EA6;\n",
              "    }\n",
              "\n",
              "    [theme=dark] .colab-df-convert {\n",
              "      background-color: #3B4455;\n",
              "      fill: #D2E3FC;\n",
              "    }\n",
              "\n",
              "    [theme=dark] .colab-df-convert:hover {\n",
              "      background-color: #434B5C;\n",
              "      box-shadow: 0px 1px 3px 1px rgba(0, 0, 0, 0.15);\n",
              "      filter: drop-shadow(0px 1px 2px rgba(0, 0, 0, 0.3));\n",
              "      fill: #FFFFFF;\n",
              "    }\n",
              "  </style>\n",
              "\n",
              "      <script>\n",
              "        const buttonEl =\n",
              "          document.querySelector('#df-fd6caa37-6f72-4a81-ad74-0f80ffa16d12 button.colab-df-convert');\n",
              "        buttonEl.style.display =\n",
              "          google.colab.kernel.accessAllowed ? 'block' : 'none';\n",
              "\n",
              "        async function convertToInteractive(key) {\n",
              "          const element = document.querySelector('#df-fd6caa37-6f72-4a81-ad74-0f80ffa16d12');\n",
              "          const dataTable =\n",
              "            await google.colab.kernel.invokeFunction('convertToInteractive',\n",
              "                                                     [key], {});\n",
              "          if (!dataTable) return;\n",
              "\n",
              "          const docLinkHtml = 'Like what you see? Visit the ' +\n",
              "            '<a target=\"_blank\" href=https://colab.research.google.com/notebooks/data_table.ipynb>data table notebook</a>'\n",
              "            + ' to learn more about interactive tables.';\n",
              "          element.innerHTML = '';\n",
              "          dataTable['output_type'] = 'display_data';\n",
              "          await google.colab.output.renderOutput(dataTable, element);\n",
              "          const docLink = document.createElement('div');\n",
              "          docLink.innerHTML = docLinkHtml;\n",
              "          element.appendChild(docLink);\n",
              "        }\n",
              "      </script>\n",
              "    </div>\n",
              "  </div>\n",
              "  "
            ]
          },
          "metadata": {},
          "execution_count": 12
        }
      ]
    },
    {
      "cell_type": "code",
      "source": [
        "df_suspect1.shape"
      ],
      "metadata": {
        "colab": {
          "base_uri": "https://localhost:8080/"
        },
        "id": "3AlrqhUChfsB",
        "outputId": "8a4f3d69-afae-4665-adc3-0cc6bf4e6e1d"
      },
      "execution_count": null,
      "outputs": [
        {
          "output_type": "execute_result",
          "data": {
            "text/plain": [
              "(5, 600)"
            ]
          },
          "metadata": {},
          "execution_count": 13
        }
      ]
    },
    {
      "cell_type": "markdown",
      "source": [
        "## X_train, y_train, X_test, y_test"
      ],
      "metadata": {
        "id": "hNl1GmybhrPl"
      }
    },
    {
      "cell_type": "markdown",
      "source": [
        "X_train"
      ],
      "metadata": {
        "id": "a93NFIIS6jJ3"
      }
    },
    {
      "cell_type": "code",
      "source": [
        "X_train1 = df_train1.iloc[:,:-1]\n",
        "X_train2 = df_train2.iloc[:,:-1]\n",
        "X_train3 = df_train3.iloc[:,:-1]"
      ],
      "metadata": {
        "id": "MqHwQUB5h8OK"
      },
      "execution_count": null,
      "outputs": []
    },
    {
      "cell_type": "markdown",
      "source": [
        "y_train"
      ],
      "metadata": {
        "id": "cOMFovUw6lST"
      }
    },
    {
      "cell_type": "code",
      "source": [
        "y_train1 = df_train1.iloc[:,-1]\n",
        "y_train2 = df_train2.iloc[:,-1]\n",
        "y_train3 = df_train3.iloc[:,-1]"
      ],
      "metadata": {
        "id": "fGtq392Lh_j1"
      },
      "execution_count": null,
      "outputs": []
    },
    {
      "cell_type": "markdown",
      "source": [
        "X_test"
      ],
      "metadata": {
        "id": "JKK_3Ogg6m9i"
      }
    },
    {
      "cell_type": "code",
      "source": [
        "X_test1 = df_test1.iloc[:,:-1]\n",
        "X_test2 = df_test2.iloc[:,:-1]\n",
        "X_test3 = df_test3.iloc[:,:-1]"
      ],
      "metadata": {
        "id": "VQ4pDhKqiGGo"
      },
      "execution_count": null,
      "outputs": []
    },
    {
      "cell_type": "markdown",
      "source": [
        "y_test"
      ],
      "metadata": {
        "id": "ZQQZ0S096oMZ"
      }
    },
    {
      "cell_type": "code",
      "source": [
        "y_test1 = df_test1.iloc[:,-1]\n",
        "y_test2 = df_test2.iloc[:,-1]\n",
        "y_test3 = df_test3.iloc[:,-1]"
      ],
      "metadata": {
        "id": "9Y1Vak6ziNPh"
      },
      "execution_count": null,
      "outputs": []
    },
    {
      "cell_type": "markdown",
      "source": [
        "## Validasi"
      ],
      "metadata": {
        "id": "BNrBRTxCigEn"
      }
    },
    {
      "cell_type": "markdown",
      "source": [
        "### RF1"
      ],
      "metadata": {
        "id": "86IxdyHSikhh"
      }
    },
    {
      "cell_type": "markdown",
      "source": [
        "Fit model"
      ],
      "metadata": {
        "id": "9vE333Xs6qw8"
      }
    },
    {
      "cell_type": "code",
      "source": [
        "rf1_model.fit(X_train1, y_train1)"
      ],
      "metadata": {
        "colab": {
          "base_uri": "https://localhost:8080/"
        },
        "id": "YzKDV4DGieGx",
        "outputId": "c116b8b1-c1d8-4a90-9e07-cfdd36cdaefa"
      },
      "execution_count": null,
      "outputs": [
        {
          "output_type": "execute_result",
          "data": {
            "text/plain": [
              "RandomForestClassifier(max_depth=9)"
            ]
          },
          "metadata": {},
          "execution_count": 18
        }
      ]
    },
    {
      "cell_type": "markdown",
      "source": [
        "Hasil prediksi dengan data test"
      ],
      "metadata": {
        "id": "xY4Yu1BS6s3c"
      }
    },
    {
      "cell_type": "code",
      "source": [
        "rf1_prediksi = rf1_model.predict(X_test1)\n",
        "print(\"Accuracy : \", metrics.accuracy_score(y_test1, rf1_prediksi))\n",
        "print(\"Precision: \", metrics.precision_score(y_test1, rf1_prediksi))\n",
        "print(\"Recall   : \", metrics.recall_score(y_test1, rf1_prediksi))\n",
        "print(\"F1 Score : \", metrics.f1_score(y_test1, rf1_prediksi))"
      ],
      "metadata": {
        "colab": {
          "base_uri": "https://localhost:8080/"
        },
        "id": "uWb8N0yKivbr",
        "outputId": "34d3e7a6-af39-4717-b7f5-a09e21a13292"
      },
      "execution_count": null,
      "outputs": [
        {
          "output_type": "stream",
          "name": "stdout",
          "text": [
            "Accuracy :  0.7192982456140351\n",
            "Precision:  0.71875\n",
            "Recall   :  0.7666666666666667\n",
            "F1 Score :  0.7419354838709677\n"
          ]
        }
      ]
    },
    {
      "cell_type": "markdown",
      "source": [
        "Visualisasi confusion matrix"
      ],
      "metadata": {
        "id": "NkjfGKJB6vSj"
      }
    },
    {
      "cell_type": "code",
      "source": [
        "cf_matrix = metrics.confusion_matrix(y_test1, rf1_prediksi, labels=[1,0]).transpose()\n",
        "\n",
        "plt.figure(figsize=(15,8))\n",
        "ax = plt.subplot()\n",
        "sns.heatmap(cf_matrix, annot=True, fmt='g', cmap='Blues', ax=ax)\n",
        "ax.set_xlabel('Aktual')\n",
        "ax.set_ylabel('Prediksi')\n",
        "ax.set_title('Confusion Matrix RF1') \n",
        "ax.xaxis.set_ticklabels(['1', '0'])\n",
        "ax.yaxis.set_ticklabels(['1', '0'])"
      ],
      "metadata": {
        "colab": {
          "base_uri": "https://localhost:8080/",
          "height": 530
        },
        "id": "vWiqH-LnjPou",
        "outputId": "8a2d7327-4fc2-4cf9-bdce-394dd0da5a2e"
      },
      "execution_count": null,
      "outputs": [
        {
          "output_type": "execute_result",
          "data": {
            "text/plain": [
              "[Text(0, 0.5, '1'), Text(0, 1.5, '0')]"
            ]
          },
          "metadata": {},
          "execution_count": 20
        },
        {
          "output_type": "display_data",
          "data": {
            "text/plain": [
              "<Figure size 1080x576 with 2 Axes>"
            ],
            "image/png": "[encoded data removed]"
          },
          "metadata": {
            "needs_background": "light"
          }
        }
      ]
    },
    {
      "cell_type": "markdown",
      "source": [
        "### RF2"
      ],
      "metadata": {
        "id": "qtuEAI0Z0Hxa"
      }
    },
    {
      "cell_type": "markdown",
      "source": [
        "Fit model"
      ],
      "metadata": {
        "id": "cgtzXkJR6xfI"
      }
    },
    {
      "cell_type": "code",
      "source": [
        "rf2_model.fit(X_train2, y_train2)"
      ],
      "metadata": {
        "colab": {
          "base_uri": "https://localhost:8080/"
        },
        "outputId": "5a0869b1-651a-4629-bb86-5fb760cd7dbf",
        "id": "vKPuSRP70Hxo"
      },
      "execution_count": null,
      "outputs": [
        {
          "output_type": "execute_result",
          "data": {
            "text/plain": [
              "RandomForestClassifier(n_estimators=200)"
            ]
          },
          "metadata": {},
          "execution_count": 21
        }
      ]
    },
    {
      "cell_type": "markdown",
      "source": [
        "Hasil prediksi dengan data test"
      ],
      "metadata": {
        "id": "sOC1sZwz6z59"
      }
    },
    {
      "cell_type": "code",
      "source": [
        "rf2_prediksi = rf2_model.predict(X_test2)\n",
        "print(\"Accuracy : \", metrics.accuracy_score(y_test2, rf2_prediksi))\n",
        "print(\"Precision: \", metrics.precision_score(y_test2, rf2_prediksi))\n",
        "print(\"Recall   : \", metrics.recall_score(y_test2, rf2_prediksi))\n",
        "print(\"F1 Score : \", metrics.f1_score(y_test2, rf2_prediksi))"
      ],
      "metadata": {
        "colab": {
          "base_uri": "https://localhost:8080/"
        },
        "outputId": "9c23d47e-c4ff-4a71-d04a-c3b1a118c4ec",
        "id": "2UOR3nxz0Hxp"
      },
      "execution_count": null,
      "outputs": [
        {
          "output_type": "stream",
          "name": "stdout",
          "text": [
            "Accuracy :  0.7192982456140351\n",
            "Precision:  0.71875\n",
            "Recall   :  0.7666666666666667\n",
            "F1 Score :  0.7419354838709677\n"
          ]
        }
      ]
    },
    {
      "cell_type": "markdown",
      "source": [
        "Visualisasi Confusion Matrix"
      ],
      "metadata": {
        "id": "z6Slyrv462bx"
      }
    },
    {
      "cell_type": "code",
      "source": [
        "cf_matrix = metrics.confusion_matrix(y_test2, rf2_prediksi, labels=[1,0]).transpose()\n",
        "\n",
        "plt.figure(figsize=(15,8))\n",
        "ax = plt.subplot()\n",
        "sns.heatmap(cf_matrix, annot=True, fmt='g', cmap='Blues', ax=ax)\n",
        "ax.set_xlabel('Aktual')\n",
        "ax.set_ylabel('Prediksi')\n",
        "ax.set_title('Confusion Matrix RF2') \n",
        "ax.xaxis.set_ticklabels(['1', '0'])\n",
        "ax.yaxis.set_ticklabels(['1', '0'])"
      ],
      "metadata": {
        "colab": {
          "base_uri": "https://localhost:8080/",
          "height": 530
        },
        "outputId": "86900576-d98f-4182-82ba-b2550af9cc5d",
        "id": "qmKSszt_0Hxq"
      },
      "execution_count": null,
      "outputs": [
        {
          "output_type": "execute_result",
          "data": {
            "text/plain": [
              "[Text(0, 0.5, '1'), Text(0, 1.5, '0')]"
            ]
          },
          "metadata": {},
          "execution_count": 23
        },
        {
          "output_type": "display_data",
          "data": {
            "text/plain": [
              "<Figure size 1080x576 with 2 Axes>"
            ],
            "image/png": "[encoded data removed]"
          },
          "metadata": {
            "needs_background": "light"
          }
        }
      ]
    },
    {
      "cell_type": "markdown",
      "source": [
        "### RF3"
      ],
      "metadata": {
        "id": "duiJ97s80K-W"
      }
    },
    {
      "cell_type": "markdown",
      "source": [
        "Fit model"
      ],
      "metadata": {
        "id": "W8gnfwZF7Ps3"
      }
    },
    {
      "cell_type": "code",
      "source": [
        "rf3_model.fit(X_train3, y_train3)"
      ],
      "metadata": {
        "colab": {
          "base_uri": "https://localhost:8080/"
        },
        "outputId": "f0bd3cd6-8d3e-4020-bb9e-76b52a0812b4",
        "id": "lhUX1wsz0K-X"
      },
      "execution_count": null,
      "outputs": [
        {
          "output_type": "execute_result",
          "data": {
            "text/plain": [
              "RandomForestClassifier(max_depth=6, n_estimators=50)"
            ]
          },
          "metadata": {},
          "execution_count": 24
        }
      ]
    },
    {
      "cell_type": "markdown",
      "source": [
        "Prediksi dengan data test"
      ],
      "metadata": {
        "id": "QmjUI_Gj7RUH"
      }
    },
    {
      "cell_type": "code",
      "source": [
        "rf3_prediksi = rf3_model.predict(X_test3)\n",
        "print(\"Accuracy : \", metrics.accuracy_score(y_test3, rf3_prediksi))\n",
        "print(\"Precision: \", metrics.precision_score(y_test3, rf3_prediksi))\n",
        "print(\"Recall   : \", metrics.recall_score(y_test3, rf3_prediksi))\n",
        "print(\"F1 Score : \", metrics.f1_score(y_test3, rf3_prediksi))"
      ],
      "metadata": {
        "colab": {
          "base_uri": "https://localhost:8080/"
        },
        "outputId": "1d9b14db-64f2-437e-ed93-ba17ff6d23e2",
        "id": "PylLDHu-0K-Y"
      },
      "execution_count": null,
      "outputs": [
        {
          "output_type": "stream",
          "name": "stdout",
          "text": [
            "Accuracy :  0.7368421052631579\n",
            "Precision:  0.7272727272727273\n",
            "Recall   :  0.8\n",
            "F1 Score :  0.761904761904762\n"
          ]
        }
      ]
    },
    {
      "cell_type": "markdown",
      "source": [
        "Visualisasi Confusion Matrix"
      ],
      "metadata": {
        "id": "8SrREwd57TTF"
      }
    },
    {
      "cell_type": "code",
      "source": [
        "cf_matrix = metrics.confusion_matrix(y_test3, rf3_prediksi, labels=[1,0]).transpose()\n",
        "\n",
        "plt.figure(figsize=(15,8))\n",
        "ax = plt.subplot()\n",
        "sns.heatmap(cf_matrix, annot=True, fmt='g', cmap='Blues', ax=ax)\n",
        "ax.set_xlabel('Aktual')\n",
        "ax.set_ylabel('Prediksi')\n",
        "ax.set_title('Confusion Matrix RF3') \n",
        "ax.xaxis.set_ticklabels(['1', '0'])\n",
        "ax.yaxis.set_ticklabels(['1', '0'])"
      ],
      "metadata": {
        "colab": {
          "base_uri": "https://localhost:8080/",
          "height": 530
        },
        "outputId": "1f84f762-390b-465d-8762-ff19724d9bfd",
        "id": "CBFQ7IVC0K-Y"
      },
      "execution_count": null,
      "outputs": [
        {
          "output_type": "execute_result",
          "data": {
            "text/plain": [
              "[Text(0, 0.5, '1'), Text(0, 1.5, '0')]"
            ]
          },
          "metadata": {},
          "execution_count": 26
        },
        {
          "output_type": "display_data",
          "data": {
            "text/plain": [
              "<Figure size 1080x576 with 2 Axes>"
            ],
            "image/png": "[encoded data removed]"
          },
          "metadata": {
            "needs_background": "light"
          }
        }
      ]
    },
    {
      "cell_type": "markdown",
      "source": [
        "## Export"
      ],
      "metadata": {
        "id": "1Dt_0h18nH6f"
      }
    },
    {
      "cell_type": "markdown",
      "source": [
        "### Data Test"
      ],
      "metadata": {
        "id": "h7xXzWP5nxM-"
      }
    },
    {
      "cell_type": "markdown",
      "source": [
        "Label data test dengan hasil prediksi pada masing-masing model"
      ],
      "metadata": {
        "id": "NHcUK-Np7amh"
      }
    },
    {
      "cell_type": "code",
      "source": [
        "test_microarray_prediksi = y_test1.to_frame()\n",
        "test_microarray_prediksi['RF1'] = rf1_prediksi\n",
        "test_microarray_prediksi['RF2'] = rf2_prediksi\n",
        "test_microarray_prediksi['RF3'] = rf3_prediksi\n",
        "test_microarray_prediksi"
      ],
      "metadata": {
        "colab": {
          "base_uri": "https://localhost:8080/",
          "height": 1000
        },
        "id": "VML7QD3j1bw_",
        "outputId": "7de99ddb-c54f-4fa7-fdc7-beb10fcc1e47"
      },
      "execution_count": null,
      "outputs": [
        {
          "output_type": "execute_result",
          "data": {
            "text/plain": [
              "    Label  RF1  RF2  RF3\n",
              "0     1.0  0.0  1.0  1.0\n",
              "1     1.0  1.0  1.0  1.0\n",
              "2     0.0  0.0  0.0  0.0\n",
              "3     1.0  1.0  1.0  1.0\n",
              "4     1.0  0.0  0.0  0.0\n",
              "5     0.0  0.0  1.0  1.0\n",
              "6     1.0  1.0  1.0  1.0\n",
              "7     0.0  1.0  1.0  1.0\n",
              "8     1.0  1.0  1.0  1.0\n",
              "9     1.0  1.0  0.0  1.0\n",
              "10    0.0  1.0  1.0  1.0\n",
              "11    0.0  0.0  0.0  0.0\n",
              "12    0.0  0.0  0.0  0.0\n",
              "13    0.0  1.0  0.0  0.0\n",
              "14    0.0  0.0  0.0  0.0\n",
              "15    1.0  0.0  0.0  0.0\n",
              "16    1.0  1.0  1.0  1.0\n",
              "17    0.0  1.0  1.0  1.0\n",
              "18    1.0  0.0  1.0  0.0\n",
              "19    1.0  1.0  1.0  1.0\n",
              "20    0.0  0.0  0.0  0.0\n",
              "21    0.0  0.0  0.0  0.0\n",
              "22    1.0  1.0  1.0  1.0\n",
              "23    0.0  0.0  0.0  0.0\n",
              "24    1.0  1.0  1.0  1.0\n",
              "25    0.0  1.0  1.0  1.0\n",
              "26    1.0  1.0  1.0  1.0\n",
              "27    1.0  1.0  1.0  1.0\n",
              "28    0.0  1.0  1.0  1.0\n",
              "29    1.0  1.0  1.0  1.0\n",
              "30    1.0  1.0  1.0  1.0\n",
              "31    0.0  0.0  0.0  0.0\n",
              "32    0.0  0.0  0.0  0.0\n",
              "33    0.0  0.0  0.0  0.0\n",
              "34    0.0  0.0  0.0  0.0\n",
              "35    0.0  0.0  0.0  0.0\n",
              "36    1.0  1.0  1.0  1.0\n",
              "37    0.0  0.0  0.0  0.0\n",
              "38    0.0  1.0  1.0  1.0\n",
              "39    1.0  0.0  0.0  0.0\n",
              "40    1.0  1.0  0.0  1.0\n",
              "41    1.0  1.0  1.0  1.0\n",
              "42    1.0  1.0  1.0  1.0\n",
              "43    0.0  1.0  1.0  1.0\n",
              "44    0.0  1.0  1.0  1.0\n",
              "45    0.0  0.0  0.0  0.0\n",
              "46    1.0  1.0  1.0  1.0\n",
              "47    0.0  0.0  0.0  0.0\n",
              "48    0.0  0.0  0.0  0.0\n",
              "49    1.0  0.0  1.0  1.0\n",
              "50    1.0  1.0  1.0  1.0\n",
              "51    1.0  1.0  0.0  0.0\n",
              "52    0.0  0.0  0.0  0.0\n",
              "53    1.0  0.0  1.0  1.0\n",
              "54    1.0  1.0  0.0  0.0\n",
              "55    1.0  1.0  1.0  1.0\n",
              "56    1.0  1.0  1.0  1.0"
            ],
            "text/html": [
              "\n",
              "  <div id=\"df-0381c458-e077-4d2b-ae3b-d4782dfd3943\">\n",
              "    <div class=\"colab-df-container\">\n",
              "      <div>\n",
              "<style scoped>\n",
              "    .dataframe tbody tr th:only-of-type {\n",
              "        vertical-align: middle;\n",
              "    }\n",
              "\n",
              "    .dataframe tbody tr th {\n",
              "        vertical-align: top;\n",
              "    }\n",
              "\n",
              "    .dataframe thead th {\n",
              "        text-align: right;\n",
              "    }\n",
              "</style>\n",
              "<table border=\"1\" class=\"dataframe\">\n",
              "  <thead>\n",
              "    <tr style=\"text-align: right;\">\n",
              "      <th></th>\n",
              "      <th>Label</th>\n",
              "      <th>RF1</th>\n",
              "      <th>RF2</th>\n",
              "      <th>RF3</th>\n",
              "    </tr>\n",
              "  </thead>\n",
              "  <tbody>\n",
              "    <tr>\n",
              "      <th>0</th>\n",
              "      <td>1.0</td>\n",
              "      <td>0.0</td>\n",
              "      <td>1.0</td>\n",
              "      <td>1.0</td>\n",
              "    </tr>\n",
              "    <tr>\n",
              "      <th>1</th>\n",
              "      <td>1.0</td>\n",
              "      <td>1.0</td>\n",
              "      <td>1.0</td>\n",
              "      <td>1.0</td>\n",
              "    </tr>\n",
              "    <tr>\n",
              "      <th>2</th>\n",
              "      <td>0.0</td>\n",
              "      <td>0.0</td>\n",
              "      <td>0.0</td>\n",
              "      <td>0.0</td>\n",
              "    </tr>\n",
              "    <tr>\n",
              "      <th>3</th>\n",
              "      <td>1.0</td>\n",
              "      <td>1.0</td>\n",
              "      <td>1.0</td>\n",
              "      <td>1.0</td>\n",
              "    </tr>\n",
              "    <tr>\n",
              "      <th>4</th>\n",
              "      <td>1.0</td>\n",
              "      <td>0.0</td>\n",
              "      <td>0.0</td>\n",
              "      <td>0.0</td>\n",
              "    </tr>\n",
              "    <tr>\n",
              "      <th>5</th>\n",
              "      <td>0.0</td>\n",
              "      <td>0.0</td>\n",
              "      <td>1.0</td>\n",
              "      <td>1.0</td>\n",
              "    </tr>\n",
              "    <tr>\n",
              "      <th>6</th>\n",
              "      <td>1.0</td>\n",
              "      <td>1.0</td>\n",
              "      <td>1.0</td>\n",
              "      <td>1.0</td>\n",
              "    </tr>\n",
              "    <tr>\n",
              "      <th>7</th>\n",
              "      <td>0.0</td>\n",
              "      <td>1.0</td>\n",
              "      <td>1.0</td>\n",
              "      <td>1.0</td>\n",
              "    </tr>\n",
              "    <tr>\n",
              "      <th>8</th>\n",
              "      <td>1.0</td>\n",
              "      <td>1.0</td>\n",
              "      <td>1.0</td>\n",
              "      <td>1.0</td>\n",
              "    </tr>\n",
              "    <tr>\n",
              "      <th>9</th>\n",
              "      <td>1.0</td>\n",
              "      <td>1.0</td>\n",
              "      <td>0.0</td>\n",
              "      <td>1.0</td>\n",
              "    </tr>\n",
              "    <tr>\n",
              "      <th>10</th>\n",
              "      <td>0.0</td>\n",
              "      <td>1.0</td>\n",
              "      <td>1.0</td>\n",
              "      <td>1.0</td>\n",
              "    </tr>\n",
              "    <tr>\n",
              "      <th>11</th>\n",
              "      <td>0.0</td>\n",
              "      <td>0.0</td>\n",
              "      <td>0.0</td>\n",
              "      <td>0.0</td>\n",
              "    </tr>\n",
              "    <tr>\n",
              "      <th>12</th>\n",
              "      <td>0.0</td>\n",
              "      <td>0.0</td>\n",
              "      <td>0.0</td>\n",
              "      <td>0.0</td>\n",
              "    </tr>\n",
              "    <tr>\n",
              "      <th>13</th>\n",
              "      <td>0.0</td>\n",
              "      <td>1.0</td>\n",
              "      <td>0.0</td>\n",
              "      <td>0.0</td>\n",
              "    </tr>\n",
              "    <tr>\n",
              "      <th>14</th>\n",
              "      <td>0.0</td>\n",
              "      <td>0.0</td>\n",
              "      <td>0.0</td>\n",
              "      <td>0.0</td>\n",
              "    </tr>\n",
              "    <tr>\n",
              "      <th>15</th>\n",
              "      <td>1.0</td>\n",
              "      <td>0.0</td>\n",
              "      <td>0.0</td>\n",
              "      <td>0.0</td>\n",
              "    </tr>\n",
              "    <tr>\n",
              "      <th>16</th>\n",
              "      <td>1.0</td>\n",
              "      <td>1.0</td>\n",
              "      <td>1.0</td>\n",
              "      <td>1.0</td>\n",
              "    </tr>\n",
              "    <tr>\n",
              "      <th>17</th>\n",
              "      <td>0.0</td>\n",
              "      <td>1.0</td>\n",
              "      <td>1.0</td>\n",
              "      <td>1.0</td>\n",
              "    </tr>\n",
              "    <tr>\n",
              "      <th>18</th>\n",
              "      <td>1.0</td>\n",
              "      <td>0.0</td>\n",
              "      <td>1.0</td>\n",
              "      <td>0.0</td>\n",
              "    </tr>\n",
              "    <tr>\n",
              "      <th>19</th>\n",
              "      <td>1.0</td>\n",
              "      <td>1.0</td>\n",
              "      <td>1.0</td>\n",
              "      <td>1.0</td>\n",
              "    </tr>\n",
              "    <tr>\n",
              "      <th>20</th>\n",
              "      <td>0.0</td>\n",
              "      <td>0.0</td>\n",
              "      <td>0.0</td>\n",
              "      <td>0.0</td>\n",
              "    </tr>\n",
              "    <tr>\n",
              "      <th>21</th>\n",
              "      <td>0.0</td>\n",
              "      <td>0.0</td>\n",
              "      <td>0.0</td>\n",
              "      <td>0.0</td>\n",
              "    </tr>\n",
              "    <tr>\n",
              "      <th>22</th>\n",
              "      <td>1.0</td>\n",
              "      <td>1.0</td>\n",
              "      <td>1.0</td>\n",
              "      <td>1.0</td>\n",
              "    </tr>\n",
              "    <tr>\n",
              "      <th>23</th>\n",
              "      <td>0.0</td>\n",
              "      <td>0.0</td>\n",
              "      <td>0.0</td>\n",
              "      <td>0.0</td>\n",
              "    </tr>\n",
              "    <tr>\n",
              "      <th>24</th>\n",
              "      <td>1.0</td>\n",
              "      <td>1.0</td>\n",
              "      <td>1.0</td>\n",
              "      <td>1.0</td>\n",
              "    </tr>\n",
              "    <tr>\n",
              "      <th>25</th>\n",
              "      <td>0.0</td>\n",
              "      <td>1.0</td>\n",
              "      <td>1.0</td>\n",
              "      <td>1.0</td>\n",
              "    </tr>\n",
              "    <tr>\n",
              "      <th>26</th>\n",
              "      <td>1.0</td>\n",
              "      <td>1.0</td>\n",
              "      <td>1.0</td>\n",
              "      <td>1.0</td>\n",
              "    </tr>\n",
              "    <tr>\n",
              "      <th>27</th>\n",
              "      <td>1.0</td>\n",
              "      <td>1.0</td>\n",
              "      <td>1.0</td>\n",
              "      <td>1.0</td>\n",
              "    </tr>\n",
              "    <tr>\n",
              "      <th>28</th>\n",
              "      <td>0.0</td>\n",
              "      <td>1.0</td>\n",
              "      <td>1.0</td>\n",
              "      <td>1.0</td>\n",
              "    </tr>\n",
              "    <tr>\n",
              "      <th>29</th>\n",
              "      <td>1.0</td>\n",
              "      <td>1.0</td>\n",
              "      <td>1.0</td>\n",
              "      <td>1.0</td>\n",
              "    </tr>\n",
              "    <tr>\n",
              "      <th>30</th>\n",
              "      <td>1.0</td>\n",
              "      <td>1.0</td>\n",
              "      <td>1.0</td>\n",
              "      <td>1.0</td>\n",
              "    </tr>\n",
              "    <tr>\n",
              "      <th>31</th>\n",
              "      <td>0.0</td>\n",
              "      <td>0.0</td>\n",
              "      <td>0.0</td>\n",
              "      <td>0.0</td>\n",
              "    </tr>\n",
              "    <tr>\n",
              "      <th>32</th>\n",
              "      <td>0.0</td>\n",
              "      <td>0.0</td>\n",
              "      <td>0.0</td>\n",
              "      <td>0.0</td>\n",
              "    </tr>\n",
              "    <tr>\n",
              "      <th>33</th>\n",
              "      <td>0.0</td>\n",
              "      <td>0.0</td>\n",
              "      <td>0.0</td>\n",
              "      <td>0.0</td>\n",
              "    </tr>\n",
              "    <tr>\n",
              "      <th>34</th>\n",
              "      <td>0.0</td>\n",
              "      <td>0.0</td>\n",
              "      <td>0.0</td>\n",
              "      <td>0.0</td>\n",
              "    </tr>\n",
              "    <tr>\n",
              "      <th>35</th>\n",
              "      <td>0.0</td>\n",
              "      <td>0.0</td>\n",
              "      <td>0.0</td>\n",
              "      <td>0.0</td>\n",
              "    </tr>\n",
              "    <tr>\n",
              "      <th>36</th>\n",
              "      <td>1.0</td>\n",
              "      <td>1.0</td>\n",
              "      <td>1.0</td>\n",
              "      <td>1.0</td>\n",
              "    </tr>\n",
              "    <tr>\n",
              "      <th>37</th>\n",
              "      <td>0.0</td>\n",
              "      <td>0.0</td>\n",
              "      <td>0.0</td>\n",
              "      <td>0.0</td>\n",
              "    </tr>\n",
              "    <tr>\n",
              "      <th>38</th>\n",
              "      <td>0.0</td>\n",
              "      <td>1.0</td>\n",
              "      <td>1.0</td>\n",
              "      <td>1.0</td>\n",
              "    </tr>\n",
              "    <tr>\n",
              "      <th>39</th>\n",
              "      <td>1.0</td>\n",
              "      <td>0.0</td>\n",
              "      <td>0.0</td>\n",
              "      <td>0.0</td>\n",
              "    </tr>\n",
              "    <tr>\n",
              "      <th>40</th>\n",
              "      <td>1.0</td>\n",
              "      <td>1.0</td>\n",
              "      <td>0.0</td>\n",
              "      <td>1.0</td>\n",
              "    </tr>\n",
              "    <tr>\n",
              "      <th>41</th>\n",
              "      <td>1.0</td>\n",
              "      <td>1.0</td>\n",
              "      <td>1.0</td>\n",
              "      <td>1.0</td>\n",
              "    </tr>\n",
              "    <tr>\n",
              "      <th>42</th>\n",
              "      <td>1.0</td>\n",
              "      <td>1.0</td>\n",
              "      <td>1.0</td>\n",
              "      <td>1.0</td>\n",
              "    </tr>\n",
              "    <tr>\n",
              "      <th>43</th>\n",
              "      <td>0.0</td>\n",
              "      <td>1.0</td>\n",
              "      <td>1.0</td>\n",
              "      <td>1.0</td>\n",
              "    </tr>\n",
              "    <tr>\n",
              "      <th>44</th>\n",
              "      <td>0.0</td>\n",
              "      <td>1.0</td>\n",
              "      <td>1.0</td>\n",
              "      <td>1.0</td>\n",
              "    </tr>\n",
              "    <tr>\n",
              "      <th>45</th>\n",
              "      <td>0.0</td>\n",
              "      <td>0.0</td>\n",
              "      <td>0.0</td>\n",
              "      <td>0.0</td>\n",
              "    </tr>\n",
              "    <tr>\n",
              "      <th>46</th>\n",
              "      <td>1.0</td>\n",
              "      <td>1.0</td>\n",
              "      <td>1.0</td>\n",
              "      <td>1.0</td>\n",
              "    </tr>\n",
              "    <tr>\n",
              "      <th>47</th>\n",
              "      <td>0.0</td>\n",
              "      <td>0.0</td>\n",
              "      <td>0.0</td>\n",
              "      <td>0.0</td>\n",
              "    </tr>\n",
              "    <tr>\n",
              "      <th>48</th>\n",
              "      <td>0.0</td>\n",
              "      <td>0.0</td>\n",
              "      <td>0.0</td>\n",
              "      <td>0.0</td>\n",
              "    </tr>\n",
              "    <tr>\n",
              "      <th>49</th>\n",
              "      <td>1.0</td>\n",
              "      <td>0.0</td>\n",
              "      <td>1.0</td>\n",
              "      <td>1.0</td>\n",
              "    </tr>\n",
              "    <tr>\n",
              "      <th>50</th>\n",
              "      <td>1.0</td>\n",
              "      <td>1.0</td>\n",
              "      <td>1.0</td>\n",
              "      <td>1.0</td>\n",
              "    </tr>\n",
              "    <tr>\n",
              "      <th>51</th>\n",
              "      <td>1.0</td>\n",
              "      <td>1.0</td>\n",
              "      <td>0.0</td>\n",
              "      <td>0.0</td>\n",
              "    </tr>\n",
              "    <tr>\n",
              "      <th>52</th>\n",
              "      <td>0.0</td>\n",
              "      <td>0.0</td>\n",
              "      <td>0.0</td>\n",
              "      <td>0.0</td>\n",
              "    </tr>\n",
              "    <tr>\n",
              "      <th>53</th>\n",
              "      <td>1.0</td>\n",
              "      <td>0.0</td>\n",
              "      <td>1.0</td>\n",
              "      <td>1.0</td>\n",
              "    </tr>\n",
              "    <tr>\n",
              "      <th>54</th>\n",
              "      <td>1.0</td>\n",
              "      <td>1.0</td>\n",
              "      <td>0.0</td>\n",
              "      <td>0.0</td>\n",
              "    </tr>\n",
              "    <tr>\n",
              "      <th>55</th>\n",
              "      <td>1.0</td>\n",
              "      <td>1.0</td>\n",
              "      <td>1.0</td>\n",
              "      <td>1.0</td>\n",
              "    </tr>\n",
              "    <tr>\n",
              "      <th>56</th>\n",
              "      <td>1.0</td>\n",
              "      <td>1.0</td>\n",
              "      <td>1.0</td>\n",
              "      <td>1.0</td>\n",
              "    </tr>\n",
              "  </tbody>\n",
              "</table>\n",
              "</div>\n",
              "      <button class=\"colab-df-convert\" onclick=\"convertToInteractive('df-0381c458-e077-4d2b-ae3b-d4782dfd3943')\"\n",
              "              title=\"Convert this dataframe to an interactive table.\"\n",
              "              style=\"display:none;\">\n",
              "        \n",
              "  <svg xmlns=\"http://www.w3.org/2000/svg\" height=\"24px\"viewBox=\"0 0 24 24\"\n",
              "       width=\"24px\">\n",
              "    <path d=\"M0 0h24v24H0V0z\" fill=\"none\"/>\n",
              "    <path d=\"M18.56 5.44l.94 2.06.94-2.06 2.06-.94-2.06-.94-.94-2.06-.94 2.06-2.06.94zm-11 1L8.5 8.5l.94-2.06 2.06-.94-2.06-.94L8.5 2.5l-.94 2.06-2.06.94zm10 10l.94 2.06.94-2.06 2.06-.94-2.06-.94-.94-2.06-.94 2.06-2.06.94z\"/><path d=\"M17.41 7.96l-1.37-1.37c-.4-.4-.92-.59-1.43-.59-.52 0-1.04.2-1.43.59L10.3 9.45l-7.72 7.72c-.78.78-.78 2.05 0 2.83L4 21.41c.39.39.9.59 1.41.59.51 0 1.02-.2 1.41-.59l7.78-7.78 2.81-2.81c.8-.78.8-2.07 0-2.86zM5.41 20L4 18.59l7.72-7.72 1.47 1.35L5.41 20z\"/>\n",
              "  </svg>\n",
              "      </button>\n",
              "      \n",
              "  <style>\n",
              "    .colab-df-container {\n",
              "      display:flex;\n",
              "      flex-wrap:wrap;\n",
              "      gap: 12px;\n",
              "    }\n",
              "\n",
              "    .colab-df-convert {\n",
              "      background-color: #E8F0FE;\n",
              "      border: none;\n",
              "      border-radius: 50%;\n",
              "      cursor: pointer;\n",
              "      display: none;\n",
              "      fill: #1967D2;\n",
              "      height: 32px;\n",
              "      padding: 0 0 0 0;\n",
              "      width: 32px;\n",
              "    }\n",
              "\n",
              "    .colab-df-convert:hover {\n",
              "      background-color: #E2EBFA;\n",
              "      box-shadow: 0px 1px 2px rgba(60, 64, 67, 0.3), 0px 1px 3px 1px rgba(60, 64, 67, 0.15);\n",
              "      fill: #174EA6;\n",
              "    }\n",
              "\n",
              "    [theme=dark] .colab-df-convert {\n",
              "      background-color: #3B4455;\n",
              "      fill: #D2E3FC;\n",
              "    }\n",
              "\n",
              "    [theme=dark] .colab-df-convert:hover {\n",
              "      background-color: #434B5C;\n",
              "      box-shadow: 0px 1px 3px 1px rgba(0, 0, 0, 0.15);\n",
              "      filter: drop-shadow(0px 1px 2px rgba(0, 0, 0, 0.3));\n",
              "      fill: #FFFFFF;\n",
              "    }\n",
              "  </style>\n",
              "\n",
              "      <script>\n",
              "        const buttonEl =\n",
              "          document.querySelector('#df-0381c458-e077-4d2b-ae3b-d4782dfd3943 button.colab-df-convert');\n",
              "        buttonEl.style.display =\n",
              "          google.colab.kernel.accessAllowed ? 'block' : 'none';\n",
              "\n",
              "        async function convertToInteractive(key) {\n",
              "          const element = document.querySelector('#df-0381c458-e077-4d2b-ae3b-d4782dfd3943');\n",
              "          const dataTable =\n",
              "            await google.colab.kernel.invokeFunction('convertToInteractive',\n",
              "                                                     [key], {});\n",
              "          if (!dataTable) return;\n",
              "\n",
              "          const docLinkHtml = 'Like what you see? Visit the ' +\n",
              "            '<a target=\"_blank\" href=https://colab.research.google.com/notebooks/data_table.ipynb>data table notebook</a>'\n",
              "            + ' to learn more about interactive tables.';\n",
              "          element.innerHTML = '';\n",
              "          dataTable['output_type'] = 'display_data';\n",
              "          await google.colab.output.renderOutput(dataTable, element);\n",
              "          const docLink = document.createElement('div');\n",
              "          docLink.innerHTML = docLinkHtml;\n",
              "          element.appendChild(docLink);\n",
              "        }\n",
              "      </script>\n",
              "    </div>\n",
              "  </div>\n",
              "  "
            ]
          },
          "metadata": {},
          "execution_count": 27
        }
      ]
    },
    {
      "cell_type": "markdown",
      "source": [
        "Export ke CSV"
      ],
      "metadata": {
        "id": "k001VpPw7eEW"
      }
    },
    {
      "cell_type": "code",
      "source": [
        "test_microarray_prediksi.to_csv(r'test_microarray_prediksi_rf.csv', index=False, header=True)"
      ],
      "metadata": {
        "id": "N7oJ6hS8ng4Q"
      },
      "execution_count": null,
      "outputs": []
    },
    {
      "cell_type": "markdown",
      "source": [
        "### Suspect"
      ],
      "metadata": {
        "id": "b26CrNofoZ0a"
      }
    },
    {
      "cell_type": "markdown",
      "source": [
        "Fit model"
      ],
      "metadata": {
        "id": "KAmK8V9n7iXM"
      }
    },
    {
      "cell_type": "code",
      "source": [
        "rf1_model.fit(X_train1, y_train1)\n",
        "rf2_model.fit(X_train2, y_train2)\n",
        "rf3_model.fit(X_train3, y_train3)"
      ],
      "metadata": {
        "id": "lsrv4n2cpB4e",
        "colab": {
          "base_uri": "https://localhost:8080/"
        },
        "outputId": "8aac731f-b6d7-46e0-ccd6-b8b92fcfd3ef"
      },
      "execution_count": null,
      "outputs": [
        {
          "output_type": "execute_result",
          "data": {
            "text/plain": [
              "RandomForestClassifier(max_depth=6, n_estimators=50)"
            ]
          },
          "metadata": {},
          "execution_count": 29
        }
      ]
    },
    {
      "cell_type": "markdown",
      "source": [
        "Prediksi dengan Suspect"
      ],
      "metadata": {
        "id": "TEjJDtp17j14"
      }
    },
    {
      "cell_type": "code",
      "source": [
        "rf1_prediksi_suspect = rf1_model.predict(df_suspect1)\n",
        "rf2_prediksi_suspect = rf2_model.predict(df_suspect2)\n",
        "rf3_prediksi_suspect = rf3_model.predict(df_suspect3)"
      ],
      "metadata": {
        "id": "FQ-5K7jCo3wE"
      },
      "execution_count": null,
      "outputs": []
    },
    {
      "cell_type": "markdown",
      "source": [
        "Melihat hasil prediksi masing-masing model"
      ],
      "metadata": {
        "id": "i_qJGwFv7lv6"
      }
    },
    {
      "cell_type": "code",
      "source": [
        "calon_dataframe = {'RF1' : rf1_prediksi_suspect,\n",
        "                   'RF2' : rf2_prediksi_suspect,\n",
        "                   'RF3' : rf3_prediksi_suspect}\n",
        "suspect_prediksi = pd.DataFrame(calon_dataframe)\n",
        "suspect_prediksi"
      ],
      "metadata": {
        "id": "hdkYKajapY6u",
        "colab": {
          "base_uri": "https://localhost:8080/",
          "height": 206
        },
        "outputId": "5d15615e-8caf-4f22-9157-516b0971b989"
      },
      "execution_count": null,
      "outputs": [
        {
          "output_type": "execute_result",
          "data": {
            "text/plain": [
              "   RF1  RF2  RF3\n",
              "0  0.0  1.0  1.0\n",
              "1  1.0  1.0  1.0\n",
              "2  0.0  1.0  0.0\n",
              "3  1.0  1.0  1.0\n",
              "4  1.0  1.0  0.0"
            ],
            "text/html": [
              "\n",
              "  <div id=\"df-bbd7b4a6-2029-4e0c-8f57-fba56066cb16\">\n",
              "    <div class=\"colab-df-container\">\n",
              "      <div>\n",
              "<style scoped>\n",
              "    .dataframe tbody tr th:only-of-type {\n",
              "        vertical-align: middle;\n",
              "    }\n",
              "\n",
              "    .dataframe tbody tr th {\n",
              "        vertical-align: top;\n",
              "    }\n",
              "\n",
              "    .dataframe thead th {\n",
              "        text-align: right;\n",
              "    }\n",
              "</style>\n",
              "<table border=\"1\" class=\"dataframe\">\n",
              "  <thead>\n",
              "    <tr style=\"text-align: right;\">\n",
              "      <th></th>\n",
              "      <th>RF1</th>\n",
              "      <th>RF2</th>\n",
              "      <th>RF3</th>\n",
              "    </tr>\n",
              "  </thead>\n",
              "  <tbody>\n",
              "    <tr>\n",
              "      <th>0</th>\n",
              "      <td>0.0</td>\n",
              "      <td>1.0</td>\n",
              "      <td>1.0</td>\n",
              "    </tr>\n",
              "    <tr>\n",
              "      <th>1</th>\n",
              "      <td>1.0</td>\n",
              "      <td>1.0</td>\n",
              "      <td>1.0</td>\n",
              "    </tr>\n",
              "    <tr>\n",
              "      <th>2</th>\n",
              "      <td>0.0</td>\n",
              "      <td>1.0</td>\n",
              "      <td>0.0</td>\n",
              "    </tr>\n",
              "    <tr>\n",
              "      <th>3</th>\n",
              "      <td>1.0</td>\n",
              "      <td>1.0</td>\n",
              "      <td>1.0</td>\n",
              "    </tr>\n",
              "    <tr>\n",
              "      <th>4</th>\n",
              "      <td>1.0</td>\n",
              "      <td>1.0</td>\n",
              "      <td>0.0</td>\n",
              "    </tr>\n",
              "  </tbody>\n",
              "</table>\n",
              "</div>\n",
              "      <button class=\"colab-df-convert\" onclick=\"convertToInteractive('df-bbd7b4a6-2029-4e0c-8f57-fba56066cb16')\"\n",
              "              title=\"Convert this dataframe to an interactive table.\"\n",
              "              style=\"display:none;\">\n",
              "        \n",
              "  <svg xmlns=\"http://www.w3.org/2000/svg\" height=\"24px\"viewBox=\"0 0 24 24\"\n",
              "       width=\"24px\">\n",
              "    <path d=\"M0 0h24v24H0V0z\" fill=\"none\"/>\n",
              "    <path d=\"M18.56 5.44l.94 2.06.94-2.06 2.06-.94-2.06-.94-.94-2.06-.94 2.06-2.06.94zm-11 1L8.5 8.5l.94-2.06 2.06-.94-2.06-.94L8.5 2.5l-.94 2.06-2.06.94zm10 10l.94 2.06.94-2.06 2.06-.94-2.06-.94-.94-2.06-.94 2.06-2.06.94z\"/><path d=\"M17.41 7.96l-1.37-1.37c-.4-.4-.92-.59-1.43-.59-.52 0-1.04.2-1.43.59L10.3 9.45l-7.72 7.72c-.78.78-.78 2.05 0 2.83L4 21.41c.39.39.9.59 1.41.59.51 0 1.02-.2 1.41-.59l7.78-7.78 2.81-2.81c.8-.78.8-2.07 0-2.86zM5.41 20L4 18.59l7.72-7.72 1.47 1.35L5.41 20z\"/>\n",
              "  </svg>\n",
              "      </button>\n",
              "      \n",
              "  <style>\n",
              "    .colab-df-container {\n",
              "      display:flex;\n",
              "      flex-wrap:wrap;\n",
              "      gap: 12px;\n",
              "    }\n",
              "\n",
              "    .colab-df-convert {\n",
              "      background-color: #E8F0FE;\n",
              "      border: none;\n",
              "      border-radius: 50%;\n",
              "      cursor: pointer;\n",
              "      display: none;\n",
              "      fill: #1967D2;\n",
              "      height: 32px;\n",
              "      padding: 0 0 0 0;\n",
              "      width: 32px;\n",
              "    }\n",
              "\n",
              "    .colab-df-convert:hover {\n",
              "      background-color: #E2EBFA;\n",
              "      box-shadow: 0px 1px 2px rgba(60, 64, 67, 0.3), 0px 1px 3px 1px rgba(60, 64, 67, 0.15);\n",
              "      fill: #174EA6;\n",
              "    }\n",
              "\n",
              "    [theme=dark] .colab-df-convert {\n",
              "      background-color: #3B4455;\n",
              "      fill: #D2E3FC;\n",
              "    }\n",
              "\n",
              "    [theme=dark] .colab-df-convert:hover {\n",
              "      background-color: #434B5C;\n",
              "      box-shadow: 0px 1px 3px 1px rgba(0, 0, 0, 0.15);\n",
              "      filter: drop-shadow(0px 1px 2px rgba(0, 0, 0, 0.3));\n",
              "      fill: #FFFFFF;\n",
              "    }\n",
              "  </style>\n",
              "\n",
              "      <script>\n",
              "        const buttonEl =\n",
              "          document.querySelector('#df-bbd7b4a6-2029-4e0c-8f57-fba56066cb16 button.colab-df-convert');\n",
              "        buttonEl.style.display =\n",
              "          google.colab.kernel.accessAllowed ? 'block' : 'none';\n",
              "\n",
              "        async function convertToInteractive(key) {\n",
              "          const element = document.querySelector('#df-bbd7b4a6-2029-4e0c-8f57-fba56066cb16');\n",
              "          const dataTable =\n",
              "            await google.colab.kernel.invokeFunction('convertToInteractive',\n",
              "                                                     [key], {});\n",
              "          if (!dataTable) return;\n",
              "\n",
              "          const docLinkHtml = 'Like what you see? Visit the ' +\n",
              "            '<a target=\"_blank\" href=https://colab.research.google.com/notebooks/data_table.ipynb>data table notebook</a>'\n",
              "            + ' to learn more about interactive tables.';\n",
              "          element.innerHTML = '';\n",
              "          dataTable['output_type'] = 'display_data';\n",
              "          await google.colab.output.renderOutput(dataTable, element);\n",
              "          const docLink = document.createElement('div');\n",
              "          docLink.innerHTML = docLinkHtml;\n",
              "          element.appendChild(docLink);\n",
              "        }\n",
              "      </script>\n",
              "    </div>\n",
              "  </div>\n",
              "  "
            ]
          },
          "metadata": {},
          "execution_count": 31
        }
      ]
    },
    {
      "cell_type": "markdown",
      "source": [
        "Export ke CSV"
      ],
      "metadata": {
        "id": "hZn3KE5w7pQ_"
      }
    },
    {
      "cell_type": "code",
      "source": [
        "suspect_prediksi.to_csv(r'suspect_prediksi_rf.csv', index=False, header=True)"
      ],
      "metadata": {
        "id": "f6_LOhm7pq9g"
      },
      "execution_count": null,
      "outputs": []
    }
  ]
}