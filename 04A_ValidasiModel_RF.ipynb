{
  "nbformat": 4,
  "nbformat_minor": 0,
  "metadata": {
    "colab": {
      "name": "04A.ValidasiModel_RF.ipynb",
      "provenance": [],
      "collapsed_sections": [
        "xxytEywThbGG",
        "t2bLyadvhddJ",
        "es5TB-Bbhi_i",
        "86IxdyHSikhh",
        "qtuEAI0Z0Hxa",
        "duiJ97s80K-W",
        "h7xXzWP5nxM-",
        "b26CrNofoZ0a"
      ]
    },
    "kernelspec": {
      "name": "python3",
      "display_name": "Python 3"
    },
    "language_info": {
      "name": "python"
    }
  },
  "cells": [
    {
      "cell_type": "markdown",
      "source": [
        "<h2><b>Input : </b></h2>\n",
        "\n",
        "*   train_microarray.csv\n",
        "*   test_microarray.csv\n",
        "*   suspect.csv\n",
        "* rf1_features.pkl\n",
        "* rf2_features.pkl\n",
        "* rf3_features.pkl\n",
        "* rf1_model.pkl\n",
        "* rf2_model.pkl\n",
        "* rf3_model.pkl\n",
        "\n",
        "<h2><b>Output : </b></h2>\n",
        "\n",
        "*   test_microarray_prediksi_rf.csv\n",
        "*   suspect_prediksi_rf.csv"
      ],
      "metadata": {
        "id": "ViTfqQr2dURH"
      }
    },
    {
      "cell_type": "markdown",
      "source": [
        "# Run All"
      ],
      "metadata": {
        "id": "0aI5ojzzdSea"
      }
    },
    {
      "cell_type": "markdown",
      "source": [
        "## Import dan Load"
      ],
      "metadata": {
        "id": "Ozrhr7KzhXXS"
      }
    },
    {
      "cell_type": "markdown",
      "source": [
        "Import library yang dibutuhkan"
      ],
      "metadata": {
        "id": "A8xYn1Gm6Rmz"
      }
    },
    {
      "cell_type": "code",
      "execution_count": null,
      "metadata": {
        "id": "tWkeIwdadK_t"
      },
      "outputs": [],
      "source": [
        "import pandas as pd\n",
        "import numpy as np\n",
        "import seaborn as sns\n",
        "import matplotlib.pyplot as plt\n",
        "\n",
        "from sklearn.ensemble import RandomForestClassifier\n",
        "from sklearn import metrics\n",
        "\n",
        "import joblib"
      ]
    },
    {
      "cell_type": "markdown",
      "source": [
        "Load data"
      ],
      "metadata": {
        "id": "EA8tVIA56Tme"
      }
    },
    {
      "cell_type": "code",
      "source": [
        "df_train = pd.read_csv('https://drive.google.com/uc?id=1MiU_0V6-LvZ_CyCuWf2HoW-WXNKSIFJQ')\n",
        "df_test = pd.read_csv('https://drive.google.com/uc?id=1G-TSwysKHqTcXl0GERkf3cXKUtBrJ1Yc')\n",
        "df_suspect = pd.read_csv('https://drive.google.com/uc?id=1r8oGfgJ3RTxRZSlU7pcYkBbq2ATOoRVP')"
      ],
      "metadata": {
        "id": "wYdgawQeeiYO"
      },
      "execution_count": null,
      "outputs": []
    },
    {
      "cell_type": "markdown",
      "source": [
        "Load hasil seleksi fitur"
      ],
      "metadata": {
        "id": "zUwyeaIC6Vc-"
      }
    },
    {
      "cell_type": "code",
      "source": [
        "rf1_features = joblib.load('rf1_features.pkl')\n",
        "rf2_features = joblib.load('rf2_features.pkl')\n",
        "rf3_features = joblib.load('rf3_features.pkl')"
      ],
      "metadata": {
        "id": "Wx9nsMB0vWb5"
      },
      "execution_count": null,
      "outputs": []
    },
    {
      "cell_type": "markdown",
      "source": [
        "Load hyperparameter tuning"
      ],
      "metadata": {
        "id": "vJW7OZag6XNh"
      }
    },
    {
      "cell_type": "code",
      "source": [
        "rf1_model = joblib.load('rf1_model.pkl')\n",
        "rf2_model = joblib.load('rf2_model.pkl')\n",
        "rf3_model = joblib.load('rf3_model.pkl')"
      ],
      "metadata": {
        "id": "wjb-jzV8vryq"
      },
      "execution_count": null,
      "outputs": []
    },
    {
      "cell_type": "markdown",
      "source": [
        "Mengambil fitur dari df_train awal"
      ],
      "metadata": {
        "id": "nH4n2JGX6ZJA"
      }
    },
    {
      "cell_type": "code",
      "source": [
        "df_train1 = df_train[rf1_features]\n",
        "df_train2 = df_train[rf2_features]\n",
        "df_train3 = df_train[rf3_features]"
      ],
      "metadata": {
        "id": "fS2JtuNowoFX"
      },
      "execution_count": null,
      "outputs": []
    },
    {
      "cell_type": "markdown",
      "source": [
        "Mengambil fitur dari df_test awal"
      ],
      "metadata": {
        "id": "d8E0z4ZA6bzz"
      }
    },
    {
      "cell_type": "code",
      "source": [
        "df_test1 = df_test[rf1_features]\n",
        "df_test2 = df_test[rf2_features]\n",
        "df_test3 = df_test[rf3_features]"
      ],
      "metadata": {
        "id": "SMZ3RSo9wx23"
      },
      "execution_count": null,
      "outputs": []
    },
    {
      "cell_type": "markdown",
      "source": [
        "Mengambil fitur dari df_suspect"
      ],
      "metadata": {
        "id": "ofP2C1US6fDy"
      }
    },
    {
      "cell_type": "code",
      "source": [
        "df_suspect1 = df_suspect[rf1_features[:-1]]\n",
        "df_suspect2 = df_suspect[rf2_features[:-1]]\n",
        "df_suspect3 = df_suspect[rf3_features[:-1]]"
      ],
      "metadata": {
        "id": "DDjLjXb9ynME"
      },
      "execution_count": null,
      "outputs": []
    },
    {
      "cell_type": "markdown",
      "source": [
        "### Contoh Data Train"
      ],
      "metadata": {
        "id": "xxytEywThbGG"
      }
    },
    {
      "cell_type": "code",
      "source": [
        "df_train1.head()"
      ],
      "metadata": {
        "colab": {
          "base_uri": "https://localhost:8080/"
        },
        "id": "NvtgkrQbgv25",
        "outputId": "40b0b4af-e4fd-4874-93f6-3801b4dadd7c"
      },
      "execution_count": null,
      "outputs": [
        {
          "output_type": "execute_result",
          "data": {
            "text/plain": [
              "   211612_s_at  219678_x_at  217653_x_at  211996_s_at  214594_x_at  \\\n",
              "0     2.535743     2.457776     2.052387     2.873506     2.285882   \n",
              "1     2.587822     2.408562     1.957657     2.779933     2.248177   \n",
              "2     2.529666     2.447706     2.059190     2.805088     2.255567   \n",
              "3     2.274739     2.537130     2.273920     2.952965     2.554384   \n",
              "4     2.551101     2.692597     2.321532     2.887101     2.752609   \n",
              "\n",
              "   218155_x_at  202936_s_at  207730_x_at  209703_x_at  216609_at  ...  \\\n",
              "0     2.518572     2.656989     2.833421     2.448979   1.982433  ...   \n",
              "1     2.508590     2.366057     2.871436     2.460372   2.139794  ...   \n",
              "2     2.658405     2.542071     2.871085     2.435954   2.113104  ...   \n",
              "3     2.736684     2.465318     2.988069     2.551221   2.204011  ...   \n",
              "4     2.752873     2.608392     3.098642     2.643402   2.483343  ...   \n",
              "\n",
              "   217022_s_at  214395_x_at  206835_at  221872_at  202435_s_at  205749_at  \\\n",
              "0     3.326183     2.223289   2.172511   3.372939     1.817986   2.344495   \n",
              "1     2.215997     2.310986   2.492978   3.166555     2.619466   2.850630   \n",
              "2     2.428886     2.309818   2.180694   2.794188     2.300764   2.624524   \n",
              "3     3.321267     2.512591   2.043120   2.743884     1.905358   2.407280   \n",
              "4     3.044343     2.416892   2.009510   2.612371     1.929459   2.500476   \n",
              "\n",
              "   218541_s_at  205382_s_at  217028_at  Label  \n",
              "0     2.008092     2.665495   2.582746      1  \n",
              "1     1.712133     2.541161   2.461546      1  \n",
              "2     1.660744     2.496869   2.621770      0  \n",
              "3     1.582201     2.669755   2.206625      0  \n",
              "4     1.830177     2.895747   2.974692      0  \n",
              "\n",
              "[5 rows x 301 columns]"
            ],
            "text/html": [
              "\n",
              "  <div id=\"df-b60d8c85-9b21-406f-91b3-d1c3760fad38\">\n",
              "    <div class=\"colab-df-container\">\n",
              "      <div>\n",
              "<style scoped>\n",
              "    .dataframe tbody tr th:only-of-type {\n",
              "        vertical-align: middle;\n",
              "    }\n",
              "\n",
              "    .dataframe tbody tr th {\n",
              "        vertical-align: top;\n",
              "    }\n",
              "\n",
              "    .dataframe thead th {\n",
              "        text-align: right;\n",
              "    }\n",
              "</style>\n",
              "<table border=\"1\" class=\"dataframe\">\n",
              "  <thead>\n",
              "    <tr style=\"text-align: right;\">\n",
              "      <th></th>\n",
              "      <th>211612_s_at</th>\n",
              "      <th>219678_x_at</th>\n",
              "      <th>217653_x_at</th>\n",
              "      <th>211996_s_at</th>\n",
              "      <th>214594_x_at</th>\n",
              "      <th>218155_x_at</th>\n",
              "      <th>202936_s_at</th>\n",
              "      <th>207730_x_at</th>\n",
              "      <th>209703_x_at</th>\n",
              "      <th>216609_at</th>\n",
              "      <th>...</th>\n",
              "      <th>217022_s_at</th>\n",
              "      <th>214395_x_at</th>\n",
              "      <th>206835_at</th>\n",
              "      <th>221872_at</th>\n",
              "      <th>202435_s_at</th>\n",
              "      <th>205749_at</th>\n",
              "      <th>218541_s_at</th>\n",
              "      <th>205382_s_at</th>\n",
              "      <th>217028_at</th>\n",
              "      <th>Label</th>\n",
              "    </tr>\n",
              "  </thead>\n",
              "  <tbody>\n",
              "    <tr>\n",
              "      <th>0</th>\n",
              "      <td>2.535743</td>\n",
              "      <td>2.457776</td>\n",
              "      <td>2.052387</td>\n",
              "      <td>2.873506</td>\n",
              "      <td>2.285882</td>\n",
              "      <td>2.518572</td>\n",
              "      <td>2.656989</td>\n",
              "      <td>2.833421</td>\n",
              "      <td>2.448979</td>\n",
              "      <td>1.982433</td>\n",
              "      <td>...</td>\n",
              "      <td>3.326183</td>\n",
              "      <td>2.223289</td>\n",
              "      <td>2.172511</td>\n",
              "      <td>3.372939</td>\n",
              "      <td>1.817986</td>\n",
              "      <td>2.344495</td>\n",
              "      <td>2.008092</td>\n",
              "      <td>2.665495</td>\n",
              "      <td>2.582746</td>\n",
              "      <td>1</td>\n",
              "    </tr>\n",
              "    <tr>\n",
              "      <th>1</th>\n",
              "      <td>2.587822</td>\n",
              "      <td>2.408562</td>\n",
              "      <td>1.957657</td>\n",
              "      <td>2.779933</td>\n",
              "      <td>2.248177</td>\n",
              "      <td>2.508590</td>\n",
              "      <td>2.366057</td>\n",
              "      <td>2.871436</td>\n",
              "      <td>2.460372</td>\n",
              "      <td>2.139794</td>\n",
              "      <td>...</td>\n",
              "      <td>2.215997</td>\n",
              "      <td>2.310986</td>\n",
              "      <td>2.492978</td>\n",
              "      <td>3.166555</td>\n",
              "      <td>2.619466</td>\n",
              "      <td>2.850630</td>\n",
              "      <td>1.712133</td>\n",
              "      <td>2.541161</td>\n",
              "      <td>2.461546</td>\n",
              "      <td>1</td>\n",
              "    </tr>\n",
              "    <tr>\n",
              "      <th>2</th>\n",
              "      <td>2.529666</td>\n",
              "      <td>2.447706</td>\n",
              "      <td>2.059190</td>\n",
              "      <td>2.805088</td>\n",
              "      <td>2.255567</td>\n",
              "      <td>2.658405</td>\n",
              "      <td>2.542071</td>\n",
              "      <td>2.871085</td>\n",
              "      <td>2.435954</td>\n",
              "      <td>2.113104</td>\n",
              "      <td>...</td>\n",
              "      <td>2.428886</td>\n",
              "      <td>2.309818</td>\n",
              "      <td>2.180694</td>\n",
              "      <td>2.794188</td>\n",
              "      <td>2.300764</td>\n",
              "      <td>2.624524</td>\n",
              "      <td>1.660744</td>\n",
              "      <td>2.496869</td>\n",
              "      <td>2.621770</td>\n",
              "      <td>0</td>\n",
              "    </tr>\n",
              "    <tr>\n",
              "      <th>3</th>\n",
              "      <td>2.274739</td>\n",
              "      <td>2.537130</td>\n",
              "      <td>2.273920</td>\n",
              "      <td>2.952965</td>\n",
              "      <td>2.554384</td>\n",
              "      <td>2.736684</td>\n",
              "      <td>2.465318</td>\n",
              "      <td>2.988069</td>\n",
              "      <td>2.551221</td>\n",
              "      <td>2.204011</td>\n",
              "      <td>...</td>\n",
              "      <td>3.321267</td>\n",
              "      <td>2.512591</td>\n",
              "      <td>2.043120</td>\n",
              "      <td>2.743884</td>\n",
              "      <td>1.905358</td>\n",
              "      <td>2.407280</td>\n",
              "      <td>1.582201</td>\n",
              "      <td>2.669755</td>\n",
              "      <td>2.206625</td>\n",
              "      <td>0</td>\n",
              "    </tr>\n",
              "    <tr>\n",
              "      <th>4</th>\n",
              "      <td>2.551101</td>\n",
              "      <td>2.692597</td>\n",
              "      <td>2.321532</td>\n",
              "      <td>2.887101</td>\n",
              "      <td>2.752609</td>\n",
              "      <td>2.752873</td>\n",
              "      <td>2.608392</td>\n",
              "      <td>3.098642</td>\n",
              "      <td>2.643402</td>\n",
              "      <td>2.483343</td>\n",
              "      <td>...</td>\n",
              "      <td>3.044343</td>\n",
              "      <td>2.416892</td>\n",
              "      <td>2.009510</td>\n",
              "      <td>2.612371</td>\n",
              "      <td>1.929459</td>\n",
              "      <td>2.500476</td>\n",
              "      <td>1.830177</td>\n",
              "      <td>2.895747</td>\n",
              "      <td>2.974692</td>\n",
              "      <td>0</td>\n",
              "    </tr>\n",
              "  </tbody>\n",
              "</table>\n",
              "<p>5 rows × 301 columns</p>\n",
              "</div>\n",
              "      <button class=\"colab-df-convert\" onclick=\"convertToInteractive('df-b60d8c85-9b21-406f-91b3-d1c3760fad38')\"\n",
              "              title=\"Convert this dataframe to an interactive table.\"\n",
              "              style=\"display:none;\">\n",
              "        \n",
              "  <svg xmlns=\"http://www.w3.org/2000/svg\" height=\"24px\"viewBox=\"0 0 24 24\"\n",
              "       width=\"24px\">\n",
              "    <path d=\"M0 0h24v24H0V0z\" fill=\"none\"/>\n",
              "    <path d=\"M18.56 5.44l.94 2.06.94-2.06 2.06-.94-2.06-.94-.94-2.06-.94 2.06-2.06.94zm-11 1L8.5 8.5l.94-2.06 2.06-.94-2.06-.94L8.5 2.5l-.94 2.06-2.06.94zm10 10l.94 2.06.94-2.06 2.06-.94-2.06-.94-.94-2.06-.94 2.06-2.06.94z\"/><path d=\"M17.41 7.96l-1.37-1.37c-.4-.4-.92-.59-1.43-.59-.52 0-1.04.2-1.43.59L10.3 9.45l-7.72 7.72c-.78.78-.78 2.05 0 2.83L4 21.41c.39.39.9.59 1.41.59.51 0 1.02-.2 1.41-.59l7.78-7.78 2.81-2.81c.8-.78.8-2.07 0-2.86zM5.41 20L4 18.59l7.72-7.72 1.47 1.35L5.41 20z\"/>\n",
              "  </svg>\n",
              "      </button>\n",
              "      \n",
              "  <style>\n",
              "    .colab-df-container {\n",
              "      display:flex;\n",
              "      flex-wrap:wrap;\n",
              "      gap: 12px;\n",
              "    }\n",
              "\n",
              "    .colab-df-convert {\n",
              "      background-color: #E8F0FE;\n",
              "      border: none;\n",
              "      border-radius: 50%;\n",
              "      cursor: pointer;\n",
              "      display: none;\n",
              "      fill: #1967D2;\n",
              "      height: 32px;\n",
              "      padding: 0 0 0 0;\n",
              "      width: 32px;\n",
              "    }\n",
              "\n",
              "    .colab-df-convert:hover {\n",
              "      background-color: #E2EBFA;\n",
              "      box-shadow: 0px 1px 2px rgba(60, 64, 67, 0.3), 0px 1px 3px 1px rgba(60, 64, 67, 0.15);\n",
              "      fill: #174EA6;\n",
              "    }\n",
              "\n",
              "    [theme=dark] .colab-df-convert {\n",
              "      background-color: #3B4455;\n",
              "      fill: #D2E3FC;\n",
              "    }\n",
              "\n",
              "    [theme=dark] .colab-df-convert:hover {\n",
              "      background-color: #434B5C;\n",
              "      box-shadow: 0px 1px 3px 1px rgba(0, 0, 0, 0.15);\n",
              "      filter: drop-shadow(0px 1px 2px rgba(0, 0, 0, 0.3));\n",
              "      fill: #FFFFFF;\n",
              "    }\n",
              "  </style>\n",
              "\n",
              "      <script>\n",
              "        const buttonEl =\n",
              "          document.querySelector('#df-b60d8c85-9b21-406f-91b3-d1c3760fad38 button.colab-df-convert');\n",
              "        buttonEl.style.display =\n",
              "          google.colab.kernel.accessAllowed ? 'block' : 'none';\n",
              "\n",
              "        async function convertToInteractive(key) {\n",
              "          const element = document.querySelector('#df-b60d8c85-9b21-406f-91b3-d1c3760fad38');\n",
              "          const dataTable =\n",
              "            await google.colab.kernel.invokeFunction('convertToInteractive',\n",
              "                                                     [key], {});\n",
              "          if (!dataTable) return;\n",
              "\n",
              "          const docLinkHtml = 'Like what you see? Visit the ' +\n",
              "            '<a target=\"_blank\" href=https://colab.research.google.com/notebooks/data_table.ipynb>data table notebook</a>'\n",
              "            + ' to learn more about interactive tables.';\n",
              "          element.innerHTML = '';\n",
              "          dataTable['output_type'] = 'display_data';\n",
              "          await google.colab.output.renderOutput(dataTable, element);\n",
              "          const docLink = document.createElement('div');\n",
              "          docLink.innerHTML = docLinkHtml;\n",
              "          element.appendChild(docLink);\n",
              "        }\n",
              "      </script>\n",
              "    </div>\n",
              "  </div>\n",
              "  "
            ]
          },
          "metadata": {},
          "execution_count": 8
        }
      ]
    },
    {
      "cell_type": "code",
      "source": [
        "df_train1.shape"
      ],
      "metadata": {
        "colab": {
          "base_uri": "https://localhost:8080/"
        },
        "id": "JrlD8rgOg_fB",
        "outputId": "73a4e1c7-dcac-4f08-c0c9-862fcd5487e7"
      },
      "execution_count": null,
      "outputs": [
        {
          "output_type": "execute_result",
          "data": {
            "text/plain": [
              "(130, 301)"
            ]
          },
          "metadata": {},
          "execution_count": 9
        }
      ]
    },
    {
      "cell_type": "markdown",
      "source": [
        "### Contoh Data Test"
      ],
      "metadata": {
        "id": "t2bLyadvhddJ"
      }
    },
    {
      "cell_type": "code",
      "source": [
        "df_test1.head()"
      ],
      "metadata": {
        "colab": {
          "base_uri": "https://localhost:8080/"
        },
        "id": "ebnH4y9bhBZu",
        "outputId": "2749c411-e657-4e6d-be7b-7fc88a204d66"
      },
      "execution_count": null,
      "outputs": [
        {
          "output_type": "execute_result",
          "data": {
            "text/plain": [
              "   211612_s_at  219678_x_at  217653_x_at  211996_s_at  214594_x_at  \\\n",
              "0     2.522052     2.734353     2.503071     2.833083     2.905310   \n",
              "1     2.529361     2.340690     2.043689     2.729539     2.276008   \n",
              "2     2.383285     2.760980     2.557625     2.992440     2.949728   \n",
              "3     2.642286     2.468361     2.047078     2.834506     2.434371   \n",
              "4     2.406230     2.614403     2.275517     3.065341     2.827774   \n",
              "\n",
              "   218155_x_at  202936_s_at  207730_x_at  209703_x_at  216609_at  ...  \\\n",
              "0     2.861828     2.513210     3.224710     2.705712   1.864313  ...   \n",
              "1     2.508054     2.776756     2.837544     2.624152   1.974100  ...   \n",
              "2     2.925960     2.637554     3.215604     2.608863   2.126646  ...   \n",
              "3     2.548282     2.529123     2.895243     2.634816   2.054124  ...   \n",
              "4     2.847275     2.353981     3.153981     2.731633   2.104720  ...   \n",
              "\n",
              "   217022_s_at  214395_x_at  206835_at  221872_at  202435_s_at  205749_at  \\\n",
              "0     2.711916     2.639105   2.090198   3.083715     2.100430   2.481651   \n",
              "1     3.094587     2.210177   1.931578   3.260034     1.795092   2.285975   \n",
              "2     2.565371     2.808035   1.880459   2.686703     1.853020   2.467939   \n",
              "3     2.570787     2.277749   2.055436   3.202633     1.730806   2.274817   \n",
              "4     2.706017     2.366307   1.962940   2.976508     2.250387   2.292197   \n",
              "\n",
              "   218541_s_at  205382_s_at  217028_at  Label  \n",
              "0     1.772674     3.048133   2.286263      0  \n",
              "1     2.131319     2.648631   2.513521      1  \n",
              "2     1.790829     2.802343   2.131134      1  \n",
              "3     2.458880     2.640652   2.263108      1  \n",
              "4     1.993056     2.572407   3.070744      0  \n",
              "\n",
              "[5 rows x 301 columns]"
            ],
            "text/html": [
              "\n",
              "  <div id=\"df-820bb92f-5340-455b-831b-d8f466b21c89\">\n",
              "    <div class=\"colab-df-container\">\n",
              "      <div>\n",
              "<style scoped>\n",
              "    .dataframe tbody tr th:only-of-type {\n",
              "        vertical-align: middle;\n",
              "    }\n",
              "\n",
              "    .dataframe tbody tr th {\n",
              "        vertical-align: top;\n",
              "    }\n",
              "\n",
              "    .dataframe thead th {\n",
              "        text-align: right;\n",
              "    }\n",
              "</style>\n",
              "<table border=\"1\" class=\"dataframe\">\n",
              "  <thead>\n",
              "    <tr style=\"text-align: right;\">\n",
              "      <th></th>\n",
              "      <th>211612_s_at</th>\n",
              "      <th>219678_x_at</th>\n",
              "      <th>217653_x_at</th>\n",
              "      <th>211996_s_at</th>\n",
              "      <th>214594_x_at</th>\n",
              "      <th>218155_x_at</th>\n",
              "      <th>202936_s_at</th>\n",
              "      <th>207730_x_at</th>\n",
              "      <th>209703_x_at</th>\n",
              "      <th>216609_at</th>\n",
              "      <th>...</th>\n",
              "      <th>217022_s_at</th>\n",
              "      <th>214395_x_at</th>\n",
              "      <th>206835_at</th>\n",
              "      <th>221872_at</th>\n",
              "      <th>202435_s_at</th>\n",
              "      <th>205749_at</th>\n",
              "      <th>218541_s_at</th>\n",
              "      <th>205382_s_at</th>\n",
              "      <th>217028_at</th>\n",
              "      <th>Label</th>\n",
              "    </tr>\n",
              "  </thead>\n",
              "  <tbody>\n",
              "    <tr>\n",
              "      <th>0</th>\n",
              "      <td>2.522052</td>\n",
              "      <td>2.734353</td>\n",
              "      <td>2.503071</td>\n",
              "      <td>2.833083</td>\n",
              "      <td>2.905310</td>\n",
              "      <td>2.861828</td>\n",
              "      <td>2.513210</td>\n",
              "      <td>3.224710</td>\n",
              "      <td>2.705712</td>\n",
              "      <td>1.864313</td>\n",
              "      <td>...</td>\n",
              "      <td>2.711916</td>\n",
              "      <td>2.639105</td>\n",
              "      <td>2.090198</td>\n",
              "      <td>3.083715</td>\n",
              "      <td>2.100430</td>\n",
              "      <td>2.481651</td>\n",
              "      <td>1.772674</td>\n",
              "      <td>3.048133</td>\n",
              "      <td>2.286263</td>\n",
              "      <td>0</td>\n",
              "    </tr>\n",
              "    <tr>\n",
              "      <th>1</th>\n",
              "      <td>2.529361</td>\n",
              "      <td>2.340690</td>\n",
              "      <td>2.043689</td>\n",
              "      <td>2.729539</td>\n",
              "      <td>2.276008</td>\n",
              "      <td>2.508054</td>\n",
              "      <td>2.776756</td>\n",
              "      <td>2.837544</td>\n",
              "      <td>2.624152</td>\n",
              "      <td>1.974100</td>\n",
              "      <td>...</td>\n",
              "      <td>3.094587</td>\n",
              "      <td>2.210177</td>\n",
              "      <td>1.931578</td>\n",
              "      <td>3.260034</td>\n",
              "      <td>1.795092</td>\n",
              "      <td>2.285975</td>\n",
              "      <td>2.131319</td>\n",
              "      <td>2.648631</td>\n",
              "      <td>2.513521</td>\n",
              "      <td>1</td>\n",
              "    </tr>\n",
              "    <tr>\n",
              "      <th>2</th>\n",
              "      <td>2.383285</td>\n",
              "      <td>2.760980</td>\n",
              "      <td>2.557625</td>\n",
              "      <td>2.992440</td>\n",
              "      <td>2.949728</td>\n",
              "      <td>2.925960</td>\n",
              "      <td>2.637554</td>\n",
              "      <td>3.215604</td>\n",
              "      <td>2.608863</td>\n",
              "      <td>2.126646</td>\n",
              "      <td>...</td>\n",
              "      <td>2.565371</td>\n",
              "      <td>2.808035</td>\n",
              "      <td>1.880459</td>\n",
              "      <td>2.686703</td>\n",
              "      <td>1.853020</td>\n",
              "      <td>2.467939</td>\n",
              "      <td>1.790829</td>\n",
              "      <td>2.802343</td>\n",
              "      <td>2.131134</td>\n",
              "      <td>1</td>\n",
              "    </tr>\n",
              "    <tr>\n",
              "      <th>3</th>\n",
              "      <td>2.642286</td>\n",
              "      <td>2.468361</td>\n",
              "      <td>2.047078</td>\n",
              "      <td>2.834506</td>\n",
              "      <td>2.434371</td>\n",
              "      <td>2.548282</td>\n",
              "      <td>2.529123</td>\n",
              "      <td>2.895243</td>\n",
              "      <td>2.634816</td>\n",
              "      <td>2.054124</td>\n",
              "      <td>...</td>\n",
              "      <td>2.570787</td>\n",
              "      <td>2.277749</td>\n",
              "      <td>2.055436</td>\n",
              "      <td>3.202633</td>\n",
              "      <td>1.730806</td>\n",
              "      <td>2.274817</td>\n",
              "      <td>2.458880</td>\n",
              "      <td>2.640652</td>\n",
              "      <td>2.263108</td>\n",
              "      <td>1</td>\n",
              "    </tr>\n",
              "    <tr>\n",
              "      <th>4</th>\n",
              "      <td>2.406230</td>\n",
              "      <td>2.614403</td>\n",
              "      <td>2.275517</td>\n",
              "      <td>3.065341</td>\n",
              "      <td>2.827774</td>\n",
              "      <td>2.847275</td>\n",
              "      <td>2.353981</td>\n",
              "      <td>3.153981</td>\n",
              "      <td>2.731633</td>\n",
              "      <td>2.104720</td>\n",
              "      <td>...</td>\n",
              "      <td>2.706017</td>\n",
              "      <td>2.366307</td>\n",
              "      <td>1.962940</td>\n",
              "      <td>2.976508</td>\n",
              "      <td>2.250387</td>\n",
              "      <td>2.292197</td>\n",
              "      <td>1.993056</td>\n",
              "      <td>2.572407</td>\n",
              "      <td>3.070744</td>\n",
              "      <td>0</td>\n",
              "    </tr>\n",
              "  </tbody>\n",
              "</table>\n",
              "<p>5 rows × 301 columns</p>\n",
              "</div>\n",
              "      <button class=\"colab-df-convert\" onclick=\"convertToInteractive('df-820bb92f-5340-455b-831b-d8f466b21c89')\"\n",
              "              title=\"Convert this dataframe to an interactive table.\"\n",
              "              style=\"display:none;\">\n",
              "        \n",
              "  <svg xmlns=\"http://www.w3.org/2000/svg\" height=\"24px\"viewBox=\"0 0 24 24\"\n",
              "       width=\"24px\">\n",
              "    <path d=\"M0 0h24v24H0V0z\" fill=\"none\"/>\n",
              "    <path d=\"M18.56 5.44l.94 2.06.94-2.06 2.06-.94-2.06-.94-.94-2.06-.94 2.06-2.06.94zm-11 1L8.5 8.5l.94-2.06 2.06-.94-2.06-.94L8.5 2.5l-.94 2.06-2.06.94zm10 10l.94 2.06.94-2.06 2.06-.94-2.06-.94-.94-2.06-.94 2.06-2.06.94z\"/><path d=\"M17.41 7.96l-1.37-1.37c-.4-.4-.92-.59-1.43-.59-.52 0-1.04.2-1.43.59L10.3 9.45l-7.72 7.72c-.78.78-.78 2.05 0 2.83L4 21.41c.39.39.9.59 1.41.59.51 0 1.02-.2 1.41-.59l7.78-7.78 2.81-2.81c.8-.78.8-2.07 0-2.86zM5.41 20L4 18.59l7.72-7.72 1.47 1.35L5.41 20z\"/>\n",
              "  </svg>\n",
              "      </button>\n",
              "      \n",
              "  <style>\n",
              "    .colab-df-container {\n",
              "      display:flex;\n",
              "      flex-wrap:wrap;\n",
              "      gap: 12px;\n",
              "    }\n",
              "\n",
              "    .colab-df-convert {\n",
              "      background-color: #E8F0FE;\n",
              "      border: none;\n",
              "      border-radius: 50%;\n",
              "      cursor: pointer;\n",
              "      display: none;\n",
              "      fill: #1967D2;\n",
              "      height: 32px;\n",
              "      padding: 0 0 0 0;\n",
              "      width: 32px;\n",
              "    }\n",
              "\n",
              "    .colab-df-convert:hover {\n",
              "      background-color: #E2EBFA;\n",
              "      box-shadow: 0px 1px 2px rgba(60, 64, 67, 0.3), 0px 1px 3px 1px rgba(60, 64, 67, 0.15);\n",
              "      fill: #174EA6;\n",
              "    }\n",
              "\n",
              "    [theme=dark] .colab-df-convert {\n",
              "      background-color: #3B4455;\n",
              "      fill: #D2E3FC;\n",
              "    }\n",
              "\n",
              "    [theme=dark] .colab-df-convert:hover {\n",
              "      background-color: #434B5C;\n",
              "      box-shadow: 0px 1px 3px 1px rgba(0, 0, 0, 0.15);\n",
              "      filter: drop-shadow(0px 1px 2px rgba(0, 0, 0, 0.3));\n",
              "      fill: #FFFFFF;\n",
              "    }\n",
              "  </style>\n",
              "\n",
              "      <script>\n",
              "        const buttonEl =\n",
              "          document.querySelector('#df-820bb92f-5340-455b-831b-d8f466b21c89 button.colab-df-convert');\n",
              "        buttonEl.style.display =\n",
              "          google.colab.kernel.accessAllowed ? 'block' : 'none';\n",
              "\n",
              "        async function convertToInteractive(key) {\n",
              "          const element = document.querySelector('#df-820bb92f-5340-455b-831b-d8f466b21c89');\n",
              "          const dataTable =\n",
              "            await google.colab.kernel.invokeFunction('convertToInteractive',\n",
              "                                                     [key], {});\n",
              "          if (!dataTable) return;\n",
              "\n",
              "          const docLinkHtml = 'Like what you see? Visit the ' +\n",
              "            '<a target=\"_blank\" href=https://colab.research.google.com/notebooks/data_table.ipynb>data table notebook</a>'\n",
              "            + ' to learn more about interactive tables.';\n",
              "          element.innerHTML = '';\n",
              "          dataTable['output_type'] = 'display_data';\n",
              "          await google.colab.output.renderOutput(dataTable, element);\n",
              "          const docLink = document.createElement('div');\n",
              "          docLink.innerHTML = docLinkHtml;\n",
              "          element.appendChild(docLink);\n",
              "        }\n",
              "      </script>\n",
              "    </div>\n",
              "  </div>\n",
              "  "
            ]
          },
          "metadata": {},
          "execution_count": 10
        }
      ]
    },
    {
      "cell_type": "code",
      "source": [
        "df_test1.shape"
      ],
      "metadata": {
        "colab": {
          "base_uri": "https://localhost:8080/"
        },
        "id": "1aFAnyQPhEjO",
        "outputId": "b93ed5dd-f109-4b23-ccfc-64caf7c073cf"
      },
      "execution_count": null,
      "outputs": [
        {
          "output_type": "execute_result",
          "data": {
            "text/plain": [
              "(57, 301)"
            ]
          },
          "metadata": {},
          "execution_count": 11
        }
      ]
    },
    {
      "cell_type": "markdown",
      "source": [
        "### Suspect"
      ],
      "metadata": {
        "id": "es5TB-Bbhi_i"
      }
    },
    {
      "cell_type": "code",
      "source": [
        "df_suspect1"
      ],
      "metadata": {
        "colab": {
          "base_uri": "https://localhost:8080/"
        },
        "id": "ZdB383_thG22",
        "outputId": "f90ad5ac-1742-45ad-f0e2-1dce4adab11d"
      },
      "execution_count": null,
      "outputs": [
        {
          "output_type": "execute_result",
          "data": {
            "text/plain": [
              "   211612_s_at  219678_x_at  217653_x_at  211996_s_at  214594_x_at  \\\n",
              "0     2.256059     2.770134     2.559232     2.904486     2.924660   \n",
              "1     2.476502     2.564952     2.484916     2.435804     2.751464   \n",
              "2     2.516803     2.872871     2.352785     2.557198     2.925518   \n",
              "3     2.499117     2.813643     2.559049     2.656475     2.763619   \n",
              "4     2.411571     2.756731     2.453675     2.912560     2.780565   \n",
              "\n",
              "   218155_x_at  202936_s_at  207730_x_at  209703_x_at  216609_at  ...  \\\n",
              "0     2.958922     2.558358     3.202525     2.741908   1.645253  ...   \n",
              "1     2.922157     2.513460     3.176072     2.665992   1.737874  ...   \n",
              "2     3.073885     2.543978     3.295611     2.643493   2.022472  ...   \n",
              "3     2.878468     2.592949     3.184148     2.670018   1.811895  ...   \n",
              "4     2.861779     2.491120     3.130010     2.666348   2.357249  ...   \n",
              "\n",
              "   206998_x_at  217022_s_at  214395_x_at  206835_at  221872_at  202435_s_at  \\\n",
              "0     2.570962     3.042804     2.609337   2.210259   2.494553     1.975153   \n",
              "1     2.859226     2.446501     2.662567   2.350769   2.507582     2.147601   \n",
              "2     2.736173     2.244948     2.432493   2.293260   2.815154     2.111180   \n",
              "3     2.842630     2.902077     2.636131   2.311065   2.472948     2.034676   \n",
              "4     2.830770     2.802077     3.012509   2.326602   2.423827     2.101394   \n",
              "\n",
              "   205749_at  218541_s_at  205382_s_at  217028_at  \n",
              "0   2.530297     1.750616     3.098158   2.183076  \n",
              "1   2.639203     1.598737     2.871269   2.135437  \n",
              "2   2.626987     1.677859     2.592177   2.186431  \n",
              "3   2.572015     1.654103     2.998207   2.143887  \n",
              "4   2.770397     1.555975     2.968291   1.992728  \n",
              "\n",
              "[5 rows x 300 columns]"
            ],
            "text/html": [
              "\n",
              "  <div id=\"df-7d8d0985-ebb7-4fb5-943c-49646f6c9053\">\n",
              "    <div class=\"colab-df-container\">\n",
              "      <div>\n",
              "<style scoped>\n",
              "    .dataframe tbody tr th:only-of-type {\n",
              "        vertical-align: middle;\n",
              "    }\n",
              "\n",
              "    .dataframe tbody tr th {\n",
              "        vertical-align: top;\n",
              "    }\n",
              "\n",
              "    .dataframe thead th {\n",
              "        text-align: right;\n",
              "    }\n",
              "</style>\n",
              "<table border=\"1\" class=\"dataframe\">\n",
              "  <thead>\n",
              "    <tr style=\"text-align: right;\">\n",
              "      <th></th>\n",
              "      <th>211612_s_at</th>\n",
              "      <th>219678_x_at</th>\n",
              "      <th>217653_x_at</th>\n",
              "      <th>211996_s_at</th>\n",
              "      <th>214594_x_at</th>\n",
              "      <th>218155_x_at</th>\n",
              "      <th>202936_s_at</th>\n",
              "      <th>207730_x_at</th>\n",
              "      <th>209703_x_at</th>\n",
              "      <th>216609_at</th>\n",
              "      <th>...</th>\n",
              "      <th>206998_x_at</th>\n",
              "      <th>217022_s_at</th>\n",
              "      <th>214395_x_at</th>\n",
              "      <th>206835_at</th>\n",
              "      <th>221872_at</th>\n",
              "      <th>202435_s_at</th>\n",
              "      <th>205749_at</th>\n",
              "      <th>218541_s_at</th>\n",
              "      <th>205382_s_at</th>\n",
              "      <th>217028_at</th>\n",
              "    </tr>\n",
              "  </thead>\n",
              "  <tbody>\n",
              "    <tr>\n",
              "      <th>0</th>\n",
              "      <td>2.256059</td>\n",
              "      <td>2.770134</td>\n",
              "      <td>2.559232</td>\n",
              "      <td>2.904486</td>\n",
              "      <td>2.924660</td>\n",
              "      <td>2.958922</td>\n",
              "      <td>2.558358</td>\n",
              "      <td>3.202525</td>\n",
              "      <td>2.741908</td>\n",
              "      <td>1.645253</td>\n",
              "      <td>...</td>\n",
              "      <td>2.570962</td>\n",
              "      <td>3.042804</td>\n",
              "      <td>2.609337</td>\n",
              "      <td>2.210259</td>\n",
              "      <td>2.494553</td>\n",
              "      <td>1.975153</td>\n",
              "      <td>2.530297</td>\n",
              "      <td>1.750616</td>\n",
              "      <td>3.098158</td>\n",
              "      <td>2.183076</td>\n",
              "    </tr>\n",
              "    <tr>\n",
              "      <th>1</th>\n",
              "      <td>2.476502</td>\n",
              "      <td>2.564952</td>\n",
              "      <td>2.484916</td>\n",
              "      <td>2.435804</td>\n",
              "      <td>2.751464</td>\n",
              "      <td>2.922157</td>\n",
              "      <td>2.513460</td>\n",
              "      <td>3.176072</td>\n",
              "      <td>2.665992</td>\n",
              "      <td>1.737874</td>\n",
              "      <td>...</td>\n",
              "      <td>2.859226</td>\n",
              "      <td>2.446501</td>\n",
              "      <td>2.662567</td>\n",
              "      <td>2.350769</td>\n",
              "      <td>2.507582</td>\n",
              "      <td>2.147601</td>\n",
              "      <td>2.639203</td>\n",
              "      <td>1.598737</td>\n",
              "      <td>2.871269</td>\n",
              "      <td>2.135437</td>\n",
              "    </tr>\n",
              "    <tr>\n",
              "      <th>2</th>\n",
              "      <td>2.516803</td>\n",
              "      <td>2.872871</td>\n",
              "      <td>2.352785</td>\n",
              "      <td>2.557198</td>\n",
              "      <td>2.925518</td>\n",
              "      <td>3.073885</td>\n",
              "      <td>2.543978</td>\n",
              "      <td>3.295611</td>\n",
              "      <td>2.643493</td>\n",
              "      <td>2.022472</td>\n",
              "      <td>...</td>\n",
              "      <td>2.736173</td>\n",
              "      <td>2.244948</td>\n",
              "      <td>2.432493</td>\n",
              "      <td>2.293260</td>\n",
              "      <td>2.815154</td>\n",
              "      <td>2.111180</td>\n",
              "      <td>2.626987</td>\n",
              "      <td>1.677859</td>\n",
              "      <td>2.592177</td>\n",
              "      <td>2.186431</td>\n",
              "    </tr>\n",
              "    <tr>\n",
              "      <th>3</th>\n",
              "      <td>2.499117</td>\n",
              "      <td>2.813643</td>\n",
              "      <td>2.559049</td>\n",
              "      <td>2.656475</td>\n",
              "      <td>2.763619</td>\n",
              "      <td>2.878468</td>\n",
              "      <td>2.592949</td>\n",
              "      <td>3.184148</td>\n",
              "      <td>2.670018</td>\n",
              "      <td>1.811895</td>\n",
              "      <td>...</td>\n",
              "      <td>2.842630</td>\n",
              "      <td>2.902077</td>\n",
              "      <td>2.636131</td>\n",
              "      <td>2.311065</td>\n",
              "      <td>2.472948</td>\n",
              "      <td>2.034676</td>\n",
              "      <td>2.572015</td>\n",
              "      <td>1.654103</td>\n",
              "      <td>2.998207</td>\n",
              "      <td>2.143887</td>\n",
              "    </tr>\n",
              "    <tr>\n",
              "      <th>4</th>\n",
              "      <td>2.411571</td>\n",
              "      <td>2.756731</td>\n",
              "      <td>2.453675</td>\n",
              "      <td>2.912560</td>\n",
              "      <td>2.780565</td>\n",
              "      <td>2.861779</td>\n",
              "      <td>2.491120</td>\n",
              "      <td>3.130010</td>\n",
              "      <td>2.666348</td>\n",
              "      <td>2.357249</td>\n",
              "      <td>...</td>\n",
              "      <td>2.830770</td>\n",
              "      <td>2.802077</td>\n",
              "      <td>3.012509</td>\n",
              "      <td>2.326602</td>\n",
              "      <td>2.423827</td>\n",
              "      <td>2.101394</td>\n",
              "      <td>2.770397</td>\n",
              "      <td>1.555975</td>\n",
              "      <td>2.968291</td>\n",
              "      <td>1.992728</td>\n",
              "    </tr>\n",
              "  </tbody>\n",
              "</table>\n",
              "<p>5 rows × 300 columns</p>\n",
              "</div>\n",
              "      <button class=\"colab-df-convert\" onclick=\"convertToInteractive('df-7d8d0985-ebb7-4fb5-943c-49646f6c9053')\"\n",
              "              title=\"Convert this dataframe to an interactive table.\"\n",
              "              style=\"display:none;\">\n",
              "        \n",
              "  <svg xmlns=\"http://www.w3.org/2000/svg\" height=\"24px\"viewBox=\"0 0 24 24\"\n",
              "       width=\"24px\">\n",
              "    <path d=\"M0 0h24v24H0V0z\" fill=\"none\"/>\n",
              "    <path d=\"M18.56 5.44l.94 2.06.94-2.06 2.06-.94-2.06-.94-.94-2.06-.94 2.06-2.06.94zm-11 1L8.5 8.5l.94-2.06 2.06-.94-2.06-.94L8.5 2.5l-.94 2.06-2.06.94zm10 10l.94 2.06.94-2.06 2.06-.94-2.06-.94-.94-2.06-.94 2.06-2.06.94z\"/><path d=\"M17.41 7.96l-1.37-1.37c-.4-.4-.92-.59-1.43-.59-.52 0-1.04.2-1.43.59L10.3 9.45l-7.72 7.72c-.78.78-.78 2.05 0 2.83L4 21.41c.39.39.9.59 1.41.59.51 0 1.02-.2 1.41-.59l7.78-7.78 2.81-2.81c.8-.78.8-2.07 0-2.86zM5.41 20L4 18.59l7.72-7.72 1.47 1.35L5.41 20z\"/>\n",
              "  </svg>\n",
              "      </button>\n",
              "      \n",
              "  <style>\n",
              "    .colab-df-container {\n",
              "      display:flex;\n",
              "      flex-wrap:wrap;\n",
              "      gap: 12px;\n",
              "    }\n",
              "\n",
              "    .colab-df-convert {\n",
              "      background-color: #E8F0FE;\n",
              "      border: none;\n",
              "      border-radius: 50%;\n",
              "      cursor: pointer;\n",
              "      display: none;\n",
              "      fill: #1967D2;\n",
              "      height: 32px;\n",
              "      padding: 0 0 0 0;\n",
              "      width: 32px;\n",
              "    }\n",
              "\n",
              "    .colab-df-convert:hover {\n",
              "      background-color: #E2EBFA;\n",
              "      box-shadow: 0px 1px 2px rgba(60, 64, 67, 0.3), 0px 1px 3px 1px rgba(60, 64, 67, 0.15);\n",
              "      fill: #174EA6;\n",
              "    }\n",
              "\n",
              "    [theme=dark] .colab-df-convert {\n",
              "      background-color: #3B4455;\n",
              "      fill: #D2E3FC;\n",
              "    }\n",
              "\n",
              "    [theme=dark] .colab-df-convert:hover {\n",
              "      background-color: #434B5C;\n",
              "      box-shadow: 0px 1px 3px 1px rgba(0, 0, 0, 0.15);\n",
              "      filter: drop-shadow(0px 1px 2px rgba(0, 0, 0, 0.3));\n",
              "      fill: #FFFFFF;\n",
              "    }\n",
              "  </style>\n",
              "\n",
              "      <script>\n",
              "        const buttonEl =\n",
              "          document.querySelector('#df-7d8d0985-ebb7-4fb5-943c-49646f6c9053 button.colab-df-convert');\n",
              "        buttonEl.style.display =\n",
              "          google.colab.kernel.accessAllowed ? 'block' : 'none';\n",
              "\n",
              "        async function convertToInteractive(key) {\n",
              "          const element = document.querySelector('#df-7d8d0985-ebb7-4fb5-943c-49646f6c9053');\n",
              "          const dataTable =\n",
              "            await google.colab.kernel.invokeFunction('convertToInteractive',\n",
              "                                                     [key], {});\n",
              "          if (!dataTable) return;\n",
              "\n",
              "          const docLinkHtml = 'Like what you see? Visit the ' +\n",
              "            '<a target=\"_blank\" href=https://colab.research.google.com/notebooks/data_table.ipynb>data table notebook</a>'\n",
              "            + ' to learn more about interactive tables.';\n",
              "          element.innerHTML = '';\n",
              "          dataTable['output_type'] = 'display_data';\n",
              "          await google.colab.output.renderOutput(dataTable, element);\n",
              "          const docLink = document.createElement('div');\n",
              "          docLink.innerHTML = docLinkHtml;\n",
              "          element.appendChild(docLink);\n",
              "        }\n",
              "      </script>\n",
              "    </div>\n",
              "  </div>\n",
              "  "
            ]
          },
          "metadata": {},
          "execution_count": 12
        }
      ]
    },
    {
      "cell_type": "code",
      "source": [
        "df_suspect1.shape"
      ],
      "metadata": {
        "colab": {
          "base_uri": "https://localhost:8080/"
        },
        "id": "3AlrqhUChfsB",
        "outputId": "1f2a73d7-1d6c-425f-8a9a-cc04aa8a3151"
      },
      "execution_count": null,
      "outputs": [
        {
          "output_type": "execute_result",
          "data": {
            "text/plain": [
              "(5, 300)"
            ]
          },
          "metadata": {},
          "execution_count": 13
        }
      ]
    },
    {
      "cell_type": "markdown",
      "source": [
        "## X_train, y_train, X_test, y_test"
      ],
      "metadata": {
        "id": "hNl1GmybhrPl"
      }
    },
    {
      "cell_type": "markdown",
      "source": [
        "X_train"
      ],
      "metadata": {
        "id": "a93NFIIS6jJ3"
      }
    },
    {
      "cell_type": "code",
      "source": [
        "X_train1 = df_train1.iloc[:,:-1]\n",
        "X_train2 = df_train2.iloc[:,:-1]\n",
        "X_train3 = df_train3.iloc[:,:-1]"
      ],
      "metadata": {
        "id": "MqHwQUB5h8OK"
      },
      "execution_count": null,
      "outputs": []
    },
    {
      "cell_type": "markdown",
      "source": [
        "y_train"
      ],
      "metadata": {
        "id": "cOMFovUw6lST"
      }
    },
    {
      "cell_type": "code",
      "source": [
        "y_train1 = df_train1.iloc[:,-1]\n",
        "y_train2 = df_train2.iloc[:,-1]\n",
        "y_train3 = df_train3.iloc[:,-1]"
      ],
      "metadata": {
        "id": "fGtq392Lh_j1"
      },
      "execution_count": null,
      "outputs": []
    },
    {
      "cell_type": "markdown",
      "source": [
        "X_test"
      ],
      "metadata": {
        "id": "JKK_3Ogg6m9i"
      }
    },
    {
      "cell_type": "code",
      "source": [
        "X_test1 = df_test1.iloc[:,:-1]\n",
        "X_test2 = df_test2.iloc[:,:-1]\n",
        "X_test3 = df_test3.iloc[:,:-1]"
      ],
      "metadata": {
        "id": "VQ4pDhKqiGGo"
      },
      "execution_count": null,
      "outputs": []
    },
    {
      "cell_type": "markdown",
      "source": [
        "y_test"
      ],
      "metadata": {
        "id": "ZQQZ0S096oMZ"
      }
    },
    {
      "cell_type": "code",
      "source": [
        "y_test1 = df_test1.iloc[:,-1]\n",
        "y_test2 = df_test2.iloc[:,-1]\n",
        "y_test3 = df_test3.iloc[:,-1]"
      ],
      "metadata": {
        "id": "9Y1Vak6ziNPh"
      },
      "execution_count": null,
      "outputs": []
    },
    {
      "cell_type": "markdown",
      "source": [
        "## Validasi"
      ],
      "metadata": {
        "id": "BNrBRTxCigEn"
      }
    },
    {
      "cell_type": "markdown",
      "source": [
        "### RF1"
      ],
      "metadata": {
        "id": "86IxdyHSikhh"
      }
    },
    {
      "cell_type": "markdown",
      "source": [
        "Fit model"
      ],
      "metadata": {
        "id": "9vE333Xs6qw8"
      }
    },
    {
      "cell_type": "code",
      "source": [
        "rf1_model.fit(X_train1, y_train1)"
      ],
      "metadata": {
        "colab": {
          "base_uri": "https://localhost:8080/"
        },
        "id": "YzKDV4DGieGx",
        "outputId": "f59df333-741b-446f-8d24-00d1162e93eb"
      },
      "execution_count": null,
      "outputs": [
        {
          "output_type": "execute_result",
          "data": {
            "text/plain": [
              "RandomForestClassifier(max_depth=9, min_samples_split=4)"
            ]
          },
          "metadata": {},
          "execution_count": 18
        }
      ]
    },
    {
      "cell_type": "markdown",
      "source": [
        "Hasil prediksi dengan data train"
      ],
      "metadata": {
        "id": "5bPaXf9H9pMz"
      }
    },
    {
      "cell_type": "code",
      "source": [
        "rf1_val = rf1_model.predict(X_train1)\n",
        "print(\"Accuracy : \", metrics.accuracy_score(y_train1, rf1_val))\n",
        "print(\"Precision: \", metrics.precision_score(y_train1, rf1_val))\n",
        "print(\"Recall   : \", metrics.recall_score(y_train1, rf1_val))\n",
        "print(\"F1 Score : \", metrics.f1_score(y_train1, rf1_val))"
      ],
      "metadata": {
        "colab": {
          "base_uri": "https://localhost:8080/"
        },
        "outputId": "27706ad8-0556-4705-c41e-afeb6b145ce3",
        "id": "eBSf7Zy39sy0"
      },
      "execution_count": null,
      "outputs": [
        {
          "output_type": "stream",
          "name": "stdout",
          "text": [
            "Accuracy :  1.0\n",
            "Precision:  1.0\n",
            "Recall   :  1.0\n",
            "F1 Score :  1.0\n"
          ]
        }
      ]
    },
    {
      "cell_type": "markdown",
      "source": [
        "Visualisasi confusion matrix"
      ],
      "metadata": {
        "id": "Q2IJaUSx9sy2"
      }
    },
    {
      "cell_type": "code",
      "source": [
        "cf_matrix = metrics.confusion_matrix(y_train1, rf1_val, labels=[1,0]).transpose()\n",
        "\n",
        "plt.figure(figsize=(15,8))\n",
        "ax = plt.subplot()\n",
        "sns.heatmap(cf_matrix, annot=True, fmt='g', cmap='Blues', ax=ax)\n",
        "ax.set_xlabel('Aktual')\n",
        "ax.set_ylabel('Prediksi')\n",
        "ax.set_title('Confusion Matrix RF1') \n",
        "ax.xaxis.set_ticklabels(['1', '0'])\n",
        "ax.yaxis.set_ticklabels(['1', '0'])"
      ],
      "metadata": {
        "colab": {
          "base_uri": "https://localhost:8080/"
        },
        "outputId": "eab4011d-c1a6-4958-ad45-fcc2c0b153e6",
        "id": "mb0nffFR9sy3"
      },
      "execution_count": null,
      "outputs": [
        {
          "output_type": "execute_result",
          "data": {
            "text/plain": [
              "[Text(0, 0.5, '1'), Text(0, 1.5, '0')]"
            ]
          },
          "metadata": {},
          "execution_count": 20
        },
        {
          "output_type": "display_data",
          "data": {
            "text/plain": [
              "<Figure size 1080x576 with 2 Axes>"
            ],
            "image/png": "[encoded data removed]"
          },
          "metadata": {
            "needs_background": "light"
          }
        }
      ]
    },
    {
      "cell_type": "markdown",
      "source": [
        "Hasil prediksi dengan data test"
      ],
      "metadata": {
        "id": "xY4Yu1BS6s3c"
      }
    },
    {
      "cell_type": "code",
      "source": [
        "rf1_prediksi = rf1_model.predict(X_test1)\n",
        "print(\"Accuracy : \", metrics.accuracy_score(y_test1, rf1_prediksi))\n",
        "print(\"Precision: \", metrics.precision_score(y_test1, rf1_prediksi))\n",
        "print(\"Recall   : \", metrics.recall_score(y_test1, rf1_prediksi))\n",
        "print(\"F1 Score : \", metrics.f1_score(y_test1, rf1_prediksi))"
      ],
      "metadata": {
        "colab": {
          "base_uri": "https://localhost:8080/"
        },
        "id": "uWb8N0yKivbr",
        "outputId": "bb916bab-bf22-47b9-f81f-e475338907a2"
      },
      "execution_count": null,
      "outputs": [
        {
          "output_type": "stream",
          "name": "stdout",
          "text": [
            "Accuracy :  0.7368421052631579\n",
            "Precision:  0.7142857142857143\n",
            "Recall   :  0.8333333333333334\n",
            "F1 Score :  0.7692307692307692\n"
          ]
        }
      ]
    },
    {
      "cell_type": "markdown",
      "source": [
        "Visualisasi confusion matrix"
      ],
      "metadata": {
        "id": "NkjfGKJB6vSj"
      }
    },
    {
      "cell_type": "code",
      "source": [
        "cf_matrix = metrics.confusion_matrix(y_test1, rf1_prediksi, labels=[1,0]).transpose()\n",
        "\n",
        "plt.figure(figsize=(15,8))\n",
        "ax = plt.subplot()\n",
        "sns.heatmap(cf_matrix, annot=True, fmt='g', cmap='Blues', ax=ax)\n",
        "ax.set_xlabel('Aktual')\n",
        "ax.set_ylabel('Prediksi')\n",
        "ax.set_title('Confusion Matrix RF1') \n",
        "ax.xaxis.set_ticklabels(['1', '0'])\n",
        "ax.yaxis.set_ticklabels(['1', '0'])"
      ],
      "metadata": {
        "colab": {
          "base_uri": "https://localhost:8080/"
        },
        "id": "vWiqH-LnjPou",
        "outputId": "7cc8729a-9854-4feb-bec8-dfee9339e6b6"
      },
      "execution_count": null,
      "outputs": [
        {
          "output_type": "execute_result",
          "data": {
            "text/plain": [
              "[Text(0, 0.5, '1'), Text(0, 1.5, '0')]"
            ]
          },
          "metadata": {},
          "execution_count": 22
        },
        {
          "output_type": "display_data",
          "data": {
            "text/plain": [
              "<Figure size 1080x576 with 2 Axes>"
            ],
            "image/png": "[encoded data removed]"
          },
          "metadata": {
            "needs_background": "light"
          }
        }
      ]
    },
    {
      "cell_type": "markdown",
      "source": [
        "### RF2"
      ],
      "metadata": {
        "id": "qtuEAI0Z0Hxa"
      }
    },
    {
      "cell_type": "markdown",
      "source": [
        "Fit model"
      ],
      "metadata": {
        "id": "cgtzXkJR6xfI"
      }
    },
    {
      "cell_type": "code",
      "source": [
        "rf2_model.fit(X_train2, y_train2)"
      ],
      "metadata": {
        "colab": {
          "base_uri": "https://localhost:8080/"
        },
        "outputId": "f4af77b0-165b-457b-9f4e-b52d386f42d5",
        "id": "vKPuSRP70Hxo"
      },
      "execution_count": null,
      "outputs": [
        {
          "output_type": "execute_result",
          "data": {
            "text/plain": [
              "RandomForestClassifier(max_depth=6, min_samples_split=5, n_estimators=50)"
            ]
          },
          "metadata": {},
          "execution_count": 23
        }
      ]
    },
    {
      "cell_type": "markdown",
      "source": [
        "Hasil prediksi dengan data train"
      ],
      "metadata": {
        "id": "6HrhoNqT_Y5s"
      }
    },
    {
      "cell_type": "code",
      "source": [
        "rf2_val = rf2_model.predict(X_train2)\n",
        "print(\"Accuracy : \", metrics.accuracy_score(y_train2, rf2_val))\n",
        "print(\"Precision: \", metrics.precision_score(y_train2, rf2_val))\n",
        "print(\"Recall   : \", metrics.recall_score(y_train2, rf2_val))\n",
        "print(\"F1 Score : \", metrics.f1_score(y_train2, rf2_val))"
      ],
      "metadata": {
        "colab": {
          "base_uri": "https://localhost:8080/"
        },
        "outputId": "841545b4-4c0d-420b-bb3f-1200ebf66cca",
        "id": "Pi0XSx1f_Y6T"
      },
      "execution_count": null,
      "outputs": [
        {
          "output_type": "stream",
          "name": "stdout",
          "text": [
            "Accuracy :  0.9923076923076923\n",
            "Precision:  0.9852941176470589\n",
            "Recall   :  1.0\n",
            "F1 Score :  0.9925925925925926\n"
          ]
        }
      ]
    },
    {
      "cell_type": "markdown",
      "source": [
        "Visualisasi confusion matrix"
      ],
      "metadata": {
        "id": "GTZgOd0Q_Y6U"
      }
    },
    {
      "cell_type": "code",
      "source": [
        "cf_matrix = metrics.confusion_matrix(y_train2, rf2_val, labels=[1,0]).transpose()\n",
        "\n",
        "plt.figure(figsize=(15,8))\n",
        "ax = plt.subplot()\n",
        "sns.heatmap(cf_matrix, annot=True, fmt='g', cmap='Blues', ax=ax)\n",
        "ax.set_xlabel('Aktual')\n",
        "ax.set_ylabel('Prediksi')\n",
        "ax.set_title('Confusion Matrix RF1') \n",
        "ax.xaxis.set_ticklabels(['1', '0'])\n",
        "ax.yaxis.set_ticklabels(['1', '0'])"
      ],
      "metadata": {
        "colab": {
          "base_uri": "https://localhost:8080/"
        },
        "outputId": "fbd1639d-2dcb-4528-c922-bd5530c27b47",
        "id": "8I_YS8to_Y6V"
      },
      "execution_count": null,
      "outputs": [
        {
          "output_type": "execute_result",
          "data": {
            "text/plain": [
              "[Text(0, 0.5, '1'), Text(0, 1.5, '0')]"
            ]
          },
          "metadata": {},
          "execution_count": 25
        },
        {
          "output_type": "display_data",
          "data": {
            "text/plain": [
              "<Figure size 1080x576 with 2 Axes>"
            ],
            "image/png": "[encoded data removed]"
          },
          "metadata": {
            "needs_background": "light"
          }
        }
      ]
    },
    {
      "cell_type": "markdown",
      "source": [
        "Hasil prediksi dengan data test"
      ],
      "metadata": {
        "id": "sOC1sZwz6z59"
      }
    },
    {
      "cell_type": "code",
      "source": [
        "rf2_prediksi = rf2_model.predict(X_test2)\n",
        "print(\"Accuracy : \", metrics.accuracy_score(y_test2, rf2_prediksi))\n",
        "print(\"Precision: \", metrics.precision_score(y_test2, rf2_prediksi))\n",
        "print(\"Recall   : \", metrics.recall_score(y_test2, rf2_prediksi))\n",
        "print(\"F1 Score : \", metrics.f1_score(y_test2, rf2_prediksi))"
      ],
      "metadata": {
        "colab": {
          "base_uri": "https://localhost:8080/"
        },
        "outputId": "595674bd-4806-4e37-9b85-15e89ac6b447",
        "id": "2UOR3nxz0Hxp"
      },
      "execution_count": null,
      "outputs": [
        {
          "output_type": "stream",
          "name": "stdout",
          "text": [
            "Accuracy :  0.7192982456140351\n",
            "Precision:  0.7058823529411765\n",
            "Recall   :  0.8\n",
            "F1 Score :  0.7500000000000001\n"
          ]
        }
      ]
    },
    {
      "cell_type": "markdown",
      "source": [
        "Visualisasi Confusion Matrix"
      ],
      "metadata": {
        "id": "z6Slyrv462bx"
      }
    },
    {
      "cell_type": "code",
      "source": [
        "cf_matrix = metrics.confusion_matrix(y_test2, rf2_prediksi, labels=[1,0]).transpose()\n",
        "\n",
        "plt.figure(figsize=(15,8))\n",
        "ax = plt.subplot()\n",
        "sns.heatmap(cf_matrix, annot=True, fmt='g', cmap='Blues', ax=ax)\n",
        "ax.set_xlabel('Aktual')\n",
        "ax.set_ylabel('Prediksi')\n",
        "ax.set_title('Confusion Matrix RF2') \n",
        "ax.xaxis.set_ticklabels(['1', '0'])\n",
        "ax.yaxis.set_ticklabels(['1', '0'])"
      ],
      "metadata": {
        "colab": {
          "base_uri": "https://localhost:8080/"
        },
        "outputId": "4a2ebf00-b2bd-4daa-b7ec-970db4186e92",
        "id": "qmKSszt_0Hxq"
      },
      "execution_count": null,
      "outputs": [
        {
          "output_type": "execute_result",
          "data": {
            "text/plain": [
              "[Text(0, 0.5, '1'), Text(0, 1.5, '0')]"
            ]
          },
          "metadata": {},
          "execution_count": 27
        },
        {
          "output_type": "display_data",
          "data": {
            "text/plain": [
              "<Figure size 1080x576 with 2 Axes>"
            ],
            "image/png": "[encoded data removed]"
          },
          "metadata": {
            "needs_background": "light"
          }
        }
      ]
    },
    {
      "cell_type": "markdown",
      "source": [
        "### RF3"
      ],
      "metadata": {
        "id": "duiJ97s80K-W"
      }
    },
    {
      "cell_type": "markdown",
      "source": [
        "Fit model"
      ],
      "metadata": {
        "id": "W8gnfwZF7Ps3"
      }
    },
    {
      "cell_type": "code",
      "source": [
        "rf3_model.fit(X_train3, y_train3)"
      ],
      "metadata": {
        "colab": {
          "base_uri": "https://localhost:8080/"
        },
        "outputId": "e9ac9e8d-a2c4-44ad-aace-4cd5a0a24647",
        "id": "lhUX1wsz0K-X"
      },
      "execution_count": null,
      "outputs": [
        {
          "output_type": "execute_result",
          "data": {
            "text/plain": [
              "RandomForestClassifier(n_estimators=50)"
            ]
          },
          "metadata": {},
          "execution_count": 28
        }
      ]
    },
    {
      "cell_type": "markdown",
      "source": [
        "Hasil prediksi dengan data train"
      ],
      "metadata": {
        "id": "V8QQ9chV_-oo"
      }
    },
    {
      "cell_type": "code",
      "source": [
        "rf3_val = rf3_model.predict(X_train3)\n",
        "print(\"Accuracy : \", metrics.accuracy_score(y_train3, rf3_val))\n",
        "print(\"Precision: \", metrics.precision_score(y_train3, rf3_val))\n",
        "print(\"Recall   : \", metrics.recall_score(y_train3, rf3_val))\n",
        "print(\"F1 Score : \", metrics.f1_score(y_train3, rf3_val))"
      ],
      "metadata": {
        "colab": {
          "base_uri": "https://localhost:8080/"
        },
        "outputId": "a126b37e-bc66-458a-9443-77edf3dc7d62",
        "id": "dD9Y2CMR_-o5"
      },
      "execution_count": null,
      "outputs": [
        {
          "output_type": "stream",
          "name": "stdout",
          "text": [
            "Accuracy :  1.0\n",
            "Precision:  1.0\n",
            "Recall   :  1.0\n",
            "F1 Score :  1.0\n"
          ]
        }
      ]
    },
    {
      "cell_type": "markdown",
      "source": [
        "Visualisasi confusion matrix"
      ],
      "metadata": {
        "id": "VQboBTko_-o5"
      }
    },
    {
      "cell_type": "code",
      "source": [
        "cf_matrix = metrics.confusion_matrix(y_train3, rf3_val, labels=[1,0]).transpose()\n",
        "\n",
        "plt.figure(figsize=(15,8))\n",
        "ax = plt.subplot()\n",
        "sns.heatmap(cf_matrix, annot=True, fmt='g', cmap='Blues', ax=ax)\n",
        "ax.set_xlabel('Aktual')\n",
        "ax.set_ylabel('Prediksi')\n",
        "ax.set_title('Confusion Matrix RF1') \n",
        "ax.xaxis.set_ticklabels(['1', '0'])\n",
        "ax.yaxis.set_ticklabels(['1', '0'])"
      ],
      "metadata": {
        "colab": {
          "base_uri": "https://localhost:8080/"
        },
        "outputId": "a02fd8fd-808f-4b04-ca13-0f6e30f235e0",
        "id": "hNKoUKZk_-o6"
      },
      "execution_count": null,
      "outputs": [
        {
          "output_type": "execute_result",
          "data": {
            "text/plain": [
              "[Text(0, 0.5, '1'), Text(0, 1.5, '0')]"
            ]
          },
          "metadata": {},
          "execution_count": 30
        },
        {
          "output_type": "display_data",
          "data": {
            "text/plain": [
              "<Figure size 1080x576 with 2 Axes>"
            ],
            "image/png": "[encoded data removed]"
          },
          "metadata": {
            "needs_background": "light"
          }
        }
      ]
    },
    {
      "cell_type": "markdown",
      "source": [
        "Prediksi dengan data test"
      ],
      "metadata": {
        "id": "QmjUI_Gj7RUH"
      }
    },
    {
      "cell_type": "code",
      "source": [
        "rf3_prediksi = rf3_model.predict(X_test3)\n",
        "print(\"Accuracy : \", metrics.accuracy_score(y_test3, rf3_prediksi))\n",
        "print(\"Precision: \", metrics.precision_score(y_test3, rf3_prediksi))\n",
        "print(\"Recall   : \", metrics.recall_score(y_test3, rf3_prediksi))\n",
        "print(\"F1 Score : \", metrics.f1_score(y_test3, rf3_prediksi))"
      ],
      "metadata": {
        "colab": {
          "base_uri": "https://localhost:8080/"
        },
        "outputId": "d7fb9a0c-c9b0-4752-d0c2-ec601e52bf08",
        "id": "PylLDHu-0K-Y"
      },
      "execution_count": null,
      "outputs": [
        {
          "output_type": "stream",
          "name": "stdout",
          "text": [
            "Accuracy :  0.7719298245614035\n",
            "Precision:  0.7297297297297297\n",
            "Recall   :  0.9\n",
            "F1 Score :  0.8059701492537312\n"
          ]
        }
      ]
    },
    {
      "cell_type": "markdown",
      "source": [
        "Visualisasi Confusion Matrix"
      ],
      "metadata": {
        "id": "8SrREwd57TTF"
      }
    },
    {
      "cell_type": "code",
      "source": [
        "cf_matrix = metrics.confusion_matrix(y_test3, rf3_prediksi, labels=[1,0]).transpose()\n",
        "\n",
        "plt.figure(figsize=(15,8))\n",
        "ax = plt.subplot()\n",
        "sns.heatmap(cf_matrix, annot=True, fmt='g', cmap='Blues', ax=ax)\n",
        "ax.set_xlabel('Aktual')\n",
        "ax.set_ylabel('Prediksi')\n",
        "ax.set_title('Confusion Matrix RF3') \n",
        "ax.xaxis.set_ticklabels(['1', '0'])\n",
        "ax.yaxis.set_ticklabels(['1', '0'])"
      ],
      "metadata": {
        "colab": {
          "base_uri": "https://localhost:8080/"
        },
        "outputId": "87a61462-90ea-41ab-a160-eebfda3b1e31",
        "id": "CBFQ7IVC0K-Y"
      },
      "execution_count": null,
      "outputs": [
        {
          "output_type": "execute_result",
          "data": {
            "text/plain": [
              "[Text(0, 0.5, '1'), Text(0, 1.5, '0')]"
            ]
          },
          "metadata": {},
          "execution_count": 32
        },
        {
          "output_type": "display_data",
          "data": {
            "text/plain": [
              "<Figure size 1080x576 with 2 Axes>"
            ],
            "image/png": "[encoded data removed]"
          },
          "metadata": {
            "needs_background": "light"
          }
        }
      ]
    },
    {
      "cell_type": "markdown",
      "source": [
        "## Export"
      ],
      "metadata": {
        "id": "1Dt_0h18nH6f"
      }
    },
    {
      "cell_type": "markdown",
      "source": [
        "### Data Test"
      ],
      "metadata": {
        "id": "h7xXzWP5nxM-"
      }
    },
    {
      "cell_type": "markdown",
      "source": [
        "Label data test dengan hasil prediksi pada masing-masing model"
      ],
      "metadata": {
        "id": "NHcUK-Np7amh"
      }
    },
    {
      "cell_type": "code",
      "source": [
        "test_microarray_prediksi = y_test1.to_frame()\n",
        "test_microarray_prediksi['RF1'] = rf1_prediksi.astype('int')\n",
        "test_microarray_prediksi['RF2'] = rf2_prediksi.astype('int')\n",
        "test_microarray_prediksi['RF3'] = rf3_prediksi.astype('int')\n",
        "test_microarray_prediksi"
      ],
      "metadata": {
        "colab": {
          "base_uri": "https://localhost:8080/"
        },
        "id": "VML7QD3j1bw_",
        "outputId": "2308256f-ba58-4e82-d4bb-470c574aaa43"
      },
      "execution_count": null,
      "outputs": [
        {
          "output_type": "execute_result",
          "data": {
            "text/plain": [
              "    Label  RF1  RF2  RF3\n",
              "0       0    1    1    1\n",
              "1       1    1    1    1\n",
              "2       1    0    0    0\n",
              "3       1    1    1    1\n",
              "4       0    0    0    1\n",
              "5       0    0    0    0\n",
              "6       1    1    1    1\n",
              "7       1    1    1    1\n",
              "8       1    1    1    1\n",
              "9       1    1    1    1\n",
              "10      1    1    1    1\n",
              "11      1    0    0    0\n",
              "12      0    0    0    0\n",
              "13      0    1    1    1\n",
              "14      0    0    0    0\n",
              "15      1    1    1    1\n",
              "16      1    1    1    1\n",
              "17      0    1    1    1\n",
              "18      0    0    0    0\n",
              "19      0    1    1    1\n",
              "20      1    1    1    1\n",
              "21      1    0    0    1\n",
              "22      1    1    1    1\n",
              "23      0    0    0    0\n",
              "24      0    0    0    0\n",
              "25      1    1    1    1\n",
              "26      1    1    1    1\n",
              "27      0    0    0    0\n",
              "28      1    1    0    1\n",
              "29      1    1    1    1\n",
              "30      1    1    1    1\n",
              "31      0    1    1    1\n",
              "32      1    1    1    1\n",
              "33      0    1    1    0\n",
              "34      0    0    0    0\n",
              "35      1    1    1    1\n",
              "36      0    0    0    0\n",
              "37      1    1    1    1\n",
              "38      0    0    0    0\n",
              "39      1    1    1    1\n",
              "40      0    0    0    0\n",
              "41      1    0    0    0\n",
              "42      1    1    1    1\n",
              "43      1    1    1    1\n",
              "44      1    1    1    1\n",
              "45      0    0    0    0\n",
              "46      0    0    0    0\n",
              "47      1    1    1    1\n",
              "48      1    0    0    1\n",
              "49      0    1    1    1\n",
              "50      0    0    0    0\n",
              "51      1    1    1    1\n",
              "52      0    1    1    1\n",
              "53      0    0    0    0\n",
              "54      0    1    1    1\n",
              "55      0    1    1    1\n",
              "56      0    0    0    0"
            ],
            "text/html": [
              "\n",
              "  <div id=\"df-d60d2739-c4c5-46f3-87ae-bdb5cce35f42\">\n",
              "    <div class=\"colab-df-container\">\n",
              "      <div>\n",
              "<style scoped>\n",
              "    .dataframe tbody tr th:only-of-type {\n",
              "        vertical-align: middle;\n",
              "    }\n",
              "\n",
              "    .dataframe tbody tr th {\n",
              "        vertical-align: top;\n",
              "    }\n",
              "\n",
              "    .dataframe thead th {\n",
              "        text-align: right;\n",
              "    }\n",
              "</style>\n",
              "<table border=\"1\" class=\"dataframe\">\n",
              "  <thead>\n",
              "    <tr style=\"text-align: right;\">\n",
              "      <th></th>\n",
              "      <th>Label</th>\n",
              "      <th>RF1</th>\n",
              "      <th>RF2</th>\n",
              "      <th>RF3</th>\n",
              "    </tr>\n",
              "  </thead>\n",
              "  <tbody>\n",
              "    <tr>\n",
              "      <th>0</th>\n",
              "      <td>0</td>\n",
              "      <td>1</td>\n",
              "      <td>1</td>\n",
              "      <td>1</td>\n",
              "    </tr>\n",
              "    <tr>\n",
              "      <th>1</th>\n",
              "      <td>1</td>\n",
              "      <td>1</td>\n",
              "      <td>1</td>\n",
              "      <td>1</td>\n",
              "    </tr>\n",
              "    <tr>\n",
              "      <th>2</th>\n",
              "      <td>1</td>\n",
              "      <td>0</td>\n",
              "      <td>0</td>\n",
              "      <td>0</td>\n",
              "    </tr>\n",
              "    <tr>\n",
              "      <th>3</th>\n",
              "      <td>1</td>\n",
              "      <td>1</td>\n",
              "      <td>1</td>\n",
              "      <td>1</td>\n",
              "    </tr>\n",
              "    <tr>\n",
              "      <th>4</th>\n",
              "      <td>0</td>\n",
              "      <td>0</td>\n",
              "      <td>0</td>\n",
              "      <td>1</td>\n",
              "    </tr>\n",
              "    <tr>\n",
              "      <th>5</th>\n",
              "      <td>0</td>\n",
              "      <td>0</td>\n",
              "      <td>0</td>\n",
              "      <td>0</td>\n",
              "    </tr>\n",
              "    <tr>\n",
              "      <th>6</th>\n",
              "      <td>1</td>\n",
              "      <td>1</td>\n",
              "      <td>1</td>\n",
              "      <td>1</td>\n",
              "    </tr>\n",
              "    <tr>\n",
              "      <th>7</th>\n",
              "      <td>1</td>\n",
              "      <td>1</td>\n",
              "      <td>1</td>\n",
              "      <td>1</td>\n",
              "    </tr>\n",
              "    <tr>\n",
              "      <th>8</th>\n",
              "      <td>1</td>\n",
              "      <td>1</td>\n",
              "      <td>1</td>\n",
              "      <td>1</td>\n",
              "    </tr>\n",
              "    <tr>\n",
              "      <th>9</th>\n",
              "      <td>1</td>\n",
              "      <td>1</td>\n",
              "      <td>1</td>\n",
              "      <td>1</td>\n",
              "    </tr>\n",
              "    <tr>\n",
              "      <th>10</th>\n",
              "      <td>1</td>\n",
              "      <td>1</td>\n",
              "      <td>1</td>\n",
              "      <td>1</td>\n",
              "    </tr>\n",
              "    <tr>\n",
              "      <th>11</th>\n",
              "      <td>1</td>\n",
              "      <td>0</td>\n",
              "      <td>0</td>\n",
              "      <td>0</td>\n",
              "    </tr>\n",
              "    <tr>\n",
              "      <th>12</th>\n",
              "      <td>0</td>\n",
              "      <td>0</td>\n",
              "      <td>0</td>\n",
              "      <td>0</td>\n",
              "    </tr>\n",
              "    <tr>\n",
              "      <th>13</th>\n",
              "      <td>0</td>\n",
              "      <td>1</td>\n",
              "      <td>1</td>\n",
              "      <td>1</td>\n",
              "    </tr>\n",
              "    <tr>\n",
              "      <th>14</th>\n",
              "      <td>0</td>\n",
              "      <td>0</td>\n",
              "      <td>0</td>\n",
              "      <td>0</td>\n",
              "    </tr>\n",
              "    <tr>\n",
              "      <th>15</th>\n",
              "      <td>1</td>\n",
              "      <td>1</td>\n",
              "      <td>1</td>\n",
              "      <td>1</td>\n",
              "    </tr>\n",
              "    <tr>\n",
              "      <th>16</th>\n",
              "      <td>1</td>\n",
              "      <td>1</td>\n",
              "      <td>1</td>\n",
              "      <td>1</td>\n",
              "    </tr>\n",
              "    <tr>\n",
              "      <th>17</th>\n",
              "      <td>0</td>\n",
              "      <td>1</td>\n",
              "      <td>1</td>\n",
              "      <td>1</td>\n",
              "    </tr>\n",
              "    <tr>\n",
              "      <th>18</th>\n",
              "      <td>0</td>\n",
              "      <td>0</td>\n",
              "      <td>0</td>\n",
              "      <td>0</td>\n",
              "    </tr>\n",
              "    <tr>\n",
              "      <th>19</th>\n",
              "      <td>0</td>\n",
              "      <td>1</td>\n",
              "      <td>1</td>\n",
              "      <td>1</td>\n",
              "    </tr>\n",
              "    <tr>\n",
              "      <th>20</th>\n",
              "      <td>1</td>\n",
              "      <td>1</td>\n",
              "      <td>1</td>\n",
              "      <td>1</td>\n",
              "    </tr>\n",
              "    <tr>\n",
              "      <th>21</th>\n",
              "      <td>1</td>\n",
              "      <td>0</td>\n",
              "      <td>0</td>\n",
              "      <td>1</td>\n",
              "    </tr>\n",
              "    <tr>\n",
              "      <th>22</th>\n",
              "      <td>1</td>\n",
              "      <td>1</td>\n",
              "      <td>1</td>\n",
              "      <td>1</td>\n",
              "    </tr>\n",
              "    <tr>\n",
              "      <th>23</th>\n",
              "      <td>0</td>\n",
              "      <td>0</td>\n",
              "      <td>0</td>\n",
              "      <td>0</td>\n",
              "    </tr>\n",
              "    <tr>\n",
              "      <th>24</th>\n",
              "      <td>0</td>\n",
              "      <td>0</td>\n",
              "      <td>0</td>\n",
              "      <td>0</td>\n",
              "    </tr>\n",
              "    <tr>\n",
              "      <th>25</th>\n",
              "      <td>1</td>\n",
              "      <td>1</td>\n",
              "      <td>1</td>\n",
              "      <td>1</td>\n",
              "    </tr>\n",
              "    <tr>\n",
              "      <th>26</th>\n",
              "      <td>1</td>\n",
              "      <td>1</td>\n",
              "      <td>1</td>\n",
              "      <td>1</td>\n",
              "    </tr>\n",
              "    <tr>\n",
              "      <th>27</th>\n",
              "      <td>0</td>\n",
              "      <td>0</td>\n",
              "      <td>0</td>\n",
              "      <td>0</td>\n",
              "    </tr>\n",
              "    <tr>\n",
              "      <th>28</th>\n",
              "      <td>1</td>\n",
              "      <td>1</td>\n",
              "      <td>0</td>\n",
              "      <td>1</td>\n",
              "    </tr>\n",
              "    <tr>\n",
              "      <th>29</th>\n",
              "      <td>1</td>\n",
              "      <td>1</td>\n",
              "      <td>1</td>\n",
              "      <td>1</td>\n",
              "    </tr>\n",
              "    <tr>\n",
              "      <th>30</th>\n",
              "      <td>1</td>\n",
              "      <td>1</td>\n",
              "      <td>1</td>\n",
              "      <td>1</td>\n",
              "    </tr>\n",
              "    <tr>\n",
              "      <th>31</th>\n",
              "      <td>0</td>\n",
              "      <td>1</td>\n",
              "      <td>1</td>\n",
              "      <td>1</td>\n",
              "    </tr>\n",
              "    <tr>\n",
              "      <th>32</th>\n",
              "      <td>1</td>\n",
              "      <td>1</td>\n",
              "      <td>1</td>\n",
              "      <td>1</td>\n",
              "    </tr>\n",
              "    <tr>\n",
              "      <th>33</th>\n",
              "      <td>0</td>\n",
              "      <td>1</td>\n",
              "      <td>1</td>\n",
              "      <td>0</td>\n",
              "    </tr>\n",
              "    <tr>\n",
              "      <th>34</th>\n",
              "      <td>0</td>\n",
              "      <td>0</td>\n",
              "      <td>0</td>\n",
              "      <td>0</td>\n",
              "    </tr>\n",
              "    <tr>\n",
              "      <th>35</th>\n",
              "      <td>1</td>\n",
              "      <td>1</td>\n",
              "      <td>1</td>\n",
              "      <td>1</td>\n",
              "    </tr>\n",
              "    <tr>\n",
              "      <th>36</th>\n",
              "      <td>0</td>\n",
              "      <td>0</td>\n",
              "      <td>0</td>\n",
              "      <td>0</td>\n",
              "    </tr>\n",
              "    <tr>\n",
              "      <th>37</th>\n",
              "      <td>1</td>\n",
              "      <td>1</td>\n",
              "      <td>1</td>\n",
              "      <td>1</td>\n",
              "    </tr>\n",
              "    <tr>\n",
              "      <th>38</th>\n",
              "      <td>0</td>\n",
              "      <td>0</td>\n",
              "      <td>0</td>\n",
              "      <td>0</td>\n",
              "    </tr>\n",
              "    <tr>\n",
              "      <th>39</th>\n",
              "      <td>1</td>\n",
              "      <td>1</td>\n",
              "      <td>1</td>\n",
              "      <td>1</td>\n",
              "    </tr>\n",
              "    <tr>\n",
              "      <th>40</th>\n",
              "      <td>0</td>\n",
              "      <td>0</td>\n",
              "      <td>0</td>\n",
              "      <td>0</td>\n",
              "    </tr>\n",
              "    <tr>\n",
              "      <th>41</th>\n",
              "      <td>1</td>\n",
              "      <td>0</td>\n",
              "      <td>0</td>\n",
              "      <td>0</td>\n",
              "    </tr>\n",
              "    <tr>\n",
              "      <th>42</th>\n",
              "      <td>1</td>\n",
              "      <td>1</td>\n",
              "      <td>1</td>\n",
              "      <td>1</td>\n",
              "    </tr>\n",
              "    <tr>\n",
              "      <th>43</th>\n",
              "      <td>1</td>\n",
              "      <td>1</td>\n",
              "      <td>1</td>\n",
              "      <td>1</td>\n",
              "    </tr>\n",
              "    <tr>\n",
              "      <th>44</th>\n",
              "      <td>1</td>\n",
              "      <td>1</td>\n",
              "      <td>1</td>\n",
              "      <td>1</td>\n",
              "    </tr>\n",
              "    <tr>\n",
              "      <th>45</th>\n",
              "      <td>0</td>\n",
              "      <td>0</td>\n",
              "      <td>0</td>\n",
              "      <td>0</td>\n",
              "    </tr>\n",
              "    <tr>\n",
              "      <th>46</th>\n",
              "      <td>0</td>\n",
              "      <td>0</td>\n",
              "      <td>0</td>\n",
              "      <td>0</td>\n",
              "    </tr>\n",
              "    <tr>\n",
              "      <th>47</th>\n",
              "      <td>1</td>\n",
              "      <td>1</td>\n",
              "      <td>1</td>\n",
              "      <td>1</td>\n",
              "    </tr>\n",
              "    <tr>\n",
              "      <th>48</th>\n",
              "      <td>1</td>\n",
              "      <td>0</td>\n",
              "      <td>0</td>\n",
              "      <td>1</td>\n",
              "    </tr>\n",
              "    <tr>\n",
              "      <th>49</th>\n",
              "      <td>0</td>\n",
              "      <td>1</td>\n",
              "      <td>1</td>\n",
              "      <td>1</td>\n",
              "    </tr>\n",
              "    <tr>\n",
              "      <th>50</th>\n",
              "      <td>0</td>\n",
              "      <td>0</td>\n",
              "      <td>0</td>\n",
              "      <td>0</td>\n",
              "    </tr>\n",
              "    <tr>\n",
              "      <th>51</th>\n",
              "      <td>1</td>\n",
              "      <td>1</td>\n",
              "      <td>1</td>\n",
              "      <td>1</td>\n",
              "    </tr>\n",
              "    <tr>\n",
              "      <th>52</th>\n",
              "      <td>0</td>\n",
              "      <td>1</td>\n",
              "      <td>1</td>\n",
              "      <td>1</td>\n",
              "    </tr>\n",
              "    <tr>\n",
              "      <th>53</th>\n",
              "      <td>0</td>\n",
              "      <td>0</td>\n",
              "      <td>0</td>\n",
              "      <td>0</td>\n",
              "    </tr>\n",
              "    <tr>\n",
              "      <th>54</th>\n",
              "      <td>0</td>\n",
              "      <td>1</td>\n",
              "      <td>1</td>\n",
              "      <td>1</td>\n",
              "    </tr>\n",
              "    <tr>\n",
              "      <th>55</th>\n",
              "      <td>0</td>\n",
              "      <td>1</td>\n",
              "      <td>1</td>\n",
              "      <td>1</td>\n",
              "    </tr>\n",
              "    <tr>\n",
              "      <th>56</th>\n",
              "      <td>0</td>\n",
              "      <td>0</td>\n",
              "      <td>0</td>\n",
              "      <td>0</td>\n",
              "    </tr>\n",
              "  </tbody>\n",
              "</table>\n",
              "</div>\n",
              "      <button class=\"colab-df-convert\" onclick=\"convertToInteractive('df-d60d2739-c4c5-46f3-87ae-bdb5cce35f42')\"\n",
              "              title=\"Convert this dataframe to an interactive table.\"\n",
              "              style=\"display:none;\">\n",
              "        \n",
              "  <svg xmlns=\"http://www.w3.org/2000/svg\" height=\"24px\"viewBox=\"0 0 24 24\"\n",
              "       width=\"24px\">\n",
              "    <path d=\"M0 0h24v24H0V0z\" fill=\"none\"/>\n",
              "    <path d=\"M18.56 5.44l.94 2.06.94-2.06 2.06-.94-2.06-.94-.94-2.06-.94 2.06-2.06.94zm-11 1L8.5 8.5l.94-2.06 2.06-.94-2.06-.94L8.5 2.5l-.94 2.06-2.06.94zm10 10l.94 2.06.94-2.06 2.06-.94-2.06-.94-.94-2.06-.94 2.06-2.06.94z\"/><path d=\"M17.41 7.96l-1.37-1.37c-.4-.4-.92-.59-1.43-.59-.52 0-1.04.2-1.43.59L10.3 9.45l-7.72 7.72c-.78.78-.78 2.05 0 2.83L4 21.41c.39.39.9.59 1.41.59.51 0 1.02-.2 1.41-.59l7.78-7.78 2.81-2.81c.8-.78.8-2.07 0-2.86zM5.41 20L4 18.59l7.72-7.72 1.47 1.35L5.41 20z\"/>\n",
              "  </svg>\n",
              "      </button>\n",
              "      \n",
              "  <style>\n",
              "    .colab-df-container {\n",
              "      display:flex;\n",
              "      flex-wrap:wrap;\n",
              "      gap: 12px;\n",
              "    }\n",
              "\n",
              "    .colab-df-convert {\n",
              "      background-color: #E8F0FE;\n",
              "      border: none;\n",
              "      border-radius: 50%;\n",
              "      cursor: pointer;\n",
              "      display: none;\n",
              "      fill: #1967D2;\n",
              "      height: 32px;\n",
              "      padding: 0 0 0 0;\n",
              "      width: 32px;\n",
              "    }\n",
              "\n",
              "    .colab-df-convert:hover {\n",
              "      background-color: #E2EBFA;\n",
              "      box-shadow: 0px 1px 2px rgba(60, 64, 67, 0.3), 0px 1px 3px 1px rgba(60, 64, 67, 0.15);\n",
              "      fill: #174EA6;\n",
              "    }\n",
              "\n",
              "    [theme=dark] .colab-df-convert {\n",
              "      background-color: #3B4455;\n",
              "      fill: #D2E3FC;\n",
              "    }\n",
              "\n",
              "    [theme=dark] .colab-df-convert:hover {\n",
              "      background-color: #434B5C;\n",
              "      box-shadow: 0px 1px 3px 1px rgba(0, 0, 0, 0.15);\n",
              "      filter: drop-shadow(0px 1px 2px rgba(0, 0, 0, 0.3));\n",
              "      fill: #FFFFFF;\n",
              "    }\n",
              "  </style>\n",
              "\n",
              "      <script>\n",
              "        const buttonEl =\n",
              "          document.querySelector('#df-d60d2739-c4c5-46f3-87ae-bdb5cce35f42 button.colab-df-convert');\n",
              "        buttonEl.style.display =\n",
              "          google.colab.kernel.accessAllowed ? 'block' : 'none';\n",
              "\n",
              "        async function convertToInteractive(key) {\n",
              "          const element = document.querySelector('#df-d60d2739-c4c5-46f3-87ae-bdb5cce35f42');\n",
              "          const dataTable =\n",
              "            await google.colab.kernel.invokeFunction('convertToInteractive',\n",
              "                                                     [key], {});\n",
              "          if (!dataTable) return;\n",
              "\n",
              "          const docLinkHtml = 'Like what you see? Visit the ' +\n",
              "            '<a target=\"_blank\" href=https://colab.research.google.com/notebooks/data_table.ipynb>data table notebook</a>'\n",
              "            + ' to learn more about interactive tables.';\n",
              "          element.innerHTML = '';\n",
              "          dataTable['output_type'] = 'display_data';\n",
              "          await google.colab.output.renderOutput(dataTable, element);\n",
              "          const docLink = document.createElement('div');\n",
              "          docLink.innerHTML = docLinkHtml;\n",
              "          element.appendChild(docLink);\n",
              "        }\n",
              "      </script>\n",
              "    </div>\n",
              "  </div>\n",
              "  "
            ]
          },
          "metadata": {},
          "execution_count": 33
        }
      ]
    },
    {
      "cell_type": "markdown",
      "source": [
        "Export ke CSV"
      ],
      "metadata": {
        "id": "k001VpPw7eEW"
      }
    },
    {
      "cell_type": "code",
      "source": [
        "test_microarray_prediksi.to_csv(r'test_microarray_prediksi_rf.csv', index=False, header=True)"
      ],
      "metadata": {
        "id": "N7oJ6hS8ng4Q"
      },
      "execution_count": null,
      "outputs": []
    },
    {
      "cell_type": "markdown",
      "source": [
        "### Suspect"
      ],
      "metadata": {
        "id": "b26CrNofoZ0a"
      }
    },
    {
      "cell_type": "markdown",
      "source": [
        "Fit model"
      ],
      "metadata": {
        "id": "KAmK8V9n7iXM"
      }
    },
    {
      "cell_type": "code",
      "source": [
        "rf1_model.fit(X_train1, y_train1)\n",
        "rf2_model.fit(X_train2, y_train2)\n",
        "rf3_model.fit(X_train3, y_train3)"
      ],
      "metadata": {
        "id": "lsrv4n2cpB4e",
        "colab": {
          "base_uri": "https://localhost:8080/"
        },
        "outputId": "b87c6320-a985-45ba-8eda-cee8f94dc4e3"
      },
      "execution_count": null,
      "outputs": [
        {
          "output_type": "execute_result",
          "data": {
            "text/plain": [
              "RandomForestClassifier(n_estimators=50)"
            ]
          },
          "metadata": {},
          "execution_count": 35
        }
      ]
    },
    {
      "cell_type": "markdown",
      "source": [
        "Prediksi dengan Suspect"
      ],
      "metadata": {
        "id": "TEjJDtp17j14"
      }
    },
    {
      "cell_type": "code",
      "source": [
        "rf1_prediksi_suspect = rf1_model.predict(df_suspect1).astype('int')\n",
        "rf2_prediksi_suspect = rf2_model.predict(df_suspect2).astype('int')\n",
        "rf3_prediksi_suspect = rf3_model.predict(df_suspect3).astype('int')"
      ],
      "metadata": {
        "id": "FQ-5K7jCo3wE"
      },
      "execution_count": null,
      "outputs": []
    },
    {
      "cell_type": "markdown",
      "source": [
        "Melihat hasil prediksi masing-masing model"
      ],
      "metadata": {
        "id": "i_qJGwFv7lv6"
      }
    },
    {
      "cell_type": "code",
      "source": [
        "calon_dataframe = {'RF1' : rf1_prediksi_suspect,\n",
        "                   'RF2' : rf2_prediksi_suspect,\n",
        "                   'RF3' : rf3_prediksi_suspect}\n",
        "suspect_prediksi = pd.DataFrame(calon_dataframe)\n",
        "suspect_prediksi"
      ],
      "metadata": {
        "id": "hdkYKajapY6u",
        "colab": {
          "base_uri": "https://localhost:8080/"
        },
        "outputId": "6d107620-ba4d-49a3-cef8-7428ce789a65"
      },
      "execution_count": null,
      "outputs": [
        {
          "output_type": "execute_result",
          "data": {
            "text/plain": [
              "   RF1  RF2  RF3\n",
              "0    0    1    1\n",
              "1    1    1    1\n",
              "2    1    1    1\n",
              "3    1    1    1\n",
              "4    0    1    1"
            ],
            "text/html": [
              "\n",
              "  <div id=\"df-78aa4c65-090d-4736-b994-2a1e372d6757\">\n",
              "    <div class=\"colab-df-container\">\n",
              "      <div>\n",
              "<style scoped>\n",
              "    .dataframe tbody tr th:only-of-type {\n",
              "        vertical-align: middle;\n",
              "    }\n",
              "\n",
              "    .dataframe tbody tr th {\n",
              "        vertical-align: top;\n",
              "    }\n",
              "\n",
              "    .dataframe thead th {\n",
              "        text-align: right;\n",
              "    }\n",
              "</style>\n",
              "<table border=\"1\" class=\"dataframe\">\n",
              "  <thead>\n",
              "    <tr style=\"text-align: right;\">\n",
              "      <th></th>\n",
              "      <th>RF1</th>\n",
              "      <th>RF2</th>\n",
              "      <th>RF3</th>\n",
              "    </tr>\n",
              "  </thead>\n",
              "  <tbody>\n",
              "    <tr>\n",
              "      <th>0</th>\n",
              "      <td>0</td>\n",
              "      <td>1</td>\n",
              "      <td>1</td>\n",
              "    </tr>\n",
              "    <tr>\n",
              "      <th>1</th>\n",
              "      <td>1</td>\n",
              "      <td>1</td>\n",
              "      <td>1</td>\n",
              "    </tr>\n",
              "    <tr>\n",
              "      <th>2</th>\n",
              "      <td>1</td>\n",
              "      <td>1</td>\n",
              "      <td>1</td>\n",
              "    </tr>\n",
              "    <tr>\n",
              "      <th>3</th>\n",
              "      <td>1</td>\n",
              "      <td>1</td>\n",
              "      <td>1</td>\n",
              "    </tr>\n",
              "    <tr>\n",
              "      <th>4</th>\n",
              "      <td>0</td>\n",
              "      <td>1</td>\n",
              "      <td>1</td>\n",
              "    </tr>\n",
              "  </tbody>\n",
              "</table>\n",
              "</div>\n",
              "      <button class=\"colab-df-convert\" onclick=\"convertToInteractive('df-78aa4c65-090d-4736-b994-2a1e372d6757')\"\n",
              "              title=\"Convert this dataframe to an interactive table.\"\n",
              "              style=\"display:none;\">\n",
              "        \n",
              "  <svg xmlns=\"http://www.w3.org/2000/svg\" height=\"24px\"viewBox=\"0 0 24 24\"\n",
              "       width=\"24px\">\n",
              "    <path d=\"M0 0h24v24H0V0z\" fill=\"none\"/>\n",
              "    <path d=\"M18.56 5.44l.94 2.06.94-2.06 2.06-.94-2.06-.94-.94-2.06-.94 2.06-2.06.94zm-11 1L8.5 8.5l.94-2.06 2.06-.94-2.06-.94L8.5 2.5l-.94 2.06-2.06.94zm10 10l.94 2.06.94-2.06 2.06-.94-2.06-.94-.94-2.06-.94 2.06-2.06.94z\"/><path d=\"M17.41 7.96l-1.37-1.37c-.4-.4-.92-.59-1.43-.59-.52 0-1.04.2-1.43.59L10.3 9.45l-7.72 7.72c-.78.78-.78 2.05 0 2.83L4 21.41c.39.39.9.59 1.41.59.51 0 1.02-.2 1.41-.59l7.78-7.78 2.81-2.81c.8-.78.8-2.07 0-2.86zM5.41 20L4 18.59l7.72-7.72 1.47 1.35L5.41 20z\"/>\n",
              "  </svg>\n",
              "      </button>\n",
              "      \n",
              "  <style>\n",
              "    .colab-df-container {\n",
              "      display:flex;\n",
              "      flex-wrap:wrap;\n",
              "      gap: 12px;\n",
              "    }\n",
              "\n",
              "    .colab-df-convert {\n",
              "      background-color: #E8F0FE;\n",
              "      border: none;\n",
              "      border-radius: 50%;\n",
              "      cursor: pointer;\n",
              "      display: none;\n",
              "      fill: #1967D2;\n",
              "      height: 32px;\n",
              "      padding: 0 0 0 0;\n",
              "      width: 32px;\n",
              "    }\n",
              "\n",
              "    .colab-df-convert:hover {\n",
              "      background-color: #E2EBFA;\n",
              "      box-shadow: 0px 1px 2px rgba(60, 64, 67, 0.3), 0px 1px 3px 1px rgba(60, 64, 67, 0.15);\n",
              "      fill: #174EA6;\n",
              "    }\n",
              "\n",
              "    [theme=dark] .colab-df-convert {\n",
              "      background-color: #3B4455;\n",
              "      fill: #D2E3FC;\n",
              "    }\n",
              "\n",
              "    [theme=dark] .colab-df-convert:hover {\n",
              "      background-color: #434B5C;\n",
              "      box-shadow: 0px 1px 3px 1px rgba(0, 0, 0, 0.15);\n",
              "      filter: drop-shadow(0px 1px 2px rgba(0, 0, 0, 0.3));\n",
              "      fill: #FFFFFF;\n",
              "    }\n",
              "  </style>\n",
              "\n",
              "      <script>\n",
              "        const buttonEl =\n",
              "          document.querySelector('#df-78aa4c65-090d-4736-b994-2a1e372d6757 button.colab-df-convert');\n",
              "        buttonEl.style.display =\n",
              "          google.colab.kernel.accessAllowed ? 'block' : 'none';\n",
              "\n",
              "        async function convertToInteractive(key) {\n",
              "          const element = document.querySelector('#df-78aa4c65-090d-4736-b994-2a1e372d6757');\n",
              "          const dataTable =\n",
              "            await google.colab.kernel.invokeFunction('convertToInteractive',\n",
              "                                                     [key], {});\n",
              "          if (!dataTable) return;\n",
              "\n",
              "          const docLinkHtml = 'Like what you see? Visit the ' +\n",
              "            '<a target=\"_blank\" href=https://colab.research.google.com/notebooks/data_table.ipynb>data table notebook</a>'\n",
              "            + ' to learn more about interactive tables.';\n",
              "          element.innerHTML = '';\n",
              "          dataTable['output_type'] = 'display_data';\n",
              "          await google.colab.output.renderOutput(dataTable, element);\n",
              "          const docLink = document.createElement('div');\n",
              "          docLink.innerHTML = docLinkHtml;\n",
              "          element.appendChild(docLink);\n",
              "        }\n",
              "      </script>\n",
              "    </div>\n",
              "  </div>\n",
              "  "
            ]
          },
          "metadata": {},
          "execution_count": 37
        }
      ]
    },
    {
      "cell_type": "markdown",
      "source": [
        "Export ke CSV"
      ],
      "metadata": {
        "id": "hZn3KE5w7pQ_"
      }
    },
    {
      "cell_type": "code",
      "source": [
        "suspect_prediksi.to_csv(r'suspect_prediksi_rf.csv', index=False, header=True)"
      ],
      "metadata": {
        "id": "f6_LOhm7pq9g"
      },
      "execution_count": null,
      "outputs": []
    }
  ]
}