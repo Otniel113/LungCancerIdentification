{
  "nbformat": 4,
  "nbformat_minor": 0,
  "metadata": {
    "colab": {
      "name": "02.Praproses-Fitur.ipynb",
      "provenance": [],
      "collapsed_sections": [
        "uPe4IfRqRJeK",
        "1xqVXofOSaB7",
        "0-__kGgrn45c",
        "41LZy3JFlluz",
        "SimEz56450hf",
        "_YZjNmWE54-r",
        "LLhgn0CaHBWa"
      ]
    },
    "kernelspec": {
      "name": "python3",
      "display_name": "Python 3"
    },
    "language_info": {
      "name": "python"
    }
  },
  "cells": [
    {
      "cell_type": "markdown",
      "source": [
        "<h2><b>Input : </b></h2>\n",
        "\n",
        "*   train_microarray.csv\n",
        "\n",
        "<h2><b>Output : </b></h2>\n",
        "\n",
        "* rf1_features.pkl\n",
        "* rf2_features.pkl\n",
        "* rf3_features.pkl\n",
        "* ab1_features.pkl\n",
        "* ab2_features.pkl\n",
        "* ab3_features.pkl\n"
      ],
      "metadata": {
        "id": "s6ZttnxlOpR4"
      }
    },
    {
      "cell_type": "markdown",
      "source": [
        "# Run All"
      ],
      "metadata": {
        "id": "U9LP0lohRHga"
      }
    },
    {
      "cell_type": "markdown",
      "source": [
        "## Import dan Load"
      ],
      "metadata": {
        "id": "uPe4IfRqRJeK"
      }
    },
    {
      "cell_type": "markdown",
      "source": [
        "Library yang Digunakan"
      ],
      "metadata": {
        "id": "05XDKPTIFa67"
      }
    },
    {
      "cell_type": "code",
      "execution_count": null,
      "metadata": {
        "id": "ic-zYJf7RFsB"
      },
      "outputs": [],
      "source": [
        "import pandas as pd\n",
        "import matplotlib as mpl\n",
        "import matplotlib.pyplot as plt\n",
        "%matplotlib inline\n",
        "from matplotlib import rcParams\n",
        "import numpy as np\n",
        "from sklearn.feature_selection import SelectKBest, chi2\n",
        "from sklearn.ensemble import RandomForestClassifier, AdaBoostClassifier\n",
        "from sklearn.model_selection import cross_val_score\n",
        "import joblib"
      ]
    },
    {
      "cell_type": "markdown",
      "source": [
        "Mengatur Style"
      ],
      "metadata": {
        "id": "ItYr_lddv45P"
      }
    },
    {
      "cell_type": "code",
      "source": [
        "rcParams['figure.figsize'] = 15, 10\n",
        "mpl.style.use(['ggplot'])"
      ],
      "metadata": {
        "id": "PIOI-wdJv4SU"
      },
      "execution_count": null,
      "outputs": []
    },
    {
      "cell_type": "markdown",
      "source": [
        "Load Dataset berupa Data Train"
      ],
      "metadata": {
        "id": "zS7HP8TmFf81"
      }
    },
    {
      "cell_type": "code",
      "source": [
        "df_train = pd.read_csv('https://drive.google.com/uc?id=1MiU_0V6-LvZ_CyCuWf2HoW-WXNKSIFJQ')"
      ],
      "metadata": {
        "id": "QJ0800CtRXHE"
      },
      "execution_count": null,
      "outputs": []
    },
    {
      "cell_type": "markdown",
      "source": [
        "Melihat Dataset"
      ],
      "metadata": {
        "id": "9b1c3s50Fi9F"
      }
    },
    {
      "cell_type": "code",
      "source": [
        "df_train.head()"
      ],
      "metadata": {
        "colab": {
          "base_uri": "https://localhost:8080/"
        },
        "id": "zmay0uyBRo0K",
        "outputId": "c9137d17-0780-41aa-93c9-25da39e06375"
      },
      "execution_count": null,
      "outputs": [
        {
          "output_type": "execute_result",
          "data": {
            "text/plain": [
              "   211612_s_at  206628_at  222339_x_at  219678_x_at  217653_x_at  211996_s_at  \\\n",
              "0     2.535743   2.509137     2.477981     2.457776     2.052387     2.873506   \n",
              "1     2.587822   2.751712     2.437972     2.408562     1.957657     2.779933   \n",
              "2     2.529666   2.787718     2.558234     2.447706     2.059190     2.805088   \n",
              "3     2.274739   2.487072     2.602525     2.537130     2.273920     2.952965   \n",
              "4     2.551101   2.501445     2.675678     2.692597     2.321532     2.887101   \n",
              "\n",
              "   214594_x_at  207283_at  219233_s_at  213326_at  ...  208938_at  208566_at  \\\n",
              "0     2.285882   2.257423     2.828750   2.432269  ...   2.000653   1.908920   \n",
              "1     2.248177   2.158378     2.655283   2.439049  ...   2.000948   1.931161   \n",
              "2     2.255567   2.223798     2.724081   2.459016  ...   1.705573   1.917374   \n",
              "3     2.554384   2.275782     2.876030   2.520870  ...   1.936551   1.923020   \n",
              "4     2.752609   2.239391     2.718403   2.503886  ...   1.859982   1.990585   \n",
              "\n",
              "   207723_s_at  219777_at  222150_s_at  209100_at  205699_at  201547_at  \\\n",
              "0     1.670529   1.976986     2.538606   2.852094   1.812555   1.926493   \n",
              "1     1.588826   1.657637     2.380881   2.798405   1.852201   1.901823   \n",
              "2     1.609536   1.585730     2.390935   2.809363   2.005320   2.009139   \n",
              "3     1.610778   1.627205     2.278927   2.790865   1.939110   1.977171   \n",
              "4     1.636428   1.860937     2.351503   2.799492   1.846797   2.093768   \n",
              "\n",
              "   211069_s_at  Label  \n",
              "0     2.900288      1  \n",
              "1     2.934622      1  \n",
              "2     2.858905      0  \n",
              "3     2.952043      0  \n",
              "4     2.894002      0  \n",
              "\n",
              "[5 rows x 22216 columns]"
            ],
            "text/html": [
              "\n",
              "  <div id=\"df-5e89b9a4-1a61-4a80-b4c2-d087bdfce518\">\n",
              "    <div class=\"colab-df-container\">\n",
              "      <div>\n",
              "<style scoped>\n",
              "    .dataframe tbody tr th:only-of-type {\n",
              "        vertical-align: middle;\n",
              "    }\n",
              "\n",
              "    .dataframe tbody tr th {\n",
              "        vertical-align: top;\n",
              "    }\n",
              "\n",
              "    .dataframe thead th {\n",
              "        text-align: right;\n",
              "    }\n",
              "</style>\n",
              "<table border=\"1\" class=\"dataframe\">\n",
              "  <thead>\n",
              "    <tr style=\"text-align: right;\">\n",
              "      <th></th>\n",
              "      <th>211612_s_at</th>\n",
              "      <th>206628_at</th>\n",
              "      <th>222339_x_at</th>\n",
              "      <th>219678_x_at</th>\n",
              "      <th>217653_x_at</th>\n",
              "      <th>211996_s_at</th>\n",
              "      <th>214594_x_at</th>\n",
              "      <th>207283_at</th>\n",
              "      <th>219233_s_at</th>\n",
              "      <th>213326_at</th>\n",
              "      <th>...</th>\n",
              "      <th>208938_at</th>\n",
              "      <th>208566_at</th>\n",
              "      <th>207723_s_at</th>\n",
              "      <th>219777_at</th>\n",
              "      <th>222150_s_at</th>\n",
              "      <th>209100_at</th>\n",
              "      <th>205699_at</th>\n",
              "      <th>201547_at</th>\n",
              "      <th>211069_s_at</th>\n",
              "      <th>Label</th>\n",
              "    </tr>\n",
              "  </thead>\n",
              "  <tbody>\n",
              "    <tr>\n",
              "      <th>0</th>\n",
              "      <td>2.535743</td>\n",
              "      <td>2.509137</td>\n",
              "      <td>2.477981</td>\n",
              "      <td>2.457776</td>\n",
              "      <td>2.052387</td>\n",
              "      <td>2.873506</td>\n",
              "      <td>2.285882</td>\n",
              "      <td>2.257423</td>\n",
              "      <td>2.828750</td>\n",
              "      <td>2.432269</td>\n",
              "      <td>...</td>\n",
              "      <td>2.000653</td>\n",
              "      <td>1.908920</td>\n",
              "      <td>1.670529</td>\n",
              "      <td>1.976986</td>\n",
              "      <td>2.538606</td>\n",
              "      <td>2.852094</td>\n",
              "      <td>1.812555</td>\n",
              "      <td>1.926493</td>\n",
              "      <td>2.900288</td>\n",
              "      <td>1</td>\n",
              "    </tr>\n",
              "    <tr>\n",
              "      <th>1</th>\n",
              "      <td>2.587822</td>\n",
              "      <td>2.751712</td>\n",
              "      <td>2.437972</td>\n",
              "      <td>2.408562</td>\n",
              "      <td>1.957657</td>\n",
              "      <td>2.779933</td>\n",
              "      <td>2.248177</td>\n",
              "      <td>2.158378</td>\n",
              "      <td>2.655283</td>\n",
              "      <td>2.439049</td>\n",
              "      <td>...</td>\n",
              "      <td>2.000948</td>\n",
              "      <td>1.931161</td>\n",
              "      <td>1.588826</td>\n",
              "      <td>1.657637</td>\n",
              "      <td>2.380881</td>\n",
              "      <td>2.798405</td>\n",
              "      <td>1.852201</td>\n",
              "      <td>1.901823</td>\n",
              "      <td>2.934622</td>\n",
              "      <td>1</td>\n",
              "    </tr>\n",
              "    <tr>\n",
              "      <th>2</th>\n",
              "      <td>2.529666</td>\n",
              "      <td>2.787718</td>\n",
              "      <td>2.558234</td>\n",
              "      <td>2.447706</td>\n",
              "      <td>2.059190</td>\n",
              "      <td>2.805088</td>\n",
              "      <td>2.255567</td>\n",
              "      <td>2.223798</td>\n",
              "      <td>2.724081</td>\n",
              "      <td>2.459016</td>\n",
              "      <td>...</td>\n",
              "      <td>1.705573</td>\n",
              "      <td>1.917374</td>\n",
              "      <td>1.609536</td>\n",
              "      <td>1.585730</td>\n",
              "      <td>2.390935</td>\n",
              "      <td>2.809363</td>\n",
              "      <td>2.005320</td>\n",
              "      <td>2.009139</td>\n",
              "      <td>2.858905</td>\n",
              "      <td>0</td>\n",
              "    </tr>\n",
              "    <tr>\n",
              "      <th>3</th>\n",
              "      <td>2.274739</td>\n",
              "      <td>2.487072</td>\n",
              "      <td>2.602525</td>\n",
              "      <td>2.537130</td>\n",
              "      <td>2.273920</td>\n",
              "      <td>2.952965</td>\n",
              "      <td>2.554384</td>\n",
              "      <td>2.275782</td>\n",
              "      <td>2.876030</td>\n",
              "      <td>2.520870</td>\n",
              "      <td>...</td>\n",
              "      <td>1.936551</td>\n",
              "      <td>1.923020</td>\n",
              "      <td>1.610778</td>\n",
              "      <td>1.627205</td>\n",
              "      <td>2.278927</td>\n",
              "      <td>2.790865</td>\n",
              "      <td>1.939110</td>\n",
              "      <td>1.977171</td>\n",
              "      <td>2.952043</td>\n",
              "      <td>0</td>\n",
              "    </tr>\n",
              "    <tr>\n",
              "      <th>4</th>\n",
              "      <td>2.551101</td>\n",
              "      <td>2.501445</td>\n",
              "      <td>2.675678</td>\n",
              "      <td>2.692597</td>\n",
              "      <td>2.321532</td>\n",
              "      <td>2.887101</td>\n",
              "      <td>2.752609</td>\n",
              "      <td>2.239391</td>\n",
              "      <td>2.718403</td>\n",
              "      <td>2.503886</td>\n",
              "      <td>...</td>\n",
              "      <td>1.859982</td>\n",
              "      <td>1.990585</td>\n",
              "      <td>1.636428</td>\n",
              "      <td>1.860937</td>\n",
              "      <td>2.351503</td>\n",
              "      <td>2.799492</td>\n",
              "      <td>1.846797</td>\n",
              "      <td>2.093768</td>\n",
              "      <td>2.894002</td>\n",
              "      <td>0</td>\n",
              "    </tr>\n",
              "  </tbody>\n",
              "</table>\n",
              "<p>5 rows × 22216 columns</p>\n",
              "</div>\n",
              "      <button class=\"colab-df-convert\" onclick=\"convertToInteractive('df-5e89b9a4-1a61-4a80-b4c2-d087bdfce518')\"\n",
              "              title=\"Convert this dataframe to an interactive table.\"\n",
              "              style=\"display:none;\">\n",
              "        \n",
              "  <svg xmlns=\"http://www.w3.org/2000/svg\" height=\"24px\"viewBox=\"0 0 24 24\"\n",
              "       width=\"24px\">\n",
              "    <path d=\"M0 0h24v24H0V0z\" fill=\"none\"/>\n",
              "    <path d=\"M18.56 5.44l.94 2.06.94-2.06 2.06-.94-2.06-.94-.94-2.06-.94 2.06-2.06.94zm-11 1L8.5 8.5l.94-2.06 2.06-.94-2.06-.94L8.5 2.5l-.94 2.06-2.06.94zm10 10l.94 2.06.94-2.06 2.06-.94-2.06-.94-.94-2.06-.94 2.06-2.06.94z\"/><path d=\"M17.41 7.96l-1.37-1.37c-.4-.4-.92-.59-1.43-.59-.52 0-1.04.2-1.43.59L10.3 9.45l-7.72 7.72c-.78.78-.78 2.05 0 2.83L4 21.41c.39.39.9.59 1.41.59.51 0 1.02-.2 1.41-.59l7.78-7.78 2.81-2.81c.8-.78.8-2.07 0-2.86zM5.41 20L4 18.59l7.72-7.72 1.47 1.35L5.41 20z\"/>\n",
              "  </svg>\n",
              "      </button>\n",
              "      \n",
              "  <style>\n",
              "    .colab-df-container {\n",
              "      display:flex;\n",
              "      flex-wrap:wrap;\n",
              "      gap: 12px;\n",
              "    }\n",
              "\n",
              "    .colab-df-convert {\n",
              "      background-color: #E8F0FE;\n",
              "      border: none;\n",
              "      border-radius: 50%;\n",
              "      cursor: pointer;\n",
              "      display: none;\n",
              "      fill: #1967D2;\n",
              "      height: 32px;\n",
              "      padding: 0 0 0 0;\n",
              "      width: 32px;\n",
              "    }\n",
              "\n",
              "    .colab-df-convert:hover {\n",
              "      background-color: #E2EBFA;\n",
              "      box-shadow: 0px 1px 2px rgba(60, 64, 67, 0.3), 0px 1px 3px 1px rgba(60, 64, 67, 0.15);\n",
              "      fill: #174EA6;\n",
              "    }\n",
              "\n",
              "    [theme=dark] .colab-df-convert {\n",
              "      background-color: #3B4455;\n",
              "      fill: #D2E3FC;\n",
              "    }\n",
              "\n",
              "    [theme=dark] .colab-df-convert:hover {\n",
              "      background-color: #434B5C;\n",
              "      box-shadow: 0px 1px 3px 1px rgba(0, 0, 0, 0.15);\n",
              "      filter: drop-shadow(0px 1px 2px rgba(0, 0, 0, 0.3));\n",
              "      fill: #FFFFFF;\n",
              "    }\n",
              "  </style>\n",
              "\n",
              "      <script>\n",
              "        const buttonEl =\n",
              "          document.querySelector('#df-5e89b9a4-1a61-4a80-b4c2-d087bdfce518 button.colab-df-convert');\n",
              "        buttonEl.style.display =\n",
              "          google.colab.kernel.accessAllowed ? 'block' : 'none';\n",
              "\n",
              "        async function convertToInteractive(key) {\n",
              "          const element = document.querySelector('#df-5e89b9a4-1a61-4a80-b4c2-d087bdfce518');\n",
              "          const dataTable =\n",
              "            await google.colab.kernel.invokeFunction('convertToInteractive',\n",
              "                                                     [key], {});\n",
              "          if (!dataTable) return;\n",
              "\n",
              "          const docLinkHtml = 'Like what you see? Visit the ' +\n",
              "            '<a target=\"_blank\" href=https://colab.research.google.com/notebooks/data_table.ipynb>data table notebook</a>'\n",
              "            + ' to learn more about interactive tables.';\n",
              "          element.innerHTML = '';\n",
              "          dataTable['output_type'] = 'display_data';\n",
              "          await google.colab.output.renderOutput(dataTable, element);\n",
              "          const docLink = document.createElement('div');\n",
              "          docLink.innerHTML = docLinkHtml;\n",
              "          element.appendChild(docLink);\n",
              "        }\n",
              "      </script>\n",
              "    </div>\n",
              "  </div>\n",
              "  "
            ]
          },
          "metadata": {},
          "execution_count": 4
        }
      ]
    },
    {
      "cell_type": "markdown",
      "source": [
        "Melihat Ukuran Dataset"
      ],
      "metadata": {
        "id": "E9gkuRI_FlGV"
      }
    },
    {
      "cell_type": "code",
      "source": [
        "df_train.shape"
      ],
      "metadata": {
        "colab": {
          "base_uri": "https://localhost:8080/"
        },
        "id": "HYFQq5NjTepj",
        "outputId": "3f17b5b9-9e3b-4779-d489-27ea636ffc40"
      },
      "execution_count": null,
      "outputs": [
        {
          "output_type": "execute_result",
          "data": {
            "text/plain": [
              "(130, 22216)"
            ]
          },
          "metadata": {},
          "execution_count": 5
        }
      ]
    },
    {
      "cell_type": "markdown",
      "source": [
        "## Reduksi Fitur Standard Deviation"
      ],
      "metadata": {
        "id": "41LZy3JFlluz"
      }
    },
    {
      "cell_type": "markdown",
      "source": [
        "Visualisasi Simpangan Baku setiap Kolom/Fitur"
      ],
      "metadata": {
        "id": "-n2H6h8dFuGU"
      }
    },
    {
      "cell_type": "code",
      "source": [
        "df_train.iloc[:,:-1].std().plot(style='.', color='forestgreen')\n",
        "plt.xlabel('Feature Names', fontweight='bold')\n",
        "plt.ylabel('Standard Deviation Value', fontweight='bold')\n",
        "plt.show()"
      ],
      "metadata": {
        "colab": {
          "base_uri": "https://localhost:8080/"
        },
        "id": "ftML8KHQlqzv",
        "outputId": "c403cabf-50a7-4009-d452-8a4dafd71dfa"
      },
      "execution_count": null,
      "outputs": [
        {
          "output_type": "display_data",
          "data": {
            "text/plain": [
              "<Figure size 1080x720 with 1 Axes>"
            ],
            "image/png": "[encoded data removed]"
          },
          "metadata": {}
        }
      ]
    },
    {
      "cell_type": "markdown",
      "source": [
        "Memfilter Kolom dengan Simpangan Baku < 0.1 dan menghasilkan list berupa index-index dari kolom yang akan didrop"
      ],
      "metadata": {
        "id": "1lX8gfh_FzCV"
      }
    },
    {
      "cell_type": "code",
      "source": [
        "simpangan_baku = df_train.iloc[:,:-1].std()\n",
        "drop_kolom_index = []\n",
        "\n",
        "for i in range(0,len(simpangan_baku)):\n",
        "  if (simpangan_baku[i] < 0.1):\n",
        "    drop_kolom_index.append(i)\n",
        "\n",
        "print(len(drop_kolom_index))"
      ],
      "metadata": {
        "colab": {
          "base_uri": "https://localhost:8080/"
        },
        "id": "zqd9Lo33mPSw",
        "outputId": "9c3d7bb0-d4ef-46cf-d00d-44df4d965770"
      },
      "execution_count": null,
      "outputs": [
        {
          "output_type": "stream",
          "name": "stdout",
          "text": [
            "16509\n"
          ]
        }
      ]
    },
    {
      "cell_type": "markdown",
      "source": [
        "Mengubah index yang akan didrop tersebut menjadi nama kolom"
      ],
      "metadata": {
        "id": "tt4YxHAhGCzI"
      }
    },
    {
      "cell_type": "code",
      "source": [
        "drop_kolom = []\n",
        "\n",
        "for i in range(0,len(drop_kolom_index)):\n",
        "  drop_kolom.append(df_train.columns[drop_kolom_index[i]])\n",
        "\n",
        "print(len(drop_kolom))"
      ],
      "metadata": {
        "colab": {
          "base_uri": "https://localhost:8080/"
        },
        "id": "ql2QrF1lo6sM",
        "outputId": "c63f245d-3cc9-4be6-aad4-fba90bee19b7"
      },
      "execution_count": null,
      "outputs": [
        {
          "output_type": "stream",
          "name": "stdout",
          "text": [
            "16509\n"
          ]
        }
      ]
    },
    {
      "cell_type": "markdown",
      "source": [
        "Ukuran setelah melakukan Drop"
      ],
      "metadata": {
        "id": "Nwdm0R-vGHpA"
      }
    },
    {
      "cell_type": "code",
      "source": [
        "df_train.drop(columns=drop_kolom, inplace=True)\n",
        "df_train.shape"
      ],
      "metadata": {
        "colab": {
          "base_uri": "https://localhost:8080/"
        },
        "id": "BgtVjMQwr2_M",
        "outputId": "15cb5f0a-a17d-4da7-d7ca-c22252c6b974"
      },
      "execution_count": null,
      "outputs": [
        {
          "output_type": "execute_result",
          "data": {
            "text/plain": [
              "(130, 5707)"
            ]
          },
          "metadata": {},
          "execution_count": 9
        }
      ]
    },
    {
      "cell_type": "markdown",
      "source": [
        "Visualisasi setelah dilakukan drop"
      ],
      "metadata": {
        "id": "NQoDqrJLGKdV"
      }
    },
    {
      "cell_type": "code",
      "source": [
        "df_train.iloc[:,:-1].std().plot(style='.', color='forestgreen')\n",
        "plt.xlabel('Feature Names', fontweight='bold')\n",
        "plt.ylabel('Standard Deviation Value', fontweight='bold')\n",
        "plt.ylim(0,0.6)\n",
        "plt.show()"
      ],
      "metadata": {
        "colab": {
          "base_uri": "https://localhost:8080/"
        },
        "id": "FHUfgAHEqjqH",
        "outputId": "6a0cb587-5cd8-4789-f4ba-96c05e51de10"
      },
      "execution_count": null,
      "outputs": [
        {
          "output_type": "display_data",
          "data": {
            "text/plain": [
              "<Figure size 1080x720 with 1 Axes>"
            ],
            "image/png": "[encoded data removed]"
          },
          "metadata": {}
        }
      ]
    },
    {
      "cell_type": "markdown",
      "source": [
        "## Split X_train dan y_train"
      ],
      "metadata": {
        "id": "SimEz56450hf"
      }
    },
    {
      "cell_type": "markdown",
      "source": [
        "Melakukan Split untuk X_train dan y_train"
      ],
      "metadata": {
        "id": "gZz2J7GsGtME"
      }
    },
    {
      "cell_type": "code",
      "source": [
        "X = df_train.iloc[:,:-1]\n",
        "X.head()"
      ],
      "metadata": {
        "colab": {
          "base_uri": "https://localhost:8080/"
        },
        "id": "evF6xgkCwRer",
        "outputId": "8f7e2ce8-0d4d-48cb-9397-a7845d36e590"
      },
      "execution_count": null,
      "outputs": [
        {
          "output_type": "execute_result",
          "data": {
            "text/plain": [
              "   211612_s_at  219678_x_at  217653_x_at  211996_s_at  214594_x_at  \\\n",
              "0     2.535743     2.457776     2.052387     2.873506     2.285882   \n",
              "1     2.587822     2.408562     1.957657     2.779933     2.248177   \n",
              "2     2.529666     2.447706     2.059190     2.805088     2.255567   \n",
              "3     2.274739     2.537130     2.273920     2.952965     2.554384   \n",
              "4     2.551101     2.692597     2.321532     2.887101     2.752609   \n",
              "\n",
              "   218155_x_at  202936_s_at  207730_x_at  209703_x_at  216609_at  ...  \\\n",
              "0     2.518572     2.656989     2.833421     2.448979   1.982433  ...   \n",
              "1     2.508590     2.366057     2.871436     2.460372   2.139794  ...   \n",
              "2     2.658405     2.542071     2.871085     2.435954   2.113104  ...   \n",
              "3     2.736684     2.465318     2.988069     2.551221   2.204011  ...   \n",
              "4     2.752873     2.608392     3.098642     2.643402   2.483343  ...   \n",
              "\n",
              "   205978_at  220394_at  212055_at  203460_s_at  217783_s_at  204971_at  \\\n",
              "0   1.635546   1.696228   2.724899     2.789691     3.078939   3.367350   \n",
              "1   1.619527   1.667691   2.772350     2.775073     3.123781   3.267103   \n",
              "2   1.785995   1.766007   2.499228     2.743806     3.017190   3.297073   \n",
              "3   1.732963   1.806890   2.705551     2.538612     3.057966   3.011900   \n",
              "4   1.712801   1.753526   2.646272     2.565008     3.049509   3.370768   \n",
              "\n",
              "   209395_at  208938_at  219777_at  222150_s_at  \n",
              "0   1.766702   2.000653   1.976986     2.538606  \n",
              "1   1.813445   2.000948   1.657637     2.380881  \n",
              "2   1.861616   1.705573   1.585730     2.390935  \n",
              "3   1.817295   1.936551   1.627205     2.278927  \n",
              "4   2.066245   1.859982   1.860937     2.351503  \n",
              "\n",
              "[5 rows x 5706 columns]"
            ],
            "text/html": [
              "\n",
              "  <div id=\"df-d7d2ac2b-e020-4cc9-8120-9568ee7c5858\">\n",
              "    <div class=\"colab-df-container\">\n",
              "      <div>\n",
              "<style scoped>\n",
              "    .dataframe tbody tr th:only-of-type {\n",
              "        vertical-align: middle;\n",
              "    }\n",
              "\n",
              "    .dataframe tbody tr th {\n",
              "        vertical-align: top;\n",
              "    }\n",
              "\n",
              "    .dataframe thead th {\n",
              "        text-align: right;\n",
              "    }\n",
              "</style>\n",
              "<table border=\"1\" class=\"dataframe\">\n",
              "  <thead>\n",
              "    <tr style=\"text-align: right;\">\n",
              "      <th></th>\n",
              "      <th>211612_s_at</th>\n",
              "      <th>219678_x_at</th>\n",
              "      <th>217653_x_at</th>\n",
              "      <th>211996_s_at</th>\n",
              "      <th>214594_x_at</th>\n",
              "      <th>218155_x_at</th>\n",
              "      <th>202936_s_at</th>\n",
              "      <th>207730_x_at</th>\n",
              "      <th>209703_x_at</th>\n",
              "      <th>216609_at</th>\n",
              "      <th>...</th>\n",
              "      <th>205978_at</th>\n",
              "      <th>220394_at</th>\n",
              "      <th>212055_at</th>\n",
              "      <th>203460_s_at</th>\n",
              "      <th>217783_s_at</th>\n",
              "      <th>204971_at</th>\n",
              "      <th>209395_at</th>\n",
              "      <th>208938_at</th>\n",
              "      <th>219777_at</th>\n",
              "      <th>222150_s_at</th>\n",
              "    </tr>\n",
              "  </thead>\n",
              "  <tbody>\n",
              "    <tr>\n",
              "      <th>0</th>\n",
              "      <td>2.535743</td>\n",
              "      <td>2.457776</td>\n",
              "      <td>2.052387</td>\n",
              "      <td>2.873506</td>\n",
              "      <td>2.285882</td>\n",
              "      <td>2.518572</td>\n",
              "      <td>2.656989</td>\n",
              "      <td>2.833421</td>\n",
              "      <td>2.448979</td>\n",
              "      <td>1.982433</td>\n",
              "      <td>...</td>\n",
              "      <td>1.635546</td>\n",
              "      <td>1.696228</td>\n",
              "      <td>2.724899</td>\n",
              "      <td>2.789691</td>\n",
              "      <td>3.078939</td>\n",
              "      <td>3.367350</td>\n",
              "      <td>1.766702</td>\n",
              "      <td>2.000653</td>\n",
              "      <td>1.976986</td>\n",
              "      <td>2.538606</td>\n",
              "    </tr>\n",
              "    <tr>\n",
              "      <th>1</th>\n",
              "      <td>2.587822</td>\n",
              "      <td>2.408562</td>\n",
              "      <td>1.957657</td>\n",
              "      <td>2.779933</td>\n",
              "      <td>2.248177</td>\n",
              "      <td>2.508590</td>\n",
              "      <td>2.366057</td>\n",
              "      <td>2.871436</td>\n",
              "      <td>2.460372</td>\n",
              "      <td>2.139794</td>\n",
              "      <td>...</td>\n",
              "      <td>1.619527</td>\n",
              "      <td>1.667691</td>\n",
              "      <td>2.772350</td>\n",
              "      <td>2.775073</td>\n",
              "      <td>3.123781</td>\n",
              "      <td>3.267103</td>\n",
              "      <td>1.813445</td>\n",
              "      <td>2.000948</td>\n",
              "      <td>1.657637</td>\n",
              "      <td>2.380881</td>\n",
              "    </tr>\n",
              "    <tr>\n",
              "      <th>2</th>\n",
              "      <td>2.529666</td>\n",
              "      <td>2.447706</td>\n",
              "      <td>2.059190</td>\n",
              "      <td>2.805088</td>\n",
              "      <td>2.255567</td>\n",
              "      <td>2.658405</td>\n",
              "      <td>2.542071</td>\n",
              "      <td>2.871085</td>\n",
              "      <td>2.435954</td>\n",
              "      <td>2.113104</td>\n",
              "      <td>...</td>\n",
              "      <td>1.785995</td>\n",
              "      <td>1.766007</td>\n",
              "      <td>2.499228</td>\n",
              "      <td>2.743806</td>\n",
              "      <td>3.017190</td>\n",
              "      <td>3.297073</td>\n",
              "      <td>1.861616</td>\n",
              "      <td>1.705573</td>\n",
              "      <td>1.585730</td>\n",
              "      <td>2.390935</td>\n",
              "    </tr>\n",
              "    <tr>\n",
              "      <th>3</th>\n",
              "      <td>2.274739</td>\n",
              "      <td>2.537130</td>\n",
              "      <td>2.273920</td>\n",
              "      <td>2.952965</td>\n",
              "      <td>2.554384</td>\n",
              "      <td>2.736684</td>\n",
              "      <td>2.465318</td>\n",
              "      <td>2.988069</td>\n",
              "      <td>2.551221</td>\n",
              "      <td>2.204011</td>\n",
              "      <td>...</td>\n",
              "      <td>1.732963</td>\n",
              "      <td>1.806890</td>\n",
              "      <td>2.705551</td>\n",
              "      <td>2.538612</td>\n",
              "      <td>3.057966</td>\n",
              "      <td>3.011900</td>\n",
              "      <td>1.817295</td>\n",
              "      <td>1.936551</td>\n",
              "      <td>1.627205</td>\n",
              "      <td>2.278927</td>\n",
              "    </tr>\n",
              "    <tr>\n",
              "      <th>4</th>\n",
              "      <td>2.551101</td>\n",
              "      <td>2.692597</td>\n",
              "      <td>2.321532</td>\n",
              "      <td>2.887101</td>\n",
              "      <td>2.752609</td>\n",
              "      <td>2.752873</td>\n",
              "      <td>2.608392</td>\n",
              "      <td>3.098642</td>\n",
              "      <td>2.643402</td>\n",
              "      <td>2.483343</td>\n",
              "      <td>...</td>\n",
              "      <td>1.712801</td>\n",
              "      <td>1.753526</td>\n",
              "      <td>2.646272</td>\n",
              "      <td>2.565008</td>\n",
              "      <td>3.049509</td>\n",
              "      <td>3.370768</td>\n",
              "      <td>2.066245</td>\n",
              "      <td>1.859982</td>\n",
              "      <td>1.860937</td>\n",
              "      <td>2.351503</td>\n",
              "    </tr>\n",
              "  </tbody>\n",
              "</table>\n",
              "<p>5 rows × 5706 columns</p>\n",
              "</div>\n",
              "      <button class=\"colab-df-convert\" onclick=\"convertToInteractive('df-d7d2ac2b-e020-4cc9-8120-9568ee7c5858')\"\n",
              "              title=\"Convert this dataframe to an interactive table.\"\n",
              "              style=\"display:none;\">\n",
              "        \n",
              "  <svg xmlns=\"http://www.w3.org/2000/svg\" height=\"24px\"viewBox=\"0 0 24 24\"\n",
              "       width=\"24px\">\n",
              "    <path d=\"M0 0h24v24H0V0z\" fill=\"none\"/>\n",
              "    <path d=\"M18.56 5.44l.94 2.06.94-2.06 2.06-.94-2.06-.94-.94-2.06-.94 2.06-2.06.94zm-11 1L8.5 8.5l.94-2.06 2.06-.94-2.06-.94L8.5 2.5l-.94 2.06-2.06.94zm10 10l.94 2.06.94-2.06 2.06-.94-2.06-.94-.94-2.06-.94 2.06-2.06.94z\"/><path d=\"M17.41 7.96l-1.37-1.37c-.4-.4-.92-.59-1.43-.59-.52 0-1.04.2-1.43.59L10.3 9.45l-7.72 7.72c-.78.78-.78 2.05 0 2.83L4 21.41c.39.39.9.59 1.41.59.51 0 1.02-.2 1.41-.59l7.78-7.78 2.81-2.81c.8-.78.8-2.07 0-2.86zM5.41 20L4 18.59l7.72-7.72 1.47 1.35L5.41 20z\"/>\n",
              "  </svg>\n",
              "      </button>\n",
              "      \n",
              "  <style>\n",
              "    .colab-df-container {\n",
              "      display:flex;\n",
              "      flex-wrap:wrap;\n",
              "      gap: 12px;\n",
              "    }\n",
              "\n",
              "    .colab-df-convert {\n",
              "      background-color: #E8F0FE;\n",
              "      border: none;\n",
              "      border-radius: 50%;\n",
              "      cursor: pointer;\n",
              "      display: none;\n",
              "      fill: #1967D2;\n",
              "      height: 32px;\n",
              "      padding: 0 0 0 0;\n",
              "      width: 32px;\n",
              "    }\n",
              "\n",
              "    .colab-df-convert:hover {\n",
              "      background-color: #E2EBFA;\n",
              "      box-shadow: 0px 1px 2px rgba(60, 64, 67, 0.3), 0px 1px 3px 1px rgba(60, 64, 67, 0.15);\n",
              "      fill: #174EA6;\n",
              "    }\n",
              "\n",
              "    [theme=dark] .colab-df-convert {\n",
              "      background-color: #3B4455;\n",
              "      fill: #D2E3FC;\n",
              "    }\n",
              "\n",
              "    [theme=dark] .colab-df-convert:hover {\n",
              "      background-color: #434B5C;\n",
              "      box-shadow: 0px 1px 3px 1px rgba(0, 0, 0, 0.15);\n",
              "      filter: drop-shadow(0px 1px 2px rgba(0, 0, 0, 0.3));\n",
              "      fill: #FFFFFF;\n",
              "    }\n",
              "  </style>\n",
              "\n",
              "      <script>\n",
              "        const buttonEl =\n",
              "          document.querySelector('#df-d7d2ac2b-e020-4cc9-8120-9568ee7c5858 button.colab-df-convert');\n",
              "        buttonEl.style.display =\n",
              "          google.colab.kernel.accessAllowed ? 'block' : 'none';\n",
              "\n",
              "        async function convertToInteractive(key) {\n",
              "          const element = document.querySelector('#df-d7d2ac2b-e020-4cc9-8120-9568ee7c5858');\n",
              "          const dataTable =\n",
              "            await google.colab.kernel.invokeFunction('convertToInteractive',\n",
              "                                                     [key], {});\n",
              "          if (!dataTable) return;\n",
              "\n",
              "          const docLinkHtml = 'Like what you see? Visit the ' +\n",
              "            '<a target=\"_blank\" href=https://colab.research.google.com/notebooks/data_table.ipynb>data table notebook</a>'\n",
              "            + ' to learn more about interactive tables.';\n",
              "          element.innerHTML = '';\n",
              "          dataTable['output_type'] = 'display_data';\n",
              "          await google.colab.output.renderOutput(dataTable, element);\n",
              "          const docLink = document.createElement('div');\n",
              "          docLink.innerHTML = docLinkHtml;\n",
              "          element.appendChild(docLink);\n",
              "        }\n",
              "      </script>\n",
              "    </div>\n",
              "  </div>\n",
              "  "
            ]
          },
          "metadata": {},
          "execution_count": 11
        }
      ]
    },
    {
      "cell_type": "code",
      "source": [
        "y = df_train.iloc[:,-1]\n",
        "y.head()"
      ],
      "metadata": {
        "colab": {
          "base_uri": "https://localhost:8080/"
        },
        "id": "tEO_Pnc7wio5",
        "outputId": "87c0c7cd-c76e-4c4d-89dd-eba9557fa5d1"
      },
      "execution_count": null,
      "outputs": [
        {
          "output_type": "execute_result",
          "data": {
            "text/plain": [
              "0    1\n",
              "1    1\n",
              "2    0\n",
              "3    0\n",
              "4    0\n",
              "Name: Label, dtype: int64"
            ]
          },
          "metadata": {},
          "execution_count": 12
        }
      ]
    },
    {
      "cell_type": "markdown",
      "source": [
        "## Seleksi Fitur"
      ],
      "metadata": {
        "id": "BkIAGvXSWsPt"
      }
    },
    {
      "cell_type": "markdown",
      "source": [
        "### Select KBest "
      ],
      "metadata": {
        "id": "bmWRV_B7OZxl"
      }
    },
    {
      "cell_type": "markdown",
      "source": [
        "Menentukan nilai K"
      ],
      "metadata": {
        "id": "qyXXQWq5ja53"
      }
    },
    {
      "cell_type": "code",
      "source": [
        "nilai_k = [100,200,300,400,500,600,700,800,900,1000]"
      ],
      "metadata": {
        "id": "bcBRLR9xiNAb"
      },
      "execution_count": null,
      "outputs": []
    },
    {
      "cell_type": "markdown",
      "source": [
        "Chi2"
      ],
      "metadata": {
        "id": "qF3Nv0DljdLC"
      }
    },
    {
      "cell_type": "code",
      "source": [
        "list_fitur = []\n",
        "\n",
        "for k in nilai_k:\n",
        "  seleksi_chi2 = SelectKBest(score_func=chi2, k=k)\n",
        "  hasil_chi2 = seleksi_chi2.fit(X,y)\n",
        "  list_fitur.append(list(hasil_chi2.get_feature_names_out()))\n",
        "\n",
        "for i in range(0,len(list_fitur)):\n",
        "  for j in range(0,len(list_fitur[i])):\n",
        "    if (list_fitur[i][j] == 'Label'):\n",
        "      print(i,j)"
      ],
      "metadata": {
        "id": "NcLAApAlmXBh"
      },
      "execution_count": null,
      "outputs": []
    },
    {
      "cell_type": "markdown",
      "source": [
        "Pembuatan Model"
      ],
      "metadata": {
        "id": "DWMne8_WuI7O"
      }
    },
    {
      "cell_type": "code",
      "source": [
        "rf_seleksi = RandomForestClassifier()\n",
        "ab_seleksi = AdaBoostClassifier()\n",
        "\n",
        "rf_akurasi = []\n",
        "ab_akurasi = []"
      ],
      "metadata": {
        "id": "3S2xM8GHEgjz"
      },
      "execution_count": null,
      "outputs": []
    },
    {
      "cell_type": "markdown",
      "source": [
        "### Random Forest"
      ],
      "metadata": {
        "id": "LuagEPXFuSYg"
      }
    },
    {
      "cell_type": "markdown",
      "source": [
        "Nilai Akurasi Cross Val pada masing-masing K"
      ],
      "metadata": {
        "id": "hZV3dD6KuYcU"
      }
    },
    {
      "cell_type": "code",
      "source": [
        "print(\"====================RANDOM FOREST====================\")\n",
        "for i in range(0,len(nilai_k)):\n",
        "  score = cross_val_score(rf_seleksi, X[list_fitur[i]], y, scoring=\"accuracy\", cv=10)\n",
        "  print(\"\\nNilai K=\" + str(nilai_k[i]))\n",
        "  print(\"Akurasi masing-masing = \")\n",
        "  print(score)\n",
        "  print(\"Rata-rata = \", score.mean())\n",
        "  rf_akurasi.append(score.mean())"
      ],
      "metadata": {
        "colab": {
          "base_uri": "https://localhost:8080/"
        },
        "id": "VuVIUq72D9KX",
        "outputId": "bd16247d-27f6-4466-e395-050364f1fd49"
      },
      "execution_count": null,
      "outputs": [
        {
          "output_type": "stream",
          "name": "stdout",
          "text": [
            "====================RANDOM FOREST====================\n",
            "\n",
            "Nilai K=100\n",
            "Akurasi masing-masing = \n",
            "[0.46153846 0.84615385 0.84615385 0.61538462 0.61538462 0.84615385\n",
            " 0.92307692 0.76923077 0.84615385 0.53846154]\n",
            "Rata-rata =  0.7307692307692307\n",
            "\n",
            "Nilai K=200\n",
            "Akurasi masing-masing = \n",
            "[0.53846154 0.76923077 0.76923077 0.53846154 0.46153846 0.69230769\n",
            " 0.92307692 0.92307692 0.76923077 0.53846154]\n",
            "Rata-rata =  0.6923076923076923\n",
            "\n",
            "Nilai K=300\n",
            "Akurasi masing-masing = \n",
            "[0.61538462 0.76923077 0.84615385 0.61538462 0.46153846 0.84615385\n",
            " 0.92307692 0.84615385 0.92307692 0.61538462]\n",
            "Rata-rata =  0.7461538461538462\n",
            "\n",
            "Nilai K=400\n",
            "Akurasi masing-masing = \n",
            "[0.61538462 0.84615385 0.84615385 0.53846154 0.46153846 0.69230769\n",
            " 0.92307692 0.84615385 0.84615385 0.46153846]\n",
            "Rata-rata =  0.7076923076923076\n",
            "\n",
            "Nilai K=500\n",
            "Akurasi masing-masing = \n",
            "[0.61538462 0.84615385 0.76923077 0.53846154 0.69230769 0.76923077\n",
            " 0.84615385 0.92307692 0.84615385 0.46153846]\n",
            "Rata-rata =  0.7307692307692307\n",
            "\n",
            "Nilai K=600\n",
            "Akurasi masing-masing = \n",
            "[0.61538462 0.84615385 0.84615385 0.53846154 0.61538462 0.76923077\n",
            " 0.92307692 0.92307692 0.84615385 0.53846154]\n",
            "Rata-rata =  0.7461538461538461\n",
            "\n",
            "Nilai K=700\n",
            "Akurasi masing-masing = \n",
            "[0.69230769 0.84615385 0.76923077 0.53846154 0.76923077 0.76923077\n",
            " 0.84615385 0.76923077 0.84615385 0.38461538]\n",
            "Rata-rata =  0.7230769230769231\n",
            "\n",
            "Nilai K=800\n",
            "Akurasi masing-masing = \n",
            "[0.46153846 0.84615385 0.69230769 0.61538462 0.38461538 0.69230769\n",
            " 0.92307692 0.76923077 0.84615385 0.53846154]\n",
            "Rata-rata =  0.676923076923077\n",
            "\n",
            "Nilai K=900\n",
            "Akurasi masing-masing = \n",
            "[0.61538462 0.84615385 0.84615385 0.53846154 0.76923077 0.76923077\n",
            " 0.84615385 0.92307692 0.84615385 0.46153846]\n",
            "Rata-rata =  0.7461538461538461\n",
            "\n",
            "Nilai K=1000\n",
            "Akurasi masing-masing = \n",
            "[0.61538462 0.69230769 0.84615385 0.53846154 0.69230769 0.76923077\n",
            " 0.92307692 0.76923077 0.76923077 0.46153846]\n",
            "Rata-rata =  0.7076923076923077\n"
          ]
        }
      ]
    },
    {
      "cell_type": "markdown",
      "source": [
        "Menyimpan Top 3 Features"
      ],
      "metadata": {
        "id": "5r40Asg-uhdt"
      }
    },
    {
      "cell_type": "code",
      "source": [
        "top3_rf_index = sorted(range(len(rf_akurasi)), key=lambda i: rf_akurasi[i])[-3:]\n",
        "top3_rf_index.sort()\n",
        "\n",
        "rf1_features = list_fitur[top3_rf_index[0]]\n",
        "rf2_features = list_fitur[top3_rf_index[1]]\n",
        "rf3_features = list_fitur[top3_rf_index[2]]\n",
        "\n",
        "print(\"Banyak fitur terpilih pada Random Forest: \")\n",
        "for i in range(0, len(top3_rf_index)):\n",
        "  print(\"RF\" + str(i+1) + \" =\", nilai_k[top3_rf_index[i]])"
      ],
      "metadata": {
        "colab": {
          "base_uri": "https://localhost:8080/"
        },
        "id": "poBSWJ3Yn7zV",
        "outputId": "441cd1d5-3659-4176-9ffb-0e5d99309ef0"
      },
      "execution_count": null,
      "outputs": [
        {
          "output_type": "stream",
          "name": "stdout",
          "text": [
            "Banyak fitur terpilih pada Random Forest: \n",
            "RF1 = 300\n",
            "RF2 = 600\n",
            "RF3 = 900\n"
          ]
        }
      ]
    },
    {
      "cell_type": "markdown",
      "source": [
        "### AdaBoost"
      ],
      "metadata": {
        "id": "GYAOIGl6ugB6"
      }
    },
    {
      "cell_type": "markdown",
      "source": [
        "Nilai Akurasi Cross val pada masing-masing K"
      ],
      "metadata": {
        "id": "KB3zjNCoum3b"
      }
    },
    {
      "cell_type": "code",
      "source": [
        "print(\"====================ADABOOST====================\")\n",
        "for i in range(0,len(nilai_k)):\n",
        "  score = cross_val_score(ab_seleksi, X[list_fitur[i]], y, scoring=\"accuracy\", cv=10)\n",
        "  print(\"\\nNilai K=\" + str(nilai_k[i]))\n",
        "  print(\"Akurasi masing-masing = \")\n",
        "  print(score)\n",
        "  print(\"Rata-rata = \", score.mean())\n",
        "  ab_akurasi.append(score.mean())"
      ],
      "metadata": {
        "colab": {
          "base_uri": "https://localhost:8080/"
        },
        "id": "wBXbsqxOcMkN",
        "outputId": "6e22ec1c-cac2-4c66-bb9d-bd4ebcea2448"
      },
      "execution_count": null,
      "outputs": [
        {
          "output_type": "stream",
          "name": "stdout",
          "text": [
            "====================ADABOOST====================\n",
            "\n",
            "Nilai K=100\n",
            "Akurasi masing-masing = \n",
            "[0.69230769 0.76923077 0.69230769 0.61538462 0.30769231 0.76923077\n",
            " 0.76923077 0.92307692 0.84615385 0.61538462]\n",
            "Rata-rata =  0.7\n",
            "\n",
            "Nilai K=200\n",
            "Akurasi masing-masing = \n",
            "[0.84615385 0.76923077 0.53846154 0.46153846 0.61538462 0.69230769\n",
            " 0.92307692 0.84615385 0.84615385 0.69230769]\n",
            "Rata-rata =  0.723076923076923\n",
            "\n",
            "Nilai K=300\n",
            "Akurasi masing-masing = \n",
            "[0.69230769 0.61538462 0.61538462 0.46153846 0.61538462 0.76923077\n",
            " 0.92307692 0.84615385 0.69230769 0.46153846]\n",
            "Rata-rata =  0.6692307692307693\n",
            "\n",
            "Nilai K=400\n",
            "Akurasi masing-masing = \n",
            "[0.76923077 0.76923077 0.61538462 0.53846154 0.61538462 0.69230769\n",
            " 0.84615385 0.76923077 0.76923077 0.30769231]\n",
            "Rata-rata =  0.6692307692307693\n",
            "\n",
            "Nilai K=500\n",
            "Akurasi masing-masing = \n",
            "[0.61538462 0.84615385 0.46153846 0.38461538 0.61538462 0.61538462\n",
            " 0.84615385 0.84615385 0.84615385 0.46153846]\n",
            "Rata-rata =  0.653846153846154\n",
            "\n",
            "Nilai K=600\n",
            "Akurasi masing-masing = \n",
            "[0.53846154 0.76923077 0.53846154 0.53846154 0.46153846 0.69230769\n",
            " 0.76923077 0.92307692 0.76923077 0.46153846]\n",
            "Rata-rata =  0.6461538461538462\n",
            "\n",
            "Nilai K=700\n",
            "Akurasi masing-masing = \n",
            "[0.76923077 0.69230769 0.61538462 0.38461538 0.53846154 0.61538462\n",
            " 0.76923077 0.92307692 0.84615385 0.61538462]\n",
            "Rata-rata =  0.676923076923077\n",
            "\n",
            "Nilai K=800\n",
            "Akurasi masing-masing = \n",
            "[0.61538462 0.61538462 0.46153846 0.53846154 0.38461538 0.69230769\n",
            " 0.92307692 0.84615385 0.84615385 0.61538462]\n",
            "Rata-rata =  0.6538461538461539\n",
            "\n",
            "Nilai K=900\n",
            "Akurasi masing-masing = \n",
            "[0.76923077 0.61538462 0.53846154 0.46153846 0.53846154 0.61538462\n",
            " 0.61538462 0.76923077 0.92307692 0.61538462]\n",
            "Rata-rata =  0.6461538461538462\n",
            "\n",
            "Nilai K=1000\n",
            "Akurasi masing-masing = \n",
            "[0.84615385 0.69230769 0.69230769 0.46153846 0.53846154 0.61538462\n",
            " 0.69230769 0.76923077 0.76923077 0.61538462]\n",
            "Rata-rata =  0.6692307692307692\n"
          ]
        }
      ]
    },
    {
      "cell_type": "code",
      "source": [
        "top3_ab_index = sorted(range(len(ab_akurasi)), key=lambda i: ab_akurasi[i])[-3:]\n",
        "top3_ab_index.sort()\n",
        "\n",
        "ab1_features = list_fitur[top3_ab_index[0]]\n",
        "ab2_features = list_fitur[top3_ab_index[1]]\n",
        "ab3_features = list_fitur[top3_ab_index[2]]\n",
        "\n",
        "print(\"Banyak fitur terpilih pada AdaBoost: \")\n",
        "for i in range(0, len(top3_ab_index)):\n",
        "  print(\"AB\" + str(i+1) + \" =\", nilai_k[top3_ab_index[i]])"
      ],
      "metadata": {
        "colab": {
          "base_uri": "https://localhost:8080/"
        },
        "id": "xa3A4wzFu0ck",
        "outputId": "52dc6ada-7789-43d9-c82b-ab740d0957c8"
      },
      "execution_count": null,
      "outputs": [
        {
          "output_type": "stream",
          "name": "stdout",
          "text": [
            "Banyak fitur terpilih pada AdaBoost: \n",
            "AB1 = 100\n",
            "AB2 = 200\n",
            "AB3 = 700\n"
          ]
        }
      ]
    },
    {
      "cell_type": "markdown",
      "source": [
        "### Visualisasi Akurasi Cross Val Model terhadap Banyak Fitur"
      ],
      "metadata": {
        "id": "hhzyvNaivgg-"
      }
    },
    {
      "cell_type": "code",
      "source": [
        "plt.plot(nilai_k, rf_akurasi, linewidth=4, marker='o', color='forestgreen')\n",
        "plt.plot(nilai_k, ab_akurasi, linewidth=4, marker='o', color='goldenrod')\n",
        "plt.xlabel('Number of Features', fontweight='bold')\n",
        "plt.ylabel('Accuracy', fontweight='bold')\n",
        "plt.legend(['Random Forest', 'AdaBoost'])\n",
        "plt.show()"
      ],
      "metadata": {
        "colab": {
          "base_uri": "https://localhost:8080/",
          "height": 609
        },
        "id": "BiN65_cOIqnm",
        "outputId": "5b6760f7-5ec5-42b5-c518-b2723a6cc81b"
      },
      "execution_count": null,
      "outputs": [
        {
          "output_type": "display_data",
          "data": {
            "text/plain": [
              "<Figure size 1080x720 with 1 Axes>"
            ],
            "image/png": "[encoded data removed]"
          },
          "metadata": {}
        }
      ]
    },
    {
      "cell_type": "markdown",
      "source": [
        "Append dengan Label"
      ],
      "metadata": {
        "id": "8gnFRHtBHNkZ"
      }
    },
    {
      "cell_type": "code",
      "source": [
        "rf1_features.append('Label')\n",
        "rf2_features.append('Label')\n",
        "rf3_features.append('Label')\n",
        "ab1_features.append('Label')\n",
        "ab2_features.append('Label')\n",
        "ab3_features.append('Label')"
      ],
      "metadata": {
        "id": "deDs9FDi3pie"
      },
      "execution_count": null,
      "outputs": []
    },
    {
      "cell_type": "markdown",
      "source": [
        "Menjamin agar tidak ada nama yang sama"
      ],
      "metadata": {
        "id": "wfgP5VwR8MTy"
      }
    },
    {
      "cell_type": "code",
      "source": [
        "rf1_features = list(dict.fromkeys(rf1_features))\n",
        "rf2_features = list(dict.fromkeys(rf2_features))\n",
        "rf3_features = list(dict.fromkeys(rf3_features))\n",
        "ab1_features = list(dict.fromkeys(ab1_features))\n",
        "ab2_features = list(dict.fromkeys(ab2_features))\n",
        "ab3_features = list(dict.fromkeys(ab3_features))"
      ],
      "metadata": {
        "id": "VUqEmgRS7H2F"
      },
      "execution_count": null,
      "outputs": []
    },
    {
      "cell_type": "markdown",
      "source": [
        "Banyak kolom (termasuk Label)"
      ],
      "metadata": {
        "id": "1b4JTvTk8WNE"
      }
    },
    {
      "cell_type": "code",
      "source": [
        "print(len(rf1_features))\n",
        "print(len(rf2_features))\n",
        "print(len(rf3_features))\n",
        "print(len(ab1_features))\n",
        "print(len(ab2_features))\n",
        "print(len(ab3_features))"
      ],
      "metadata": {
        "colab": {
          "base_uri": "https://localhost:8080/"
        },
        "id": "AleTVrKF7YKC",
        "outputId": "efdbc0e6-2e34-4e37-f44d-34ecb9390566"
      },
      "execution_count": null,
      "outputs": [
        {
          "output_type": "stream",
          "name": "stdout",
          "text": [
            "301\n",
            "601\n",
            "901\n",
            "101\n",
            "201\n",
            "701\n"
          ]
        }
      ]
    },
    {
      "cell_type": "markdown",
      "source": [
        "Melihat contoh Dataframe yang sudah diseleksi fitur"
      ],
      "metadata": {
        "id": "uUSj_e-58aOD"
      }
    },
    {
      "cell_type": "code",
      "source": [
        "df_feature = df_train[rf3_features]\n",
        "df_feature.head()"
      ],
      "metadata": {
        "colab": {
          "base_uri": "https://localhost:8080/",
          "height": 300
        },
        "id": "mKdcTcvJ3296",
        "outputId": "a570af83-93b8-40eb-8498-816336cc2b1e"
      },
      "execution_count": null,
      "outputs": [
        {
          "output_type": "execute_result",
          "data": {
            "text/plain": [
              "   211612_s_at  219678_x_at  217653_x_at  211996_s_at  214594_x_at  \\\n",
              "0     2.535743     2.457776     2.052387     2.873506     2.285882   \n",
              "1     2.587822     2.408562     1.957657     2.779933     2.248177   \n",
              "2     2.529666     2.447706     2.059190     2.805088     2.255567   \n",
              "3     2.274739     2.537130     2.273920     2.952965     2.554384   \n",
              "4     2.551101     2.692597     2.321532     2.887101     2.752609   \n",
              "\n",
              "   218155_x_at  202936_s_at  207730_x_at  209703_x_at  216609_at  ...  \\\n",
              "0     2.518572     2.656989     2.833421     2.448979   1.982433  ...   \n",
              "1     2.508590     2.366057     2.871436     2.460372   2.139794  ...   \n",
              "2     2.658405     2.542071     2.871085     2.435954   2.113104  ...   \n",
              "3     2.736684     2.465318     2.988069     2.551221   2.204011  ...   \n",
              "4     2.752873     2.608392     3.098642     2.643402   2.483343  ...   \n",
              "\n",
              "   203290_at  210064_s_at  213668_s_at  202173_s_at  43544_at  201324_at  \\\n",
              "0   2.234970     3.122554     2.321798     2.154980  2.740056   1.712145   \n",
              "1   2.157700     3.221756     2.254661     2.231532  2.753174   1.503306   \n",
              "2   2.291107     3.190819     2.133749     2.242538  2.636099   1.633511   \n",
              "3   2.367685     2.812985     2.272442     2.062988  2.846455   1.436609   \n",
              "4   2.486182     3.232683     2.223057     2.249837  2.681201   1.847065   \n",
              "\n",
              "   216841_s_at  206149_at  205681_at  Label  \n",
              "0     2.341958   3.059717   2.352974      1  \n",
              "1     2.303909   2.702865   2.804416      1  \n",
              "2     2.400200   2.927471   2.320344      0  \n",
              "3     1.886354   2.842158   1.897309      0  \n",
              "4     2.190492   2.959261   2.686662      0  \n",
              "\n",
              "[5 rows x 901 columns]"
            ],
            "text/html": [
              "\n",
              "  <div id=\"df-11d8bc40-3b99-4b6a-ada8-114770d8d539\">\n",
              "    <div class=\"colab-df-container\">\n",
              "      <div>\n",
              "<style scoped>\n",
              "    .dataframe tbody tr th:only-of-type {\n",
              "        vertical-align: middle;\n",
              "    }\n",
              "\n",
              "    .dataframe tbody tr th {\n",
              "        vertical-align: top;\n",
              "    }\n",
              "\n",
              "    .dataframe thead th {\n",
              "        text-align: right;\n",
              "    }\n",
              "</style>\n",
              "<table border=\"1\" class=\"dataframe\">\n",
              "  <thead>\n",
              "    <tr style=\"text-align: right;\">\n",
              "      <th></th>\n",
              "      <th>211612_s_at</th>\n",
              "      <th>219678_x_at</th>\n",
              "      <th>217653_x_at</th>\n",
              "      <th>211996_s_at</th>\n",
              "      <th>214594_x_at</th>\n",
              "      <th>218155_x_at</th>\n",
              "      <th>202936_s_at</th>\n",
              "      <th>207730_x_at</th>\n",
              "      <th>209703_x_at</th>\n",
              "      <th>216609_at</th>\n",
              "      <th>...</th>\n",
              "      <th>203290_at</th>\n",
              "      <th>210064_s_at</th>\n",
              "      <th>213668_s_at</th>\n",
              "      <th>202173_s_at</th>\n",
              "      <th>43544_at</th>\n",
              "      <th>201324_at</th>\n",
              "      <th>216841_s_at</th>\n",
              "      <th>206149_at</th>\n",
              "      <th>205681_at</th>\n",
              "      <th>Label</th>\n",
              "    </tr>\n",
              "  </thead>\n",
              "  <tbody>\n",
              "    <tr>\n",
              "      <th>0</th>\n",
              "      <td>2.535743</td>\n",
              "      <td>2.457776</td>\n",
              "      <td>2.052387</td>\n",
              "      <td>2.873506</td>\n",
              "      <td>2.285882</td>\n",
              "      <td>2.518572</td>\n",
              "      <td>2.656989</td>\n",
              "      <td>2.833421</td>\n",
              "      <td>2.448979</td>\n",
              "      <td>1.982433</td>\n",
              "      <td>...</td>\n",
              "      <td>2.234970</td>\n",
              "      <td>3.122554</td>\n",
              "      <td>2.321798</td>\n",
              "      <td>2.154980</td>\n",
              "      <td>2.740056</td>\n",
              "      <td>1.712145</td>\n",
              "      <td>2.341958</td>\n",
              "      <td>3.059717</td>\n",
              "      <td>2.352974</td>\n",
              "      <td>1</td>\n",
              "    </tr>\n",
              "    <tr>\n",
              "      <th>1</th>\n",
              "      <td>2.587822</td>\n",
              "      <td>2.408562</td>\n",
              "      <td>1.957657</td>\n",
              "      <td>2.779933</td>\n",
              "      <td>2.248177</td>\n",
              "      <td>2.508590</td>\n",
              "      <td>2.366057</td>\n",
              "      <td>2.871436</td>\n",
              "      <td>2.460372</td>\n",
              "      <td>2.139794</td>\n",
              "      <td>...</td>\n",
              "      <td>2.157700</td>\n",
              "      <td>3.221756</td>\n",
              "      <td>2.254661</td>\n",
              "      <td>2.231532</td>\n",
              "      <td>2.753174</td>\n",
              "      <td>1.503306</td>\n",
              "      <td>2.303909</td>\n",
              "      <td>2.702865</td>\n",
              "      <td>2.804416</td>\n",
              "      <td>1</td>\n",
              "    </tr>\n",
              "    <tr>\n",
              "      <th>2</th>\n",
              "      <td>2.529666</td>\n",
              "      <td>2.447706</td>\n",
              "      <td>2.059190</td>\n",
              "      <td>2.805088</td>\n",
              "      <td>2.255567</td>\n",
              "      <td>2.658405</td>\n",
              "      <td>2.542071</td>\n",
              "      <td>2.871085</td>\n",
              "      <td>2.435954</td>\n",
              "      <td>2.113104</td>\n",
              "      <td>...</td>\n",
              "      <td>2.291107</td>\n",
              "      <td>3.190819</td>\n",
              "      <td>2.133749</td>\n",
              "      <td>2.242538</td>\n",
              "      <td>2.636099</td>\n",
              "      <td>1.633511</td>\n",
              "      <td>2.400200</td>\n",
              "      <td>2.927471</td>\n",
              "      <td>2.320344</td>\n",
              "      <td>0</td>\n",
              "    </tr>\n",
              "    <tr>\n",
              "      <th>3</th>\n",
              "      <td>2.274739</td>\n",
              "      <td>2.537130</td>\n",
              "      <td>2.273920</td>\n",
              "      <td>2.952965</td>\n",
              "      <td>2.554384</td>\n",
              "      <td>2.736684</td>\n",
              "      <td>2.465318</td>\n",
              "      <td>2.988069</td>\n",
              "      <td>2.551221</td>\n",
              "      <td>2.204011</td>\n",
              "      <td>...</td>\n",
              "      <td>2.367685</td>\n",
              "      <td>2.812985</td>\n",
              "      <td>2.272442</td>\n",
              "      <td>2.062988</td>\n",
              "      <td>2.846455</td>\n",
              "      <td>1.436609</td>\n",
              "      <td>1.886354</td>\n",
              "      <td>2.842158</td>\n",
              "      <td>1.897309</td>\n",
              "      <td>0</td>\n",
              "    </tr>\n",
              "    <tr>\n",
              "      <th>4</th>\n",
              "      <td>2.551101</td>\n",
              "      <td>2.692597</td>\n",
              "      <td>2.321532</td>\n",
              "      <td>2.887101</td>\n",
              "      <td>2.752609</td>\n",
              "      <td>2.752873</td>\n",
              "      <td>2.608392</td>\n",
              "      <td>3.098642</td>\n",
              "      <td>2.643402</td>\n",
              "      <td>2.483343</td>\n",
              "      <td>...</td>\n",
              "      <td>2.486182</td>\n",
              "      <td>3.232683</td>\n",
              "      <td>2.223057</td>\n",
              "      <td>2.249837</td>\n",
              "      <td>2.681201</td>\n",
              "      <td>1.847065</td>\n",
              "      <td>2.190492</td>\n",
              "      <td>2.959261</td>\n",
              "      <td>2.686662</td>\n",
              "      <td>0</td>\n",
              "    </tr>\n",
              "  </tbody>\n",
              "</table>\n",
              "<p>5 rows × 901 columns</p>\n",
              "</div>\n",
              "      <button class=\"colab-df-convert\" onclick=\"convertToInteractive('df-11d8bc40-3b99-4b6a-ada8-114770d8d539')\"\n",
              "              title=\"Convert this dataframe to an interactive table.\"\n",
              "              style=\"display:none;\">\n",
              "        \n",
              "  <svg xmlns=\"http://www.w3.org/2000/svg\" height=\"24px\"viewBox=\"0 0 24 24\"\n",
              "       width=\"24px\">\n",
              "    <path d=\"M0 0h24v24H0V0z\" fill=\"none\"/>\n",
              "    <path d=\"M18.56 5.44l.94 2.06.94-2.06 2.06-.94-2.06-.94-.94-2.06-.94 2.06-2.06.94zm-11 1L8.5 8.5l.94-2.06 2.06-.94-2.06-.94L8.5 2.5l-.94 2.06-2.06.94zm10 10l.94 2.06.94-2.06 2.06-.94-2.06-.94-.94-2.06-.94 2.06-2.06.94z\"/><path d=\"M17.41 7.96l-1.37-1.37c-.4-.4-.92-.59-1.43-.59-.52 0-1.04.2-1.43.59L10.3 9.45l-7.72 7.72c-.78.78-.78 2.05 0 2.83L4 21.41c.39.39.9.59 1.41.59.51 0 1.02-.2 1.41-.59l7.78-7.78 2.81-2.81c.8-.78.8-2.07 0-2.86zM5.41 20L4 18.59l7.72-7.72 1.47 1.35L5.41 20z\"/>\n",
              "  </svg>\n",
              "      </button>\n",
              "      \n",
              "  <style>\n",
              "    .colab-df-container {\n",
              "      display:flex;\n",
              "      flex-wrap:wrap;\n",
              "      gap: 12px;\n",
              "    }\n",
              "\n",
              "    .colab-df-convert {\n",
              "      background-color: #E8F0FE;\n",
              "      border: none;\n",
              "      border-radius: 50%;\n",
              "      cursor: pointer;\n",
              "      display: none;\n",
              "      fill: #1967D2;\n",
              "      height: 32px;\n",
              "      padding: 0 0 0 0;\n",
              "      width: 32px;\n",
              "    }\n",
              "\n",
              "    .colab-df-convert:hover {\n",
              "      background-color: #E2EBFA;\n",
              "      box-shadow: 0px 1px 2px rgba(60, 64, 67, 0.3), 0px 1px 3px 1px rgba(60, 64, 67, 0.15);\n",
              "      fill: #174EA6;\n",
              "    }\n",
              "\n",
              "    [theme=dark] .colab-df-convert {\n",
              "      background-color: #3B4455;\n",
              "      fill: #D2E3FC;\n",
              "    }\n",
              "\n",
              "    [theme=dark] .colab-df-convert:hover {\n",
              "      background-color: #434B5C;\n",
              "      box-shadow: 0px 1px 3px 1px rgba(0, 0, 0, 0.15);\n",
              "      filter: drop-shadow(0px 1px 2px rgba(0, 0, 0, 0.3));\n",
              "      fill: #FFFFFF;\n",
              "    }\n",
              "  </style>\n",
              "\n",
              "      <script>\n",
              "        const buttonEl =\n",
              "          document.querySelector('#df-11d8bc40-3b99-4b6a-ada8-114770d8d539 button.colab-df-convert');\n",
              "        buttonEl.style.display =\n",
              "          google.colab.kernel.accessAllowed ? 'block' : 'none';\n",
              "\n",
              "        async function convertToInteractive(key) {\n",
              "          const element = document.querySelector('#df-11d8bc40-3b99-4b6a-ada8-114770d8d539');\n",
              "          const dataTable =\n",
              "            await google.colab.kernel.invokeFunction('convertToInteractive',\n",
              "                                                     [key], {});\n",
              "          if (!dataTable) return;\n",
              "\n",
              "          const docLinkHtml = 'Like what you see? Visit the ' +\n",
              "            '<a target=\"_blank\" href=https://colab.research.google.com/notebooks/data_table.ipynb>data table notebook</a>'\n",
              "            + ' to learn more about interactive tables.';\n",
              "          element.innerHTML = '';\n",
              "          dataTable['output_type'] = 'display_data';\n",
              "          await google.colab.output.renderOutput(dataTable, element);\n",
              "          const docLink = document.createElement('div');\n",
              "          docLink.innerHTML = docLinkHtml;\n",
              "          element.appendChild(docLink);\n",
              "        }\n",
              "      </script>\n",
              "    </div>\n",
              "  </div>\n",
              "  "
            ]
          },
          "metadata": {},
          "execution_count": 69
        }
      ]
    },
    {
      "cell_type": "markdown",
      "source": [
        "## Export"
      ],
      "metadata": {
        "id": "9a-gZLxmRMdV"
      }
    },
    {
      "cell_type": "markdown",
      "source": [
        "Melakukan Export untuk best feature"
      ],
      "metadata": {
        "id": "L_i0yYAaRPUB"
      }
    },
    {
      "cell_type": "code",
      "source": [
        "joblib.dump(rf1_features, 'rf1_features.pkl')\n",
        "joblib.dump(rf2_features, 'rf2_features.pkl')\n",
        "joblib.dump(rf3_features, 'rf3_features.pkl')\n",
        "joblib.dump(ab1_features, 'ab1_features.pkl')\n",
        "joblib.dump(ab2_features, 'ab2_features.pkl')\n",
        "joblib.dump(ab3_features, 'ab3_features.pkl')"
      ],
      "metadata": {
        "id": "ZX9Iiwi6RfJJ",
        "colab": {
          "base_uri": "https://localhost:8080/"
        },
        "outputId": "b1a68819-cac1-42c5-a37d-f4b93fe8359a"
      },
      "execution_count": null,
      "outputs": [
        {
          "output_type": "execute_result",
          "data": {
            "text/plain": [
              "['ab3_features.pkl']"
            ]
          },
          "metadata": {},
          "execution_count": 70
        }
      ]
    }
  ]
}